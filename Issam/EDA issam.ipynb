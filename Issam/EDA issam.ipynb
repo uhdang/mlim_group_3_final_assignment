{
 "cells": [
  {
   "cell_type": "code",
   "execution_count": 2,
   "metadata": {},
   "outputs": [],
   "source": [
    "import pyarrow.parquet as pq\n",
    "import numpy as np\n",
    "import pandas as pd\n",
    "import pyarrow as pa\n",
    "import matplotlib.pyplot as plt\n",
    "import random\n",
    "import seaborn as sns"
   ]
  },
  {
   "cell_type": "code",
   "execution_count": 2,
   "metadata": {},
   "outputs": [
    {
     "data": {
      "text/plain": [
       "WindowsPath('C:/Users/issam/Downloads/Final Assignment mlim 4')"
      ]
     },
     "execution_count": 2,
     "metadata": {},
     "output_type": "execute_result"
    }
   ],
   "source": [
    "import pathlib\n",
    "pathlib.Path().absolute()"
   ]
  },
  {
   "cell_type": "code",
   "execution_count": 3,
   "metadata": {},
   "outputs": [],
   "source": [
    "baskets = pd.read_parquet('C:/Users/issam/Downloads/Final Assignment mlim 4/baskets.parquet')"
   ]
  },
  {
   "cell_type": "code",
   "execution_count": 4,
   "metadata": {},
   "outputs": [],
   "source": [
    "coupons = pd.read_parquet('C:/Users/issam/Downloads/Final Assignment mlim 4/coupons.parquet')"
   ]
  },
  {
   "cell_type": "code",
   "execution_count": null,
   "metadata": {},
   "outputs": [],
   "source": [
    "# coup_index = pd.read_parquet('C:/Users/issam/Downloads/Final Assignment mlim 4/coupon_index.parquet')"
   ]
  },
  {
   "cell_type": "code",
   "execution_count": 5,
   "metadata": {},
   "outputs": [
    {
     "name": "stdout",
     "output_type": "stream",
     "text": [
      "Dimensionality of the baskets data is (68841598, 4)\n",
      "Dimensionality of the coupons data is (45000000, 4)\n",
      " \n",
      "The total number of elements of baskets is 275366392.\n",
      "The total number of elements of coupons is 180000000.\n"
     ]
    }
   ],
   "source": [
    "print(f\"Dimensionality of the baskets data is {baskets.shape}\")\n",
    "print('Dimensionality of the coupons data is {}'.format(coupons.shape))\n",
    "print(' ')\n",
    "print('The total number of elements of baskets is {}.'.format(baskets.size))\n",
    "print('The total number of elements of coupons is {}.'.format(coupons.size))"
   ]
  },
  {
   "cell_type": "code",
   "execution_count": null,
   "metadata": {},
   "outputs": [],
   "source": [
    "# try the f string"
   ]
  },
  {
   "cell_type": "code",
   "execution_count": 6,
   "metadata": {},
   "outputs": [
    {
     "data": {
      "text/html": [
       "<div>\n",
       "<style scoped>\n",
       "    .dataframe tbody tr th:only-of-type {\n",
       "        vertical-align: middle;\n",
       "    }\n",
       "\n",
       "    .dataframe tbody tr th {\n",
       "        vertical-align: top;\n",
       "    }\n",
       "\n",
       "    .dataframe thead th {\n",
       "        text-align: right;\n",
       "    }\n",
       "</style>\n",
       "<table border=\"1\" class=\"dataframe\">\n",
       "  <thead>\n",
       "    <tr style=\"text-align: right;\">\n",
       "      <th></th>\n",
       "      <th>week</th>\n",
       "      <th>shopper</th>\n",
       "      <th>product</th>\n",
       "      <th>price</th>\n",
       "    </tr>\n",
       "  </thead>\n",
       "  <tbody>\n",
       "    <tr>\n",
       "      <th>68841578</th>\n",
       "      <td>89</td>\n",
       "      <td>99997</td>\n",
       "      <td>142</td>\n",
       "      <td>551</td>\n",
       "    </tr>\n",
       "    <tr>\n",
       "      <th>68841579</th>\n",
       "      <td>89</td>\n",
       "      <td>99997</td>\n",
       "      <td>175</td>\n",
       "      <td>692</td>\n",
       "    </tr>\n",
       "    <tr>\n",
       "      <th>68841580</th>\n",
       "      <td>89</td>\n",
       "      <td>99997</td>\n",
       "      <td>214</td>\n",
       "      <td>505</td>\n",
       "    </tr>\n",
       "    <tr>\n",
       "      <th>68841581</th>\n",
       "      <td>89</td>\n",
       "      <td>99997</td>\n",
       "      <td>229</td>\n",
       "      <td>643</td>\n",
       "    </tr>\n",
       "    <tr>\n",
       "      <th>68841582</th>\n",
       "      <td>89</td>\n",
       "      <td>99998</td>\n",
       "      <td>6</td>\n",
       "      <td>568</td>\n",
       "    </tr>\n",
       "    <tr>\n",
       "      <th>68841583</th>\n",
       "      <td>89</td>\n",
       "      <td>99998</td>\n",
       "      <td>42</td>\n",
       "      <td>527</td>\n",
       "    </tr>\n",
       "    <tr>\n",
       "      <th>68841584</th>\n",
       "      <td>89</td>\n",
       "      <td>99998</td>\n",
       "      <td>64</td>\n",
       "      <td>575</td>\n",
       "    </tr>\n",
       "    <tr>\n",
       "      <th>68841585</th>\n",
       "      <td>89</td>\n",
       "      <td>99998</td>\n",
       "      <td>122</td>\n",
       "      <td>660</td>\n",
       "    </tr>\n",
       "    <tr>\n",
       "      <th>68841586</th>\n",
       "      <td>89</td>\n",
       "      <td>99998</td>\n",
       "      <td>165</td>\n",
       "      <td>550</td>\n",
       "    </tr>\n",
       "    <tr>\n",
       "      <th>68841587</th>\n",
       "      <td>89</td>\n",
       "      <td>99998</td>\n",
       "      <td>205</td>\n",
       "      <td>419</td>\n",
       "    </tr>\n",
       "    <tr>\n",
       "      <th>68841588</th>\n",
       "      <td>89</td>\n",
       "      <td>99999</td>\n",
       "      <td>48</td>\n",
       "      <td>465</td>\n",
       "    </tr>\n",
       "    <tr>\n",
       "      <th>68841589</th>\n",
       "      <td>89</td>\n",
       "      <td>99999</td>\n",
       "      <td>71</td>\n",
       "      <td>629</td>\n",
       "    </tr>\n",
       "    <tr>\n",
       "      <th>68841590</th>\n",
       "      <td>89</td>\n",
       "      <td>99999</td>\n",
       "      <td>80</td>\n",
       "      <td>614</td>\n",
       "    </tr>\n",
       "    <tr>\n",
       "      <th>68841591</th>\n",
       "      <td>89</td>\n",
       "      <td>99999</td>\n",
       "      <td>110</td>\n",
       "      <td>581</td>\n",
       "    </tr>\n",
       "    <tr>\n",
       "      <th>68841592</th>\n",
       "      <td>89</td>\n",
       "      <td>99999</td>\n",
       "      <td>129</td>\n",
       "      <td>540</td>\n",
       "    </tr>\n",
       "    <tr>\n",
       "      <th>68841593</th>\n",
       "      <td>89</td>\n",
       "      <td>99999</td>\n",
       "      <td>143</td>\n",
       "      <td>470</td>\n",
       "    </tr>\n",
       "    <tr>\n",
       "      <th>68841594</th>\n",
       "      <td>89</td>\n",
       "      <td>99999</td>\n",
       "      <td>158</td>\n",
       "      <td>566</td>\n",
       "    </tr>\n",
       "    <tr>\n",
       "      <th>68841595</th>\n",
       "      <td>89</td>\n",
       "      <td>99999</td>\n",
       "      <td>186</td>\n",
       "      <td>499</td>\n",
       "    </tr>\n",
       "    <tr>\n",
       "      <th>68841596</th>\n",
       "      <td>89</td>\n",
       "      <td>99999</td>\n",
       "      <td>204</td>\n",
       "      <td>496</td>\n",
       "    </tr>\n",
       "    <tr>\n",
       "      <th>68841597</th>\n",
       "      <td>89</td>\n",
       "      <td>99999</td>\n",
       "      <td>225</td>\n",
       "      <td>602</td>\n",
       "    </tr>\n",
       "  </tbody>\n",
       "</table>\n",
       "</div>"
      ],
      "text/plain": [
       "          week  shopper  product  price\n",
       "68841578    89    99997      142    551\n",
       "68841579    89    99997      175    692\n",
       "68841580    89    99997      214    505\n",
       "68841581    89    99997      229    643\n",
       "68841582    89    99998        6    568\n",
       "68841583    89    99998       42    527\n",
       "68841584    89    99998       64    575\n",
       "68841585    89    99998      122    660\n",
       "68841586    89    99998      165    550\n",
       "68841587    89    99998      205    419\n",
       "68841588    89    99999       48    465\n",
       "68841589    89    99999       71    629\n",
       "68841590    89    99999       80    614\n",
       "68841591    89    99999      110    581\n",
       "68841592    89    99999      129    540\n",
       "68841593    89    99999      143    470\n",
       "68841594    89    99999      158    566\n",
       "68841595    89    99999      186    499\n",
       "68841596    89    99999      204    496\n",
       "68841597    89    99999      225    602"
      ]
     },
     "execution_count": 6,
     "metadata": {},
     "output_type": "execute_result"
    }
   ],
   "source": [
    "baskets.tail(20)"
   ]
  },
  {
   "cell_type": "code",
   "execution_count": 7,
   "metadata": {},
   "outputs": [
    {
     "name": "stdout",
     "output_type": "stream",
     "text": [
      "We have 100000 shoppers in the data set\n",
      "We have 250 products in the data set\n"
     ]
    }
   ],
   "source": [
    "print('We have {} shoppers in the data set'.format(baskets['shopper'].nunique()))\n",
    "print('We have {} products in the data set'.format(baskets['product'].nunique()))"
   ]
  },
  {
   "cell_type": "code",
   "execution_count": null,
   "metadata": {},
   "outputs": [],
   "source": []
  },
  {
   "cell_type": "code",
   "execution_count": 8,
   "metadata": {},
   "outputs": [],
   "source": [
    "# what about reduced shoppers?"
   ]
  },
  {
   "cell_type": "code",
   "execution_count": 9,
   "metadata": {},
   "outputs": [],
   "source": [
    "df_b = baskets[baskets.shopper==12]\n",
    "df_c = coupons[coupons.shopper==12]"
   ]
  },
  {
   "cell_type": "code",
   "execution_count": 10,
   "metadata": {},
   "outputs": [
    {
     "data": {
      "text/plain": [
       "week       90\n",
       "shopper     1\n",
       "product    60\n",
       "price      71\n",
       "dtype: int64"
      ]
     },
     "execution_count": 10,
     "metadata": {},
     "output_type": "execute_result"
    }
   ],
   "source": [
    "df_b.nunique()"
   ]
  },
  {
   "cell_type": "code",
   "execution_count": 11,
   "metadata": {},
   "outputs": [
    {
     "data": {
      "text/plain": [
       "week         90\n",
       "shopper       1\n",
       "product     212\n",
       "discount      7\n",
       "dtype: int64"
      ]
     },
     "execution_count": 11,
     "metadata": {},
     "output_type": "execute_result"
    }
   ],
   "source": [
    "df_c.nunique()"
   ]
  },
  {
   "cell_type": "code",
   "execution_count": 12,
   "metadata": {},
   "outputs": [],
   "source": [
    "#are the product in both files are different or the same?"
   ]
  },
  {
   "cell_type": "code",
   "execution_count": 13,
   "metadata": {},
   "outputs": [
    {
     "data": {
      "text/html": [
       "<div>\n",
       "<style scoped>\n",
       "    .dataframe tbody tr th:only-of-type {\n",
       "        vertical-align: middle;\n",
       "    }\n",
       "\n",
       "    .dataframe tbody tr th {\n",
       "        vertical-align: top;\n",
       "    }\n",
       "\n",
       "    .dataframe thead th {\n",
       "        text-align: right;\n",
       "    }\n",
       "</style>\n",
       "<table border=\"1\" class=\"dataframe\">\n",
       "  <thead>\n",
       "    <tr style=\"text-align: right;\">\n",
       "      <th></th>\n",
       "      <th>week</th>\n",
       "      <th>shopper</th>\n",
       "      <th>product</th>\n",
       "      <th>discount</th>\n",
       "    </tr>\n",
       "  </thead>\n",
       "  <tbody>\n",
       "    <tr>\n",
       "      <th>60</th>\n",
       "      <td>0</td>\n",
       "      <td>12</td>\n",
       "      <td>247</td>\n",
       "      <td>30</td>\n",
       "    </tr>\n",
       "    <tr>\n",
       "      <th>61</th>\n",
       "      <td>0</td>\n",
       "      <td>12</td>\n",
       "      <td>141</td>\n",
       "      <td>10</td>\n",
       "    </tr>\n",
       "    <tr>\n",
       "      <th>62</th>\n",
       "      <td>0</td>\n",
       "      <td>12</td>\n",
       "      <td>224</td>\n",
       "      <td>15</td>\n",
       "    </tr>\n",
       "    <tr>\n",
       "      <th>63</th>\n",
       "      <td>0</td>\n",
       "      <td>12</td>\n",
       "      <td>64</td>\n",
       "      <td>35</td>\n",
       "    </tr>\n",
       "    <tr>\n",
       "      <th>64</th>\n",
       "      <td>0</td>\n",
       "      <td>12</td>\n",
       "      <td>71</td>\n",
       "      <td>10</td>\n",
       "    </tr>\n",
       "    <tr>\n",
       "      <th>...</th>\n",
       "      <td>...</td>\n",
       "      <td>...</td>\n",
       "      <td>...</td>\n",
       "      <td>...</td>\n",
       "    </tr>\n",
       "    <tr>\n",
       "      <th>44500060</th>\n",
       "      <td>89</td>\n",
       "      <td>12</td>\n",
       "      <td>106</td>\n",
       "      <td>15</td>\n",
       "    </tr>\n",
       "    <tr>\n",
       "      <th>44500061</th>\n",
       "      <td>89</td>\n",
       "      <td>12</td>\n",
       "      <td>207</td>\n",
       "      <td>15</td>\n",
       "    </tr>\n",
       "    <tr>\n",
       "      <th>44500062</th>\n",
       "      <td>89</td>\n",
       "      <td>12</td>\n",
       "      <td>60</td>\n",
       "      <td>25</td>\n",
       "    </tr>\n",
       "    <tr>\n",
       "      <th>44500063</th>\n",
       "      <td>89</td>\n",
       "      <td>12</td>\n",
       "      <td>42</td>\n",
       "      <td>40</td>\n",
       "    </tr>\n",
       "    <tr>\n",
       "      <th>44500064</th>\n",
       "      <td>89</td>\n",
       "      <td>12</td>\n",
       "      <td>92</td>\n",
       "      <td>25</td>\n",
       "    </tr>\n",
       "  </tbody>\n",
       "</table>\n",
       "<p>450 rows × 4 columns</p>\n",
       "</div>"
      ],
      "text/plain": [
       "          week  shopper  product  discount\n",
       "60           0       12      247        30\n",
       "61           0       12      141        10\n",
       "62           0       12      224        15\n",
       "63           0       12       64        35\n",
       "64           0       12       71        10\n",
       "...        ...      ...      ...       ...\n",
       "44500060    89       12      106        15\n",
       "44500061    89       12      207        15\n",
       "44500062    89       12       60        25\n",
       "44500063    89       12       42        40\n",
       "44500064    89       12       92        25\n",
       "\n",
       "[450 rows x 4 columns]"
      ]
     },
     "execution_count": 13,
     "metadata": {},
     "output_type": "execute_result"
    }
   ],
   "source": [
    "df_c"
   ]
  },
  {
   "cell_type": "code",
   "execution_count": 14,
   "metadata": {},
   "outputs": [],
   "source": [
    "full_df = (df_b\n",
    "           .merge(\n",
    "               df_c, \n",
    "               on=['week', 'shopper', 'product'], \n",
    "               how='outer',\n",
    "               indicator=True\n",
    "           )\n",
    "           .sort_values(by=['week', 'product'])\n",
    "           .reset_index(drop=True)\n",
    "           .replace(['left_only', 'right_only', 'both'], ['RRP', 'coupon', 'discounted'])\n",
    "           .rename(columns={'_merge': 'status'})\n",
    "          )\n"
   ]
  },
  {
   "cell_type": "code",
   "execution_count": 15,
   "metadata": {},
   "outputs": [
    {
     "data": {
      "text/html": [
       "<div>\n",
       "<style scoped>\n",
       "    .dataframe tbody tr th:only-of-type {\n",
       "        vertical-align: middle;\n",
       "    }\n",
       "\n",
       "    .dataframe tbody tr th {\n",
       "        vertical-align: top;\n",
       "    }\n",
       "\n",
       "    .dataframe thead th {\n",
       "        text-align: right;\n",
       "    }\n",
       "</style>\n",
       "<table border=\"1\" class=\"dataframe\">\n",
       "  <thead>\n",
       "    <tr style=\"text-align: right;\">\n",
       "      <th></th>\n",
       "      <th>week</th>\n",
       "      <th>shopper</th>\n",
       "      <th>product</th>\n",
       "      <th>price</th>\n",
       "      <th>discount</th>\n",
       "      <th>status</th>\n",
       "    </tr>\n",
       "  </thead>\n",
       "  <tbody>\n",
       "    <tr>\n",
       "      <th>0</th>\n",
       "      <td>0</td>\n",
       "      <td>12</td>\n",
       "      <td>4</td>\n",
       "      <td>620.0</td>\n",
       "      <td>NaN</td>\n",
       "      <td>RRP</td>\n",
       "    </tr>\n",
       "    <tr>\n",
       "      <th>1</th>\n",
       "      <td>0</td>\n",
       "      <td>12</td>\n",
       "      <td>64</td>\n",
       "      <td>NaN</td>\n",
       "      <td>35.0</td>\n",
       "      <td>coupon</td>\n",
       "    </tr>\n",
       "    <tr>\n",
       "      <th>2</th>\n",
       "      <td>0</td>\n",
       "      <td>12</td>\n",
       "      <td>67</td>\n",
       "      <td>637.0</td>\n",
       "      <td>NaN</td>\n",
       "      <td>RRP</td>\n",
       "    </tr>\n",
       "    <tr>\n",
       "      <th>3</th>\n",
       "      <td>0</td>\n",
       "      <td>12</td>\n",
       "      <td>71</td>\n",
       "      <td>NaN</td>\n",
       "      <td>10.0</td>\n",
       "      <td>coupon</td>\n",
       "    </tr>\n",
       "    <tr>\n",
       "      <th>4</th>\n",
       "      <td>0</td>\n",
       "      <td>12</td>\n",
       "      <td>141</td>\n",
       "      <td>NaN</td>\n",
       "      <td>10.0</td>\n",
       "      <td>coupon</td>\n",
       "    </tr>\n",
       "    <tr>\n",
       "      <th>...</th>\n",
       "      <td>...</td>\n",
       "      <td>...</td>\n",
       "      <td>...</td>\n",
       "      <td>...</td>\n",
       "      <td>...</td>\n",
       "      <td>...</td>\n",
       "    </tr>\n",
       "    <tr>\n",
       "      <th>1153</th>\n",
       "      <td>89</td>\n",
       "      <td>12</td>\n",
       "      <td>130</td>\n",
       "      <td>613.0</td>\n",
       "      <td>NaN</td>\n",
       "      <td>RRP</td>\n",
       "    </tr>\n",
       "    <tr>\n",
       "      <th>1154</th>\n",
       "      <td>89</td>\n",
       "      <td>12</td>\n",
       "      <td>143</td>\n",
       "      <td>470.0</td>\n",
       "      <td>NaN</td>\n",
       "      <td>RRP</td>\n",
       "    </tr>\n",
       "    <tr>\n",
       "      <th>1155</th>\n",
       "      <td>89</td>\n",
       "      <td>12</td>\n",
       "      <td>188</td>\n",
       "      <td>527.0</td>\n",
       "      <td>NaN</td>\n",
       "      <td>RRP</td>\n",
       "    </tr>\n",
       "    <tr>\n",
       "      <th>1156</th>\n",
       "      <td>89</td>\n",
       "      <td>12</td>\n",
       "      <td>205</td>\n",
       "      <td>419.0</td>\n",
       "      <td>NaN</td>\n",
       "      <td>RRP</td>\n",
       "    </tr>\n",
       "    <tr>\n",
       "      <th>1157</th>\n",
       "      <td>89</td>\n",
       "      <td>12</td>\n",
       "      <td>207</td>\n",
       "      <td>NaN</td>\n",
       "      <td>15.0</td>\n",
       "      <td>coupon</td>\n",
       "    </tr>\n",
       "  </tbody>\n",
       "</table>\n",
       "<p>1158 rows × 6 columns</p>\n",
       "</div>"
      ],
      "text/plain": [
       "      week  shopper  product  price  discount  status\n",
       "0        0       12        4  620.0       NaN     RRP\n",
       "1        0       12       64    NaN      35.0  coupon\n",
       "2        0       12       67  637.0       NaN     RRP\n",
       "3        0       12       71    NaN      10.0  coupon\n",
       "4        0       12      141    NaN      10.0  coupon\n",
       "...    ...      ...      ...    ...       ...     ...\n",
       "1153    89       12      130  613.0       NaN     RRP\n",
       "1154    89       12      143  470.0       NaN     RRP\n",
       "1155    89       12      188  527.0       NaN     RRP\n",
       "1156    89       12      205  419.0       NaN     RRP\n",
       "1157    89       12      207    NaN      15.0  coupon\n",
       "\n",
       "[1158 rows x 6 columns]"
      ]
     },
     "execution_count": 15,
     "metadata": {},
     "output_type": "execute_result"
    }
   ],
   "source": [
    "full_df"
   ]
  },
  {
   "cell_type": "code",
   "execution_count": 16,
   "metadata": {},
   "outputs": [
    {
     "data": {
      "text/plain": [
       "RRP           708\n",
       "coupon        428\n",
       "discounted     22\n",
       "Name: status, dtype: int64"
      ]
     },
     "execution_count": 16,
     "metadata": {},
     "output_type": "execute_result"
    }
   ],
   "source": [
    "full_df.status.value_counts()"
   ]
  },
  {
   "cell_type": "code",
   "execution_count": 17,
   "metadata": {},
   "outputs": [
    {
     "data": {
      "text/plain": [
       "25.0    68\n",
       "35.0    68\n",
       "20.0    66\n",
       "30.0    65\n",
       "10.0    63\n",
       "40.0    62\n",
       "15.0    58\n",
       "Name: discount, dtype: int64"
      ]
     },
     "execution_count": 17,
     "metadata": {},
     "output_type": "execute_result"
    }
   ],
   "source": [
    "full_df.discount.value_counts()"
   ]
  },
  {
   "cell_type": "code",
   "execution_count": 18,
   "metadata": {},
   "outputs": [
    {
     "data": {
      "text/plain": [
       "status      discount\n",
       "coupon      35.0        66\n",
       "            20.0        64\n",
       "            25.0        64\n",
       "            30.0        62\n",
       "            10.0        60\n",
       "            15.0        56\n",
       "            40.0        56\n",
       "discounted  40.0         6\n",
       "            25.0         4\n",
       "            10.0         3\n",
       "            30.0         3\n",
       "            15.0         2\n",
       "            20.0         2\n",
       "            35.0         2\n",
       "Name: discount, dtype: int64"
      ]
     },
     "execution_count": 18,
     "metadata": {},
     "output_type": "execute_result"
    }
   ],
   "source": [
    "full_df.groupby(\"status\")[\"discount\"].value_counts()"
   ]
  },
  {
   "cell_type": "code",
   "execution_count": 23,
   "metadata": {},
   "outputs": [
    {
     "data": {
      "text/plain": [
       "<AxesSubplot:xlabel='count', ylabel='product'>"
      ]
     },
     "execution_count": 23,
     "metadata": {},
     "output_type": "execute_result"
    },
    {
     "data": {
      "image/png": "[encoded data removed]",
      "text/plain": [
       "<Figure size 1440x720 with 1 Axes>"
      ]
     },
     "metadata": {
      "needs_background": "light"
     },
     "output_type": "display_data"
    }
   ],
   "source": [
    "plt.figure(figsize = (20, 10))\n",
    "\n",
    "sns.countplot(data = df_b, y = 'product', order = df_b['product'].value_counts().iloc[:15].index)"
   ]
  },
  {
   "cell_type": "code",
   "execution_count": 20,
   "metadata": {},
   "outputs": [
    {
     "data": {
      "text/plain": [
       "<AxesSubplot:xlabel='product', ylabel='count'>"
      ]
     },
     "execution_count": 20,
     "metadata": {},
     "output_type": "execute_result"
    },
    {
     "data": {
      "image/png": "[encoded data removed]",
      "text/plain": [
       "<Figure size 1440x720 with 1 Axes>"
      ]
     },
     "metadata": {
      "needs_background": "light"
     },
     "output_type": "display_data"
    }
   ],
   "source": [
    "plt.figure(figsize = (20, 10))\n",
    "\n",
    "sns.countplot(data = df_c, x = 'product', hue = 'discount', order = df_c['product'].value_counts().iloc[:10].index, palette = \"Set1\")"
   ]
  },
  {
   "cell_type": "code",
   "execution_count": 24,
   "metadata": {},
   "outputs": [
    {
     "data": {
      "text/plain": [
       "<AxesSubplot:xlabel='count', ylabel='product'>"
      ]
     },
     "execution_count": 24,
     "metadata": {},
     "output_type": "execute_result"
    },
    {
     "data": {
      "image/png": "[encoded data removed]",
      "text/plain": [
       "<Figure size 1440x1080 with 1 Axes>"
      ]
     },
     "metadata": {
      "needs_background": "light"
     },
     "output_type": "display_data"
    }
   ],
   "source": [
    "plt.figure(figsize = (20, 15))\n",
    "\n",
    "sns.countplot(data = full_df, y = 'product', hue = 'status', order = full_df['product'].value_counts().iloc[10:20].index, palette = \"Set1\")"
   ]
  },
  {
   "cell_type": "code",
   "execution_count": 25,
   "metadata": {},
   "outputs": [
    {
     "data": {
      "text/plain": [
       "<AxesSubplot:xlabel='count', ylabel='status'>"
      ]
     },
     "execution_count": 25,
     "metadata": {},
     "output_type": "execute_result"
    },
    {
     "data": {
      "image/png": "[encoded data removed]",
      "text/plain": [
       "<Figure size 720x720 with 1 Axes>"
      ]
     },
     "metadata": {
      "needs_background": "light"
     },
     "output_type": "display_data"
    }
   ],
   "source": [
    "plt.figure(figsize = (10, 10))\n",
    "\n",
    "sns.countplot(data = full_df, y = 'status', palette = \"Set1\")"
   ]
  },
  {
   "cell_type": "code",
   "execution_count": null,
   "metadata": {},
   "outputs": [],
   "source": []
  },
  {
   "cell_type": "code",
   "execution_count": null,
   "metadata": {},
   "outputs": [],
   "source": []
  },
  {
   "cell_type": "code",
   "execution_count": null,
   "metadata": {},
   "outputs": [],
   "source": []
  },
  {
   "cell_type": "code",
   "execution_count": null,
   "metadata": {},
   "outputs": [],
   "source": []
  },
  {
   "cell_type": "code",
   "execution_count": null,
   "metadata": {},
   "outputs": [],
   "source": []
  },
  {
   "cell_type": "code",
   "execution_count": null,
   "metadata": {},
   "outputs": [],
   "source": []
  }
 ],
 "metadata": {
  "kernelspec": {
   "display_name": "Python 3",
   "language": "python",
   "name": "python3"
  },
  "language_info": {
   "codemirror_mode": {
    "name": "ipython",
    "version": 3
   },
   "file_extension": ".py",
   "mimetype": "text/x-python",
   "name": "python",
   "nbconvert_exporter": "python",
   "pygments_lexer": "ipython3",
   "version": "3.8.5"
  }
 },
 "nbformat": 4,
 "nbformat_minor": 4
}
