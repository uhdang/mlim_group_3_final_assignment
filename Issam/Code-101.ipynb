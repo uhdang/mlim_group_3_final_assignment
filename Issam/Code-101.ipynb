{
 "cells": [
  {
   "cell_type": "code",
   "execution_count": 3,
   "id": "taken-belarus",
   "metadata": {},
   "outputs": [],
   "source": [
    "import pandas as pd\n",
    "import numpy as np\n",
    "import matplotlib.pyplot as plt\n",
    "from time import time\n",
    "from tqdm import tqdm\n",
    "\n",
    "from sklearn.metrics import accuracy_score\n",
    "from sklearn import linear_model\n",
    "from sklearn import metrics\n",
    "from sklearn import preprocessing\n",
    "\n",
    "# important to read data from .parquet \n",
    "from pyarrow import parquet\n",
    "\n",
    "tqdm.pandas()\n",
    "%matplotlib inline"
   ]
  },
  {
   "cell_type": "code",
   "execution_count": 4,
   "id": "satellite-match",
   "metadata": {},
   "outputs": [],
   "source": [
    "# To skip unwanted code\n",
    "skip = True\n",
    "shopper_50 = '_50'\n",
    "\n",
    "def timer(start):\n",
    "    # from time import time\n",
    "    return round(time() - start)"
   ]
  },
  {
   "cell_type": "markdown",
   "id": "mobile-landing",
   "metadata": {},
   "source": [
    "### Read data and save original count of rows and columns"
   ]
  },
  {
   "cell_type": "code",
   "execution_count": 5,
   "id": "ongoing-numbers",
   "metadata": {},
   "outputs": [
    {
     "output_type": "stream",
     "name": "stdout",
     "text": [
      "DF is read\n"
     ]
    }
   ],
   "source": [
    "try:\n",
    "    df = pd.read_parquet(f'data/basket_discount{shopper_50}.parquet')\n",
    "    print(\"DF is read\")\n",
    "    # Check for not exporting basket_discount again\n",
    "    df_is_exported = True\n",
    "except FileNotFoundError as e:\n",
    "    print(e)\n",
    "    print(f\"Start reading files\")\n",
    "    print(\"READING....\")\n",
    "    baskets = pd.read_parquet('data/baskets.parquet')\n",
    "    coupons = pd.read_parquet('data/coupons.parquet')\n",
    "    coupon_index = pd.read_parquet('data/coupon_index.parquet')\n",
    "    print(f\"Files are read\")\n",
    "    df_is_exported = False"
   ]
  },
  {
   "cell_type": "markdown",
   "id": "greek-arrangement",
   "metadata": {},
   "source": [
    "### Merging baskets and coupons to a new df "
   ]
  },
  {
   "cell_type": "code",
   "execution_count": 6,
   "id": "cathedral-government",
   "metadata": {},
   "outputs": [],
   "source": [
    "if df_is_exported==False:\n",
    "    print(f\"Start Mergin baskets and coupons\")\n",
    "    print(f\"MERGING....\")\n",
    "    df = pd.merge(\n",
    "        baskets,\n",
    "        coupons,\n",
    "        how='outer',\n",
    "        on=['week','shopper', 'product']\n",
    "    )\n",
    "    print(\"Done\")\n",
    "    print(f\"Merge took: {timer(start)}\")\n",
    "    del baskets\n",
    "    del coupons\n",
    "\n",
    "# Tried JOIN / MERGE using indexes = ERROR\n",
    "# NEED to try join on index + other columns\n",
    "# JOIN = 230.641s (1-run)\n",
    "# MERGE = 156s (1-run)"
   ]
  },
  {
   "cell_type": "code",
   "execution_count": 7,
   "id": "ceramic-genealogy",
   "metadata": {},
   "outputs": [
    {
     "output_type": "stream",
     "name": "stdout",
     "text": [
      "shopper_50 variable is set\n"
     ]
    }
   ],
   "source": [
    "if shopper_50 != '':\n",
    "    print('shopper_50 variable is set')\n",
    "    df = df[df['shopper'] < 50 ]"
   ]
  },
  {
   "cell_type": "markdown",
   "id": "statewide-inspector",
   "metadata": {},
   "source": [
    "### Clean Data Frame by replacing NaN to 0s in the price column then remove rows with NaN"
   ]
  },
  {
   "cell_type": "code",
   "execution_count": 8,
   "id": "sporting-atlanta",
   "metadata": {},
   "outputs": [],
   "source": [
    "if df_is_exported==False:\n",
    "    df['price'] = df['price'].astype(int)\n",
    "    df['discount'] = df['discount'].astype(int)\n",
    "    df['price'].fillna(0, inplace=True)\n",
    "    df['discount'].fillna(0, inplace=True)\n",
    "\n",
    "    assert df[ ( df['shopper'] == 0 ) & ( df['week'].isin([0,88]) )]['price'].sum() == 10565 # manuelly computed\n",
    "    assert df.isna().sum().sum() == 0"
   ]
  },
  {
   "cell_type": "markdown",
   "id": "robust-taste",
   "metadata": {},
   "source": [
    "### Export processed data for later import instead of repeating all previous steps"
   ]
  },
  {
   "cell_type": "code",
   "execution_count": 9,
   "id": "academic-retail",
   "metadata": {},
   "outputs": [],
   "source": [
    "if df_is_exported==False:\n",
    "    df.to_parquet(f'data/basket_discount{shopper_50}.parquet', index=False)"
   ]
  },
  {
   "cell_type": "code",
   "execution_count": 10,
   "id": "satellite-muslim",
   "metadata": {},
   "outputs": [
    {
     "output_type": "stream",
     "name": "stdout",
     "text": [
      "Number of Rows in Data: 55,714\n Numer of Shoppers: 50\n Numer of Products: 250\n Numer of Weeks: 90\n\n"
     ]
    }
   ],
   "source": [
    "print(\n",
    "    f\"Number of Rows in Data: {df.shape[0]:,}\\n\",\n",
    "    f\"Numer of Shoppers: { len(df['shopper'].unique()):,}\\n\",\n",
    "    f\"Numer of Products: { len(df['product'].unique()):,}\\n\",\n",
    "    f\"Numer of Weeks: { len(df['week'].unique()):,}\\n\"\n",
    ")"
   ]
  },
  {
   "source": [
    "## What each shopper ordered count basket items, total basket, what products "
   ],
   "cell_type": "markdown",
   "metadata": {}
  },
  {
   "cell_type": "code",
   "execution_count": 11,
   "id": "developmental-recovery",
   "metadata": {},
   "outputs": [
    {
     "output_type": "execute_result",
     "data": {
      "text/plain": [
       "   week  shopper  price  discount  \\\n",
       "0     0        0   5908       170   \n",
       "1     0        1   4648       135   \n",
       "2     0        2   3697       115   \n",
       "3     0        3   4082       100   \n",
       "4     0        4   2680       130   \n",
       "\n",
       "                                              basket  count  \n",
       "0  [225, 193, 35, 5, 71, 167, 27, 91, 171, 207, 1...     15  \n",
       "1  [35, 99, 229, 101, 7, 168, 200, 146, 211, 115,...     13  \n",
       "2  [185, 164, 249, 230, 38, 14, 18, 23, 56, 121, ...     11  \n",
       "3  [192, 98, 67, 229, 6, 137, 203, 109, 145, 122,...     12  \n",
       "4   [131, 234, 76, 144, 156, 212, 248, 25, 188, 127]     10  "
      ],
      "text/html": "<div>\n<style scoped>\n    .dataframe tbody tr th:only-of-type {\n        vertical-align: middle;\n    }\n\n    .dataframe tbody tr th {\n        vertical-align: top;\n    }\n\n    .dataframe thead th {\n        text-align: right;\n    }\n</style>\n<table border=\"1\" class=\"dataframe\">\n  <thead>\n    <tr style=\"text-align: right;\">\n      <th></th>\n      <th>week</th>\n      <th>shopper</th>\n      <th>price</th>\n      <th>discount</th>\n      <th>basket</th>\n      <th>count</th>\n    </tr>\n  </thead>\n  <tbody>\n    <tr>\n      <th>0</th>\n      <td>0</td>\n      <td>0</td>\n      <td>5908</td>\n      <td>170</td>\n      <td>[225, 193, 35, 5, 71, 167, 27, 91, 171, 207, 1...</td>\n      <td>15</td>\n    </tr>\n    <tr>\n      <th>1</th>\n      <td>0</td>\n      <td>1</td>\n      <td>4648</td>\n      <td>135</td>\n      <td>[35, 99, 229, 101, 7, 168, 200, 146, 211, 115,...</td>\n      <td>13</td>\n    </tr>\n    <tr>\n      <th>2</th>\n      <td>0</td>\n      <td>2</td>\n      <td>3697</td>\n      <td>115</td>\n      <td>[185, 164, 249, 230, 38, 14, 18, 23, 56, 121, ...</td>\n      <td>11</td>\n    </tr>\n    <tr>\n      <th>3</th>\n      <td>0</td>\n      <td>3</td>\n      <td>4082</td>\n      <td>100</td>\n      <td>[192, 98, 67, 229, 6, 137, 203, 109, 145, 122,...</td>\n      <td>12</td>\n    </tr>\n    <tr>\n      <th>4</th>\n      <td>0</td>\n      <td>4</td>\n      <td>2680</td>\n      <td>130</td>\n      <td>[131, 234, 76, 144, 156, 212, 248, 25, 188, 127]</td>\n      <td>10</td>\n    </tr>\n  </tbody>\n</table>\n</div>"
     },
     "metadata": {},
     "execution_count": 11
    }
   ],
   "source": [
    "# Each week order for each shopper and what items contained in the order\n",
    "\n",
    "# Helper Functions\n",
    "def combine_list(x):\n",
    "    return list(set(x))\n",
    "def ones(x):\n",
    "    return int(1)\n",
    "\n",
    "try:\n",
    "    basket_week = pd.read_parquet(f'data/basket_week{shopper_50}.parquet')\n",
    "except FileNotFoundError:\n",
    "    start = time()\n",
    "    basket_week = \\\n",
    "        df \\\n",
    "        .groupby(['week', 'shopper'], as_index=False) \\\n",
    "        .agg({\n",
    "            'price': ['sum'],\n",
    "            'discount': 'sum',\n",
    "            'product': combine_list\n",
    "            })\n",
    "    basket_week.columns = [('_'.join(x)).rstrip('_') for x in basket_week.columns]\n",
    "    basket_week.rename(columns={'product_combine_list':'basket'}, inplace=True)\n",
    "    basket_week.columns = [x.replace('_sum','') for x in basket_week.columns]\n",
    "\n",
    "    basket_week['count'] = basket_week['basket'].apply(len)\n",
    "    # basket_week.set_index(['week', 'shopper'], inplace=True)\n",
    "    print(f\"basket_week took: {timer(start)}\")\n",
    "\n",
    "\n",
    "    basket_week.to_parquet(f'data/basket_week{shopper_50}.parquet')\n",
    "\n",
    "basket_week.head()"
   ]
  },
  {
   "source": [
    "# Linear Model for Basket total"
   ],
   "cell_type": "markdown",
   "metadata": {}
  },
  {
   "cell_type": "code",
   "execution_count": 12,
   "metadata": {},
   "outputs": [],
   "source": [
    "# Group data to get basket total for each shopper per week\n",
    "\n",
    "## Training functions\n",
    "# Function to get weeks to train the model then\n",
    "def get_shopper_data(df, shopper, start_week, end_week):\n",
    "    filt = (df['shopper'] == shopper) & (df['week'].isin(range(start_week,end_week+1)))\n",
    "    return df.loc[filt, ['week', 'count', 'price']]\n",
    "\n",
    "# Get a week coef, intercept, pred for basket total\n",
    "def pred_basket_total(ln_object, df, pred_week, pred_shopper, basket_count):\n",
    "    ln_object.fit(df[['week', 'count']],df[['price']])\n",
    "    pred = ln_object.predict([[pred_week, pred_shopper, basket_count]])\n",
    "    return ln_object.coef_.flatten(), ln_object.intercept_.flatten(), pred.flatten()\n",
    "\n",
    "# Get a week coef, intercept, pred for basket count\n",
    "def pred_basket_count(reg, df, pred_week):\n",
    "    reg.fit(df[['week']],df[['count']])\n",
    "    pred = reg.predict([[pred_week]])\n",
    "    return np.floor(pred.flatten())\n",
    "\n",
    "\n",
    "## Testing functions"
   ]
  },
  {
   "cell_type": "code",
   "execution_count": 13,
   "metadata": {},
   "outputs": [
    {
     "output_type": "stream",
     "name": "stderr",
     "text": [
      "100%|██████████| 10/10 [00:02<00:00,  4.58it/s]\n"
     ]
    },
    {
     "output_type": "execute_result",
     "data": {
      "text/plain": [
       "    mse  accuracy\n",
       "0  0.02      0.98\n",
       "1  0.03      0.97\n",
       "2  0.05      0.95\n",
       "3  0.03      0.97\n",
       "4  0.02      0.98\n",
       "5  0.03      0.97\n",
       "6  0.04      0.96\n",
       "7  0.03      0.97\n",
       "8  0.02      0.98\n",
       "9  0.03      0.97"
      ],
      "text/html": "<div>\n<style scoped>\n    .dataframe tbody tr th:only-of-type {\n        vertical-align: middle;\n    }\n\n    .dataframe tbody tr th {\n        vertical-align: top;\n    }\n\n    .dataframe thead th {\n        text-align: right;\n    }\n</style>\n<table border=\"1\" class=\"dataframe\">\n  <thead>\n    <tr style=\"text-align: right;\">\n      <th></th>\n      <th>mse</th>\n      <th>accuracy</th>\n    </tr>\n  </thead>\n  <tbody>\n    <tr>\n      <th>0</th>\n      <td>0.02</td>\n      <td>0.98</td>\n    </tr>\n    <tr>\n      <th>1</th>\n      <td>0.03</td>\n      <td>0.97</td>\n    </tr>\n    <tr>\n      <th>2</th>\n      <td>0.05</td>\n      <td>0.95</td>\n    </tr>\n    <tr>\n      <th>3</th>\n      <td>0.03</td>\n      <td>0.97</td>\n    </tr>\n    <tr>\n      <th>4</th>\n      <td>0.02</td>\n      <td>0.98</td>\n    </tr>\n    <tr>\n      <th>5</th>\n      <td>0.03</td>\n      <td>0.97</td>\n    </tr>\n    <tr>\n      <th>6</th>\n      <td>0.04</td>\n      <td>0.96</td>\n    </tr>\n    <tr>\n      <th>7</th>\n      <td>0.03</td>\n      <td>0.97</td>\n    </tr>\n    <tr>\n      <th>8</th>\n      <td>0.02</td>\n      <td>0.98</td>\n    </tr>\n    <tr>\n      <th>9</th>\n      <td>0.03</td>\n      <td>0.97</td>\n    </tr>\n  </tbody>\n</table>\n</div>"
     },
     "metadata": {},
     "execution_count": 13
    }
   ],
   "source": [
    "# reg = linear_model.LinearRegression()\n",
    "reg = linear_model.Lasso()\n",
    "# reg = linear_model.LassoCV() # Slow as LightGBM\n",
    "# reg = linear_model.LogisticRegression()\n",
    "# scaler = preprocessing.StandardScaler(with_std=True)\n",
    "\n",
    "window = 2\n",
    "shoppers_range = range(0,10)\n",
    "basket_count_mse = dict()\n",
    "\n",
    "for ln_shopper in tqdm(shoppers_range): # EDIT start and end shopper\n",
    "\n",
    "    test_pred = dict()\n",
    "\n",
    "    for tw in range(60,90,window): # EDIT start and end week\n",
    "        train = get_shopper_data(basket_week, ln_shopper, int(0+(tw%10-5)), tw-1)\n",
    "        test_pred[tw] = pred_basket_count(reg, train, tw)\n",
    "\n",
    "    test_pred = pd.DataFrame(test_pred, index= ['pred']).T\n",
    "\n",
    "    c1 = test_pred.index.min()\n",
    "    c2 = test_pred.index.max()\n",
    "    validate_pred = get_shopper_data(basket_week, ln_shopper, c1, c2)\n",
    "    validate_pred = validate_pred \\\n",
    "        .merge(test_pred, how='left',left_on=['week'], right_index=True) \\\n",
    "        .fillna(method='ffill')\n",
    "\n",
    "\n",
    "    mse = np.round(metrics.mean_squared_log_error(validate_pred['count'], validate_pred['pred']),2)\n",
    "    basket_count_mse[ln_shopper] = [mse, 1-mse]\n",
    "\n",
    "basket_count_mse = pd.DataFrame(basket_count_mse, index=['mse', 'accuracy']).T\n",
    "\n",
    "\n",
    "basket_count_mse"
   ]
  },
  {
   "source": [
    "# LightGBM Model"
   ],
   "cell_type": "markdown",
   "metadata": {}
  },
  {
   "source": [
    "## LightGBM is too slow and LN is more accurate"
   ],
   "cell_type": "markdown",
   "metadata": {}
  },
  {
   "cell_type": "code",
   "execution_count": 14,
   "metadata": {},
   "outputs": [
    {
     "output_type": "stream",
     "name": "stderr",
     "text": [
      "100%|██████████| 10/10 [00:21<00:00,  2.10s/it]\n"
     ]
    },
    {
     "output_type": "execute_result",
     "data": {
      "text/plain": [
       "    mse  accuracy\n",
       "0  0.04      0.96\n",
       "1  0.03      0.97\n",
       "2  0.13      0.87\n",
       "3  0.06      0.94\n",
       "4  0.02      0.98\n",
       "5  0.06      0.94\n",
       "6  0.06      0.94\n",
       "7  0.04      0.96\n",
       "8  0.04      0.96\n",
       "9  0.04      0.96"
      ],
      "text/html": "<div>\n<style scoped>\n    .dataframe tbody tr th:only-of-type {\n        vertical-align: middle;\n    }\n\n    .dataframe tbody tr th {\n        vertical-align: top;\n    }\n\n    .dataframe thead th {\n        text-align: right;\n    }\n</style>\n<table border=\"1\" class=\"dataframe\">\n  <thead>\n    <tr style=\"text-align: right;\">\n      <th></th>\n      <th>mse</th>\n      <th>accuracy</th>\n    </tr>\n  </thead>\n  <tbody>\n    <tr>\n      <th>0</th>\n      <td>0.04</td>\n      <td>0.96</td>\n    </tr>\n    <tr>\n      <th>1</th>\n      <td>0.03</td>\n      <td>0.97</td>\n    </tr>\n    <tr>\n      <th>2</th>\n      <td>0.13</td>\n      <td>0.87</td>\n    </tr>\n    <tr>\n      <th>3</th>\n      <td>0.06</td>\n      <td>0.94</td>\n    </tr>\n    <tr>\n      <th>4</th>\n      <td>0.02</td>\n      <td>0.98</td>\n    </tr>\n    <tr>\n      <th>5</th>\n      <td>0.06</td>\n      <td>0.94</td>\n    </tr>\n    <tr>\n      <th>6</th>\n      <td>0.06</td>\n      <td>0.94</td>\n    </tr>\n    <tr>\n      <th>7</th>\n      <td>0.04</td>\n      <td>0.96</td>\n    </tr>\n    <tr>\n      <th>8</th>\n      <td>0.04</td>\n      <td>0.96</td>\n    </tr>\n    <tr>\n      <th>9</th>\n      <td>0.04</td>\n      <td>0.96</td>\n    </tr>\n  </tbody>\n</table>\n</div>"
     },
     "metadata": {},
     "execution_count": 14
    }
   ],
   "source": [
    "# LightGBM\n",
    "# !pip install lightgbm\n",
    "\n",
    "import lightgbm as lgb\n",
    "\n",
    "clf = lgb.LGBMClassifier(\n",
    "    # options to increase accurecy but no effect\n",
    "    # num_leaves=30,\n",
    "    # max_depth=5,\n",
    "    # learning_rate=0.1,\n",
    "    # n_estimators=50,\n",
    "    # max_bin=225,\n",
    "    # min_child_samples=10\n",
    ")\n",
    "# clf = lgb.LGBMRegressor()\n",
    "\n",
    "\n",
    "window = 2\n",
    "shoppers_range = range(0,10)\n",
    "basket_count_mse = dict()\n",
    "\n",
    "for ln_shopper in tqdm(shoppers_range): # EDIT start and end shopper\n",
    "\n",
    "    test_pred = dict()\n",
    "\n",
    "    for tw in range(60,90,window): # EDIT start and end week\n",
    "        train = get_shopper_data(basket_week, ln_shopper, int(0+(tw%10-5)), tw-1)\n",
    "        test_pred[tw] = pred_basket_count(clf, train, tw)\n",
    "\n",
    "    test_pred = pd.DataFrame(test_pred, index= ['pred']).T\n",
    "\n",
    "    c1 = test_pred.index.min()\n",
    "    c2 = test_pred.index.max()\n",
    "    validate_pred = get_shopper_data(basket_week, ln_shopper, c1, c2)\n",
    "    validate_pred = validate_pred \\\n",
    "        .merge(test_pred, how='left',left_on=['week'], right_index=True) \\\n",
    "        .fillna(method='ffill')\n",
    "\n",
    "    mse = np.round(metrics.mean_squared_log_error(validate_pred['count'], validate_pred['pred']),2)\n",
    "    basket_count_mse[ln_shopper] = [mse, 1-mse]\n",
    "\n",
    "basket_count_mse = pd.DataFrame(basket_count_mse, index=['mse', 'accuracy']).T\n",
    "\n",
    "\n",
    "basket_count_mse"
   ]
  },
  {
   "cell_type": "code",
   "execution_count": 15,
   "metadata": {},
   "outputs": [
    {
     "output_type": "execute_result",
     "data": {
      "text/plain": [
       "     week  shopper  discount  conv\n",
       "0       0        0        30  0.00\n",
       "112     1        0        15  0.00\n",
       "113     1        0        25  0.00\n",
       "223     2        0        15  0.00\n",
       "224     2        0        25  0.09"
      ],
      "text/html": "<div>\n<style scoped>\n    .dataframe tbody tr th:only-of-type {\n        vertical-align: middle;\n    }\n\n    .dataframe tbody tr th {\n        vertical-align: top;\n    }\n\n    .dataframe thead th {\n        text-align: right;\n    }\n</style>\n<table border=\"1\" class=\"dataframe\">\n  <thead>\n    <tr style=\"text-align: right;\">\n      <th></th>\n      <th>week</th>\n      <th>shopper</th>\n      <th>discount</th>\n      <th>conv</th>\n    </tr>\n  </thead>\n  <tbody>\n    <tr>\n      <th>0</th>\n      <td>0</td>\n      <td>0</td>\n      <td>30</td>\n      <td>0.00</td>\n    </tr>\n    <tr>\n      <th>112</th>\n      <td>1</td>\n      <td>0</td>\n      <td>15</td>\n      <td>0.00</td>\n    </tr>\n    <tr>\n      <th>113</th>\n      <td>1</td>\n      <td>0</td>\n      <td>25</td>\n      <td>0.00</td>\n    </tr>\n    <tr>\n      <th>223</th>\n      <td>2</td>\n      <td>0</td>\n      <td>15</td>\n      <td>0.00</td>\n    </tr>\n    <tr>\n      <th>224</th>\n      <td>2</td>\n      <td>0</td>\n      <td>25</td>\n      <td>0.09</td>\n    </tr>\n  </tbody>\n</table>\n</div>"
     },
     "metadata": {},
     "execution_count": 15
    }
   ],
   "source": [
    "# How much each discount can converge to sales\n",
    "\n",
    "discount_freq = df.groupby(['week','shopper', 'discount'], as_index=False).agg({'price':sum, })\n",
    "\n",
    "discount_freq_filter = (discount_freq['discount'] <= 30) & (discount_freq['discount'] >= 15)\n",
    "discount_freq = discount_freq.loc[discount_freq_filter]\n",
    "\n",
    "discount_freq.rename(columns={'price':'w_discount'}, inplace=True)\n",
    "discount_freq = pd.merge(discount_freq, basket_week[['week', 'shopper', 'price']], on=['week','shopper'])\n",
    "discount_freq.rename(columns={'price':'total_basket'}, inplace=True)\n",
    "\n",
    "discount_freq['conv'] = np.round((discount_freq['w_discount'] / discount_freq['total_basket']),2)\n",
    "discount_freq.drop(['w_discount', 'total_basket'], inplace=True, axis=1)\n",
    "\n",
    "discount_freq.loc[discount_freq['shopper'] == 0].head()"
   ]
  },
  {
   "cell_type": "code",
   "execution_count": 16,
   "metadata": {},
   "outputs": [
    {
     "output_type": "execute_result",
     "data": {
      "text/plain": [
       "   week  shopper  discount      basket  conv  count\n",
       "0     0        0        30     [27, 5]   0.0      2\n",
       "1     0        1        15         [7]   0.0      1\n",
       "2     0        1        25        [18]   0.0      1\n",
       "3     0        1        30  [115, 101]   0.0      2\n",
       "4     0        2        30    [38, 23]   0.0      2"
      ],
      "text/html": "<div>\n<style scoped>\n    .dataframe tbody tr th:only-of-type {\n        vertical-align: middle;\n    }\n\n    .dataframe tbody tr th {\n        vertical-align: top;\n    }\n\n    .dataframe thead th {\n        text-align: right;\n    }\n</style>\n<table border=\"1\" class=\"dataframe\">\n  <thead>\n    <tr style=\"text-align: right;\">\n      <th></th>\n      <th>week</th>\n      <th>shopper</th>\n      <th>discount</th>\n      <th>basket</th>\n      <th>conv</th>\n      <th>count</th>\n    </tr>\n  </thead>\n  <tbody>\n    <tr>\n      <th>0</th>\n      <td>0</td>\n      <td>0</td>\n      <td>30</td>\n      <td>[27, 5]</td>\n      <td>0.0</td>\n      <td>2</td>\n    </tr>\n    <tr>\n      <th>1</th>\n      <td>0</td>\n      <td>1</td>\n      <td>15</td>\n      <td>[7]</td>\n      <td>0.0</td>\n      <td>1</td>\n    </tr>\n    <tr>\n      <th>2</th>\n      <td>0</td>\n      <td>1</td>\n      <td>25</td>\n      <td>[18]</td>\n      <td>0.0</td>\n      <td>1</td>\n    </tr>\n    <tr>\n      <th>3</th>\n      <td>0</td>\n      <td>1</td>\n      <td>30</td>\n      <td>[115, 101]</td>\n      <td>0.0</td>\n      <td>2</td>\n    </tr>\n    <tr>\n      <th>4</th>\n      <td>0</td>\n      <td>2</td>\n      <td>30</td>\n      <td>[38, 23]</td>\n      <td>0.0</td>\n      <td>2</td>\n    </tr>\n  </tbody>\n</table>\n</div>"
     },
     "metadata": {},
     "execution_count": 16
    }
   ],
   "source": [
    "# How much purchases with each discount and what items are being purchased\n",
    "\n",
    "try:\n",
    "    discount_basket = pd.read_parquet(f'data/discount_basket{shopper_50}.parquet')\n",
    "except FileNotFoundError:\n",
    "    start = time()\n",
    "    discount_basket = \\\n",
    "        df.loc[(df['discount'] <= 30) & (df['discount'] >= 15)] \\\n",
    "        .groupby(['week', 'shopper', 'discount'], as_index=False) \\\n",
    "        .agg({\n",
    "            'price': 'sum',\n",
    "            'product': combine_list\n",
    "            })\n",
    "    discount_basket.rename(columns={'price':'total', 'product':'basket'}, inplace=True)    \n",
    "    discount_basket = pd.merge(discount_basket, basket_week[['week', 'shopper', 'price']], on=['week','shopper'])\n",
    "    discount_basket.rename(columns={'price':'total_basket'}, inplace=True)\n",
    "    discount_basket['conv'] = np.round((discount_basket['total'] / discount_basket['total_basket']),2)\n",
    "    discount_basket.drop(['total', 'total_basket'], inplace=True, axis=1)\n",
    "\n",
    "    discount_basket['count'] = discount_basket['basket'].apply(len)\n",
    "    print(f\"discount_basket took: {timer(start)}\")\n",
    "\n",
    "\n",
    "    discount_basket.to_parquet(f'data/discount_basket{shopper_50}.parquet')\n",
    "\n",
    "discount_basket.head()"
   ]
  },
  {
   "cell_type": "code",
   "execution_count": 17,
   "id": "distributed-teens",
   "metadata": {},
   "outputs": [
    {
     "output_type": "execute_result",
     "data": {
      "text/plain": [
       "   shopper                                               week  count\n",
       "0        0  [0, 1, 2, 3, 4, 5, 6, 7, 8, 9, 10, 11, 12, 13,...     90\n",
       "1        1  [0, 1, 2, 3, 4, 5, 6, 7, 8, 9, 10, 11, 12, 13,...     90\n",
       "2        2  [0, 1, 2, 3, 4, 5, 6, 7, 8, 9, 10, 11, 12, 13,...     90\n",
       "3        3  [0, 1, 2, 3, 4, 5, 6, 7, 8, 9, 10, 11, 12, 13,...     90\n",
       "4        4  [0, 1, 2, 3, 4, 5, 6, 7, 8, 9, 10, 11, 12, 13,...     90"
      ],
      "text/html": "<div>\n<style scoped>\n    .dataframe tbody tr th:only-of-type {\n        vertical-align: middle;\n    }\n\n    .dataframe tbody tr th {\n        vertical-align: top;\n    }\n\n    .dataframe thead th {\n        text-align: right;\n    }\n</style>\n<table border=\"1\" class=\"dataframe\">\n  <thead>\n    <tr style=\"text-align: right;\">\n      <th></th>\n      <th>shopper</th>\n      <th>week</th>\n      <th>count</th>\n    </tr>\n  </thead>\n  <tbody>\n    <tr>\n      <th>0</th>\n      <td>0</td>\n      <td>[0, 1, 2, 3, 4, 5, 6, 7, 8, 9, 10, 11, 12, 13,...</td>\n      <td>90</td>\n    </tr>\n    <tr>\n      <th>1</th>\n      <td>1</td>\n      <td>[0, 1, 2, 3, 4, 5, 6, 7, 8, 9, 10, 11, 12, 13,...</td>\n      <td>90</td>\n    </tr>\n    <tr>\n      <th>2</th>\n      <td>2</td>\n      <td>[0, 1, 2, 3, 4, 5, 6, 7, 8, 9, 10, 11, 12, 13,...</td>\n      <td>90</td>\n    </tr>\n    <tr>\n      <th>3</th>\n      <td>3</td>\n      <td>[0, 1, 2, 3, 4, 5, 6, 7, 8, 9, 10, 11, 12, 13,...</td>\n      <td>90</td>\n    </tr>\n    <tr>\n      <th>4</th>\n      <td>4</td>\n      <td>[0, 1, 2, 3, 4, 5, 6, 7, 8, 9, 10, 11, 12, 13,...</td>\n      <td>90</td>\n    </tr>\n  </tbody>\n</table>\n</div>"
     },
     "metadata": {},
     "execution_count": 17
    }
   ],
   "source": [
    "# each shopper how many orders are placed and which weeks\n",
    "\n",
    "try:\n",
    "    orders_shopper = pd.read_parquet(f'data/orders_shopper{shopper_50}.parquet')\n",
    "except FileNotFoundError:\n",
    "    start = time()\n",
    "    orders_shopper = \\\n",
    "        df.loc[df['price'] != 0] \\\n",
    "        .groupby(['shopper'], as_index=False) \\\n",
    "        .agg({'week': combine_list})\n",
    "\n",
    "    orders_shopper['count'] = orders_shopper['week'].apply(len)\n",
    "    # orders_shopper.set_index(['shopper'], inplace=True)\n",
    "    \n",
    "    print(f\"orders_shopper took: {timer(start)}\")\n",
    "\n",
    "    orders_shopper.to_parquet(f'data/orders_shopper{shopper_50}.parquet')\n",
    "\n",
    "orders_shopper.head()"
   ]
  },
  {
   "source": [
    "## ITEM SHOPPER interaction heat map"
   ],
   "cell_type": "markdown",
   "metadata": {}
  },
  {
   "cell_type": "code",
   "execution_count": 18,
   "metadata": {},
   "outputs": [
    {
     "output_type": "stream",
     "name": "stdout",
     "text": [
      "shopper_product took: 0\n<class 'pandas.core.frame.DataFrame'>\n"
     ]
    },
    {
     "output_type": "execute_result",
     "data": {
      "text/plain": [
       "product  0    1    2    3    4    5    6    7    8    9    ...  240  241  242  \\\n",
       "shopper                                                    ...                  \n",
       "0        NaN  NaN  NaN  NaN  1.0  NaN  NaN  NaN  NaN  NaN  ...  1.0  NaN  NaN   \n",
       "1        1.0  1.0  NaN  NaN  1.0  NaN  NaN  NaN  NaN  NaN  ...  NaN  NaN  NaN   \n",
       "2        NaN  1.0  NaN  NaN  NaN  NaN  1.0  NaN  NaN  1.0  ...  1.0  NaN  NaN   \n",
       "3        NaN  NaN  NaN  NaN  1.0  NaN  1.0  1.0  NaN  NaN  ...  NaN  NaN  NaN   \n",
       "4        NaN  NaN  1.0  NaN  NaN  NaN  NaN  NaN  NaN  NaN  ...  NaN  NaN  NaN   \n",
       "5        NaN  NaN  NaN  NaN  NaN  NaN  NaN  1.0  NaN  NaN  ...  NaN  NaN  1.0   \n",
       "6        NaN  1.0  NaN  NaN  NaN  NaN  1.0  NaN  NaN  NaN  ...  NaN  NaN  NaN   \n",
       "7        NaN  NaN  NaN  1.0  NaN  NaN  1.0  NaN  NaN  NaN  ...  NaN  NaN  1.0   \n",
       "8        NaN  NaN  NaN  1.0  1.0  NaN  NaN  NaN  NaN  NaN  ...  NaN  1.0  NaN   \n",
       "9        NaN  NaN  NaN  NaN  1.0  NaN  NaN  NaN  NaN  NaN  ...  NaN  NaN  NaN   \n",
       "10       NaN  NaN  NaN  NaN  NaN  NaN  NaN  1.0  NaN  NaN  ...  NaN  NaN  1.0   \n",
       "11       NaN  1.0  NaN  NaN  1.0  NaN  NaN  NaN  NaN  NaN  ...  1.0  NaN  1.0   \n",
       "12       NaN  1.0  NaN  NaN  1.0  NaN  NaN  NaN  NaN  NaN  ...  NaN  NaN  NaN   \n",
       "13       NaN  NaN  NaN  NaN  NaN  NaN  NaN  NaN  1.0  NaN  ...  1.0  1.0  1.0   \n",
       "14       NaN  1.0  NaN  NaN  NaN  NaN  NaN  NaN  NaN  NaN  ...  NaN  1.0  NaN   \n",
       "15       1.0  1.0  1.0  NaN  NaN  NaN  NaN  1.0  NaN  NaN  ...  1.0  NaN  NaN   \n",
       "16       NaN  1.0  NaN  NaN  NaN  NaN  NaN  NaN  NaN  NaN  ...  NaN  NaN  NaN   \n",
       "17       NaN  1.0  NaN  NaN  NaN  NaN  NaN  NaN  1.0  NaN  ...  NaN  NaN  NaN   \n",
       "18       NaN  1.0  1.0  NaN  NaN  NaN  1.0  1.0  NaN  NaN  ...  NaN  1.0  1.0   \n",
       "19       NaN  1.0  NaN  NaN  NaN  NaN  1.0  NaN  NaN  NaN  ...  NaN  NaN  1.0   \n",
       "20       1.0  NaN  NaN  NaN  NaN  1.0  NaN  1.0  NaN  1.0  ...  NaN  NaN  NaN   \n",
       "21       1.0  NaN  NaN  NaN  NaN  1.0  NaN  NaN  NaN  1.0  ...  NaN  NaN  NaN   \n",
       "22       NaN  1.0  1.0  NaN  NaN  1.0  1.0  NaN  NaN  NaN  ...  NaN  NaN  NaN   \n",
       "23       1.0  NaN  NaN  NaN  NaN  NaN  NaN  1.0  1.0  NaN  ...  1.0  1.0  NaN   \n",
       "24       NaN  1.0  NaN  NaN  NaN  NaN  1.0  1.0  NaN  NaN  ...  NaN  NaN  1.0   \n",
       "25       1.0  1.0  1.0  NaN  1.0  1.0  NaN  1.0  NaN  NaN  ...  NaN  NaN  NaN   \n",
       "26       NaN  NaN  NaN  NaN  NaN  NaN  NaN  NaN  NaN  NaN  ...  NaN  NaN  1.0   \n",
       "27       NaN  1.0  1.0  NaN  NaN  NaN  1.0  1.0  NaN  NaN  ...  NaN  NaN  1.0   \n",
       "28       NaN  1.0  NaN  NaN  NaN  NaN  NaN  NaN  NaN  NaN  ...  NaN  NaN  NaN   \n",
       "29       NaN  NaN  NaN  NaN  NaN  NaN  NaN  NaN  NaN  NaN  ...  NaN  1.0  1.0   \n",
       "30       NaN  NaN  NaN  NaN  1.0  NaN  1.0  NaN  1.0  1.0  ...  NaN  NaN  1.0   \n",
       "31       NaN  1.0  1.0  NaN  NaN  NaN  1.0  1.0  1.0  1.0  ...  NaN  NaN  NaN   \n",
       "32       NaN  NaN  NaN  1.0  1.0  NaN  NaN  NaN  NaN  NaN  ...  NaN  NaN  NaN   \n",
       "33       1.0  NaN  NaN  NaN  1.0  NaN  1.0  1.0  NaN  NaN  ...  NaN  NaN  NaN   \n",
       "34       NaN  1.0  NaN  NaN  NaN  NaN  1.0  NaN  1.0  1.0  ...  1.0  NaN  NaN   \n",
       "35       1.0  NaN  NaN  NaN  NaN  NaN  1.0  1.0  1.0  NaN  ...  1.0  NaN  1.0   \n",
       "36       NaN  NaN  NaN  1.0  NaN  1.0  NaN  NaN  NaN  NaN  ...  1.0  NaN  NaN   \n",
       "37       1.0  1.0  NaN  NaN  1.0  NaN  NaN  1.0  NaN  NaN  ...  1.0  1.0  1.0   \n",
       "38       NaN  NaN  NaN  NaN  NaN  1.0  NaN  NaN  1.0  NaN  ...  1.0  NaN  NaN   \n",
       "39       NaN  NaN  1.0  NaN  1.0  1.0  1.0  1.0  NaN  NaN  ...  1.0  1.0  NaN   \n",
       "40       NaN  NaN  NaN  NaN  NaN  NaN  NaN  NaN  NaN  NaN  ...  NaN  1.0  NaN   \n",
       "41       NaN  NaN  NaN  NaN  1.0  NaN  NaN  NaN  1.0  NaN  ...  1.0  NaN  NaN   \n",
       "42       NaN  NaN  1.0  1.0  1.0  NaN  1.0  NaN  NaN  NaN  ...  NaN  1.0  1.0   \n",
       "43       NaN  NaN  NaN  NaN  1.0  NaN  NaN  NaN  NaN  NaN  ...  NaN  1.0  NaN   \n",
       "44       NaN  NaN  NaN  NaN  1.0  1.0  NaN  NaN  NaN  NaN  ...  NaN  NaN  NaN   \n",
       "45       1.0  NaN  NaN  NaN  1.0  1.0  NaN  NaN  NaN  NaN  ...  NaN  NaN  NaN   \n",
       "46       NaN  1.0  NaN  NaN  NaN  1.0  NaN  NaN  NaN  NaN  ...  NaN  NaN  NaN   \n",
       "47       NaN  NaN  NaN  NaN  NaN  NaN  NaN  NaN  NaN  NaN  ...  NaN  1.0  1.0   \n",
       "48       NaN  NaN  NaN  NaN  1.0  NaN  NaN  NaN  NaN  NaN  ...  NaN  NaN  NaN   \n",
       "49       NaN  1.0  1.0  NaN  NaN  1.0  NaN  NaN  NaN  NaN  ...  NaN  NaN  NaN   \n",
       "\n",
       "product  243  244  245  246  247  248  249  \n",
       "shopper                                     \n",
       "0        1.0  1.0  NaN  NaN  NaN  NaN  1.0  \n",
       "1        NaN  NaN  NaN  NaN  NaN  NaN  1.0  \n",
       "2        NaN  NaN  1.0  NaN  NaN  1.0  1.0  \n",
       "3        1.0  NaN  1.0  NaN  NaN  1.0  1.0  \n",
       "4        NaN  NaN  NaN  NaN  NaN  NaN  NaN  \n",
       "5        NaN  NaN  NaN  NaN  NaN  NaN  NaN  \n",
       "6        NaN  NaN  NaN  NaN  NaN  1.0  NaN  \n",
       "7        NaN  NaN  NaN  1.0  NaN  1.0  1.0  \n",
       "8        NaN  NaN  NaN  NaN  1.0  NaN  1.0  \n",
       "9        NaN  1.0  1.0  NaN  NaN  NaN  1.0  \n",
       "10       NaN  NaN  NaN  NaN  NaN  NaN  NaN  \n",
       "11       NaN  1.0  1.0  NaN  NaN  1.0  1.0  \n",
       "12       NaN  1.0  NaN  NaN  NaN  NaN  NaN  \n",
       "13       NaN  1.0  NaN  NaN  1.0  NaN  1.0  \n",
       "14       1.0  NaN  1.0  NaN  NaN  1.0  1.0  \n",
       "15       NaN  1.0  NaN  1.0  NaN  1.0  NaN  \n",
       "16       NaN  NaN  NaN  NaN  NaN  1.0  NaN  \n",
       "17       NaN  NaN  NaN  NaN  NaN  NaN  1.0  \n",
       "18       1.0  1.0  NaN  NaN  1.0  1.0  NaN  \n",
       "19       NaN  NaN  NaN  NaN  NaN  1.0  NaN  \n",
       "20       NaN  1.0  NaN  NaN  NaN  NaN  NaN  \n",
       "21       NaN  NaN  NaN  NaN  NaN  NaN  1.0  \n",
       "22       NaN  NaN  NaN  NaN  1.0  1.0  NaN  \n",
       "23       NaN  1.0  1.0  NaN  NaN  1.0  NaN  \n",
       "24       NaN  NaN  NaN  NaN  NaN  NaN  NaN  \n",
       "25       NaN  NaN  NaN  NaN  NaN  NaN  1.0  \n",
       "26       NaN  1.0  NaN  NaN  NaN  1.0  NaN  \n",
       "27       NaN  NaN  NaN  NaN  NaN  NaN  NaN  \n",
       "28       NaN  1.0  NaN  NaN  NaN  1.0  NaN  \n",
       "29       NaN  1.0  NaN  NaN  NaN  NaN  NaN  \n",
       "30       1.0  NaN  1.0  NaN  NaN  NaN  1.0  \n",
       "31       NaN  NaN  NaN  NaN  NaN  1.0  NaN  \n",
       "32       NaN  NaN  NaN  NaN  NaN  NaN  1.0  \n",
       "33       1.0  NaN  NaN  NaN  NaN  1.0  NaN  \n",
       "34       NaN  NaN  NaN  NaN  NaN  NaN  NaN  \n",
       "35       1.0  NaN  NaN  NaN  NaN  NaN  1.0  \n",
       "36       1.0  NaN  NaN  NaN  NaN  NaN  1.0  \n",
       "37       1.0  1.0  NaN  NaN  1.0  1.0  NaN  \n",
       "38       NaN  NaN  NaN  NaN  NaN  NaN  NaN  \n",
       "39       1.0  NaN  NaN  NaN  1.0  NaN  1.0  \n",
       "40       1.0  1.0  NaN  NaN  NaN  NaN  NaN  \n",
       "41       NaN  NaN  1.0  1.0  NaN  NaN  1.0  \n",
       "42       1.0  NaN  NaN  1.0  NaN  1.0  NaN  \n",
       "43       1.0  1.0  NaN  NaN  NaN  NaN  1.0  \n",
       "44       NaN  NaN  1.0  NaN  NaN  NaN  1.0  \n",
       "45       1.0  NaN  NaN  NaN  NaN  NaN  NaN  \n",
       "46       NaN  1.0  NaN  1.0  NaN  NaN  NaN  \n",
       "47       1.0  NaN  1.0  1.0  1.0  1.0  1.0  \n",
       "48       1.0  NaN  1.0  NaN  NaN  1.0  NaN  \n",
       "49       NaN  NaN  NaN  NaN  NaN  1.0  NaN  \n",
       "\n",
       "[50 rows x 250 columns]"
      ],
      "text/html": "<div>\n<style scoped>\n    .dataframe tbody tr th:only-of-type {\n        vertical-align: middle;\n    }\n\n    .dataframe tbody tr th {\n        vertical-align: top;\n    }\n\n    .dataframe thead th {\n        text-align: right;\n    }\n</style>\n<table border=\"1\" class=\"dataframe\">\n  <thead>\n    <tr style=\"text-align: right;\">\n      <th>product</th>\n      <th>0</th>\n      <th>1</th>\n      <th>2</th>\n      <th>3</th>\n      <th>4</th>\n      <th>5</th>\n      <th>6</th>\n      <th>7</th>\n      <th>8</th>\n      <th>9</th>\n      <th>...</th>\n      <th>240</th>\n      <th>241</th>\n      <th>242</th>\n      <th>243</th>\n      <th>244</th>\n      <th>245</th>\n      <th>246</th>\n      <th>247</th>\n      <th>248</th>\n      <th>249</th>\n    </tr>\n    <tr>\n      <th>shopper</th>\n      <th></th>\n      <th></th>\n      <th></th>\n      <th></th>\n      <th></th>\n      <th></th>\n      <th></th>\n      <th></th>\n      <th></th>\n      <th></th>\n      <th></th>\n      <th></th>\n      <th></th>\n      <th></th>\n      <th></th>\n      <th></th>\n      <th></th>\n      <th></th>\n      <th></th>\n      <th></th>\n      <th></th>\n    </tr>\n  </thead>\n  <tbody>\n    <tr>\n      <th>0</th>\n      <td>NaN</td>\n      <td>NaN</td>\n      <td>NaN</td>\n      <td>NaN</td>\n      <td>1.0</td>\n      <td>NaN</td>\n      <td>NaN</td>\n      <td>NaN</td>\n      <td>NaN</td>\n      <td>NaN</td>\n      <td>...</td>\n      <td>1.0</td>\n      <td>NaN</td>\n      <td>NaN</td>\n      <td>1.0</td>\n      <td>1.0</td>\n      <td>NaN</td>\n      <td>NaN</td>\n      <td>NaN</td>\n      <td>NaN</td>\n      <td>1.0</td>\n    </tr>\n    <tr>\n      <th>1</th>\n      <td>1.0</td>\n      <td>1.0</td>\n      <td>NaN</td>\n      <td>NaN</td>\n      <td>1.0</td>\n      <td>NaN</td>\n      <td>NaN</td>\n      <td>NaN</td>\n      <td>NaN</td>\n      <td>NaN</td>\n      <td>...</td>\n      <td>NaN</td>\n      <td>NaN</td>\n      <td>NaN</td>\n      <td>NaN</td>\n      <td>NaN</td>\n      <td>NaN</td>\n      <td>NaN</td>\n      <td>NaN</td>\n      <td>NaN</td>\n      <td>1.0</td>\n    </tr>\n    <tr>\n      <th>2</th>\n      <td>NaN</td>\n      <td>1.0</td>\n      <td>NaN</td>\n      <td>NaN</td>\n      <td>NaN</td>\n      <td>NaN</td>\n      <td>1.0</td>\n      <td>NaN</td>\n      <td>NaN</td>\n      <td>1.0</td>\n      <td>...</td>\n      <td>1.0</td>\n      <td>NaN</td>\n      <td>NaN</td>\n      <td>NaN</td>\n      <td>NaN</td>\n      <td>1.0</td>\n      <td>NaN</td>\n      <td>NaN</td>\n      <td>1.0</td>\n      <td>1.0</td>\n    </tr>\n    <tr>\n      <th>3</th>\n      <td>NaN</td>\n      <td>NaN</td>\n      <td>NaN</td>\n      <td>NaN</td>\n      <td>1.0</td>\n      <td>NaN</td>\n      <td>1.0</td>\n      <td>1.0</td>\n      <td>NaN</td>\n      <td>NaN</td>\n      <td>...</td>\n      <td>NaN</td>\n      <td>NaN</td>\n      <td>NaN</td>\n      <td>1.0</td>\n      <td>NaN</td>\n      <td>1.0</td>\n      <td>NaN</td>\n      <td>NaN</td>\n      <td>1.0</td>\n      <td>1.0</td>\n    </tr>\n    <tr>\n      <th>4</th>\n      <td>NaN</td>\n      <td>NaN</td>\n      <td>1.0</td>\n      <td>NaN</td>\n      <td>NaN</td>\n      <td>NaN</td>\n      <td>NaN</td>\n      <td>NaN</td>\n      <td>NaN</td>\n      <td>NaN</td>\n      <td>...</td>\n      <td>NaN</td>\n      <td>NaN</td>\n      <td>NaN</td>\n      <td>NaN</td>\n      <td>NaN</td>\n      <td>NaN</td>\n      <td>NaN</td>\n      <td>NaN</td>\n      <td>NaN</td>\n      <td>NaN</td>\n    </tr>\n    <tr>\n      <th>5</th>\n      <td>NaN</td>\n      <td>NaN</td>\n      <td>NaN</td>\n      <td>NaN</td>\n      <td>NaN</td>\n      <td>NaN</td>\n      <td>NaN</td>\n      <td>1.0</td>\n      <td>NaN</td>\n      <td>NaN</td>\n      <td>...</td>\n      <td>NaN</td>\n      <td>NaN</td>\n      <td>1.0</td>\n      <td>NaN</td>\n      <td>NaN</td>\n      <td>NaN</td>\n      <td>NaN</td>\n      <td>NaN</td>\n      <td>NaN</td>\n      <td>NaN</td>\n    </tr>\n    <tr>\n      <th>6</th>\n      <td>NaN</td>\n      <td>1.0</td>\n      <td>NaN</td>\n      <td>NaN</td>\n      <td>NaN</td>\n      <td>NaN</td>\n      <td>1.0</td>\n      <td>NaN</td>\n      <td>NaN</td>\n      <td>NaN</td>\n      <td>...</td>\n      <td>NaN</td>\n      <td>NaN</td>\n      <td>NaN</td>\n      <td>NaN</td>\n      <td>NaN</td>\n      <td>NaN</td>\n      <td>NaN</td>\n      <td>NaN</td>\n      <td>1.0</td>\n      <td>NaN</td>\n    </tr>\n    <tr>\n      <th>7</th>\n      <td>NaN</td>\n      <td>NaN</td>\n      <td>NaN</td>\n      <td>1.0</td>\n      <td>NaN</td>\n      <td>NaN</td>\n      <td>1.0</td>\n      <td>NaN</td>\n      <td>NaN</td>\n      <td>NaN</td>\n      <td>...</td>\n      <td>NaN</td>\n      <td>NaN</td>\n      <td>1.0</td>\n      <td>NaN</td>\n      <td>NaN</td>\n      <td>NaN</td>\n      <td>1.0</td>\n      <td>NaN</td>\n      <td>1.0</td>\n      <td>1.0</td>\n    </tr>\n    <tr>\n      <th>8</th>\n      <td>NaN</td>\n      <td>NaN</td>\n      <td>NaN</td>\n      <td>1.0</td>\n      <td>1.0</td>\n      <td>NaN</td>\n      <td>NaN</td>\n      <td>NaN</td>\n      <td>NaN</td>\n      <td>NaN</td>\n      <td>...</td>\n      <td>NaN</td>\n      <td>1.0</td>\n      <td>NaN</td>\n      <td>NaN</td>\n      <td>NaN</td>\n      <td>NaN</td>\n      <td>NaN</td>\n      <td>1.0</td>\n      <td>NaN</td>\n      <td>1.0</td>\n    </tr>\n    <tr>\n      <th>9</th>\n      <td>NaN</td>\n      <td>NaN</td>\n      <td>NaN</td>\n      <td>NaN</td>\n      <td>1.0</td>\n      <td>NaN</td>\n      <td>NaN</td>\n      <td>NaN</td>\n      <td>NaN</td>\n      <td>NaN</td>\n      <td>...</td>\n      <td>NaN</td>\n      <td>NaN</td>\n      <td>NaN</td>\n      <td>NaN</td>\n      <td>1.0</td>\n      <td>1.0</td>\n      <td>NaN</td>\n      <td>NaN</td>\n      <td>NaN</td>\n      <td>1.0</td>\n    </tr>\n    <tr>\n      <th>10</th>\n      <td>NaN</td>\n      <td>NaN</td>\n      <td>NaN</td>\n      <td>NaN</td>\n      <td>NaN</td>\n      <td>NaN</td>\n      <td>NaN</td>\n      <td>1.0</td>\n      <td>NaN</td>\n      <td>NaN</td>\n      <td>...</td>\n      <td>NaN</td>\n      <td>NaN</td>\n      <td>1.0</td>\n      <td>NaN</td>\n      <td>NaN</td>\n      <td>NaN</td>\n      <td>NaN</td>\n      <td>NaN</td>\n      <td>NaN</td>\n      <td>NaN</td>\n    </tr>\n    <tr>\n      <th>11</th>\n      <td>NaN</td>\n      <td>1.0</td>\n      <td>NaN</td>\n      <td>NaN</td>\n      <td>1.0</td>\n      <td>NaN</td>\n      <td>NaN</td>\n      <td>NaN</td>\n      <td>NaN</td>\n      <td>NaN</td>\n      <td>...</td>\n      <td>1.0</td>\n      <td>NaN</td>\n      <td>1.0</td>\n      <td>NaN</td>\n      <td>1.0</td>\n      <td>1.0</td>\n      <td>NaN</td>\n      <td>NaN</td>\n      <td>1.0</td>\n      <td>1.0</td>\n    </tr>\n    <tr>\n      <th>12</th>\n      <td>NaN</td>\n      <td>1.0</td>\n      <td>NaN</td>\n      <td>NaN</td>\n      <td>1.0</td>\n      <td>NaN</td>\n      <td>NaN</td>\n      <td>NaN</td>\n      <td>NaN</td>\n      <td>NaN</td>\n      <td>...</td>\n      <td>NaN</td>\n      <td>NaN</td>\n      <td>NaN</td>\n      <td>NaN</td>\n      <td>1.0</td>\n      <td>NaN</td>\n      <td>NaN</td>\n      <td>NaN</td>\n      <td>NaN</td>\n      <td>NaN</td>\n    </tr>\n    <tr>\n      <th>13</th>\n      <td>NaN</td>\n      <td>NaN</td>\n      <td>NaN</td>\n      <td>NaN</td>\n      <td>NaN</td>\n      <td>NaN</td>\n      <td>NaN</td>\n      <td>NaN</td>\n      <td>1.0</td>\n      <td>NaN</td>\n      <td>...</td>\n      <td>1.0</td>\n      <td>1.0</td>\n      <td>1.0</td>\n      <td>NaN</td>\n      <td>1.0</td>\n      <td>NaN</td>\n      <td>NaN</td>\n      <td>1.0</td>\n      <td>NaN</td>\n      <td>1.0</td>\n    </tr>\n    <tr>\n      <th>14</th>\n      <td>NaN</td>\n      <td>1.0</td>\n      <td>NaN</td>\n      <td>NaN</td>\n      <td>NaN</td>\n      <td>NaN</td>\n      <td>NaN</td>\n      <td>NaN</td>\n      <td>NaN</td>\n      <td>NaN</td>\n      <td>...</td>\n      <td>NaN</td>\n      <td>1.0</td>\n      <td>NaN</td>\n      <td>1.0</td>\n      <td>NaN</td>\n      <td>1.0</td>\n      <td>NaN</td>\n      <td>NaN</td>\n      <td>1.0</td>\n      <td>1.0</td>\n    </tr>\n    <tr>\n      <th>15</th>\n      <td>1.0</td>\n      <td>1.0</td>\n      <td>1.0</td>\n      <td>NaN</td>\n      <td>NaN</td>\n      <td>NaN</td>\n      <td>NaN</td>\n      <td>1.0</td>\n      <td>NaN</td>\n      <td>NaN</td>\n      <td>...</td>\n      <td>1.0</td>\n      <td>NaN</td>\n      <td>NaN</td>\n      <td>NaN</td>\n      <td>1.0</td>\n      <td>NaN</td>\n      <td>1.0</td>\n      <td>NaN</td>\n      <td>1.0</td>\n      <td>NaN</td>\n    </tr>\n    <tr>\n      <th>16</th>\n      <td>NaN</td>\n      <td>1.0</td>\n      <td>NaN</td>\n      <td>NaN</td>\n      <td>NaN</td>\n      <td>NaN</td>\n      <td>NaN</td>\n      <td>NaN</td>\n      <td>NaN</td>\n      <td>NaN</td>\n      <td>...</td>\n      <td>NaN</td>\n      <td>NaN</td>\n      <td>NaN</td>\n      <td>NaN</td>\n      <td>NaN</td>\n      <td>NaN</td>\n      <td>NaN</td>\n      <td>NaN</td>\n      <td>1.0</td>\n      <td>NaN</td>\n    </tr>\n    <tr>\n      <th>17</th>\n      <td>NaN</td>\n      <td>1.0</td>\n      <td>NaN</td>\n      <td>NaN</td>\n      <td>NaN</td>\n      <td>NaN</td>\n      <td>NaN</td>\n      <td>NaN</td>\n      <td>1.0</td>\n      <td>NaN</td>\n      <td>...</td>\n      <td>NaN</td>\n      <td>NaN</td>\n      <td>NaN</td>\n      <td>NaN</td>\n      <td>NaN</td>\n      <td>NaN</td>\n      <td>NaN</td>\n      <td>NaN</td>\n      <td>NaN</td>\n      <td>1.0</td>\n    </tr>\n    <tr>\n      <th>18</th>\n      <td>NaN</td>\n      <td>1.0</td>\n      <td>1.0</td>\n      <td>NaN</td>\n      <td>NaN</td>\n      <td>NaN</td>\n      <td>1.0</td>\n      <td>1.0</td>\n      <td>NaN</td>\n      <td>NaN</td>\n      <td>...</td>\n      <td>NaN</td>\n      <td>1.0</td>\n      <td>1.0</td>\n      <td>1.0</td>\n      <td>1.0</td>\n      <td>NaN</td>\n      <td>NaN</td>\n      <td>1.0</td>\n      <td>1.0</td>\n      <td>NaN</td>\n    </tr>\n    <tr>\n      <th>19</th>\n      <td>NaN</td>\n      <td>1.0</td>\n      <td>NaN</td>\n      <td>NaN</td>\n      <td>NaN</td>\n      <td>NaN</td>\n      <td>1.0</td>\n      <td>NaN</td>\n      <td>NaN</td>\n      <td>NaN</td>\n      <td>...</td>\n      <td>NaN</td>\n      <td>NaN</td>\n      <td>1.0</td>\n      <td>NaN</td>\n      <td>NaN</td>\n      <td>NaN</td>\n      <td>NaN</td>\n      <td>NaN</td>\n      <td>1.0</td>\n      <td>NaN</td>\n    </tr>\n    <tr>\n      <th>20</th>\n      <td>1.0</td>\n      <td>NaN</td>\n      <td>NaN</td>\n      <td>NaN</td>\n      <td>NaN</td>\n      <td>1.0</td>\n      <td>NaN</td>\n      <td>1.0</td>\n      <td>NaN</td>\n      <td>1.0</td>\n      <td>...</td>\n      <td>NaN</td>\n      <td>NaN</td>\n      <td>NaN</td>\n      <td>NaN</td>\n      <td>1.0</td>\n      <td>NaN</td>\n      <td>NaN</td>\n      <td>NaN</td>\n      <td>NaN</td>\n      <td>NaN</td>\n    </tr>\n    <tr>\n      <th>21</th>\n      <td>1.0</td>\n      <td>NaN</td>\n      <td>NaN</td>\n      <td>NaN</td>\n      <td>NaN</td>\n      <td>1.0</td>\n      <td>NaN</td>\n      <td>NaN</td>\n      <td>NaN</td>\n      <td>1.0</td>\n      <td>...</td>\n      <td>NaN</td>\n      <td>NaN</td>\n      <td>NaN</td>\n      <td>NaN</td>\n      <td>NaN</td>\n      <td>NaN</td>\n      <td>NaN</td>\n      <td>NaN</td>\n      <td>NaN</td>\n      <td>1.0</td>\n    </tr>\n    <tr>\n      <th>22</th>\n      <td>NaN</td>\n      <td>1.0</td>\n      <td>1.0</td>\n      <td>NaN</td>\n      <td>NaN</td>\n      <td>1.0</td>\n      <td>1.0</td>\n      <td>NaN</td>\n      <td>NaN</td>\n      <td>NaN</td>\n      <td>...</td>\n      <td>NaN</td>\n      <td>NaN</td>\n      <td>NaN</td>\n      <td>NaN</td>\n      <td>NaN</td>\n      <td>NaN</td>\n      <td>NaN</td>\n      <td>1.0</td>\n      <td>1.0</td>\n      <td>NaN</td>\n    </tr>\n    <tr>\n      <th>23</th>\n      <td>1.0</td>\n      <td>NaN</td>\n      <td>NaN</td>\n      <td>NaN</td>\n      <td>NaN</td>\n      <td>NaN</td>\n      <td>NaN</td>\n      <td>1.0</td>\n      <td>1.0</td>\n      <td>NaN</td>\n      <td>...</td>\n      <td>1.0</td>\n      <td>1.0</td>\n      <td>NaN</td>\n      <td>NaN</td>\n      <td>1.0</td>\n      <td>1.0</td>\n      <td>NaN</td>\n      <td>NaN</td>\n      <td>1.0</td>\n      <td>NaN</td>\n    </tr>\n    <tr>\n      <th>24</th>\n      <td>NaN</td>\n      <td>1.0</td>\n      <td>NaN</td>\n      <td>NaN</td>\n      <td>NaN</td>\n      <td>NaN</td>\n      <td>1.0</td>\n      <td>1.0</td>\n      <td>NaN</td>\n      <td>NaN</td>\n      <td>...</td>\n      <td>NaN</td>\n      <td>NaN</td>\n      <td>1.0</td>\n      <td>NaN</td>\n      <td>NaN</td>\n      <td>NaN</td>\n      <td>NaN</td>\n      <td>NaN</td>\n      <td>NaN</td>\n      <td>NaN</td>\n    </tr>\n    <tr>\n      <th>25</th>\n      <td>1.0</td>\n      <td>1.0</td>\n      <td>1.0</td>\n      <td>NaN</td>\n      <td>1.0</td>\n      <td>1.0</td>\n      <td>NaN</td>\n      <td>1.0</td>\n      <td>NaN</td>\n      <td>NaN</td>\n      <td>...</td>\n      <td>NaN</td>\n      <td>NaN</td>\n      <td>NaN</td>\n      <td>NaN</td>\n      <td>NaN</td>\n      <td>NaN</td>\n      <td>NaN</td>\n      <td>NaN</td>\n      <td>NaN</td>\n      <td>1.0</td>\n    </tr>\n    <tr>\n      <th>26</th>\n      <td>NaN</td>\n      <td>NaN</td>\n      <td>NaN</td>\n      <td>NaN</td>\n      <td>NaN</td>\n      <td>NaN</td>\n      <td>NaN</td>\n      <td>NaN</td>\n      <td>NaN</td>\n      <td>NaN</td>\n      <td>...</td>\n      <td>NaN</td>\n      <td>NaN</td>\n      <td>1.0</td>\n      <td>NaN</td>\n      <td>1.0</td>\n      <td>NaN</td>\n      <td>NaN</td>\n      <td>NaN</td>\n      <td>1.0</td>\n      <td>NaN</td>\n    </tr>\n    <tr>\n      <th>27</th>\n      <td>NaN</td>\n      <td>1.0</td>\n      <td>1.0</td>\n      <td>NaN</td>\n      <td>NaN</td>\n      <td>NaN</td>\n      <td>1.0</td>\n      <td>1.0</td>\n      <td>NaN</td>\n      <td>NaN</td>\n      <td>...</td>\n      <td>NaN</td>\n      <td>NaN</td>\n      <td>1.0</td>\n      <td>NaN</td>\n      <td>NaN</td>\n      <td>NaN</td>\n      <td>NaN</td>\n      <td>NaN</td>\n      <td>NaN</td>\n      <td>NaN</td>\n    </tr>\n    <tr>\n      <th>28</th>\n      <td>NaN</td>\n      <td>1.0</td>\n      <td>NaN</td>\n      <td>NaN</td>\n      <td>NaN</td>\n      <td>NaN</td>\n      <td>NaN</td>\n      <td>NaN</td>\n      <td>NaN</td>\n      <td>NaN</td>\n      <td>...</td>\n      <td>NaN</td>\n      <td>NaN</td>\n      <td>NaN</td>\n      <td>NaN</td>\n      <td>1.0</td>\n      <td>NaN</td>\n      <td>NaN</td>\n      <td>NaN</td>\n      <td>1.0</td>\n      <td>NaN</td>\n    </tr>\n    <tr>\n      <th>29</th>\n      <td>NaN</td>\n      <td>NaN</td>\n      <td>NaN</td>\n      <td>NaN</td>\n      <td>NaN</td>\n      <td>NaN</td>\n      <td>NaN</td>\n      <td>NaN</td>\n      <td>NaN</td>\n      <td>NaN</td>\n      <td>...</td>\n      <td>NaN</td>\n      <td>1.0</td>\n      <td>1.0</td>\n      <td>NaN</td>\n      <td>1.0</td>\n      <td>NaN</td>\n      <td>NaN</td>\n      <td>NaN</td>\n      <td>NaN</td>\n      <td>NaN</td>\n    </tr>\n    <tr>\n      <th>30</th>\n      <td>NaN</td>\n      <td>NaN</td>\n      <td>NaN</td>\n      <td>NaN</td>\n      <td>1.0</td>\n      <td>NaN</td>\n      <td>1.0</td>\n      <td>NaN</td>\n      <td>1.0</td>\n      <td>1.0</td>\n      <td>...</td>\n      <td>NaN</td>\n      <td>NaN</td>\n      <td>1.0</td>\n      <td>1.0</td>\n      <td>NaN</td>\n      <td>1.0</td>\n      <td>NaN</td>\n      <td>NaN</td>\n      <td>NaN</td>\n      <td>1.0</td>\n    </tr>\n    <tr>\n      <th>31</th>\n      <td>NaN</td>\n      <td>1.0</td>\n      <td>1.0</td>\n      <td>NaN</td>\n      <td>NaN</td>\n      <td>NaN</td>\n      <td>1.0</td>\n      <td>1.0</td>\n      <td>1.0</td>\n      <td>1.0</td>\n      <td>...</td>\n      <td>NaN</td>\n      <td>NaN</td>\n      <td>NaN</td>\n      <td>NaN</td>\n      <td>NaN</td>\n      <td>NaN</td>\n      <td>NaN</td>\n      <td>NaN</td>\n      <td>1.0</td>\n      <td>NaN</td>\n    </tr>\n    <tr>\n      <th>32</th>\n      <td>NaN</td>\n      <td>NaN</td>\n      <td>NaN</td>\n      <td>1.0</td>\n      <td>1.0</td>\n      <td>NaN</td>\n      <td>NaN</td>\n      <td>NaN</td>\n      <td>NaN</td>\n      <td>NaN</td>\n      <td>...</td>\n      <td>NaN</td>\n      <td>NaN</td>\n      <td>NaN</td>\n      <td>NaN</td>\n      <td>NaN</td>\n      <td>NaN</td>\n      <td>NaN</td>\n      <td>NaN</td>\n      <td>NaN</td>\n      <td>1.0</td>\n    </tr>\n    <tr>\n      <th>33</th>\n      <td>1.0</td>\n      <td>NaN</td>\n      <td>NaN</td>\n      <td>NaN</td>\n      <td>1.0</td>\n      <td>NaN</td>\n      <td>1.0</td>\n      <td>1.0</td>\n      <td>NaN</td>\n      <td>NaN</td>\n      <td>...</td>\n      <td>NaN</td>\n      <td>NaN</td>\n      <td>NaN</td>\n      <td>1.0</td>\n      <td>NaN</td>\n      <td>NaN</td>\n      <td>NaN</td>\n      <td>NaN</td>\n      <td>1.0</td>\n      <td>NaN</td>\n    </tr>\n    <tr>\n      <th>34</th>\n      <td>NaN</td>\n      <td>1.0</td>\n      <td>NaN</td>\n      <td>NaN</td>\n      <td>NaN</td>\n      <td>NaN</td>\n      <td>1.0</td>\n      <td>NaN</td>\n      <td>1.0</td>\n      <td>1.0</td>\n      <td>...</td>\n      <td>1.0</td>\n      <td>NaN</td>\n      <td>NaN</td>\n      <td>NaN</td>\n      <td>NaN</td>\n      <td>NaN</td>\n      <td>NaN</td>\n      <td>NaN</td>\n      <td>NaN</td>\n      <td>NaN</td>\n    </tr>\n    <tr>\n      <th>35</th>\n      <td>1.0</td>\n      <td>NaN</td>\n      <td>NaN</td>\n      <td>NaN</td>\n      <td>NaN</td>\n      <td>NaN</td>\n      <td>1.0</td>\n      <td>1.0</td>\n      <td>1.0</td>\n      <td>NaN</td>\n      <td>...</td>\n      <td>1.0</td>\n      <td>NaN</td>\n      <td>1.0</td>\n      <td>1.0</td>\n      <td>NaN</td>\n      <td>NaN</td>\n      <td>NaN</td>\n      <td>NaN</td>\n      <td>NaN</td>\n      <td>1.0</td>\n    </tr>\n    <tr>\n      <th>36</th>\n      <td>NaN</td>\n      <td>NaN</td>\n      <td>NaN</td>\n      <td>1.0</td>\n      <td>NaN</td>\n      <td>1.0</td>\n      <td>NaN</td>\n      <td>NaN</td>\n      <td>NaN</td>\n      <td>NaN</td>\n      <td>...</td>\n      <td>1.0</td>\n      <td>NaN</td>\n      <td>NaN</td>\n      <td>1.0</td>\n      <td>NaN</td>\n      <td>NaN</td>\n      <td>NaN</td>\n      <td>NaN</td>\n      <td>NaN</td>\n      <td>1.0</td>\n    </tr>\n    <tr>\n      <th>37</th>\n      <td>1.0</td>\n      <td>1.0</td>\n      <td>NaN</td>\n      <td>NaN</td>\n      <td>1.0</td>\n      <td>NaN</td>\n      <td>NaN</td>\n      <td>1.0</td>\n      <td>NaN</td>\n      <td>NaN</td>\n      <td>...</td>\n      <td>1.0</td>\n      <td>1.0</td>\n      <td>1.0</td>\n      <td>1.0</td>\n      <td>1.0</td>\n      <td>NaN</td>\n      <td>NaN</td>\n      <td>1.0</td>\n      <td>1.0</td>\n      <td>NaN</td>\n    </tr>\n    <tr>\n      <th>38</th>\n      <td>NaN</td>\n      <td>NaN</td>\n      <td>NaN</td>\n      <td>NaN</td>\n      <td>NaN</td>\n      <td>1.0</td>\n      <td>NaN</td>\n      <td>NaN</td>\n      <td>1.0</td>\n      <td>NaN</td>\n      <td>...</td>\n      <td>1.0</td>\n      <td>NaN</td>\n      <td>NaN</td>\n      <td>NaN</td>\n      <td>NaN</td>\n      <td>NaN</td>\n      <td>NaN</td>\n      <td>NaN</td>\n      <td>NaN</td>\n      <td>NaN</td>\n    </tr>\n    <tr>\n      <th>39</th>\n      <td>NaN</td>\n      <td>NaN</td>\n      <td>1.0</td>\n      <td>NaN</td>\n      <td>1.0</td>\n      <td>1.0</td>\n      <td>1.0</td>\n      <td>1.0</td>\n      <td>NaN</td>\n      <td>NaN</td>\n      <td>...</td>\n      <td>1.0</td>\n      <td>1.0</td>\n      <td>NaN</td>\n      <td>1.0</td>\n      <td>NaN</td>\n      <td>NaN</td>\n      <td>NaN</td>\n      <td>1.0</td>\n      <td>NaN</td>\n      <td>1.0</td>\n    </tr>\n    <tr>\n      <th>40</th>\n      <td>NaN</td>\n      <td>NaN</td>\n      <td>NaN</td>\n      <td>NaN</td>\n      <td>NaN</td>\n      <td>NaN</td>\n      <td>NaN</td>\n      <td>NaN</td>\n      <td>NaN</td>\n      <td>NaN</td>\n      <td>...</td>\n      <td>NaN</td>\n      <td>1.0</td>\n      <td>NaN</td>\n      <td>1.0</td>\n      <td>1.0</td>\n      <td>NaN</td>\n      <td>NaN</td>\n      <td>NaN</td>\n      <td>NaN</td>\n      <td>NaN</td>\n    </tr>\n    <tr>\n      <th>41</th>\n      <td>NaN</td>\n      <td>NaN</td>\n      <td>NaN</td>\n      <td>NaN</td>\n      <td>1.0</td>\n      <td>NaN</td>\n      <td>NaN</td>\n      <td>NaN</td>\n      <td>1.0</td>\n      <td>NaN</td>\n      <td>...</td>\n      <td>1.0</td>\n      <td>NaN</td>\n      <td>NaN</td>\n      <td>NaN</td>\n      <td>NaN</td>\n      <td>1.0</td>\n      <td>1.0</td>\n      <td>NaN</td>\n      <td>NaN</td>\n      <td>1.0</td>\n    </tr>\n    <tr>\n      <th>42</th>\n      <td>NaN</td>\n      <td>NaN</td>\n      <td>1.0</td>\n      <td>1.0</td>\n      <td>1.0</td>\n      <td>NaN</td>\n      <td>1.0</td>\n      <td>NaN</td>\n      <td>NaN</td>\n      <td>NaN</td>\n      <td>...</td>\n      <td>NaN</td>\n      <td>1.0</td>\n      <td>1.0</td>\n      <td>1.0</td>\n      <td>NaN</td>\n      <td>NaN</td>\n      <td>1.0</td>\n      <td>NaN</td>\n      <td>1.0</td>\n      <td>NaN</td>\n    </tr>\n    <tr>\n      <th>43</th>\n      <td>NaN</td>\n      <td>NaN</td>\n      <td>NaN</td>\n      <td>NaN</td>\n      <td>1.0</td>\n      <td>NaN</td>\n      <td>NaN</td>\n      <td>NaN</td>\n      <td>NaN</td>\n      <td>NaN</td>\n      <td>...</td>\n      <td>NaN</td>\n      <td>1.0</td>\n      <td>NaN</td>\n      <td>1.0</td>\n      <td>1.0</td>\n      <td>NaN</td>\n      <td>NaN</td>\n      <td>NaN</td>\n      <td>NaN</td>\n      <td>1.0</td>\n    </tr>\n    <tr>\n      <th>44</th>\n      <td>NaN</td>\n      <td>NaN</td>\n      <td>NaN</td>\n      <td>NaN</td>\n      <td>1.0</td>\n      <td>1.0</td>\n      <td>NaN</td>\n      <td>NaN</td>\n      <td>NaN</td>\n      <td>NaN</td>\n      <td>...</td>\n      <td>NaN</td>\n      <td>NaN</td>\n      <td>NaN</td>\n      <td>NaN</td>\n      <td>NaN</td>\n      <td>1.0</td>\n      <td>NaN</td>\n      <td>NaN</td>\n      <td>NaN</td>\n      <td>1.0</td>\n    </tr>\n    <tr>\n      <th>45</th>\n      <td>1.0</td>\n      <td>NaN</td>\n      <td>NaN</td>\n      <td>NaN</td>\n      <td>1.0</td>\n      <td>1.0</td>\n      <td>NaN</td>\n      <td>NaN</td>\n      <td>NaN</td>\n      <td>NaN</td>\n      <td>...</td>\n      <td>NaN</td>\n      <td>NaN</td>\n      <td>NaN</td>\n      <td>1.0</td>\n      <td>NaN</td>\n      <td>NaN</td>\n      <td>NaN</td>\n      <td>NaN</td>\n      <td>NaN</td>\n      <td>NaN</td>\n    </tr>\n    <tr>\n      <th>46</th>\n      <td>NaN</td>\n      <td>1.0</td>\n      <td>NaN</td>\n      <td>NaN</td>\n      <td>NaN</td>\n      <td>1.0</td>\n      <td>NaN</td>\n      <td>NaN</td>\n      <td>NaN</td>\n      <td>NaN</td>\n      <td>...</td>\n      <td>NaN</td>\n      <td>NaN</td>\n      <td>NaN</td>\n      <td>NaN</td>\n      <td>1.0</td>\n      <td>NaN</td>\n      <td>1.0</td>\n      <td>NaN</td>\n      <td>NaN</td>\n      <td>NaN</td>\n    </tr>\n    <tr>\n      <th>47</th>\n      <td>NaN</td>\n      <td>NaN</td>\n      <td>NaN</td>\n      <td>NaN</td>\n      <td>NaN</td>\n      <td>NaN</td>\n      <td>NaN</td>\n      <td>NaN</td>\n      <td>NaN</td>\n      <td>NaN</td>\n      <td>...</td>\n      <td>NaN</td>\n      <td>1.0</td>\n      <td>1.0</td>\n      <td>1.0</td>\n      <td>NaN</td>\n      <td>1.0</td>\n      <td>1.0</td>\n      <td>1.0</td>\n      <td>1.0</td>\n      <td>1.0</td>\n    </tr>\n    <tr>\n      <th>48</th>\n      <td>NaN</td>\n      <td>NaN</td>\n      <td>NaN</td>\n      <td>NaN</td>\n      <td>1.0</td>\n      <td>NaN</td>\n      <td>NaN</td>\n      <td>NaN</td>\n      <td>NaN</td>\n      <td>NaN</td>\n      <td>...</td>\n      <td>NaN</td>\n      <td>NaN</td>\n      <td>NaN</td>\n      <td>1.0</td>\n      <td>NaN</td>\n      <td>1.0</td>\n      <td>NaN</td>\n      <td>NaN</td>\n      <td>1.0</td>\n      <td>NaN</td>\n    </tr>\n    <tr>\n      <th>49</th>\n      <td>NaN</td>\n      <td>1.0</td>\n      <td>1.0</td>\n      <td>NaN</td>\n      <td>NaN</td>\n      <td>1.0</td>\n      <td>NaN</td>\n      <td>NaN</td>\n      <td>NaN</td>\n      <td>NaN</td>\n      <td>...</td>\n      <td>NaN</td>\n      <td>NaN</td>\n      <td>NaN</td>\n      <td>NaN</td>\n      <td>NaN</td>\n      <td>NaN</td>\n      <td>NaN</td>\n      <td>NaN</td>\n      <td>1.0</td>\n      <td>NaN</td>\n    </tr>\n  </tbody>\n</table>\n<p>50 rows × 250 columns</p>\n</div>"
     },
     "metadata": {},
     "execution_count": 18
    }
   ],
   "source": [
    "# map showing if shopper bought an item in his history\n",
    "\n",
    "try:\n",
    "    shopper_product = pd.read_parquet(f'data/shopper_product{shopper_50}ss.parquet')\n",
    "except FileNotFoundError:\n",
    "    start = time()\n",
    "    shopper_product = df.loc[df['price'] != 0] \\\n",
    "        .groupby(['shopper', 'product'], as_index=False) \\\n",
    "        .agg({'price': sum})\n",
    "\n",
    "    shopper_product['price'] = np.where(shopper_product['price'] > 0, 1, 0)\n",
    "\n",
    "    print(f\"shopper_product took: {timer(start)}\")\n",
    "\n",
    "    # shopper_product.to_parquet(f'data/shopper_product{shopper_50}.parquet')\n",
    "\n",
    "    # to pivot the data and make shopper as rows and weeks as columns\n",
    "    shopper_product = shopper_product.pivot(index='shopper', columns='product', values='price')\n",
    "    print(type(shopper_product))\n",
    "    # shopper_product = shopper_product.apply(lambda x: 0 if x == np.nan else x )\n",
    "\n",
    "shopper_product"
   ]
  },
  {
   "source": [
    "## How many times a shopper bought an item"
   ],
   "cell_type": "markdown",
   "metadata": {}
  },
  {
   "cell_type": "code",
   "execution_count": 19,
   "id": "cathedral-rainbow",
   "metadata": {},
   "outputs": [
    {
     "output_type": "execute_result",
     "data": {
      "text/plain": [
       "   shopper  product                                  week  count\n",
       "0        0        4      [70, 40, 45, 51, 54, 24, 58, 60]      8\n",
       "1        0       11  [32, 65, 72, 76, 46, 78, 84, 22, 62]      9\n",
       "2        0       15                                  [10]      1\n",
       "3        0       16                      [88, 25, 37, 30]      4\n",
       "4        0       21                                  [86]      1"
      ],
      "text/html": "<div>\n<style scoped>\n    .dataframe tbody tr th:only-of-type {\n        vertical-align: middle;\n    }\n\n    .dataframe tbody tr th {\n        vertical-align: top;\n    }\n\n    .dataframe thead th {\n        text-align: right;\n    }\n</style>\n<table border=\"1\" class=\"dataframe\">\n  <thead>\n    <tr style=\"text-align: right;\">\n      <th></th>\n      <th>shopper</th>\n      <th>product</th>\n      <th>week</th>\n      <th>count</th>\n    </tr>\n  </thead>\n  <tbody>\n    <tr>\n      <th>0</th>\n      <td>0</td>\n      <td>4</td>\n      <td>[70, 40, 45, 51, 54, 24, 58, 60]</td>\n      <td>8</td>\n    </tr>\n    <tr>\n      <th>1</th>\n      <td>0</td>\n      <td>11</td>\n      <td>[32, 65, 72, 76, 46, 78, 84, 22, 62]</td>\n      <td>9</td>\n    </tr>\n    <tr>\n      <th>2</th>\n      <td>0</td>\n      <td>15</td>\n      <td>[10]</td>\n      <td>1</td>\n    </tr>\n    <tr>\n      <th>3</th>\n      <td>0</td>\n      <td>16</td>\n      <td>[88, 25, 37, 30]</td>\n      <td>4</td>\n    </tr>\n    <tr>\n      <th>4</th>\n      <td>0</td>\n      <td>21</td>\n      <td>[86]</td>\n      <td>1</td>\n    </tr>\n  </tbody>\n</table>\n</div>"
     },
     "metadata": {},
     "execution_count": 19
    }
   ],
   "source": [
    "# What and How many weeks purchased a shopper a certain item\n",
    "\n",
    "try:\n",
    "    product_weeks = pd.read_parquet(f'data/product_weeks{shopper_50}.parquet')\n",
    "except FileNotFoundError:\n",
    "    start = time()\n",
    "    product_weeks = \\\n",
    "        df.loc[df['price'] != 0] \\\n",
    "        .groupby(['shopper','product'], as_index=False) \\\n",
    "        .agg({'week': combine_list})\n",
    "\n",
    "    product_weeks['count'] = product_weeks['week'].apply(len)\n",
    "    # product_weeks.set_index(['shopper', 'product'], inplace=True)\n",
    "    print(f\"product_weeks took: {timer(start)}\")\n",
    "\n",
    "    product_weeks.to_parquet(f'data/product_weeks{shopper_50}.parquet')\n",
    "\n",
    "product_weeks.head()"
   ]
  },
  {
   "cell_type": "code",
   "execution_count": 20,
   "metadata": {},
   "outputs": [
    {
     "output_type": "execute_result",
     "data": {
      "text/plain": [
       "   shopper  product                                  week  count     proba\n",
       "0        0        4      [70, 40, 45, 51, 54, 24, 58, 60]      8  0.094118\n",
       "1        0       11  [32, 65, 72, 76, 46, 78, 84, 22, 62]      9  0.105882\n",
       "2        0       15                                  [10]      1  0.011765\n",
       "3        0       16                      [88, 25, 37, 30]      4  0.047059\n",
       "4        0       21                                  [86]      1  0.011765"
      ],
      "text/html": "<div>\n<style scoped>\n    .dataframe tbody tr th:only-of-type {\n        vertical-align: middle;\n    }\n\n    .dataframe tbody tr th {\n        vertical-align: top;\n    }\n\n    .dataframe thead th {\n        text-align: right;\n    }\n</style>\n<table border=\"1\" class=\"dataframe\">\n  <thead>\n    <tr style=\"text-align: right;\">\n      <th></th>\n      <th>shopper</th>\n      <th>product</th>\n      <th>week</th>\n      <th>count</th>\n      <th>proba</th>\n    </tr>\n  </thead>\n  <tbody>\n    <tr>\n      <th>0</th>\n      <td>0</td>\n      <td>4</td>\n      <td>[70, 40, 45, 51, 54, 24, 58, 60]</td>\n      <td>8</td>\n      <td>0.094118</td>\n    </tr>\n    <tr>\n      <th>1</th>\n      <td>0</td>\n      <td>11</td>\n      <td>[32, 65, 72, 76, 46, 78, 84, 22, 62]</td>\n      <td>9</td>\n      <td>0.105882</td>\n    </tr>\n    <tr>\n      <th>2</th>\n      <td>0</td>\n      <td>15</td>\n      <td>[10]</td>\n      <td>1</td>\n      <td>0.011765</td>\n    </tr>\n    <tr>\n      <th>3</th>\n      <td>0</td>\n      <td>16</td>\n      <td>[88, 25, 37, 30]</td>\n      <td>4</td>\n      <td>0.047059</td>\n    </tr>\n    <tr>\n      <th>4</th>\n      <td>0</td>\n      <td>21</td>\n      <td>[86]</td>\n      <td>1</td>\n      <td>0.011765</td>\n    </tr>\n  </tbody>\n</table>\n</div>"
     },
     "metadata": {},
     "execution_count": 20
    }
   ],
   "source": [
    "# countnig the probability of each product, how many times has been purchases in weeks divided by 85 weeks.\n",
    "product_weeks['proba'] = product_weeks['count'].astype(int)/85\n",
    "\n",
    "product_weeks.loc[product_weeks['shopper'] == 0]\n",
    "product_weeks.head()"
   ]
  },
  {
   "cell_type": "code",
   "execution_count": 21,
   "id": "affiliated-border",
   "metadata": {},
   "outputs": [],
   "source": [
    "try:\n",
    "    price_map = pd.read_parquet(f'data/price_map{shopper_50}.parquet')\n",
    "except FileNotFoundError:\n",
    "    start = time()\n",
    "    price_map = \\\n",
    "        df \\\n",
    "        .groupby(['week','product'], as_index=False) \\\n",
    "        .agg({'price': max})\n",
    "    \n",
    "    print(f\"price_map took: {timer(start)}\")\n",
    "\n",
    "\n",
    "    # to pivot the data and make product as rows, and weeks as columns\n",
    "    price_map = price_map.pivot(index='product', columns='week', values='price')\n",
    "    price_map.columns = map(str, range(0,90))\n",
    "    price_map.to_parquet(f'data/price_map{shopper_50}.parquet')\n",
    "\n",
    "# price_map.head()"
   ]
  },
  {
   "cell_type": "code",
   "execution_count": 22,
   "id": "considered-deficit",
   "metadata": {},
   "outputs": [
    {
     "output_type": "stream",
     "name": "stdout",
     "text": [
      "top_5_products took: 0.28\n"
     ]
    },
    {
     "output_type": "execute_result",
     "data": {
      "text/plain": [
       "   shopper               most_bought\n",
       "0        0   [91, 225, 71, 130, 184]\n",
       "1        1     [78, 63, 21, 168, 22]\n",
       "2        2    [1, 160, 164, 193, 38]\n",
       "3        3  [188, 192, 92, 166, 106]\n",
       "4        4   [25, 188, 76, 199, 149]"
      ],
      "text/html": "<div>\n<style scoped>\n    .dataframe tbody tr th:only-of-type {\n        vertical-align: middle;\n    }\n\n    .dataframe tbody tr th {\n        vertical-align: top;\n    }\n\n    .dataframe thead th {\n        text-align: right;\n    }\n</style>\n<table border=\"1\" class=\"dataframe\">\n  <thead>\n    <tr style=\"text-align: right;\">\n      <th></th>\n      <th>shopper</th>\n      <th>most_bought</th>\n    </tr>\n  </thead>\n  <tbody>\n    <tr>\n      <th>0</th>\n      <td>0</td>\n      <td>[91, 225, 71, 130, 184]</td>\n    </tr>\n    <tr>\n      <th>1</th>\n      <td>1</td>\n      <td>[78, 63, 21, 168, 22]</td>\n    </tr>\n    <tr>\n      <th>2</th>\n      <td>2</td>\n      <td>[1, 160, 164, 193, 38]</td>\n    </tr>\n    <tr>\n      <th>3</th>\n      <td>3</td>\n      <td>[188, 192, 92, 166, 106]</td>\n    </tr>\n    <tr>\n      <th>4</th>\n      <td>4</td>\n      <td>[25, 188, 76, 199, 149]</td>\n    </tr>\n  </tbody>\n</table>\n</div>"
     },
     "metadata": {},
     "execution_count": 22
    }
   ],
   "source": [
    "# collect the most 5 purchased products for a shopper\n",
    "# Helper function for apply\n",
    "\n",
    "def get_most_5(x):\n",
    "    c1 = df.loc[df['shopper'] == x, 'product'].value_counts(sort=True).index[0:5] # Edit to get more than 5 \n",
    "    return list(c1)\n",
    "\n",
    "get_most_5_vec = np.vectorize(get_most_5)\n",
    "# assert all(get_most_5_vec(18) == [36, 248, 93, 107, 194])\n",
    "\n",
    "start = time()\n",
    "top_5_products = pd.DataFrame(np.unique(df['shopper']), columns=['shopper'])\n",
    "top_5_products['most_bought'] = top_5_products['shopper'].apply(get_most_5_vec)\n",
    "print(f\"top_5_products took: {round(time() - start,3)}\")\n",
    "\n",
    "\n",
    "top_5_products.head()"
   ]
  },
  {
   "cell_type": "code",
   "execution_count": 23,
   "metadata": {},
   "outputs": [],
   "source": [
    "def most_in(x):\n",
    "    return x.value_counts().index[0]\n",
    "# 3. MEAN MOST TWO USED \n",
    "def mean_most_two(x):\n",
    "    return np.mean(x.value_counts().index[0:2])"
   ]
  },
  {
   "cell_type": "code",
   "execution_count": 24,
   "metadata": {},
   "outputs": [
    {
     "output_type": "execute_result",
     "data": {
      "text/plain": [
       "(4500, 6)"
      ]
     },
     "metadata": {},
     "execution_count": 24
    }
   ],
   "source": [
    "df_baskets = df.groupby(['week', 'shopper'], as_index=False) \\\n",
    "    .agg({\n",
    "        'price': sum,\n",
    "        'discount': [np.mean, most_in, mean_most_two]\n",
    "    })\n",
    "\n",
    "df_baskets.columns = [('_'.join(x)).rstrip('_') for x in df_baskets.columns] \n",
    "\n",
    "\n",
    "df_baskets.shape"
   ]
  },
  {
   "cell_type": "code",
   "execution_count": 25,
   "metadata": {},
   "outputs": [
    {
     "output_type": "execute_result",
     "data": {
      "text/plain": [
       "   week  shopper  price_sum  discount_mean  discount_most_in  \\\n",
       "0     0        0       5908           11.0                 0   \n",
       "1     0        1       4648           10.0                 0   \n",
       "2     0        2       3697           10.0                 0   \n",
       "3     0        3       4082            8.0                 0   \n",
       "4     0        4       2680           13.0                 0   \n",
       "5     0        5       3160           12.0                 0   \n",
       "6     0        6       3817           11.0                 0   \n",
       "7     0        7       5781            7.0                 0   \n",
       "8     0        8       6565           10.0                 0   \n",
       "9     0        9       5014           10.0                 0   \n",
       "\n",
       "   discount_mean_most_two  \n",
       "0                    15.0  \n",
       "1                    15.0  \n",
       "2                    15.0  \n",
       "3                     8.0  \n",
       "4                    20.0  \n",
       "5                     8.0  \n",
       "6                    12.0  \n",
       "7                     5.0  \n",
       "8                    12.0  \n",
       "9                    15.0  "
      ],
      "text/html": "<div>\n<style scoped>\n    .dataframe tbody tr th:only-of-type {\n        vertical-align: middle;\n    }\n\n    .dataframe tbody tr th {\n        vertical-align: top;\n    }\n\n    .dataframe thead th {\n        text-align: right;\n    }\n</style>\n<table border=\"1\" class=\"dataframe\">\n  <thead>\n    <tr style=\"text-align: right;\">\n      <th></th>\n      <th>week</th>\n      <th>shopper</th>\n      <th>price_sum</th>\n      <th>discount_mean</th>\n      <th>discount_most_in</th>\n      <th>discount_mean_most_two</th>\n    </tr>\n  </thead>\n  <tbody>\n    <tr>\n      <th>0</th>\n      <td>0</td>\n      <td>0</td>\n      <td>5908</td>\n      <td>11.0</td>\n      <td>0</td>\n      <td>15.0</td>\n    </tr>\n    <tr>\n      <th>1</th>\n      <td>0</td>\n      <td>1</td>\n      <td>4648</td>\n      <td>10.0</td>\n      <td>0</td>\n      <td>15.0</td>\n    </tr>\n    <tr>\n      <th>2</th>\n      <td>0</td>\n      <td>2</td>\n      <td>3697</td>\n      <td>10.0</td>\n      <td>0</td>\n      <td>15.0</td>\n    </tr>\n    <tr>\n      <th>3</th>\n      <td>0</td>\n      <td>3</td>\n      <td>4082</td>\n      <td>8.0</td>\n      <td>0</td>\n      <td>8.0</td>\n    </tr>\n    <tr>\n      <th>4</th>\n      <td>0</td>\n      <td>4</td>\n      <td>2680</td>\n      <td>13.0</td>\n      <td>0</td>\n      <td>20.0</td>\n    </tr>\n    <tr>\n      <th>5</th>\n      <td>0</td>\n      <td>5</td>\n      <td>3160</td>\n      <td>12.0</td>\n      <td>0</td>\n      <td>8.0</td>\n    </tr>\n    <tr>\n      <th>6</th>\n      <td>0</td>\n      <td>6</td>\n      <td>3817</td>\n      <td>11.0</td>\n      <td>0</td>\n      <td>12.0</td>\n    </tr>\n    <tr>\n      <th>7</th>\n      <td>0</td>\n      <td>7</td>\n      <td>5781</td>\n      <td>7.0</td>\n      <td>0</td>\n      <td>5.0</td>\n    </tr>\n    <tr>\n      <th>8</th>\n      <td>0</td>\n      <td>8</td>\n      <td>6565</td>\n      <td>10.0</td>\n      <td>0</td>\n      <td>12.0</td>\n    </tr>\n    <tr>\n      <th>9</th>\n      <td>0</td>\n      <td>9</td>\n      <td>5014</td>\n      <td>10.0</td>\n      <td>0</td>\n      <td>15.0</td>\n    </tr>\n  </tbody>\n</table>\n</div>"
     },
     "metadata": {},
     "execution_count": 25
    }
   ],
   "source": [
    "df_baskets['discount_mean'] = np.round(df_baskets['discount_mean'],0)\n",
    "df_baskets['discount_mean_most_two'] = np.round(df_baskets['discount_mean_most_two'],0)\n",
    "\n",
    "df_baskets.head(10)"
   ]
  },
  {
   "cell_type": "code",
   "execution_count": 26,
   "metadata": {},
   "outputs": [
    {
     "output_type": "display_data",
     "data": {
      "text/plain": "<Figure size 720x720 with 1 Axes>",
      "image/svg+xml": "<?xml version=\"1.0\" encoding=\"utf-8\" standalone=\"no\"?>\r\n<!DOCTYPE svg PUBLIC \"-//W3C//DTD SVG 1.1//EN\"\r\n  \"http://www.w3.org/Graphics/SVG/1.1/DTD/svg11.dtd\">\r\n<!-- Created with matplotlib (https://matplotlib.org/) -->\r\n<svg height=\"558pt\" version=\"1.1\" viewBox=\"0 0 581.694505 558\" width=\"581.694505pt\" xmlns=\"http://www.w3.org/2000/svg\" xmlns:xlink=\"http://www.w3.org/1999/xlink\">\r\n <metadata>\r\n  <rdf:RDF xmlns:cc=\"http://creativecommons.org/ns#\" xmlns:dc=\"http://purl.org/dc/elements/1.1/\" xmlns:rdf=\"http://www.w3.org/1999/02/22-rdf-syntax-ns#\">\r\n   <cc:Work>\r\n    <dc:type rdf:resource=\"http://purl.org/dc/dcmitype/StillImage\"/>\r\n    <dc:date>2021-03-02T21:27:37.267966</dc:date>\r\n    <dc:format>image/svg+xml</dc:format>\r\n    <dc:creator>\r\n     <cc:Agent>\r\n      <dc:title>Matplotlib v3.3.2, https://matplotlib.org/</dc:title>\r\n     </cc:Agent>\r\n    </dc:creator>\r\n   </cc:Work>\r\n  </rdf:RDF>\r\n </metadata>\r\n <defs>\r\n  <style type=\"text/css\">*{stroke-linecap:butt;stroke-linejoin:round;}</style>\r\n </defs>\r\n <g id=\"figure_1\">\r\n  <g id=\"patch_1\">\r\n   <path d=\"M 0 558 \r\nL 581.694505 558 \r\nL 581.694505 0 \r\nL 0 0 \r\nz\r\n\" style=\"fill:none;\"/>\r\n  </g>\r\n  <g id=\"patch_2\">\r\n   <path d=\"M 7.2 550.8 \r\nL 550.8 550.8 \r\nL 550.8 7.2 \r\nL 7.2 7.2 \r\nz\r\n\" style=\"fill:#ffffff;\"/>\r\n  </g>\r\n  <g id=\"pane3d_1\">\r\n   <g id=\"patch_3\">\r\n    <path d=\"M 48.245549 416.765661 \r\nL 227.760022 266.29307 \r\nL 225.264599 49.284695 \r\nL 37.159433 186.555277 \r\n\" style=\"fill:#f2f2f2;opacity:0.5;stroke:#f2f2f2;stroke-linejoin:miter;\"/>\r\n   </g>\r\n  </g>\r\n  <g id=\"pane3d_2\">\r\n   <g id=\"patch_4\">\r\n    <path d=\"M 227.760022 266.29307 \r\nL 515.8167 350.019774 \r\nL 526.096428 125.536794 \r\nL 225.264599 49.284695 \r\n\" style=\"fill:#e6e6e6;opacity:0.5;stroke:#e6e6e6;stroke-linejoin:miter;\"/>\r\n   </g>\r\n  </g>\r\n  <g id=\"pane3d_3\">\r\n   <g id=\"patch_5\">\r\n    <path d=\"M 48.245549 416.765661 \r\nL 353.599697 516.494325 \r\nL 515.8167 350.019774 \r\nL 227.760022 266.29307 \r\n\" style=\"fill:#ececec;opacity:0.5;stroke:#ececec;stroke-linejoin:miter;\"/>\r\n   </g>\r\n  </g>\r\n  <g id=\"axis3d_1\">\r\n   <g id=\"line2d_1\">\r\n    <path d=\"M 48.245549 416.765661 \r\nL 353.599697 516.494325 \r\n\" style=\"fill:none;stroke:#000000;stroke-linecap:square;stroke-width:0.8;\"/>\r\n   </g>\r\n   <g id=\"text_1\">\r\n    <!-- discount -->\r\n    <g transform=\"translate(159.595258 496.456754)rotate(-341.912962)scale(0.1 -0.1)\">\r\n     <defs>\r\n      <path d=\"M 45.40625 46.390625 \r\nL 45.40625 75.984375 \r\nL 54.390625 75.984375 \r\nL 54.390625 0 \r\nL 45.40625 0 \r\nL 45.40625 8.203125 \r\nQ 42.578125 3.328125 38.25 0.953125 \r\nQ 33.9375 -1.421875 27.875 -1.421875 \r\nQ 17.96875 -1.421875 11.734375 6.484375 \r\nQ 5.515625 14.40625 5.515625 27.296875 \r\nQ 5.515625 40.1875 11.734375 48.09375 \r\nQ 17.96875 56 27.875 56 \r\nQ 33.9375 56 38.25 53.625 \r\nQ 42.578125 51.265625 45.40625 46.390625 \r\nz\r\nM 14.796875 27.296875 \r\nQ 14.796875 17.390625 18.875 11.75 \r\nQ 22.953125 6.109375 30.078125 6.109375 \r\nQ 37.203125 6.109375 41.296875 11.75 \r\nQ 45.40625 17.390625 45.40625 27.296875 \r\nQ 45.40625 37.203125 41.296875 42.84375 \r\nQ 37.203125 48.484375 30.078125 48.484375 \r\nQ 22.953125 48.484375 18.875 42.84375 \r\nQ 14.796875 37.203125 14.796875 27.296875 \r\nz\r\n\" id=\"DejaVuSans-100\"/>\r\n      <path d=\"M 9.421875 54.6875 \r\nL 18.40625 54.6875 \r\nL 18.40625 0 \r\nL 9.421875 0 \r\nz\r\nM 9.421875 75.984375 \r\nL 18.40625 75.984375 \r\nL 18.40625 64.59375 \r\nL 9.421875 64.59375 \r\nz\r\n\" id=\"DejaVuSans-105\"/>\r\n      <path d=\"M 44.28125 53.078125 \r\nL 44.28125 44.578125 \r\nQ 40.484375 46.53125 36.375 47.5 \r\nQ 32.28125 48.484375 27.875 48.484375 \r\nQ 21.1875 48.484375 17.84375 46.4375 \r\nQ 14.5 44.390625 14.5 40.28125 \r\nQ 14.5 37.15625 16.890625 35.375 \r\nQ 19.28125 33.59375 26.515625 31.984375 \r\nL 29.59375 31.296875 \r\nQ 39.15625 29.25 43.1875 25.515625 \r\nQ 47.21875 21.78125 47.21875 15.09375 \r\nQ 47.21875 7.46875 41.1875 3.015625 \r\nQ 35.15625 -1.421875 24.609375 -1.421875 \r\nQ 20.21875 -1.421875 15.453125 -0.5625 \r\nQ 10.6875 0.296875 5.421875 2 \r\nL 5.421875 11.28125 \r\nQ 10.40625 8.6875 15.234375 7.390625 \r\nQ 20.0625 6.109375 24.8125 6.109375 \r\nQ 31.15625 6.109375 34.5625 8.28125 \r\nQ 37.984375 10.453125 37.984375 14.40625 \r\nQ 37.984375 18.0625 35.515625 20.015625 \r\nQ 33.0625 21.96875 24.703125 23.78125 \r\nL 21.578125 24.515625 \r\nQ 13.234375 26.265625 9.515625 29.90625 \r\nQ 5.8125 33.546875 5.8125 39.890625 \r\nQ 5.8125 47.609375 11.28125 51.796875 \r\nQ 16.75 56 26.8125 56 \r\nQ 31.78125 56 36.171875 55.265625 \r\nQ 40.578125 54.546875 44.28125 53.078125 \r\nz\r\n\" id=\"DejaVuSans-115\"/>\r\n      <path d=\"M 48.78125 52.59375 \r\nL 48.78125 44.1875 \r\nQ 44.96875 46.296875 41.140625 47.34375 \r\nQ 37.3125 48.390625 33.40625 48.390625 \r\nQ 24.65625 48.390625 19.8125 42.84375 \r\nQ 14.984375 37.3125 14.984375 27.296875 \r\nQ 14.984375 17.28125 19.8125 11.734375 \r\nQ 24.65625 6.203125 33.40625 6.203125 \r\nQ 37.3125 6.203125 41.140625 7.25 \r\nQ 44.96875 8.296875 48.78125 10.40625 \r\nL 48.78125 2.09375 \r\nQ 45.015625 0.34375 40.984375 -0.53125 \r\nQ 36.96875 -1.421875 32.421875 -1.421875 \r\nQ 20.0625 -1.421875 12.78125 6.34375 \r\nQ 5.515625 14.109375 5.515625 27.296875 \r\nQ 5.515625 40.671875 12.859375 48.328125 \r\nQ 20.21875 56 33.015625 56 \r\nQ 37.15625 56 41.109375 55.140625 \r\nQ 45.0625 54.296875 48.78125 52.59375 \r\nz\r\n\" id=\"DejaVuSans-99\"/>\r\n      <path d=\"M 30.609375 48.390625 \r\nQ 23.390625 48.390625 19.1875 42.75 \r\nQ 14.984375 37.109375 14.984375 27.296875 \r\nQ 14.984375 17.484375 19.15625 11.84375 \r\nQ 23.34375 6.203125 30.609375 6.203125 \r\nQ 37.796875 6.203125 41.984375 11.859375 \r\nQ 46.1875 17.53125 46.1875 27.296875 \r\nQ 46.1875 37.015625 41.984375 42.703125 \r\nQ 37.796875 48.390625 30.609375 48.390625 \r\nz\r\nM 30.609375 56 \r\nQ 42.328125 56 49.015625 48.375 \r\nQ 55.71875 40.765625 55.71875 27.296875 \r\nQ 55.71875 13.875 49.015625 6.21875 \r\nQ 42.328125 -1.421875 30.609375 -1.421875 \r\nQ 18.84375 -1.421875 12.171875 6.21875 \r\nQ 5.515625 13.875 5.515625 27.296875 \r\nQ 5.515625 40.765625 12.171875 48.375 \r\nQ 18.84375 56 30.609375 56 \r\nz\r\n\" id=\"DejaVuSans-111\"/>\r\n      <path d=\"M 8.5 21.578125 \r\nL 8.5 54.6875 \r\nL 17.484375 54.6875 \r\nL 17.484375 21.921875 \r\nQ 17.484375 14.15625 20.5 10.265625 \r\nQ 23.53125 6.390625 29.59375 6.390625 \r\nQ 36.859375 6.390625 41.078125 11.03125 \r\nQ 45.3125 15.671875 45.3125 23.6875 \r\nL 45.3125 54.6875 \r\nL 54.296875 54.6875 \r\nL 54.296875 0 \r\nL 45.3125 0 \r\nL 45.3125 8.40625 \r\nQ 42.046875 3.421875 37.71875 1 \r\nQ 33.40625 -1.421875 27.6875 -1.421875 \r\nQ 18.265625 -1.421875 13.375 4.4375 \r\nQ 8.5 10.296875 8.5 21.578125 \r\nz\r\nM 31.109375 56 \r\nz\r\n\" id=\"DejaVuSans-117\"/>\r\n      <path d=\"M 54.890625 33.015625 \r\nL 54.890625 0 \r\nL 45.90625 0 \r\nL 45.90625 32.71875 \r\nQ 45.90625 40.484375 42.875 44.328125 \r\nQ 39.84375 48.1875 33.796875 48.1875 \r\nQ 26.515625 48.1875 22.3125 43.546875 \r\nQ 18.109375 38.921875 18.109375 30.90625 \r\nL 18.109375 0 \r\nL 9.078125 0 \r\nL 9.078125 54.6875 \r\nL 18.109375 54.6875 \r\nL 18.109375 46.1875 \r\nQ 21.34375 51.125 25.703125 53.5625 \r\nQ 30.078125 56 35.796875 56 \r\nQ 45.21875 56 50.046875 50.171875 \r\nQ 54.890625 44.34375 54.890625 33.015625 \r\nz\r\n\" id=\"DejaVuSans-110\"/>\r\n      <path d=\"M 18.3125 70.21875 \r\nL 18.3125 54.6875 \r\nL 36.8125 54.6875 \r\nL 36.8125 47.703125 \r\nL 18.3125 47.703125 \r\nL 18.3125 18.015625 \r\nQ 18.3125 11.328125 20.140625 9.421875 \r\nQ 21.96875 7.515625 27.59375 7.515625 \r\nL 36.8125 7.515625 \r\nL 36.8125 0 \r\nL 27.59375 0 \r\nQ 17.1875 0 13.234375 3.875 \r\nQ 9.28125 7.765625 9.28125 18.015625 \r\nL 9.28125 47.703125 \r\nL 2.6875 47.703125 \r\nL 2.6875 54.6875 \r\nL 9.28125 54.6875 \r\nL 9.28125 70.21875 \r\nz\r\n\" id=\"DejaVuSans-116\"/>\r\n     </defs>\r\n     <use xlink:href=\"#DejaVuSans-100\"/>\r\n     <use x=\"63.476562\" xlink:href=\"#DejaVuSans-105\"/>\r\n     <use x=\"91.259766\" xlink:href=\"#DejaVuSans-115\"/>\r\n     <use x=\"143.359375\" xlink:href=\"#DejaVuSans-99\"/>\r\n     <use x=\"198.339844\" xlink:href=\"#DejaVuSans-111\"/>\r\n     <use x=\"259.521484\" xlink:href=\"#DejaVuSans-117\"/>\r\n     <use x=\"322.900391\" xlink:href=\"#DejaVuSans-110\"/>\r\n     <use x=\"386.279297\" xlink:href=\"#DejaVuSans-116\"/>\r\n    </g>\r\n   </g>\r\n   <g id=\"Line3DCollection_1\">\r\n    <path d=\"M 95.154948 432.086271 \r\nL 272.177747 279.203549 \r\nL 271.569459 61.021627 \r\n\" style=\"fill:none;stroke:#b0b0b0;stroke-width:0.8;\"/>\r\n    <path d=\"M 152.851117 450.929839 \r\nL 326.726598 295.058746 \r\nL 328.477106 75.446057 \r\n\" style=\"fill:none;stroke:#b0b0b0;stroke-width:0.8;\"/>\r\n    <path d=\"M 211.730272 470.159771 \r\nL 382.300089 311.211766 \r\nL 386.500495 90.153294 \r\n\" style=\"fill:none;stroke:#b0b0b0;stroke-width:0.8;\"/>\r\n    <path d=\"M 271.829174 489.788073 \r\nL 438.927365 327.67108 \r\nL 445.672764 105.151739 \r\n\" style=\"fill:none;stroke:#b0b0b0;stroke-width:0.8;\"/>\r\n    <path d=\"M 333.186123 509.827252 \r\nL 496.638685 344.445482 \r\nL 506.028375 120.450128 \r\n\" style=\"fill:none;stroke:#b0b0b0;stroke-width:0.8;\"/>\r\n   </g>\r\n   <g id=\"xtick_1\">\r\n    <g id=\"line2d_2\">\r\n     <path d=\"M 96.697082 430.754433 \r\nL 92.06403 434.755689 \r\n\" style=\"fill:none;stroke:#000000;stroke-linecap:square;stroke-width:0.8;\"/>\r\n    </g>\r\n    <g id=\"text_2\">\r\n     <!-- 6 -->\r\n     <g transform=\"translate(84.472963 455.461514)scale(0.1 -0.1)\">\r\n      <defs>\r\n       <path d=\"M 33.015625 40.375 \r\nQ 26.375 40.375 22.484375 35.828125 \r\nQ 18.609375 31.296875 18.609375 23.390625 \r\nQ 18.609375 15.53125 22.484375 10.953125 \r\nQ 26.375 6.390625 33.015625 6.390625 \r\nQ 39.65625 6.390625 43.53125 10.953125 \r\nQ 47.40625 15.53125 47.40625 23.390625 \r\nQ 47.40625 31.296875 43.53125 35.828125 \r\nQ 39.65625 40.375 33.015625 40.375 \r\nz\r\nM 52.59375 71.296875 \r\nL 52.59375 62.3125 \r\nQ 48.875 64.0625 45.09375 64.984375 \r\nQ 41.3125 65.921875 37.59375 65.921875 \r\nQ 27.828125 65.921875 22.671875 59.328125 \r\nQ 17.53125 52.734375 16.796875 39.40625 \r\nQ 19.671875 43.65625 24.015625 45.921875 \r\nQ 28.375 48.1875 33.59375 48.1875 \r\nQ 44.578125 48.1875 50.953125 41.515625 \r\nQ 57.328125 34.859375 57.328125 23.390625 \r\nQ 57.328125 12.15625 50.6875 5.359375 \r\nQ 44.046875 -1.421875 33.015625 -1.421875 \r\nQ 20.359375 -1.421875 13.671875 8.265625 \r\nQ 6.984375 17.96875 6.984375 36.375 \r\nQ 6.984375 53.65625 15.1875 63.9375 \r\nQ 23.390625 74.21875 37.203125 74.21875 \r\nQ 40.921875 74.21875 44.703125 73.484375 \r\nQ 48.484375 72.75 52.59375 71.296875 \r\nz\r\n\" id=\"DejaVuSans-54\"/>\r\n      </defs>\r\n      <use xlink:href=\"#DejaVuSans-54\"/>\r\n     </g>\r\n    </g>\r\n   </g>\r\n   <g id=\"xtick_2\">\r\n    <g id=\"line2d_3\">\r\n     <path d=\"M 154.367087 449.570844 \r\nL 149.812572 453.65375 \r\n\" style=\"fill:none;stroke:#000000;stroke-linecap:square;stroke-width:0.8;\"/>\r\n    </g>\r\n    <g id=\"text_3\">\r\n     <!-- 8 -->\r\n     <g transform=\"translate(142.199266 474.500225)scale(0.1 -0.1)\">\r\n      <defs>\r\n       <path d=\"M 31.78125 34.625 \r\nQ 24.75 34.625 20.71875 30.859375 \r\nQ 16.703125 27.09375 16.703125 20.515625 \r\nQ 16.703125 13.921875 20.71875 10.15625 \r\nQ 24.75 6.390625 31.78125 6.390625 \r\nQ 38.8125 6.390625 42.859375 10.171875 \r\nQ 46.921875 13.96875 46.921875 20.515625 \r\nQ 46.921875 27.09375 42.890625 30.859375 \r\nQ 38.875 34.625 31.78125 34.625 \r\nz\r\nM 21.921875 38.8125 \r\nQ 15.578125 40.375 12.03125 44.71875 \r\nQ 8.5 49.078125 8.5 55.328125 \r\nQ 8.5 64.0625 14.71875 69.140625 \r\nQ 20.953125 74.21875 31.78125 74.21875 \r\nQ 42.671875 74.21875 48.875 69.140625 \r\nQ 55.078125 64.0625 55.078125 55.328125 \r\nQ 55.078125 49.078125 51.53125 44.71875 \r\nQ 48 40.375 41.703125 38.8125 \r\nQ 48.828125 37.15625 52.796875 32.3125 \r\nQ 56.78125 27.484375 56.78125 20.515625 \r\nQ 56.78125 9.90625 50.3125 4.234375 \r\nQ 43.84375 -1.421875 31.78125 -1.421875 \r\nQ 19.734375 -1.421875 13.25 4.234375 \r\nQ 6.78125 9.90625 6.78125 20.515625 \r\nQ 6.78125 27.484375 10.78125 32.3125 \r\nQ 14.796875 37.15625 21.921875 38.8125 \r\nz\r\nM 18.3125 54.390625 \r\nQ 18.3125 48.734375 21.84375 45.5625 \r\nQ 25.390625 42.390625 31.78125 42.390625 \r\nQ 38.140625 42.390625 41.71875 45.5625 \r\nQ 45.3125 48.734375 45.3125 54.390625 \r\nQ 45.3125 60.0625 41.71875 63.234375 \r\nQ 38.140625 66.40625 31.78125 66.40625 \r\nQ 25.390625 66.40625 21.84375 63.234375 \r\nQ 18.3125 60.0625 18.3125 54.390625 \r\nz\r\n\" id=\"DejaVuSans-56\"/>\r\n      </defs>\r\n      <use xlink:href=\"#DejaVuSans-56\"/>\r\n     </g>\r\n    </g>\r\n   </g>\r\n   <g id=\"xtick_3\">\r\n    <g id=\"line2d_4\">\r\n     <path d=\"M 213.218677 468.772779 \r\nL 208.746911 472.93986 \r\n\" style=\"fill:none;stroke:#000000;stroke-linecap:square;stroke-width:0.8;\"/>\r\n    </g>\r\n    <g id=\"text_4\">\r\n     <!-- 10 -->\r\n     <g transform=\"translate(197.930129 493.930029)scale(0.1 -0.1)\">\r\n      <defs>\r\n       <path d=\"M 12.40625 8.296875 \r\nL 28.515625 8.296875 \r\nL 28.515625 63.921875 \r\nL 10.984375 60.40625 \r\nL 10.984375 69.390625 \r\nL 28.421875 72.90625 \r\nL 38.28125 72.90625 \r\nL 38.28125 8.296875 \r\nL 54.390625 8.296875 \r\nL 54.390625 0 \r\nL 12.40625 0 \r\nz\r\n\" id=\"DejaVuSans-49\"/>\r\n       <path d=\"M 31.78125 66.40625 \r\nQ 24.171875 66.40625 20.328125 58.90625 \r\nQ 16.5 51.421875 16.5 36.375 \r\nQ 16.5 21.390625 20.328125 13.890625 \r\nQ 24.171875 6.390625 31.78125 6.390625 \r\nQ 39.453125 6.390625 43.28125 13.890625 \r\nQ 47.125 21.390625 47.125 36.375 \r\nQ 47.125 51.421875 43.28125 58.90625 \r\nQ 39.453125 66.40625 31.78125 66.40625 \r\nz\r\nM 31.78125 74.21875 \r\nQ 44.046875 74.21875 50.515625 64.515625 \r\nQ 56.984375 54.828125 56.984375 36.375 \r\nQ 56.984375 17.96875 50.515625 8.265625 \r\nQ 44.046875 -1.421875 31.78125 -1.421875 \r\nQ 19.53125 -1.421875 13.0625 8.265625 \r\nQ 6.59375 17.96875 6.59375 36.375 \r\nQ 6.59375 54.828125 13.0625 64.515625 \r\nQ 19.53125 74.21875 31.78125 74.21875 \r\nz\r\n\" id=\"DejaVuSans-48\"/>\r\n      </defs>\r\n      <use xlink:href=\"#DejaVuSans-49\"/>\r\n      <use x=\"63.623047\" xlink:href=\"#DejaVuSans-48\"/>\r\n     </g>\r\n    </g>\r\n   </g>\r\n   <g id=\"xtick_4\">\r\n    <g id=\"line2d_5\">\r\n     <path d=\"M 273.288541 488.372209 \r\nL 268.90395 492.626095 \r\n\" style=\"fill:none;stroke:#000000;stroke-linecap:square;stroke-width:0.8;\"/>\r\n    </g>\r\n    <g id=\"text_5\">\r\n     <!-- 12 -->\r\n     <g transform=\"translate(258.064968 513.763099)scale(0.1 -0.1)\">\r\n      <defs>\r\n       <path d=\"M 19.1875 8.296875 \r\nL 53.609375 8.296875 \r\nL 53.609375 0 \r\nL 7.328125 0 \r\nL 7.328125 8.296875 \r\nQ 12.9375 14.109375 22.625 23.890625 \r\nQ 32.328125 33.6875 34.8125 36.53125 \r\nQ 39.546875 41.84375 41.421875 45.53125 \r\nQ 43.3125 49.21875 43.3125 52.78125 \r\nQ 43.3125 58.59375 39.234375 62.25 \r\nQ 35.15625 65.921875 28.609375 65.921875 \r\nQ 23.96875 65.921875 18.8125 64.3125 \r\nQ 13.671875 62.703125 7.8125 59.421875 \r\nL 7.8125 69.390625 \r\nQ 13.765625 71.78125 18.9375 73 \r\nQ 24.125 74.21875 28.421875 74.21875 \r\nQ 39.75 74.21875 46.484375 68.546875 \r\nQ 53.21875 62.890625 53.21875 53.421875 \r\nQ 53.21875 48.921875 51.53125 44.890625 \r\nQ 49.859375 40.875 45.40625 35.40625 \r\nQ 44.1875 33.984375 37.640625 27.21875 \r\nQ 31.109375 20.453125 19.1875 8.296875 \r\nz\r\n\" id=\"DejaVuSans-50\"/>\r\n      </defs>\r\n      <use xlink:href=\"#DejaVuSans-49\"/>\r\n      <use x=\"63.623047\" xlink:href=\"#DejaVuSans-50\"/>\r\n     </g>\r\n    </g>\r\n   </g>\r\n   <g id=\"xtick_5\">\r\n    <g id=\"line2d_6\">\r\n     <path d=\"M 334.614905 508.381607 \r\nL 330.322139 512.725039 \r\n\" style=\"fill:none;stroke:#000000;stroke-linecap:square;stroke-width:0.8;\"/>\r\n    </g>\r\n    <g id=\"text_6\">\r\n     <!-- 14 -->\r\n     <g transform=\"translate(319.461001 534.012124)scale(0.1 -0.1)\">\r\n      <defs>\r\n       <path d=\"M 37.796875 64.3125 \r\nL 12.890625 25.390625 \r\nL 37.796875 25.390625 \r\nz\r\nM 35.203125 72.90625 \r\nL 47.609375 72.90625 \r\nL 47.609375 25.390625 \r\nL 58.015625 25.390625 \r\nL 58.015625 17.1875 \r\nL 47.609375 17.1875 \r\nL 47.609375 0 \r\nL 37.796875 0 \r\nL 37.796875 17.1875 \r\nL 4.890625 17.1875 \r\nL 4.890625 26.703125 \r\nz\r\n\" id=\"DejaVuSans-52\"/>\r\n      </defs>\r\n      <use xlink:href=\"#DejaVuSans-49\"/>\r\n      <use x=\"63.623047\" xlink:href=\"#DejaVuSans-52\"/>\r\n     </g>\r\n    </g>\r\n   </g>\r\n  </g>\r\n  <g id=\"axis3d_2\">\r\n   <g id=\"line2d_7\">\r\n    <path d=\"M 515.8167 350.019774 \r\nL 353.599697 516.494325 \r\n\" style=\"fill:none;stroke:#000000;stroke-linecap:square;stroke-width:0.8;\"/>\r\n   </g>\r\n   <g id=\"text_7\">\r\n    <!-- basket -->\r\n    <g transform=\"translate(455.68936 471.332891)rotate(-45.742112)scale(0.1 -0.1)\">\r\n     <defs>\r\n      <path d=\"M 48.6875 27.296875 \r\nQ 48.6875 37.203125 44.609375 42.84375 \r\nQ 40.53125 48.484375 33.40625 48.484375 \r\nQ 26.265625 48.484375 22.1875 42.84375 \r\nQ 18.109375 37.203125 18.109375 27.296875 \r\nQ 18.109375 17.390625 22.1875 11.75 \r\nQ 26.265625 6.109375 33.40625 6.109375 \r\nQ 40.53125 6.109375 44.609375 11.75 \r\nQ 48.6875 17.390625 48.6875 27.296875 \r\nz\r\nM 18.109375 46.390625 \r\nQ 20.953125 51.265625 25.265625 53.625 \r\nQ 29.59375 56 35.59375 56 \r\nQ 45.5625 56 51.78125 48.09375 \r\nQ 58.015625 40.1875 58.015625 27.296875 \r\nQ 58.015625 14.40625 51.78125 6.484375 \r\nQ 45.5625 -1.421875 35.59375 -1.421875 \r\nQ 29.59375 -1.421875 25.265625 0.953125 \r\nQ 20.953125 3.328125 18.109375 8.203125 \r\nL 18.109375 0 \r\nL 9.078125 0 \r\nL 9.078125 75.984375 \r\nL 18.109375 75.984375 \r\nz\r\n\" id=\"DejaVuSans-98\"/>\r\n      <path d=\"M 34.28125 27.484375 \r\nQ 23.390625 27.484375 19.1875 25 \r\nQ 14.984375 22.515625 14.984375 16.5 \r\nQ 14.984375 11.71875 18.140625 8.90625 \r\nQ 21.296875 6.109375 26.703125 6.109375 \r\nQ 34.1875 6.109375 38.703125 11.40625 \r\nQ 43.21875 16.703125 43.21875 25.484375 \r\nL 43.21875 27.484375 \r\nz\r\nM 52.203125 31.203125 \r\nL 52.203125 0 \r\nL 43.21875 0 \r\nL 43.21875 8.296875 \r\nQ 40.140625 3.328125 35.546875 0.953125 \r\nQ 30.953125 -1.421875 24.3125 -1.421875 \r\nQ 15.921875 -1.421875 10.953125 3.296875 \r\nQ 6 8.015625 6 15.921875 \r\nQ 6 25.140625 12.171875 29.828125 \r\nQ 18.359375 34.515625 30.609375 34.515625 \r\nL 43.21875 34.515625 \r\nL 43.21875 35.40625 \r\nQ 43.21875 41.609375 39.140625 45 \r\nQ 35.0625 48.390625 27.6875 48.390625 \r\nQ 23 48.390625 18.546875 47.265625 \r\nQ 14.109375 46.140625 10.015625 43.890625 \r\nL 10.015625 52.203125 \r\nQ 14.9375 54.109375 19.578125 55.046875 \r\nQ 24.21875 56 28.609375 56 \r\nQ 40.484375 56 46.34375 49.84375 \r\nQ 52.203125 43.703125 52.203125 31.203125 \r\nz\r\n\" id=\"DejaVuSans-97\"/>\r\n      <path d=\"M 9.078125 75.984375 \r\nL 18.109375 75.984375 \r\nL 18.109375 31.109375 \r\nL 44.921875 54.6875 \r\nL 56.390625 54.6875 \r\nL 27.390625 29.109375 \r\nL 57.625 0 \r\nL 45.90625 0 \r\nL 18.109375 26.703125 \r\nL 18.109375 0 \r\nL 9.078125 0 \r\nz\r\n\" id=\"DejaVuSans-107\"/>\r\n      <path d=\"M 56.203125 29.59375 \r\nL 56.203125 25.203125 \r\nL 14.890625 25.203125 \r\nQ 15.484375 15.921875 20.484375 11.0625 \r\nQ 25.484375 6.203125 34.421875 6.203125 \r\nQ 39.59375 6.203125 44.453125 7.46875 \r\nQ 49.3125 8.734375 54.109375 11.28125 \r\nL 54.109375 2.78125 \r\nQ 49.265625 0.734375 44.1875 -0.34375 \r\nQ 39.109375 -1.421875 33.890625 -1.421875 \r\nQ 20.796875 -1.421875 13.15625 6.1875 \r\nQ 5.515625 13.8125 5.515625 26.8125 \r\nQ 5.515625 40.234375 12.765625 48.109375 \r\nQ 20.015625 56 32.328125 56 \r\nQ 43.359375 56 49.78125 48.890625 \r\nQ 56.203125 41.796875 56.203125 29.59375 \r\nz\r\nM 47.21875 32.234375 \r\nQ 47.125 39.59375 43.09375 43.984375 \r\nQ 39.0625 48.390625 32.421875 48.390625 \r\nQ 24.90625 48.390625 20.390625 44.140625 \r\nQ 15.875 39.890625 15.1875 32.171875 \r\nz\r\n\" id=\"DejaVuSans-101\"/>\r\n     </defs>\r\n     <use xlink:href=\"#DejaVuSans-98\"/>\r\n     <use x=\"63.476562\" xlink:href=\"#DejaVuSans-97\"/>\r\n     <use x=\"124.755859\" xlink:href=\"#DejaVuSans-115\"/>\r\n     <use x=\"176.855469\" xlink:href=\"#DejaVuSans-107\"/>\r\n     <use x=\"231.140625\" xlink:href=\"#DejaVuSans-101\"/>\r\n     <use x=\"292.664062\" xlink:href=\"#DejaVuSans-116\"/>\r\n    </g>\r\n   </g>\r\n   <g id=\"Line3DCollection_2\">\r\n    <path d=\"M 49.048962 177.87884 \r\nL 59.551793 407.288543 \r\nL 363.858855 505.965906 \r\n\" style=\"fill:none;stroke:#b0b0b0;stroke-width:0.8;\"/>\r\n    <path d=\"M 78.880828 156.108903 \r\nL 87.944013 383.489621 \r\nL 389.596446 479.552805 \r\n\" style=\"fill:none;stroke:#b0b0b0;stroke-width:0.8;\"/>\r\n    <path d=\"M 107.913124 134.922456 \r\nL 115.608067 360.301063 \r\nL 414.639362 453.852613 \r\n\" style=\"fill:none;stroke:#b0b0b0;stroke-width:0.8;\"/>\r\n    <path d=\"M 136.177571 114.29635 \r\nL 142.571612 337.699684 \r\nL 439.015351 428.836851 \r\n\" style=\"fill:none;stroke:#b0b0b0;stroke-width:0.8;\"/>\r\n    <path d=\"M 163.704233 94.208645 \r\nL 168.860924 315.663462 \r\nL 462.750707 404.478538 \r\n\" style=\"fill:none;stroke:#b0b0b0;stroke-width:0.8;\"/>\r\n    <path d=\"M 190.521627 74.638533 \r\nL 194.500979 294.171459 \r\nL 485.870355 380.752091 \r\n\" style=\"fill:none;stroke:#b0b0b0;stroke-width:0.8;\"/>\r\n    <path d=\"M 216.656816 55.566263 \r\nL 219.515537 273.203761 \r\nL 508.397947 357.63324 \r\n\" style=\"fill:none;stroke:#b0b0b0;stroke-width:0.8;\"/>\r\n   </g>\r\n   <g id=\"xtick_6\">\r\n    <g id=\"line2d_8\">\r\n     <path d=\"M 361.294383 505.134327 \r\nL 368.994433 507.631215 \r\n\" style=\"fill:none;stroke:#000000;stroke-linecap:square;stroke-width:0.8;\"/>\r\n    </g>\r\n    <g id=\"text_8\">\r\n     <!-- 3000 -->\r\n     <g transform=\"translate(364.01688 526.990713)scale(0.1 -0.1)\">\r\n      <defs>\r\n       <path d=\"M 40.578125 39.3125 \r\nQ 47.65625 37.796875 51.625 33 \r\nQ 55.609375 28.21875 55.609375 21.1875 \r\nQ 55.609375 10.40625 48.1875 4.484375 \r\nQ 40.765625 -1.421875 27.09375 -1.421875 \r\nQ 22.515625 -1.421875 17.65625 -0.515625 \r\nQ 12.796875 0.390625 7.625 2.203125 \r\nL 7.625 11.71875 \r\nQ 11.71875 9.328125 16.59375 8.109375 \r\nQ 21.484375 6.890625 26.8125 6.890625 \r\nQ 36.078125 6.890625 40.9375 10.546875 \r\nQ 45.796875 14.203125 45.796875 21.1875 \r\nQ 45.796875 27.640625 41.28125 31.265625 \r\nQ 36.765625 34.90625 28.71875 34.90625 \r\nL 20.21875 34.90625 \r\nL 20.21875 43.015625 \r\nL 29.109375 43.015625 \r\nQ 36.375 43.015625 40.234375 45.921875 \r\nQ 44.09375 48.828125 44.09375 54.296875 \r\nQ 44.09375 59.90625 40.109375 62.90625 \r\nQ 36.140625 65.921875 28.71875 65.921875 \r\nQ 24.65625 65.921875 20.015625 65.03125 \r\nQ 15.375 64.15625 9.8125 62.3125 \r\nL 9.8125 71.09375 \r\nQ 15.4375 72.65625 20.34375 73.4375 \r\nQ 25.25 74.21875 29.59375 74.21875 \r\nQ 40.828125 74.21875 47.359375 69.109375 \r\nQ 53.90625 64.015625 53.90625 55.328125 \r\nQ 53.90625 49.265625 50.4375 45.09375 \r\nQ 46.96875 40.921875 40.578125 39.3125 \r\nz\r\n\" id=\"DejaVuSans-51\"/>\r\n      </defs>\r\n      <use xlink:href=\"#DejaVuSans-51\"/>\r\n      <use x=\"63.623047\" xlink:href=\"#DejaVuSans-48\"/>\r\n      <use x=\"127.246094\" xlink:href=\"#DejaVuSans-48\"/>\r\n      <use x=\"190.869141\" xlink:href=\"#DejaVuSans-48\"/>\r\n     </g>\r\n    </g>\r\n   </g>\r\n   <g id=\"xtick_7\">\r\n    <g id=\"line2d_9\">\r\n     <path d=\"M 387.056108 478.743818 \r\nL 394.683605 481.172844 \r\n\" style=\"fill:none;stroke:#000000;stroke-linecap:square;stroke-width:0.8;\"/>\r\n    </g>\r\n    <g id=\"text_9\">\r\n     <!-- 4000 -->\r\n     <g transform=\"translate(389.585624 500.386249)scale(0.1 -0.1)\">\r\n      <use xlink:href=\"#DejaVuSans-52\"/>\r\n      <use x=\"63.623047\" xlink:href=\"#DejaVuSans-48\"/>\r\n      <use x=\"127.246094\" xlink:href=\"#DejaVuSans-48\"/>\r\n      <use x=\"190.869141\" xlink:href=\"#DejaVuSans-48\"/>\r\n     </g>\r\n    </g>\r\n   </g>\r\n   <g id=\"xtick_8\">\r\n    <g id=\"line2d_10\">\r\n     <path d=\"M 412.122798 453.065309 \r\nL 419.678826 455.429203 \r\n\" style=\"fill:none;stroke:#000000;stroke-linecap:square;stroke-width:0.8;\"/>\r\n    </g>\r\n    <g id=\"text_10\">\r\n     <!-- 5000 -->\r\n     <g transform=\"translate(414.464052 474.500063)scale(0.1 -0.1)\">\r\n      <defs>\r\n       <path d=\"M 10.796875 72.90625 \r\nL 49.515625 72.90625 \r\nL 49.515625 64.59375 \r\nL 19.828125 64.59375 \r\nL 19.828125 46.734375 \r\nQ 21.96875 47.46875 24.109375 47.828125 \r\nQ 26.265625 48.1875 28.421875 48.1875 \r\nQ 40.625 48.1875 47.75 41.5 \r\nQ 54.890625 34.8125 54.890625 23.390625 \r\nQ 54.890625 11.625 47.5625 5.09375 \r\nQ 40.234375 -1.421875 26.90625 -1.421875 \r\nQ 22.3125 -1.421875 17.546875 -0.640625 \r\nQ 12.796875 0.140625 7.71875 1.703125 \r\nL 7.71875 11.625 \r\nQ 12.109375 9.234375 16.796875 8.0625 \r\nQ 21.484375 6.890625 26.703125 6.890625 \r\nQ 35.15625 6.890625 40.078125 11.328125 \r\nQ 45.015625 15.765625 45.015625 23.390625 \r\nQ 45.015625 31 40.078125 35.4375 \r\nQ 35.15625 39.890625 26.703125 39.890625 \r\nQ 22.75 39.890625 18.8125 39.015625 \r\nQ 14.890625 38.140625 10.796875 36.28125 \r\nz\r\n\" id=\"DejaVuSans-53\"/>\r\n      </defs>\r\n      <use xlink:href=\"#DejaVuSans-53\"/>\r\n      <use x=\"63.623047\" xlink:href=\"#DejaVuSans-48\"/>\r\n      <use x=\"127.246094\" xlink:href=\"#DejaVuSans-48\"/>\r\n      <use x=\"190.869141\" xlink:href=\"#DejaVuSans-48\"/>\r\n     </g>\r\n    </g>\r\n   </g>\r\n   <g id=\"xtick_9\">\r\n    <g id=\"line2d_11\">\r\n     <path d=\"M 436.522204 428.070371 \r\nL 444.00784 430.371717 \r\n\" style=\"fill:none;stroke:#000000;stroke-linecap:square;stroke-width:0.8;\"/>\r\n    </g>\r\n    <g id=\"text_11\">\r\n     <!-- 6000 -->\r\n     <g transform=\"translate(438.679748 449.303455)scale(0.1 -0.1)\">\r\n      <use xlink:href=\"#DejaVuSans-54\"/>\r\n      <use x=\"63.623047\" xlink:href=\"#DejaVuSans-48\"/>\r\n      <use x=\"127.246094\" xlink:href=\"#DejaVuSans-48\"/>\r\n      <use x=\"190.869141\" xlink:href=\"#DejaVuSans-48\"/>\r\n     </g>\r\n    </g>\r\n   </g>\r\n   <g id=\"xtick_10\">\r\n    <g id=\"line2d_12\">\r\n     <path d=\"M 460.280621 403.732065 \r\nL 467.696932 405.973314 \r\n\" style=\"fill:none;stroke:#000000;stroke-linecap:square;stroke-width:0.8;\"/>\r\n    </g>\r\n    <g id=\"text_12\">\r\n     <!-- 7000 -->\r\n     <g transform=\"translate(462.258846 424.769233)scale(0.1 -0.1)\">\r\n      <defs>\r\n       <path d=\"M 8.203125 72.90625 \r\nL 55.078125 72.90625 \r\nL 55.078125 68.703125 \r\nL 28.609375 0 \r\nL 18.3125 0 \r\nL 43.21875 64.59375 \r\nL 8.203125 64.59375 \r\nz\r\n\" id=\"DejaVuSans-55\"/>\r\n      </defs>\r\n      <use xlink:href=\"#DejaVuSans-55\"/>\r\n      <use x=\"63.623047\" xlink:href=\"#DejaVuSans-48\"/>\r\n      <use x=\"127.246094\" xlink:href=\"#DejaVuSans-48\"/>\r\n      <use x=\"190.869141\" xlink:href=\"#DejaVuSans-48\"/>\r\n     </g>\r\n    </g>\r\n   </g>\r\n   <g id=\"xtick_11\">\r\n    <g id=\"line2d_13\">\r\n     <path d=\"M 483.422983 380.024853 \r\nL 490.771021 382.208328 \r\n\" style=\"fill:none;stroke:#000000;stroke-linecap:square;stroke-width:0.8;\"/>\r\n    </g>\r\n    <g id=\"text_13\">\r\n     <!-- 8000 -->\r\n     <g transform=\"translate(485.226122 400.871614)scale(0.1 -0.1)\">\r\n      <use xlink:href=\"#DejaVuSans-56\"/>\r\n      <use x=\"63.623047\" xlink:href=\"#DejaVuSans-48\"/>\r\n      <use x=\"127.246094\" xlink:href=\"#DejaVuSans-48\"/>\r\n      <use x=\"190.869141\" xlink:href=\"#DejaVuSans-48\"/>\r\n     </g>\r\n    </g>\r\n   </g>\r\n   <g id=\"xtick_12\">\r\n    <g id=\"line2d_14\">\r\n     <path d=\"M 505.972942 356.924502 \r\nL 513.253751 359.052409 \r\n\" style=\"fill:none;stroke:#000000;stroke-linecap:square;stroke-width:0.8;\"/>\r\n    </g>\r\n    <g id=\"text_14\">\r\n     <!-- 9000 -->\r\n     <g transform=\"translate(507.605086 377.58614)scale(0.1 -0.1)\">\r\n      <defs>\r\n       <path d=\"M 10.984375 1.515625 \r\nL 10.984375 10.5 \r\nQ 14.703125 8.734375 18.5 7.8125 \r\nQ 22.3125 6.890625 25.984375 6.890625 \r\nQ 35.75 6.890625 40.890625 13.453125 \r\nQ 46.046875 20.015625 46.78125 33.40625 \r\nQ 43.953125 29.203125 39.59375 26.953125 \r\nQ 35.25 24.703125 29.984375 24.703125 \r\nQ 19.046875 24.703125 12.671875 31.3125 \r\nQ 6.296875 37.9375 6.296875 49.421875 \r\nQ 6.296875 60.640625 12.9375 67.421875 \r\nQ 19.578125 74.21875 30.609375 74.21875 \r\nQ 43.265625 74.21875 49.921875 64.515625 \r\nQ 56.59375 54.828125 56.59375 36.375 \r\nQ 56.59375 19.140625 48.40625 8.859375 \r\nQ 40.234375 -1.421875 26.421875 -1.421875 \r\nQ 22.703125 -1.421875 18.890625 -0.6875 \r\nQ 15.09375 0.046875 10.984375 1.515625 \r\nz\r\nM 30.609375 32.421875 \r\nQ 37.25 32.421875 41.125 36.953125 \r\nQ 45.015625 41.5 45.015625 49.421875 \r\nQ 45.015625 57.28125 41.125 61.84375 \r\nQ 37.25 66.40625 30.609375 66.40625 \r\nQ 23.96875 66.40625 20.09375 61.84375 \r\nQ 16.21875 57.28125 16.21875 49.421875 \r\nQ 16.21875 41.5 20.09375 36.953125 \r\nQ 23.96875 32.421875 30.609375 32.421875 \r\nz\r\n\" id=\"DejaVuSans-57\"/>\r\n      </defs>\r\n      <use xlink:href=\"#DejaVuSans-57\"/>\r\n      <use x=\"63.623047\" xlink:href=\"#DejaVuSans-48\"/>\r\n      <use x=\"127.246094\" xlink:href=\"#DejaVuSans-48\"/>\r\n      <use x=\"190.869141\" xlink:href=\"#DejaVuSans-48\"/>\r\n     </g>\r\n    </g>\r\n   </g>\r\n  </g>\r\n  <g id=\"axis3d_3\">\r\n   <g id=\"line2d_15\">\r\n    <path d=\"M 515.8167 350.019774 \r\nL 526.096428 125.536794 \r\n\" style=\"fill:none;stroke:#000000;stroke-linecap:square;stroke-width:0.8;\"/>\r\n   </g>\r\n   <g id=\"text_15\">\r\n    <!-- week -->\r\n    <g transform=\"translate(548.219505 237.568933)scale(0.1 -0.1)\">\r\n     <defs>\r\n      <path d=\"M 4.203125 54.6875 \r\nL 13.1875 54.6875 \r\nL 24.421875 12.015625 \r\nL 35.59375 54.6875 \r\nL 46.1875 54.6875 \r\nL 57.421875 12.015625 \r\nL 68.609375 54.6875 \r\nL 77.59375 54.6875 \r\nL 63.28125 0 \r\nL 52.6875 0 \r\nL 40.921875 44.828125 \r\nL 29.109375 0 \r\nL 18.5 0 \r\nz\r\n\" id=\"DejaVuSans-119\"/>\r\n     </defs>\r\n     <use xlink:href=\"#DejaVuSans-119\"/>\r\n     <use x=\"81.787109\" xlink:href=\"#DejaVuSans-101\"/>\r\n     <use x=\"143.310547\" xlink:href=\"#DejaVuSans-101\"/>\r\n     <use x=\"204.833984\" xlink:href=\"#DejaVuSans-107\"/>\r\n    </g>\r\n   </g>\r\n   <g id=\"Line3DCollection_3\">\r\n    <path d=\"M 516.444529 336.309592 \r\nL 227.607313 253.0131 \r\nL 47.569541 402.727923 \r\n\" style=\"fill:none;stroke:#b0b0b0;stroke-width:0.8;\"/>\r\n    <path d=\"M 518.401204 293.580813 \r\nL 227.131637 211.647089 \r\nL 45.461821 358.959754 \r\n\" style=\"fill:none;stroke:#b0b0b0;stroke-width:0.8;\"/>\r\n    <path d=\"M 520.391442 250.119101 \r\nL 226.648194 169.605629 \r\nL 43.316559 314.412005 \r\n\" style=\"fill:none;stroke:#b0b0b0;stroke-width:0.8;\"/>\r\n    <path d=\"M 522.416114 205.905435 \r\nL 226.156791 126.872041 \r\nL 41.132744 269.063661 \r\n\" style=\"fill:none;stroke:#b0b0b0;stroke-width:0.8;\"/>\r\n    <path d=\"M 524.476122 160.920131 \r\nL 225.657232 83.42909 \r\nL 38.909326 222.892944 \r\n\" style=\"fill:none;stroke:#b0b0b0;stroke-width:0.8;\"/>\r\n   </g>\r\n   <g id=\"xtick_13\">\r\n    <g id=\"line2d_16\">\r\n     <path d=\"M 514.020079 335.610415 \r\nL 521.299212 337.709612 \r\n\" style=\"fill:none;stroke:#000000;stroke-linecap:square;stroke-width:0.8;\"/>\r\n    </g>\r\n    <g id=\"text_16\">\r\n     <!-- 0 -->\r\n     <g transform=\"translate(531.588896 341.31212)scale(0.1 -0.1)\">\r\n      <use xlink:href=\"#DejaVuSans-48\"/>\r\n     </g>\r\n    </g>\r\n   </g>\r\n   <g id=\"xtick_14\">\r\n    <g id=\"line2d_17\">\r\n     <path d=\"M 515.955362 292.892801 \r\nL 523.298771 294.958491 \r\n\" style=\"fill:none;stroke:#000000;stroke-linecap:square;stroke-width:0.8;\"/>\r\n    </g>\r\n    <g id=\"text_17\">\r\n     <!-- 20 -->\r\n     <g transform=\"translate(530.517015 298.624816)scale(0.1 -0.1)\">\r\n      <use xlink:href=\"#DejaVuSans-50\"/>\r\n      <use x=\"63.623047\" xlink:href=\"#DejaVuSans-48\"/>\r\n     </g>\r\n    </g>\r\n   </g>\r\n   <g id=\"xtick_15\">\r\n    <g id=\"line2d_18\">\r\n     <path d=\"M 517.923828 249.442741 \r\nL 525.332656 251.473462 \r\n\" style=\"fill:none;stroke:#000000;stroke-linecap:square;stroke-width:0.8;\"/>\r\n    </g>\r\n    <g id=\"text_18\">\r\n     <!-- 40 -->\r\n     <g transform=\"translate(532.662512 255.206389)scale(0.1 -0.1)\">\r\n      <use xlink:href=\"#DejaVuSans-52\"/>\r\n      <use x=\"63.623047\" xlink:href=\"#DejaVuSans-48\"/>\r\n     </g>\r\n    </g>\r\n   </g>\r\n   <g id=\"xtick_16\">\r\n    <g id=\"line2d_19\">\r\n     <path d=\"M 519.926338 205.241235 \r\nL 527.40176 207.235461 \r\n\" style=\"fill:none;stroke:#000000;stroke-linecap:square;stroke-width:0.8;\"/>\r\n    </g>\r\n    <g id=\"text_19\">\r\n     <!-- 60 -->\r\n     <g transform=\"translate(534.845073 211.037893)scale(0.1 -0.1)\">\r\n      <use xlink:href=\"#DejaVuSans-54\"/>\r\n      <use x=\"63.623047\" xlink:href=\"#DejaVuSans-48\"/>\r\n     </g>\r\n    </g>\r\n   </g>\r\n   <g id=\"xtick_17\">\r\n    <g id=\"line2d_20\">\r\n     <path d=\"M 521.963781 160.268619 \r\nL 529.507004 162.224761 \r\n\" style=\"fill:none;stroke:#000000;stroke-linecap:square;stroke-width:0.8;\"/>\r\n    </g>\r\n    <g id=\"text_20\">\r\n     <!-- 80 -->\r\n     <g transform=\"translate(537.065668 166.099722)scale(0.1 -0.1)\">\r\n      <use xlink:href=\"#DejaVuSans-56\"/>\r\n      <use x=\"63.623047\" xlink:href=\"#DejaVuSans-48\"/>\r\n     </g>\r\n    </g>\r\n   </g>\r\n  </g>\r\n  <g id=\"axes_1\">\r\n   <g id=\"Path3DCollection_1\">\r\n    <defs>\r\n     <path d=\"M 0 2.236068 \r\nC 0.593012 2.236068 1.161816 2.000462 1.581139 1.581139 \r\nC 2.000462 1.161816 2.236068 0.593012 2.236068 -0 \r\nC 2.236068 -0.593012 2.000462 -1.161816 1.581139 -1.581139 \r\nC 1.161816 -2.000462 0.593012 -2.236068 0 -2.236068 \r\nC -0.593012 -2.236068 -1.161816 -2.000462 -1.581139 -1.581139 \r\nC -2.000462 -1.161816 -2.236068 -0.593012 -2.236068 0 \r\nC -2.236068 0.593012 -2.000462 1.161816 -1.581139 1.581139 \r\nC -1.161816 2.000462 -0.593012 2.236068 0 2.236068 \r\nz\r\n\" id=\"C0_0_d6c3e0982b\"/>\r\n    </defs>\r\n    <g clip-path=\"url(#p6ce1d11e65)\">\r\n     <use style=\"fill:#0000ff;fill-opacity:0.3;stroke:#0000ff;stroke-opacity:0.3;\" x=\"191.046086\" xlink:href=\"#C0_0_d6c3e0982b\" y=\"284.419411\"/>\r\n    </g>\r\n    <g clip-path=\"url(#p6ce1d11e65)\">\r\n     <use style=\"fill:#0000ff;fill-opacity:0.331794;stroke:#0000ff;stroke-opacity:0.331794;\" x=\"218.072968\" xlink:href=\"#C0_0_d6c3e0982b\" y=\"160.745712\"/>\r\n    </g>\r\n    <g clip-path=\"url(#p6ce1d11e65)\">\r\n     <use style=\"fill:#0000ff;fill-opacity:0.383958;stroke:#0000ff;stroke-opacity:0.383958;\" x=\"289.118953\" xlink:href=\"#C0_0_d6c3e0982b\" y=\"126.517814\"/>\r\n    </g>\r\n    <g clip-path=\"url(#p6ce1d11e65)\">\r\n     <use style=\"fill:#0000ff;fill-opacity:0.384521;stroke:#0000ff;stroke-opacity:0.384521;\" x=\"288.66071\" xlink:href=\"#C0_0_d6c3e0982b\" y=\"258.202881\"/>\r\n    </g>\r\n    <g clip-path=\"url(#p6ce1d11e65)\">\r\n     <use style=\"fill:#0000ff;fill-opacity:0.386846;stroke:#0000ff;stroke-opacity:0.386846;\" x=\"275.490209\" xlink:href=\"#C0_0_d6c3e0982b\" y=\"301.78594\"/>\r\n    </g>\r\n    <g clip-path=\"url(#p6ce1d11e65)\">\r\n     <use style=\"fill:#0000ff;fill-opacity:0.393239;stroke:#0000ff;stroke-opacity:0.393239;\" x=\"330.921377\" xlink:href=\"#C0_0_d6c3e0982b\" y=\"234.95684\"/>\r\n    </g>\r\n    <g clip-path=\"url(#p6ce1d11e65)\">\r\n     <use style=\"fill:#0000ff;fill-opacity:0.393865;stroke:#0000ff;stroke-opacity:0.393865;\" x=\"272.551754\" xlink:href=\"#C0_0_d6c3e0982b\" y=\"174.990396\"/>\r\n    </g>\r\n    <g clip-path=\"url(#p6ce1d11e65)\">\r\n     <use style=\"fill:#0000ff;fill-opacity:0.394566;stroke:#0000ff;stroke-opacity:0.394566;\" x=\"198.163424\" xlink:href=\"#C0_0_d6c3e0982b\" y=\"301.216812\"/>\r\n    </g>\r\n    <g clip-path=\"url(#p6ce1d11e65)\">\r\n     <use style=\"fill:#0000ff;fill-opacity:0.39581;stroke:#0000ff;stroke-opacity:0.39581;\" x=\"208.47727\" xlink:href=\"#C0_0_d6c3e0982b\" y=\"264.340928\"/>\r\n    </g>\r\n    <g clip-path=\"url(#p6ce1d11e65)\">\r\n     <use style=\"fill:#0000ff;fill-opacity:0.398712;stroke:#0000ff;stroke-opacity:0.398712;\" x=\"289.670045\" xlink:href=\"#C0_0_d6c3e0982b\" y=\"242.252\"/>\r\n    </g>\r\n    <g clip-path=\"url(#p6ce1d11e65)\">\r\n     <use style=\"fill:#0000ff;fill-opacity:0.407021;stroke:#0000ff;stroke-opacity:0.407021;\" x=\"333.841347\" xlink:href=\"#C0_0_d6c3e0982b\" y=\"213.05652\"/>\r\n    </g>\r\n    <g clip-path=\"url(#p6ce1d11e65)\">\r\n     <use style=\"fill:#0000ff;fill-opacity:0.421969;stroke:#0000ff;stroke-opacity:0.421969;\" x=\"253.608128\" xlink:href=\"#C0_0_d6c3e0982b\" y=\"346.762779\"/>\r\n    </g>\r\n    <g clip-path=\"url(#p6ce1d11e65)\">\r\n     <use style=\"fill:#0000ff;fill-opacity:0.441876;stroke:#0000ff;stroke-opacity:0.441876;\" x=\"304.069854\" xlink:href=\"#C0_0_d6c3e0982b\" y=\"286.381939\"/>\r\n    </g>\r\n    <g clip-path=\"url(#p6ce1d11e65)\">\r\n     <use style=\"fill:#0000ff;fill-opacity:0.442424;stroke:#0000ff;stroke-opacity:0.442424;\" x=\"214.392809\" xlink:href=\"#C0_0_d6c3e0982b\" y=\"332.74926\"/>\r\n    </g>\r\n    <g clip-path=\"url(#p6ce1d11e65)\">\r\n     <use style=\"fill:#0000ff;fill-opacity:0.447703;stroke:#0000ff;stroke-opacity:0.447703;\" x=\"223.411849\" xlink:href=\"#C0_0_d6c3e0982b\" y=\"296.754411\"/>\r\n    </g>\r\n    <g clip-path=\"url(#p6ce1d11e65)\">\r\n     <use style=\"fill:#0000ff;fill-opacity:0.460884;stroke:#0000ff;stroke-opacity:0.460884;\" x=\"281.049743\" xlink:href=\"#C0_0_d6c3e0982b\" y=\"349.871363\"/>\r\n    </g>\r\n    <g clip-path=\"url(#p6ce1d11e65)\">\r\n     <use style=\"fill:#0000ff;fill-opacity:0.472154;stroke:#0000ff;stroke-opacity:0.472154;\" x=\"125.037883\" xlink:href=\"#C0_0_d6c3e0982b\" y=\"350.36946\"/>\r\n    </g>\r\n    <g clip-path=\"url(#p6ce1d11e65)\">\r\n     <use style=\"fill:#0000ff;fill-opacity:0.473998;stroke:#0000ff;stroke-opacity:0.473998;\" x=\"260.179051\" xlink:href=\"#C0_0_d6c3e0982b\" y=\"278.33701\"/>\r\n    </g>\r\n    <g clip-path=\"url(#p6ce1d11e65)\">\r\n     <use style=\"fill:#0000ff;fill-opacity:0.478027;stroke:#0000ff;stroke-opacity:0.478027;\" x=\"316.150424\" xlink:href=\"#C0_0_d6c3e0982b\" y=\"346.327611\"/>\r\n    </g>\r\n    <g clip-path=\"url(#p6ce1d11e65)\">\r\n     <use style=\"fill:#0000ff;fill-opacity:0.480789;stroke:#0000ff;stroke-opacity:0.480789;\" x=\"225.711472\" xlink:href=\"#C0_0_d6c3e0982b\" y=\"126.235245\"/>\r\n    </g>\r\n    <g clip-path=\"url(#p6ce1d11e65)\">\r\n     <use style=\"fill:#0000ff;fill-opacity:0.492174;stroke:#0000ff;stroke-opacity:0.492174;\" x=\"213.407944\" xlink:href=\"#C0_0_d6c3e0982b\" y=\"158.35213\"/>\r\n    </g>\r\n    <g clip-path=\"url(#p6ce1d11e65)\">\r\n     <use style=\"fill:#0000ff;fill-opacity:0.499155;stroke:#0000ff;stroke-opacity:0.499155;\" x=\"165.827923\" xlink:href=\"#C0_0_d6c3e0982b\" y=\"183.548801\"/>\r\n    </g>\r\n    <g clip-path=\"url(#p6ce1d11e65)\">\r\n     <use style=\"fill:#0000ff;fill-opacity:0.501357;stroke:#0000ff;stroke-opacity:0.501357;\" x=\"226.819825\" xlink:href=\"#C0_0_d6c3e0982b\" y=\"236.652774\"/>\r\n    </g>\r\n    <g clip-path=\"url(#p6ce1d11e65)\">\r\n     <use style=\"fill:#0000ff;fill-opacity:0.507527;stroke:#0000ff;stroke-opacity:0.507527;\" x=\"252.259642\" xlink:href=\"#C0_0_d6c3e0982b\" y=\"276.344429\"/>\r\n    </g>\r\n    <g clip-path=\"url(#p6ce1d11e65)\">\r\n     <use style=\"fill:#0000ff;fill-opacity:0.513315;stroke:#0000ff;stroke-opacity:0.513315;\" x=\"178.298966\" xlink:href=\"#C0_0_d6c3e0982b\" y=\"260.467878\"/>\r\n    </g>\r\n    <g clip-path=\"url(#p6ce1d11e65)\">\r\n     <use style=\"fill:#0000ff;fill-opacity:0.526175;stroke:#0000ff;stroke-opacity:0.526175;\" x=\"234.152089\" xlink:href=\"#C0_0_d6c3e0982b\" y=\"322.704744\"/>\r\n    </g>\r\n    <g clip-path=\"url(#p6ce1d11e65)\">\r\n     <use style=\"fill:#0000ff;fill-opacity:0.52747;stroke:#0000ff;stroke-opacity:0.52747;\" x=\"225.531461\" xlink:href=\"#C0_0_d6c3e0982b\" y=\"217.610331\"/>\r\n    </g>\r\n    <g clip-path=\"url(#p6ce1d11e65)\">\r\n     <use style=\"fill:#0000ff;fill-opacity:0.529881;stroke:#0000ff;stroke-opacity:0.529881;\" x=\"270.698964\" xlink:href=\"#C0_0_d6c3e0982b\" y=\"326.724906\"/>\r\n    </g>\r\n    <g clip-path=\"url(#p6ce1d11e65)\">\r\n     <use style=\"fill:#0000ff;fill-opacity:0.536172;stroke:#0000ff;stroke-opacity:0.536172;\" x=\"304.757722\" xlink:href=\"#C0_0_d6c3e0982b\" y=\"337.379012\"/>\r\n    </g>\r\n    <g clip-path=\"url(#p6ce1d11e65)\">\r\n     <use style=\"fill:#0000ff;fill-opacity:0.542063;stroke:#0000ff;stroke-opacity:0.542063;\" x=\"223.119778\" xlink:href=\"#C0_0_d6c3e0982b\" y=\"212.82875\"/>\r\n    </g>\r\n    <g clip-path=\"url(#p6ce1d11e65)\">\r\n     <use style=\"fill:#0000ff;fill-opacity:0.543947;stroke:#0000ff;stroke-opacity:0.543947;\" x=\"279.877245\" xlink:href=\"#C0_0_d6c3e0982b\" y=\"148.71074\"/>\r\n    </g>\r\n    <g clip-path=\"url(#p6ce1d11e65)\">\r\n     <use style=\"fill:#0000ff;fill-opacity:0.544325;stroke:#0000ff;stroke-opacity:0.544325;\" x=\"226.593683\" xlink:href=\"#C0_0_d6c3e0982b\" y=\"198.759078\"/>\r\n    </g>\r\n    <g clip-path=\"url(#p6ce1d11e65)\">\r\n     <use style=\"fill:#0000ff;fill-opacity:0.555219;stroke:#0000ff;stroke-opacity:0.555219;\" x=\"250.671317\" xlink:href=\"#C0_0_d6c3e0982b\" y=\"239.990242\"/>\r\n    </g>\r\n    <g clip-path=\"url(#p6ce1d11e65)\">\r\n     <use style=\"fill:#0000ff;fill-opacity:0.557842;stroke:#0000ff;stroke-opacity:0.557842;\" x=\"214.368382\" xlink:href=\"#C0_0_d6c3e0982b\" y=\"228.941579\"/>\r\n    </g>\r\n    <g clip-path=\"url(#p6ce1d11e65)\">\r\n     <use style=\"fill:#0000ff;fill-opacity:0.559684;stroke:#0000ff;stroke-opacity:0.559684;\" x=\"324.883688\" xlink:href=\"#C0_0_d6c3e0982b\" y=\"382.62898\"/>\r\n    </g>\r\n    <g clip-path=\"url(#p6ce1d11e65)\">\r\n     <use style=\"fill:#0000ff;fill-opacity:0.560845;stroke:#0000ff;stroke-opacity:0.560845;\" x=\"162.869811\" xlink:href=\"#C0_0_d6c3e0982b\" y=\"135.490897\"/>\r\n    </g>\r\n    <g clip-path=\"url(#p6ce1d11e65)\">\r\n     <use style=\"fill:#0000ff;fill-opacity:0.56208;stroke:#0000ff;stroke-opacity:0.56208;\" x=\"197.042031\" xlink:href=\"#C0_0_d6c3e0982b\" y=\"150.547465\"/>\r\n    </g>\r\n    <g clip-path=\"url(#p6ce1d11e65)\">\r\n     <use style=\"fill:#0000ff;fill-opacity:0.563378;stroke:#0000ff;stroke-opacity:0.563378;\" x=\"245.118596\" xlink:href=\"#C0_0_d6c3e0982b\" y=\"386.693093\"/>\r\n    </g>\r\n    <g clip-path=\"url(#p6ce1d11e65)\">\r\n     <use style=\"fill:#0000ff;fill-opacity:0.568159;stroke:#0000ff;stroke-opacity:0.568159;\" x=\"236.133453\" xlink:href=\"#C0_0_d6c3e0982b\" y=\"278.994043\"/>\r\n    </g>\r\n    <g clip-path=\"url(#p6ce1d11e65)\">\r\n     <use style=\"fill:#0000ff;fill-opacity:0.577539;stroke:#0000ff;stroke-opacity:0.577539;\" x=\"269.383951\" xlink:href=\"#C0_0_d6c3e0982b\" y=\"290.526132\"/>\r\n    </g>\r\n    <g clip-path=\"url(#p6ce1d11e65)\">\r\n     <use style=\"fill:#0000ff;fill-opacity:0.604131;stroke:#0000ff;stroke-opacity:0.604131;\" x=\"248.630559\" xlink:href=\"#C0_0_d6c3e0982b\" y=\"339.677646\"/>\r\n    </g>\r\n    <g clip-path=\"url(#p6ce1d11e65)\">\r\n     <use style=\"fill:#0000ff;fill-opacity:0.604878;stroke:#0000ff;stroke-opacity:0.604878;\" x=\"212.676647\" xlink:href=\"#C0_0_d6c3e0982b\" y=\"328.024493\"/>\r\n    </g>\r\n    <g clip-path=\"url(#p6ce1d11e65)\">\r\n     <use style=\"fill:#0000ff;fill-opacity:0.609679;stroke:#0000ff;stroke-opacity:0.609679;\" x=\"315.689292\" xlink:href=\"#C0_0_d6c3e0982b\" y=\"373.976192\"/>\r\n    </g>\r\n    <g clip-path=\"url(#p6ce1d11e65)\">\r\n     <use style=\"fill:#0000ff;fill-opacity:0.610991;stroke:#0000ff;stroke-opacity:0.610991;\" x=\"232.913538\" xlink:href=\"#C0_0_d6c3e0982b\" y=\"252.556821\"/>\r\n    </g>\r\n    <g clip-path=\"url(#p6ce1d11e65)\">\r\n     <use style=\"fill:#0000ff;fill-opacity:0.61809;stroke:#0000ff;stroke-opacity:0.61809;\" x=\"270.623246\" xlink:href=\"#C0_0_d6c3e0982b\" y=\"251.556336\"/>\r\n    </g>\r\n    <g clip-path=\"url(#p6ce1d11e65)\">\r\n     <use style=\"fill:#0000ff;fill-opacity:0.63029;stroke:#0000ff;stroke-opacity:0.63029;\" x=\"217.871042\" xlink:href=\"#C0_0_d6c3e0982b\" y=\"287.728632\"/>\r\n    </g>\r\n    <g clip-path=\"url(#p6ce1d11e65)\">\r\n     <use style=\"fill:#0000ff;fill-opacity:0.631406;stroke:#0000ff;stroke-opacity:0.631406;\" x=\"200.565562\" xlink:href=\"#C0_0_d6c3e0982b\" y=\"210.537296\"/>\r\n    </g>\r\n    <g clip-path=\"url(#p6ce1d11e65)\">\r\n     <use style=\"fill:#0000ff;fill-opacity:0.635177;stroke:#0000ff;stroke-opacity:0.635177;\" x=\"231.73316\" xlink:href=\"#C0_0_d6c3e0982b\" y=\"235.419464\"/>\r\n    </g>\r\n    <g clip-path=\"url(#p6ce1d11e65)\">\r\n     <use style=\"fill:#0000ff;fill-opacity:0.637582;stroke:#0000ff;stroke-opacity:0.637582;\" x=\"216.569092\" xlink:href=\"#C0_0_d6c3e0982b\" y=\"149.540132\"/>\r\n    </g>\r\n    <g clip-path=\"url(#p6ce1d11e65)\">\r\n     <use style=\"fill:#0000ff;fill-opacity:0.64308;stroke:#0000ff;stroke-opacity:0.64308;\" x=\"221.927426\" xlink:href=\"#C0_0_d6c3e0982b\" y=\"398.873489\"/>\r\n    </g>\r\n    <g clip-path=\"url(#p6ce1d11e65)\">\r\n     <use style=\"fill:#0000ff;fill-opacity:0.655314;stroke:#0000ff;stroke-opacity:0.655314;\" x=\"155.619304\" xlink:href=\"#C0_0_d6c3e0982b\" y=\"208.018895\"/>\r\n    </g>\r\n    <g clip-path=\"url(#p6ce1d11e65)\">\r\n     <use style=\"fill:#0000ff;fill-opacity:0.661804;stroke:#0000ff;stroke-opacity:0.661804;\" x=\"184.241578\" xlink:href=\"#C0_0_d6c3e0982b\" y=\"239.723332\"/>\r\n    </g>\r\n    <g clip-path=\"url(#p6ce1d11e65)\">\r\n     <use style=\"fill:#0000ff;fill-opacity:0.668039;stroke:#0000ff;stroke-opacity:0.668039;\" x=\"330.780068\" xlink:href=\"#C0_0_d6c3e0982b\" y=\"274.419752\"/>\r\n    </g>\r\n    <g clip-path=\"url(#p6ce1d11e65)\">\r\n     <use style=\"fill:#0000ff;fill-opacity:0.668773;stroke:#0000ff;stroke-opacity:0.668773;\" x=\"247.123134\" xlink:href=\"#C0_0_d6c3e0982b\" y=\"289.621828\"/>\r\n    </g>\r\n    <g clip-path=\"url(#p6ce1d11e65)\">\r\n     <use style=\"fill:#0000ff;fill-opacity:0.669257;stroke:#0000ff;stroke-opacity:0.669257;\" x=\"294.893672\" xlink:href=\"#C0_0_d6c3e0982b\" y=\"397.747258\"/>\r\n    </g>\r\n    <g clip-path=\"url(#p6ce1d11e65)\">\r\n     <use style=\"fill:#0000ff;fill-opacity:0.677011;stroke:#0000ff;stroke-opacity:0.677011;\" x=\"252.223277\" xlink:href=\"#C0_0_d6c3e0982b\" y=\"264.909583\"/>\r\n    </g>\r\n    <g clip-path=\"url(#p6ce1d11e65)\">\r\n     <use style=\"fill:#0000ff;fill-opacity:0.682095;stroke:#0000ff;stroke-opacity:0.682095;\" x=\"376.993996\" xlink:href=\"#C0_0_d6c3e0982b\" y=\"377.541355\"/>\r\n    </g>\r\n    <g clip-path=\"url(#p6ce1d11e65)\">\r\n     <use style=\"fill:#0000ff;fill-opacity:0.682352;stroke:#0000ff;stroke-opacity:0.682352;\" x=\"349.428154\" xlink:href=\"#C0_0_d6c3e0982b\" y=\"335.530932\"/>\r\n    </g>\r\n    <g clip-path=\"url(#p6ce1d11e65)\">\r\n     <use style=\"fill:#0000ff;fill-opacity:0.682975;stroke:#0000ff;stroke-opacity:0.682975;\" x=\"196.74712\" xlink:href=\"#C0_0_d6c3e0982b\" y=\"314.665483\"/>\r\n    </g>\r\n    <g clip-path=\"url(#p6ce1d11e65)\">\r\n     <use style=\"fill:#0000ff;fill-opacity:0.684149;stroke:#0000ff;stroke-opacity:0.684149;\" x=\"245.550028\" xlink:href=\"#C0_0_d6c3e0982b\" y=\"281.922677\"/>\r\n    </g>\r\n    <g clip-path=\"url(#p6ce1d11e65)\">\r\n     <use style=\"fill:#0000ff;fill-opacity:0.685209;stroke:#0000ff;stroke-opacity:0.685209;\" x=\"270.966665\" xlink:href=\"#C0_0_d6c3e0982b\" y=\"330.339934\"/>\r\n    </g>\r\n    <g clip-path=\"url(#p6ce1d11e65)\">\r\n     <use style=\"fill:#0000ff;fill-opacity:0.68581;stroke:#0000ff;stroke-opacity:0.68581;\" x=\"189.999766\" xlink:href=\"#C0_0_d6c3e0982b\" y=\"198.167347\"/>\r\n    </g>\r\n    <g clip-path=\"url(#p6ce1d11e65)\">\r\n     <use style=\"fill:#0000ff;fill-opacity:0.706232;stroke:#0000ff;stroke-opacity:0.706232;\" x=\"313.543748\" xlink:href=\"#C0_0_d6c3e0982b\" y=\"303.186175\"/>\r\n    </g>\r\n    <g clip-path=\"url(#p6ce1d11e65)\">\r\n     <use style=\"fill:#0000ff;fill-opacity:0.708539;stroke:#0000ff;stroke-opacity:0.708539;\" x=\"209.08362\" xlink:href=\"#C0_0_d6c3e0982b\" y=\"249.494051\"/>\r\n    </g>\r\n    <g clip-path=\"url(#p6ce1d11e65)\">\r\n     <use style=\"fill:#0000ff;fill-opacity:0.712426;stroke:#0000ff;stroke-opacity:0.712426;\" x=\"208.664398\" xlink:href=\"#C0_0_d6c3e0982b\" y=\"247.534899\"/>\r\n    </g>\r\n    <g clip-path=\"url(#p6ce1d11e65)\">\r\n     <use style=\"fill:#0000ff;fill-opacity:0.722974;stroke:#0000ff;stroke-opacity:0.722974;\" x=\"305.64456\" xlink:href=\"#C0_0_d6c3e0982b\" y=\"316.986451\"/>\r\n    </g>\r\n    <g clip-path=\"url(#p6ce1d11e65)\">\r\n     <use style=\"fill:#0000ff;fill-opacity:0.726641;stroke:#0000ff;stroke-opacity:0.726641;\" x=\"254.35758\" xlink:href=\"#C0_0_d6c3e0982b\" y=\"215.075372\"/>\r\n    </g>\r\n    <g clip-path=\"url(#p6ce1d11e65)\">\r\n     <use style=\"fill:#0000ff;fill-opacity:0.746619;stroke:#0000ff;stroke-opacity:0.746619;\" x=\"278.009965\" xlink:href=\"#C0_0_d6c3e0982b\" y=\"393.559634\"/>\r\n    </g>\r\n    <g clip-path=\"url(#p6ce1d11e65)\">\r\n     <use style=\"fill:#0000ff;fill-opacity:0.748733;stroke:#0000ff;stroke-opacity:0.748733;\" x=\"175.839421\" xlink:href=\"#C0_0_d6c3e0982b\" y=\"190.580473\"/>\r\n    </g>\r\n    <g clip-path=\"url(#p6ce1d11e65)\">\r\n     <use style=\"fill:#0000ff;fill-opacity:0.750054;stroke:#0000ff;stroke-opacity:0.750054;\" x=\"207.575844\" xlink:href=\"#C0_0_d6c3e0982b\" y=\"218.281798\"/>\r\n    </g>\r\n    <g clip-path=\"url(#p6ce1d11e65)\">\r\n     <use style=\"fill:#0000ff;fill-opacity:0.755362;stroke:#0000ff;stroke-opacity:0.755362;\" x=\"279.897323\" xlink:href=\"#C0_0_d6c3e0982b\" y=\"240.989999\"/>\r\n    </g>\r\n    <g clip-path=\"url(#p6ce1d11e65)\">\r\n     <use style=\"fill:#0000ff;fill-opacity:0.762872;stroke:#0000ff;stroke-opacity:0.762872;\" x=\"326.45967\" xlink:href=\"#C0_0_d6c3e0982b\" y=\"212.557382\"/>\r\n    </g>\r\n    <g clip-path=\"url(#p6ce1d11e65)\">\r\n     <use style=\"fill:#0000ff;fill-opacity:0.774447;stroke:#0000ff;stroke-opacity:0.774447;\" x=\"288.799203\" xlink:href=\"#C0_0_d6c3e0982b\" y=\"194.261951\"/>\r\n    </g>\r\n    <g clip-path=\"url(#p6ce1d11e65)\">\r\n     <use style=\"fill:#0000ff;fill-opacity:0.776278;stroke:#0000ff;stroke-opacity:0.776278;\" x=\"223.015557\" xlink:href=\"#C0_0_d6c3e0982b\" y=\"420.618982\"/>\r\n    </g>\r\n    <g clip-path=\"url(#p6ce1d11e65)\">\r\n     <use style=\"fill:#0000ff;fill-opacity:0.788901;stroke:#0000ff;stroke-opacity:0.788901;\" x=\"319.265587\" xlink:href=\"#C0_0_d6c3e0982b\" y=\"216.391137\"/>\r\n    </g>\r\n    <g clip-path=\"url(#p6ce1d11e65)\">\r\n     <use style=\"fill:#0000ff;fill-opacity:0.791512;stroke:#0000ff;stroke-opacity:0.791512;\" x=\"265.743578\" xlink:href=\"#C0_0_d6c3e0982b\" y=\"259.920143\"/>\r\n    </g>\r\n    <g clip-path=\"url(#p6ce1d11e65)\">\r\n     <use style=\"fill:#0000ff;fill-opacity:0.791668;stroke:#0000ff;stroke-opacity:0.791668;\" x=\"233.010267\" xlink:href=\"#C0_0_d6c3e0982b\" y=\"373.182122\"/>\r\n    </g>\r\n    <g clip-path=\"url(#p6ce1d11e65)\">\r\n     <use style=\"fill:#0000ff;fill-opacity:0.795567;stroke:#0000ff;stroke-opacity:0.795567;\" x=\"259.744525\" xlink:href=\"#C0_0_d6c3e0982b\" y=\"417.177523\"/>\r\n    </g>\r\n    <g clip-path=\"url(#p6ce1d11e65)\">\r\n     <use style=\"fill:#0000ff;fill-opacity:0.804014;stroke:#0000ff;stroke-opacity:0.804014;\" x=\"312.519946\" xlink:href=\"#C0_0_d6c3e0982b\" y=\"367.557259\"/>\r\n    </g>\r\n    <g clip-path=\"url(#p6ce1d11e65)\">\r\n     <use style=\"fill:#0000ff;fill-opacity:0.817401;stroke:#0000ff;stroke-opacity:0.817401;\" x=\"237.092886\" xlink:href=\"#C0_0_d6c3e0982b\" y=\"337.612666\"/>\r\n    </g>\r\n    <g clip-path=\"url(#p6ce1d11e65)\">\r\n     <use style=\"fill:#0000ff;fill-opacity:0.821212;stroke:#0000ff;stroke-opacity:0.821212;\" x=\"342.681712\" xlink:href=\"#C0_0_d6c3e0982b\" y=\"249.527594\"/>\r\n    </g>\r\n    <g clip-path=\"url(#p6ce1d11e65)\">\r\n     <use style=\"fill:#0000ff;fill-opacity:0.823657;stroke:#0000ff;stroke-opacity:0.823657;\" x=\"259.651242\" xlink:href=\"#C0_0_d6c3e0982b\" y=\"394.743666\"/>\r\n    </g>\r\n    <g clip-path=\"url(#p6ce1d11e65)\">\r\n     <use style=\"fill:#0000ff;fill-opacity:0.828041;stroke:#0000ff;stroke-opacity:0.828041;\" x=\"319.275918\" xlink:href=\"#C0_0_d6c3e0982b\" y=\"325.229165\"/>\r\n    </g>\r\n    <g clip-path=\"url(#p6ce1d11e65)\">\r\n     <use style=\"fill:#0000ff;fill-opacity:0.828413;stroke:#0000ff;stroke-opacity:0.828413;\" x=\"173.703061\" xlink:href=\"#C0_0_d6c3e0982b\" y=\"266.849619\"/>\r\n    </g>\r\n    <g clip-path=\"url(#p6ce1d11e65)\">\r\n     <use style=\"fill:#0000ff;fill-opacity:0.859406;stroke:#0000ff;stroke-opacity:0.859406;\" x=\"328.070584\" xlink:href=\"#C0_0_d6c3e0982b\" y=\"411.347495\"/>\r\n    </g>\r\n    <g clip-path=\"url(#p6ce1d11e65)\">\r\n     <use style=\"fill:#0000ff;fill-opacity:0.860829;stroke:#0000ff;stroke-opacity:0.860829;\" x=\"218.937037\" xlink:href=\"#C0_0_d6c3e0982b\" y=\"223.025787\"/>\r\n    </g>\r\n    <g clip-path=\"url(#p6ce1d11e65)\">\r\n     <use style=\"fill:#0000ff;fill-opacity:0.868481;stroke:#0000ff;stroke-opacity:0.868481;\" x=\"326.485333\" xlink:href=\"#C0_0_d6c3e0982b\" y=\"268.402718\"/>\r\n    </g>\r\n    <g clip-path=\"url(#p6ce1d11e65)\">\r\n     <use style=\"fill:#0000ff;fill-opacity:0.934194;stroke:#0000ff;stroke-opacity:0.934194;\" x=\"283.236587\" xlink:href=\"#C0_0_d6c3e0982b\" y=\"223.490689\"/>\r\n    </g>\r\n    <g clip-path=\"url(#p6ce1d11e65)\">\r\n     <use style=\"fill:#0000ff;fill-opacity:0.968895;stroke:#0000ff;stroke-opacity:0.968895;\" x=\"261.62008\" xlink:href=\"#C0_0_d6c3e0982b\" y=\"270.259045\"/>\r\n    </g>\r\n    <g clip-path=\"url(#p6ce1d11e65)\">\r\n     <use style=\"fill:#0000ff;stroke:#0000ff;\" x=\"386.192136\" xlink:href=\"#C0_0_d6c3e0982b\" y=\"246.884671\"/>\r\n    </g>\r\n   </g>\r\n  </g>\r\n </g>\r\n <defs>\r\n  <clipPath id=\"p6ce1d11e65\">\r\n   <rect height=\"543.6\" width=\"543.6\" x=\"7.2\" y=\"7.2\"/>\r\n  </clipPath>\r\n </defs>\r\n</svg>\r\n",
      "image/png": "[encoded data removed]"
     },
     "metadata": {
      "needs_background": "light"
     }
    }
   ],
   "source": [
    "shopper = df_baskets.loc[df_baskets['shopper'] == 30]\n",
    "\n",
    "fig = plt.figure(figsize = (10, 10))\n",
    "ax = fig.add_subplot(111, projection='3d')\n",
    "\n",
    "ax.scatter3D(\n",
    "    shopper['discount_mean'],\n",
    "    shopper['price_sum'],\n",
    "    shopper['week'],\n",
    "    c='b',\n",
    "    marker='o')\n",
    "ax.set_xlabel('discount')\n",
    "ax.set_ylabel('basket')\n",
    "ax.set_zlabel('week')\n",
    "\n",
    "plt.show()"
   ]
  },
  {
   "cell_type": "code",
   "execution_count": 27,
   "metadata": {},
   "outputs": [],
   "source": [
    "# our CUSTOM MODEL\n",
    "# SET product probability to reorder and identify trend based on last 15, 10, 5, and last week(negative trend)\n",
    "# SET discount at any rate customer spend much, and compare it to other percentages\n",
    "# SET product price to the most occured in all weeks, last 15,10,5, and last week then AVG them\n",
    "# BUILD DF to recognize which products are likly to order then test on baskets week 70-89\n",
    "# ERRORS product sum if product is recommended to order but not ordered\n",
    "# ERRORS discount test if the customer spent the most on the same predicted discounts\n",
    "# BUILD custom df each shopper each product each discount and probability then\n",
    "# Revenue = (1-discount) * P(discount) * price\n",
    "# Finally groupby and order the perentages on how likely the most revenue"
   ]
  },
  {
   "cell_type": "code",
   "execution_count": 28,
   "metadata": {},
   "outputs": [],
   "source": [
    "# helper VARs\n",
    "last_week = df['week'].max()\n",
    "weeks_list = [15,10,5,0]\n",
    "weeks_list = [ last_week-w for w in weeks_list]"
   ]
  },
  {
   "cell_type": "code",
   "execution_count": 29,
   "metadata": {},
   "outputs": [
    {
     "output_type": "stream",
     "name": "stderr",
     "text": [
      "  0%|          | 0/4 [00:00<?, ?it/s]\n",
      "Starting nproduct_propability\n",
      "product_propability....\n",
      "\n",
      "100%|██████████| 4/4 [00:02<00:00,  1.97it/s]\n",
      "\n",
      "product_propability took: 2\n"
     ]
    }
   ],
   "source": [
    "# SET product probability to reorder and recognize trend based on last 15, 10, 5, and last week(negative trend)\n",
    "\n",
    "def product_propability_df(wk):\n",
    "    product_propability = df.loc[df['week'] <= wk,['shopper','product']] \\\n",
    "        .groupby(['shopper','product'], as_index=True) \\\n",
    "        .apply(np.count_nonzero)\n",
    "    product_propability.columns = [f'count_{wk}']\n",
    "\n",
    "    return product_propability\n",
    "\n",
    "print(\"\\nStarting nproduct_propability\\nproduct_propability....\\n\")\n",
    "start = time()\n",
    "product_propability_list = list()\n",
    "for wk in tqdm(weeks_list):\n",
    "    product_propability_list.append(product_propability_df(wk))\n",
    "\n",
    "product_propability = pd.concat(product_propability_list, axis=1).reset_index()\n",
    "del product_propability_list\n",
    "\n",
    "print(f\"\\nproduct_propability took: {timer(start)}\")"
   ]
  },
  {
   "cell_type": "code",
   "execution_count": 30,
   "metadata": {},
   "outputs": [
    {
     "output_type": "execute_result",
     "data": {
      "text/plain": [
       "       shopper  product     0     1     2   3  count_orders\n",
       "0            0        1   2.0   2.0   2.0   2            90\n",
       "1            0        2   2.0   2.0   2.0   3            90\n",
       "2            0        3   1.0   1.0   1.0   2            90\n",
       "3            0        4  11.0  11.0  11.0  11            90\n",
       "4            0        5   2.0   2.0   2.0   2            90\n",
       "...        ...      ...   ...   ...   ...  ..           ...\n",
       "11038       49      245   6.0   6.0   6.0   6            90\n",
       "11039       49      246   8.0   8.0   8.0   8            90\n",
       "11040       49      247   4.0   4.0   4.0   4            90\n",
       "11041       49      248  38.0  42.0  42.0  44            90\n",
       "11042       49      249   2.0   2.0   2.0   2            90\n",
       "\n",
       "[11043 rows x 7 columns]"
      ],
      "text/html": "<div>\n<style scoped>\n    .dataframe tbody tr th:only-of-type {\n        vertical-align: middle;\n    }\n\n    .dataframe tbody tr th {\n        vertical-align: top;\n    }\n\n    .dataframe thead th {\n        text-align: right;\n    }\n</style>\n<table border=\"1\" class=\"dataframe\">\n  <thead>\n    <tr style=\"text-align: right;\">\n      <th></th>\n      <th>shopper</th>\n      <th>product</th>\n      <th>0</th>\n      <th>1</th>\n      <th>2</th>\n      <th>3</th>\n      <th>count_orders</th>\n    </tr>\n  </thead>\n  <tbody>\n    <tr>\n      <th>0</th>\n      <td>0</td>\n      <td>1</td>\n      <td>2.0</td>\n      <td>2.0</td>\n      <td>2.0</td>\n      <td>2</td>\n      <td>90</td>\n    </tr>\n    <tr>\n      <th>1</th>\n      <td>0</td>\n      <td>2</td>\n      <td>2.0</td>\n      <td>2.0</td>\n      <td>2.0</td>\n      <td>3</td>\n      <td>90</td>\n    </tr>\n    <tr>\n      <th>2</th>\n      <td>0</td>\n      <td>3</td>\n      <td>1.0</td>\n      <td>1.0</td>\n      <td>1.0</td>\n      <td>2</td>\n      <td>90</td>\n    </tr>\n    <tr>\n      <th>3</th>\n      <td>0</td>\n      <td>4</td>\n      <td>11.0</td>\n      <td>11.0</td>\n      <td>11.0</td>\n      <td>11</td>\n      <td>90</td>\n    </tr>\n    <tr>\n      <th>4</th>\n      <td>0</td>\n      <td>5</td>\n      <td>2.0</td>\n      <td>2.0</td>\n      <td>2.0</td>\n      <td>2</td>\n      <td>90</td>\n    </tr>\n    <tr>\n      <th>...</th>\n      <td>...</td>\n      <td>...</td>\n      <td>...</td>\n      <td>...</td>\n      <td>...</td>\n      <td>...</td>\n      <td>...</td>\n    </tr>\n    <tr>\n      <th>11038</th>\n      <td>49</td>\n      <td>245</td>\n      <td>6.0</td>\n      <td>6.0</td>\n      <td>6.0</td>\n      <td>6</td>\n      <td>90</td>\n    </tr>\n    <tr>\n      <th>11039</th>\n      <td>49</td>\n      <td>246</td>\n      <td>8.0</td>\n      <td>8.0</td>\n      <td>8.0</td>\n      <td>8</td>\n      <td>90</td>\n    </tr>\n    <tr>\n      <th>11040</th>\n      <td>49</td>\n      <td>247</td>\n      <td>4.0</td>\n      <td>4.0</td>\n      <td>4.0</td>\n      <td>4</td>\n      <td>90</td>\n    </tr>\n    <tr>\n      <th>11041</th>\n      <td>49</td>\n      <td>248</td>\n      <td>38.0</td>\n      <td>42.0</td>\n      <td>42.0</td>\n      <td>44</td>\n      <td>90</td>\n    </tr>\n    <tr>\n      <th>11042</th>\n      <td>49</td>\n      <td>249</td>\n      <td>2.0</td>\n      <td>2.0</td>\n      <td>2.0</td>\n      <td>2</td>\n      <td>90</td>\n    </tr>\n  </tbody>\n</table>\n<p>11043 rows × 7 columns</p>\n</div>"
     },
     "metadata": {},
     "execution_count": 30
    }
   ],
   "source": [
    "product_propability = product_propability \\\n",
    "    .reset_index(drop=True) \\\n",
    "    .merge(orders_shopper[['shopper','count']], on=['shopper'])\n",
    "product_propability.rename(columns={'count':'count_orders'}, inplace=True)\n",
    "# product_propability.isna().sum()\n",
    "# product_propability.isna()\n",
    "product_propability\n",
    "# orders_shopper\n",
    "\n",
    "# product_weeks"
   ]
  },
  {
   "cell_type": "code",
   "execution_count": 31,
   "metadata": {},
   "outputs": [
    {
     "output_type": "stream",
     "name": "stderr",
     "text": [
      "  0%|          | 0/4 [00:00<?, ?it/s]\n",
      "Starting discount_propability\n",
      "discount_propability....\n",
      "\n",
      "100%|██████████| 4/4 [00:00<00:00, 36.39it/s]\n",
      "discount_propability took: 0\n",
      "\n"
     ]
    }
   ],
   "source": [
    "# SET discount at any rate customer spend much, and compare it to other percentages\n",
    "\n",
    "def discount_propability_df(wk):\n",
    "    discount_propability = df.loc[df['week'] <= wk,['shopper','discount', 'price']] \\\n",
    "        .groupby(['shopper','discount'], as_index=True) \\\n",
    "        .agg({'price':np.sum})\n",
    "    discount_propability.columns = [ f'price_{wk}']\n",
    "\n",
    "    return discount_propability\n",
    "\n",
    "print(\"\\nStarting discount_propability\\ndiscount_propability....\\n\")\n",
    "start = time()\n",
    "discount_propability_list = list()\n",
    "for wk in tqdm(weeks_list):\n",
    "    discount_propability_list.append(discount_propability_df(wk))\n",
    "\n",
    "discount_propability = pd.concat(discount_propability_list, axis=1).reset_index()\n",
    "del discount_propability_list\n",
    "\n",
    "print(f\"\\ndiscount_propability took: {timer(start)}\")"
   ]
  },
  {
   "cell_type": "code",
   "execution_count": 32,
   "metadata": {},
   "outputs": [
    {
     "output_type": "execute_result",
     "data": {
      "text/plain": [
       "    shopper  discount  price_74  price_79  price_84  price_89\n",
       "0         0         0    374107    397472    420554    440938\n",
       "1         0        10         0         0         0         0\n",
       "2         0        15      2631      2631      2631      2631\n",
       "3         0        20       572       884      1368      1871\n",
       "4         0        25       847       847       847      1857\n",
       "5         0        30       666      1095      1095      1510\n",
       "6         0        35      1144      1144      1144      1482\n",
       "7         0        40      1059      1059      1059      1441\n",
       "8         1         0    311928    334319    354506    377461\n",
       "9         1        10       945       945       945       945\n",
       "10        1        15      1294      1745      1745      1745\n",
       "11        1        20      1098      1538      1538      1538\n",
       "12        1        25      1321      1321      1825      1825\n",
       "13        1        30      1341      1341      1341      1341\n",
       "14        1        35      2238      2238      2644      2644\n",
       "15        1        40       683       683      1004      1004\n",
       "16        2         0    244003    262013    277301    291034\n",
       "17        2        10         0         0         0         0\n",
       "18        2        15       451      1045      1604      1604\n",
       "19        2        20       847       847       847       847"
      ],
      "text/html": "<div>\n<style scoped>\n    .dataframe tbody tr th:only-of-type {\n        vertical-align: middle;\n    }\n\n    .dataframe tbody tr th {\n        vertical-align: top;\n    }\n\n    .dataframe thead th {\n        text-align: right;\n    }\n</style>\n<table border=\"1\" class=\"dataframe\">\n  <thead>\n    <tr style=\"text-align: right;\">\n      <th></th>\n      <th>shopper</th>\n      <th>discount</th>\n      <th>price_74</th>\n      <th>price_79</th>\n      <th>price_84</th>\n      <th>price_89</th>\n    </tr>\n  </thead>\n  <tbody>\n    <tr>\n      <th>0</th>\n      <td>0</td>\n      <td>0</td>\n      <td>374107</td>\n      <td>397472</td>\n      <td>420554</td>\n      <td>440938</td>\n    </tr>\n    <tr>\n      <th>1</th>\n      <td>0</td>\n      <td>10</td>\n      <td>0</td>\n      <td>0</td>\n      <td>0</td>\n      <td>0</td>\n    </tr>\n    <tr>\n      <th>2</th>\n      <td>0</td>\n      <td>15</td>\n      <td>2631</td>\n      <td>2631</td>\n      <td>2631</td>\n      <td>2631</td>\n    </tr>\n    <tr>\n      <th>3</th>\n      <td>0</td>\n      <td>20</td>\n      <td>572</td>\n      <td>884</td>\n      <td>1368</td>\n      <td>1871</td>\n    </tr>\n    <tr>\n      <th>4</th>\n      <td>0</td>\n      <td>25</td>\n      <td>847</td>\n      <td>847</td>\n      <td>847</td>\n      <td>1857</td>\n    </tr>\n    <tr>\n      <th>5</th>\n      <td>0</td>\n      <td>30</td>\n      <td>666</td>\n      <td>1095</td>\n      <td>1095</td>\n      <td>1510</td>\n    </tr>\n    <tr>\n      <th>6</th>\n      <td>0</td>\n      <td>35</td>\n      <td>1144</td>\n      <td>1144</td>\n      <td>1144</td>\n      <td>1482</td>\n    </tr>\n    <tr>\n      <th>7</th>\n      <td>0</td>\n      <td>40</td>\n      <td>1059</td>\n      <td>1059</td>\n      <td>1059</td>\n      <td>1441</td>\n    </tr>\n    <tr>\n      <th>8</th>\n      <td>1</td>\n      <td>0</td>\n      <td>311928</td>\n      <td>334319</td>\n      <td>354506</td>\n      <td>377461</td>\n    </tr>\n    <tr>\n      <th>9</th>\n      <td>1</td>\n      <td>10</td>\n      <td>945</td>\n      <td>945</td>\n      <td>945</td>\n      <td>945</td>\n    </tr>\n    <tr>\n      <th>10</th>\n      <td>1</td>\n      <td>15</td>\n      <td>1294</td>\n      <td>1745</td>\n      <td>1745</td>\n      <td>1745</td>\n    </tr>\n    <tr>\n      <th>11</th>\n      <td>1</td>\n      <td>20</td>\n      <td>1098</td>\n      <td>1538</td>\n      <td>1538</td>\n      <td>1538</td>\n    </tr>\n    <tr>\n      <th>12</th>\n      <td>1</td>\n      <td>25</td>\n      <td>1321</td>\n      <td>1321</td>\n      <td>1825</td>\n      <td>1825</td>\n    </tr>\n    <tr>\n      <th>13</th>\n      <td>1</td>\n      <td>30</td>\n      <td>1341</td>\n      <td>1341</td>\n      <td>1341</td>\n      <td>1341</td>\n    </tr>\n    <tr>\n      <th>14</th>\n      <td>1</td>\n      <td>35</td>\n      <td>2238</td>\n      <td>2238</td>\n      <td>2644</td>\n      <td>2644</td>\n    </tr>\n    <tr>\n      <th>15</th>\n      <td>1</td>\n      <td>40</td>\n      <td>683</td>\n      <td>683</td>\n      <td>1004</td>\n      <td>1004</td>\n    </tr>\n    <tr>\n      <th>16</th>\n      <td>2</td>\n      <td>0</td>\n      <td>244003</td>\n      <td>262013</td>\n      <td>277301</td>\n      <td>291034</td>\n    </tr>\n    <tr>\n      <th>17</th>\n      <td>2</td>\n      <td>10</td>\n      <td>0</td>\n      <td>0</td>\n      <td>0</td>\n      <td>0</td>\n    </tr>\n    <tr>\n      <th>18</th>\n      <td>2</td>\n      <td>15</td>\n      <td>451</td>\n      <td>1045</td>\n      <td>1604</td>\n      <td>1604</td>\n    </tr>\n    <tr>\n      <th>19</th>\n      <td>2</td>\n      <td>20</td>\n      <td>847</td>\n      <td>847</td>\n      <td>847</td>\n      <td>847</td>\n    </tr>\n  </tbody>\n</table>\n</div>"
     },
     "metadata": {},
     "execution_count": 32
    }
   ],
   "source": [
    "discount_propability.head(20)"
   ]
  },
  {
   "cell_type": "code",
   "execution_count": 33,
   "metadata": {},
   "outputs": [
    {
     "output_type": "stream",
     "name": "stderr",
     "text": [
      "  0%|          | 0/4 [00:00<?, ?it/s]\n",
      "Starting product_price\n",
      "product_price....\n",
      "\n",
      "100%|██████████| 4/4 [00:01<00:00,  3.14it/s]\n",
      "product_price took: 1\n",
      "\n"
     ]
    }
   ],
   "source": [
    "# SET product price to the most occured in all weeks, last 15,10,5, and last week then AVG them\n",
    "\n",
    "# def mean_most_two(x):\n",
    "#     return np.mean(x.value_counts().index[0:2])\n",
    "\n",
    "def product_price_df(wk):\n",
    "    product_price = price_map.loc[price_map['week'] <= wk ,['product','price']] \\\n",
    "        .groupby(['product'], as_index=True) \\\n",
    "        .agg(lambda x: x.value_counts().index[0])\n",
    "    product_price.columns = [f'price_{wk}']\n",
    "    return product_price\n",
    "\n",
    "print(\"\\nStarting product_price\\nproduct_price....\\n\")\n",
    "start = time()\n",
    "product_price_list = list()\n",
    "for wk in tqdm(weeks_list):\n",
    "    product_price_list.append(product_price_df(wk))\n",
    "\n",
    "product_price = pd.concat(product_price_list, axis=1).reset_index()\n",
    "del product_price_list\n",
    "\n",
    "product_price['mean'] = np.mean(product_price.iloc[:,1:], axis=1)\n",
    "\n",
    "print(f\"\\nproduct_price took: {timer(start)}\")"
   ]
  },
  {
   "cell_type": "code",
   "execution_count": 34,
   "metadata": {},
   "outputs": [
    {
     "output_type": "execute_result",
     "data": {
      "text/plain": [
       "     product  price_74  price_79  price_84  price_89   mean\n",
       "240      240       528       528       528       528  528.0\n",
       "241      241       699       699       699       699  699.0\n",
       "242      242       511       511       511       511  511.0\n",
       "243      243       490       490       490       490  490.0\n",
       "244      244       694       694       694       694  694.0\n",
       "245      245       549       549       549       549  549.0\n",
       "246      246         0         0         0         0    0.0\n",
       "247      247       670       670       670       670  670.0\n",
       "248      248       490       490       490       490  490.0\n",
       "249      249       499       499       499       499  499.0"
      ],
      "text/html": "<div>\n<style scoped>\n    .dataframe tbody tr th:only-of-type {\n        vertical-align: middle;\n    }\n\n    .dataframe tbody tr th {\n        vertical-align: top;\n    }\n\n    .dataframe thead th {\n        text-align: right;\n    }\n</style>\n<table border=\"1\" class=\"dataframe\">\n  <thead>\n    <tr style=\"text-align: right;\">\n      <th></th>\n      <th>product</th>\n      <th>price_74</th>\n      <th>price_79</th>\n      <th>price_84</th>\n      <th>price_89</th>\n      <th>mean</th>\n    </tr>\n  </thead>\n  <tbody>\n    <tr>\n      <th>240</th>\n      <td>240</td>\n      <td>528</td>\n      <td>528</td>\n      <td>528</td>\n      <td>528</td>\n      <td>528.0</td>\n    </tr>\n    <tr>\n      <th>241</th>\n      <td>241</td>\n      <td>699</td>\n      <td>699</td>\n      <td>699</td>\n      <td>699</td>\n      <td>699.0</td>\n    </tr>\n    <tr>\n      <th>242</th>\n      <td>242</td>\n      <td>511</td>\n      <td>511</td>\n      <td>511</td>\n      <td>511</td>\n      <td>511.0</td>\n    </tr>\n    <tr>\n      <th>243</th>\n      <td>243</td>\n      <td>490</td>\n      <td>490</td>\n      <td>490</td>\n      <td>490</td>\n      <td>490.0</td>\n    </tr>\n    <tr>\n      <th>244</th>\n      <td>244</td>\n      <td>694</td>\n      <td>694</td>\n      <td>694</td>\n      <td>694</td>\n      <td>694.0</td>\n    </tr>\n    <tr>\n      <th>245</th>\n      <td>245</td>\n      <td>549</td>\n      <td>549</td>\n      <td>549</td>\n      <td>549</td>\n      <td>549.0</td>\n    </tr>\n    <tr>\n      <th>246</th>\n      <td>246</td>\n      <td>0</td>\n      <td>0</td>\n      <td>0</td>\n      <td>0</td>\n      <td>0.0</td>\n    </tr>\n    <tr>\n      <th>247</th>\n      <td>247</td>\n      <td>670</td>\n      <td>670</td>\n      <td>670</td>\n      <td>670</td>\n      <td>670.0</td>\n    </tr>\n    <tr>\n      <th>248</th>\n      <td>248</td>\n      <td>490</td>\n      <td>490</td>\n      <td>490</td>\n      <td>490</td>\n      <td>490.0</td>\n    </tr>\n    <tr>\n      <th>249</th>\n      <td>249</td>\n      <td>499</td>\n      <td>499</td>\n      <td>499</td>\n      <td>499</td>\n      <td>499.0</td>\n    </tr>\n  </tbody>\n</table>\n</div>"
     },
     "metadata": {},
     "execution_count": 34
    }
   ],
   "source": [
    "product_price.tail(10)"
   ]
  }
 ],
 "metadata": {
  "kernelspec": {
   "display_name": "Python 3",
   "language": "python",
   "name": "python3"
  },
  "language_info": {
   "codemirror_mode": {
    "name": "ipython",
    "version": 3
   },
   "file_extension": ".py",
   "mimetype": "text/x-python",
   "name": "python",
   "nbconvert_exporter": "python",
   "pygments_lexer": "ipython3",
   "version": "3.8.5-final"
  }
 },
 "nbformat": 4,
 "nbformat_minor": 5
}