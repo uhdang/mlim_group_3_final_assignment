{
 "cells": [
  {
   "cell_type": "markdown",
   "metadata": {},
   "source": [
    "# HA3 \"Recommender System\" take 08"
   ]
  },
  {
   "cell_type": "markdown",
   "metadata": {},
   "source": [
    "## Setup"
   ]
  },
  {
   "cell_type": "code",
   "execution_count": 1,
   "metadata": {},
   "outputs": [],
   "source": [
    "import numpy as np\n",
    "import pandas as pd\n",
    "\n",
    "from random import randrange\n",
    "\n",
    "import matplotlib.pyplot as plt"
   ]
  },
  {
   "cell_type": "markdown",
   "metadata": {},
   "source": [
    "## Load Data"
   ]
  },
  {
   "cell_type": "code",
   "execution_count": 2,
   "metadata": {},
   "outputs": [
    {
     "name": "stdout",
     "output_type": "stream",
     "text": [
      "baskets_df: (68841598, 4)\n",
      "coupons_df: (45000000, 4)\n",
      "prediction_index_df: (500000, 3)\n"
     ]
    }
   ],
   "source": [
    "file_path = \"../../data/assignment_03/\"\n",
    "\n",
    "baskets_pq = \"baskets.parquet\"\n",
    "coupons_pq = \"coupons.parquet\"\n",
    "prediction_index_pq = \"prediction_index.parquet\"\n",
    "\n",
    "b_df = pd.read_parquet(file_path + baskets_pq)\n",
    "c_df = pd.read_parquet(file_path + coupons_pq)\n",
    "pi_df = pd.read_parquet(file_path + prediction_index_pq)\n",
    "\n",
    "print(f\"baskets_df: {b_df.shape}\")\n",
    "print(f\"coupons_df: {c_df.shape}\")\n",
    "print(f\"prediction_index_df: {pi_df.shape}\")"
   ]
  },
  {
   "cell_type": "markdown",
   "metadata": {},
   "source": [
    "## Data Preprocessing"
   ]
  },
  {
   "cell_type": "markdown",
   "metadata": {},
   "source": [
    "### A. Shoppers Targetting"
   ]
  },
  {
   "cell_type": "code",
   "execution_count": 3,
   "metadata": {},
   "outputs": [],
   "source": [
    "num_of_shoppers = 500\n",
    "\n",
    "shoppers = [randrange(0, 2000) for i in range(num_of_shoppers)]\n",
    "# shoppers = [i for i in range(num_of_shoppers)]\n",
    "# shoppers"
   ]
  },
  {
   "cell_type": "markdown",
   "metadata": {},
   "source": [
    "### B. Original Prices"
   ]
  },
  {
   "cell_type": "code",
   "execution_count": 4,
   "metadata": {},
   "outputs": [
    {
     "name": "stdout",
     "output_type": "stream",
     "text": [
      "orig_price.shape: (250, 2)\n"
     ]
    },
    {
     "data": {
      "text/html": [
       "<div>\n",
       "<style scoped>\n",
       "    .dataframe tbody tr th:only-of-type {\n",
       "        vertical-align: middle;\n",
       "    }\n",
       "\n",
       "    .dataframe tbody tr th {\n",
       "        vertical-align: top;\n",
       "    }\n",
       "\n",
       "    .dataframe thead th {\n",
       "        text-align: right;\n",
       "    }\n",
       "</style>\n",
       "<table border=\"1\" class=\"dataframe\">\n",
       "  <thead>\n",
       "    <tr style=\"text-align: right;\">\n",
       "      <th></th>\n",
       "      <th>product</th>\n",
       "      <th>max</th>\n",
       "    </tr>\n",
       "  </thead>\n",
       "  <tbody>\n",
       "    <tr>\n",
       "      <th>0</th>\n",
       "      <td>0</td>\n",
       "      <td>688</td>\n",
       "    </tr>\n",
       "    <tr>\n",
       "      <th>1</th>\n",
       "      <td>1</td>\n",
       "      <td>560</td>\n",
       "    </tr>\n",
       "  </tbody>\n",
       "</table>\n",
       "</div>"
      ],
      "text/plain": [
       "   product  max\n",
       "0        0  688\n",
       "1        1  560"
      ]
     },
     "execution_count": 4,
     "metadata": {},
     "output_type": "execute_result"
    }
   ],
   "source": [
    "orig_price = b_df.groupby([\"product\"])[\"price\"].agg([\"max\"]).reset_index()\n",
    "print(f\"orig_price.shape: {orig_price.shape}\")\n",
    "orig_price.head(2)"
   ]
  },
  {
   "cell_type": "markdown",
   "metadata": {},
   "source": [
    "### C. Generate master dataframe with selected shoppers"
   ]
  },
  {
   "cell_type": "code",
   "execution_count": 5,
   "metadata": {},
   "outputs": [],
   "source": [
    "def gen_complete_week_prod_df_for_shoppers(list_shoppers, orig_df):\n",
    "    products = np.array([p for p in range(250)])\n",
    "    orig_price_list = orig_df[\"max\"].values\n",
    "    \n",
    "    weeks = [i for i in range(90)]\n",
    "    \n",
    "    product_price_pair = np.stack((products, orig_price_list), axis=0).T\n",
    "    \n",
    "    prod_in_weeks = []\n",
    "    for w in weeks:\n",
    "        for p in product_price_pair:\n",
    "            prod_in_weeks.append([w, *p])\n",
    "    \n",
    "    df_template = pd.DataFrame(data=prod_in_weeks, columns=[\"week\", \"product\", \"orig_price\"])\n",
    "    \n",
    "    df_master = None;\n",
    "    \n",
    "    for idx, shoppers in enumerate(list_shoppers):\n",
    "\n",
    "        df_local = df_template.copy()\n",
    "        df_local[\"shopper\"] = shoppers\n",
    "        \n",
    "        if idx == 0:\n",
    "            df_master = df_local\n",
    "        else:\n",
    "            # stack it\n",
    "            df_master = pd.concat([df_master, df_local], axis=0)\n",
    "    return df_master"
   ]
  },
  {
   "cell_type": "code",
   "execution_count": 6,
   "metadata": {},
   "outputs": [
    {
     "name": "stdout",
     "output_type": "stream",
     "text": [
      "df.shape: (11250000, 4)\n"
     ]
    },
    {
     "data": {
      "text/html": [
       "<div>\n",
       "<style scoped>\n",
       "    .dataframe tbody tr th:only-of-type {\n",
       "        vertical-align: middle;\n",
       "    }\n",
       "\n",
       "    .dataframe tbody tr th {\n",
       "        vertical-align: top;\n",
       "    }\n",
       "\n",
       "    .dataframe thead th {\n",
       "        text-align: right;\n",
       "    }\n",
       "</style>\n",
       "<table border=\"1\" class=\"dataframe\">\n",
       "  <thead>\n",
       "    <tr style=\"text-align: right;\">\n",
       "      <th></th>\n",
       "      <th>week</th>\n",
       "      <th>product</th>\n",
       "      <th>orig_price</th>\n",
       "      <th>shopper</th>\n",
       "    </tr>\n",
       "  </thead>\n",
       "  <tbody>\n",
       "    <tr>\n",
       "      <th>0</th>\n",
       "      <td>0</td>\n",
       "      <td>0</td>\n",
       "      <td>688</td>\n",
       "      <td>1045</td>\n",
       "    </tr>\n",
       "    <tr>\n",
       "      <th>1</th>\n",
       "      <td>0</td>\n",
       "      <td>1</td>\n",
       "      <td>560</td>\n",
       "      <td>1045</td>\n",
       "    </tr>\n",
       "    <tr>\n",
       "      <th>2</th>\n",
       "      <td>0</td>\n",
       "      <td>2</td>\n",
       "      <td>773</td>\n",
       "      <td>1045</td>\n",
       "    </tr>\n",
       "  </tbody>\n",
       "</table>\n",
       "</div>"
      ],
      "text/plain": [
       "   week  product  orig_price  shopper\n",
       "0     0        0         688     1045\n",
       "1     0        1         560     1045\n",
       "2     0        2         773     1045"
      ]
     },
     "execution_count": 6,
     "metadata": {},
     "output_type": "execute_result"
    }
   ],
   "source": [
    "df = gen_complete_week_prod_df_for_shoppers(shoppers, orig_price)\n",
    "print(f\"df.shape: {df.shape}\")\n",
    "df.head(3)"
   ]
  },
  {
   "cell_type": "code",
   "execution_count": null,
   "metadata": {},
   "outputs": [],
   "source": []
  },
  {
   "cell_type": "markdown",
   "metadata": {},
   "source": [
    "### D. Target Column added"
   ]
  },
  {
   "cell_type": "code",
   "execution_count": 7,
   "metadata": {},
   "outputs": [
    {
     "name": "stdout",
     "output_type": "stream",
     "text": [
      "df.shape: (11250000, 6)\n"
     ]
    },
    {
     "data": {
      "text/html": [
       "<div>\n",
       "<style scoped>\n",
       "    .dataframe tbody tr th:only-of-type {\n",
       "        vertical-align: middle;\n",
       "    }\n",
       "\n",
       "    .dataframe tbody tr th {\n",
       "        vertical-align: top;\n",
       "    }\n",
       "\n",
       "    .dataframe thead th {\n",
       "        text-align: right;\n",
       "    }\n",
       "</style>\n",
       "<table border=\"1\" class=\"dataframe\">\n",
       "  <thead>\n",
       "    <tr style=\"text-align: right;\">\n",
       "      <th></th>\n",
       "      <th>week</th>\n",
       "      <th>product</th>\n",
       "      <th>orig_price</th>\n",
       "      <th>shopper</th>\n",
       "      <th>price</th>\n",
       "      <th>target</th>\n",
       "    </tr>\n",
       "  </thead>\n",
       "  <tbody>\n",
       "    <tr>\n",
       "      <th>0</th>\n",
       "      <td>0</td>\n",
       "      <td>0</td>\n",
       "      <td>688</td>\n",
       "      <td>1045</td>\n",
       "      <td>NaN</td>\n",
       "      <td>0.0</td>\n",
       "    </tr>\n",
       "    <tr>\n",
       "      <th>1</th>\n",
       "      <td>0</td>\n",
       "      <td>1</td>\n",
       "      <td>560</td>\n",
       "      <td>1045</td>\n",
       "      <td>560.0</td>\n",
       "      <td>1.0</td>\n",
       "    </tr>\n",
       "    <tr>\n",
       "      <th>2</th>\n",
       "      <td>0</td>\n",
       "      <td>2</td>\n",
       "      <td>773</td>\n",
       "      <td>1045</td>\n",
       "      <td>NaN</td>\n",
       "      <td>0.0</td>\n",
       "    </tr>\n",
       "  </tbody>\n",
       "</table>\n",
       "</div>"
      ],
      "text/plain": [
       "   week  product  orig_price  shopper  price  target\n",
       "0     0        0         688     1045    NaN     0.0\n",
       "1     0        1         560     1045  560.0     1.0\n",
       "2     0        2         773     1045    NaN     0.0"
      ]
     },
     "execution_count": 7,
     "metadata": {},
     "output_type": "execute_result"
    }
   ],
   "source": [
    "b_df[\"target\"] = 1\n",
    "df = pd.merge(df, b_df, how=\"left\", on=[\"week\", \"shopper\", \"product\"])\n",
    "df[\"target\"] = df[\"target\"].fillna(0)\n",
    "print(f\"df.shape: {df.shape}\")\n",
    "df.head(3)"
   ]
  },
  {
   "cell_type": "code",
   "execution_count": null,
   "metadata": {},
   "outputs": [],
   "source": []
  },
  {
   "cell_type": "markdown",
   "metadata": {},
   "source": [
    "### E. Discount Given Column added"
   ]
  },
  {
   "cell_type": "code",
   "execution_count": 8,
   "metadata": {},
   "outputs": [
    {
     "name": "stdout",
     "output_type": "stream",
     "text": [
      "df.shape: (11250000, 8)\n"
     ]
    },
    {
     "data": {
      "text/html": [
       "<div>\n",
       "<style scoped>\n",
       "    .dataframe tbody tr th:only-of-type {\n",
       "        vertical-align: middle;\n",
       "    }\n",
       "\n",
       "    .dataframe tbody tr th {\n",
       "        vertical-align: top;\n",
       "    }\n",
       "\n",
       "    .dataframe thead th {\n",
       "        text-align: right;\n",
       "    }\n",
       "</style>\n",
       "<table border=\"1\" class=\"dataframe\">\n",
       "  <thead>\n",
       "    <tr style=\"text-align: right;\">\n",
       "      <th></th>\n",
       "      <th>week</th>\n",
       "      <th>product</th>\n",
       "      <th>orig_price</th>\n",
       "      <th>shopper</th>\n",
       "      <th>price</th>\n",
       "      <th>target</th>\n",
       "      <th>discount</th>\n",
       "      <th>coupon_given</th>\n",
       "    </tr>\n",
       "  </thead>\n",
       "  <tbody>\n",
       "    <tr>\n",
       "      <th>0</th>\n",
       "      <td>0</td>\n",
       "      <td>0</td>\n",
       "      <td>688</td>\n",
       "      <td>1045</td>\n",
       "      <td>NaN</td>\n",
       "      <td>0.0</td>\n",
       "      <td>0.0</td>\n",
       "      <td>0.0</td>\n",
       "    </tr>\n",
       "    <tr>\n",
       "      <th>1</th>\n",
       "      <td>0</td>\n",
       "      <td>1</td>\n",
       "      <td>560</td>\n",
       "      <td>1045</td>\n",
       "      <td>560.0</td>\n",
       "      <td>1.0</td>\n",
       "      <td>0.0</td>\n",
       "      <td>0.0</td>\n",
       "    </tr>\n",
       "    <tr>\n",
       "      <th>2</th>\n",
       "      <td>0</td>\n",
       "      <td>2</td>\n",
       "      <td>773</td>\n",
       "      <td>1045</td>\n",
       "      <td>NaN</td>\n",
       "      <td>0.0</td>\n",
       "      <td>0.0</td>\n",
       "      <td>0.0</td>\n",
       "    </tr>\n",
       "  </tbody>\n",
       "</table>\n",
       "</div>"
      ],
      "text/plain": [
       "   week  product  orig_price  shopper  price  target  discount  coupon_given\n",
       "0     0        0         688     1045    NaN     0.0       0.0           0.0\n",
       "1     0        1         560     1045  560.0     1.0       0.0           0.0\n",
       "2     0        2         773     1045    NaN     0.0       0.0           0.0"
      ]
     },
     "execution_count": 8,
     "metadata": {},
     "output_type": "execute_result"
    }
   ],
   "source": [
    "c_df[\"coupon_given\"] = 1\n",
    "df = df.merge(right=c_df, how=\"left\", on=[\"week\", \"shopper\", \"product\"])\n",
    "df[\"discount\"] = df[\"discount\"].fillna(0)\n",
    "df[\"coupon_given\"] = df[\"coupon_given\"].fillna(0)\n",
    "print(f\"df.shape: {df.shape}\")\n",
    "df.head(3)"
   ]
  },
  {
   "cell_type": "code",
   "execution_count": null,
   "metadata": {},
   "outputs": [],
   "source": []
  },
  {
   "cell_type": "markdown",
   "metadata": {},
   "source": [
    "### F. Price with discount"
   ]
  },
  {
   "cell_type": "code",
   "execution_count": 9,
   "metadata": {},
   "outputs": [
    {
     "data": {
      "text/html": [
       "<div>\n",
       "<style scoped>\n",
       "    .dataframe tbody tr th:only-of-type {\n",
       "        vertical-align: middle;\n",
       "    }\n",
       "\n",
       "    .dataframe tbody tr th {\n",
       "        vertical-align: top;\n",
       "    }\n",
       "\n",
       "    .dataframe thead th {\n",
       "        text-align: right;\n",
       "    }\n",
       "</style>\n",
       "<table border=\"1\" class=\"dataframe\">\n",
       "  <thead>\n",
       "    <tr style=\"text-align: right;\">\n",
       "      <th></th>\n",
       "      <th>week</th>\n",
       "      <th>product</th>\n",
       "      <th>orig_price</th>\n",
       "      <th>shopper</th>\n",
       "      <th>price</th>\n",
       "      <th>target</th>\n",
       "      <th>discount</th>\n",
       "      <th>coupon_given</th>\n",
       "      <th>price_w_discount</th>\n",
       "    </tr>\n",
       "  </thead>\n",
       "  <tbody>\n",
       "    <tr>\n",
       "      <th>0</th>\n",
       "      <td>0</td>\n",
       "      <td>0</td>\n",
       "      <td>688</td>\n",
       "      <td>1045</td>\n",
       "      <td>NaN</td>\n",
       "      <td>0.0</td>\n",
       "      <td>0.0</td>\n",
       "      <td>0.0</td>\n",
       "      <td>688.0</td>\n",
       "    </tr>\n",
       "    <tr>\n",
       "      <th>1</th>\n",
       "      <td>0</td>\n",
       "      <td>1</td>\n",
       "      <td>560</td>\n",
       "      <td>1045</td>\n",
       "      <td>560.0</td>\n",
       "      <td>1.0</td>\n",
       "      <td>0.0</td>\n",
       "      <td>0.0</td>\n",
       "      <td>560.0</td>\n",
       "    </tr>\n",
       "    <tr>\n",
       "      <th>2</th>\n",
       "      <td>0</td>\n",
       "      <td>2</td>\n",
       "      <td>773</td>\n",
       "      <td>1045</td>\n",
       "      <td>NaN</td>\n",
       "      <td>0.0</td>\n",
       "      <td>0.0</td>\n",
       "      <td>0.0</td>\n",
       "      <td>773.0</td>\n",
       "    </tr>\n",
       "  </tbody>\n",
       "</table>\n",
       "</div>"
      ],
      "text/plain": [
       "   week  product  orig_price  shopper  price  target  discount  coupon_given  \\\n",
       "0     0        0         688     1045    NaN     0.0       0.0           0.0   \n",
       "1     0        1         560     1045  560.0     1.0       0.0           0.0   \n",
       "2     0        2         773     1045    NaN     0.0       0.0           0.0   \n",
       "\n",
       "   price_w_discount  \n",
       "0             688.0  \n",
       "1             560.0  \n",
       "2             773.0  "
      ]
     },
     "execution_count": 9,
     "metadata": {},
     "output_type": "execute_result"
    }
   ],
   "source": [
    "df[\"price_w_discount\"] = df[\"orig_price\"] - df[\"discount\"]\n",
    "df.head(3)"
   ]
  },
  {
   "cell_type": "code",
   "execution_count": 10,
   "metadata": {},
   "outputs": [
    {
     "data": {
      "text/html": [
       "<div>\n",
       "<style scoped>\n",
       "    .dataframe tbody tr th:only-of-type {\n",
       "        vertical-align: middle;\n",
       "    }\n",
       "\n",
       "    .dataframe tbody tr th {\n",
       "        vertical-align: top;\n",
       "    }\n",
       "\n",
       "    .dataframe thead th {\n",
       "        text-align: right;\n",
       "    }\n",
       "</style>\n",
       "<table border=\"1\" class=\"dataframe\">\n",
       "  <thead>\n",
       "    <tr style=\"text-align: right;\">\n",
       "      <th></th>\n",
       "      <th>week</th>\n",
       "      <th>product</th>\n",
       "      <th>orig_price</th>\n",
       "      <th>shopper</th>\n",
       "      <th>target</th>\n",
       "      <th>discount</th>\n",
       "      <th>coupon_given</th>\n",
       "      <th>price_w_discount</th>\n",
       "    </tr>\n",
       "  </thead>\n",
       "  <tbody>\n",
       "    <tr>\n",
       "      <th>0</th>\n",
       "      <td>0</td>\n",
       "      <td>0</td>\n",
       "      <td>688</td>\n",
       "      <td>1045</td>\n",
       "      <td>0.0</td>\n",
       "      <td>0.0</td>\n",
       "      <td>0.0</td>\n",
       "      <td>688.0</td>\n",
       "    </tr>\n",
       "    <tr>\n",
       "      <th>1</th>\n",
       "      <td>0</td>\n",
       "      <td>1</td>\n",
       "      <td>560</td>\n",
       "      <td>1045</td>\n",
       "      <td>1.0</td>\n",
       "      <td>0.0</td>\n",
       "      <td>0.0</td>\n",
       "      <td>560.0</td>\n",
       "    </tr>\n",
       "    <tr>\n",
       "      <th>2</th>\n",
       "      <td>0</td>\n",
       "      <td>2</td>\n",
       "      <td>773</td>\n",
       "      <td>1045</td>\n",
       "      <td>0.0</td>\n",
       "      <td>0.0</td>\n",
       "      <td>0.0</td>\n",
       "      <td>773.0</td>\n",
       "    </tr>\n",
       "  </tbody>\n",
       "</table>\n",
       "</div>"
      ],
      "text/plain": [
       "   week  product  orig_price  shopper  target  discount  coupon_given  \\\n",
       "0     0        0         688     1045     0.0       0.0           0.0   \n",
       "1     0        1         560     1045     1.0       0.0           0.0   \n",
       "2     0        2         773     1045     0.0       0.0           0.0   \n",
       "\n",
       "   price_w_discount  \n",
       "0             688.0  \n",
       "1             560.0  \n",
       "2             773.0  "
      ]
     },
     "execution_count": 10,
     "metadata": {},
     "output_type": "execute_result"
    }
   ],
   "source": [
    "# price column is no longer necessary so removing it\n",
    "df = df.drop(columns=[\"price\"])\n",
    "df.head(3)"
   ]
  },
  {
   "cell_type": "code",
   "execution_count": null,
   "metadata": {},
   "outputs": [],
   "source": []
  },
  {
   "cell_type": "markdown",
   "metadata": {},
   "source": [
    "## Split Data Before Feature Engineering"
   ]
  },
  {
   "cell_type": "code",
   "execution_count": 11,
   "metadata": {},
   "outputs": [
    {
     "name": "stdout",
     "output_type": "stream",
     "text": [
      "Master: (11250000, 8), Train: (11125000, 8), Test: (125000, 8)\n"
     ]
    }
   ],
   "source": [
    "# Train: 0 - 88\n",
    "# Test: 88 - 89\n",
    "cut_day = 89\n",
    "\n",
    "# Separate train and test\n",
    "train = df[df[\"week\"] < cut_day]\n",
    "test = df[df[\"week\"] >= cut_day]\n",
    "\n",
    "b_train = b_df[b_df[\"week\"] < cut_day]\n",
    "b_test = b_df[b_df[\"week\"] >= cut_day]\n",
    "\n",
    "c_train = c_df[c_df[\"week\"] < cut_day]\n",
    "c_test = c_df[c_df[\"week\"] >= cut_day]\n",
    "\n",
    "print(f\"Master: {df.shape}, Train: {train.shape}, Test: {test.shape}\")"
   ]
  },
  {
   "cell_type": "code",
   "execution_count": null,
   "metadata": {},
   "outputs": [],
   "source": []
  },
  {
   "cell_type": "markdown",
   "metadata": {},
   "source": [
    "## Feature Engineering"
   ]
  },
  {
   "cell_type": "markdown",
   "metadata": {},
   "source": [
    "### A. Average Bakset Size per Shopper per week - Shopper's Perspective"
   ]
  },
  {
   "cell_type": "code",
   "execution_count": 12,
   "metadata": {},
   "outputs": [],
   "source": [
    "num_prod_per_week_per_shopper = b_train.groupby([\"shopper\", \"week\"], as_index=False)[\"product\"].count()\n",
    "num_prod_per_week_per_shopper = num_prod_per_week_per_shopper.rename({\"product\": \"avg_basket_size\"}, axis=1)\n",
    "avg_baskets = num_prod_per_week_per_shopper.groupby([\"shopper\"], as_index=False)[\"avg_basket_size\"].mean()"
   ]
  },
  {
   "cell_type": "code",
   "execution_count": 13,
   "metadata": {},
   "outputs": [],
   "source": [
    "# Merge to shoppers on train and test\n",
    "\n",
    "train = train.merge(avg_baskets, how=\"left\", on=\"shopper\")\n",
    "test = test.merge(avg_baskets, how=\"left\", on=\"shopper\")"
   ]
  },
  {
   "cell_type": "code",
   "execution_count": 14,
   "metadata": {},
   "outputs": [
    {
     "data": {
      "text/html": [
       "<div>\n",
       "<style scoped>\n",
       "    .dataframe tbody tr th:only-of-type {\n",
       "        vertical-align: middle;\n",
       "    }\n",
       "\n",
       "    .dataframe tbody tr th {\n",
       "        vertical-align: top;\n",
       "    }\n",
       "\n",
       "    .dataframe thead th {\n",
       "        text-align: right;\n",
       "    }\n",
       "</style>\n",
       "<table border=\"1\" class=\"dataframe\">\n",
       "  <thead>\n",
       "    <tr style=\"text-align: right;\">\n",
       "      <th></th>\n",
       "      <th>week</th>\n",
       "      <th>product</th>\n",
       "      <th>orig_price</th>\n",
       "      <th>shopper</th>\n",
       "      <th>target</th>\n",
       "      <th>discount</th>\n",
       "      <th>coupon_given</th>\n",
       "      <th>price_w_discount</th>\n",
       "      <th>avg_basket_size</th>\n",
       "    </tr>\n",
       "  </thead>\n",
       "  <tbody>\n",
       "    <tr>\n",
       "      <th>0</th>\n",
       "      <td>0</td>\n",
       "      <td>0</td>\n",
       "      <td>688</td>\n",
       "      <td>1045</td>\n",
       "      <td>0.0</td>\n",
       "      <td>0.0</td>\n",
       "      <td>0.0</td>\n",
       "      <td>688.0</td>\n",
       "      <td>8.674157</td>\n",
       "    </tr>\n",
       "    <tr>\n",
       "      <th>1</th>\n",
       "      <td>0</td>\n",
       "      <td>1</td>\n",
       "      <td>560</td>\n",
       "      <td>1045</td>\n",
       "      <td>1.0</td>\n",
       "      <td>0.0</td>\n",
       "      <td>0.0</td>\n",
       "      <td>560.0</td>\n",
       "      <td>8.674157</td>\n",
       "    </tr>\n",
       "  </tbody>\n",
       "</table>\n",
       "</div>"
      ],
      "text/plain": [
       "   week  product  orig_price  shopper  target  discount  coupon_given  \\\n",
       "0     0        0         688     1045     0.0       0.0           0.0   \n",
       "1     0        1         560     1045     1.0       0.0           0.0   \n",
       "\n",
       "   price_w_discount  avg_basket_size  \n",
       "0             688.0         8.674157  \n",
       "1             560.0         8.674157  "
      ]
     },
     "execution_count": 14,
     "metadata": {},
     "output_type": "execute_result"
    }
   ],
   "source": [
    "train.head(2)"
   ]
  },
  {
   "cell_type": "markdown",
   "metadata": {},
   "source": [
    "### B. Average Price per Shopper per Week - Shopper's Perspective\n",
    "\n",
    "- How much on average did a shopper spend a week?"
   ]
  },
  {
   "cell_type": "code",
   "execution_count": 15,
   "metadata": {},
   "outputs": [],
   "source": [
    "avg_price_per_shopper_per_week = b_train.groupby([\"shopper\"], as_index=False)[\"price\"].mean()"
   ]
  },
  {
   "cell_type": "code",
   "execution_count": 16,
   "metadata": {},
   "outputs": [],
   "source": [
    "# Include it to the shoppers\n",
    "\n",
    "train = train.merge(avg_price_per_shopper_per_week, how=\"left\", on=\"shopper\")\n",
    "test = test.merge(avg_price_per_shopper_per_week, how=\"left\", on=\"shopper\")"
   ]
  },
  {
   "cell_type": "code",
   "execution_count": 17,
   "metadata": {},
   "outputs": [
    {
     "data": {
      "text/html": [
       "<div>\n",
       "<style scoped>\n",
       "    .dataframe tbody tr th:only-of-type {\n",
       "        vertical-align: middle;\n",
       "    }\n",
       "\n",
       "    .dataframe tbody tr th {\n",
       "        vertical-align: top;\n",
       "    }\n",
       "\n",
       "    .dataframe thead th {\n",
       "        text-align: right;\n",
       "    }\n",
       "</style>\n",
       "<table border=\"1\" class=\"dataframe\">\n",
       "  <thead>\n",
       "    <tr style=\"text-align: right;\">\n",
       "      <th></th>\n",
       "      <th>week</th>\n",
       "      <th>product</th>\n",
       "      <th>orig_price</th>\n",
       "      <th>shopper</th>\n",
       "      <th>target</th>\n",
       "      <th>discount</th>\n",
       "      <th>coupon_given</th>\n",
       "      <th>price_w_discount</th>\n",
       "      <th>avg_basket_size</th>\n",
       "      <th>price</th>\n",
       "    </tr>\n",
       "  </thead>\n",
       "  <tbody>\n",
       "    <tr>\n",
       "      <th>0</th>\n",
       "      <td>0</td>\n",
       "      <td>0</td>\n",
       "      <td>688</td>\n",
       "      <td>1045</td>\n",
       "      <td>0.0</td>\n",
       "      <td>0.0</td>\n",
       "      <td>0.0</td>\n",
       "      <td>688.0</td>\n",
       "      <td>8.674157</td>\n",
       "      <td>592.661917</td>\n",
       "    </tr>\n",
       "    <tr>\n",
       "      <th>1</th>\n",
       "      <td>0</td>\n",
       "      <td>1</td>\n",
       "      <td>560</td>\n",
       "      <td>1045</td>\n",
       "      <td>1.0</td>\n",
       "      <td>0.0</td>\n",
       "      <td>0.0</td>\n",
       "      <td>560.0</td>\n",
       "      <td>8.674157</td>\n",
       "      <td>592.661917</td>\n",
       "    </tr>\n",
       "  </tbody>\n",
       "</table>\n",
       "</div>"
      ],
      "text/plain": [
       "   week  product  orig_price  shopper  target  discount  coupon_given  \\\n",
       "0     0        0         688     1045     0.0       0.0           0.0   \n",
       "1     0        1         560     1045     1.0       0.0           0.0   \n",
       "\n",
       "   price_w_discount  avg_basket_size       price  \n",
       "0             688.0         8.674157  592.661917  \n",
       "1             560.0         8.674157  592.661917  "
      ]
     },
     "execution_count": 17,
     "metadata": {},
     "output_type": "execute_result"
    }
   ],
   "source": [
    "train.head(2)"
   ]
  },
  {
   "cell_type": "markdown",
   "metadata": {},
   "source": [
    "### C. Number of Unique Products purchased per Shopper - Shopper's Perspective"
   ]
  },
  {
   "cell_type": "code",
   "execution_count": 18,
   "metadata": {},
   "outputs": [],
   "source": [
    "num_unique_prods_per_shopper = b_train.groupby([\"shopper\"], as_index=False)[\"product\"].nunique()\n",
    "num_unique_prods_per_shopper = num_unique_prods_per_shopper.rename({ \"product\": \"num_unique_prods\"}, axis=1)"
   ]
  },
  {
   "cell_type": "code",
   "execution_count": 19,
   "metadata": {},
   "outputs": [],
   "source": [
    "# Include it to the shoppers\n",
    "\n",
    "train = train.merge(num_unique_prods_per_shopper, how=\"left\", on=\"shopper\")\n",
    "test = test.merge(num_unique_prods_per_shopper, how=\"left\", on=\"shopper\")"
   ]
  },
  {
   "cell_type": "markdown",
   "metadata": {},
   "source": [
    "### D. Number of times products have been reordered - Product's perspective on Shoppers"
   ]
  },
  {
   "cell_type": "code",
   "execution_count": 20,
   "metadata": {},
   "outputs": [],
   "source": [
    "# copy product column\n",
    "num_reordered = b_train.copy()\n",
    "num_reordered[\"num_reordered\"] = num_reordered[\"product\"]\n",
    "num_reordered = num_reordered.groupby([\"shopper\", \"product\", \"num_reordered\"], as_index=False)[\"num_reordered\"].count()\n",
    "# num_reordered"
   ]
  },
  {
   "cell_type": "code",
   "execution_count": 21,
   "metadata": {},
   "outputs": [],
   "source": [
    "# Merge to train and test\n",
    "train = train.merge(num_reordered, how=\"left\", on=[\"shopper\",\"product\"])\n",
    "test = test.merge(num_reordered, how=\"left\", on=[\"shopper\",\"product\"])"
   ]
  },
  {
   "cell_type": "code",
   "execution_count": 22,
   "metadata": {},
   "outputs": [],
   "source": [
    "train[\"num_reordered\"] = train[\"num_reordered\"].fillna(0)\n",
    "test[\"num_reordered\"] = test[\"num_reordered\"].fillna(0)"
   ]
  },
  {
   "cell_type": "code",
   "execution_count": null,
   "metadata": {},
   "outputs": [],
   "source": []
  },
  {
   "cell_type": "markdown",
   "metadata": {},
   "source": [
    "### E. Weeks Since Prior Order"
   ]
  },
  {
   "cell_type": "markdown",
   "metadata": {},
   "source": [
    "#### a. train"
   ]
  },
  {
   "cell_type": "code",
   "execution_count": 23,
   "metadata": {},
   "outputs": [],
   "source": [
    "# Train set\n",
    "addkey = train.groupby(['shopper','product'])[\"target\"].apply(lambda x : x.eq(1).shift().fillna(0).cumsum())\n",
    "train['weeks_since_prior_order'] = train[\"target\"].eq(0).groupby([train['shopper'], train['product'], addkey]).cumcount().add(1) # .cumsum()"
   ]
  },
  {
   "cell_type": "code",
   "execution_count": 24,
   "metadata": {},
   "outputs": [
    {
     "data": {
      "text/html": [
       "<div>\n",
       "<style scoped>\n",
       "    .dataframe tbody tr th:only-of-type {\n",
       "        vertical-align: middle;\n",
       "    }\n",
       "\n",
       "    .dataframe tbody tr th {\n",
       "        vertical-align: top;\n",
       "    }\n",
       "\n",
       "    .dataframe thead th {\n",
       "        text-align: right;\n",
       "    }\n",
       "</style>\n",
       "<table border=\"1\" class=\"dataframe\">\n",
       "  <thead>\n",
       "    <tr style=\"text-align: right;\">\n",
       "      <th></th>\n",
       "      <th>week</th>\n",
       "      <th>product</th>\n",
       "      <th>orig_price</th>\n",
       "      <th>shopper</th>\n",
       "      <th>target</th>\n",
       "      <th>discount</th>\n",
       "      <th>coupon_given</th>\n",
       "      <th>price_w_discount</th>\n",
       "      <th>avg_basket_size</th>\n",
       "      <th>price</th>\n",
       "      <th>num_unique_prods</th>\n",
       "      <th>num_reordered</th>\n",
       "      <th>weeks_since_prior_order</th>\n",
       "    </tr>\n",
       "  </thead>\n",
       "  <tbody>\n",
       "    <tr>\n",
       "      <th>10226674</th>\n",
       "      <td>55</td>\n",
       "      <td>174</td>\n",
       "      <td>753</td>\n",
       "      <td>1707</td>\n",
       "      <td>0.0</td>\n",
       "      <td>0.0</td>\n",
       "      <td>0.0</td>\n",
       "      <td>753.0</td>\n",
       "      <td>7.044944</td>\n",
       "      <td>601.912281</td>\n",
       "      <td>56</td>\n",
       "      <td>0.0</td>\n",
       "      <td>56</td>\n",
       "    </tr>\n",
       "    <tr>\n",
       "      <th>2292343</th>\n",
       "      <td>2</td>\n",
       "      <td>93</td>\n",
       "      <td>577</td>\n",
       "      <td>303</td>\n",
       "      <td>0.0</td>\n",
       "      <td>0.0</td>\n",
       "      <td>0.0</td>\n",
       "      <td>577.0</td>\n",
       "      <td>7.258427</td>\n",
       "      <td>574.871517</td>\n",
       "      <td>70</td>\n",
       "      <td>0.0</td>\n",
       "      <td>3</td>\n",
       "    </tr>\n",
       "    <tr>\n",
       "      <th>7273816</th>\n",
       "      <td>81</td>\n",
       "      <td>66</td>\n",
       "      <td>743</td>\n",
       "      <td>83</td>\n",
       "      <td>0.0</td>\n",
       "      <td>0.0</td>\n",
       "      <td>0.0</td>\n",
       "      <td>743.0</td>\n",
       "      <td>6.955056</td>\n",
       "      <td>588.525040</td>\n",
       "      <td>69</td>\n",
       "      <td>0.0</td>\n",
       "      <td>82</td>\n",
       "    </tr>\n",
       "    <tr>\n",
       "      <th>4253769</th>\n",
       "      <td>16</td>\n",
       "      <td>19</td>\n",
       "      <td>744</td>\n",
       "      <td>1670</td>\n",
       "      <td>0.0</td>\n",
       "      <td>0.0</td>\n",
       "      <td>0.0</td>\n",
       "      <td>744.0</td>\n",
       "      <td>9.101124</td>\n",
       "      <td>591.307407</td>\n",
       "      <td>90</td>\n",
       "      <td>0.0</td>\n",
       "      <td>17</td>\n",
       "    </tr>\n",
       "    <tr>\n",
       "      <th>3154195</th>\n",
       "      <td>67</td>\n",
       "      <td>195</td>\n",
       "      <td>612</td>\n",
       "      <td>1211</td>\n",
       "      <td>0.0</td>\n",
       "      <td>0.0</td>\n",
       "      <td>0.0</td>\n",
       "      <td>612.0</td>\n",
       "      <td>8.741573</td>\n",
       "      <td>564.372751</td>\n",
       "      <td>75</td>\n",
       "      <td>0.0</td>\n",
       "      <td>68</td>\n",
       "    </tr>\n",
       "  </tbody>\n",
       "</table>\n",
       "</div>"
      ],
      "text/plain": [
       "          week  product  orig_price  shopper  target  discount  coupon_given  \\\n",
       "10226674    55      174         753     1707     0.0       0.0           0.0   \n",
       "2292343      2       93         577      303     0.0       0.0           0.0   \n",
       "7273816     81       66         743       83     0.0       0.0           0.0   \n",
       "4253769     16       19         744     1670     0.0       0.0           0.0   \n",
       "3154195     67      195         612     1211     0.0       0.0           0.0   \n",
       "\n",
       "          price_w_discount  avg_basket_size       price  num_unique_prods  \\\n",
       "10226674             753.0         7.044944  601.912281                56   \n",
       "2292343              577.0         7.258427  574.871517                70   \n",
       "7273816              743.0         6.955056  588.525040                69   \n",
       "4253769              744.0         9.101124  591.307407                90   \n",
       "3154195              612.0         8.741573  564.372751                75   \n",
       "\n",
       "          num_reordered  weeks_since_prior_order  \n",
       "10226674            0.0                       56  \n",
       "2292343             0.0                        3  \n",
       "7273816             0.0                       82  \n",
       "4253769             0.0                       17  \n",
       "3154195             0.0                       68  "
      ]
     },
     "execution_count": 24,
     "metadata": {},
     "output_type": "execute_result"
    }
   ],
   "source": [
    "train.sample(5)"
   ]
  },
  {
   "cell_type": "markdown",
   "metadata": {},
   "source": [
    "#### b. test"
   ]
  },
  {
   "cell_type": "code",
   "execution_count": 25,
   "metadata": {},
   "outputs": [],
   "source": [
    "# Test set\n",
    "last_weeks_since_prior_order = train.groupby(['shopper', 'product']).weeks_since_prior_order.last() + 1"
   ]
  },
  {
   "cell_type": "code",
   "execution_count": 26,
   "metadata": {},
   "outputs": [],
   "source": [
    "test = test.merge(last_weeks_since_prior_order, on=['shopper', 'product'])"
   ]
  },
  {
   "cell_type": "code",
   "execution_count": null,
   "metadata": {},
   "outputs": [],
   "source": []
  },
  {
   "cell_type": "markdown",
   "metadata": {},
   "source": [
    "### F. Category"
   ]
  },
  {
   "cell_type": "markdown",
   "metadata": {},
   "source": [
    "#### f - 1. gensim Word2Vec"
   ]
  },
  {
   "cell_type": "code",
   "execution_count": 27,
   "metadata": {},
   "outputs": [],
   "source": [
    "from gensim.models import Word2Vec\n",
    "from sklearn.decomposition import PCA\n",
    "from sklearn.manifold import TSNE"
   ]
  },
  {
   "cell_type": "code",
   "execution_count": 28,
   "metadata": {},
   "outputs": [
    {
     "name": "stderr",
     "output_type": "stream",
     "text": [
      "<ipython-input-28-b470deef2cb6>:9: SettingWithCopyWarning: \n",
      "A value is trying to be set on a copy of a slice from a DataFrame.\n",
      "Try using .loc[row_indexer,col_indexer] = value instead\n",
      "\n",
      "See the caveats in the documentation: https://pandas.pydata.org/pandas-docs/stable/user_guide/indexing.html#returning-a-view-versus-a-copy\n",
      "  by_basket_str[\"product\"] = by_basket_str[\"product\"].astype(str)\n"
     ]
    }
   ],
   "source": [
    "# Caution ! Takes REAALLY Long !!\n",
    "# TEMPORARY - Since target shopper is limited to 2000, reduce the basket to 2000\n",
    "\n",
    "# by basket => groupby([\"week\", \"shopper\"])\n",
    "\n",
    "num_shoppers = 5000\n",
    "\n",
    "by_basket_str = b_df[b_df[\"shopper\"] < num_shoppers]\n",
    "by_basket_str[\"product\"] = by_basket_str[\"product\"].astype(str)\n",
    "by_basket_str = by_basket_str.groupby([\"week\", \"shopper\"])[\"product\"].apply(list).reset_index(name=\"list_prod\")"
   ]
  },
  {
   "cell_type": "code",
   "execution_count": 29,
   "metadata": {},
   "outputs": [
    {
     "data": {
      "text/html": [
       "<div>\n",
       "<style scoped>\n",
       "    .dataframe tbody tr th:only-of-type {\n",
       "        vertical-align: middle;\n",
       "    }\n",
       "\n",
       "    .dataframe tbody tr th {\n",
       "        vertical-align: top;\n",
       "    }\n",
       "\n",
       "    .dataframe thead th {\n",
       "        text-align: right;\n",
       "    }\n",
       "</style>\n",
       "<table border=\"1\" class=\"dataframe\">\n",
       "  <thead>\n",
       "    <tr style=\"text-align: right;\">\n",
       "      <th></th>\n",
       "      <th>week</th>\n",
       "      <th>shopper</th>\n",
       "      <th>list_prod</th>\n",
       "    </tr>\n",
       "  </thead>\n",
       "  <tbody>\n",
       "    <tr>\n",
       "      <th>0</th>\n",
       "      <td>0</td>\n",
       "      <td>0</td>\n",
       "      <td>[71, 91, 116, 123, 157, 167, 171, 184, 207, 225]</td>\n",
       "    </tr>\n",
       "    <tr>\n",
       "      <th>1</th>\n",
       "      <td>0</td>\n",
       "      <td>1</td>\n",
       "      <td>[22, 35, 92, 146, 168, 200, 211, 229]</td>\n",
       "    </tr>\n",
       "    <tr>\n",
       "      <th>2</th>\n",
       "      <td>0</td>\n",
       "      <td>2</td>\n",
       "      <td>[14, 121, 164, 218, 230, 249]</td>\n",
       "    </tr>\n",
       "    <tr>\n",
       "      <th>3</th>\n",
       "      <td>0</td>\n",
       "      <td>3</td>\n",
       "      <td>[6, 67, 98, 137, 145, 192, 222]</td>\n",
       "    </tr>\n",
       "    <tr>\n",
       "      <th>4</th>\n",
       "      <td>0</td>\n",
       "      <td>4</td>\n",
       "      <td>[25, 76, 156, 188, 234]</td>\n",
       "    </tr>\n",
       "  </tbody>\n",
       "</table>\n",
       "</div>"
      ],
      "text/plain": [
       "   week  shopper                                         list_prod\n",
       "0     0        0  [71, 91, 116, 123, 157, 167, 171, 184, 207, 225]\n",
       "1     0        1             [22, 35, 92, 146, 168, 200, 211, 229]\n",
       "2     0        2                     [14, 121, 164, 218, 230, 249]\n",
       "3     0        3                   [6, 67, 98, 137, 145, 192, 222]\n",
       "4     0        4                           [25, 76, 156, 188, 234]"
      ]
     },
     "execution_count": 29,
     "metadata": {},
     "output_type": "execute_result"
    }
   ],
   "source": [
    "by_basket_str.head()"
   ]
  },
  {
   "cell_type": "code",
   "execution_count": 30,
   "metadata": {},
   "outputs": [],
   "source": [
    "by_basket = by_basket_str[\"list_prod\"].tolist()"
   ]
  },
  {
   "cell_type": "code",
   "execution_count": 31,
   "metadata": {},
   "outputs": [
    {
     "name": "stdout",
     "output_type": "stream",
     "text": [
      "Word2Vec(vocab=250, size=100, alpha=0.025)\n"
     ]
    }
   ],
   "source": [
    "# Create a Word2Vec model\n",
    "w2v_model = Word2Vec(\n",
    "    sentences=by_basket,\n",
    "    min_count=10,\n",
    "    negative=5,\n",
    "    sample=0,\n",
    "    sg=1,\n",
    "    workers=10,\n",
    ")\n",
    "\n",
    "# summarize the loaded model\n",
    "print(w2v_model)"
   ]
  },
  {
   "cell_type": "code",
   "execution_count": 32,
   "metadata": {},
   "outputs": [
    {
     "name": "stdout",
     "output_type": "stream",
     "text": [
      "Words Length: 250\n",
      "['71', '91', '116', '123', '157', '167', '171', '184', '207', '225']\n"
     ]
    }
   ],
   "source": [
    "# Summarize vocabulary\n",
    "words = list(w2v_model.wv.vocab)\n",
    "print(\"Words Length: {}\".format(len(words)))\n",
    "print(words[0:10])"
   ]
  },
  {
   "cell_type": "code",
   "execution_count": 33,
   "metadata": {},
   "outputs": [
    {
     "name": "stdout",
     "output_type": "stream",
     "text": [
      "[('74', 0.677214503288269), ('71', 0.6661261320114136), ('79', 0.6327258944511414), ('72', 0.6240032315254211), ('73', 0.6211162209510803), ('78', 0.6182807087898254), ('75', 0.6175341010093689), ('77', 0.5969045162200928), ('70', 0.4974876642227173), ('4', 0.2897788882255554)]\n",
      "Product Vector size: 100\n",
      "[-0.6378399  -0.39120352 -0.02826649 -0.09698865  0.66375476 -0.20122798\n",
      " -0.16417977 -0.19422676 -0.25085306 -0.40593758  0.22815895  0.09401505\n",
      "  0.54107195 -0.07544153  0.05723818  0.0900609   0.09058281  0.17793836\n",
      "  0.21234316 -0.21157861  0.04928506  0.2542332   0.03635726 -0.15064329\n",
      " -0.52069795 -0.18990704  0.39039254  0.23324229  0.0700544  -0.04839453\n",
      " -0.3209386   0.20548636  0.40738517  0.29243675  0.21299246 -0.3514389\n",
      "  0.26533756 -0.06253164  0.26599464 -0.32281858 -0.30075473  0.31016797\n",
      "  0.40111184  0.17581885 -0.49585152 -0.18163168  0.31218192 -0.46623442\n",
      "  0.37764162  0.11582473  0.16027735  0.02415344  0.0163057   0.19880499\n",
      "  0.15514581 -0.0748875   0.35989115 -0.10068903  0.14053495 -0.58446485\n",
      " -0.36855444 -0.03188631  0.6704108  -0.16080205 -0.07324155  0.19194308\n",
      "  0.45208943 -0.08207556 -0.10506363 -0.12874871  0.4211646  -0.06203426\n",
      "  0.14142635 -0.4284195  -0.18911064  0.07231166 -0.24882282 -0.11085168\n",
      " -0.36199638 -0.1961911  -0.42128766 -0.06235448  0.50074244 -0.18748477\n",
      " -0.15477096 -0.00649761 -0.17862198 -0.03961179 -0.2095168   0.5004181\n",
      " -0.01206335 -0.40033683  0.24633808 -0.03423911 -0.09249585  0.4401495\n",
      " -0.04405477 -0.26007053 -0.21819878  0.16550902]\n"
     ]
    },
    {
     "name": "stderr",
     "output_type": "stream",
     "text": [
      "<ipython-input-33-aff2342eceae>:5: DeprecationWarning: Call to deprecated `__getitem__` (Method will be removed in 4.0.0, use self.wv.__getitem__() instead).\n",
      "  print(f\"Product Vector size: {len(w2v_model['76'])}\")\n",
      "<ipython-input-33-aff2342eceae>:6: DeprecationWarning: Call to deprecated `__getitem__` (Method will be removed in 4.0.0, use self.wv.__getitem__() instead).\n",
      "  print(w2v_model[\"76\"])\n"
     ]
    }
   ],
   "source": [
    "# Product vector for 76\n",
    "\n",
    "# Most similar to a sample product 76\n",
    "print(w2v_model.wv.most_similar(positive='76'))\n",
    "print(f\"Product Vector size: {len(w2v_model['76'])}\")\n",
    "print(w2v_model[\"76\"])"
   ]
  },
  {
   "cell_type": "markdown",
   "metadata": {},
   "source": [
    "#### f - 2. t-SNE"
   ]
  },
  {
   "cell_type": "code",
   "execution_count": 34,
   "metadata": {},
   "outputs": [
    {
     "name": "stdout",
     "output_type": "stream",
     "text": [
      "(250, 100)\n"
     ]
    },
    {
     "name": "stderr",
     "output_type": "stream",
     "text": [
      "<ipython-input-34-a34c8899bf7e>:1: DeprecationWarning: Call to deprecated `__getitem__` (Method will be removed in 4.0.0, use self.wv.__getitem__() instead).\n",
      "  X = w2v_model[w2v_model.wv.vocab]\n"
     ]
    },
    {
     "data": {
      "text/plain": [
       "array([[-0.2895839 ,  0.04778377,  0.02249708, ..., -0.41088125,\n",
       "        -0.54661113, -0.31075528],\n",
       "       [ 0.499356  , -0.21183808,  0.08556315, ...,  0.28100145,\n",
       "        -0.34660417, -0.6225884 ],\n",
       "       [-0.21617395,  0.6078007 ,  0.12517339, ...,  0.70284903,\n",
       "        -0.20511957, -0.28097484],\n",
       "       ...,\n",
       "       [-0.01832466, -0.00308146, -0.02200852, ...,  0.28290263,\n",
       "         0.03835472, -0.6984836 ],\n",
       "       [-0.61663824, -0.10761869,  0.2638543 , ...,  0.6448534 ,\n",
       "        -0.07382338, -0.17086223],\n",
       "       [-0.03675385,  0.22312428, -0.5442481 , ..., -0.09040421,\n",
       "        -0.583199  , -0.07797411]], dtype=float32)"
      ]
     },
     "execution_count": 34,
     "metadata": {},
     "output_type": "execute_result"
    }
   ],
   "source": [
    "X = w2v_model[w2v_model.wv.vocab]\n",
    "print(X.shape)\n",
    "X"
   ]
  },
  {
   "cell_type": "code",
   "execution_count": 35,
   "metadata": {},
   "outputs": [],
   "source": [
    "N = 1000\n",
    "\n",
    "config_tsne = {\n",
    "    \"n_components\": 2,\n",
    "    \"init\": \"pca\",\n",
    "    \"random_state\": 0,\n",
    "    \"n_iter\": 1_000,\n",
    "}"
   ]
  },
  {
   "cell_type": "code",
   "execution_count": 36,
   "metadata": {},
   "outputs": [],
   "source": [
    "tsne = TSNE(**config_tsne)\n",
    "Y_tsne = tsne.fit_transform(X)"
   ]
  },
  {
   "cell_type": "code",
   "execution_count": 37,
   "metadata": {},
   "outputs": [
    {
     "data": {
      "text/plain": [
       "array([[ -9.89249   ,   6.7734365 ],\n",
       "       [  0.650369  ,  11.7110405 ],\n",
       "       [  1.805379  ,  -1.1099257 ],\n",
       "       [  4.9111075 ,   7.4191046 ],\n",
       "       [ -2.4500258 ,  -2.8079405 ],\n",
       "       [ -3.5514762 ,   8.847015  ],\n",
       "       [ -4.4328866 ,   3.9797938 ],\n",
       "       [ -6.2253733 ,  -0.67359877],\n",
       "       [  5.3175526 ,   3.1513443 ],\n",
       "       [-11.753261  ,   1.5194231 ]], dtype=float32)"
      ]
     },
     "execution_count": 37,
     "metadata": {},
     "output_type": "execute_result"
    }
   ],
   "source": [
    "Y_tsne[0:10]"
   ]
  },
  {
   "cell_type": "code",
   "execution_count": 38,
   "metadata": {},
   "outputs": [
    {
     "data": {
      "text/plain": [
       "0.42372632026672363"
      ]
     },
     "execution_count": 38,
     "metadata": {},
     "output_type": "execute_result"
    }
   ],
   "source": [
    "# kl_divergence - What does this indicate ?\n",
    "tsne.kl_divergence_"
   ]
  },
  {
   "cell_type": "code",
   "execution_count": 39,
   "metadata": {},
   "outputs": [
    {
     "data": {
      "text/plain": [
       "200.0"
      ]
     },
     "execution_count": 39,
     "metadata": {},
     "output_type": "execute_result"
    }
   ],
   "source": [
    "# Learning rate\n",
    "tsne.learning_rate"
   ]
  },
  {
   "cell_type": "code",
   "execution_count": 40,
   "metadata": {},
   "outputs": [
    {
     "data": {
      "text/plain": [
       "'barnes_hut'"
      ]
     },
     "execution_count": 40,
     "metadata": {},
     "output_type": "execute_result"
    }
   ],
   "source": [
    "# Method\n",
    "tsne.method"
   ]
  },
  {
   "cell_type": "code",
   "execution_count": 41,
   "metadata": {},
   "outputs": [
    {
     "data": {
      "image/png": "[encoded data removed]",
      "text/plain": [
       "<Figure size 432x288 with 1 Axes>"
      ]
     },
     "metadata": {
      "needs_background": "light"
     },
     "output_type": "display_data"
    }
   ],
   "source": [
    "# We see 25 clusters\n",
    "plt.scatter(Y_tsne[:, 0], Y_tsne[:, 1], cmap=plt.cm.Spectral)\n",
    "plt.show()"
   ]
  },
  {
   "cell_type": "code",
   "execution_count": 42,
   "metadata": {},
   "outputs": [],
   "source": [
    "# kMeans\n",
    "from sklearn.cluster import KMeans"
   ]
  },
  {
   "cell_type": "code",
   "execution_count": 43,
   "metadata": {},
   "outputs": [
    {
     "data": {
      "text/plain": [
       "array([[ -9.89249   ,   6.7734365 ],\n",
       "       [  0.650369  ,  11.7110405 ],\n",
       "       [  1.805379  ,  -1.1099257 ],\n",
       "       [  4.9111075 ,   7.4191046 ],\n",
       "       [ -2.4500258 ,  -2.8079405 ],\n",
       "       [ -3.5514762 ,   8.847015  ],\n",
       "       [ -4.4328866 ,   3.9797938 ],\n",
       "       [ -6.2253733 ,  -0.67359877],\n",
       "       [  5.3175526 ,   3.1513443 ],\n",
       "       [-11.753261  ,   1.5194231 ]], dtype=float32)"
      ]
     },
     "execution_count": 43,
     "metadata": {},
     "output_type": "execute_result"
    }
   ],
   "source": [
    "Y_tsne[0:10]"
   ]
  },
  {
   "cell_type": "code",
   "execution_count": 44,
   "metadata": {},
   "outputs": [
    {
     "data": {
      "text/plain": [
       "array([ 9,  4, 18, 21, 24, 17,  1, 13,  0, 23, 11,  5,  4, 20, 17,  0, 15,\n",
       "       23,  7, 21, 17, 15,  8, 10, 14, 12,  4, 22, 20,  6, 23, 11,  9, 24,\n",
       "       13,  8, 19, 20, 23, 10,  7,  3, 18, 20,  6,  8, 12,  9,  3, 18, 24,\n",
       "       13,  6, 11,  5,  9, 19, 20, 24,  6, 23, 16, 12,  0,  9,  3, 21, 14,\n",
       "       12,  4,  3, 18, 22, 13, 10, 14, 20, 17,  4, 18, 22, 24, 13,  6, 16,\n",
       "        9,  0, 10, 11, 18, 10, 16,  3,  6, 14, 15,  7,  5,  4,  3,  1,  0,\n",
       "       21,  6, 15, 10,  2, 12, 21, 22, 23,  8,  5, 19, 17, 19, 24, 16, 16,\n",
       "       12, 13, 15, 14, 16,  2, 13,  6,  7, 20, 24, 21, 11, 16,  0, 16, 21,\n",
       "        5, 19, 24, 17,  1, 13, 23,  5, 16,  9, 19,  4, 17,  7, 11,  9, 22,\n",
       "        5, 12, 18, 14,  6,  8, 11, 16, 21, 12,  6, 23,  5, 10,  7,  5, 14,\n",
       "       20, 24,  7, 20,  1,  2,  7,  0, 15,  2,  8, 11, 18, 18,  7, 23,  0,\n",
       "       20, 15, 10,  2,  3,  8, 12,  9,  4, 22,  1, 22, 12, 22, 14, 17,  1,\n",
       "       15, 21, 11,  3, 19, 13, 10, 17,  0, 24, 14,  4,  1,  3,  4, 18, 11,\n",
       "       19,  3, 15, 13,  1, 10,  2, 21,  2,  8, 23, 19,  1, 22,  8,  0, 22,\n",
       "       15,  2,  5,  9,  2,  8,  7,  2, 14, 17, 19,  1], dtype=int32)"
      ]
     },
     "execution_count": 44,
     "metadata": {},
     "output_type": "execute_result"
    }
   ],
   "source": [
    "kmeans = KMeans(n_clusters=25, random_state=0).fit(Y_tsne)\n",
    "kmeans.labels_"
   ]
  },
  {
   "cell_type": "code",
   "execution_count": 45,
   "metadata": {},
   "outputs": [
    {
     "data": {
      "text/html": [
       "<div>\n",
       "<style scoped>\n",
       "    .dataframe tbody tr th:only-of-type {\n",
       "        vertical-align: middle;\n",
       "    }\n",
       "\n",
       "    .dataframe tbody tr th {\n",
       "        vertical-align: top;\n",
       "    }\n",
       "\n",
       "    .dataframe thead th {\n",
       "        text-align: right;\n",
       "    }\n",
       "</style>\n",
       "<table border=\"1\" class=\"dataframe\">\n",
       "  <thead>\n",
       "    <tr style=\"text-align: right;\">\n",
       "      <th></th>\n",
       "      <th>product</th>\n",
       "      <th>category</th>\n",
       "    </tr>\n",
       "  </thead>\n",
       "  <tbody>\n",
       "    <tr>\n",
       "      <th>0</th>\n",
       "      <td>0</td>\n",
       "      <td>9</td>\n",
       "    </tr>\n",
       "    <tr>\n",
       "      <th>1</th>\n",
       "      <td>1</td>\n",
       "      <td>4</td>\n",
       "    </tr>\n",
       "    <tr>\n",
       "      <th>2</th>\n",
       "      <td>2</td>\n",
       "      <td>18</td>\n",
       "    </tr>\n",
       "    <tr>\n",
       "      <th>3</th>\n",
       "      <td>3</td>\n",
       "      <td>21</td>\n",
       "    </tr>\n",
       "    <tr>\n",
       "      <th>4</th>\n",
       "      <td>4</td>\n",
       "      <td>24</td>\n",
       "    </tr>\n",
       "  </tbody>\n",
       "</table>\n",
       "</div>"
      ],
      "text/plain": [
       "   product  category\n",
       "0        0         9\n",
       "1        1         4\n",
       "2        2        18\n",
       "3        3        21\n",
       "4        4        24"
      ]
     },
     "execution_count": 45,
     "metadata": {},
     "output_type": "execute_result"
    }
   ],
   "source": [
    "# Generate a product category\n",
    "products = [product for product in range(250)]\n",
    "prods_cat_table = pd.DataFrame(data=products, columns=[\"product\"])\n",
    "prods_cat_table[\"category\"] = kmeans.labels_\n",
    "prods_cat_table.head()"
   ]
  },
  {
   "cell_type": "code",
   "execution_count": null,
   "metadata": {},
   "outputs": [],
   "source": []
  },
  {
   "cell_type": "code",
   "execution_count": 46,
   "metadata": {},
   "outputs": [],
   "source": [
    "train = train.merge(right=prods_cat_table, how=\"left\", on=[\"product\"])\n",
    "test = test.merge(right=prods_cat_table, how=\"left\", on=[\"product\"])"
   ]
  },
  {
   "cell_type": "code",
   "execution_count": 47,
   "metadata": {},
   "outputs": [
    {
     "data": {
      "text/html": [
       "<div>\n",
       "<style scoped>\n",
       "    .dataframe tbody tr th:only-of-type {\n",
       "        vertical-align: middle;\n",
       "    }\n",
       "\n",
       "    .dataframe tbody tr th {\n",
       "        vertical-align: top;\n",
       "    }\n",
       "\n",
       "    .dataframe thead th {\n",
       "        text-align: right;\n",
       "    }\n",
       "</style>\n",
       "<table border=\"1\" class=\"dataframe\">\n",
       "  <thead>\n",
       "    <tr style=\"text-align: right;\">\n",
       "      <th></th>\n",
       "      <th>week</th>\n",
       "      <th>product</th>\n",
       "      <th>orig_price</th>\n",
       "      <th>shopper</th>\n",
       "      <th>target</th>\n",
       "      <th>discount</th>\n",
       "      <th>coupon_given</th>\n",
       "      <th>price_w_discount</th>\n",
       "      <th>avg_basket_size</th>\n",
       "      <th>price</th>\n",
       "      <th>num_unique_prods</th>\n",
       "      <th>num_reordered</th>\n",
       "      <th>weeks_since_prior_order</th>\n",
       "      <th>category</th>\n",
       "    </tr>\n",
       "  </thead>\n",
       "  <tbody>\n",
       "  </tbody>\n",
       "</table>\n",
       "</div>"
      ],
      "text/plain": [
       "Empty DataFrame\n",
       "Columns: [week, product, orig_price, shopper, target, discount, coupon_given, price_w_discount, avg_basket_size, price, num_unique_prods, num_reordered, weeks_since_prior_order, category]\n",
       "Index: []"
      ]
     },
     "execution_count": 47,
     "metadata": {},
     "output_type": "execute_result"
    }
   ],
   "source": [
    "train[(train[\"shopper\"] == 0) & (train[\"target\"] == 1) & (train[\"product\"] == 4)]"
   ]
  },
  {
   "cell_type": "code",
   "execution_count": 48,
   "metadata": {},
   "outputs": [
    {
     "data": {
      "text/html": [
       "<div>\n",
       "<style scoped>\n",
       "    .dataframe tbody tr th:only-of-type {\n",
       "        vertical-align: middle;\n",
       "    }\n",
       "\n",
       "    .dataframe tbody tr th {\n",
       "        vertical-align: top;\n",
       "    }\n",
       "\n",
       "    .dataframe thead th {\n",
       "        text-align: right;\n",
       "    }\n",
       "</style>\n",
       "<table border=\"1\" class=\"dataframe\">\n",
       "  <thead>\n",
       "    <tr style=\"text-align: right;\">\n",
       "      <th></th>\n",
       "      <th>week</th>\n",
       "      <th>product</th>\n",
       "      <th>orig_price</th>\n",
       "      <th>shopper</th>\n",
       "      <th>target</th>\n",
       "      <th>discount</th>\n",
       "      <th>coupon_given</th>\n",
       "      <th>price_w_discount</th>\n",
       "      <th>avg_basket_size</th>\n",
       "      <th>price</th>\n",
       "      <th>num_unique_prods</th>\n",
       "      <th>num_reordered</th>\n",
       "      <th>weeks_since_prior_order</th>\n",
       "      <th>category</th>\n",
       "    </tr>\n",
       "  </thead>\n",
       "  <tbody>\n",
       "  </tbody>\n",
       "</table>\n",
       "</div>"
      ],
      "text/plain": [
       "Empty DataFrame\n",
       "Columns: [week, product, orig_price, shopper, target, discount, coupon_given, price_w_discount, avg_basket_size, price, num_unique_prods, num_reordered, weeks_since_prior_order, category]\n",
       "Index: []"
      ]
     },
     "execution_count": 48,
     "metadata": {},
     "output_type": "execute_result"
    }
   ],
   "source": [
    "train[(train[\"shopper\"] == 0) & (train[\"target\"] == 1) & (train[\"category\"] == 20)].tail(20)"
   ]
  },
  {
   "cell_type": "code",
   "execution_count": 49,
   "metadata": {},
   "outputs": [
    {
     "data": {
      "text/html": [
       "<div>\n",
       "<style scoped>\n",
       "    .dataframe tbody tr th:only-of-type {\n",
       "        vertical-align: middle;\n",
       "    }\n",
       "\n",
       "    .dataframe tbody tr th {\n",
       "        vertical-align: top;\n",
       "    }\n",
       "\n",
       "    .dataframe thead th {\n",
       "        text-align: right;\n",
       "    }\n",
       "</style>\n",
       "<table border=\"1\" class=\"dataframe\">\n",
       "  <thead>\n",
       "    <tr style=\"text-align: right;\">\n",
       "      <th></th>\n",
       "      <th>week</th>\n",
       "      <th>product</th>\n",
       "      <th>orig_price</th>\n",
       "      <th>shopper</th>\n",
       "      <th>target</th>\n",
       "      <th>discount</th>\n",
       "      <th>coupon_given</th>\n",
       "      <th>price_w_discount</th>\n",
       "      <th>avg_basket_size</th>\n",
       "      <th>price</th>\n",
       "      <th>num_unique_prods</th>\n",
       "      <th>num_reordered</th>\n",
       "      <th>weeks_since_prior_order</th>\n",
       "      <th>category</th>\n",
       "    </tr>\n",
       "  </thead>\n",
       "  <tbody>\n",
       "  </tbody>\n",
       "</table>\n",
       "</div>"
      ],
      "text/plain": [
       "Empty DataFrame\n",
       "Columns: [week, product, orig_price, shopper, target, discount, coupon_given, price_w_discount, avg_basket_size, price, num_unique_prods, num_reordered, weeks_since_prior_order, category]\n",
       "Index: []"
      ]
     },
     "execution_count": 49,
     "metadata": {},
     "output_type": "execute_result"
    }
   ],
   "source": [
    "train[(train[\"shopper\"] == 0) & (train[\"target\"] == 1) & (train[\"category\"] == 20)].head(50)"
   ]
  },
  {
   "cell_type": "code",
   "execution_count": 50,
   "metadata": {},
   "outputs": [],
   "source": [
    "# train.head(40)"
   ]
  },
  {
   "cell_type": "code",
   "execution_count": 51,
   "metadata": {},
   "outputs": [
    {
     "data": {
      "text/html": [
       "<div>\n",
       "<style scoped>\n",
       "    .dataframe tbody tr th:only-of-type {\n",
       "        vertical-align: middle;\n",
       "    }\n",
       "\n",
       "    .dataframe tbody tr th {\n",
       "        vertical-align: top;\n",
       "    }\n",
       "\n",
       "    .dataframe thead th {\n",
       "        text-align: right;\n",
       "    }\n",
       "</style>\n",
       "<table border=\"1\" class=\"dataframe\">\n",
       "  <thead>\n",
       "    <tr style=\"text-align: right;\">\n",
       "      <th></th>\n",
       "      <th>week</th>\n",
       "      <th>product</th>\n",
       "      <th>orig_price</th>\n",
       "      <th>shopper</th>\n",
       "      <th>target</th>\n",
       "      <th>discount</th>\n",
       "      <th>coupon_given</th>\n",
       "      <th>price_w_discount</th>\n",
       "      <th>avg_basket_size</th>\n",
       "      <th>price</th>\n",
       "      <th>num_unique_prods</th>\n",
       "      <th>num_reordered</th>\n",
       "      <th>weeks_since_prior_order</th>\n",
       "      <th>category</th>\n",
       "    </tr>\n",
       "  </thead>\n",
       "  <tbody>\n",
       "    <tr>\n",
       "      <th>10604982</th>\n",
       "      <td>55</td>\n",
       "      <td>232</td>\n",
       "      <td>481</td>\n",
       "      <td>1846</td>\n",
       "      <td>0.0</td>\n",
       "      <td>0.0</td>\n",
       "      <td>0.0</td>\n",
       "      <td>481.0</td>\n",
       "      <td>7.348315</td>\n",
       "      <td>559.766055</td>\n",
       "      <td>78</td>\n",
       "      <td>0.0</td>\n",
       "      <td>56</td>\n",
       "      <td>19</td>\n",
       "    </tr>\n",
       "    <tr>\n",
       "      <th>7798467</th>\n",
       "      <td>43</td>\n",
       "      <td>217</td>\n",
       "      <td>657</td>\n",
       "      <td>378</td>\n",
       "      <td>0.0</td>\n",
       "      <td>0.0</td>\n",
       "      <td>0.0</td>\n",
       "      <td>657.0</td>\n",
       "      <td>7.629213</td>\n",
       "      <td>610.646539</td>\n",
       "      <td>66</td>\n",
       "      <td>0.0</td>\n",
       "      <td>44</td>\n",
       "      <td>3</td>\n",
       "    </tr>\n",
       "    <tr>\n",
       "      <th>10867865</th>\n",
       "      <td>39</td>\n",
       "      <td>115</td>\n",
       "      <td>674</td>\n",
       "      <td>1927</td>\n",
       "      <td>0.0</td>\n",
       "      <td>0.0</td>\n",
       "      <td>0.0</td>\n",
       "      <td>674.0</td>\n",
       "      <td>8.089888</td>\n",
       "      <td>576.580556</td>\n",
       "      <td>89</td>\n",
       "      <td>0.0</td>\n",
       "      <td>40</td>\n",
       "      <td>19</td>\n",
       "    </tr>\n",
       "    <tr>\n",
       "      <th>10250253</th>\n",
       "      <td>61</td>\n",
       "      <td>3</td>\n",
       "      <td>722</td>\n",
       "      <td>1068</td>\n",
       "      <td>0.0</td>\n",
       "      <td>0.0</td>\n",
       "      <td>0.0</td>\n",
       "      <td>722.0</td>\n",
       "      <td>6.561798</td>\n",
       "      <td>596.133562</td>\n",
       "      <td>69</td>\n",
       "      <td>0.0</td>\n",
       "      <td>62</td>\n",
       "      <td>21</td>\n",
       "    </tr>\n",
       "    <tr>\n",
       "      <th>1021551</th>\n",
       "      <td>81</td>\n",
       "      <td>51</td>\n",
       "      <td>640</td>\n",
       "      <td>1552</td>\n",
       "      <td>0.0</td>\n",
       "      <td>0.0</td>\n",
       "      <td>0.0</td>\n",
       "      <td>640.0</td>\n",
       "      <td>5.431818</td>\n",
       "      <td>603.081590</td>\n",
       "      <td>59</td>\n",
       "      <td>7.0</td>\n",
       "      <td>17</td>\n",
       "      <td>13</td>\n",
       "    </tr>\n",
       "    <tr>\n",
       "      <th>6565872</th>\n",
       "      <td>8</td>\n",
       "      <td>122</td>\n",
       "      <td>660</td>\n",
       "      <td>1546</td>\n",
       "      <td>0.0</td>\n",
       "      <td>0.0</td>\n",
       "      <td>0.0</td>\n",
       "      <td>660.0</td>\n",
       "      <td>6.179775</td>\n",
       "      <td>570.814545</td>\n",
       "      <td>83</td>\n",
       "      <td>0.0</td>\n",
       "      <td>9</td>\n",
       "      <td>14</td>\n",
       "    </tr>\n",
       "    <tr>\n",
       "      <th>502757</th>\n",
       "      <td>53</td>\n",
       "      <td>7</td>\n",
       "      <td>772</td>\n",
       "      <td>1101</td>\n",
       "      <td>0.0</td>\n",
       "      <td>0.0</td>\n",
       "      <td>0.0</td>\n",
       "      <td>772.0</td>\n",
       "      <td>8.528090</td>\n",
       "      <td>593.753623</td>\n",
       "      <td>67</td>\n",
       "      <td>0.0</td>\n",
       "      <td>54</td>\n",
       "      <td>13</td>\n",
       "    </tr>\n",
       "    <tr>\n",
       "      <th>3349296</th>\n",
       "      <td>47</td>\n",
       "      <td>46</td>\n",
       "      <td>523</td>\n",
       "      <td>1236</td>\n",
       "      <td>0.0</td>\n",
       "      <td>0.0</td>\n",
       "      <td>0.0</td>\n",
       "      <td>523.0</td>\n",
       "      <td>7.595506</td>\n",
       "      <td>589.752959</td>\n",
       "      <td>81</td>\n",
       "      <td>2.0</td>\n",
       "      <td>48</td>\n",
       "      <td>12</td>\n",
       "    </tr>\n",
       "    <tr>\n",
       "      <th>1895829</th>\n",
       "      <td>18</td>\n",
       "      <td>79</td>\n",
       "      <td>736</td>\n",
       "      <td>1557</td>\n",
       "      <td>0.0</td>\n",
       "      <td>0.0</td>\n",
       "      <td>0.0</td>\n",
       "      <td>736.0</td>\n",
       "      <td>6.404494</td>\n",
       "      <td>574.868421</td>\n",
       "      <td>62</td>\n",
       "      <td>0.0</td>\n",
       "      <td>19</td>\n",
       "      <td>18</td>\n",
       "    </tr>\n",
       "    <tr>\n",
       "      <th>750057</th>\n",
       "      <td>63</td>\n",
       "      <td>57</td>\n",
       "      <td>716</td>\n",
       "      <td>1333</td>\n",
       "      <td>0.0</td>\n",
       "      <td>40.0</td>\n",
       "      <td>1.0</td>\n",
       "      <td>676.0</td>\n",
       "      <td>6.921348</td>\n",
       "      <td>607.246753</td>\n",
       "      <td>56</td>\n",
       "      <td>0.0</td>\n",
       "      <td>64</td>\n",
       "      <td>20</td>\n",
       "    </tr>\n",
       "    <tr>\n",
       "      <th>9057746</th>\n",
       "      <td>7</td>\n",
       "      <td>246</td>\n",
       "      <td>702</td>\n",
       "      <td>183</td>\n",
       "      <td>0.0</td>\n",
       "      <td>0.0</td>\n",
       "      <td>0.0</td>\n",
       "      <td>702.0</td>\n",
       "      <td>7.730337</td>\n",
       "      <td>594.787791</td>\n",
       "      <td>59</td>\n",
       "      <td>0.0</td>\n",
       "      <td>8</td>\n",
       "      <td>14</td>\n",
       "    </tr>\n",
       "    <tr>\n",
       "      <th>10218947</th>\n",
       "      <td>24</td>\n",
       "      <td>197</td>\n",
       "      <td>658</td>\n",
       "      <td>1707</td>\n",
       "      <td>0.0</td>\n",
       "      <td>0.0</td>\n",
       "      <td>0.0</td>\n",
       "      <td>658.0</td>\n",
       "      <td>7.044944</td>\n",
       "      <td>601.912281</td>\n",
       "      <td>56</td>\n",
       "      <td>0.0</td>\n",
       "      <td>25</td>\n",
       "      <td>1</td>\n",
       "    </tr>\n",
       "    <tr>\n",
       "      <th>9156304</th>\n",
       "      <td>46</td>\n",
       "      <td>54</td>\n",
       "      <td>773</td>\n",
       "      <td>234</td>\n",
       "      <td>0.0</td>\n",
       "      <td>0.0</td>\n",
       "      <td>0.0</td>\n",
       "      <td>773.0</td>\n",
       "      <td>9.831461</td>\n",
       "      <td>573.978286</td>\n",
       "      <td>86</td>\n",
       "      <td>2.0</td>\n",
       "      <td>2</td>\n",
       "      <td>5</td>\n",
       "    </tr>\n",
       "    <tr>\n",
       "      <th>6439461</th>\n",
       "      <td>36</td>\n",
       "      <td>211</td>\n",
       "      <td>613</td>\n",
       "      <td>609</td>\n",
       "      <td>0.0</td>\n",
       "      <td>0.0</td>\n",
       "      <td>0.0</td>\n",
       "      <td>613.0</td>\n",
       "      <td>7.382022</td>\n",
       "      <td>590.228311</td>\n",
       "      <td>103</td>\n",
       "      <td>5.0</td>\n",
       "      <td>7</td>\n",
       "      <td>17</td>\n",
       "    </tr>\n",
       "    <tr>\n",
       "      <th>2488578</th>\n",
       "      <td>75</td>\n",
       "      <td>78</td>\n",
       "      <td>625</td>\n",
       "      <td>1556</td>\n",
       "      <td>0.0</td>\n",
       "      <td>0.0</td>\n",
       "      <td>0.0</td>\n",
       "      <td>625.0</td>\n",
       "      <td>7.719101</td>\n",
       "      <td>595.359534</td>\n",
       "      <td>83</td>\n",
       "      <td>1.0</td>\n",
       "      <td>61</td>\n",
       "      <td>4</td>\n",
       "    </tr>\n",
       "    <tr>\n",
       "      <th>2604122</th>\n",
       "      <td>3</td>\n",
       "      <td>122</td>\n",
       "      <td>660</td>\n",
       "      <td>918</td>\n",
       "      <td>0.0</td>\n",
       "      <td>0.0</td>\n",
       "      <td>0.0</td>\n",
       "      <td>660.0</td>\n",
       "      <td>6.011236</td>\n",
       "      <td>548.977570</td>\n",
       "      <td>42</td>\n",
       "      <td>0.0</td>\n",
       "      <td>4</td>\n",
       "      <td>14</td>\n",
       "    </tr>\n",
       "    <tr>\n",
       "      <th>2365268</th>\n",
       "      <td>27</td>\n",
       "      <td>18</td>\n",
       "      <td>665</td>\n",
       "      <td>297</td>\n",
       "      <td>0.0</td>\n",
       "      <td>0.0</td>\n",
       "      <td>0.0</td>\n",
       "      <td>665.0</td>\n",
       "      <td>9.359551</td>\n",
       "      <td>581.642257</td>\n",
       "      <td>76</td>\n",
       "      <td>1.0</td>\n",
       "      <td>27</td>\n",
       "      <td>7</td>\n",
       "    </tr>\n",
       "    <tr>\n",
       "      <th>9762179</th>\n",
       "      <td>66</td>\n",
       "      <td>179</td>\n",
       "      <td>593</td>\n",
       "      <td>584</td>\n",
       "      <td>0.0</td>\n",
       "      <td>0.0</td>\n",
       "      <td>0.0</td>\n",
       "      <td>593.0</td>\n",
       "      <td>8.786517</td>\n",
       "      <td>600.661125</td>\n",
       "      <td>71</td>\n",
       "      <td>0.0</td>\n",
       "      <td>67</td>\n",
       "      <td>2</td>\n",
       "    </tr>\n",
       "    <tr>\n",
       "      <th>5417638</th>\n",
       "      <td>43</td>\n",
       "      <td>138</td>\n",
       "      <td>581</td>\n",
       "      <td>1487</td>\n",
       "      <td>0.0</td>\n",
       "      <td>0.0</td>\n",
       "      <td>0.0</td>\n",
       "      <td>581.0</td>\n",
       "      <td>7.831461</td>\n",
       "      <td>579.205165</td>\n",
       "      <td>69</td>\n",
       "      <td>3.0</td>\n",
       "      <td>44</td>\n",
       "      <td>24</td>\n",
       "    </tr>\n",
       "    <tr>\n",
       "      <th>8144367</th>\n",
       "      <td>3</td>\n",
       "      <td>117</td>\n",
       "      <td>737</td>\n",
       "      <td>1774</td>\n",
       "      <td>0.0</td>\n",
       "      <td>0.0</td>\n",
       "      <td>0.0</td>\n",
       "      <td>737.0</td>\n",
       "      <td>6.629213</td>\n",
       "      <td>588.108475</td>\n",
       "      <td>65</td>\n",
       "      <td>0.0</td>\n",
       "      <td>4</td>\n",
       "      <td>16</td>\n",
       "    </tr>\n",
       "  </tbody>\n",
       "</table>\n",
       "</div>"
      ],
      "text/plain": [
       "          week  product  orig_price  shopper  target  discount  coupon_given  \\\n",
       "10604982    55      232         481     1846     0.0       0.0           0.0   \n",
       "7798467     43      217         657      378     0.0       0.0           0.0   \n",
       "10867865    39      115         674     1927     0.0       0.0           0.0   \n",
       "10250253    61        3         722     1068     0.0       0.0           0.0   \n",
       "1021551     81       51         640     1552     0.0       0.0           0.0   \n",
       "6565872      8      122         660     1546     0.0       0.0           0.0   \n",
       "502757      53        7         772     1101     0.0       0.0           0.0   \n",
       "3349296     47       46         523     1236     0.0       0.0           0.0   \n",
       "1895829     18       79         736     1557     0.0       0.0           0.0   \n",
       "750057      63       57         716     1333     0.0      40.0           1.0   \n",
       "9057746      7      246         702      183     0.0       0.0           0.0   \n",
       "10218947    24      197         658     1707     0.0       0.0           0.0   \n",
       "9156304     46       54         773      234     0.0       0.0           0.0   \n",
       "6439461     36      211         613      609     0.0       0.0           0.0   \n",
       "2488578     75       78         625     1556     0.0       0.0           0.0   \n",
       "2604122      3      122         660      918     0.0       0.0           0.0   \n",
       "2365268     27       18         665      297     0.0       0.0           0.0   \n",
       "9762179     66      179         593      584     0.0       0.0           0.0   \n",
       "5417638     43      138         581     1487     0.0       0.0           0.0   \n",
       "8144367      3      117         737     1774     0.0       0.0           0.0   \n",
       "\n",
       "          price_w_discount  avg_basket_size       price  num_unique_prods  \\\n",
       "10604982             481.0         7.348315  559.766055                78   \n",
       "7798467              657.0         7.629213  610.646539                66   \n",
       "10867865             674.0         8.089888  576.580556                89   \n",
       "10250253             722.0         6.561798  596.133562                69   \n",
       "1021551              640.0         5.431818  603.081590                59   \n",
       "6565872              660.0         6.179775  570.814545                83   \n",
       "502757               772.0         8.528090  593.753623                67   \n",
       "3349296              523.0         7.595506  589.752959                81   \n",
       "1895829              736.0         6.404494  574.868421                62   \n",
       "750057               676.0         6.921348  607.246753                56   \n",
       "9057746              702.0         7.730337  594.787791                59   \n",
       "10218947             658.0         7.044944  601.912281                56   \n",
       "9156304              773.0         9.831461  573.978286                86   \n",
       "6439461              613.0         7.382022  590.228311               103   \n",
       "2488578              625.0         7.719101  595.359534                83   \n",
       "2604122              660.0         6.011236  548.977570                42   \n",
       "2365268              665.0         9.359551  581.642257                76   \n",
       "9762179              593.0         8.786517  600.661125                71   \n",
       "5417638              581.0         7.831461  579.205165                69   \n",
       "8144367              737.0         6.629213  588.108475                65   \n",
       "\n",
       "          num_reordered  weeks_since_prior_order  category  \n",
       "10604982            0.0                       56        19  \n",
       "7798467             0.0                       44         3  \n",
       "10867865            0.0                       40        19  \n",
       "10250253            0.0                       62        21  \n",
       "1021551             7.0                       17        13  \n",
       "6565872             0.0                        9        14  \n",
       "502757              0.0                       54        13  \n",
       "3349296             2.0                       48        12  \n",
       "1895829             0.0                       19        18  \n",
       "750057              0.0                       64        20  \n",
       "9057746             0.0                        8        14  \n",
       "10218947            0.0                       25         1  \n",
       "9156304             2.0                        2         5  \n",
       "6439461             5.0                        7        17  \n",
       "2488578             1.0                       61         4  \n",
       "2604122             0.0                        4        14  \n",
       "2365268             1.0                       27         7  \n",
       "9762179             0.0                       67         2  \n",
       "5417638             3.0                       44        24  \n",
       "8144367             0.0                        4        16  "
      ]
     },
     "execution_count": 51,
     "metadata": {},
     "output_type": "execute_result"
    }
   ],
   "source": [
    "train.sample(20)"
   ]
  },
  {
   "cell_type": "markdown",
   "metadata": {},
   "source": [
    "### G. Weeks since prior order from the Same Category\n",
    "\n",
    "- Except for itself"
   ]
  },
  {
   "cell_type": "markdown",
   "metadata": {},
   "source": [
    "#### g - 1. train"
   ]
  },
  {
   "cell_type": "code",
   "execution_count": 52,
   "metadata": {},
   "outputs": [
    {
     "name": "stderr",
     "output_type": "stream",
     "text": [
      "<ipython-input-52-2053987e4111>:4: SettingWithCopyWarning: \n",
      "A value is trying to be set on a copy of a slice from a DataFrame\n",
      "\n",
      "See the caveats in the documentation: https://pandas.pydata.org/pandas-docs/stable/user_guide/indexing.html#returning-a-view-versus-a-copy\n",
      "  df_out_cat[\"last_cat_order\"][df_out_cat[\"last_cat_order\"].isna()]= 0\n"
     ]
    }
   ],
   "source": [
    "new_test_cat = pd.DataFrame(train.groupby(['shopper','category','week'])['target'].sum().reset_index())\n",
    "mask = new_test_cat.groupby(['shopper', 'category'])['target'].cumsum().replace(0, False).astype(bool) # Mask starting zeros as NaN\n",
    "df_out_cat = new_test_cat.assign(last_cat_order = new_test_cat.groupby(['shopper','category', new_test_cat.target.astype(bool).cumsum()]).cumcount().where(mask))\n",
    "df_out_cat[\"last_cat_order\"][df_out_cat[\"last_cat_order\"].isna()]= 0\n",
    "df_out_cat = df_out_cat[['shopper', 'category','week','last_cat_order']]\n",
    "train = train.merge(df_out_cat, on = ['shopper', 'week', 'category'], how = 'left')"
   ]
  },
  {
   "cell_type": "code",
   "execution_count": 53,
   "metadata": {},
   "outputs": [
    {
     "data": {
      "text/html": [
       "<div>\n",
       "<style scoped>\n",
       "    .dataframe tbody tr th:only-of-type {\n",
       "        vertical-align: middle;\n",
       "    }\n",
       "\n",
       "    .dataframe tbody tr th {\n",
       "        vertical-align: top;\n",
       "    }\n",
       "\n",
       "    .dataframe thead th {\n",
       "        text-align: right;\n",
       "    }\n",
       "</style>\n",
       "<table border=\"1\" class=\"dataframe\">\n",
       "  <thead>\n",
       "    <tr style=\"text-align: right;\">\n",
       "      <th></th>\n",
       "      <th>week</th>\n",
       "      <th>product</th>\n",
       "      <th>orig_price</th>\n",
       "      <th>shopper</th>\n",
       "      <th>target</th>\n",
       "      <th>discount</th>\n",
       "      <th>coupon_given</th>\n",
       "      <th>price_w_discount</th>\n",
       "      <th>avg_basket_size</th>\n",
       "      <th>price</th>\n",
       "      <th>num_unique_prods</th>\n",
       "      <th>num_reordered</th>\n",
       "      <th>weeks_since_prior_order</th>\n",
       "      <th>category</th>\n",
       "      <th>last_cat_order</th>\n",
       "    </tr>\n",
       "  </thead>\n",
       "  <tbody>\n",
       "    <tr>\n",
       "      <th>0</th>\n",
       "      <td>0</td>\n",
       "      <td>0</td>\n",
       "      <td>688</td>\n",
       "      <td>1045</td>\n",
       "      <td>0.0</td>\n",
       "      <td>0.0</td>\n",
       "      <td>0.0</td>\n",
       "      <td>688.0</td>\n",
       "      <td>8.674157</td>\n",
       "      <td>592.661917</td>\n",
       "      <td>64</td>\n",
       "      <td>3.0</td>\n",
       "      <td>1</td>\n",
       "      <td>9</td>\n",
       "      <td>0.0</td>\n",
       "    </tr>\n",
       "    <tr>\n",
       "      <th>1</th>\n",
       "      <td>0</td>\n",
       "      <td>1</td>\n",
       "      <td>560</td>\n",
       "      <td>1045</td>\n",
       "      <td>1.0</td>\n",
       "      <td>0.0</td>\n",
       "      <td>0.0</td>\n",
       "      <td>560.0</td>\n",
       "      <td>8.674157</td>\n",
       "      <td>592.661917</td>\n",
       "      <td>64</td>\n",
       "      <td>57.0</td>\n",
       "      <td>1</td>\n",
       "      <td>4</td>\n",
       "      <td>0.0</td>\n",
       "    </tr>\n",
       "  </tbody>\n",
       "</table>\n",
       "</div>"
      ],
      "text/plain": [
       "   week  product  orig_price  shopper  target  discount  coupon_given  \\\n",
       "0     0        0         688     1045     0.0       0.0           0.0   \n",
       "1     0        1         560     1045     1.0       0.0           0.0   \n",
       "\n",
       "   price_w_discount  avg_basket_size       price  num_unique_prods  \\\n",
       "0             688.0         8.674157  592.661917                64   \n",
       "1             560.0         8.674157  592.661917                64   \n",
       "\n",
       "   num_reordered  weeks_since_prior_order  category  last_cat_order  \n",
       "0            3.0                        1         9             0.0  \n",
       "1           57.0                        1         4             0.0  "
      ]
     },
     "execution_count": 53,
     "metadata": {},
     "output_type": "execute_result"
    }
   ],
   "source": [
    "train.head(2)"
   ]
  },
  {
   "cell_type": "markdown",
   "metadata": {},
   "source": [
    "#### g - 2. test"
   ]
  },
  {
   "cell_type": "code",
   "execution_count": 54,
   "metadata": {},
   "outputs": [],
   "source": [
    "# Test set\n",
    "last_weeks_since_prior_order_from_same_cat = train.groupby(['shopper', 'product'])[\"last_cat_order\"].last() + 1\n",
    "test = test.merge(last_weeks_since_prior_order_from_same_cat, on=['shopper', 'product'])"
   ]
  },
  {
   "cell_type": "code",
   "execution_count": 55,
   "metadata": {},
   "outputs": [
    {
     "data": {
      "text/html": [
       "<div>\n",
       "<style scoped>\n",
       "    .dataframe tbody tr th:only-of-type {\n",
       "        vertical-align: middle;\n",
       "    }\n",
       "\n",
       "    .dataframe tbody tr th {\n",
       "        vertical-align: top;\n",
       "    }\n",
       "\n",
       "    .dataframe thead th {\n",
       "        text-align: right;\n",
       "    }\n",
       "</style>\n",
       "<table border=\"1\" class=\"dataframe\">\n",
       "  <thead>\n",
       "    <tr style=\"text-align: right;\">\n",
       "      <th></th>\n",
       "      <th>week</th>\n",
       "      <th>product</th>\n",
       "      <th>orig_price</th>\n",
       "      <th>shopper</th>\n",
       "      <th>target</th>\n",
       "      <th>discount</th>\n",
       "      <th>coupon_given</th>\n",
       "      <th>price_w_discount</th>\n",
       "      <th>avg_basket_size</th>\n",
       "      <th>price</th>\n",
       "      <th>num_unique_prods</th>\n",
       "      <th>num_reordered</th>\n",
       "      <th>weeks_since_prior_order</th>\n",
       "      <th>category</th>\n",
       "      <th>last_cat_order</th>\n",
       "    </tr>\n",
       "  </thead>\n",
       "  <tbody>\n",
       "    <tr>\n",
       "      <th>0</th>\n",
       "      <td>89</td>\n",
       "      <td>0</td>\n",
       "      <td>688</td>\n",
       "      <td>1045</td>\n",
       "      <td>0.0</td>\n",
       "      <td>0.0</td>\n",
       "      <td>0.0</td>\n",
       "      <td>688.0</td>\n",
       "      <td>8.674157</td>\n",
       "      <td>592.661917</td>\n",
       "      <td>64</td>\n",
       "      <td>3.0</td>\n",
       "      <td>65</td>\n",
       "      <td>9</td>\n",
       "      <td>1.0</td>\n",
       "    </tr>\n",
       "    <tr>\n",
       "      <th>1</th>\n",
       "      <td>89</td>\n",
       "      <td>0</td>\n",
       "      <td>688</td>\n",
       "      <td>1045</td>\n",
       "      <td>0.0</td>\n",
       "      <td>0.0</td>\n",
       "      <td>0.0</td>\n",
       "      <td>688.0</td>\n",
       "      <td>8.674157</td>\n",
       "      <td>592.661917</td>\n",
       "      <td>64</td>\n",
       "      <td>3.0</td>\n",
       "      <td>65</td>\n",
       "      <td>9</td>\n",
       "      <td>1.0</td>\n",
       "    </tr>\n",
       "  </tbody>\n",
       "</table>\n",
       "</div>"
      ],
      "text/plain": [
       "   week  product  orig_price  shopper  target  discount  coupon_given  \\\n",
       "0    89        0         688     1045     0.0       0.0           0.0   \n",
       "1    89        0         688     1045     0.0       0.0           0.0   \n",
       "\n",
       "   price_w_discount  avg_basket_size       price  num_unique_prods  \\\n",
       "0             688.0         8.674157  592.661917                64   \n",
       "1             688.0         8.674157  592.661917                64   \n",
       "\n",
       "   num_reordered  weeks_since_prior_order  category  last_cat_order  \n",
       "0            3.0                       65         9             1.0  \n",
       "1            3.0                       65         9             1.0  "
      ]
     },
     "execution_count": 55,
     "metadata": {},
     "output_type": "execute_result"
    }
   ],
   "source": [
    "test.head(2)"
   ]
  },
  {
   "cell_type": "code",
   "execution_count": null,
   "metadata": {},
   "outputs": [],
   "source": []
  },
  {
   "cell_type": "markdown",
   "metadata": {},
   "source": [
    "### H. WIP - Category Reorder Frequency"
   ]
  },
  {
   "cell_type": "markdown",
   "metadata": {},
   "source": [
    "#### h - 1. train set"
   ]
  },
  {
   "cell_type": "code",
   "execution_count": 56,
   "metadata": {},
   "outputs": [],
   "source": [
    "# train['cat_reorder_freq'] = train.groupby([\"shopper\", \"category\"])[\"target\"].cumsum()/(train['week']+1)"
   ]
  },
  {
   "cell_type": "code",
   "execution_count": 57,
   "metadata": {},
   "outputs": [],
   "source": [
    "# train.head(2)"
   ]
  },
  {
   "cell_type": "code",
   "execution_count": null,
   "metadata": {},
   "outputs": [],
   "source": []
  },
  {
   "cell_type": "code",
   "execution_count": null,
   "metadata": {},
   "outputs": [],
   "source": []
  },
  {
   "cell_type": "markdown",
   "metadata": {},
   "source": [
    "### I. Weeks since prior discount from the Same Category"
   ]
  },
  {
   "cell_type": "code",
   "execution_count": null,
   "metadata": {},
   "outputs": [],
   "source": []
  },
  {
   "cell_type": "code",
   "execution_count": null,
   "metadata": {},
   "outputs": [],
   "source": []
  },
  {
   "cell_type": "code",
   "execution_count": null,
   "metadata": {},
   "outputs": [],
   "source": []
  },
  {
   "cell_type": "markdown",
   "metadata": {},
   "source": [
    "## Model Declaration and Setup for Predictive Analysis"
   ]
  },
  {
   "cell_type": "markdown",
   "metadata": {},
   "source": [
    "### A. X_train, X_test, y_train, y_test split"
   ]
  },
  {
   "cell_type": "code",
   "execution_count": 58,
   "metadata": {},
   "outputs": [],
   "source": [
    "# Features to drop for X\n",
    "features_to_drop = [\"target\", \"week\"]\n",
    "\n",
    "X_train = train.drop(columns=features_to_drop)\n",
    "y_train = train[[\"target\"]]\n",
    "\n",
    "X_test = test.drop(columns=features_to_drop)\n",
    "y_test = test[[\"target\"]]"
   ]
  },
  {
   "cell_type": "code",
   "execution_count": 59,
   "metadata": {},
   "outputs": [
    {
     "data": {
      "text/html": [
       "<div>\n",
       "<style scoped>\n",
       "    .dataframe tbody tr th:only-of-type {\n",
       "        vertical-align: middle;\n",
       "    }\n",
       "\n",
       "    .dataframe tbody tr th {\n",
       "        vertical-align: top;\n",
       "    }\n",
       "\n",
       "    .dataframe thead th {\n",
       "        text-align: right;\n",
       "    }\n",
       "</style>\n",
       "<table border=\"1\" class=\"dataframe\">\n",
       "  <thead>\n",
       "    <tr style=\"text-align: right;\">\n",
       "      <th></th>\n",
       "      <th>product</th>\n",
       "      <th>orig_price</th>\n",
       "      <th>shopper</th>\n",
       "      <th>discount</th>\n",
       "      <th>coupon_given</th>\n",
       "      <th>price_w_discount</th>\n",
       "      <th>avg_basket_size</th>\n",
       "      <th>price</th>\n",
       "      <th>num_unique_prods</th>\n",
       "      <th>num_reordered</th>\n",
       "      <th>weeks_since_prior_order</th>\n",
       "      <th>category</th>\n",
       "      <th>last_cat_order</th>\n",
       "    </tr>\n",
       "  </thead>\n",
       "  <tbody>\n",
       "    <tr>\n",
       "      <th>0</th>\n",
       "      <td>0</td>\n",
       "      <td>688</td>\n",
       "      <td>1045</td>\n",
       "      <td>0.0</td>\n",
       "      <td>0.0</td>\n",
       "      <td>688.0</td>\n",
       "      <td>8.674157</td>\n",
       "      <td>592.661917</td>\n",
       "      <td>64</td>\n",
       "      <td>3.0</td>\n",
       "      <td>1</td>\n",
       "      <td>9</td>\n",
       "      <td>0.0</td>\n",
       "    </tr>\n",
       "    <tr>\n",
       "      <th>1</th>\n",
       "      <td>1</td>\n",
       "      <td>560</td>\n",
       "      <td>1045</td>\n",
       "      <td>0.0</td>\n",
       "      <td>0.0</td>\n",
       "      <td>560.0</td>\n",
       "      <td>8.674157</td>\n",
       "      <td>592.661917</td>\n",
       "      <td>64</td>\n",
       "      <td>57.0</td>\n",
       "      <td>1</td>\n",
       "      <td>4</td>\n",
       "      <td>0.0</td>\n",
       "    </tr>\n",
       "    <tr>\n",
       "      <th>2</th>\n",
       "      <td>2</td>\n",
       "      <td>773</td>\n",
       "      <td>1045</td>\n",
       "      <td>0.0</td>\n",
       "      <td>0.0</td>\n",
       "      <td>773.0</td>\n",
       "      <td>8.674157</td>\n",
       "      <td>592.661917</td>\n",
       "      <td>64</td>\n",
       "      <td>1.0</td>\n",
       "      <td>1</td>\n",
       "      <td>18</td>\n",
       "      <td>0.0</td>\n",
       "    </tr>\n",
       "    <tr>\n",
       "      <th>3</th>\n",
       "      <td>3</td>\n",
       "      <td>722</td>\n",
       "      <td>1045</td>\n",
       "      <td>0.0</td>\n",
       "      <td>0.0</td>\n",
       "      <td>722.0</td>\n",
       "      <td>8.674157</td>\n",
       "      <td>592.661917</td>\n",
       "      <td>64</td>\n",
       "      <td>0.0</td>\n",
       "      <td>1</td>\n",
       "      <td>21</td>\n",
       "      <td>0.0</td>\n",
       "    </tr>\n",
       "    <tr>\n",
       "      <th>4</th>\n",
       "      <td>4</td>\n",
       "      <td>620</td>\n",
       "      <td>1045</td>\n",
       "      <td>0.0</td>\n",
       "      <td>0.0</td>\n",
       "      <td>620.0</td>\n",
       "      <td>8.674157</td>\n",
       "      <td>592.661917</td>\n",
       "      <td>64</td>\n",
       "      <td>0.0</td>\n",
       "      <td>1</td>\n",
       "      <td>24</td>\n",
       "      <td>0.0</td>\n",
       "    </tr>\n",
       "    <tr>\n",
       "      <th>...</th>\n",
       "      <td>...</td>\n",
       "      <td>...</td>\n",
       "      <td>...</td>\n",
       "      <td>...</td>\n",
       "      <td>...</td>\n",
       "      <td>...</td>\n",
       "      <td>...</td>\n",
       "      <td>...</td>\n",
       "      <td>...</td>\n",
       "      <td>...</td>\n",
       "      <td>...</td>\n",
       "      <td>...</td>\n",
       "      <td>...</td>\n",
       "    </tr>\n",
       "    <tr>\n",
       "      <th>11124995</th>\n",
       "      <td>245</td>\n",
       "      <td>549</td>\n",
       "      <td>179</td>\n",
       "      <td>0.0</td>\n",
       "      <td>0.0</td>\n",
       "      <td>549.0</td>\n",
       "      <td>5.292135</td>\n",
       "      <td>543.912951</td>\n",
       "      <td>48</td>\n",
       "      <td>0.0</td>\n",
       "      <td>89</td>\n",
       "      <td>2</td>\n",
       "      <td>5.0</td>\n",
       "    </tr>\n",
       "    <tr>\n",
       "      <th>11124996</th>\n",
       "      <td>246</td>\n",
       "      <td>702</td>\n",
       "      <td>179</td>\n",
       "      <td>0.0</td>\n",
       "      <td>0.0</td>\n",
       "      <td>702.0</td>\n",
       "      <td>5.292135</td>\n",
       "      <td>543.912951</td>\n",
       "      <td>48</td>\n",
       "      <td>0.0</td>\n",
       "      <td>89</td>\n",
       "      <td>14</td>\n",
       "      <td>0.0</td>\n",
       "    </tr>\n",
       "    <tr>\n",
       "      <th>11124997</th>\n",
       "      <td>247</td>\n",
       "      <td>670</td>\n",
       "      <td>179</td>\n",
       "      <td>0.0</td>\n",
       "      <td>0.0</td>\n",
       "      <td>670.0</td>\n",
       "      <td>5.292135</td>\n",
       "      <td>543.912951</td>\n",
       "      <td>48</td>\n",
       "      <td>0.0</td>\n",
       "      <td>89</td>\n",
       "      <td>17</td>\n",
       "      <td>2.0</td>\n",
       "    </tr>\n",
       "    <tr>\n",
       "      <th>11124998</th>\n",
       "      <td>248</td>\n",
       "      <td>490</td>\n",
       "      <td>179</td>\n",
       "      <td>0.0</td>\n",
       "      <td>0.0</td>\n",
       "      <td>490.0</td>\n",
       "      <td>5.292135</td>\n",
       "      <td>543.912951</td>\n",
       "      <td>48</td>\n",
       "      <td>0.0</td>\n",
       "      <td>89</td>\n",
       "      <td>19</td>\n",
       "      <td>0.0</td>\n",
       "    </tr>\n",
       "    <tr>\n",
       "      <th>11124999</th>\n",
       "      <td>249</td>\n",
       "      <td>499</td>\n",
       "      <td>179</td>\n",
       "      <td>0.0</td>\n",
       "      <td>0.0</td>\n",
       "      <td>499.0</td>\n",
       "      <td>5.292135</td>\n",
       "      <td>543.912951</td>\n",
       "      <td>48</td>\n",
       "      <td>23.0</td>\n",
       "      <td>1</td>\n",
       "      <td>1</td>\n",
       "      <td>1.0</td>\n",
       "    </tr>\n",
       "  </tbody>\n",
       "</table>\n",
       "<p>11125000 rows × 13 columns</p>\n",
       "</div>"
      ],
      "text/plain": [
       "          product  orig_price  shopper  discount  coupon_given  \\\n",
       "0               0         688     1045       0.0           0.0   \n",
       "1               1         560     1045       0.0           0.0   \n",
       "2               2         773     1045       0.0           0.0   \n",
       "3               3         722     1045       0.0           0.0   \n",
       "4               4         620     1045       0.0           0.0   \n",
       "...           ...         ...      ...       ...           ...   \n",
       "11124995      245         549      179       0.0           0.0   \n",
       "11124996      246         702      179       0.0           0.0   \n",
       "11124997      247         670      179       0.0           0.0   \n",
       "11124998      248         490      179       0.0           0.0   \n",
       "11124999      249         499      179       0.0           0.0   \n",
       "\n",
       "          price_w_discount  avg_basket_size       price  num_unique_prods  \\\n",
       "0                    688.0         8.674157  592.661917                64   \n",
       "1                    560.0         8.674157  592.661917                64   \n",
       "2                    773.0         8.674157  592.661917                64   \n",
       "3                    722.0         8.674157  592.661917                64   \n",
       "4                    620.0         8.674157  592.661917                64   \n",
       "...                    ...              ...         ...               ...   \n",
       "11124995             549.0         5.292135  543.912951                48   \n",
       "11124996             702.0         5.292135  543.912951                48   \n",
       "11124997             670.0         5.292135  543.912951                48   \n",
       "11124998             490.0         5.292135  543.912951                48   \n",
       "11124999             499.0         5.292135  543.912951                48   \n",
       "\n",
       "          num_reordered  weeks_since_prior_order  category  last_cat_order  \n",
       "0                   3.0                        1         9             0.0  \n",
       "1                  57.0                        1         4             0.0  \n",
       "2                   1.0                        1        18             0.0  \n",
       "3                   0.0                        1        21             0.0  \n",
       "4                   0.0                        1        24             0.0  \n",
       "...                 ...                      ...       ...             ...  \n",
       "11124995            0.0                       89         2             5.0  \n",
       "11124996            0.0                       89        14             0.0  \n",
       "11124997            0.0                       89        17             2.0  \n",
       "11124998            0.0                       89        19             0.0  \n",
       "11124999           23.0                        1         1             1.0  \n",
       "\n",
       "[11125000 rows x 13 columns]"
      ]
     },
     "execution_count": 59,
     "metadata": {},
     "output_type": "execute_result"
    }
   ],
   "source": [
    "X_train"
   ]
  },
  {
   "cell_type": "markdown",
   "metadata": {},
   "source": [
    "### B. Mode Declaration"
   ]
  },
  {
   "cell_type": "code",
   "execution_count": 60,
   "metadata": {},
   "outputs": [],
   "source": [
    "# Random Forest Classifier\n",
    "from sklearn.ensemble import RandomForestClassifier\n",
    "from sklearn.tree import DecisionTreeClassifier\n",
    "\n",
    "from sklearn.metrics import mean_absolute_error\n",
    "# from sklearn import tree"
   ]
  },
  {
   "cell_type": "code",
   "execution_count": null,
   "metadata": {},
   "outputs": [],
   "source": []
  },
  {
   "cell_type": "markdown",
   "metadata": {},
   "source": [
    "#### b - 1. RandomForestClassifier"
   ]
  },
  {
   "cell_type": "code",
   "execution_count": null,
   "metadata": {},
   "outputs": [
    {
     "name": "stderr",
     "output_type": "stream",
     "text": [
      "<ipython-input-61-125815dcab1f>:2: DataConversionWarning: A column-vector y was passed when a 1d array was expected. Please change the shape of y to (n_samples,), for example using ravel().\n",
      "  rfc.fit(X_train, y_train)\n"
     ]
    }
   ],
   "source": [
    "rfc = RandomForestClassifier(random_state=888, max_depth=10)\n",
    "rfc.fit(X_train, y_train)"
   ]
  },
  {
   "cell_type": "code",
   "execution_count": null,
   "metadata": {},
   "outputs": [],
   "source": [
    "rfc_pred_test = rfc.predict(X_test)\n",
    "# rfc_pred_test"
   ]
  },
  {
   "cell_type": "code",
   "execution_count": null,
   "metadata": {},
   "outputs": [],
   "source": [
    "mean_absolute_error(rfc_pred_test, y_test)"
   ]
  },
  {
   "cell_type": "code",
   "execution_count": null,
   "metadata": {},
   "outputs": [],
   "source": [
    "rfc_pred_test_prob = rfc.predict_proba(X_test)\n",
    "# rfc_pred_test_prob[:,0]"
   ]
  },
  {
   "cell_type": "code",
   "execution_count": null,
   "metadata": {},
   "outputs": [],
   "source": []
  },
  {
   "cell_type": "markdown",
   "metadata": {},
   "source": [
    "#### b - 2. DecisionTreeClassifier"
   ]
  },
  {
   "cell_type": "code",
   "execution_count": null,
   "metadata": {},
   "outputs": [],
   "source": [
    "dtc = DecisionTreeClassifier(criterion=\"gini\", max_depth=10)\n",
    "dtc.fit(X_train, y_train)"
   ]
  },
  {
   "cell_type": "code",
   "execution_count": null,
   "metadata": {},
   "outputs": [],
   "source": [
    "dtc_pred_test = dtc.predict(X_test)\n",
    "dtc_pred_test"
   ]
  },
  {
   "cell_type": "code",
   "execution_count": null,
   "metadata": {},
   "outputs": [],
   "source": [
    "mean_absolute_error(dtc_pred_test, y_test)"
   ]
  },
  {
   "cell_type": "code",
   "execution_count": null,
   "metadata": {},
   "outputs": [],
   "source": [
    "dtc_pred_test_prob = dtc.predict_proba(X_test)\n",
    "dtc_pred_test_prob[:,0]"
   ]
  },
  {
   "cell_type": "code",
   "execution_count": null,
   "metadata": {},
   "outputs": [],
   "source": []
  },
  {
   "cell_type": "markdown",
   "metadata": {},
   "source": [
    "#### b - 3. Light GBM"
   ]
  },
  {
   "cell_type": "code",
   "execution_count": null,
   "metadata": {},
   "outputs": [],
   "source": [
    "import lightgbm as lgb\n",
    "\n",
    "lgb_clf = lgb.LGBMClassifier()\n",
    "lgb_clf.fit(X_train, y_train)"
   ]
  },
  {
   "cell_type": "code",
   "execution_count": null,
   "metadata": {},
   "outputs": [],
   "source": [
    "lgb_pred_test = lgb_clf.predict(X_test)\n",
    "lgb_pred_test"
   ]
  },
  {
   "cell_type": "code",
   "execution_count": null,
   "metadata": {},
   "outputs": [],
   "source": [
    "mean_absolute_error(lgb_pred_test, y_test)"
   ]
  },
  {
   "cell_type": "code",
   "execution_count": null,
   "metadata": {},
   "outputs": [],
   "source": [
    "lgb_pred_test_prob = lgb_clf.predict_proba(X_test)\n",
    "lgb_pred_test_prob[:,0]"
   ]
  },
  {
   "cell_type": "code",
   "execution_count": null,
   "metadata": {},
   "outputs": [],
   "source": [
    "lgb_clf.score(X_train, y_train)"
   ]
  },
  {
   "cell_type": "code",
   "execution_count": null,
   "metadata": {},
   "outputs": [],
   "source": [
    "lgb_clf.score(X_test, y_test)"
   ]
  },
  {
   "cell_type": "code",
   "execution_count": null,
   "metadata": {},
   "outputs": [],
   "source": [
    "lgb.plot_importance(lgb_clf, max_num_features=10)"
   ]
  },
  {
   "cell_type": "code",
   "execution_count": null,
   "metadata": {},
   "outputs": [],
   "source": [
    "lgb.plot_importance(lgb_clf, max_num_features=10, importance_type='gain')"
   ]
  },
  {
   "cell_type": "code",
   "execution_count": null,
   "metadata": {},
   "outputs": [],
   "source": []
  },
  {
   "cell_type": "markdown",
   "metadata": {},
   "source": [
    "## Model Assessment - ROC AUC"
   ]
  },
  {
   "cell_type": "code",
   "execution_count": null,
   "metadata": {},
   "outputs": [],
   "source": [
    "from sklearn import metrics  # Important lib where we find various performance measures"
   ]
  },
  {
   "cell_type": "code",
   "execution_count": null,
   "metadata": {},
   "outputs": [],
   "source": [
    "metrics.plot_roc_curve(rfc, X_test, y_test)"
   ]
  },
  {
   "cell_type": "code",
   "execution_count": null,
   "metadata": {},
   "outputs": [],
   "source": [
    "metrics.plot_roc_curve(dtc, X_test, y_test)"
   ]
  },
  {
   "cell_type": "code",
   "execution_count": null,
   "metadata": {},
   "outputs": [],
   "source": [
    "metrics.plot_roc_curve(lgb_clf, X_test, y_test)"
   ]
  },
  {
   "cell_type": "code",
   "execution_count": null,
   "metadata": {},
   "outputs": [],
   "source": [
    "from sklearn.metrics import plot_confusion_matrix\n",
    "from sklearn.metrics import confusion_matrix\n",
    "\n",
    "y_pred = lgb_clf.predict(X_test)\n",
    "confusion = confusion_matrix(y_test, y_pred)\n",
    "plot_confusion_matrix(estimator=lgb_clf, X=X_test, y_true=y_test, display_labels=['No', 'Yes'], normalize='true')"
   ]
  },
  {
   "cell_type": "code",
   "execution_count": null,
   "metadata": {},
   "outputs": [],
   "source": [
    "confusion"
   ]
  },
  {
   "cell_type": "code",
   "execution_count": null,
   "metadata": {},
   "outputs": [],
   "source": [
    "FP = confusion[0][1]\n",
    "FN = confusion[1][0]\n",
    "TP = confusion[1][1]\n",
    "TN = confusion[0][0]\n",
    "\n",
    "# Sensitivity, hit rate, recall, or true positive rate\n",
    "TPR = TP/(TP+FN)\n",
    "# Specificity or true negative rate\n",
    "TNR = TN/(TN+FP) \n",
    "# Precision or positive predictive value\n",
    "PPV = TP/(TP+FP)\n",
    "# Negative predictive value\n",
    "NPV = TN/(TN+FN)\n",
    "# Fall out or false positive rate\n",
    "FPR = FP/(FP+TN)\n",
    "# False negative rate\n",
    "FNR = FN/(TP+FN)\n",
    "# False discovery rate\n",
    "FDR = FP/(TP+FP)\n",
    "\n",
    "# Overall accuracy\n",
    "ACC = (TP+TN)/(TP+FP+FN+TN)"
   ]
  },
  {
   "cell_type": "code",
   "execution_count": null,
   "metadata": {},
   "outputs": [],
   "source": [
    "print(f'TPR: {TPR:.4f}')\n",
    "print(f'TNR: {TNR:.4f}')\n",
    "print(f'FPR: {FPR:.4f}')\n",
    "print(f'FNR: {FNR:.4f}')\n",
    "print(f'Precision: {PPV:.4f}')\n",
    "print(f'False discovery rate: {FDR:.4f}')"
   ]
  },
  {
   "cell_type": "code",
   "execution_count": null,
   "metadata": {},
   "outputs": [],
   "source": []
  }
 ],
 "metadata": {
  "kernelspec": {
   "display_name": "Python 3",
   "language": "python",
   "name": "python3"
  },
  "language_info": {
   "codemirror_mode": {
    "name": "ipython",
    "version": 3
   },
   "file_extension": ".py",
   "mimetype": "text/x-python",
   "name": "python",
   "nbconvert_exporter": "python",
   "pygments_lexer": "ipython3",
   "version": "3.8.5"
  }
 },
 "nbformat": 4,
 "nbformat_minor": 4
}
