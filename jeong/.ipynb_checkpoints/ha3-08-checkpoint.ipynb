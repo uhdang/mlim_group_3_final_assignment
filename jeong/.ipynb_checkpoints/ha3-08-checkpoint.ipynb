{
 "cells": [
  {
   "cell_type": "markdown",
   "metadata": {},
   "source": [
    "# HA3 \"Recommender System\" take 08"
   ]
  },
  {
   "cell_type": "markdown",
   "metadata": {},
   "source": [
    "## Setup"
   ]
  },
  {
   "cell_type": "code",
   "execution_count": 1,
   "metadata": {},
   "outputs": [],
   "source": [
    "import numpy as np\n",
    "import pandas as pd\n",
    "\n",
    "from random import randrange\n",
    "\n",
    "import matplotlib.pyplot as plt"
   ]
  },
  {
   "cell_type": "markdown",
   "metadata": {},
   "source": [
    "## Load Data"
   ]
  },
  {
   "cell_type": "code",
   "execution_count": 2,
   "metadata": {},
   "outputs": [
    {
     "name": "stdout",
     "output_type": "stream",
     "text": [
      "baskets_df: (68841598, 4)\n",
      "coupons_df: (45000000, 4)\n",
      "prediction_index_df: (500000, 3)\n"
     ]
    }
   ],
   "source": [
    "file_path = \"../../data/assignment_03/\"\n",
    "\n",
    "baskets_pq = \"baskets.parquet\"\n",
    "coupons_pq = \"coupons.parquet\"\n",
    "prediction_index_pq = \"prediction_index.parquet\"\n",
    "\n",
    "b_df = pd.read_parquet(file_path + baskets_pq)\n",
    "c_df = pd.read_parquet(file_path + coupons_pq)\n",
    "pi_df = pd.read_parquet(file_path + prediction_index_pq)\n",
    "\n",
    "print(f\"baskets_df: {b_df.shape}\")\n",
    "print(f\"coupons_df: {c_df.shape}\")\n",
    "print(f\"prediction_index_df: {pi_df.shape}\")"
   ]
  },
  {
   "cell_type": "markdown",
   "metadata": {},
   "source": [
    "## Data Preprocessing"
   ]
  },
  {
   "cell_type": "markdown",
   "metadata": {},
   "source": [
    "### A. Shoppers Targetting"
   ]
  },
  {
   "cell_type": "code",
   "execution_count": 3,
   "metadata": {},
   "outputs": [],
   "source": [
    "num_of_shoppers = 100\n",
    "\n",
    "shoppers = [randrange(0, 2000) for i in range(num_of_shoppers)]\n",
    "# shoppers = [i for i in range(num_of_shoppers)]\n",
    "# shoppers"
   ]
  },
  {
   "cell_type": "markdown",
   "metadata": {},
   "source": [
    "### B. Original Prices"
   ]
  },
  {
   "cell_type": "code",
   "execution_count": 4,
   "metadata": {},
   "outputs": [
    {
     "name": "stdout",
     "output_type": "stream",
     "text": [
      "orig_price.shape: (250, 2)\n"
     ]
    },
    {
     "data": {
      "text/html": [
       "<div>\n",
       "<style scoped>\n",
       "    .dataframe tbody tr th:only-of-type {\n",
       "        vertical-align: middle;\n",
       "    }\n",
       "\n",
       "    .dataframe tbody tr th {\n",
       "        vertical-align: top;\n",
       "    }\n",
       "\n",
       "    .dataframe thead th {\n",
       "        text-align: right;\n",
       "    }\n",
       "</style>\n",
       "<table border=\"1\" class=\"dataframe\">\n",
       "  <thead>\n",
       "    <tr style=\"text-align: right;\">\n",
       "      <th></th>\n",
       "      <th>product</th>\n",
       "      <th>max</th>\n",
       "    </tr>\n",
       "  </thead>\n",
       "  <tbody>\n",
       "    <tr>\n",
       "      <th>0</th>\n",
       "      <td>0</td>\n",
       "      <td>688</td>\n",
       "    </tr>\n",
       "    <tr>\n",
       "      <th>1</th>\n",
       "      <td>1</td>\n",
       "      <td>560</td>\n",
       "    </tr>\n",
       "  </tbody>\n",
       "</table>\n",
       "</div>"
      ],
      "text/plain": [
       "   product  max\n",
       "0        0  688\n",
       "1        1  560"
      ]
     },
     "execution_count": 4,
     "metadata": {},
     "output_type": "execute_result"
    }
   ],
   "source": [
    "orig_price = b_df.groupby([\"product\"])[\"price\"].agg([\"max\"]).reset_index()\n",
    "print(f\"orig_price.shape: {orig_price.shape}\")\n",
    "orig_price.head(2)"
   ]
  },
  {
   "cell_type": "markdown",
   "metadata": {},
   "source": [
    "### C. Generate master dataframe with selected shoppers"
   ]
  },
  {
   "cell_type": "code",
   "execution_count": 5,
   "metadata": {},
   "outputs": [],
   "source": [
    "def gen_complete_week_prod_df_for_shoppers(list_shoppers, orig_df):\n",
    "    products = np.array([p for p in range(250)])\n",
    "    orig_price_list = orig_df[\"max\"].values\n",
    "    \n",
    "    weeks = [i for i in range(90)]\n",
    "    \n",
    "    product_price_pair = np.stack((products, orig_price_list), axis=0).T\n",
    "    \n",
    "    prod_in_weeks = []\n",
    "    for w in weeks:\n",
    "        for p in product_price_pair:\n",
    "            prod_in_weeks.append([w, *p])\n",
    "    \n",
    "    df_template = pd.DataFrame(data=prod_in_weeks, columns=[\"week\", \"product\", \"orig_price\"])\n",
    "    \n",
    "    df_master = None;\n",
    "    \n",
    "    for idx, shoppers in enumerate(list_shoppers):\n",
    "\n",
    "        df_local = df_template.copy()\n",
    "        df_local[\"shopper\"] = shoppers\n",
    "        \n",
    "        if idx == 0:\n",
    "            df_master = df_local\n",
    "        else:\n",
    "            # stack it\n",
    "            df_master = pd.concat([df_master, df_local], axis=0)\n",
    "    return df_master"
   ]
  },
  {
   "cell_type": "code",
   "execution_count": 6,
   "metadata": {},
   "outputs": [
    {
     "name": "stdout",
     "output_type": "stream",
     "text": [
      "df.shape: (2250000, 4)\n"
     ]
    },
    {
     "data": {
      "text/html": [
       "<div>\n",
       "<style scoped>\n",
       "    .dataframe tbody tr th:only-of-type {\n",
       "        vertical-align: middle;\n",
       "    }\n",
       "\n",
       "    .dataframe tbody tr th {\n",
       "        vertical-align: top;\n",
       "    }\n",
       "\n",
       "    .dataframe thead th {\n",
       "        text-align: right;\n",
       "    }\n",
       "</style>\n",
       "<table border=\"1\" class=\"dataframe\">\n",
       "  <thead>\n",
       "    <tr style=\"text-align: right;\">\n",
       "      <th></th>\n",
       "      <th>week</th>\n",
       "      <th>product</th>\n",
       "      <th>orig_price</th>\n",
       "      <th>shopper</th>\n",
       "    </tr>\n",
       "  </thead>\n",
       "  <tbody>\n",
       "    <tr>\n",
       "      <th>0</th>\n",
       "      <td>0</td>\n",
       "      <td>0</td>\n",
       "      <td>688</td>\n",
       "      <td>1104</td>\n",
       "    </tr>\n",
       "    <tr>\n",
       "      <th>1</th>\n",
       "      <td>0</td>\n",
       "      <td>1</td>\n",
       "      <td>560</td>\n",
       "      <td>1104</td>\n",
       "    </tr>\n",
       "    <tr>\n",
       "      <th>2</th>\n",
       "      <td>0</td>\n",
       "      <td>2</td>\n",
       "      <td>773</td>\n",
       "      <td>1104</td>\n",
       "    </tr>\n",
       "  </tbody>\n",
       "</table>\n",
       "</div>"
      ],
      "text/plain": [
       "   week  product  orig_price  shopper\n",
       "0     0        0         688     1104\n",
       "1     0        1         560     1104\n",
       "2     0        2         773     1104"
      ]
     },
     "execution_count": 6,
     "metadata": {},
     "output_type": "execute_result"
    }
   ],
   "source": [
    "df = gen_complete_week_prod_df_for_shoppers(shoppers, orig_price)\n",
    "print(f\"df.shape: {df.shape}\")\n",
    "df.head(3)"
   ]
  },
  {
   "cell_type": "code",
   "execution_count": null,
   "metadata": {},
   "outputs": [],
   "source": []
  },
  {
   "cell_type": "markdown",
   "metadata": {},
   "source": [
    "### D. Target Column added"
   ]
  },
  {
   "cell_type": "code",
   "execution_count": 7,
   "metadata": {},
   "outputs": [
    {
     "name": "stdout",
     "output_type": "stream",
     "text": [
      "df.shape: (2250000, 6)\n"
     ]
    },
    {
     "data": {
      "text/html": [
       "<div>\n",
       "<style scoped>\n",
       "    .dataframe tbody tr th:only-of-type {\n",
       "        vertical-align: middle;\n",
       "    }\n",
       "\n",
       "    .dataframe tbody tr th {\n",
       "        vertical-align: top;\n",
       "    }\n",
       "\n",
       "    .dataframe thead th {\n",
       "        text-align: right;\n",
       "    }\n",
       "</style>\n",
       "<table border=\"1\" class=\"dataframe\">\n",
       "  <thead>\n",
       "    <tr style=\"text-align: right;\">\n",
       "      <th></th>\n",
       "      <th>week</th>\n",
       "      <th>product</th>\n",
       "      <th>orig_price</th>\n",
       "      <th>shopper</th>\n",
       "      <th>price</th>\n",
       "      <th>target</th>\n",
       "    </tr>\n",
       "  </thead>\n",
       "  <tbody>\n",
       "    <tr>\n",
       "      <th>0</th>\n",
       "      <td>0</td>\n",
       "      <td>0</td>\n",
       "      <td>688</td>\n",
       "      <td>1104</td>\n",
       "      <td>NaN</td>\n",
       "      <td>0.0</td>\n",
       "    </tr>\n",
       "    <tr>\n",
       "      <th>1</th>\n",
       "      <td>0</td>\n",
       "      <td>1</td>\n",
       "      <td>560</td>\n",
       "      <td>1104</td>\n",
       "      <td>NaN</td>\n",
       "      <td>0.0</td>\n",
       "    </tr>\n",
       "    <tr>\n",
       "      <th>2</th>\n",
       "      <td>0</td>\n",
       "      <td>2</td>\n",
       "      <td>773</td>\n",
       "      <td>1104</td>\n",
       "      <td>NaN</td>\n",
       "      <td>0.0</td>\n",
       "    </tr>\n",
       "  </tbody>\n",
       "</table>\n",
       "</div>"
      ],
      "text/plain": [
       "   week  product  orig_price  shopper  price  target\n",
       "0     0        0         688     1104    NaN     0.0\n",
       "1     0        1         560     1104    NaN     0.0\n",
       "2     0        2         773     1104    NaN     0.0"
      ]
     },
     "execution_count": 7,
     "metadata": {},
     "output_type": "execute_result"
    }
   ],
   "source": [
    "b_df[\"target\"] = 1\n",
    "df = pd.merge(df, b_df, how=\"left\", on=[\"week\", \"shopper\", \"product\"])\n",
    "df[\"target\"] = df[\"target\"].fillna(0)\n",
    "print(f\"df.shape: {df.shape}\")\n",
    "df.head(3)"
   ]
  },
  {
   "cell_type": "code",
   "execution_count": null,
   "metadata": {},
   "outputs": [],
   "source": []
  },
  {
   "cell_type": "markdown",
   "metadata": {},
   "source": [
    "### E. Discount Given Column added"
   ]
  },
  {
   "cell_type": "code",
   "execution_count": 8,
   "metadata": {},
   "outputs": [
    {
     "name": "stdout",
     "output_type": "stream",
     "text": [
      "df.shape: (2250000, 8)\n"
     ]
    },
    {
     "data": {
      "text/html": [
       "<div>\n",
       "<style scoped>\n",
       "    .dataframe tbody tr th:only-of-type {\n",
       "        vertical-align: middle;\n",
       "    }\n",
       "\n",
       "    .dataframe tbody tr th {\n",
       "        vertical-align: top;\n",
       "    }\n",
       "\n",
       "    .dataframe thead th {\n",
       "        text-align: right;\n",
       "    }\n",
       "</style>\n",
       "<table border=\"1\" class=\"dataframe\">\n",
       "  <thead>\n",
       "    <tr style=\"text-align: right;\">\n",
       "      <th></th>\n",
       "      <th>week</th>\n",
       "      <th>product</th>\n",
       "      <th>orig_price</th>\n",
       "      <th>shopper</th>\n",
       "      <th>price</th>\n",
       "      <th>target</th>\n",
       "      <th>discount</th>\n",
       "      <th>coupon_given</th>\n",
       "    </tr>\n",
       "  </thead>\n",
       "  <tbody>\n",
       "    <tr>\n",
       "      <th>0</th>\n",
       "      <td>0</td>\n",
       "      <td>0</td>\n",
       "      <td>688</td>\n",
       "      <td>1104</td>\n",
       "      <td>NaN</td>\n",
       "      <td>0.0</td>\n",
       "      <td>0.0</td>\n",
       "      <td>0.0</td>\n",
       "    </tr>\n",
       "    <tr>\n",
       "      <th>1</th>\n",
       "      <td>0</td>\n",
       "      <td>1</td>\n",
       "      <td>560</td>\n",
       "      <td>1104</td>\n",
       "      <td>NaN</td>\n",
       "      <td>0.0</td>\n",
       "      <td>0.0</td>\n",
       "      <td>0.0</td>\n",
       "    </tr>\n",
       "    <tr>\n",
       "      <th>2</th>\n",
       "      <td>0</td>\n",
       "      <td>2</td>\n",
       "      <td>773</td>\n",
       "      <td>1104</td>\n",
       "      <td>NaN</td>\n",
       "      <td>0.0</td>\n",
       "      <td>0.0</td>\n",
       "      <td>0.0</td>\n",
       "    </tr>\n",
       "  </tbody>\n",
       "</table>\n",
       "</div>"
      ],
      "text/plain": [
       "   week  product  orig_price  shopper  price  target  discount  coupon_given\n",
       "0     0        0         688     1104    NaN     0.0       0.0           0.0\n",
       "1     0        1         560     1104    NaN     0.0       0.0           0.0\n",
       "2     0        2         773     1104    NaN     0.0       0.0           0.0"
      ]
     },
     "execution_count": 8,
     "metadata": {},
     "output_type": "execute_result"
    }
   ],
   "source": [
    "c_df[\"coupon_given\"] = 1\n",
    "df = df.merge(right=c_df, how=\"left\", on=[\"week\", \"shopper\", \"product\"])\n",
    "df[\"discount\"] = df[\"discount\"].fillna(0)\n",
    "df[\"coupon_given\"] = df[\"coupon_given\"].fillna(0)\n",
    "print(f\"df.shape: {df.shape}\")\n",
    "df.head(3)"
   ]
  },
  {
   "cell_type": "code",
   "execution_count": null,
   "metadata": {},
   "outputs": [],
   "source": []
  },
  {
   "cell_type": "markdown",
   "metadata": {},
   "source": [
    "### F. Price with discount"
   ]
  },
  {
   "cell_type": "code",
   "execution_count": 9,
   "metadata": {},
   "outputs": [
    {
     "data": {
      "text/html": [
       "<div>\n",
       "<style scoped>\n",
       "    .dataframe tbody tr th:only-of-type {\n",
       "        vertical-align: middle;\n",
       "    }\n",
       "\n",
       "    .dataframe tbody tr th {\n",
       "        vertical-align: top;\n",
       "    }\n",
       "\n",
       "    .dataframe thead th {\n",
       "        text-align: right;\n",
       "    }\n",
       "</style>\n",
       "<table border=\"1\" class=\"dataframe\">\n",
       "  <thead>\n",
       "    <tr style=\"text-align: right;\">\n",
       "      <th></th>\n",
       "      <th>week</th>\n",
       "      <th>product</th>\n",
       "      <th>orig_price</th>\n",
       "      <th>shopper</th>\n",
       "      <th>price</th>\n",
       "      <th>target</th>\n",
       "      <th>discount</th>\n",
       "      <th>coupon_given</th>\n",
       "      <th>price_w_discount</th>\n",
       "    </tr>\n",
       "  </thead>\n",
       "  <tbody>\n",
       "    <tr>\n",
       "      <th>0</th>\n",
       "      <td>0</td>\n",
       "      <td>0</td>\n",
       "      <td>688</td>\n",
       "      <td>1104</td>\n",
       "      <td>NaN</td>\n",
       "      <td>0.0</td>\n",
       "      <td>0.0</td>\n",
       "      <td>0.0</td>\n",
       "      <td>688.0</td>\n",
       "    </tr>\n",
       "    <tr>\n",
       "      <th>1</th>\n",
       "      <td>0</td>\n",
       "      <td>1</td>\n",
       "      <td>560</td>\n",
       "      <td>1104</td>\n",
       "      <td>NaN</td>\n",
       "      <td>0.0</td>\n",
       "      <td>0.0</td>\n",
       "      <td>0.0</td>\n",
       "      <td>560.0</td>\n",
       "    </tr>\n",
       "    <tr>\n",
       "      <th>2</th>\n",
       "      <td>0</td>\n",
       "      <td>2</td>\n",
       "      <td>773</td>\n",
       "      <td>1104</td>\n",
       "      <td>NaN</td>\n",
       "      <td>0.0</td>\n",
       "      <td>0.0</td>\n",
       "      <td>0.0</td>\n",
       "      <td>773.0</td>\n",
       "    </tr>\n",
       "  </tbody>\n",
       "</table>\n",
       "</div>"
      ],
      "text/plain": [
       "   week  product  orig_price  shopper  price  target  discount  coupon_given  \\\n",
       "0     0        0         688     1104    NaN     0.0       0.0           0.0   \n",
       "1     0        1         560     1104    NaN     0.0       0.0           0.0   \n",
       "2     0        2         773     1104    NaN     0.0       0.0           0.0   \n",
       "\n",
       "   price_w_discount  \n",
       "0             688.0  \n",
       "1             560.0  \n",
       "2             773.0  "
      ]
     },
     "execution_count": 9,
     "metadata": {},
     "output_type": "execute_result"
    }
   ],
   "source": [
    "df[\"price_w_discount\"] = df[\"orig_price\"] - df[\"discount\"]\n",
    "df.head(3)"
   ]
  },
  {
   "cell_type": "code",
   "execution_count": 10,
   "metadata": {},
   "outputs": [
    {
     "data": {
      "text/html": [
       "<div>\n",
       "<style scoped>\n",
       "    .dataframe tbody tr th:only-of-type {\n",
       "        vertical-align: middle;\n",
       "    }\n",
       "\n",
       "    .dataframe tbody tr th {\n",
       "        vertical-align: top;\n",
       "    }\n",
       "\n",
       "    .dataframe thead th {\n",
       "        text-align: right;\n",
       "    }\n",
       "</style>\n",
       "<table border=\"1\" class=\"dataframe\">\n",
       "  <thead>\n",
       "    <tr style=\"text-align: right;\">\n",
       "      <th></th>\n",
       "      <th>week</th>\n",
       "      <th>product</th>\n",
       "      <th>orig_price</th>\n",
       "      <th>shopper</th>\n",
       "      <th>target</th>\n",
       "      <th>discount</th>\n",
       "      <th>coupon_given</th>\n",
       "      <th>price_w_discount</th>\n",
       "    </tr>\n",
       "  </thead>\n",
       "  <tbody>\n",
       "    <tr>\n",
       "      <th>0</th>\n",
       "      <td>0</td>\n",
       "      <td>0</td>\n",
       "      <td>688</td>\n",
       "      <td>1104</td>\n",
       "      <td>0.0</td>\n",
       "      <td>0.0</td>\n",
       "      <td>0.0</td>\n",
       "      <td>688.0</td>\n",
       "    </tr>\n",
       "    <tr>\n",
       "      <th>1</th>\n",
       "      <td>0</td>\n",
       "      <td>1</td>\n",
       "      <td>560</td>\n",
       "      <td>1104</td>\n",
       "      <td>0.0</td>\n",
       "      <td>0.0</td>\n",
       "      <td>0.0</td>\n",
       "      <td>560.0</td>\n",
       "    </tr>\n",
       "    <tr>\n",
       "      <th>2</th>\n",
       "      <td>0</td>\n",
       "      <td>2</td>\n",
       "      <td>773</td>\n",
       "      <td>1104</td>\n",
       "      <td>0.0</td>\n",
       "      <td>0.0</td>\n",
       "      <td>0.0</td>\n",
       "      <td>773.0</td>\n",
       "    </tr>\n",
       "  </tbody>\n",
       "</table>\n",
       "</div>"
      ],
      "text/plain": [
       "   week  product  orig_price  shopper  target  discount  coupon_given  \\\n",
       "0     0        0         688     1104     0.0       0.0           0.0   \n",
       "1     0        1         560     1104     0.0       0.0           0.0   \n",
       "2     0        2         773     1104     0.0       0.0           0.0   \n",
       "\n",
       "   price_w_discount  \n",
       "0             688.0  \n",
       "1             560.0  \n",
       "2             773.0  "
      ]
     },
     "execution_count": 10,
     "metadata": {},
     "output_type": "execute_result"
    }
   ],
   "source": [
    "# price column is no longer necessary so removing it\n",
    "df = df.drop(columns=[\"price\"])\n",
    "df.head(3)"
   ]
  },
  {
   "cell_type": "code",
   "execution_count": null,
   "metadata": {},
   "outputs": [],
   "source": []
  },
  {
   "cell_type": "markdown",
   "metadata": {},
   "source": [
    "## Split Data Before Feature Engineering"
   ]
  },
  {
   "cell_type": "code",
   "execution_count": 11,
   "metadata": {},
   "outputs": [
    {
     "name": "stdout",
     "output_type": "stream",
     "text": [
      "Master: (2250000, 8), Train: (2225000, 8), Test: (25000, 8)\n"
     ]
    }
   ],
   "source": [
    "# Train: 0 - 88\n",
    "# Test: 88 - 89\n",
    "cut_day = 89\n",
    "\n",
    "# Separate train and test\n",
    "train = df[df[\"week\"] < cut_day]\n",
    "test = df[df[\"week\"] >= cut_day]\n",
    "\n",
    "b_train = b_df[b_df[\"week\"] < cut_day]\n",
    "b_test = b_df[b_df[\"week\"] >= cut_day]\n",
    "\n",
    "c_train = c_df[c_df[\"week\"] < cut_day]\n",
    "c_test = c_df[c_df[\"week\"] >= cut_day]\n",
    "\n",
    "print(f\"Master: {df.shape}, Train: {train.shape}, Test: {test.shape}\")"
   ]
  },
  {
   "cell_type": "code",
   "execution_count": null,
   "metadata": {},
   "outputs": [],
   "source": []
  },
  {
   "cell_type": "markdown",
   "metadata": {},
   "source": [
    "## Feature Engineering"
   ]
  },
  {
   "cell_type": "markdown",
   "metadata": {},
   "source": [
    "### A. Average Bakset Size per Shopper per week - Shopper's Perspective"
   ]
  },
  {
   "cell_type": "code",
   "execution_count": 12,
   "metadata": {},
   "outputs": [],
   "source": [
    "num_prod_per_week_per_shopper = b_train.groupby([\"shopper\", \"week\"], as_index=False)[\"product\"].count()\n",
    "num_prod_per_week_per_shopper = num_prod_per_week_per_shopper.rename({\"product\": \"avg_basket_size\"}, axis=1)\n",
    "avg_baskets = num_prod_per_week_per_shopper.groupby([\"shopper\"], as_index=False)[\"avg_basket_size\"].mean()"
   ]
  },
  {
   "cell_type": "code",
   "execution_count": 13,
   "metadata": {},
   "outputs": [],
   "source": [
    "# Merge to shoppers on train and test\n",
    "\n",
    "train = train.merge(avg_baskets, how=\"left\", on=\"shopper\")\n",
    "test = test.merge(avg_baskets, how=\"left\", on=\"shopper\")"
   ]
  },
  {
   "cell_type": "code",
   "execution_count": 14,
   "metadata": {},
   "outputs": [
    {
     "data": {
      "text/html": [
       "<div>\n",
       "<style scoped>\n",
       "    .dataframe tbody tr th:only-of-type {\n",
       "        vertical-align: middle;\n",
       "    }\n",
       "\n",
       "    .dataframe tbody tr th {\n",
       "        vertical-align: top;\n",
       "    }\n",
       "\n",
       "    .dataframe thead th {\n",
       "        text-align: right;\n",
       "    }\n",
       "</style>\n",
       "<table border=\"1\" class=\"dataframe\">\n",
       "  <thead>\n",
       "    <tr style=\"text-align: right;\">\n",
       "      <th></th>\n",
       "      <th>week</th>\n",
       "      <th>product</th>\n",
       "      <th>orig_price</th>\n",
       "      <th>shopper</th>\n",
       "      <th>target</th>\n",
       "      <th>discount</th>\n",
       "      <th>coupon_given</th>\n",
       "      <th>price_w_discount</th>\n",
       "      <th>avg_basket_size</th>\n",
       "    </tr>\n",
       "  </thead>\n",
       "  <tbody>\n",
       "    <tr>\n",
       "      <th>0</th>\n",
       "      <td>0</td>\n",
       "      <td>0</td>\n",
       "      <td>688</td>\n",
       "      <td>1104</td>\n",
       "      <td>0.0</td>\n",
       "      <td>0.0</td>\n",
       "      <td>0.0</td>\n",
       "      <td>688.0</td>\n",
       "      <td>7.797753</td>\n",
       "    </tr>\n",
       "    <tr>\n",
       "      <th>1</th>\n",
       "      <td>0</td>\n",
       "      <td>1</td>\n",
       "      <td>560</td>\n",
       "      <td>1104</td>\n",
       "      <td>0.0</td>\n",
       "      <td>0.0</td>\n",
       "      <td>0.0</td>\n",
       "      <td>560.0</td>\n",
       "      <td>7.797753</td>\n",
       "    </tr>\n",
       "  </tbody>\n",
       "</table>\n",
       "</div>"
      ],
      "text/plain": [
       "   week  product  orig_price  shopper  target  discount  coupon_given  \\\n",
       "0     0        0         688     1104     0.0       0.0           0.0   \n",
       "1     0        1         560     1104     0.0       0.0           0.0   \n",
       "\n",
       "   price_w_discount  avg_basket_size  \n",
       "0             688.0         7.797753  \n",
       "1             560.0         7.797753  "
      ]
     },
     "execution_count": 14,
     "metadata": {},
     "output_type": "execute_result"
    }
   ],
   "source": [
    "train.head(2)"
   ]
  },
  {
   "cell_type": "markdown",
   "metadata": {},
   "source": [
    "### B. Average Price per Shopper per Week - Shopper's Perspective\n",
    "\n",
    "- How much on average did a shopper spend a week?"
   ]
  },
  {
   "cell_type": "code",
   "execution_count": 15,
   "metadata": {},
   "outputs": [],
   "source": [
    "avg_price_per_shopper_per_week = b_train.groupby([\"shopper\"], as_index=False)[\"price\"].mean()"
   ]
  },
  {
   "cell_type": "code",
   "execution_count": 16,
   "metadata": {},
   "outputs": [],
   "source": [
    "# Include it to the shoppers\n",
    "\n",
    "train = train.merge(avg_price_per_shopper_per_week, how=\"left\", on=\"shopper\")\n",
    "test = test.merge(avg_price_per_shopper_per_week, how=\"left\", on=\"shopper\")"
   ]
  },
  {
   "cell_type": "code",
   "execution_count": 17,
   "metadata": {},
   "outputs": [
    {
     "data": {
      "text/html": [
       "<div>\n",
       "<style scoped>\n",
       "    .dataframe tbody tr th:only-of-type {\n",
       "        vertical-align: middle;\n",
       "    }\n",
       "\n",
       "    .dataframe tbody tr th {\n",
       "        vertical-align: top;\n",
       "    }\n",
       "\n",
       "    .dataframe thead th {\n",
       "        text-align: right;\n",
       "    }\n",
       "</style>\n",
       "<table border=\"1\" class=\"dataframe\">\n",
       "  <thead>\n",
       "    <tr style=\"text-align: right;\">\n",
       "      <th></th>\n",
       "      <th>week</th>\n",
       "      <th>product</th>\n",
       "      <th>orig_price</th>\n",
       "      <th>shopper</th>\n",
       "      <th>target</th>\n",
       "      <th>discount</th>\n",
       "      <th>coupon_given</th>\n",
       "      <th>price_w_discount</th>\n",
       "      <th>avg_basket_size</th>\n",
       "      <th>price</th>\n",
       "    </tr>\n",
       "  </thead>\n",
       "  <tbody>\n",
       "    <tr>\n",
       "      <th>0</th>\n",
       "      <td>0</td>\n",
       "      <td>0</td>\n",
       "      <td>688</td>\n",
       "      <td>1104</td>\n",
       "      <td>0.0</td>\n",
       "      <td>0.0</td>\n",
       "      <td>0.0</td>\n",
       "      <td>688.0</td>\n",
       "      <td>7.797753</td>\n",
       "      <td>597.842939</td>\n",
       "    </tr>\n",
       "    <tr>\n",
       "      <th>1</th>\n",
       "      <td>0</td>\n",
       "      <td>1</td>\n",
       "      <td>560</td>\n",
       "      <td>1104</td>\n",
       "      <td>0.0</td>\n",
       "      <td>0.0</td>\n",
       "      <td>0.0</td>\n",
       "      <td>560.0</td>\n",
       "      <td>7.797753</td>\n",
       "      <td>597.842939</td>\n",
       "    </tr>\n",
       "  </tbody>\n",
       "</table>\n",
       "</div>"
      ],
      "text/plain": [
       "   week  product  orig_price  shopper  target  discount  coupon_given  \\\n",
       "0     0        0         688     1104     0.0       0.0           0.0   \n",
       "1     0        1         560     1104     0.0       0.0           0.0   \n",
       "\n",
       "   price_w_discount  avg_basket_size       price  \n",
       "0             688.0         7.797753  597.842939  \n",
       "1             560.0         7.797753  597.842939  "
      ]
     },
     "execution_count": 17,
     "metadata": {},
     "output_type": "execute_result"
    }
   ],
   "source": [
    "train.head(2)"
   ]
  },
  {
   "cell_type": "markdown",
   "metadata": {},
   "source": [
    "### C. Number of Unique Products purchased per Shopper - Shopper's Perspective"
   ]
  },
  {
   "cell_type": "code",
   "execution_count": 18,
   "metadata": {},
   "outputs": [],
   "source": [
    "num_unique_prods_per_shopper = b_train.groupby([\"shopper\"], as_index=False)[\"product\"].nunique()\n",
    "num_unique_prods_per_shopper = num_unique_prods_per_shopper.rename({ \"product\": \"num_unique_prods\"}, axis=1)"
   ]
  },
  {
   "cell_type": "code",
   "execution_count": 19,
   "metadata": {},
   "outputs": [],
   "source": [
    "# Include it to the shoppers\n",
    "\n",
    "train = train.merge(num_unique_prods_per_shopper, how=\"left\", on=\"shopper\")\n",
    "test = test.merge(num_unique_prods_per_shopper, how=\"left\", on=\"shopper\")"
   ]
  },
  {
   "cell_type": "markdown",
   "metadata": {},
   "source": [
    "### D. Number of times products have been reordered - Product's perspective on Shoppers"
   ]
  },
  {
   "cell_type": "code",
   "execution_count": 20,
   "metadata": {},
   "outputs": [],
   "source": [
    "# copy product column\n",
    "num_reordered = b_train.copy()\n",
    "num_reordered[\"num_reordered\"] = num_reordered[\"product\"]\n",
    "num_reordered = num_reordered.groupby([\"shopper\", \"product\", \"num_reordered\"], as_index=False)[\"num_reordered\"].count()\n",
    "# num_reordered"
   ]
  },
  {
   "cell_type": "code",
   "execution_count": 21,
   "metadata": {},
   "outputs": [],
   "source": [
    "# Merge to train and test\n",
    "train = train.merge(num_reordered, how=\"left\", on=[\"shopper\",\"product\"])\n",
    "test = test.merge(num_reordered, how=\"left\", on=[\"shopper\",\"product\"])"
   ]
  },
  {
   "cell_type": "code",
   "execution_count": 22,
   "metadata": {},
   "outputs": [],
   "source": [
    "train[\"num_reordered\"] = train[\"num_reordered\"].fillna(0)\n",
    "test[\"num_reordered\"] = test[\"num_reordered\"].fillna(0)"
   ]
  },
  {
   "cell_type": "code",
   "execution_count": null,
   "metadata": {},
   "outputs": [],
   "source": []
  },
  {
   "cell_type": "markdown",
   "metadata": {},
   "source": [
    "### E. Weeks Since Prior Order"
   ]
  },
  {
   "cell_type": "markdown",
   "metadata": {},
   "source": [
    "#### a. train"
   ]
  },
  {
   "cell_type": "code",
   "execution_count": 23,
   "metadata": {},
   "outputs": [],
   "source": [
    "# Train set\n",
    "addkey = train.groupby(['shopper','product'])[\"target\"].apply(lambda x : x.eq(1).shift().fillna(0).cumsum())\n",
    "train['weeks_since_prior_order'] = train[\"target\"].eq(0).groupby([train['shopper'], train['product'], addkey]).cumcount().add(1) # .cumsum()"
   ]
  },
  {
   "cell_type": "code",
   "execution_count": 24,
   "metadata": {},
   "outputs": [
    {
     "data": {
      "text/html": [
       "<div>\n",
       "<style scoped>\n",
       "    .dataframe tbody tr th:only-of-type {\n",
       "        vertical-align: middle;\n",
       "    }\n",
       "\n",
       "    .dataframe tbody tr th {\n",
       "        vertical-align: top;\n",
       "    }\n",
       "\n",
       "    .dataframe thead th {\n",
       "        text-align: right;\n",
       "    }\n",
       "</style>\n",
       "<table border=\"1\" class=\"dataframe\">\n",
       "  <thead>\n",
       "    <tr style=\"text-align: right;\">\n",
       "      <th></th>\n",
       "      <th>week</th>\n",
       "      <th>product</th>\n",
       "      <th>orig_price</th>\n",
       "      <th>shopper</th>\n",
       "      <th>target</th>\n",
       "      <th>discount</th>\n",
       "      <th>coupon_given</th>\n",
       "      <th>price_w_discount</th>\n",
       "      <th>avg_basket_size</th>\n",
       "      <th>price</th>\n",
       "      <th>num_unique_prods</th>\n",
       "      <th>num_reordered</th>\n",
       "      <th>weeks_since_prior_order</th>\n",
       "    </tr>\n",
       "  </thead>\n",
       "  <tbody>\n",
       "    <tr>\n",
       "      <th>865435</th>\n",
       "      <td>79</td>\n",
       "      <td>185</td>\n",
       "      <td>541</td>\n",
       "      <td>590</td>\n",
       "      <td>0.0</td>\n",
       "      <td>0.0</td>\n",
       "      <td>0.0</td>\n",
       "      <td>541.0</td>\n",
       "      <td>8.247191</td>\n",
       "      <td>577.757493</td>\n",
       "      <td>66</td>\n",
       "      <td>0.0</td>\n",
       "      <td>80</td>\n",
       "    </tr>\n",
       "    <tr>\n",
       "      <th>637340</th>\n",
       "      <td>57</td>\n",
       "      <td>90</td>\n",
       "      <td>549</td>\n",
       "      <td>332</td>\n",
       "      <td>0.0</td>\n",
       "      <td>0.0</td>\n",
       "      <td>0.0</td>\n",
       "      <td>549.0</td>\n",
       "      <td>8.089888</td>\n",
       "      <td>589.665278</td>\n",
       "      <td>96</td>\n",
       "      <td>0.0</td>\n",
       "      <td>58</td>\n",
       "    </tr>\n",
       "    <tr>\n",
       "      <th>1157869</th>\n",
       "      <td>3</td>\n",
       "      <td>119</td>\n",
       "      <td>532</td>\n",
       "      <td>811</td>\n",
       "      <td>0.0</td>\n",
       "      <td>0.0</td>\n",
       "      <td>0.0</td>\n",
       "      <td>532.0</td>\n",
       "      <td>6.123596</td>\n",
       "      <td>580.328440</td>\n",
       "      <td>63</td>\n",
       "      <td>0.0</td>\n",
       "      <td>4</td>\n",
       "    </tr>\n",
       "    <tr>\n",
       "      <th>586484</th>\n",
       "      <td>31</td>\n",
       "      <td>234</td>\n",
       "      <td>456</td>\n",
       "      <td>1572</td>\n",
       "      <td>0.0</td>\n",
       "      <td>0.0</td>\n",
       "      <td>0.0</td>\n",
       "      <td>456.0</td>\n",
       "      <td>6.752809</td>\n",
       "      <td>569.931780</td>\n",
       "      <td>58</td>\n",
       "      <td>1.0</td>\n",
       "      <td>32</td>\n",
       "    </tr>\n",
       "    <tr>\n",
       "      <th>1921181</th>\n",
       "      <td>30</td>\n",
       "      <td>181</td>\n",
       "      <td>493</td>\n",
       "      <td>1041</td>\n",
       "      <td>0.0</td>\n",
       "      <td>0.0</td>\n",
       "      <td>0.0</td>\n",
       "      <td>493.0</td>\n",
       "      <td>8.415730</td>\n",
       "      <td>614.093458</td>\n",
       "      <td>81</td>\n",
       "      <td>0.0</td>\n",
       "      <td>31</td>\n",
       "    </tr>\n",
       "  </tbody>\n",
       "</table>\n",
       "</div>"
      ],
      "text/plain": [
       "         week  product  orig_price  shopper  target  discount  coupon_given  \\\n",
       "865435     79      185         541      590     0.0       0.0           0.0   \n",
       "637340     57       90         549      332     0.0       0.0           0.0   \n",
       "1157869     3      119         532      811     0.0       0.0           0.0   \n",
       "586484     31      234         456     1572     0.0       0.0           0.0   \n",
       "1921181    30      181         493     1041     0.0       0.0           0.0   \n",
       "\n",
       "         price_w_discount  avg_basket_size       price  num_unique_prods  \\\n",
       "865435              541.0         8.247191  577.757493                66   \n",
       "637340              549.0         8.089888  589.665278                96   \n",
       "1157869             532.0         6.123596  580.328440                63   \n",
       "586484              456.0         6.752809  569.931780                58   \n",
       "1921181             493.0         8.415730  614.093458                81   \n",
       "\n",
       "         num_reordered  weeks_since_prior_order  \n",
       "865435             0.0                       80  \n",
       "637340             0.0                       58  \n",
       "1157869            0.0                        4  \n",
       "586484             1.0                       32  \n",
       "1921181            0.0                       31  "
      ]
     },
     "execution_count": 24,
     "metadata": {},
     "output_type": "execute_result"
    }
   ],
   "source": [
    "train.sample(5)"
   ]
  },
  {
   "cell_type": "markdown",
   "metadata": {},
   "source": [
    "#### b. test"
   ]
  },
  {
   "cell_type": "code",
   "execution_count": 25,
   "metadata": {},
   "outputs": [],
   "source": [
    "# Test set\n",
    "last_weeks_since_prior_order = train.groupby(['shopper', 'product']).weeks_since_prior_order.last() + 1"
   ]
  },
  {
   "cell_type": "code",
   "execution_count": 26,
   "metadata": {},
   "outputs": [],
   "source": [
    "test = test.merge(last_weeks_since_prior_order, on=['shopper', 'product'])"
   ]
  },
  {
   "cell_type": "code",
   "execution_count": null,
   "metadata": {},
   "outputs": [],
   "source": []
  },
  {
   "cell_type": "markdown",
   "metadata": {},
   "source": [
    "### F. Category"
   ]
  },
  {
   "cell_type": "markdown",
   "metadata": {},
   "source": [
    "#### f - 1. gensim Word2Vec"
   ]
  },
  {
   "cell_type": "code",
   "execution_count": 27,
   "metadata": {},
   "outputs": [],
   "source": [
    "from gensim.models import Word2Vec\n",
    "from sklearn.decomposition import PCA\n",
    "from sklearn.manifold import TSNE"
   ]
  },
  {
   "cell_type": "code",
   "execution_count": 28,
   "metadata": {},
   "outputs": [
    {
     "name": "stderr",
     "output_type": "stream",
     "text": [
      "<ipython-input-28-b470deef2cb6>:9: SettingWithCopyWarning: \n",
      "A value is trying to be set on a copy of a slice from a DataFrame.\n",
      "Try using .loc[row_indexer,col_indexer] = value instead\n",
      "\n",
      "See the caveats in the documentation: https://pandas.pydata.org/pandas-docs/stable/user_guide/indexing.html#returning-a-view-versus-a-copy\n",
      "  by_basket_str[\"product\"] = by_basket_str[\"product\"].astype(str)\n"
     ]
    }
   ],
   "source": [
    "# Caution ! Takes REAALLY Long !!\n",
    "# TEMPORARY - Since target shopper is limited to 2000, reduce the basket to 2000\n",
    "\n",
    "# by basket => groupby([\"week\", \"shopper\"])\n",
    "\n",
    "num_shoppers = 5000\n",
    "\n",
    "by_basket_str = b_df[b_df[\"shopper\"] < num_shoppers]\n",
    "by_basket_str[\"product\"] = by_basket_str[\"product\"].astype(str)\n",
    "by_basket_str = by_basket_str.groupby([\"week\", \"shopper\"])[\"product\"].apply(list).reset_index(name=\"list_prod\")"
   ]
  },
  {
   "cell_type": "code",
   "execution_count": 29,
   "metadata": {},
   "outputs": [
    {
     "data": {
      "text/html": [
       "<div>\n",
       "<style scoped>\n",
       "    .dataframe tbody tr th:only-of-type {\n",
       "        vertical-align: middle;\n",
       "    }\n",
       "\n",
       "    .dataframe tbody tr th {\n",
       "        vertical-align: top;\n",
       "    }\n",
       "\n",
       "    .dataframe thead th {\n",
       "        text-align: right;\n",
       "    }\n",
       "</style>\n",
       "<table border=\"1\" class=\"dataframe\">\n",
       "  <thead>\n",
       "    <tr style=\"text-align: right;\">\n",
       "      <th></th>\n",
       "      <th>week</th>\n",
       "      <th>shopper</th>\n",
       "      <th>list_prod</th>\n",
       "    </tr>\n",
       "  </thead>\n",
       "  <tbody>\n",
       "    <tr>\n",
       "      <th>0</th>\n",
       "      <td>0</td>\n",
       "      <td>0</td>\n",
       "      <td>[71, 91, 116, 123, 157, 167, 171, 184, 207, 225]</td>\n",
       "    </tr>\n",
       "    <tr>\n",
       "      <th>1</th>\n",
       "      <td>0</td>\n",
       "      <td>1</td>\n",
       "      <td>[22, 35, 92, 146, 168, 200, 211, 229]</td>\n",
       "    </tr>\n",
       "    <tr>\n",
       "      <th>2</th>\n",
       "      <td>0</td>\n",
       "      <td>2</td>\n",
       "      <td>[14, 121, 164, 218, 230, 249]</td>\n",
       "    </tr>\n",
       "    <tr>\n",
       "      <th>3</th>\n",
       "      <td>0</td>\n",
       "      <td>3</td>\n",
       "      <td>[6, 67, 98, 137, 145, 192, 222]</td>\n",
       "    </tr>\n",
       "    <tr>\n",
       "      <th>4</th>\n",
       "      <td>0</td>\n",
       "      <td>4</td>\n",
       "      <td>[25, 76, 156, 188, 234]</td>\n",
       "    </tr>\n",
       "  </tbody>\n",
       "</table>\n",
       "</div>"
      ],
      "text/plain": [
       "   week  shopper                                         list_prod\n",
       "0     0        0  [71, 91, 116, 123, 157, 167, 171, 184, 207, 225]\n",
       "1     0        1             [22, 35, 92, 146, 168, 200, 211, 229]\n",
       "2     0        2                     [14, 121, 164, 218, 230, 249]\n",
       "3     0        3                   [6, 67, 98, 137, 145, 192, 222]\n",
       "4     0        4                           [25, 76, 156, 188, 234]"
      ]
     },
     "execution_count": 29,
     "metadata": {},
     "output_type": "execute_result"
    }
   ],
   "source": [
    "by_basket_str.head()"
   ]
  },
  {
   "cell_type": "code",
   "execution_count": 30,
   "metadata": {},
   "outputs": [],
   "source": [
    "by_basket = by_basket_str[\"list_prod\"].tolist()"
   ]
  },
  {
   "cell_type": "code",
   "execution_count": 31,
   "metadata": {},
   "outputs": [
    {
     "name": "stdout",
     "output_type": "stream",
     "text": [
      "Word2Vec(vocab=250, size=100, alpha=0.025)\n"
     ]
    }
   ],
   "source": [
    "# Create a Word2Vec model\n",
    "w2v_model = Word2Vec(\n",
    "    sentences=by_basket,\n",
    "    min_count=10,\n",
    "    negative=5,\n",
    "    sample=0,\n",
    "    sg=1,\n",
    "    workers=10,\n",
    ")\n",
    "\n",
    "# summarize the loaded model\n",
    "print(w2v_model)"
   ]
  },
  {
   "cell_type": "code",
   "execution_count": 32,
   "metadata": {},
   "outputs": [
    {
     "name": "stdout",
     "output_type": "stream",
     "text": [
      "Words Length: 250\n",
      "['71', '91', '116', '123', '157', '167', '171', '184', '207', '225']\n"
     ]
    }
   ],
   "source": [
    "# Summarize vocabulary\n",
    "words = list(w2v_model.wv.vocab)\n",
    "print(\"Words Length: {}\".format(len(words)))\n",
    "print(words[0:10])"
   ]
  },
  {
   "cell_type": "code",
   "execution_count": 33,
   "metadata": {},
   "outputs": [
    {
     "name": "stdout",
     "output_type": "stream",
     "text": [
      "[('74', 0.6760458946228027), ('71', 0.6676470041275024), ('79', 0.6443140506744385), ('72', 0.6296259760856628), ('73', 0.6281592845916748), ('78', 0.6244284510612488), ('75', 0.6129441857337952), ('77', 0.5983553528785706), ('70', 0.5030338764190674), ('4', 0.28962719440460205)]\n",
      "Product Vector size: 100\n",
      "[-4.49244022e-01  9.97306686e-03  2.50140578e-02 -2.03035012e-01\n",
      " -1.32893711e-01  1.85158998e-02 -4.33086574e-01 -6.13075197e-01\n",
      " -2.15376049e-01 -8.98842327e-03 -3.89670730e-02 -3.13917957e-02\n",
      " -6.07176423e-02 -3.02777976e-01 -7.64972195e-02  5.09481370e-01\n",
      " -2.29339629e-01 -1.43286571e-01  4.71261851e-02 -2.90716469e-01\n",
      "  2.09645629e-01  5.09737670e-01 -2.71235168e-01  3.26186381e-02\n",
      "  7.53157884e-02 -1.36387661e-01 -2.37643614e-01 -1.21975492e-03\n",
      "  1.86619386e-01  9.81405824e-02 -2.00293317e-01  4.34978269e-02\n",
      " -2.50853121e-01  1.57074049e-01 -2.35967696e-01 -3.13234746e-01\n",
      " -1.90181136e-02  3.30818325e-01  4.14373316e-02  2.55834192e-01\n",
      "  7.01626539e-01  1.44468313e-02  6.81848614e-04 -1.62931666e-01\n",
      " -1.85008477e-02 -4.29160088e-01 -2.97823548e-01 -3.12818348e-01\n",
      " -5.88288128e-01  1.48139475e-02  1.77259907e-01 -3.32147717e-01\n",
      " -1.96858525e-01 -5.72597794e-02  6.93623498e-02  3.05427313e-01\n",
      "  4.81490016e-01  1.74760729e-01 -1.88638300e-01 -2.80173451e-01\n",
      "  3.03414524e-01  3.61958355e-01 -1.54125899e-01 -2.93818355e-01\n",
      " -3.57503772e-01 -1.71732113e-01  2.25189701e-01 -4.14303467e-02\n",
      "  6.40883923e-01 -8.75007287e-02 -2.17447519e-01  7.07082376e-02\n",
      " -5.00327885e-01  3.12441081e-01  3.06888849e-01 -5.85512102e-01\n",
      " -1.29270077e-01 -2.26176396e-01 -5.69209516e-01  3.20687562e-01\n",
      " -1.20781913e-01  1.84260309e-02 -1.97944507e-01 -3.10053080e-01\n",
      " -3.61768544e-01  4.62519079e-01  2.73002416e-01 -3.03549588e-01\n",
      " -3.89484733e-01 -1.91085577e-01 -1.99077293e-01 -2.16456115e-01\n",
      " -3.43566209e-01  2.78946668e-01 -2.94200838e-01  3.45541015e-02\n",
      " -1.69941574e-01 -1.30757466e-02 -3.46204638e-01  1.04842104e-01]\n"
     ]
    },
    {
     "name": "stderr",
     "output_type": "stream",
     "text": [
      "<ipython-input-33-aff2342eceae>:5: DeprecationWarning: Call to deprecated `__getitem__` (Method will be removed in 4.0.0, use self.wv.__getitem__() instead).\n",
      "  print(f\"Product Vector size: {len(w2v_model['76'])}\")\n",
      "<ipython-input-33-aff2342eceae>:6: DeprecationWarning: Call to deprecated `__getitem__` (Method will be removed in 4.0.0, use self.wv.__getitem__() instead).\n",
      "  print(w2v_model[\"76\"])\n"
     ]
    }
   ],
   "source": [
    "# Product vector for 76\n",
    "\n",
    "# Most similar to a sample product 76\n",
    "print(w2v_model.wv.most_similar(positive='76'))\n",
    "print(f\"Product Vector size: {len(w2v_model['76'])}\")\n",
    "print(w2v_model[\"76\"])"
   ]
  },
  {
   "cell_type": "markdown",
   "metadata": {},
   "source": [
    "#### f - 2. t-SNE"
   ]
  },
  {
   "cell_type": "code",
   "execution_count": 34,
   "metadata": {},
   "outputs": [
    {
     "name": "stdout",
     "output_type": "stream",
     "text": [
      "(250, 100)\n"
     ]
    },
    {
     "name": "stderr",
     "output_type": "stream",
     "text": [
      "<ipython-input-34-a34c8899bf7e>:1: DeprecationWarning: Call to deprecated `__getitem__` (Method will be removed in 4.0.0, use self.wv.__getitem__() instead).\n",
      "  X = w2v_model[w2v_model.wv.vocab]\n"
     ]
    },
    {
     "data": {
      "text/plain": [
       "array([[-0.34244356, -0.05760932,  0.24777894, ...,  0.16187362,\n",
       "        -0.27812737,  0.1638071 ],\n",
       "       [ 0.05904718,  0.04692873, -0.242651  , ...,  0.31054577,\n",
       "        -0.15847665,  0.07221832],\n",
       "       [-0.11699706,  0.04748468, -0.08091777, ..., -0.0894508 ,\n",
       "         0.98365635, -0.5059344 ],\n",
       "       ...,\n",
       "       [-0.23771392,  0.645384  ,  0.46345192, ..., -0.06572494,\n",
       "         0.0599285 , -0.20345847],\n",
       "       [ 0.4479573 ,  0.3027231 ,  0.66288567, ...,  0.23501475,\n",
       "         0.11038926,  0.16647281],\n",
       "       [ 0.18279634,  0.2683801 ,  0.32180232, ...,  0.48424897,\n",
       "        -0.63083535,  0.24094461]], dtype=float32)"
      ]
     },
     "execution_count": 34,
     "metadata": {},
     "output_type": "execute_result"
    }
   ],
   "source": [
    "X = w2v_model[w2v_model.wv.vocab]\n",
    "print(X.shape)\n",
    "X"
   ]
  },
  {
   "cell_type": "code",
   "execution_count": 35,
   "metadata": {},
   "outputs": [],
   "source": [
    "N = 1000\n",
    "\n",
    "config_tsne = {\n",
    "    \"n_components\": 2,\n",
    "    \"init\": \"pca\",\n",
    "    \"random_state\": 0,\n",
    "    \"n_iter\": 1_000,\n",
    "}"
   ]
  },
  {
   "cell_type": "code",
   "execution_count": 36,
   "metadata": {},
   "outputs": [],
   "source": [
    "tsne = TSNE(**config_tsne)\n",
    "Y_tsne = tsne.fit_transform(X)"
   ]
  },
  {
   "cell_type": "code",
   "execution_count": 37,
   "metadata": {},
   "outputs": [
    {
     "data": {
      "text/plain": [
       "array([[  1.1582096 ,  12.488287  ],\n",
       "       [ -0.8076913 ,   1.7598119 ],\n",
       "       [  1.4009496 ,  -2.5836122 ],\n",
       "       [ -2.5221133 ,   7.001284  ],\n",
       "       [  7.4291296 ,  -2.2307496 ],\n",
       "       [  2.5239587 ,   6.602171  ],\n",
       "       [  9.496319  ,   1.7846711 ],\n",
       "       [ -0.37547067,  -7.240789  ],\n",
       "       [-12.406553  ,  -5.366438  ],\n",
       "       [ 13.734221  ,   6.020823  ]], dtype=float32)"
      ]
     },
     "execution_count": 37,
     "metadata": {},
     "output_type": "execute_result"
    }
   ],
   "source": [
    "Y_tsne[0:10]"
   ]
  },
  {
   "cell_type": "code",
   "execution_count": 38,
   "metadata": {},
   "outputs": [
    {
     "data": {
      "text/plain": [
       "0.418730229139328"
      ]
     },
     "execution_count": 38,
     "metadata": {},
     "output_type": "execute_result"
    }
   ],
   "source": [
    "# kl_divergence - What does this indicate ?\n",
    "tsne.kl_divergence_"
   ]
  },
  {
   "cell_type": "code",
   "execution_count": 39,
   "metadata": {},
   "outputs": [
    {
     "data": {
      "text/plain": [
       "200.0"
      ]
     },
     "execution_count": 39,
     "metadata": {},
     "output_type": "execute_result"
    }
   ],
   "source": [
    "# Learning rate\n",
    "tsne.learning_rate"
   ]
  },
  {
   "cell_type": "code",
   "execution_count": 40,
   "metadata": {},
   "outputs": [
    {
     "data": {
      "text/plain": [
       "'barnes_hut'"
      ]
     },
     "execution_count": 40,
     "metadata": {},
     "output_type": "execute_result"
    }
   ],
   "source": [
    "# Method\n",
    "tsne.method"
   ]
  },
  {
   "cell_type": "code",
   "execution_count": 41,
   "metadata": {},
   "outputs": [
    {
     "data": {
      "image/png": "[encoded data removed]",
      "text/plain": [
       "<Figure size 432x288 with 1 Axes>"
      ]
     },
     "metadata": {
      "needs_background": "light"
     },
     "output_type": "display_data"
    }
   ],
   "source": [
    "# We see 25 clusters\n",
    "plt.scatter(Y_tsne[:, 0], Y_tsne[:, 1], cmap=plt.cm.Spectral)\n",
    "plt.show()"
   ]
  },
  {
   "cell_type": "code",
   "execution_count": 42,
   "metadata": {},
   "outputs": [],
   "source": [
    "# kMeans\n",
    "from sklearn.cluster import KMeans"
   ]
  },
  {
   "cell_type": "code",
   "execution_count": 43,
   "metadata": {},
   "outputs": [
    {
     "data": {
      "text/plain": [
       "array([[  1.1582096 ,  12.488287  ],\n",
       "       [ -0.8076913 ,   1.7598119 ],\n",
       "       [  1.4009496 ,  -2.5836122 ],\n",
       "       [ -2.5221133 ,   7.001284  ],\n",
       "       [  7.4291296 ,  -2.2307496 ],\n",
       "       [  2.5239587 ,   6.602171  ],\n",
       "       [  9.496319  ,   1.7846711 ],\n",
       "       [ -0.37547067,  -7.240789  ],\n",
       "       [-12.406553  ,  -5.366438  ],\n",
       "       [ 13.734221  ,   6.020823  ]], dtype=float32)"
      ]
     },
     "execution_count": 43,
     "metadata": {},
     "output_type": "execute_result"
    }
   ],
   "source": [
    "Y_tsne[0:10]"
   ]
  },
  {
   "cell_type": "code",
   "execution_count": 44,
   "metadata": {},
   "outputs": [
    {
     "data": {
      "text/plain": [
       "array([19,  1, 24, 15, 14, 11,  2,  5,  0, 17,  3,  9,  1, 21, 11,  0,  6,\n",
       "       17, 10, 15, 11,  6, 20, 13, 12,  7,  1, 22, 21,  4, 17,  3, 19, 14,\n",
       "        5, 20, 23, 21, 17, 13, 10,  8, 24, 21,  4, 20,  7, 19,  8, 24, 14,\n",
       "        5,  4,  3,  9, 19, 23, 21, 14,  4, 17, 18,  7,  0, 19,  8, 15, 12,\n",
       "        7,  1,  8, 24, 22,  5, 13, 12, 21, 11,  1, 24, 22, 14,  5,  4, 18,\n",
       "       19,  0, 13,  3, 24, 13, 18,  8,  4, 12,  6, 10,  9,  1,  8,  2,  0,\n",
       "       15,  4,  6, 13, 16,  7, 15, 22, 17, 20,  9, 23, 11, 23, 14, 18, 18,\n",
       "        7,  5,  6, 12, 18, 16,  5,  4, 10, 21, 14, 15,  3, 18,  0, 18, 15,\n",
       "        9, 23, 14, 11,  2,  5, 17,  9, 18, 19, 23,  1, 11, 10,  3, 19, 22,\n",
       "        9,  7, 24, 12,  4, 20,  3, 18, 15,  7,  4, 17,  9, 13, 10,  9, 12,\n",
       "       21, 14, 10, 21,  2, 16, 10,  0,  6, 16, 20,  3, 24, 24, 10, 17,  0,\n",
       "       21,  6, 13, 16,  8, 20,  7, 19,  1, 22,  2, 22,  7, 22, 12, 11,  2,\n",
       "        6, 15,  3,  8, 23,  5, 13, 11,  0, 14, 12,  1,  2,  8,  1, 24,  3,\n",
       "       23,  8,  6,  5,  2, 13, 16, 15, 16, 20, 17, 23,  2, 22, 20,  0, 22,\n",
       "        6, 16,  9, 19, 16, 20, 10, 16, 12, 11, 23,  2], dtype=int32)"
      ]
     },
     "execution_count": 44,
     "metadata": {},
     "output_type": "execute_result"
    }
   ],
   "source": [
    "kmeans = KMeans(n_clusters=25, random_state=0).fit(Y_tsne)\n",
    "kmeans.labels_"
   ]
  },
  {
   "cell_type": "code",
   "execution_count": 45,
   "metadata": {},
   "outputs": [
    {
     "data": {
      "text/html": [
       "<div>\n",
       "<style scoped>\n",
       "    .dataframe tbody tr th:only-of-type {\n",
       "        vertical-align: middle;\n",
       "    }\n",
       "\n",
       "    .dataframe tbody tr th {\n",
       "        vertical-align: top;\n",
       "    }\n",
       "\n",
       "    .dataframe thead th {\n",
       "        text-align: right;\n",
       "    }\n",
       "</style>\n",
       "<table border=\"1\" class=\"dataframe\">\n",
       "  <thead>\n",
       "    <tr style=\"text-align: right;\">\n",
       "      <th></th>\n",
       "      <th>product</th>\n",
       "      <th>category</th>\n",
       "    </tr>\n",
       "  </thead>\n",
       "  <tbody>\n",
       "    <tr>\n",
       "      <th>0</th>\n",
       "      <td>0</td>\n",
       "      <td>19</td>\n",
       "    </tr>\n",
       "    <tr>\n",
       "      <th>1</th>\n",
       "      <td>1</td>\n",
       "      <td>1</td>\n",
       "    </tr>\n",
       "    <tr>\n",
       "      <th>2</th>\n",
       "      <td>2</td>\n",
       "      <td>24</td>\n",
       "    </tr>\n",
       "    <tr>\n",
       "      <th>3</th>\n",
       "      <td>3</td>\n",
       "      <td>15</td>\n",
       "    </tr>\n",
       "    <tr>\n",
       "      <th>4</th>\n",
       "      <td>4</td>\n",
       "      <td>14</td>\n",
       "    </tr>\n",
       "  </tbody>\n",
       "</table>\n",
       "</div>"
      ],
      "text/plain": [
       "   product  category\n",
       "0        0        19\n",
       "1        1         1\n",
       "2        2        24\n",
       "3        3        15\n",
       "4        4        14"
      ]
     },
     "execution_count": 45,
     "metadata": {},
     "output_type": "execute_result"
    }
   ],
   "source": [
    "# Generate a product category\n",
    "products = [product for product in range(250)]\n",
    "prods_cat_table = pd.DataFrame(data=products, columns=[\"product\"])\n",
    "prods_cat_table[\"category\"] = kmeans.labels_\n",
    "prods_cat_table.head()"
   ]
  },
  {
   "cell_type": "code",
   "execution_count": null,
   "metadata": {},
   "outputs": [],
   "source": []
  },
  {
   "cell_type": "code",
   "execution_count": 46,
   "metadata": {},
   "outputs": [],
   "source": [
    "train = train.merge(right=prods_cat_table, how=\"left\", on=[\"product\"])\n",
    "test = test.merge(right=prods_cat_table, how=\"left\", on=[\"product\"])"
   ]
  },
  {
   "cell_type": "code",
   "execution_count": 47,
   "metadata": {},
   "outputs": [
    {
     "data": {
      "text/html": [
       "<div>\n",
       "<style scoped>\n",
       "    .dataframe tbody tr th:only-of-type {\n",
       "        vertical-align: middle;\n",
       "    }\n",
       "\n",
       "    .dataframe tbody tr th {\n",
       "        vertical-align: top;\n",
       "    }\n",
       "\n",
       "    .dataframe thead th {\n",
       "        text-align: right;\n",
       "    }\n",
       "</style>\n",
       "<table border=\"1\" class=\"dataframe\">\n",
       "  <thead>\n",
       "    <tr style=\"text-align: right;\">\n",
       "      <th></th>\n",
       "      <th>week</th>\n",
       "      <th>product</th>\n",
       "      <th>orig_price</th>\n",
       "      <th>shopper</th>\n",
       "      <th>target</th>\n",
       "      <th>discount</th>\n",
       "      <th>coupon_given</th>\n",
       "      <th>price_w_discount</th>\n",
       "      <th>avg_basket_size</th>\n",
       "      <th>price</th>\n",
       "      <th>num_unique_prods</th>\n",
       "      <th>num_reordered</th>\n",
       "      <th>weeks_since_prior_order</th>\n",
       "      <th>category</th>\n",
       "    </tr>\n",
       "  </thead>\n",
       "  <tbody>\n",
       "  </tbody>\n",
       "</table>\n",
       "</div>"
      ],
      "text/plain": [
       "Empty DataFrame\n",
       "Columns: [week, product, orig_price, shopper, target, discount, coupon_given, price_w_discount, avg_basket_size, price, num_unique_prods, num_reordered, weeks_since_prior_order, category]\n",
       "Index: []"
      ]
     },
     "execution_count": 47,
     "metadata": {},
     "output_type": "execute_result"
    }
   ],
   "source": [
    "train[(train[\"shopper\"] == 0) & (train[\"target\"] == 1) & (train[\"product\"] == 4)]"
   ]
  },
  {
   "cell_type": "code",
   "execution_count": 48,
   "metadata": {},
   "outputs": [
    {
     "data": {
      "text/html": [
       "<div>\n",
       "<style scoped>\n",
       "    .dataframe tbody tr th:only-of-type {\n",
       "        vertical-align: middle;\n",
       "    }\n",
       "\n",
       "    .dataframe tbody tr th {\n",
       "        vertical-align: top;\n",
       "    }\n",
       "\n",
       "    .dataframe thead th {\n",
       "        text-align: right;\n",
       "    }\n",
       "</style>\n",
       "<table border=\"1\" class=\"dataframe\">\n",
       "  <thead>\n",
       "    <tr style=\"text-align: right;\">\n",
       "      <th></th>\n",
       "      <th>week</th>\n",
       "      <th>product</th>\n",
       "      <th>orig_price</th>\n",
       "      <th>shopper</th>\n",
       "      <th>target</th>\n",
       "      <th>discount</th>\n",
       "      <th>coupon_given</th>\n",
       "      <th>price_w_discount</th>\n",
       "      <th>avg_basket_size</th>\n",
       "      <th>price</th>\n",
       "      <th>num_unique_prods</th>\n",
       "      <th>num_reordered</th>\n",
       "      <th>weeks_since_prior_order</th>\n",
       "      <th>category</th>\n",
       "    </tr>\n",
       "  </thead>\n",
       "  <tbody>\n",
       "  </tbody>\n",
       "</table>\n",
       "</div>"
      ],
      "text/plain": [
       "Empty DataFrame\n",
       "Columns: [week, product, orig_price, shopper, target, discount, coupon_given, price_w_discount, avg_basket_size, price, num_unique_prods, num_reordered, weeks_since_prior_order, category]\n",
       "Index: []"
      ]
     },
     "execution_count": 48,
     "metadata": {},
     "output_type": "execute_result"
    }
   ],
   "source": [
    "train[(train[\"shopper\"] == 0) & (train[\"target\"] == 1) & (train[\"category\"] == 20)].tail(20)"
   ]
  },
  {
   "cell_type": "code",
   "execution_count": 49,
   "metadata": {},
   "outputs": [
    {
     "data": {
      "text/html": [
       "<div>\n",
       "<style scoped>\n",
       "    .dataframe tbody tr th:only-of-type {\n",
       "        vertical-align: middle;\n",
       "    }\n",
       "\n",
       "    .dataframe tbody tr th {\n",
       "        vertical-align: top;\n",
       "    }\n",
       "\n",
       "    .dataframe thead th {\n",
       "        text-align: right;\n",
       "    }\n",
       "</style>\n",
       "<table border=\"1\" class=\"dataframe\">\n",
       "  <thead>\n",
       "    <tr style=\"text-align: right;\">\n",
       "      <th></th>\n",
       "      <th>week</th>\n",
       "      <th>product</th>\n",
       "      <th>orig_price</th>\n",
       "      <th>shopper</th>\n",
       "      <th>target</th>\n",
       "      <th>discount</th>\n",
       "      <th>coupon_given</th>\n",
       "      <th>price_w_discount</th>\n",
       "      <th>avg_basket_size</th>\n",
       "      <th>price</th>\n",
       "      <th>num_unique_prods</th>\n",
       "      <th>num_reordered</th>\n",
       "      <th>weeks_since_prior_order</th>\n",
       "      <th>category</th>\n",
       "    </tr>\n",
       "  </thead>\n",
       "  <tbody>\n",
       "  </tbody>\n",
       "</table>\n",
       "</div>"
      ],
      "text/plain": [
       "Empty DataFrame\n",
       "Columns: [week, product, orig_price, shopper, target, discount, coupon_given, price_w_discount, avg_basket_size, price, num_unique_prods, num_reordered, weeks_since_prior_order, category]\n",
       "Index: []"
      ]
     },
     "execution_count": 49,
     "metadata": {},
     "output_type": "execute_result"
    }
   ],
   "source": [
    "train[(train[\"shopper\"] == 0) & (train[\"target\"] == 1) & (train[\"category\"] == 20)].head(50)"
   ]
  },
  {
   "cell_type": "code",
   "execution_count": 50,
   "metadata": {},
   "outputs": [],
   "source": [
    "# train.head(40)"
   ]
  },
  {
   "cell_type": "code",
   "execution_count": 51,
   "metadata": {},
   "outputs": [
    {
     "data": {
      "text/html": [
       "<div>\n",
       "<style scoped>\n",
       "    .dataframe tbody tr th:only-of-type {\n",
       "        vertical-align: middle;\n",
       "    }\n",
       "\n",
       "    .dataframe tbody tr th {\n",
       "        vertical-align: top;\n",
       "    }\n",
       "\n",
       "    .dataframe thead th {\n",
       "        text-align: right;\n",
       "    }\n",
       "</style>\n",
       "<table border=\"1\" class=\"dataframe\">\n",
       "  <thead>\n",
       "    <tr style=\"text-align: right;\">\n",
       "      <th></th>\n",
       "      <th>week</th>\n",
       "      <th>product</th>\n",
       "      <th>orig_price</th>\n",
       "      <th>shopper</th>\n",
       "      <th>target</th>\n",
       "      <th>discount</th>\n",
       "      <th>coupon_given</th>\n",
       "      <th>price_w_discount</th>\n",
       "      <th>avg_basket_size</th>\n",
       "      <th>price</th>\n",
       "      <th>num_unique_prods</th>\n",
       "      <th>num_reordered</th>\n",
       "      <th>weeks_since_prior_order</th>\n",
       "      <th>category</th>\n",
       "    </tr>\n",
       "  </thead>\n",
       "  <tbody>\n",
       "    <tr>\n",
       "      <th>1822573</th>\n",
       "      <td>81</td>\n",
       "      <td>73</td>\n",
       "      <td>837</td>\n",
       "      <td>51</td>\n",
       "      <td>0.0</td>\n",
       "      <td>0.0</td>\n",
       "      <td>0.0</td>\n",
       "      <td>837.0</td>\n",
       "      <td>5.764045</td>\n",
       "      <td>585.395712</td>\n",
       "      <td>59</td>\n",
       "      <td>2.0</td>\n",
       "      <td>28</td>\n",
       "      <td>5</td>\n",
       "    </tr>\n",
       "    <tr>\n",
       "      <th>1809231</th>\n",
       "      <td>27</td>\n",
       "      <td>231</td>\n",
       "      <td>452</td>\n",
       "      <td>51</td>\n",
       "      <td>0.0</td>\n",
       "      <td>0.0</td>\n",
       "      <td>0.0</td>\n",
       "      <td>452.0</td>\n",
       "      <td>5.764045</td>\n",
       "      <td>585.395712</td>\n",
       "      <td>59</td>\n",
       "      <td>0.0</td>\n",
       "      <td>28</td>\n",
       "      <td>17</td>\n",
       "    </tr>\n",
       "    <tr>\n",
       "      <th>2079571</th>\n",
       "      <td>41</td>\n",
       "      <td>71</td>\n",
       "      <td>629</td>\n",
       "      <td>1173</td>\n",
       "      <td>0.0</td>\n",
       "      <td>0.0</td>\n",
       "      <td>0.0</td>\n",
       "      <td>629.0</td>\n",
       "      <td>5.898876</td>\n",
       "      <td>568.352381</td>\n",
       "      <td>67</td>\n",
       "      <td>2.0</td>\n",
       "      <td>14</td>\n",
       "      <td>24</td>\n",
       "    </tr>\n",
       "    <tr>\n",
       "      <th>2152629</th>\n",
       "      <td>66</td>\n",
       "      <td>129</td>\n",
       "      <td>540</td>\n",
       "      <td>715</td>\n",
       "      <td>0.0</td>\n",
       "      <td>0.0</td>\n",
       "      <td>0.0</td>\n",
       "      <td>540.0</td>\n",
       "      <td>9.247191</td>\n",
       "      <td>588.512758</td>\n",
       "      <td>62</td>\n",
       "      <td>0.0</td>\n",
       "      <td>67</td>\n",
       "      <td>14</td>\n",
       "    </tr>\n",
       "    <tr>\n",
       "      <th>873560</th>\n",
       "      <td>23</td>\n",
       "      <td>60</td>\n",
       "      <td>795</td>\n",
       "      <td>1932</td>\n",
       "      <td>0.0</td>\n",
       "      <td>30.0</td>\n",
       "      <td>1.0</td>\n",
       "      <td>765.0</td>\n",
       "      <td>7.584270</td>\n",
       "      <td>568.897778</td>\n",
       "      <td>61</td>\n",
       "      <td>0.0</td>\n",
       "      <td>24</td>\n",
       "      <td>17</td>\n",
       "    </tr>\n",
       "    <tr>\n",
       "      <th>1539470</th>\n",
       "      <td>16</td>\n",
       "      <td>220</td>\n",
       "      <td>610</td>\n",
       "      <td>1949</td>\n",
       "      <td>0.0</td>\n",
       "      <td>0.0</td>\n",
       "      <td>0.0</td>\n",
       "      <td>610.0</td>\n",
       "      <td>9.382022</td>\n",
       "      <td>594.922156</td>\n",
       "      <td>78</td>\n",
       "      <td>0.0</td>\n",
       "      <td>17</td>\n",
       "      <td>3</td>\n",
       "    </tr>\n",
       "    <tr>\n",
       "      <th>373033</th>\n",
       "      <td>68</td>\n",
       "      <td>33</td>\n",
       "      <td>665</td>\n",
       "      <td>1062</td>\n",
       "      <td>0.0</td>\n",
       "      <td>0.0</td>\n",
       "      <td>0.0</td>\n",
       "      <td>665.0</td>\n",
       "      <td>8.426966</td>\n",
       "      <td>606.881333</td>\n",
       "      <td>75</td>\n",
       "      <td>0.0</td>\n",
       "      <td>69</td>\n",
       "      <td>14</td>\n",
       "    </tr>\n",
       "    <tr>\n",
       "      <th>1866483</th>\n",
       "      <td>78</td>\n",
       "      <td>233</td>\n",
       "      <td>508</td>\n",
       "      <td>1018</td>\n",
       "      <td>0.0</td>\n",
       "      <td>0.0</td>\n",
       "      <td>0.0</td>\n",
       "      <td>508.0</td>\n",
       "      <td>10.516854</td>\n",
       "      <td>584.376068</td>\n",
       "      <td>68</td>\n",
       "      <td>0.0</td>\n",
       "      <td>79</td>\n",
       "      <td>2</td>\n",
       "    </tr>\n",
       "    <tr>\n",
       "      <th>35518</th>\n",
       "      <td>53</td>\n",
       "      <td>18</td>\n",
       "      <td>665</td>\n",
       "      <td>476</td>\n",
       "      <td>0.0</td>\n",
       "      <td>0.0</td>\n",
       "      <td>0.0</td>\n",
       "      <td>665.0</td>\n",
       "      <td>6.674157</td>\n",
       "      <td>580.232323</td>\n",
       "      <td>62</td>\n",
       "      <td>1.0</td>\n",
       "      <td>46</td>\n",
       "      <td>10</td>\n",
       "    </tr>\n",
       "    <tr>\n",
       "      <th>1160695</th>\n",
       "      <td>14</td>\n",
       "      <td>195</td>\n",
       "      <td>612</td>\n",
       "      <td>811</td>\n",
       "      <td>0.0</td>\n",
       "      <td>0.0</td>\n",
       "      <td>0.0</td>\n",
       "      <td>612.0</td>\n",
       "      <td>6.123596</td>\n",
       "      <td>580.328440</td>\n",
       "      <td>63</td>\n",
       "      <td>6.0</td>\n",
       "      <td>15</td>\n",
       "      <td>1</td>\n",
       "    </tr>\n",
       "    <tr>\n",
       "      <th>694551</th>\n",
       "      <td>19</td>\n",
       "      <td>51</td>\n",
       "      <td>640</td>\n",
       "      <td>1869</td>\n",
       "      <td>0.0</td>\n",
       "      <td>0.0</td>\n",
       "      <td>0.0</td>\n",
       "      <td>640.0</td>\n",
       "      <td>11.617978</td>\n",
       "      <td>601.978723</td>\n",
       "      <td>92</td>\n",
       "      <td>0.0</td>\n",
       "      <td>20</td>\n",
       "      <td>5</td>\n",
       "    </tr>\n",
       "    <tr>\n",
       "      <th>674450</th>\n",
       "      <td>27</td>\n",
       "      <td>200</td>\n",
       "      <td>535</td>\n",
       "      <td>917</td>\n",
       "      <td>0.0</td>\n",
       "      <td>0.0</td>\n",
       "      <td>0.0</td>\n",
       "      <td>535.0</td>\n",
       "      <td>8.314607</td>\n",
       "      <td>590.113514</td>\n",
       "      <td>61</td>\n",
       "      <td>2.0</td>\n",
       "      <td>28</td>\n",
       "      <td>22</td>\n",
       "    </tr>\n",
       "    <tr>\n",
       "      <th>1322035</th>\n",
       "      <td>37</td>\n",
       "      <td>35</td>\n",
       "      <td>602</td>\n",
       "      <td>1485</td>\n",
       "      <td>0.0</td>\n",
       "      <td>0.0</td>\n",
       "      <td>0.0</td>\n",
       "      <td>602.0</td>\n",
       "      <td>7.393258</td>\n",
       "      <td>587.752280</td>\n",
       "      <td>60</td>\n",
       "      <td>3.0</td>\n",
       "      <td>25</td>\n",
       "      <td>20</td>\n",
       "    </tr>\n",
       "    <tr>\n",
       "      <th>2195250</th>\n",
       "      <td>59</td>\n",
       "      <td>0</td>\n",
       "      <td>688</td>\n",
       "      <td>1029</td>\n",
       "      <td>0.0</td>\n",
       "      <td>0.0</td>\n",
       "      <td>0.0</td>\n",
       "      <td>688.0</td>\n",
       "      <td>7.651685</td>\n",
       "      <td>590.076358</td>\n",
       "      <td>53</td>\n",
       "      <td>0.0</td>\n",
       "      <td>60</td>\n",
       "      <td>19</td>\n",
       "    </tr>\n",
       "    <tr>\n",
       "      <th>457390</th>\n",
       "      <td>49</td>\n",
       "      <td>140</td>\n",
       "      <td>580</td>\n",
       "      <td>21</td>\n",
       "      <td>0.0</td>\n",
       "      <td>0.0</td>\n",
       "      <td>0.0</td>\n",
       "      <td>580.0</td>\n",
       "      <td>7.629213</td>\n",
       "      <td>585.085420</td>\n",
       "      <td>65</td>\n",
       "      <td>0.0</td>\n",
       "      <td>50</td>\n",
       "      <td>2</td>\n",
       "    </tr>\n",
       "    <tr>\n",
       "      <th>761260</th>\n",
       "      <td>19</td>\n",
       "      <td>10</td>\n",
       "      <td>711</td>\n",
       "      <td>1284</td>\n",
       "      <td>0.0</td>\n",
       "      <td>0.0</td>\n",
       "      <td>0.0</td>\n",
       "      <td>711.0</td>\n",
       "      <td>6.382022</td>\n",
       "      <td>580.429577</td>\n",
       "      <td>74</td>\n",
       "      <td>1.0</td>\n",
       "      <td>20</td>\n",
       "      <td>3</td>\n",
       "    </tr>\n",
       "    <tr>\n",
       "      <th>585841</th>\n",
       "      <td>29</td>\n",
       "      <td>91</td>\n",
       "      <td>605</td>\n",
       "      <td>1572</td>\n",
       "      <td>0.0</td>\n",
       "      <td>0.0</td>\n",
       "      <td>0.0</td>\n",
       "      <td>605.0</td>\n",
       "      <td>6.752809</td>\n",
       "      <td>569.931780</td>\n",
       "      <td>58</td>\n",
       "      <td>0.0</td>\n",
       "      <td>30</td>\n",
       "      <td>18</td>\n",
       "    </tr>\n",
       "    <tr>\n",
       "      <th>1708785</th>\n",
       "      <td>71</td>\n",
       "      <td>35</td>\n",
       "      <td>602</td>\n",
       "      <td>786</td>\n",
       "      <td>0.0</td>\n",
       "      <td>0.0</td>\n",
       "      <td>0.0</td>\n",
       "      <td>602.0</td>\n",
       "      <td>8.123596</td>\n",
       "      <td>601.426003</td>\n",
       "      <td>74</td>\n",
       "      <td>0.0</td>\n",
       "      <td>72</td>\n",
       "      <td>20</td>\n",
       "    </tr>\n",
       "    <tr>\n",
       "      <th>1452262</th>\n",
       "      <td>24</td>\n",
       "      <td>12</td>\n",
       "      <td>781</td>\n",
       "      <td>1783</td>\n",
       "      <td>0.0</td>\n",
       "      <td>0.0</td>\n",
       "      <td>0.0</td>\n",
       "      <td>781.0</td>\n",
       "      <td>7.573034</td>\n",
       "      <td>571.971810</td>\n",
       "      <td>66</td>\n",
       "      <td>0.0</td>\n",
       "      <td>25</td>\n",
       "      <td>1</td>\n",
       "    </tr>\n",
       "    <tr>\n",
       "      <th>1885387</th>\n",
       "      <td>65</td>\n",
       "      <td>137</td>\n",
       "      <td>660</td>\n",
       "      <td>152</td>\n",
       "      <td>0.0</td>\n",
       "      <td>0.0</td>\n",
       "      <td>0.0</td>\n",
       "      <td>660.0</td>\n",
       "      <td>5.719101</td>\n",
       "      <td>556.271120</td>\n",
       "      <td>78</td>\n",
       "      <td>1.0</td>\n",
       "      <td>59</td>\n",
       "      <td>23</td>\n",
       "    </tr>\n",
       "  </tbody>\n",
       "</table>\n",
       "</div>"
      ],
      "text/plain": [
       "         week  product  orig_price  shopper  target  discount  coupon_given  \\\n",
       "1822573    81       73         837       51     0.0       0.0           0.0   \n",
       "1809231    27      231         452       51     0.0       0.0           0.0   \n",
       "2079571    41       71         629     1173     0.0       0.0           0.0   \n",
       "2152629    66      129         540      715     0.0       0.0           0.0   \n",
       "873560     23       60         795     1932     0.0      30.0           1.0   \n",
       "1539470    16      220         610     1949     0.0       0.0           0.0   \n",
       "373033     68       33         665     1062     0.0       0.0           0.0   \n",
       "1866483    78      233         508     1018     0.0       0.0           0.0   \n",
       "35518      53       18         665      476     0.0       0.0           0.0   \n",
       "1160695    14      195         612      811     0.0       0.0           0.0   \n",
       "694551     19       51         640     1869     0.0       0.0           0.0   \n",
       "674450     27      200         535      917     0.0       0.0           0.0   \n",
       "1322035    37       35         602     1485     0.0       0.0           0.0   \n",
       "2195250    59        0         688     1029     0.0       0.0           0.0   \n",
       "457390     49      140         580       21     0.0       0.0           0.0   \n",
       "761260     19       10         711     1284     0.0       0.0           0.0   \n",
       "585841     29       91         605     1572     0.0       0.0           0.0   \n",
       "1708785    71       35         602      786     0.0       0.0           0.0   \n",
       "1452262    24       12         781     1783     0.0       0.0           0.0   \n",
       "1885387    65      137         660      152     0.0       0.0           0.0   \n",
       "\n",
       "         price_w_discount  avg_basket_size       price  num_unique_prods  \\\n",
       "1822573             837.0         5.764045  585.395712                59   \n",
       "1809231             452.0         5.764045  585.395712                59   \n",
       "2079571             629.0         5.898876  568.352381                67   \n",
       "2152629             540.0         9.247191  588.512758                62   \n",
       "873560              765.0         7.584270  568.897778                61   \n",
       "1539470             610.0         9.382022  594.922156                78   \n",
       "373033              665.0         8.426966  606.881333                75   \n",
       "1866483             508.0        10.516854  584.376068                68   \n",
       "35518               665.0         6.674157  580.232323                62   \n",
       "1160695             612.0         6.123596  580.328440                63   \n",
       "694551              640.0        11.617978  601.978723                92   \n",
       "674450              535.0         8.314607  590.113514                61   \n",
       "1322035             602.0         7.393258  587.752280                60   \n",
       "2195250             688.0         7.651685  590.076358                53   \n",
       "457390              580.0         7.629213  585.085420                65   \n",
       "761260              711.0         6.382022  580.429577                74   \n",
       "585841              605.0         6.752809  569.931780                58   \n",
       "1708785             602.0         8.123596  601.426003                74   \n",
       "1452262             781.0         7.573034  571.971810                66   \n",
       "1885387             660.0         5.719101  556.271120                78   \n",
       "\n",
       "         num_reordered  weeks_since_prior_order  category  \n",
       "1822573            2.0                       28         5  \n",
       "1809231            0.0                       28        17  \n",
       "2079571            2.0                       14        24  \n",
       "2152629            0.0                       67        14  \n",
       "873560             0.0                       24        17  \n",
       "1539470            0.0                       17         3  \n",
       "373033             0.0                       69        14  \n",
       "1866483            0.0                       79         2  \n",
       "35518              1.0                       46        10  \n",
       "1160695            6.0                       15         1  \n",
       "694551             0.0                       20         5  \n",
       "674450             2.0                       28        22  \n",
       "1322035            3.0                       25        20  \n",
       "2195250            0.0                       60        19  \n",
       "457390             0.0                       50         2  \n",
       "761260             1.0                       20         3  \n",
       "585841             0.0                       30        18  \n",
       "1708785            0.0                       72        20  \n",
       "1452262            0.0                       25         1  \n",
       "1885387            1.0                       59        23  "
      ]
     },
     "execution_count": 51,
     "metadata": {},
     "output_type": "execute_result"
    }
   ],
   "source": [
    "train.sample(20)"
   ]
  },
  {
   "cell_type": "markdown",
   "metadata": {},
   "source": [
    "### G. Weeks since prior order from the Same Category\n",
    "\n",
    "- Except for itself"
   ]
  },
  {
   "cell_type": "markdown",
   "metadata": {},
   "source": [
    "#### g - 1. train"
   ]
  },
  {
   "cell_type": "code",
   "execution_count": 52,
   "metadata": {},
   "outputs": [
    {
     "name": "stderr",
     "output_type": "stream",
     "text": [
      "<ipython-input-52-2053987e4111>:4: SettingWithCopyWarning: \n",
      "A value is trying to be set on a copy of a slice from a DataFrame\n",
      "\n",
      "See the caveats in the documentation: https://pandas.pydata.org/pandas-docs/stable/user_guide/indexing.html#returning-a-view-versus-a-copy\n",
      "  df_out_cat[\"last_cat_order\"][df_out_cat[\"last_cat_order\"].isna()]= 0\n"
     ]
    }
   ],
   "source": [
    "new_test_cat = pd.DataFrame(train.groupby(['shopper','category','week'])['target'].sum().reset_index())\n",
    "mask = new_test_cat.groupby(['shopper', 'category'])['target'].cumsum().replace(0, False).astype(bool) # Mask starting zeros as NaN\n",
    "df_out_cat = new_test_cat.assign(last_cat_order = new_test_cat.groupby(['shopper','category', new_test_cat.target.astype(bool).cumsum()]).cumcount().where(mask))\n",
    "df_out_cat[\"last_cat_order\"][df_out_cat[\"last_cat_order\"].isna()]= 0\n",
    "df_out_cat = df_out_cat[['shopper', 'category','week','last_cat_order']]\n",
    "train = train.merge(df_out_cat, on = ['shopper', 'week', 'category'], how = 'left')"
   ]
  },
  {
   "cell_type": "code",
   "execution_count": 53,
   "metadata": {},
   "outputs": [
    {
     "data": {
      "text/html": [
       "<div>\n",
       "<style scoped>\n",
       "    .dataframe tbody tr th:only-of-type {\n",
       "        vertical-align: middle;\n",
       "    }\n",
       "\n",
       "    .dataframe tbody tr th {\n",
       "        vertical-align: top;\n",
       "    }\n",
       "\n",
       "    .dataframe thead th {\n",
       "        text-align: right;\n",
       "    }\n",
       "</style>\n",
       "<table border=\"1\" class=\"dataframe\">\n",
       "  <thead>\n",
       "    <tr style=\"text-align: right;\">\n",
       "      <th></th>\n",
       "      <th>week</th>\n",
       "      <th>product</th>\n",
       "      <th>orig_price</th>\n",
       "      <th>shopper</th>\n",
       "      <th>target</th>\n",
       "      <th>discount</th>\n",
       "      <th>coupon_given</th>\n",
       "      <th>price_w_discount</th>\n",
       "      <th>avg_basket_size</th>\n",
       "      <th>price</th>\n",
       "      <th>num_unique_prods</th>\n",
       "      <th>num_reordered</th>\n",
       "      <th>weeks_since_prior_order</th>\n",
       "      <th>category</th>\n",
       "      <th>last_cat_order</th>\n",
       "    </tr>\n",
       "  </thead>\n",
       "  <tbody>\n",
       "    <tr>\n",
       "      <th>0</th>\n",
       "      <td>0</td>\n",
       "      <td>0</td>\n",
       "      <td>688</td>\n",
       "      <td>1104</td>\n",
       "      <td>0.0</td>\n",
       "      <td>0.0</td>\n",
       "      <td>0.0</td>\n",
       "      <td>688.0</td>\n",
       "      <td>7.797753</td>\n",
       "      <td>597.842939</td>\n",
       "      <td>91</td>\n",
       "      <td>0.0</td>\n",
       "      <td>1</td>\n",
       "      <td>19</td>\n",
       "      <td>0.0</td>\n",
       "    </tr>\n",
       "    <tr>\n",
       "      <th>1</th>\n",
       "      <td>0</td>\n",
       "      <td>1</td>\n",
       "      <td>560</td>\n",
       "      <td>1104</td>\n",
       "      <td>0.0</td>\n",
       "      <td>0.0</td>\n",
       "      <td>0.0</td>\n",
       "      <td>560.0</td>\n",
       "      <td>7.797753</td>\n",
       "      <td>597.842939</td>\n",
       "      <td>91</td>\n",
       "      <td>0.0</td>\n",
       "      <td>1</td>\n",
       "      <td>1</td>\n",
       "      <td>0.0</td>\n",
       "    </tr>\n",
       "  </tbody>\n",
       "</table>\n",
       "</div>"
      ],
      "text/plain": [
       "   week  product  orig_price  shopper  target  discount  coupon_given  \\\n",
       "0     0        0         688     1104     0.0       0.0           0.0   \n",
       "1     0        1         560     1104     0.0       0.0           0.0   \n",
       "\n",
       "   price_w_discount  avg_basket_size       price  num_unique_prods  \\\n",
       "0             688.0         7.797753  597.842939                91   \n",
       "1             560.0         7.797753  597.842939                91   \n",
       "\n",
       "   num_reordered  weeks_since_prior_order  category  last_cat_order  \n",
       "0            0.0                        1        19             0.0  \n",
       "1            0.0                        1         1             0.0  "
      ]
     },
     "execution_count": 53,
     "metadata": {},
     "output_type": "execute_result"
    }
   ],
   "source": [
    "train.head(2)"
   ]
  },
  {
   "cell_type": "markdown",
   "metadata": {},
   "source": [
    "#### g - 2. test"
   ]
  },
  {
   "cell_type": "code",
   "execution_count": 54,
   "metadata": {},
   "outputs": [],
   "source": [
    "# Test set\n",
    "last_weeks_since_prior_order_from_same_cat = train.groupby(['shopper', 'product'])[\"last_cat_order\"].last() + 1\n",
    "test = test.merge(last_weeks_since_prior_order_from_same_cat, on=['shopper', 'product'])"
   ]
  },
  {
   "cell_type": "code",
   "execution_count": 55,
   "metadata": {},
   "outputs": [
    {
     "data": {
      "text/html": [
       "<div>\n",
       "<style scoped>\n",
       "    .dataframe tbody tr th:only-of-type {\n",
       "        vertical-align: middle;\n",
       "    }\n",
       "\n",
       "    .dataframe tbody tr th {\n",
       "        vertical-align: top;\n",
       "    }\n",
       "\n",
       "    .dataframe thead th {\n",
       "        text-align: right;\n",
       "    }\n",
       "</style>\n",
       "<table border=\"1\" class=\"dataframe\">\n",
       "  <thead>\n",
       "    <tr style=\"text-align: right;\">\n",
       "      <th></th>\n",
       "      <th>week</th>\n",
       "      <th>product</th>\n",
       "      <th>orig_price</th>\n",
       "      <th>shopper</th>\n",
       "      <th>target</th>\n",
       "      <th>discount</th>\n",
       "      <th>coupon_given</th>\n",
       "      <th>price_w_discount</th>\n",
       "      <th>avg_basket_size</th>\n",
       "      <th>price</th>\n",
       "      <th>num_unique_prods</th>\n",
       "      <th>num_reordered</th>\n",
       "      <th>weeks_since_prior_order</th>\n",
       "      <th>category</th>\n",
       "      <th>last_cat_order</th>\n",
       "    </tr>\n",
       "  </thead>\n",
       "  <tbody>\n",
       "    <tr>\n",
       "      <th>0</th>\n",
       "      <td>89</td>\n",
       "      <td>0</td>\n",
       "      <td>688</td>\n",
       "      <td>1104</td>\n",
       "      <td>0.0</td>\n",
       "      <td>0.0</td>\n",
       "      <td>0.0</td>\n",
       "      <td>688.0</td>\n",
       "      <td>7.797753</td>\n",
       "      <td>597.842939</td>\n",
       "      <td>91</td>\n",
       "      <td>0.0</td>\n",
       "      <td>90</td>\n",
       "      <td>19</td>\n",
       "      <td>3.0</td>\n",
       "    </tr>\n",
       "    <tr>\n",
       "      <th>1</th>\n",
       "      <td>89</td>\n",
       "      <td>1</td>\n",
       "      <td>560</td>\n",
       "      <td>1104</td>\n",
       "      <td>0.0</td>\n",
       "      <td>0.0</td>\n",
       "      <td>0.0</td>\n",
       "      <td>560.0</td>\n",
       "      <td>7.797753</td>\n",
       "      <td>597.842939</td>\n",
       "      <td>91</td>\n",
       "      <td>0.0</td>\n",
       "      <td>90</td>\n",
       "      <td>1</td>\n",
       "      <td>3.0</td>\n",
       "    </tr>\n",
       "  </tbody>\n",
       "</table>\n",
       "</div>"
      ],
      "text/plain": [
       "   week  product  orig_price  shopper  target  discount  coupon_given  \\\n",
       "0    89        0         688     1104     0.0       0.0           0.0   \n",
       "1    89        1         560     1104     0.0       0.0           0.0   \n",
       "\n",
       "   price_w_discount  avg_basket_size       price  num_unique_prods  \\\n",
       "0             688.0         7.797753  597.842939                91   \n",
       "1             560.0         7.797753  597.842939                91   \n",
       "\n",
       "   num_reordered  weeks_since_prior_order  category  last_cat_order  \n",
       "0            0.0                       90        19             3.0  \n",
       "1            0.0                       90         1             3.0  "
      ]
     },
     "execution_count": 55,
     "metadata": {},
     "output_type": "execute_result"
    }
   ],
   "source": [
    "test.head(2)"
   ]
  },
  {
   "cell_type": "code",
   "execution_count": null,
   "metadata": {},
   "outputs": [],
   "source": []
  },
  {
   "cell_type": "markdown",
   "metadata": {},
   "source": [
    "### H. WIP - Category Reorder Frequency"
   ]
  },
  {
   "cell_type": "markdown",
   "metadata": {},
   "source": [
    "#### h - 1. train set"
   ]
  },
  {
   "cell_type": "code",
   "execution_count": 56,
   "metadata": {},
   "outputs": [],
   "source": [
    "# train['cat_reorder_freq'] = train.groupby([\"shopper\", \"category\"])[\"target\"].cumsum()/(train['week']+1)"
   ]
  },
  {
   "cell_type": "code",
   "execution_count": 57,
   "metadata": {},
   "outputs": [],
   "source": [
    "# train.head(2)"
   ]
  },
  {
   "cell_type": "code",
   "execution_count": null,
   "metadata": {},
   "outputs": [],
   "source": []
  },
  {
   "cell_type": "code",
   "execution_count": null,
   "metadata": {},
   "outputs": [],
   "source": []
  },
  {
   "cell_type": "markdown",
   "metadata": {},
   "source": [
    "### I. Weeks since prior discount from the Same Category"
   ]
  },
  {
   "cell_type": "code",
   "execution_count": null,
   "metadata": {},
   "outputs": [],
   "source": []
  },
  {
   "cell_type": "code",
   "execution_count": null,
   "metadata": {},
   "outputs": [],
   "source": []
  },
  {
   "cell_type": "code",
   "execution_count": null,
   "metadata": {},
   "outputs": [],
   "source": []
  },
  {
   "cell_type": "markdown",
   "metadata": {},
   "source": [
    "## Model Declaration and Setup for Predictive Analysis"
   ]
  },
  {
   "cell_type": "markdown",
   "metadata": {},
   "source": [
    "### A. X_train, X_test, y_train, y_test split"
   ]
  },
  {
   "cell_type": "code",
   "execution_count": 58,
   "metadata": {},
   "outputs": [],
   "source": [
    "# Features to drop for X\n",
    "features_to_drop = [\"target\", \"week\"]\n",
    "\n",
    "X_train = train.drop(columns=features_to_drop)\n",
    "y_train = train[[\"target\"]]\n",
    "\n",
    "X_test = test.drop(columns=features_to_drop)\n",
    "y_test = test[[\"target\"]]"
   ]
  },
  {
   "cell_type": "code",
   "execution_count": 59,
   "metadata": {},
   "outputs": [
    {
     "data": {
      "text/html": [
       "<div>\n",
       "<style scoped>\n",
       "    .dataframe tbody tr th:only-of-type {\n",
       "        vertical-align: middle;\n",
       "    }\n",
       "\n",
       "    .dataframe tbody tr th {\n",
       "        vertical-align: top;\n",
       "    }\n",
       "\n",
       "    .dataframe thead th {\n",
       "        text-align: right;\n",
       "    }\n",
       "</style>\n",
       "<table border=\"1\" class=\"dataframe\">\n",
       "  <thead>\n",
       "    <tr style=\"text-align: right;\">\n",
       "      <th></th>\n",
       "      <th>product</th>\n",
       "      <th>orig_price</th>\n",
       "      <th>shopper</th>\n",
       "      <th>discount</th>\n",
       "      <th>coupon_given</th>\n",
       "      <th>price_w_discount</th>\n",
       "      <th>avg_basket_size</th>\n",
       "      <th>price</th>\n",
       "      <th>num_unique_prods</th>\n",
       "      <th>num_reordered</th>\n",
       "      <th>weeks_since_prior_order</th>\n",
       "      <th>category</th>\n",
       "      <th>last_cat_order</th>\n",
       "    </tr>\n",
       "  </thead>\n",
       "  <tbody>\n",
       "    <tr>\n",
       "      <th>0</th>\n",
       "      <td>0</td>\n",
       "      <td>688</td>\n",
       "      <td>1104</td>\n",
       "      <td>0.0</td>\n",
       "      <td>0.0</td>\n",
       "      <td>688.0</td>\n",
       "      <td>7.797753</td>\n",
       "      <td>597.842939</td>\n",
       "      <td>91</td>\n",
       "      <td>0.0</td>\n",
       "      <td>1</td>\n",
       "      <td>19</td>\n",
       "      <td>0.0</td>\n",
       "    </tr>\n",
       "    <tr>\n",
       "      <th>1</th>\n",
       "      <td>1</td>\n",
       "      <td>560</td>\n",
       "      <td>1104</td>\n",
       "      <td>0.0</td>\n",
       "      <td>0.0</td>\n",
       "      <td>560.0</td>\n",
       "      <td>7.797753</td>\n",
       "      <td>597.842939</td>\n",
       "      <td>91</td>\n",
       "      <td>0.0</td>\n",
       "      <td>1</td>\n",
       "      <td>1</td>\n",
       "      <td>0.0</td>\n",
       "    </tr>\n",
       "    <tr>\n",
       "      <th>2</th>\n",
       "      <td>2</td>\n",
       "      <td>773</td>\n",
       "      <td>1104</td>\n",
       "      <td>0.0</td>\n",
       "      <td>0.0</td>\n",
       "      <td>773.0</td>\n",
       "      <td>7.797753</td>\n",
       "      <td>597.842939</td>\n",
       "      <td>91</td>\n",
       "      <td>0.0</td>\n",
       "      <td>1</td>\n",
       "      <td>24</td>\n",
       "      <td>0.0</td>\n",
       "    </tr>\n",
       "    <tr>\n",
       "      <th>3</th>\n",
       "      <td>3</td>\n",
       "      <td>722</td>\n",
       "      <td>1104</td>\n",
       "      <td>0.0</td>\n",
       "      <td>0.0</td>\n",
       "      <td>722.0</td>\n",
       "      <td>7.797753</td>\n",
       "      <td>597.842939</td>\n",
       "      <td>91</td>\n",
       "      <td>1.0</td>\n",
       "      <td>1</td>\n",
       "      <td>15</td>\n",
       "      <td>0.0</td>\n",
       "    </tr>\n",
       "    <tr>\n",
       "      <th>4</th>\n",
       "      <td>4</td>\n",
       "      <td>620</td>\n",
       "      <td>1104</td>\n",
       "      <td>0.0</td>\n",
       "      <td>0.0</td>\n",
       "      <td>620.0</td>\n",
       "      <td>7.797753</td>\n",
       "      <td>597.842939</td>\n",
       "      <td>91</td>\n",
       "      <td>0.0</td>\n",
       "      <td>1</td>\n",
       "      <td>14</td>\n",
       "      <td>0.0</td>\n",
       "    </tr>\n",
       "    <tr>\n",
       "      <th>...</th>\n",
       "      <td>...</td>\n",
       "      <td>...</td>\n",
       "      <td>...</td>\n",
       "      <td>...</td>\n",
       "      <td>...</td>\n",
       "      <td>...</td>\n",
       "      <td>...</td>\n",
       "      <td>...</td>\n",
       "      <td>...</td>\n",
       "      <td>...</td>\n",
       "      <td>...</td>\n",
       "      <td>...</td>\n",
       "      <td>...</td>\n",
       "    </tr>\n",
       "    <tr>\n",
       "      <th>2224995</th>\n",
       "      <td>245</td>\n",
       "      <td>549</td>\n",
       "      <td>687</td>\n",
       "      <td>0.0</td>\n",
       "      <td>0.0</td>\n",
       "      <td>549.0</td>\n",
       "      <td>8.865169</td>\n",
       "      <td>596.657795</td>\n",
       "      <td>85</td>\n",
       "      <td>0.0</td>\n",
       "      <td>89</td>\n",
       "      <td>16</td>\n",
       "      <td>1.0</td>\n",
       "    </tr>\n",
       "    <tr>\n",
       "      <th>2224996</th>\n",
       "      <td>246</td>\n",
       "      <td>702</td>\n",
       "      <td>687</td>\n",
       "      <td>20.0</td>\n",
       "      <td>1.0</td>\n",
       "      <td>682.0</td>\n",
       "      <td>8.865169</td>\n",
       "      <td>596.657795</td>\n",
       "      <td>85</td>\n",
       "      <td>0.0</td>\n",
       "      <td>89</td>\n",
       "      <td>12</td>\n",
       "      <td>2.0</td>\n",
       "    </tr>\n",
       "    <tr>\n",
       "      <th>2224997</th>\n",
       "      <td>247</td>\n",
       "      <td>670</td>\n",
       "      <td>687</td>\n",
       "      <td>0.0</td>\n",
       "      <td>0.0</td>\n",
       "      <td>670.0</td>\n",
       "      <td>8.865169</td>\n",
       "      <td>596.657795</td>\n",
       "      <td>85</td>\n",
       "      <td>0.0</td>\n",
       "      <td>89</td>\n",
       "      <td>11</td>\n",
       "      <td>7.0</td>\n",
       "    </tr>\n",
       "    <tr>\n",
       "      <th>2224998</th>\n",
       "      <td>248</td>\n",
       "      <td>490</td>\n",
       "      <td>687</td>\n",
       "      <td>0.0</td>\n",
       "      <td>0.0</td>\n",
       "      <td>490.0</td>\n",
       "      <td>8.865169</td>\n",
       "      <td>596.657795</td>\n",
       "      <td>85</td>\n",
       "      <td>51.0</td>\n",
       "      <td>2</td>\n",
       "      <td>23</td>\n",
       "      <td>0.0</td>\n",
       "    </tr>\n",
       "    <tr>\n",
       "      <th>2224999</th>\n",
       "      <td>249</td>\n",
       "      <td>499</td>\n",
       "      <td>687</td>\n",
       "      <td>0.0</td>\n",
       "      <td>0.0</td>\n",
       "      <td>499.0</td>\n",
       "      <td>8.865169</td>\n",
       "      <td>596.657795</td>\n",
       "      <td>85</td>\n",
       "      <td>0.0</td>\n",
       "      <td>89</td>\n",
       "      <td>2</td>\n",
       "      <td>0.0</td>\n",
       "    </tr>\n",
       "  </tbody>\n",
       "</table>\n",
       "<p>2225000 rows × 13 columns</p>\n",
       "</div>"
      ],
      "text/plain": [
       "         product  orig_price  shopper  discount  coupon_given  \\\n",
       "0              0         688     1104       0.0           0.0   \n",
       "1              1         560     1104       0.0           0.0   \n",
       "2              2         773     1104       0.0           0.0   \n",
       "3              3         722     1104       0.0           0.0   \n",
       "4              4         620     1104       0.0           0.0   \n",
       "...          ...         ...      ...       ...           ...   \n",
       "2224995      245         549      687       0.0           0.0   \n",
       "2224996      246         702      687      20.0           1.0   \n",
       "2224997      247         670      687       0.0           0.0   \n",
       "2224998      248         490      687       0.0           0.0   \n",
       "2224999      249         499      687       0.0           0.0   \n",
       "\n",
       "         price_w_discount  avg_basket_size       price  num_unique_prods  \\\n",
       "0                   688.0         7.797753  597.842939                91   \n",
       "1                   560.0         7.797753  597.842939                91   \n",
       "2                   773.0         7.797753  597.842939                91   \n",
       "3                   722.0         7.797753  597.842939                91   \n",
       "4                   620.0         7.797753  597.842939                91   \n",
       "...                   ...              ...         ...               ...   \n",
       "2224995             549.0         8.865169  596.657795                85   \n",
       "2224996             682.0         8.865169  596.657795                85   \n",
       "2224997             670.0         8.865169  596.657795                85   \n",
       "2224998             490.0         8.865169  596.657795                85   \n",
       "2224999             499.0         8.865169  596.657795                85   \n",
       "\n",
       "         num_reordered  weeks_since_prior_order  category  last_cat_order  \n",
       "0                  0.0                        1        19             0.0  \n",
       "1                  0.0                        1         1             0.0  \n",
       "2                  0.0                        1        24             0.0  \n",
       "3                  1.0                        1        15             0.0  \n",
       "4                  0.0                        1        14             0.0  \n",
       "...                ...                      ...       ...             ...  \n",
       "2224995            0.0                       89        16             1.0  \n",
       "2224996            0.0                       89        12             2.0  \n",
       "2224997            0.0                       89        11             7.0  \n",
       "2224998           51.0                        2        23             0.0  \n",
       "2224999            0.0                       89         2             0.0  \n",
       "\n",
       "[2225000 rows x 13 columns]"
      ]
     },
     "execution_count": 59,
     "metadata": {},
     "output_type": "execute_result"
    }
   ],
   "source": [
    "X_train"
   ]
  },
  {
   "cell_type": "markdown",
   "metadata": {},
   "source": [
    "### B. Mode Declaration"
   ]
  },
  {
   "cell_type": "code",
   "execution_count": 60,
   "metadata": {},
   "outputs": [],
   "source": [
    "# Random Forest Classifier\n",
    "from sklearn.ensemble import RandomForestClassifier\n",
    "from sklearn.tree import DecisionTreeClassifier\n",
    "\n",
    "from sklearn.metrics import mean_absolute_error\n",
    "# from sklearn import tree"
   ]
  },
  {
   "cell_type": "code",
   "execution_count": null,
   "metadata": {},
   "outputs": [],
   "source": []
  },
  {
   "cell_type": "markdown",
   "metadata": {},
   "source": [
    "#### b - 1. RandomForestClassifier"
   ]
  },
  {
   "cell_type": "code",
   "execution_count": 61,
   "metadata": {},
   "outputs": [],
   "source": [
    "# rfc = RandomForestClassifier(random_state=888, max_depth=10)\n",
    "# rfc.fit(X_train, y_train)"
   ]
  },
  {
   "cell_type": "code",
   "execution_count": 62,
   "metadata": {},
   "outputs": [],
   "source": [
    "# rfc_pred_test = rfc.predict(X_test)\n",
    "# rfc_pred_test"
   ]
  },
  {
   "cell_type": "code",
   "execution_count": 63,
   "metadata": {},
   "outputs": [],
   "source": [
    "# mean_absolute_error(rfc_pred_test, y_test)"
   ]
  },
  {
   "cell_type": "code",
   "execution_count": 64,
   "metadata": {},
   "outputs": [],
   "source": [
    "# rfc_pred_test_prob = rfc.predict_proba(X_test)\n",
    "# rfc_pred_test_prob[:,0]"
   ]
  },
  {
   "cell_type": "code",
   "execution_count": null,
   "metadata": {},
   "outputs": [],
   "source": []
  },
  {
   "cell_type": "markdown",
   "metadata": {},
   "source": [
    "#### b - 2. DecisionTreeClassifier"
   ]
  },
  {
   "cell_type": "code",
   "execution_count": 65,
   "metadata": {},
   "outputs": [],
   "source": [
    "# dtc = DecisionTreeClassifier(criterion=\"gini\", max_depth=10)\n",
    "# dtc.fit(X_train, y_train)"
   ]
  },
  {
   "cell_type": "code",
   "execution_count": 66,
   "metadata": {},
   "outputs": [],
   "source": [
    "# dtc_pred_test = dtc.predict(X_test)\n",
    "# dtc_pred_test"
   ]
  },
  {
   "cell_type": "code",
   "execution_count": 67,
   "metadata": {},
   "outputs": [],
   "source": [
    "# mean_absolute_error(dtc_pred_test, y_test)"
   ]
  },
  {
   "cell_type": "code",
   "execution_count": 68,
   "metadata": {},
   "outputs": [],
   "source": [
    "# dtc_pred_test_prob = dtc.predict_proba(X_test)\n",
    "# dtc_pred_test_prob[:,0]"
   ]
  },
  {
   "cell_type": "code",
   "execution_count": null,
   "metadata": {},
   "outputs": [],
   "source": []
  },
  {
   "cell_type": "markdown",
   "metadata": {},
   "source": [
    "#### b - 3. Light GBM"
   ]
  },
  {
   "cell_type": "code",
   "execution_count": 69,
   "metadata": {},
   "outputs": [
    {
     "name": "stderr",
     "output_type": "stream",
     "text": [
      "/Users/jungwoojamesjeong/opt/anaconda3/envs/hu-mlim/lib/python3.8/site-packages/sklearn/preprocessing/_label.py:235: DataConversionWarning: A column-vector y was passed when a 1d array was expected. Please change the shape of y to (n_samples, ), for example using ravel().\n",
      "  y = column_or_1d(y, warn=True)\n",
      "/Users/jungwoojamesjeong/opt/anaconda3/envs/hu-mlim/lib/python3.8/site-packages/sklearn/preprocessing/_label.py:268: DataConversionWarning: A column-vector y was passed when a 1d array was expected. Please change the shape of y to (n_samples, ), for example using ravel().\n",
      "  y = column_or_1d(y, warn=True)\n"
     ]
    },
    {
     "data": {
      "text/plain": [
       "LGBMClassifier(boosting_type='gbdt', class_weight=None, colsample_bytree=1.0,\n",
       "               importance_type='split', learning_rate=0.1, max_depth=-1,\n",
       "               min_child_samples=20, min_child_weight=0.001, min_split_gain=0.0,\n",
       "               n_estimators=100, n_jobs=-1, num_leaves=31, objective=None,\n",
       "               random_state=None, reg_alpha=0.0, reg_lambda=0.0, silent=True,\n",
       "               subsample=1.0, subsample_for_bin=200000, subsample_freq=0)"
      ]
     },
     "execution_count": 69,
     "metadata": {},
     "output_type": "execute_result"
    }
   ],
   "source": [
    "import lightgbm as lgb\n",
    "\n",
    "lgb_clf = lgb.LGBMClassifier()\n",
    "lgb_clf.fit(X_train, y_train)"
   ]
  },
  {
   "cell_type": "code",
   "execution_count": 70,
   "metadata": {},
   "outputs": [
    {
     "data": {
      "text/plain": [
       "array([0., 0., 0., ..., 0., 0., 0.])"
      ]
     },
     "execution_count": 70,
     "metadata": {},
     "output_type": "execute_result"
    }
   ],
   "source": [
    "lgb_pred_test = lgb_clf.predict(X_test)\n",
    "lgb_pred_test"
   ]
  },
  {
   "cell_type": "code",
   "execution_count": 71,
   "metadata": {},
   "outputs": [
    {
     "data": {
      "text/plain": [
       "0.02856"
      ]
     },
     "execution_count": 71,
     "metadata": {},
     "output_type": "execute_result"
    }
   ],
   "source": [
    "mean_absolute_error(lgb_pred_test, y_test)"
   ]
  },
  {
   "cell_type": "code",
   "execution_count": 72,
   "metadata": {},
   "outputs": [
    {
     "data": {
      "text/plain": [
       "array([0.99999866, 0.99999866, 0.99999866, ..., 0.99999866, 0.99999638,\n",
       "       0.99999866])"
      ]
     },
     "execution_count": 72,
     "metadata": {},
     "output_type": "execute_result"
    }
   ],
   "source": [
    "lgb_pred_test_prob = lgb_clf.predict_proba(X_test)\n",
    "lgb_pred_test_prob[:,0]"
   ]
  },
  {
   "cell_type": "code",
   "execution_count": 73,
   "metadata": {},
   "outputs": [
    {
     "data": {
      "text/plain": [
       "0.9820026966292135"
      ]
     },
     "execution_count": 73,
     "metadata": {},
     "output_type": "execute_result"
    }
   ],
   "source": [
    "lgb_clf.score(X_train, y_train)"
   ]
  },
  {
   "cell_type": "code",
   "execution_count": 74,
   "metadata": {},
   "outputs": [
    {
     "data": {
      "text/plain": [
       "0.97144"
      ]
     },
     "execution_count": 74,
     "metadata": {},
     "output_type": "execute_result"
    }
   ],
   "source": [
    "lgb_clf.score(X_test, y_test)"
   ]
  },
  {
   "cell_type": "code",
   "execution_count": 75,
   "metadata": {},
   "outputs": [
    {
     "data": {
      "text/plain": [
       "<AxesSubplot:title={'center':'Feature importance'}, xlabel='Feature importance', ylabel='Features'>"
      ]
     },
     "execution_count": 75,
     "metadata": {},
     "output_type": "execute_result"
    },
    {
     "data": {
      "image/png": "[encoded data removed]",
      "text/plain": [
       "<Figure size 432x288 with 1 Axes>"
      ]
     },
     "metadata": {
      "needs_background": "light"
     },
     "output_type": "display_data"
    }
   ],
   "source": [
    "lgb.plot_importance(lgb_clf, max_num_features=10)"
   ]
  },
  {
   "cell_type": "code",
   "execution_count": 76,
   "metadata": {},
   "outputs": [
    {
     "data": {
      "text/plain": [
       "<AxesSubplot:title={'center':'Feature importance'}, xlabel='Feature importance', ylabel='Features'>"
      ]
     },
     "execution_count": 76,
     "metadata": {},
     "output_type": "execute_result"
    },
    {
     "data": {
      "image/png": "[encoded data removed]",
      "text/plain": [
       "<Figure size 432x288 with 1 Axes>"
      ]
     },
     "metadata": {
      "needs_background": "light"
     },
     "output_type": "display_data"
    }
   ],
   "source": [
    "lgb.plot_importance(lgb_clf, max_num_features=10, importance_type='gain')"
   ]
  },
  {
   "cell_type": "code",
   "execution_count": null,
   "metadata": {},
   "outputs": [],
   "source": []
  },
  {
   "cell_type": "markdown",
   "metadata": {},
   "source": [
    "## Model Assessment - ROC AUC"
   ]
  },
  {
   "cell_type": "code",
   "execution_count": 77,
   "metadata": {},
   "outputs": [],
   "source": [
    "from sklearn import metrics  # Important lib where we find various performance measures"
   ]
  },
  {
   "cell_type": "code",
   "execution_count": 79,
   "metadata": {},
   "outputs": [],
   "source": [
    "# metrics.plot_roc_curve(rfc, X_test, y_test)"
   ]
  },
  {
   "cell_type": "code",
   "execution_count": 80,
   "metadata": {},
   "outputs": [],
   "source": [
    "# metrics.plot_roc_curve(dtc, X_test, y_test)"
   ]
  },
  {
   "cell_type": "code",
   "execution_count": 82,
   "metadata": {},
   "outputs": [
    {
     "data": {
      "text/plain": [
       "<sklearn.metrics._plot.roc_curve.RocCurveDisplay at 0x7f872e620cd0>"
      ]
     },
     "execution_count": 82,
     "metadata": {},
     "output_type": "execute_result"
    },
    {
     "data": {
      "image/png": "[encoded data removed]",
      "text/plain": [
       "<Figure size 432x288 with 1 Axes>"
      ]
     },
     "metadata": {
      "needs_background": "light"
     },
     "output_type": "display_data"
    }
   ],
   "source": [
    "metrics.plot_roc_curve(lgb_clf, X_test, y_test)"
   ]
  },
  {
   "cell_type": "code",
   "execution_count": 83,
   "metadata": {},
   "outputs": [
    {
     "data": {
      "text/plain": [
       "<sklearn.metrics._plot.confusion_matrix.ConfusionMatrixDisplay at 0x7f872d340460>"
      ]
     },
     "execution_count": 83,
     "metadata": {},
     "output_type": "execute_result"
    },
    {
     "data": {
      "image/png": "[encoded data removed]",
      "text/plain": [
       "<Figure size 432x288 with 2 Axes>"
      ]
     },
     "metadata": {
      "needs_background": "light"
     },
     "output_type": "display_data"
    }
   ],
   "source": [
    "from sklearn.metrics import plot_confusion_matrix\n",
    "from sklearn.metrics import confusion_matrix\n",
    "\n",
    "y_pred = lgb_clf.predict(X_test)\n",
    "confusion = confusion_matrix(y_test, y_pred)\n",
    "plot_confusion_matrix(estimator=lgb_clf, X=X_test, y_true=y_test, display_labels=['No', 'Yes'], normalize='true')"
   ]
  },
  {
   "cell_type": "code",
   "execution_count": 84,
   "metadata": {},
   "outputs": [
    {
     "data": {
      "text/plain": [
       "array([[24286,     0],\n",
       "       [  714,     0]])"
      ]
     },
     "execution_count": 84,
     "metadata": {},
     "output_type": "execute_result"
    }
   ],
   "source": [
    "confusion"
   ]
  },
  {
   "cell_type": "code",
   "execution_count": 85,
   "metadata": {},
   "outputs": [
    {
     "name": "stderr",
     "output_type": "stream",
     "text": [
      "<ipython-input-85-eccb13aa8264>:11: RuntimeWarning: invalid value encountered in long_scalars\n",
      "  PPV = TP/(TP+FP)\n",
      "<ipython-input-85-eccb13aa8264>:19: RuntimeWarning: invalid value encountered in long_scalars\n",
      "  FDR = FP/(TP+FP)\n"
     ]
    }
   ],
   "source": [
    "FP = confusion[0][1]\n",
    "FN = confusion[1][0]\n",
    "TP = confusion[1][1]\n",
    "TN = confusion[0][0]\n",
    "\n",
    "# Sensitivity, hit rate, recall, or true positive rate\n",
    "TPR = TP/(TP+FN)\n",
    "# Specificity or true negative rate\n",
    "TNR = TN/(TN+FP) \n",
    "# Precision or positive predictive value\n",
    "PPV = TP/(TP+FP)\n",
    "# Negative predictive value\n",
    "NPV = TN/(TN+FN)\n",
    "# Fall out or false positive rate\n",
    "FPR = FP/(FP+TN)\n",
    "# False negative rate\n",
    "FNR = FN/(TP+FN)\n",
    "# False discovery rate\n",
    "FDR = FP/(TP+FP)\n",
    "\n",
    "# Overall accuracy\n",
    "ACC = (TP+TN)/(TP+FP+FN+TN)"
   ]
  },
  {
   "cell_type": "code",
   "execution_count": 86,
   "metadata": {},
   "outputs": [
    {
     "name": "stdout",
     "output_type": "stream",
     "text": [
      "TPR: 0.0000\n",
      "TNR: 1.0000\n",
      "FPR: 0.0000\n",
      "FNR: 1.0000\n",
      "Precision: nan\n",
      "False discovery rate: nan\n"
     ]
    }
   ],
   "source": [
    "print(f'TPR: {TPR:.4f}')\n",
    "print(f'TNR: {TNR:.4f}')\n",
    "print(f'FPR: {FPR:.4f}')\n",
    "print(f'FNR: {FNR:.4f}')\n",
    "print(f'Precision: {PPV:.4f}')\n",
    "print(f'False discovery rate: {FDR:.4f}')"
   ]
  },
  {
   "cell_type": "code",
   "execution_count": null,
   "metadata": {},
   "outputs": [],
   "source": []
  }
 ],
 "metadata": {
  "kernelspec": {
   "display_name": "Python 3",
   "language": "python",
   "name": "python3"
  },
  "language_info": {
   "codemirror_mode": {
    "name": "ipython",
    "version": 3
   },
   "file_extension": ".py",
   "mimetype": "text/x-python",
   "name": "python",
   "nbconvert_exporter": "python",
   "pygments_lexer": "ipython3",
   "version": "3.8.5"
  }
 },
 "nbformat": 4,
 "nbformat_minor": 4
}
