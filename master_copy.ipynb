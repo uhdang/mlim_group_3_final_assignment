{
  "nbformat": 4,
  "nbformat_minor": 0,
  "metadata": {
    "colab": {
      "name": "FinalAssignment.ipynb",
      "provenance": [],
      "collapsed_sections": [
        "IpTCdVohNBfe"
      ],
      "toc_visible": true,
      "mount_file_id": "17sCjKQDEfGjPbBnbNYH04SFCv7PnEm2L",
      "authorship_tag": "ABX9TyM5OTzDSUjZaJ+cCvmkIWOM",
      "include_colab_link": true
    },
    "kernelspec": {
      "name": "python3",
      "display_name": "Python 3"
    }
  },
  "cells": [
    {
      "cell_type": "markdown",
      "metadata": {
        "id": "view-in-github",
        "colab_type": "text"
      },
      "source": [
        "<a href=\"https://colab.research.google.com/github/uhdang/mlim_group_3_final_assignment/blob/main/master_copy.ipynb\" target=\"_parent\"><img src=\"https://colab.research.google.com/assets/colab-badge.svg\" alt=\"Open In Colab\"/></a>"
      ]
    },
    {
      "cell_type": "markdown",
      "metadata": {
        "id": "eaAU2FeoP4WB"
      },
      "source": [
        "# ToDo"
      ]
    },
    {
      "cell_type": "markdown",
      "metadata": {
        "id": "glmguT6pP19T"
      },
      "source": [
        "- Exercise #7 - slide 5\r\n",
        "- own-product moving window purchase frequencies\r\n",
        "- own-category moving window purchase frequencies\r\n",
        "- customer embedding (matrix-factorization)\r\n",
        "- negative sampling instead of using all products for each shopper\r\n",
        "- Crossvalidation\r\n",
        "- PCA for product vectors included as feature and then remove product\r\n",
        "- discount from same category\r\n",
        "- price elasticity (own and cross product/category)\r\n",
        "- promotion in substitute or complementary category\r\n",
        "\r\n",
        "Put code in functions or maybe classes"
      ]
    },
    {
      "cell_type": "code",
      "metadata": {
        "id": "lbCoj2hWBnOH"
      },
      "source": [
        "# !pip install scikit-learn --upgrade\r\n",
        "# !pip install lightgbm --upgrade"
      ],
      "execution_count": 1,
      "outputs": []
    },
    {
      "cell_type": "code",
      "metadata": {
        "id": "R8VFv-TZfRc_"
      },
      "source": [
        "import pandas as pd\r\n",
        "import numpy as np\r\n",
        "import matplotlib.pyplot as plt\r\n",
        "import seaborn as sns\r\n",
        "import random"
      ],
      "execution_count": 2,
      "outputs": []
    },
    {
      "cell_type": "markdown",
      "metadata": {
        "id": "KfzE-1tHfg2C"
      },
      "source": [
        "# Load Data"
      ]
    },
    {
      "cell_type": "code",
      "metadata": {
        "colab": {
          "base_uri": "https://localhost:8080/"
        },
        "id": "wPPZKEDQffrG",
        "outputId": "3880185a-563e-4f28-b006-5a9f45710d86"
      },
      "source": [
        "if 'google.colab' in str(get_ipython()):\r\n",
        "  from google.colab import drive\r\n",
        "  drive.mount('/content/drive')\r\n",
        "  baskets = pd.read_parquet(\"/content/drive/MyDrive/My Drive/baskets.parquet\")\r\n",
        "  coupons = pd.read_parquet(\"/content/drive/MyDrive/My Drive/coupons.parquet\")\r\n",
        "  coupon_index = pd.read_parquet(\"/content/drive/MyDrive/My Drive/coupon_index.parquet\")\r\n",
        "else:\r\n",
        "  file_path = \"./data/\"\r\n",
        "\r\n",
        "  baskets_pq = \"baskets.parquet\"\r\n",
        "  coupons_pq = \"coupons.parquet\"\r\n",
        "  coupon_index_pq = \"coupon_index.parquet\"\r\n",
        "\r\n",
        "  baskets = pd.read_parquet(file_path + baskets_pq)\r\n",
        "  coupons = pd.read_parquet(file_path + coupons_pq)\r\n",
        "  coupon_index = pd.read_parquet(file_path + coupon_index_pq)\r\n",
        "\r\n",
        "  print(f\"baskets_df: {b_df.shape}\")\r\n",
        "  print(f\"coupons_df: {c_df.shape}\")\r\n",
        "  print(f\"coupon_index_df: {ci_df.shape}\")"
      ],
      "execution_count": 3,
      "outputs": [
        {
          "output_type": "stream",
          "text": [
            "Drive already mounted at /content/drive; to attempt to forcibly remount, call drive.mount(\"/content/drive\", force_remount=True).\n"
          ],
          "name": "stdout"
        }
      ]
    },
    {
      "cell_type": "code",
      "metadata": {
        "id": "zpTk8wHTENdt"
      },
      "source": [
        "# from google.colab import drive\r\n",
        "# drive.mount('/content/drive')\r\n",
        "# baskets = pd.read_parquet(\"/content/drive/MyDrive/My Drive/baskets.parquet\")\r\n",
        "# coupons = pd.read_parquet(\"/content/drive/MyDrive/My Drive/coupons.parquet\")\r\n",
        "# coupon_index = pd.read_parquet(\"/content/drive/MyDrive/My Drive/coupon_index.parquet\")"
      ],
      "execution_count": 4,
      "outputs": []
    },
    {
      "cell_type": "code",
      "metadata": {
        "id": "QcxJiScqwSrc"
      },
      "source": [
        "baskets['target'] = 1"
      ],
      "execution_count": 5,
      "outputs": []
    },
    {
      "cell_type": "markdown",
      "metadata": {
        "id": "vTkyVZ3c8uvD"
      },
      "source": [
        "# Split Data"
      ]
    },
    {
      "cell_type": "code",
      "metadata": {
        "id": "hFPZC48z9697"
      },
      "source": [
        "weeks = 89 \r\n",
        "shoppers = 100\r\n",
        "\r\n",
        "baskets_train = baskets.loc[(baskets.shopper.isin(list(range(shoppers)))) & (baskets.week<weeks), :]\r\n",
        "baskets_test = baskets.loc[(baskets.shopper.isin(list(range(shoppers)))) & (baskets.week>=weeks), :]\r\n",
        "\r\n",
        "coupons_train = coupons.loc[(coupons.shopper.isin(list(range(shoppers)))) & (coupons.week<weeks), :]\r\n",
        "coupons_test = coupons.loc[(coupons.shopper.isin(list(range(shoppers)))) & (coupons.week>=weeks), :]"
      ],
      "execution_count": 6,
      "outputs": []
    },
    {
      "cell_type": "code",
      "metadata": {
        "colab": {
          "base_uri": "https://localhost:8080/"
        },
        "id": "pEw2_M3kFJc6",
        "outputId": "a0531e0b-58eb-4ab6-a704-812fc8b2a71b"
      },
      "source": [
        "cat_columns = ['shopper', 'product']\r\n",
        "\r\n",
        "baskets_train[cat_columns] = baskets_train[cat_columns].astype('category')\r\n",
        "baskets_test[cat_columns] = baskets_test[cat_columns].astype('category')\r\n",
        "coupons_train[cat_columns] = coupons_train[cat_columns].astype('category')\r\n",
        "coupons_test[cat_columns] = coupons_test[cat_columns].astype('category')\r\n",
        "\r\n",
        "baskets[cat_columns] = baskets[cat_columns].astype('category')\r\n",
        "coupons[cat_columns] = coupons[cat_columns].astype('category')"
      ],
      "execution_count": 7,
      "outputs": [
        {
          "output_type": "stream",
          "text": [
            "/usr/local/lib/python3.7/dist-packages/pandas/core/frame.py:3069: SettingWithCopyWarning: \n",
            "A value is trying to be set on a copy of a slice from a DataFrame.\n",
            "Try using .loc[row_indexer,col_indexer] = value instead\n",
            "\n",
            "See the caveats in the documentation: https://pandas.pydata.org/pandas-docs/stable/user_guide/indexing.html#returning-a-view-versus-a-copy\n",
            "  self[k1] = value[k2]\n"
          ],
          "name": "stderr"
        }
      ]
    },
    {
      "cell_type": "markdown",
      "metadata": {
        "id": "SNhjNET68TMB"
      },
      "source": [
        "# Feature Engineering"
      ]
    },
    {
      "cell_type": "code",
      "metadata": {
        "id": "FSjPMhQWRJM0"
      },
      "source": [
        "original_price = baskets.groupby('product', as_index=False).price.max().rename(columns={'price': 'original_price'})\r\n",
        "total_count_of_product = baskets_train.groupby(['shopper', 'product']).product.count().to_frame('total_count_of_product').reset_index()\r\n",
        "reordered = (baskets_train.groupby(['shopper']).product.value_counts()>1).astype(int)\r\n",
        "average_price_per_shopper = baskets_train.groupby(['shopper']).price.mean().to_frame('average_price_per_shopper').reset_index()\r\n",
        "average_basket_size = baskets_train.groupby(['shopper', 'week']).product.count().groupby('shopper').mean().to_frame('average_basket_size').reset_index()\r\n",
        "unique_products_per_shopper = baskets_train.groupby(['shopper']).product.nunique()\r\n",
        "ratio_of_reordered_per_shopper = (reordered.groupby('shopper').sum() / unique_products_per_shopper).to_frame('ratio_of_reordered').reset_index()\r\n",
        "\r\n",
        "ratio_of_reordered_per_product = total_count_of_product.copy()\r\n",
        "ratio_of_reordered_per_product['total_count_of_product'] = total_count_of_product['total_count_of_product'] / (baskets_train.week.max()+1)\r\n",
        "ratio_of_reordered_per_product.rename(columns={'total_count_of_product': 'ratio_of_reordered_per_product'}, inplace=True)\r\n",
        "\r\n",
        "reordered = reordered.to_frame('reordered').reset_index()\r\n",
        "unique_products_per_shopper = unique_products_per_shopper.to_frame('unique_products_per_shopper').reset_index()\r\n",
        "\r\n",
        "# window-average -> feature which give less probability to products wich haven't been purchased for a long time -> maybe relates to category as shopper has changed to product in similar category\r\n",
        "# add average week interval for each product and shopper -> frequency | maybe not necessary, basically just total_count/weeks, probably already covered by model\r\n",
        "# WoE"
      ],
      "execution_count": 8,
      "outputs": []
    },
    {
      "cell_type": "markdown",
      "metadata": {
        "id": "G5JVUWktoX6w"
      },
      "source": [
        "# Product2Vec"
      ]
    },
    {
      "cell_type": "markdown",
      "metadata": {
        "id": "EcWrfOvjo5iV"
      },
      "source": [
        "## Step 1\r\n",
        "Create a list of baskets."
      ]
    },
    {
      "cell_type": "code",
      "metadata": {
        "id": "-BS2_uehoaj0"
      },
      "source": [
        "# create a list of baskets\r\n",
        "shoppers_p2v = 10000\r\n",
        "baskets_p2v = baskets.loc[(baskets.shopper.isin(list(range(shoppers_p2v)))) & (baskets.week<weeks), :][['week', 'shopper', 'product']]\r\n",
        "\r\n",
        "basket_values = baskets_p2v.sort_values(['week', 'shopper']).values\r\n",
        "keys = baskets_p2v.week.astype(str) + '_' + baskets_p2v.shopper.astype(str)\r\n",
        "_, index = np.unique(keys, True)\r\n",
        "basket_arr = np.split(basket_values[:, 2].astype('str'), np.sort(index))[1:]"
      ],
      "execution_count": 9,
      "outputs": []
    },
    {
      "cell_type": "code",
      "metadata": {
        "id": "6B8L05XppyNx"
      },
      "source": [
        "# streamer class to fill word2vec list by list\r\n",
        "class DataStreamer():\r\n",
        "    def __init__(self, data):\r\n",
        "        self.data = data\r\n",
        "        \r\n",
        "    def __iter__(self):\r\n",
        "        for basket in self.data:\r\n",
        "            yield basket.tolist()"
      ],
      "execution_count": 10,
      "outputs": []
    },
    {
      "cell_type": "markdown",
      "metadata": {
        "id": "97OTY46fpsdL"
      },
      "source": [
        "## Step 2\r\n"
      ]
    },
    {
      "cell_type": "code",
      "metadata": {
        "id": "XQ4x2i2jpsEw"
      },
      "source": [
        "from gensim.models import Word2Vec"
      ],
      "execution_count": 11,
      "outputs": []
    },
    {
      "cell_type": "code",
      "metadata": {
        "id": "bt6sXuyep4-z"
      },
      "source": [
        "datastr = DataStreamer(basket_arr)\r\n",
        "\r\n",
        "model = Word2Vec(\r\n",
        "    sentences=datastr, \r\n",
        "    size=100, \r\n",
        "    window=20, # max. size of basket \r\n",
        "    min_count=1,\r\n",
        "    negative=2, \r\n",
        "    sample=0,\r\n",
        "    sg=1,\r\n",
        "    workers=4\r\n",
        ")"
      ],
      "execution_count": 12,
      "outputs": []
    },
    {
      "cell_type": "code",
      "metadata": {
        "colab": {
          "base_uri": "https://localhost:8080/"
        },
        "id": "wYr6rFWc4Y26",
        "outputId": "fdc0fff0-7c8d-401a-957b-1cbf11fa938f"
      },
      "source": [
        "model.wv.most_similar(positive='76')"
      ],
      "execution_count": 13,
      "outputs": [
        {
          "output_type": "execute_result",
          "data": {
            "text/plain": [
              "[('71', 0.6579920053482056),\n",
              " ('74', 0.6431897878646851),\n",
              " ('72', 0.6179654002189636),\n",
              " ('78', 0.6097676753997803),\n",
              " ('79', 0.5975868701934814),\n",
              " ('75', 0.5926647186279297),\n",
              " ('73', 0.5740009546279907),\n",
              " ('77', 0.5290572047233582),\n",
              " ('70', 0.44407159090042114),\n",
              " ('166', 0.2017422318458557)]"
            ]
          },
          "metadata": {
            "tags": []
          },
          "execution_count": 13
        }
      ]
    },
    {
      "cell_type": "code",
      "metadata": {
        "id": "UYf6g8fVHowP"
      },
      "source": [
        "product_keys = [str(product) for product in range(250)]\r\n",
        "product_vectors = model.wv[product_keys]"
      ],
      "execution_count": 14,
      "outputs": []
    },
    {
      "cell_type": "markdown",
      "metadata": {
        "id": "jMcURLMn4VF_"
      },
      "source": [
        "## Step 3: Assigning Categories"
      ]
    },
    {
      "cell_type": "markdown",
      "metadata": {
        "id": "vDLwZACurll_"
      },
      "source": [
        "### Substitutes | Similar Products"
      ]
    },
    {
      "cell_type": "code",
      "metadata": {
        "colab": {
          "base_uri": "https://localhost:8080/",
          "height": 282
        },
        "id": "oh0RMyKO4W9N",
        "outputId": "5f42e75c-7059-4916-c6f0-97001fdb9d12"
      },
      "source": [
        "from sklearn.manifold import TSNE\r\n",
        "X_embedded = TSNE(n_components=2).fit_transform(product_vectors)\r\n",
        "plt.scatter(X_embedded[:,0], X_embedded[:,1])"
      ],
      "execution_count": 15,
      "outputs": [
        {
          "output_type": "execute_result",
          "data": {
            "text/plain": [
              "<matplotlib.collections.PathCollection at 0x7fefd4993ed0>"
            ]
          },
          "metadata": {
            "tags": []
          },
          "execution_count": 15
        },
        {
          "output_type": "display_data",
          "data": {
            "image/png": "[encoded data removed]",
            "text/plain": [
              "<Figure size 432x288 with 1 Axes>"
            ]
          },
          "metadata": {
            "tags": [],
            "needs_background": "light"
          }
        }
      ]
    },
    {
      "cell_type": "code",
      "metadata": {
        "colab": {
          "base_uri": "https://localhost:8080/"
        },
        "id": "shIlPBnFIPJh",
        "outputId": "b57f12e0-abff-40cd-a07e-cabe2b752b88"
      },
      "source": [
        "from sklearn.cluster import KMeans\r\n",
        "kmeans = KMeans(n_clusters=25, random_state=0).fit(product_vectors)\r\n",
        "kmeans.labels_"
      ],
      "execution_count": 16,
      "outputs": [
        {
          "output_type": "execute_result",
          "data": {
            "text/plain": [
              "array([12, 12, 12, 12, 12, 12, 12, 12, 12, 12,  4,  4,  4,  4,  4,  4,  4,\n",
              "        4,  4,  4,  3,  3,  3,  3,  3,  3,  3,  3,  3,  3, 18, 18, 18, 18,\n",
              "       18, 18, 18, 18, 18, 18,  0,  0,  0,  0,  0,  0,  0,  0,  0,  0,  1,\n",
              "        1,  1,  1,  1,  1,  1,  1,  1,  1, 23, 23, 23, 23, 23, 23, 23, 23,\n",
              "       23, 23, 21, 21, 21, 21, 21, 21, 21, 21, 21, 21, 15, 15, 15, 15, 15,\n",
              "       15, 15, 15, 15, 15, 10, 10, 10, 10, 10, 10, 10, 10, 10, 10, 20, 20,\n",
              "       20, 20, 20, 20, 20, 20, 20, 20, 19, 19, 19, 19, 19, 19, 19, 19, 19,\n",
              "       19,  8,  8,  8,  8,  8,  8,  8,  8,  8,  8, 13, 13, 13, 13, 13, 13,\n",
              "       13, 13, 13, 13, 17, 17, 17, 17, 17, 17, 17, 17, 17, 17,  9,  9,  9,\n",
              "        9,  9,  9,  9,  9,  9,  9, 14, 14, 14, 14, 14, 14, 14, 14, 14, 14,\n",
              "        2,  2,  2,  2,  2,  2,  2,  2,  2,  2, 11, 11, 11, 11, 11, 11, 11,\n",
              "       11, 11, 11,  7,  7,  7,  7,  7,  7,  7,  7,  7,  7, 16, 16, 16, 16,\n",
              "       16, 16, 16, 16, 16, 16, 24, 24, 24, 24, 24, 24, 24, 24, 24, 24, 22,\n",
              "       22, 22, 22, 22, 22, 22, 22, 22, 22,  5,  5,  5,  5,  5,  5,  5,  5,\n",
              "        5,  5,  6,  6,  6,  6,  6,  6,  6,  6,  6,  6], dtype=int32)"
            ]
          },
          "metadata": {
            "tags": []
          },
          "execution_count": 16
        }
      ]
    },
    {
      "cell_type": "code",
      "metadata": {
        "id": "81tKn562JSL4"
      },
      "source": [
        "# Generate a product category\r\n",
        "products = [product for product in range(250)]\r\n",
        "prods_cat_table = pd.DataFrame(data=products, columns=[\"product\"])\r\n",
        "prods_cat_table[\"category\"] = kmeans.labels_\r\n",
        "prods_cat_table[['product', 'category']] = prods_cat_table[['product', 'category']].astype('category')"
      ],
      "execution_count": 17,
      "outputs": []
    },
    {
      "cell_type": "code",
      "metadata": {
        "colab": {
          "base_uri": "https://localhost:8080/",
          "height": 204
        },
        "id": "BR54bFnBM189",
        "outputId": "2b49cb42-66e5-4fff-d56b-4d4b77f7509d"
      },
      "source": [
        "prods_cat_table.head()"
      ],
      "execution_count": 18,
      "outputs": [
        {
          "output_type": "execute_result",
          "data": {
            "text/html": [
              "<div>\n",
              "<style scoped>\n",
              "    .dataframe tbody tr th:only-of-type {\n",
              "        vertical-align: middle;\n",
              "    }\n",
              "\n",
              "    .dataframe tbody tr th {\n",
              "        vertical-align: top;\n",
              "    }\n",
              "\n",
              "    .dataframe thead th {\n",
              "        text-align: right;\n",
              "    }\n",
              "</style>\n",
              "<table border=\"1\" class=\"dataframe\">\n",
              "  <thead>\n",
              "    <tr style=\"text-align: right;\">\n",
              "      <th></th>\n",
              "      <th>product</th>\n",
              "      <th>category</th>\n",
              "    </tr>\n",
              "  </thead>\n",
              "  <tbody>\n",
              "    <tr>\n",
              "      <th>0</th>\n",
              "      <td>0</td>\n",
              "      <td>12</td>\n",
              "    </tr>\n",
              "    <tr>\n",
              "      <th>1</th>\n",
              "      <td>1</td>\n",
              "      <td>12</td>\n",
              "    </tr>\n",
              "    <tr>\n",
              "      <th>2</th>\n",
              "      <td>2</td>\n",
              "      <td>12</td>\n",
              "    </tr>\n",
              "    <tr>\n",
              "      <th>3</th>\n",
              "      <td>3</td>\n",
              "      <td>12</td>\n",
              "    </tr>\n",
              "    <tr>\n",
              "      <th>4</th>\n",
              "      <td>4</td>\n",
              "      <td>12</td>\n",
              "    </tr>\n",
              "  </tbody>\n",
              "</table>\n",
              "</div>"
            ],
            "text/plain": [
              "  product category\n",
              "0       0       12\n",
              "1       1       12\n",
              "2       2       12\n",
              "3       3       12\n",
              "4       4       12"
            ]
          },
          "metadata": {
            "tags": []
          },
          "execution_count": 18
        }
      ]
    },
    {
      "cell_type": "markdown",
      "metadata": {
        "id": "1OWqUvPfruk6"
      },
      "source": [
        "### Complementary Products"
      ]
    },
    {
      "cell_type": "markdown",
      "metadata": {
        "id": "JMDBAo8rI3K3"
      },
      "source": [
        "In Progress"
      ]
    },
    {
      "cell_type": "code",
      "metadata": {
        "id": "m_nyp0CDtF5G"
      },
      "source": [
        "# w_in\r\n",
        "w_in = model.wv.vectors\r\n",
        "\r\n",
        "# w_out\r\n",
        "w_out = model.trainables.syn1neg"
      ],
      "execution_count": 19,
      "outputs": []
    },
    {
      "cell_type": "code",
      "metadata": {
        "colab": {
          "base_uri": "https://localhost:8080/"
        },
        "id": "81T8kC8Yt-H1",
        "outputId": "40f92064-b70d-454c-80b4-632f089eef0b"
      },
      "source": [
        "w_in.shape"
      ],
      "execution_count": 20,
      "outputs": [
        {
          "output_type": "execute_result",
          "data": {
            "text/plain": [
              "(250, 100)"
            ]
          },
          "metadata": {
            "tags": []
          },
          "execution_count": 20
        }
      ]
    },
    {
      "cell_type": "code",
      "metadata": {
        "colab": {
          "base_uri": "https://localhost:8080/"
        },
        "id": "MI-SOYS6uhOE",
        "outputId": "a8cbaa9c-a5b6-4d72-850b-d9abee5aaea0"
      },
      "source": [
        "np.dot(w_in[0], w_out[0])"
      ],
      "execution_count": 21,
      "outputs": [
        {
          "output_type": "execute_result",
          "data": {
            "text/plain": [
              "-4.46165"
            ]
          },
          "metadata": {
            "tags": []
          },
          "execution_count": 21
        }
      ]
    },
    {
      "cell_type": "code",
      "metadata": {
        "colab": {
          "base_uri": "https://localhost:8080/"
        },
        "id": "8bvF2L_L2llC",
        "outputId": "824160a9-2055-4cec-ef32-03af55236466"
      },
      "source": [
        "np.argmax([np.dot(w_in[0], context) for context in w_out])"
      ],
      "execution_count": 22,
      "outputs": [
        {
          "output_type": "execute_result",
          "data": {
            "text/plain": [
              "26"
            ]
          },
          "metadata": {
            "tags": []
          },
          "execution_count": 22
        }
      ]
    },
    {
      "cell_type": "code",
      "metadata": {
        "colab": {
          "base_uri": "https://localhost:8080/"
        },
        "id": "ciLpudxBvo7g",
        "outputId": "d52e46af-dbff-4fcc-8707-3908ccb7446b"
      },
      "source": [
        "model.wv.most_similar('105')"
      ],
      "execution_count": 23,
      "outputs": [
        {
          "output_type": "execute_result",
          "data": {
            "text/plain": [
              "[('101', 0.702397882938385),\n",
              " ('106', 0.6450371146202087),\n",
              " ('102', 0.5996502637863159),\n",
              " ('104', 0.587533175945282),\n",
              " ('100', 0.575513482093811),\n",
              " ('108', 0.5638555884361267),\n",
              " ('107', 0.5464397668838501),\n",
              " ('103', 0.5124387741088867),\n",
              " ('109', 0.4956483542919159),\n",
              " ('9', 0.2718198299407959)]"
            ]
          },
          "metadata": {
            "tags": []
          },
          "execution_count": 23
        }
      ]
    },
    {
      "cell_type": "code",
      "metadata": {
        "colab": {
          "base_uri": "https://localhost:8080/"
        },
        "id": "K_MQ5d6UxN-j",
        "outputId": "62519579-8eb3-48e3-add1-9fac485e7880"
      },
      "source": [
        "model.wv.vocab['105'].index"
      ],
      "execution_count": 24,
      "outputs": [
        {
          "output_type": "execute_result",
          "data": {
            "text/plain": [
              "0"
            ]
          },
          "metadata": {
            "tags": []
          },
          "execution_count": 24
        }
      ]
    },
    {
      "cell_type": "code",
      "metadata": {
        "colab": {
          "base_uri": "https://localhost:8080/"
        },
        "id": "ytkaHLO-xtfZ",
        "outputId": "e3f0e4d7-da35-47dc-cabc-e70aebcdd63b"
      },
      "source": [
        "model.wv.vocab['138'].index"
      ],
      "execution_count": 25,
      "outputs": [
        {
          "output_type": "execute_result",
          "data": {
            "text/plain": [
              "26"
            ]
          },
          "metadata": {
            "tags": []
          },
          "execution_count": 25
        }
      ]
    },
    {
      "cell_type": "code",
      "metadata": {
        "colab": {
          "base_uri": "https://localhost:8080/",
          "height": 35
        },
        "id": "EZQiM-cCx0tT",
        "outputId": "c069dbe8-8955-4688-8a0a-9246ce5d7ba1"
      },
      "source": [
        "model.wv.index2word[26]"
      ],
      "execution_count": 26,
      "outputs": [
        {
          "output_type": "execute_result",
          "data": {
            "application/vnd.google.colaboratory.intrinsic+json": {
              "type": "string"
            },
            "text/plain": [
              "'138'"
            ]
          },
          "metadata": {
            "tags": []
          },
          "execution_count": 26
        }
      ]
    },
    {
      "cell_type": "code",
      "metadata": {
        "colab": {
          "base_uri": "https://localhost:8080/"
        },
        "id": "yeIzW5yRzKx6",
        "outputId": "10e48549-5998-4b0b-ab26-129d283dff43"
      },
      "source": [
        "model.predict_output_word(['3'])"
      ],
      "execution_count": 27,
      "outputs": [
        {
          "output_type": "execute_result",
          "data": {
            "text/plain": [
              "[('197', 0.014731817),\n",
              " ('66', 0.014103713),\n",
              " ('138', 0.013932436),\n",
              " ('105', 0.013757167),\n",
              " ('222', 0.013572404),\n",
              " ('126', 0.012606506),\n",
              " ('249', 0.012148581),\n",
              " ('86', 0.011622194),\n",
              " ('79', 0.0115237385),\n",
              " ('48', 0.011387495)]"
            ]
          },
          "metadata": {
            "tags": []
          },
          "execution_count": 27
        }
      ]
    },
    {
      "cell_type": "markdown",
      "metadata": {
        "id": "tpTEDEJKHe3m"
      },
      "source": [
        "# Set Up Training Table"
      ]
    },
    {
      "cell_type": "code",
      "metadata": {
        "id": "mO2RSVLsNbUe"
      },
      "source": [
        "full_df_train = (baskets_train\r\n",
        "           .merge(\r\n",
        "               coupons_train, \r\n",
        "               on=['week', 'shopper', 'product'], \r\n",
        "               how='outer',\r\n",
        "               indicator=True\r\n",
        "           )\r\n",
        "           .sort_values(by=['week', 'shopper', 'product'])\r\n",
        "           .reset_index(drop=True)\r\n",
        "           .replace(['left_only', 'right_only', 'both'], ['No', 'Yes', 'Yes'])\r\n",
        "           .rename(columns={'_merge': 'coupon'})\r\n",
        ")\r\n",
        "\r\n",
        "full_df_train['discount'].fillna(0, inplace=True)"
      ],
      "execution_count": 28,
      "outputs": []
    },
    {
      "cell_type": "code",
      "metadata": {
        "id": "4DYPPoPWh_vm"
      },
      "source": [
        "df1 = pd.DataFrame({'key':np.ones(weeks), 'week':list(range(weeks))})\r\n",
        "df2 = pd.DataFrame({'key':np.ones(shoppers), 'shopper':list(range(shoppers))})\r\n",
        "df3 = pd.DataFrame({'key':np.ones(250), 'product':list(range(250))})\r\n",
        "df4 = full_df_train.copy()\r\n",
        "\r\n",
        "X_train = (pd\r\n",
        "           .merge(df1, df2, on='key')\r\n",
        "           .merge(df3, on='key')\r\n",
        "           .merge(full_df_train, on=['week', 'shopper', 'product'], how='left')[full_df_train.columns]\r\n",
        ")"
      ],
      "execution_count": 29,
      "outputs": []
    },
    {
      "cell_type": "markdown",
      "metadata": {
        "id": "ptZ7ODD00-tS"
      },
      "source": [
        "Combine all features"
      ]
    },
    {
      "cell_type": "code",
      "metadata": {
        "id": "nFrmiWSu094h"
      },
      "source": [
        "X_train = (X_train\r\n",
        "           .merge(prods_cat_table, on=['product'], how='left')\r\n",
        "           .merge(original_price, on=['product'], how='left')\r\n",
        "           .merge(total_count_of_product, on=['shopper', 'product'], how='left')\r\n",
        "           .merge(reordered, on=['shopper', 'product'], how='left')\r\n",
        "           .merge(ratio_of_reordered_per_product, on=['shopper', 'product'], how='left')\r\n",
        "           .merge(ratio_of_reordered_per_shopper, on=['shopper'], how='left')\r\n",
        "           .merge(average_price_per_shopper, on=['shopper'], how='left')\r\n",
        "           .merge(average_basket_size, on=['shopper'], how='left')\r\n",
        "           .merge(unique_products_per_shopper, on=['shopper'], how='left')\r\n",
        "           )"
      ],
      "execution_count": 30,
      "outputs": []
    },
    {
      "cell_type": "code",
      "metadata": {
        "id": "GDiIwUFu1Q6a",
        "colab": {
          "base_uri": "https://localhost:8080/",
          "height": 224
        },
        "outputId": "4775c71a-95ba-4d4f-8887-71cda0a7cdb5"
      },
      "source": [
        "X_train.head()"
      ],
      "execution_count": 31,
      "outputs": [
        {
          "output_type": "execute_result",
          "data": {
            "text/html": [
              "<div>\n",
              "<style scoped>\n",
              "    .dataframe tbody tr th:only-of-type {\n",
              "        vertical-align: middle;\n",
              "    }\n",
              "\n",
              "    .dataframe tbody tr th {\n",
              "        vertical-align: top;\n",
              "    }\n",
              "\n",
              "    .dataframe thead th {\n",
              "        text-align: right;\n",
              "    }\n",
              "</style>\n",
              "<table border=\"1\" class=\"dataframe\">\n",
              "  <thead>\n",
              "    <tr style=\"text-align: right;\">\n",
              "      <th></th>\n",
              "      <th>week</th>\n",
              "      <th>shopper</th>\n",
              "      <th>product</th>\n",
              "      <th>price</th>\n",
              "      <th>target</th>\n",
              "      <th>discount</th>\n",
              "      <th>coupon</th>\n",
              "      <th>category</th>\n",
              "      <th>original_price</th>\n",
              "      <th>total_count_of_product</th>\n",
              "      <th>reordered</th>\n",
              "      <th>ratio_of_reordered_per_product</th>\n",
              "      <th>ratio_of_reordered</th>\n",
              "      <th>average_price_per_shopper</th>\n",
              "      <th>average_basket_size</th>\n",
              "      <th>unique_products_per_shopper</th>\n",
              "    </tr>\n",
              "  </thead>\n",
              "  <tbody>\n",
              "    <tr>\n",
              "      <th>0</th>\n",
              "      <td>0</td>\n",
              "      <td>0</td>\n",
              "      <td>0</td>\n",
              "      <td>NaN</td>\n",
              "      <td>NaN</td>\n",
              "      <td>NaN</td>\n",
              "      <td>NaN</td>\n",
              "      <td>12</td>\n",
              "      <td>688</td>\n",
              "      <td>0</td>\n",
              "      <td>NaN</td>\n",
              "      <td>0.000000</td>\n",
              "      <td>0.722222</td>\n",
              "      <td>587.203947</td>\n",
              "      <td>8.539326</td>\n",
              "      <td>54</td>\n",
              "    </tr>\n",
              "    <tr>\n",
              "      <th>1</th>\n",
              "      <td>0</td>\n",
              "      <td>0</td>\n",
              "      <td>1</td>\n",
              "      <td>NaN</td>\n",
              "      <td>NaN</td>\n",
              "      <td>NaN</td>\n",
              "      <td>NaN</td>\n",
              "      <td>12</td>\n",
              "      <td>560</td>\n",
              "      <td>0</td>\n",
              "      <td>NaN</td>\n",
              "      <td>0.000000</td>\n",
              "      <td>0.722222</td>\n",
              "      <td>587.203947</td>\n",
              "      <td>8.539326</td>\n",
              "      <td>54</td>\n",
              "    </tr>\n",
              "    <tr>\n",
              "      <th>2</th>\n",
              "      <td>0</td>\n",
              "      <td>0</td>\n",
              "      <td>2</td>\n",
              "      <td>NaN</td>\n",
              "      <td>NaN</td>\n",
              "      <td>NaN</td>\n",
              "      <td>NaN</td>\n",
              "      <td>12</td>\n",
              "      <td>773</td>\n",
              "      <td>0</td>\n",
              "      <td>NaN</td>\n",
              "      <td>0.000000</td>\n",
              "      <td>0.722222</td>\n",
              "      <td>587.203947</td>\n",
              "      <td>8.539326</td>\n",
              "      <td>54</td>\n",
              "    </tr>\n",
              "    <tr>\n",
              "      <th>3</th>\n",
              "      <td>0</td>\n",
              "      <td>0</td>\n",
              "      <td>3</td>\n",
              "      <td>NaN</td>\n",
              "      <td>NaN</td>\n",
              "      <td>NaN</td>\n",
              "      <td>NaN</td>\n",
              "      <td>12</td>\n",
              "      <td>722</td>\n",
              "      <td>0</td>\n",
              "      <td>NaN</td>\n",
              "      <td>0.000000</td>\n",
              "      <td>0.722222</td>\n",
              "      <td>587.203947</td>\n",
              "      <td>8.539326</td>\n",
              "      <td>54</td>\n",
              "    </tr>\n",
              "    <tr>\n",
              "      <th>4</th>\n",
              "      <td>0</td>\n",
              "      <td>0</td>\n",
              "      <td>4</td>\n",
              "      <td>NaN</td>\n",
              "      <td>NaN</td>\n",
              "      <td>NaN</td>\n",
              "      <td>NaN</td>\n",
              "      <td>12</td>\n",
              "      <td>620</td>\n",
              "      <td>8</td>\n",
              "      <td>1.0</td>\n",
              "      <td>0.089888</td>\n",
              "      <td>0.722222</td>\n",
              "      <td>587.203947</td>\n",
              "      <td>8.539326</td>\n",
              "      <td>54</td>\n",
              "    </tr>\n",
              "  </tbody>\n",
              "</table>\n",
              "</div>"
            ],
            "text/plain": [
              "   week shopper  ... average_basket_size  unique_products_per_shopper\n",
              "0     0       0  ...            8.539326                           54\n",
              "1     0       0  ...            8.539326                           54\n",
              "2     0       0  ...            8.539326                           54\n",
              "3     0       0  ...            8.539326                           54\n",
              "4     0       0  ...            8.539326                           54\n",
              "\n",
              "[5 rows x 16 columns]"
            ]
          },
          "metadata": {
            "tags": []
          },
          "execution_count": 31
        }
      ]
    },
    {
      "cell_type": "code",
      "metadata": {
        "id": "qn633XNg1433"
      },
      "source": [
        "X_train['discount'].fillna(0, inplace=True)\r\n",
        "X_train['price'].fillna(X_train.original_price*(1-X_train.discount/100), inplace=True)\r\n",
        "X_train['reordered'].fillna(0, inplace=True)\r\n",
        "X_train['coupon'].fillna('No', inplace=True)\r\n",
        "X_train['target'].fillna(0, inplace=True)"
      ],
      "execution_count": 32,
      "outputs": []
    },
    {
      "cell_type": "code",
      "metadata": {
        "id": "revDtQoM9TZM"
      },
      "source": [
        "# Count weeks since last order of that product\r\n",
        "addkey = X_train.groupby(['shopper','product']).target.apply(lambda x : x.eq(1).shift().fillna(0).cumsum())\r\n",
        "X_train['weeks_since_prior_order'] = X_train.target.eq(0).groupby([X_train['shopper'], X_train['product'], addkey]).cumcount().add(1) # .cumsum()"
      ],
      "execution_count": 33,
      "outputs": []
    },
    {
      "cell_type": "code",
      "metadata": {
        "colab": {
          "base_uri": "https://localhost:8080/",
          "height": 162
        },
        "id": "rza1aULIKYhH",
        "outputId": "ab052b5e-3c6f-4b00-a1ed-3df7319e55d9"
      },
      "source": [
        "X_train.head(3)"
      ],
      "execution_count": 34,
      "outputs": [
        {
          "output_type": "execute_result",
          "data": {
            "text/html": [
              "<div>\n",
              "<style scoped>\n",
              "    .dataframe tbody tr th:only-of-type {\n",
              "        vertical-align: middle;\n",
              "    }\n",
              "\n",
              "    .dataframe tbody tr th {\n",
              "        vertical-align: top;\n",
              "    }\n",
              "\n",
              "    .dataframe thead th {\n",
              "        text-align: right;\n",
              "    }\n",
              "</style>\n",
              "<table border=\"1\" class=\"dataframe\">\n",
              "  <thead>\n",
              "    <tr style=\"text-align: right;\">\n",
              "      <th></th>\n",
              "      <th>week</th>\n",
              "      <th>shopper</th>\n",
              "      <th>product</th>\n",
              "      <th>price</th>\n",
              "      <th>target</th>\n",
              "      <th>discount</th>\n",
              "      <th>coupon</th>\n",
              "      <th>category</th>\n",
              "      <th>original_price</th>\n",
              "      <th>total_count_of_product</th>\n",
              "      <th>reordered</th>\n",
              "      <th>ratio_of_reordered_per_product</th>\n",
              "      <th>ratio_of_reordered</th>\n",
              "      <th>average_price_per_shopper</th>\n",
              "      <th>average_basket_size</th>\n",
              "      <th>unique_products_per_shopper</th>\n",
              "      <th>weeks_since_prior_order</th>\n",
              "    </tr>\n",
              "  </thead>\n",
              "  <tbody>\n",
              "    <tr>\n",
              "      <th>0</th>\n",
              "      <td>0</td>\n",
              "      <td>0</td>\n",
              "      <td>0</td>\n",
              "      <td>688.0</td>\n",
              "      <td>0.0</td>\n",
              "      <td>0.0</td>\n",
              "      <td>No</td>\n",
              "      <td>12</td>\n",
              "      <td>688</td>\n",
              "      <td>0</td>\n",
              "      <td>0.0</td>\n",
              "      <td>0.0</td>\n",
              "      <td>0.722222</td>\n",
              "      <td>587.203947</td>\n",
              "      <td>8.539326</td>\n",
              "      <td>54</td>\n",
              "      <td>1</td>\n",
              "    </tr>\n",
              "    <tr>\n",
              "      <th>1</th>\n",
              "      <td>0</td>\n",
              "      <td>0</td>\n",
              "      <td>1</td>\n",
              "      <td>560.0</td>\n",
              "      <td>0.0</td>\n",
              "      <td>0.0</td>\n",
              "      <td>No</td>\n",
              "      <td>12</td>\n",
              "      <td>560</td>\n",
              "      <td>0</td>\n",
              "      <td>0.0</td>\n",
              "      <td>0.0</td>\n",
              "      <td>0.722222</td>\n",
              "      <td>587.203947</td>\n",
              "      <td>8.539326</td>\n",
              "      <td>54</td>\n",
              "      <td>1</td>\n",
              "    </tr>\n",
              "    <tr>\n",
              "      <th>2</th>\n",
              "      <td>0</td>\n",
              "      <td>0</td>\n",
              "      <td>2</td>\n",
              "      <td>773.0</td>\n",
              "      <td>0.0</td>\n",
              "      <td>0.0</td>\n",
              "      <td>No</td>\n",
              "      <td>12</td>\n",
              "      <td>773</td>\n",
              "      <td>0</td>\n",
              "      <td>0.0</td>\n",
              "      <td>0.0</td>\n",
              "      <td>0.722222</td>\n",
              "      <td>587.203947</td>\n",
              "      <td>8.539326</td>\n",
              "      <td>54</td>\n",
              "      <td>1</td>\n",
              "    </tr>\n",
              "  </tbody>\n",
              "</table>\n",
              "</div>"
            ],
            "text/plain": [
              "   week shopper  ... unique_products_per_shopper  weeks_since_prior_order\n",
              "0     0       0  ...                          54                        1\n",
              "1     0       0  ...                          54                        1\n",
              "2     0       0  ...                          54                        1\n",
              "\n",
              "[3 rows x 17 columns]"
            ]
          },
          "metadata": {
            "tags": []
          },
          "execution_count": 34
        }
      ]
    },
    {
      "cell_type": "code",
      "metadata": {
        "id": "HpLTLpYsNK2b"
      },
      "source": [
        "X_train.drop('week', inplace=True, axis=1)\r\n",
        "y_train = X_train.pop('target')"
      ],
      "execution_count": 35,
      "outputs": []
    },
    {
      "cell_type": "markdown",
      "metadata": {
        "id": "axqHOE9eFziV"
      },
      "source": [
        "# Set Up Test Table"
      ]
    },
    {
      "cell_type": "code",
      "metadata": {
        "id": "FT6UARG-F1M1"
      },
      "source": [
        "full_df_test = (baskets_test\r\n",
        "           .merge(\r\n",
        "               coupons_test, \r\n",
        "               on=['week', 'shopper', 'product'], \r\n",
        "               how='outer',\r\n",
        "               indicator=True\r\n",
        "           )\r\n",
        "           .sort_values(by=['week', 'shopper', 'product'])\r\n",
        "           .reset_index(drop=True)\r\n",
        "           .replace(['left_only', 'right_only', 'both'], ['No', 'Yes', 'Yes'])\r\n",
        "           .rename(columns={'_merge': 'coupon'})\r\n",
        ")\r\n",
        "\r\n",
        "full_df_test['discount'].fillna(0, inplace=True)"
      ],
      "execution_count": 36,
      "outputs": []
    },
    {
      "cell_type": "code",
      "metadata": {
        "id": "0798jjAoGYBX"
      },
      "source": [
        "df1 = pd.DataFrame({'key': np.ones(len(baskets_test.week.unique())), 'week': baskets_test.week.unique()})\r\n",
        "df2 = pd.DataFrame({'key': np.ones(shoppers), 'shopper': list(range(shoppers))})\r\n",
        "df3 = pd.DataFrame({'key': np.ones(250), 'product': list(range(250))})\r\n",
        "\r\n",
        "X_test = (pd\r\n",
        "          .merge(df1, df2, on='key')\r\n",
        "          .merge(df3, on='key')\r\n",
        "          .merge(full_df_test, on=['week', 'shopper', 'product'], how='left')[full_df_test.columns]\r\n",
        ")"
      ],
      "execution_count": 37,
      "outputs": []
    },
    {
      "cell_type": "code",
      "metadata": {
        "id": "8NGu4gbdHRX0"
      },
      "source": [
        "X_test = (X_test\r\n",
        "          .merge(prods_cat_table, on=['product'], how='left')\r\n",
        "          .merge(original_price, on=['product'], how='left')\r\n",
        "          .merge(total_count_of_product, on=['shopper', 'product'], how='left')\r\n",
        "          .merge(reordered, on=['shopper', 'product'], how='left')\r\n",
        "          .merge(ratio_of_reordered_per_product, on=['shopper', 'product'], how='left')\r\n",
        "          .merge(ratio_of_reordered_per_shopper, on=['shopper'], how='left')\r\n",
        "          .merge(average_price_per_shopper, on=['shopper'], how='left')\r\n",
        "          .merge(average_basket_size, on=['shopper'], how='left')\r\n",
        "          .merge(unique_products_per_shopper, on=['shopper'], how='left')\r\n",
        ")"
      ],
      "execution_count": 38,
      "outputs": []
    },
    {
      "cell_type": "code",
      "metadata": {
        "id": "rOrIgnqAHW2E"
      },
      "source": [
        "X_test['discount'].fillna(0, inplace=True)\r\n",
        "X_test['price'].fillna(X_test.original_price*(1-X_test.discount/100), inplace=True)\r\n",
        "X_test['reordered'].fillna(0, inplace=True)\r\n",
        "X_test['coupon'].fillna('No', inplace=True)\r\n",
        "X_test['target'].fillna(0, inplace=True)"
      ],
      "execution_count": 39,
      "outputs": []
    },
    {
      "cell_type": "code",
      "metadata": {
        "id": "gSwbUr6iqM6K"
      },
      "source": [
        "# Take weeks_since_prior_order from last available week in training and add 1\r\n",
        "last_weeks_since_prior_order = X_train.groupby(['shopper', 'product']).weeks_since_prior_order.last() + 1\r\n",
        "\r\n",
        "X_test = X_test.merge(last_weeks_since_prior_order, on=['shopper', 'product'])"
      ],
      "execution_count": 40,
      "outputs": []
    },
    {
      "cell_type": "code",
      "metadata": {
        "id": "esJU5lH5Hfrw"
      },
      "source": [
        "X_test.drop('week', inplace=True, axis=1)\r\n",
        "y_test = X_test.pop('target')"
      ],
      "execution_count": 41,
      "outputs": []
    },
    {
      "cell_type": "markdown",
      "metadata": {
        "id": "IpTCdVohNBfe"
      },
      "source": [
        "# One-Hot Encoding Products"
      ]
    },
    {
      "cell_type": "markdown",
      "metadata": {
        "id": "qzQaHDMQJ3ln"
      },
      "source": [
        "LightGBM handles categorical data, so no separata encoding necessary"
      ]
    },
    {
      "cell_type": "code",
      "metadata": {
        "id": "YPQYX7XsNFkc"
      },
      "source": [
        "# from sklearn.preprocessing import OneHotEncoder"
      ],
      "execution_count": 42,
      "outputs": []
    },
    {
      "cell_type": "code",
      "metadata": {
        "id": "JEu6IUrcNYUF"
      },
      "source": [
        "# enc = OneHotEncoder(sparse=False)\r\n",
        "\r\n",
        "# encodings = X_train.select_dtypes(exclude=np.number).columns.tolist()\r\n",
        "# # encoded = pd.DataFrame.sparse.from_spmatrix(enc.fit_transform(X_train[encodings]))\r\n",
        "# encoded = pd.DataFrame(enc.fit_transform(X_train[encodings]))\r\n",
        "# encoded.columns = enc.get_feature_names(encodings)\r\n",
        "\r\n",
        "# X_train = pd.concat([X_train, encoded], axis=1).drop(encodings, axis=1)\r\n",
        "\r\n",
        "# X_train = X_train.apply(pd.to_numeric)\r\n",
        "\r\n",
        "# X_train.head(3)"
      ],
      "execution_count": 43,
      "outputs": []
    },
    {
      "cell_type": "markdown",
      "metadata": {
        "id": "YJru_84FBBkL"
      },
      "source": [
        "# Training"
      ]
    },
    {
      "cell_type": "code",
      "metadata": {
        "id": "OZzYldzn82cy"
      },
      "source": [
        "import lightgbm as lgb\r\n",
        "from lightgbm.sklearn import LGBMClassifier"
      ],
      "execution_count": 44,
      "outputs": []
    },
    {
      "cell_type": "code",
      "metadata": {
        "id": "wdA8Ksti88PQ"
      },
      "source": [
        "from collections import Counter\r\n",
        "\r\n",
        "# count examples in each class\r\n",
        "counter = Counter(y_train)\r\n",
        "class_imbalance = counter[0] / counter[1] # parameter to counter class imbalance\r\n",
        "\r\n",
        "lgb_clf = LGBMClassifier(\r\n",
        "    scale_pos_weight=1 # =class_imbalance\r\n",
        "    )"
      ],
      "execution_count": 45,
      "outputs": []
    },
    {
      "cell_type": "code",
      "metadata": {
        "id": "tSs4AVy4EoNX"
      },
      "source": [
        "categorical = X_train.select_dtypes(exclude=np.number).columns.tolist()\r\n",
        "\r\n",
        "for cats in categorical:\r\n",
        "  X_train[cats] = X_train[cats].astype('category')\r\n",
        "  X_test[cats] = X_test[cats].astype('category')"
      ],
      "execution_count": 46,
      "outputs": []
    },
    {
      "cell_type": "code",
      "metadata": {
        "colab": {
          "base_uri": "https://localhost:8080/"
        },
        "id": "6JpsBYe96hEK",
        "outputId": "9cbd4f30-7aae-4783-d40d-b4054761e7c9"
      },
      "source": [
        "lgb_clf.fit(X_train, y_train, categorical_feature=categorical)"
      ],
      "execution_count": 47,
      "outputs": [
        {
          "output_type": "stream",
          "text": [
            "/usr/local/lib/python3.7/dist-packages/lightgbm/basic.py:1209: UserWarning: categorical_feature in Dataset is overridden.\n",
            "New categorical_feature is ['category', 'coupon', 'product', 'shopper']\n",
            "  'New categorical_feature is {}'.format(sorted(list(categorical_feature))))\n"
          ],
          "name": "stderr"
        },
        {
          "output_type": "execute_result",
          "data": {
            "text/plain": [
              "LGBMClassifier(boosting_type='gbdt', class_weight=None, colsample_bytree=1.0,\n",
              "               importance_type='split', learning_rate=0.1, max_depth=-1,\n",
              "               min_child_samples=20, min_child_weight=0.001, min_split_gain=0.0,\n",
              "               n_estimators=100, n_jobs=-1, num_leaves=31, objective=None,\n",
              "               random_state=None, reg_alpha=0.0, reg_lambda=0.0,\n",
              "               scale_pos_weight=1, silent=True, subsample=1.0,\n",
              "               subsample_for_bin=200000, subsample_freq=0)"
            ]
          },
          "metadata": {
            "tags": []
          },
          "execution_count": 47
        }
      ]
    },
    {
      "cell_type": "code",
      "metadata": {
        "colab": {
          "base_uri": "https://localhost:8080/"
        },
        "id": "ww-I5suLK2ky",
        "outputId": "556e145d-d771-4609-b68a-019a8f0a05c5"
      },
      "source": [
        "lgb_clf.score(X_train, y_train)"
      ],
      "execution_count": 48,
      "outputs": [
        {
          "output_type": "execute_result",
          "data": {
            "text/plain": [
              "0.9726444943820225"
            ]
          },
          "metadata": {
            "tags": []
          },
          "execution_count": 48
        }
      ]
    },
    {
      "cell_type": "code",
      "metadata": {
        "colab": {
          "base_uri": "https://localhost:8080/"
        },
        "id": "y8Ed3Njd_rAs",
        "outputId": "0f8a5f14-45c5-49ab-aa5b-480a9a3ec9a6"
      },
      "source": [
        "lgb_clf.score(X_test, y_test)"
      ],
      "execution_count": 49,
      "outputs": [
        {
          "output_type": "execute_result",
          "data": {
            "text/plain": [
              "0.97064"
            ]
          },
          "metadata": {
            "tags": []
          },
          "execution_count": 49
        }
      ]
    },
    {
      "cell_type": "markdown",
      "metadata": {
        "id": "8gNl_D1m_MGG"
      },
      "source": [
        "## Evaluation"
      ]
    },
    {
      "cell_type": "code",
      "metadata": {
        "colab": {
          "base_uri": "https://localhost:8080/",
          "height": 312
        },
        "id": "r73rkPIYFn1I",
        "outputId": "a8b95ecd-ec5c-41f3-f3cf-fbc3554177ec"
      },
      "source": [
        "lgb.plot_importance(lgb_clf, max_num_features=10)"
      ],
      "execution_count": 50,
      "outputs": [
        {
          "output_type": "execute_result",
          "data": {
            "text/plain": [
              "<matplotlib.axes._subplots.AxesSubplot at 0x7fefc3fc3450>"
            ]
          },
          "metadata": {
            "tags": []
          },
          "execution_count": 50
        },
        {
          "output_type": "display_data",
          "data": {
            "image/png": "[encoded data removed]",
            "text/plain": [
              "<Figure size 432x288 with 1 Axes>"
            ]
          },
          "metadata": {
            "tags": [],
            "needs_background": "light"
          }
        }
      ]
    },
    {
      "cell_type": "code",
      "metadata": {
        "colab": {
          "base_uri": "https://localhost:8080/",
          "height": 312
        },
        "id": "FYfDwpA4JLeQ",
        "outputId": "f1c4c611-ce02-4d29-caa8-6175f6152311"
      },
      "source": [
        "lgb.plot_importance(lgb_clf, max_num_features=10, importance_type='gain')"
      ],
      "execution_count": 51,
      "outputs": [
        {
          "output_type": "execute_result",
          "data": {
            "text/plain": [
              "<matplotlib.axes._subplots.AxesSubplot at 0x7fefc3e11b90>"
            ]
          },
          "metadata": {
            "tags": []
          },
          "execution_count": 51
        },
        {
          "output_type": "display_data",
          "data": {
            "image/png": "[encoded data removed]",
            "text/plain": [
              "<Figure size 432x288 with 1 Axes>"
            ]
          },
          "metadata": {
            "tags": [],
            "needs_background": "light"
          }
        }
      ]
    },
    {
      "cell_type": "code",
      "metadata": {
        "colab": {
          "base_uri": "https://localhost:8080/",
          "height": 296
        },
        "id": "3OJJnMzMLY_w",
        "outputId": "93a79325-8f9a-42a4-ac3a-4512e8f81e20"
      },
      "source": [
        "from sklearn.metrics import plot_roc_curve\r\n",
        "plot_roc_curve(estimator=lgb_clf, X=X_test, y=y_test)"
      ],
      "execution_count": 52,
      "outputs": [
        {
          "output_type": "execute_result",
          "data": {
            "text/plain": [
              "<sklearn.metrics._plot.roc_curve.RocCurveDisplay at 0x7fefd50e8cd0>"
            ]
          },
          "metadata": {
            "tags": []
          },
          "execution_count": 52
        },
        {
          "output_type": "display_data",
          "data": {
            "image/png": "[encoded data removed]",
            "text/plain": [
              "<Figure size 432x288 with 1 Axes>"
            ]
          },
          "metadata": {
            "tags": [],
            "needs_background": "light"
          }
        }
      ]
    },
    {
      "cell_type": "code",
      "metadata": {
        "colab": {
          "base_uri": "https://localhost:8080/",
          "height": 296
        },
        "id": "wDJ2A_hGVtlu",
        "outputId": "6e388076-e7b4-4e6d-cb7e-2edccbebf3d1"
      },
      "source": [
        "from sklearn.metrics import plot_confusion_matrix\r\n",
        "from sklearn.metrics import confusion_matrix\r\n",
        "\r\n",
        "y_pred = lgb_clf.predict(X_test)\r\n",
        "confusion = confusion_matrix(y_test, y_pred)\r\n",
        "plot_confusion_matrix(estimator=lgb_clf, X=X_test, y_true=y_test, display_labels=['No', 'Yes'], normalize='true')"
      ],
      "execution_count": 53,
      "outputs": [
        {
          "output_type": "execute_result",
          "data": {
            "text/plain": [
              "<sklearn.metrics._plot.confusion_matrix.ConfusionMatrixDisplay at 0x7fefc3ceb810>"
            ]
          },
          "metadata": {
            "tags": []
          },
          "execution_count": 53
        },
        {
          "output_type": "display_data",
          "data": {
            "image/png": "[encoded data removed]",
            "text/plain": [
              "<Figure size 432x288 with 2 Axes>"
            ]
          },
          "metadata": {
            "tags": [],
            "needs_background": "light"
          }
        }
      ]
    },
    {
      "cell_type": "code",
      "metadata": {
        "colab": {
          "base_uri": "https://localhost:8080/"
        },
        "id": "cYUx-LeHWd2O",
        "outputId": "0f2d1c86-9b6f-44a2-f606-ea4edbad76d4"
      },
      "source": [
        "confusion"
      ],
      "execution_count": 54,
      "outputs": [
        {
          "output_type": "execute_result",
          "data": {
            "text/plain": [
              "array([[24085,   196],\n",
              "       [  538,   181]])"
            ]
          },
          "metadata": {
            "tags": []
          },
          "execution_count": 54
        }
      ]
    },
    {
      "cell_type": "code",
      "metadata": {
        "id": "XkJPcocOYQSs"
      },
      "source": [
        "FP = confusion[0][1]\r\n",
        "FN = confusion[1][0]\r\n",
        "TP = confusion[1][1]\r\n",
        "TN = confusion[0][0]\r\n",
        "\r\n",
        "# Sensitivity, hit rate, recall, or true positive rate\r\n",
        "TPR = TP/(TP+FN)\r\n",
        "# Specificity or true negative rate\r\n",
        "TNR = TN/(TN+FP) \r\n",
        "# Negative predictive value\r\n",
        "NPV = TN/(TN+FN)\r\n",
        "# Fall out or false positive rate\r\n",
        "FPR = FP/(FP+TN)\r\n",
        "# False negative rate\r\n",
        "FNR = FN/(TP+FN)\r\n",
        "# Precision\r\n",
        "PPV = TP/(TP+FP)\r\n",
        "# False discovery rate -> 1-Precision\r\n",
        "FDR = FP/(TP+FP)\r\n",
        "\r\n",
        "# Overall accuracy\r\n",
        "ACC = (TP+TN)/(TP+FP+FN+TN)"
      ],
      "execution_count": 55,
      "outputs": []
    },
    {
      "cell_type": "code",
      "metadata": {
        "colab": {
          "base_uri": "https://localhost:8080/"
        },
        "id": "gQhj4F3vZ8XE",
        "outputId": "e9f55a49-e69c-4de4-c6f7-ab2e961a964c"
      },
      "source": [
        "print(f'Precision: {PPV:.4f}')\r\n",
        "print(f'Recall (TPR): {TPR:.4f}')\r\n",
        "print(f'TNR: {TNR:.4f}')\r\n",
        "print(f'FPR: {FPR:.4f}')\r\n",
        "print(f'FNR: {FNR:.4f}')"
      ],
      "execution_count": 56,
      "outputs": [
        {
          "output_type": "stream",
          "text": [
            "Precision: 0.4801\n",
            "Recall (TPR): 0.2517\n",
            "TNR: 0.9919\n",
            "FPR: 0.0081\n",
            "FNR: 0.7483\n"
          ],
          "name": "stdout"
        }
      ]
    },
    {
      "cell_type": "markdown",
      "metadata": {
        "id": "6wfrfIg6_PBa"
      },
      "source": [
        "## evaluating specific examples"
      ]
    },
    {
      "cell_type": "code",
      "metadata": {
        "colab": {
          "base_uri": "https://localhost:8080/",
          "height": 419
        },
        "id": "m4ELOXB_3H0B",
        "outputId": "6577f0b1-a32d-4c60-869a-53ab40f5c410"
      },
      "source": [
        "pd.DataFrame(lgb_clf.predict_proba(X_test))"
      ],
      "execution_count": 57,
      "outputs": [
        {
          "output_type": "execute_result",
          "data": {
            "text/html": [
              "<div>\n",
              "<style scoped>\n",
              "    .dataframe tbody tr th:only-of-type {\n",
              "        vertical-align: middle;\n",
              "    }\n",
              "\n",
              "    .dataframe tbody tr th {\n",
              "        vertical-align: top;\n",
              "    }\n",
              "\n",
              "    .dataframe thead th {\n",
              "        text-align: right;\n",
              "    }\n",
              "</style>\n",
              "<table border=\"1\" class=\"dataframe\">\n",
              "  <thead>\n",
              "    <tr style=\"text-align: right;\">\n",
              "      <th></th>\n",
              "      <th>0</th>\n",
              "      <th>1</th>\n",
              "    </tr>\n",
              "  </thead>\n",
              "  <tbody>\n",
              "    <tr>\n",
              "      <th>0</th>\n",
              "      <td>0.999999</td>\n",
              "      <td>0.000001</td>\n",
              "    </tr>\n",
              "    <tr>\n",
              "      <th>1</th>\n",
              "      <td>0.999999</td>\n",
              "      <td>0.000001</td>\n",
              "    </tr>\n",
              "    <tr>\n",
              "      <th>2</th>\n",
              "      <td>0.999999</td>\n",
              "      <td>0.000001</td>\n",
              "    </tr>\n",
              "    <tr>\n",
              "      <th>3</th>\n",
              "      <td>0.999999</td>\n",
              "      <td>0.000001</td>\n",
              "    </tr>\n",
              "    <tr>\n",
              "      <th>4</th>\n",
              "      <td>0.908124</td>\n",
              "      <td>0.091876</td>\n",
              "    </tr>\n",
              "    <tr>\n",
              "      <th>...</th>\n",
              "      <td>...</td>\n",
              "      <td>...</td>\n",
              "    </tr>\n",
              "    <tr>\n",
              "      <th>24995</th>\n",
              "      <td>0.999999</td>\n",
              "      <td>0.000001</td>\n",
              "    </tr>\n",
              "    <tr>\n",
              "      <th>24996</th>\n",
              "      <td>0.583541</td>\n",
              "      <td>0.416459</td>\n",
              "    </tr>\n",
              "    <tr>\n",
              "      <th>24997</th>\n",
              "      <td>0.999999</td>\n",
              "      <td>0.000001</td>\n",
              "    </tr>\n",
              "    <tr>\n",
              "      <th>24998</th>\n",
              "      <td>0.999999</td>\n",
              "      <td>0.000001</td>\n",
              "    </tr>\n",
              "    <tr>\n",
              "      <th>24999</th>\n",
              "      <td>0.999999</td>\n",
              "      <td>0.000001</td>\n",
              "    </tr>\n",
              "  </tbody>\n",
              "</table>\n",
              "<p>25000 rows × 2 columns</p>\n",
              "</div>"
            ],
            "text/plain": [
              "              0         1\n",
              "0      0.999999  0.000001\n",
              "1      0.999999  0.000001\n",
              "2      0.999999  0.000001\n",
              "3      0.999999  0.000001\n",
              "4      0.908124  0.091876\n",
              "...         ...       ...\n",
              "24995  0.999999  0.000001\n",
              "24996  0.583541  0.416459\n",
              "24997  0.999999  0.000001\n",
              "24998  0.999999  0.000001\n",
              "24999  0.999999  0.000001\n",
              "\n",
              "[25000 rows x 2 columns]"
            ]
          },
          "metadata": {
            "tags": []
          },
          "execution_count": 57
        }
      ]
    },
    {
      "cell_type": "code",
      "metadata": {
        "id": "1pL4w-bH3tom"
      },
      "source": [
        "pred_frame = pd.concat((X_test, y_test, pd.DataFrame(lgb_clf.predict_proba(X_test))[1]), axis=1)[['shopper', 'product', 'target', 'weeks_since_prior_order', 1]]"
      ],
      "execution_count": 58,
      "outputs": []
    },
    {
      "cell_type": "code",
      "metadata": {
        "colab": {
          "base_uri": "https://localhost:8080/",
          "height": 359
        },
        "id": "2-O21JfT4NBI",
        "outputId": "6f288c48-a488-478a-dda2-587f1c912fc5"
      },
      "source": [
        "pred_frame.tail(10)"
      ],
      "execution_count": 59,
      "outputs": [
        {
          "output_type": "execute_result",
          "data": {
            "text/html": [
              "<div>\n",
              "<style scoped>\n",
              "    .dataframe tbody tr th:only-of-type {\n",
              "        vertical-align: middle;\n",
              "    }\n",
              "\n",
              "    .dataframe tbody tr th {\n",
              "        vertical-align: top;\n",
              "    }\n",
              "\n",
              "    .dataframe thead th {\n",
              "        text-align: right;\n",
              "    }\n",
              "</style>\n",
              "<table border=\"1\" class=\"dataframe\">\n",
              "  <thead>\n",
              "    <tr style=\"text-align: right;\">\n",
              "      <th></th>\n",
              "      <th>shopper</th>\n",
              "      <th>product</th>\n",
              "      <th>target</th>\n",
              "      <th>weeks_since_prior_order</th>\n",
              "      <th>1</th>\n",
              "    </tr>\n",
              "  </thead>\n",
              "  <tbody>\n",
              "    <tr>\n",
              "      <th>24990</th>\n",
              "      <td>99</td>\n",
              "      <td>240</td>\n",
              "      <td>0.0</td>\n",
              "      <td>90</td>\n",
              "      <td>0.000001</td>\n",
              "    </tr>\n",
              "    <tr>\n",
              "      <th>24991</th>\n",
              "      <td>99</td>\n",
              "      <td>241</td>\n",
              "      <td>0.0</td>\n",
              "      <td>90</td>\n",
              "      <td>0.000001</td>\n",
              "    </tr>\n",
              "    <tr>\n",
              "      <th>24992</th>\n",
              "      <td>99</td>\n",
              "      <td>242</td>\n",
              "      <td>0.0</td>\n",
              "      <td>44</td>\n",
              "      <td>0.011380</td>\n",
              "    </tr>\n",
              "    <tr>\n",
              "      <th>24993</th>\n",
              "      <td>99</td>\n",
              "      <td>243</td>\n",
              "      <td>0.0</td>\n",
              "      <td>90</td>\n",
              "      <td>0.000001</td>\n",
              "    </tr>\n",
              "    <tr>\n",
              "      <th>24994</th>\n",
              "      <td>99</td>\n",
              "      <td>244</td>\n",
              "      <td>0.0</td>\n",
              "      <td>90</td>\n",
              "      <td>0.000001</td>\n",
              "    </tr>\n",
              "    <tr>\n",
              "      <th>24995</th>\n",
              "      <td>99</td>\n",
              "      <td>245</td>\n",
              "      <td>0.0</td>\n",
              "      <td>90</td>\n",
              "      <td>0.000001</td>\n",
              "    </tr>\n",
              "    <tr>\n",
              "      <th>24996</th>\n",
              "      <td>99</td>\n",
              "      <td>246</td>\n",
              "      <td>1.0</td>\n",
              "      <td>12</td>\n",
              "      <td>0.416459</td>\n",
              "    </tr>\n",
              "    <tr>\n",
              "      <th>24997</th>\n",
              "      <td>99</td>\n",
              "      <td>247</td>\n",
              "      <td>0.0</td>\n",
              "      <td>90</td>\n",
              "      <td>0.000001</td>\n",
              "    </tr>\n",
              "    <tr>\n",
              "      <th>24998</th>\n",
              "      <td>99</td>\n",
              "      <td>248</td>\n",
              "      <td>0.0</td>\n",
              "      <td>90</td>\n",
              "      <td>0.000001</td>\n",
              "    </tr>\n",
              "    <tr>\n",
              "      <th>24999</th>\n",
              "      <td>99</td>\n",
              "      <td>249</td>\n",
              "      <td>0.0</td>\n",
              "      <td>90</td>\n",
              "      <td>0.000001</td>\n",
              "    </tr>\n",
              "  </tbody>\n",
              "</table>\n",
              "</div>"
            ],
            "text/plain": [
              "      shopper product  target  weeks_since_prior_order         1\n",
              "24990      99     240     0.0                       90  0.000001\n",
              "24991      99     241     0.0                       90  0.000001\n",
              "24992      99     242     0.0                       44  0.011380\n",
              "24993      99     243     0.0                       90  0.000001\n",
              "24994      99     244     0.0                       90  0.000001\n",
              "24995      99     245     0.0                       90  0.000001\n",
              "24996      99     246     1.0                       12  0.416459\n",
              "24997      99     247     0.0                       90  0.000001\n",
              "24998      99     248     0.0                       90  0.000001\n",
              "24999      99     249     0.0                       90  0.000001"
            ]
          },
          "metadata": {
            "tags": []
          },
          "execution_count": 59
        }
      ]
    },
    {
      "cell_type": "code",
      "metadata": {
        "colab": {
          "base_uri": "https://localhost:8080/",
          "height": 80
        },
        "id": "TIEHqpCI5TwW",
        "outputId": "c0feda12-09da-4b6f-df41-1d0e5a7e9c05"
      },
      "source": [
        "pred_frame.loc[(pred_frame['shopper']==0) & (pred_frame['product']==4)]"
      ],
      "execution_count": 60,
      "outputs": [
        {
          "output_type": "execute_result",
          "data": {
            "text/html": [
              "<div>\n",
              "<style scoped>\n",
              "    .dataframe tbody tr th:only-of-type {\n",
              "        vertical-align: middle;\n",
              "    }\n",
              "\n",
              "    .dataframe tbody tr th {\n",
              "        vertical-align: top;\n",
              "    }\n",
              "\n",
              "    .dataframe thead th {\n",
              "        text-align: right;\n",
              "    }\n",
              "</style>\n",
              "<table border=\"1\" class=\"dataframe\">\n",
              "  <thead>\n",
              "    <tr style=\"text-align: right;\">\n",
              "      <th></th>\n",
              "      <th>shopper</th>\n",
              "      <th>product</th>\n",
              "      <th>target</th>\n",
              "      <th>weeks_since_prior_order</th>\n",
              "      <th>1</th>\n",
              "    </tr>\n",
              "  </thead>\n",
              "  <tbody>\n",
              "    <tr>\n",
              "      <th>4</th>\n",
              "      <td>0</td>\n",
              "      <td>4</td>\n",
              "      <td>0.0</td>\n",
              "      <td>19</td>\n",
              "      <td>0.091876</td>\n",
              "    </tr>\n",
              "  </tbody>\n",
              "</table>\n",
              "</div>"
            ],
            "text/plain": [
              "  shopper product  target  weeks_since_prior_order         1\n",
              "4       0       4     0.0                       19  0.091876"
            ]
          },
          "metadata": {
            "tags": []
          },
          "execution_count": 60
        }
      ]
    },
    {
      "cell_type": "code",
      "metadata": {
        "id": "wOMAyaTTNKIz"
      },
      "source": [
        ""
      ],
      "execution_count": 60,
      "outputs": []
    },
    {
      "cell_type": "code",
      "metadata": {
        "colab": {
          "base_uri": "https://localhost:8080/",
          "height": 439
        },
        "id": "KlhSf6rl5iUK",
        "outputId": "8532fac3-f4e7-4cbc-e814-7ca1517921c4"
      },
      "source": [
        "X_train.loc[\r\n",
        "            (X_train['shopper']==0) \r\n",
        "            & (X_train['product']==7)\r\n",
        "]"
      ],
      "execution_count": 61,
      "outputs": [
        {
          "output_type": "execute_result",
          "data": {
            "text/html": [
              "<div>\n",
              "<style scoped>\n",
              "    .dataframe tbody tr th:only-of-type {\n",
              "        vertical-align: middle;\n",
              "    }\n",
              "\n",
              "    .dataframe tbody tr th {\n",
              "        vertical-align: top;\n",
              "    }\n",
              "\n",
              "    .dataframe thead th {\n",
              "        text-align: right;\n",
              "    }\n",
              "</style>\n",
              "<table border=\"1\" class=\"dataframe\">\n",
              "  <thead>\n",
              "    <tr style=\"text-align: right;\">\n",
              "      <th></th>\n",
              "      <th>shopper</th>\n",
              "      <th>product</th>\n",
              "      <th>price</th>\n",
              "      <th>discount</th>\n",
              "      <th>coupon</th>\n",
              "      <th>category</th>\n",
              "      <th>original_price</th>\n",
              "      <th>total_count_of_product</th>\n",
              "      <th>reordered</th>\n",
              "      <th>ratio_of_reordered_per_product</th>\n",
              "      <th>ratio_of_reordered</th>\n",
              "      <th>average_price_per_shopper</th>\n",
              "      <th>average_basket_size</th>\n",
              "      <th>unique_products_per_shopper</th>\n",
              "      <th>weeks_since_prior_order</th>\n",
              "    </tr>\n",
              "  </thead>\n",
              "  <tbody>\n",
              "    <tr>\n",
              "      <th>7</th>\n",
              "      <td>0</td>\n",
              "      <td>7</td>\n",
              "      <td>772.0</td>\n",
              "      <td>0.0</td>\n",
              "      <td>No</td>\n",
              "      <td>12</td>\n",
              "      <td>772</td>\n",
              "      <td>0</td>\n",
              "      <td>0.0</td>\n",
              "      <td>0.0</td>\n",
              "      <td>0.722222</td>\n",
              "      <td>587.203947</td>\n",
              "      <td>8.539326</td>\n",
              "      <td>54</td>\n",
              "      <td>1</td>\n",
              "    </tr>\n",
              "    <tr>\n",
              "      <th>25007</th>\n",
              "      <td>0</td>\n",
              "      <td>7</td>\n",
              "      <td>772.0</td>\n",
              "      <td>0.0</td>\n",
              "      <td>No</td>\n",
              "      <td>12</td>\n",
              "      <td>772</td>\n",
              "      <td>0</td>\n",
              "      <td>0.0</td>\n",
              "      <td>0.0</td>\n",
              "      <td>0.722222</td>\n",
              "      <td>587.203947</td>\n",
              "      <td>8.539326</td>\n",
              "      <td>54</td>\n",
              "      <td>2</td>\n",
              "    </tr>\n",
              "    <tr>\n",
              "      <th>50007</th>\n",
              "      <td>0</td>\n",
              "      <td>7</td>\n",
              "      <td>540.4</td>\n",
              "      <td>30.0</td>\n",
              "      <td>Yes</td>\n",
              "      <td>12</td>\n",
              "      <td>772</td>\n",
              "      <td>0</td>\n",
              "      <td>0.0</td>\n",
              "      <td>0.0</td>\n",
              "      <td>0.722222</td>\n",
              "      <td>587.203947</td>\n",
              "      <td>8.539326</td>\n",
              "      <td>54</td>\n",
              "      <td>3</td>\n",
              "    </tr>\n",
              "    <tr>\n",
              "      <th>75007</th>\n",
              "      <td>0</td>\n",
              "      <td>7</td>\n",
              "      <td>772.0</td>\n",
              "      <td>0.0</td>\n",
              "      <td>No</td>\n",
              "      <td>12</td>\n",
              "      <td>772</td>\n",
              "      <td>0</td>\n",
              "      <td>0.0</td>\n",
              "      <td>0.0</td>\n",
              "      <td>0.722222</td>\n",
              "      <td>587.203947</td>\n",
              "      <td>8.539326</td>\n",
              "      <td>54</td>\n",
              "      <td>4</td>\n",
              "    </tr>\n",
              "    <tr>\n",
              "      <th>100007</th>\n",
              "      <td>0</td>\n",
              "      <td>7</td>\n",
              "      <td>772.0</td>\n",
              "      <td>0.0</td>\n",
              "      <td>No</td>\n",
              "      <td>12</td>\n",
              "      <td>772</td>\n",
              "      <td>0</td>\n",
              "      <td>0.0</td>\n",
              "      <td>0.0</td>\n",
              "      <td>0.722222</td>\n",
              "      <td>587.203947</td>\n",
              "      <td>8.539326</td>\n",
              "      <td>54</td>\n",
              "      <td>5</td>\n",
              "    </tr>\n",
              "    <tr>\n",
              "      <th>...</th>\n",
              "      <td>...</td>\n",
              "      <td>...</td>\n",
              "      <td>...</td>\n",
              "      <td>...</td>\n",
              "      <td>...</td>\n",
              "      <td>...</td>\n",
              "      <td>...</td>\n",
              "      <td>...</td>\n",
              "      <td>...</td>\n",
              "      <td>...</td>\n",
              "      <td>...</td>\n",
              "      <td>...</td>\n",
              "      <td>...</td>\n",
              "      <td>...</td>\n",
              "      <td>...</td>\n",
              "    </tr>\n",
              "    <tr>\n",
              "      <th>2100007</th>\n",
              "      <td>0</td>\n",
              "      <td>7</td>\n",
              "      <td>772.0</td>\n",
              "      <td>0.0</td>\n",
              "      <td>No</td>\n",
              "      <td>12</td>\n",
              "      <td>772</td>\n",
              "      <td>0</td>\n",
              "      <td>0.0</td>\n",
              "      <td>0.0</td>\n",
              "      <td>0.722222</td>\n",
              "      <td>587.203947</td>\n",
              "      <td>8.539326</td>\n",
              "      <td>54</td>\n",
              "      <td>85</td>\n",
              "    </tr>\n",
              "    <tr>\n",
              "      <th>2125007</th>\n",
              "      <td>0</td>\n",
              "      <td>7</td>\n",
              "      <td>772.0</td>\n",
              "      <td>0.0</td>\n",
              "      <td>No</td>\n",
              "      <td>12</td>\n",
              "      <td>772</td>\n",
              "      <td>0</td>\n",
              "      <td>0.0</td>\n",
              "      <td>0.0</td>\n",
              "      <td>0.722222</td>\n",
              "      <td>587.203947</td>\n",
              "      <td>8.539326</td>\n",
              "      <td>54</td>\n",
              "      <td>86</td>\n",
              "    </tr>\n",
              "    <tr>\n",
              "      <th>2150007</th>\n",
              "      <td>0</td>\n",
              "      <td>7</td>\n",
              "      <td>772.0</td>\n",
              "      <td>0.0</td>\n",
              "      <td>No</td>\n",
              "      <td>12</td>\n",
              "      <td>772</td>\n",
              "      <td>0</td>\n",
              "      <td>0.0</td>\n",
              "      <td>0.0</td>\n",
              "      <td>0.722222</td>\n",
              "      <td>587.203947</td>\n",
              "      <td>8.539326</td>\n",
              "      <td>54</td>\n",
              "      <td>87</td>\n",
              "    </tr>\n",
              "    <tr>\n",
              "      <th>2175007</th>\n",
              "      <td>0</td>\n",
              "      <td>7</td>\n",
              "      <td>772.0</td>\n",
              "      <td>0.0</td>\n",
              "      <td>No</td>\n",
              "      <td>12</td>\n",
              "      <td>772</td>\n",
              "      <td>0</td>\n",
              "      <td>0.0</td>\n",
              "      <td>0.0</td>\n",
              "      <td>0.722222</td>\n",
              "      <td>587.203947</td>\n",
              "      <td>8.539326</td>\n",
              "      <td>54</td>\n",
              "      <td>88</td>\n",
              "    </tr>\n",
              "    <tr>\n",
              "      <th>2200007</th>\n",
              "      <td>0</td>\n",
              "      <td>7</td>\n",
              "      <td>772.0</td>\n",
              "      <td>0.0</td>\n",
              "      <td>No</td>\n",
              "      <td>12</td>\n",
              "      <td>772</td>\n",
              "      <td>0</td>\n",
              "      <td>0.0</td>\n",
              "      <td>0.0</td>\n",
              "      <td>0.722222</td>\n",
              "      <td>587.203947</td>\n",
              "      <td>8.539326</td>\n",
              "      <td>54</td>\n",
              "      <td>89</td>\n",
              "    </tr>\n",
              "  </tbody>\n",
              "</table>\n",
              "<p>89 rows × 15 columns</p>\n",
              "</div>"
            ],
            "text/plain": [
              "        shopper product  ...  unique_products_per_shopper  weeks_since_prior_order\n",
              "7             0       7  ...                           54                        1\n",
              "25007         0       7  ...                           54                        2\n",
              "50007         0       7  ...                           54                        3\n",
              "75007         0       7  ...                           54                        4\n",
              "100007        0       7  ...                           54                        5\n",
              "...         ...     ...  ...                          ...                      ...\n",
              "2100007       0       7  ...                           54                       85\n",
              "2125007       0       7  ...                           54                       86\n",
              "2150007       0       7  ...                           54                       87\n",
              "2175007       0       7  ...                           54                       88\n",
              "2200007       0       7  ...                           54                       89\n",
              "\n",
              "[89 rows x 15 columns]"
            ]
          },
          "metadata": {
            "tags": []
          },
          "execution_count": 61
        }
      ]
    },
    {
      "cell_type": "code",
      "metadata": {
        "id": "ddIF5g-D_Soy"
      },
      "source": [
        "# from sklearn.inspection import plot_partial_dependence\r\n",
        "\r\n",
        "# plot_partial_dependence(estimator=lgb_clf, X=X_test, features=['weeks_since_prior_order', 'discount']) -> only works with sklearn 0.24, so not working for google colab "
      ],
      "execution_count": 62,
      "outputs": []
    },
    {
      "cell_type": "markdown",
      "metadata": {
        "id": "B73KLlk4HqzH"
      },
      "source": [
        "# Hypertuning"
      ]
    },
    {
      "cell_type": "code",
      "metadata": {
        "id": "-jgr3_1ZhtG4"
      },
      "source": [
        "# !sudo apt-get install build-essential swig\r\n",
        "# !pip install auto-sklearn==0.12"
      ],
      "execution_count": 63,
      "outputs": []
    },
    {
      "cell_type": "markdown",
      "metadata": {
        "id": "2zn1fvAQ2squ"
      },
      "source": [
        "## AutoML"
      ]
    },
    {
      "cell_type": "code",
      "metadata": {
        "id": "hZbRfBoHhTFA"
      },
      "source": [
        "# import autosklearn.classification"
      ],
      "execution_count": 64,
      "outputs": []
    },
    {
      "cell_type": "code",
      "metadata": {
        "id": "aaBUAgkYk6nv"
      },
      "source": [
        "# from autosklearn.experimental.askl2 import AutoSklearn2Classifier"
      ],
      "execution_count": 65,
      "outputs": []
    },
    {
      "cell_type": "code",
      "metadata": {
        "id": "OOhqp1c3lmGH"
      },
      "source": [
        "# automl = AutoSklearn2Classifier(n_jobs=-1)\r\n",
        "# automl.fit(X_train, y_train)"
      ],
      "execution_count": 66,
      "outputs": []
    },
    {
      "cell_type": "code",
      "metadata": {
        "id": "R8i5rb0_mAdm"
      },
      "source": [
        "# y_hat = automl.predict_proba(X_test)"
      ],
      "execution_count": 67,
      "outputs": []
    },
    {
      "cell_type": "code",
      "metadata": {
        "id": "0aBqhf4L5g7z"
      },
      "source": [
        "# pred = [1 if prediction[1]>0.5 else 0 for prediction in y_hat ] "
      ],
      "execution_count": 68,
      "outputs": []
    },
    {
      "cell_type": "code",
      "metadata": {
        "id": "_wOGrjdb2yRI"
      },
      "source": [
        "# auto_confusion = confusion_matrix(y_test, pred) "
      ],
      "execution_count": 69,
      "outputs": []
    },
    {
      "cell_type": "code",
      "metadata": {
        "id": "LFg6F09w3FTt"
      },
      "source": [
        "# auto_confusion"
      ],
      "execution_count": 70,
      "outputs": []
    },
    {
      "cell_type": "code",
      "metadata": {
        "id": "ZucObjt33LIG"
      },
      "source": [
        "# FP = auto_confusion[0][1]\r\n",
        "# FN = auto_confusion[1][0]\r\n",
        "# TP = auto_confusion[1][1]\r\n",
        "# TN = auto_confusion[0][0]\r\n",
        "\r\n",
        "# # Sensitivity, hit rate, recall, or true positive rate\r\n",
        "# TPR = TP/(TP+FN)\r\n",
        "# # Specificity or true negative rate\r\n",
        "# TNR = TN/(TN+FP) \r\n",
        "# # Negative predictive value\r\n",
        "# NPV = TN/(TN+FN)\r\n",
        "# # Fall out or false positive rate\r\n",
        "# FPR = FP/(FP+TN)\r\n",
        "# # False negative rate\r\n",
        "# FNR = FN/(TP+FN)\r\n",
        "# # Precision\r\n",
        "# PPV = TP/(TP+FP)\r\n",
        "# # False discovery rate -> 1-Precision\r\n",
        "# FDR = FP/(TP+FP)\r\n",
        "\r\n",
        "# # Overall accuracy\r\n",
        "# ACC = (TP+TN)/(TP+FP+FN+TN)\r\n",
        "\r\n",
        "# print(f'TPR: {TPR:.4f}')\r\n",
        "# print(f'TNR: {TNR:.4f}')\r\n",
        "# print(f'FPR: {FPR:.4f}')\r\n",
        "# print(f'FNR: {FNR:.4f}')\r\n",
        "# print(f'Precision: {PPV:.4f}')\r\n",
        "# print(f'False discovery rate: {FDR:.4f}')"
      ],
      "execution_count": 71,
      "outputs": []
    },
    {
      "cell_type": "code",
      "metadata": {
        "id": "k97OjISqHodq"
      },
      "source": [
        "# !pip install --quiet optuna\r\n",
        "\r\n",
        "# import optuna"
      ],
      "execution_count": 72,
      "outputs": []
    },
    {
      "cell_type": "code",
      "metadata": {
        "id": "qmr2wzUgHvNU"
      },
      "source": [
        "# clf = LGBMClassifier()\r\n",
        "\r\n",
        "# param_distributions = {\r\n",
        "#     'n_estimators': optuna.distributions.IntUniformDistribution(10, 500),\r\n",
        "#     'num_leaves': optuna.distributions.IntUniformDistribution(2, 50),\r\n",
        "#     'min_data_in_leaf': optuna.distributions.IntUniformDistribution(100, 400),\r\n",
        "#     'feature_fraction': optuna.distributions.LogUniformDistribution(0.5, 1),\r\n",
        "# #     'max_depth': optuna.distributions.IntUniformDistribution(-1, 200),\r\n",
        "#     'subsample': optuna.distributions.LogUniformDistribution(0.5, 1),\r\n",
        "# }\r\n",
        "\r\n",
        "# optuna_search = optuna.integration.OptunaSearchCV(\r\n",
        "#     estimator=clf, \r\n",
        "#     param_distributions=param_distributions, \r\n",
        "#     n_trials=50, \r\n",
        "#     timeout=7200,\r\n",
        "#     cv=\r\n",
        "# )\r\n",
        "\r\n",
        "# optuna_search.fit(X_train, y_train)"
      ],
      "execution_count": 73,
      "outputs": []
    }
  ]
}