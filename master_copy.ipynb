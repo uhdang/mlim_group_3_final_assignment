{
 "cells": [
  {
   "cell_type": "markdown",
   "metadata": {},
   "source": [
    "# Master Copy"
   ]
  },
  {
   "cell_type": "markdown",
   "metadata": {},
   "source": [
    "## IDEAS"
   ]
  },
  {
   "cell_type": "markdown",
   "metadata": {},
   "source": [
    "#### Feature Ideas\n",
    "- Exercise #7 - slide 5\n",
    "    - own-product moving widow purchase frequencies\n",
    "    - customer embedding (matrix-factorization)"
   ]
  },
  {
   "cell_type": "markdown",
   "metadata": {},
   "source": [
    "## Setup"
   ]
  },
  {
   "cell_type": "code",
   "execution_count": 3,
   "metadata": {},
   "outputs": [],
   "source": [
    "import numpy as np\n",
    "import pandas as pd\n",
    "\n",
    "from random import randrange"
   ]
  },
  {
   "cell_type": "markdown",
   "metadata": {},
   "source": [
    "## Load Data"
   ]
  },
  {
   "cell_type": "code",
   "execution_count": 6,
   "metadata": {},
   "outputs": [
    {
     "name": "stdout",
     "output_type": "stream",
     "text": [
      "baskets_df: (68841598, 4)\n",
      "coupons_df: (45000000, 4)\n",
      "coupon_index_df: (10000, 3)\n"
     ]
    }
   ],
   "source": [
    "file_path = \"./data/\"\n",
    "\n",
    "baskets_pq = \"baskets.parquet\"\n",
    "coupons_pq = \"coupons.parquet\"\n",
    "coupon_index_pq = \"coupon_index.parquet\"\n",
    "\n",
    "b_df = pd.read_parquet(file_path + baskets_pq)\n",
    "c_df = pd.read_parquet(file_path + coupons_pq)\n",
    "ci_df = pd.read_parquet(file_path + coupon_index_pq)\n",
    "\n",
    "print(f\"baskets_df: {b_df.shape}\")\n",
    "print(f\"coupons_df: {c_df.shape}\")\n",
    "print(f\"coupon_index_df: {ci_df.shape}\")"
   ]
  },
  {
   "cell_type": "markdown",
   "metadata": {},
   "source": [
    "## Data Preprocessing"
   ]
  },
  {
   "cell_type": "markdown",
   "metadata": {},
   "source": [
    "### A. Number of Target Shoppers"
   ]
  },
  {
   "cell_type": "code",
   "execution_count": 19,
   "metadata": {},
   "outputs": [
    {
     "name": "stdout",
     "output_type": "stream",
     "text": [
      "shoppers.shape: [0, 1, 2, 3, 4, 5, 6, 7, 8, 9, 10, 11, 12, 13, 14, 15, 16, 17, 18, 19, 20, 21, 22, 23, 24, 25, 26, 27, 28, 29, 30, 31, 32, 33, 34, 35, 36, 37, 38, 39, 40, 41, 42, 43, 44, 45, 46, 47, 48, 49, 50, 51, 52, 53, 54, 55, 56, 57, 58, 59, 60, 61, 62, 63, 64, 65, 66, 67, 68, 69, 70, 71, 72, 73, 74, 75, 76, 77, 78, 79, 80, 81, 82, 83, 84, 85, 86, 87, 88, 89, 90, 91, 92, 93, 94, 95, 96, 97, 98, 99]\n"
     ]
    }
   ],
   "source": [
    "num_of_shoppers = 100\n",
    "\n",
    "shoppers = [i for i in range(num_of_shoppers)]\n",
    "print(f\"shoppers.shape: {shoppers}\")"
   ]
  },
  {
   "cell_type": "markdown",
   "metadata": {},
   "source": [
    "### B. Generate Master Dataframe"
   ]
  },
  {
   "cell_type": "code",
   "execution_count": 20,
   "metadata": {},
   "outputs": [],
   "source": [
    "def get_original_prices(basket_df):\n",
    "    return basket_df.groupby([\"product\"])[\"price\"].agg([\"max\"]).reset_index()"
   ]
  },
  {
   "cell_type": "code",
   "execution_count": 21,
   "metadata": {},
   "outputs": [],
   "source": [
    "def gen_complete_week_prod_df_for_shoppers(list_shoppers, orig_df):\n",
    "    products = np.array(list(range(250)))\n",
    "    orig_price_list = orig_df[\"max\"].values\n",
    "    \n",
    "    weeks = list(range(90))\n",
    "    \n",
    "    product_price_pair = np.stack((products, orig_price_list), axis=0).T\n",
    "    \n",
    "    prod_in_weeks = []\n",
    "    for w in weeks:\n",
    "        for p in product_price_pair:\n",
    "            prod_in_weeks.append([w, *p])\n",
    "    \n",
    "    df_template = pd.DataFrame(data=prod_in_weeks, columns=[\"week\", \"product\", \"orig_price\"])\n",
    "    \n",
    "    df_master = None;\n",
    "    \n",
    "    for idx, shoppers in enumerate(list_shoppers):\n",
    "\n",
    "        df_local = df_template.copy()\n",
    "        df_local[\"shopper\"] = shoppers\n",
    "        \n",
    "        if idx == 0:\n",
    "            df_master = df_local\n",
    "        else:\n",
    "            # stack it\n",
    "            df_master = pd.concat([df_master, df_local], axis=0)\n",
    "    return df_master"
   ]
  },
  {
   "cell_type": "code",
   "execution_count": 103,
   "metadata": {},
   "outputs": [
    {
     "name": "stdout",
     "output_type": "stream",
     "text": [
      "df.shape: (2250000, 4)\n"
     ]
    },
    {
     "data": {
      "text/html": [
       "<div>\n",
       "<style scoped>\n",
       "    .dataframe tbody tr th:only-of-type {\n",
       "        vertical-align: middle;\n",
       "    }\n",
       "\n",
       "    .dataframe tbody tr th {\n",
       "        vertical-align: top;\n",
       "    }\n",
       "\n",
       "    .dataframe thead th {\n",
       "        text-align: right;\n",
       "    }\n",
       "</style>\n",
       "<table border=\"1\" class=\"dataframe\">\n",
       "  <thead>\n",
       "    <tr style=\"text-align: right;\">\n",
       "      <th></th>\n",
       "      <th>week</th>\n",
       "      <th>product</th>\n",
       "      <th>orig_price</th>\n",
       "      <th>shopper</th>\n",
       "    </tr>\n",
       "  </thead>\n",
       "  <tbody>\n",
       "    <tr>\n",
       "      <th>0</th>\n",
       "      <td>0</td>\n",
       "      <td>0</td>\n",
       "      <td>688</td>\n",
       "      <td>0</td>\n",
       "    </tr>\n",
       "    <tr>\n",
       "      <th>1</th>\n",
       "      <td>0</td>\n",
       "      <td>1</td>\n",
       "      <td>560</td>\n",
       "      <td>0</td>\n",
       "    </tr>\n",
       "    <tr>\n",
       "      <th>2</th>\n",
       "      <td>0</td>\n",
       "      <td>2</td>\n",
       "      <td>773</td>\n",
       "      <td>0</td>\n",
       "    </tr>\n",
       "  </tbody>\n",
       "</table>\n",
       "</div>"
      ],
      "text/plain": [
       "   week  product  orig_price  shopper\n",
       "0     0        0         688        0\n",
       "1     0        1         560        0\n",
       "2     0        2         773        0"
      ]
     },
     "execution_count": 103,
     "metadata": {},
     "output_type": "execute_result"
    }
   ],
   "source": [
    "orig_price_tb = get_original_prices(b_df)\n",
    "df = gen_complete_week_prod_df_for_shoppers(shoppers, orig_price_tb)\n",
    "print(f\"df.shape: {df.shape}\")\n",
    "df.head(3)"
   ]
  },
  {
   "cell_type": "markdown",
   "metadata": {},
   "source": [
    "### C. Target Column added while adding Basket data"
   ]
  },
  {
   "cell_type": "code",
   "execution_count": 104,
   "metadata": {},
   "outputs": [
    {
     "name": "stdout",
     "output_type": "stream",
     "text": [
      "df.shape: (2250000, 6)\n"
     ]
    }
   ],
   "source": [
    "b_df[\"target\"] = 1\n",
    "df = df.merge(b_df, how=\"left\", on=[\"week\", \"shopper\", \"product\"])\n",
    "df[\"target\"] = df[\"target\"].fillna(0)\n",
    "print(f\"df.shape: {df.shape}\")"
   ]
  },
  {
   "cell_type": "code",
   "execution_count": 105,
   "metadata": {},
   "outputs": [
    {
     "data": {
      "text/html": [
       "<div>\n",
       "<style scoped>\n",
       "    .dataframe tbody tr th:only-of-type {\n",
       "        vertical-align: middle;\n",
       "    }\n",
       "\n",
       "    .dataframe tbody tr th {\n",
       "        vertical-align: top;\n",
       "    }\n",
       "\n",
       "    .dataframe thead th {\n",
       "        text-align: right;\n",
       "    }\n",
       "</style>\n",
       "<table border=\"1\" class=\"dataframe\">\n",
       "  <thead>\n",
       "    <tr style=\"text-align: right;\">\n",
       "      <th></th>\n",
       "      <th>week</th>\n",
       "      <th>product</th>\n",
       "      <th>orig_price</th>\n",
       "      <th>shopper</th>\n",
       "      <th>price</th>\n",
       "      <th>target</th>\n",
       "    </tr>\n",
       "  </thead>\n",
       "  <tbody>\n",
       "    <tr>\n",
       "      <th>0</th>\n",
       "      <td>0</td>\n",
       "      <td>0</td>\n",
       "      <td>688</td>\n",
       "      <td>0</td>\n",
       "      <td>NaN</td>\n",
       "      <td>0.0</td>\n",
       "    </tr>\n",
       "    <tr>\n",
       "      <th>1</th>\n",
       "      <td>0</td>\n",
       "      <td>1</td>\n",
       "      <td>560</td>\n",
       "      <td>0</td>\n",
       "      <td>NaN</td>\n",
       "      <td>0.0</td>\n",
       "    </tr>\n",
       "  </tbody>\n",
       "</table>\n",
       "</div>"
      ],
      "text/plain": [
       "   week  product  orig_price  shopper  price  target\n",
       "0     0        0         688        0    NaN     0.0\n",
       "1     0        1         560        0    NaN     0.0"
      ]
     },
     "execution_count": 105,
     "metadata": {},
     "output_type": "execute_result"
    }
   ],
   "source": [
    "# df.sample(50)\n",
    "df.head(2)"
   ]
  },
  {
   "cell_type": "markdown",
   "metadata": {},
   "source": [
    "### D. Discount_given column added while adding Discout data"
   ]
  },
  {
   "cell_type": "code",
   "execution_count": 106,
   "metadata": {},
   "outputs": [
    {
     "name": "stdout",
     "output_type": "stream",
     "text": [
      "df.shape: (2250000, 8)\n"
     ]
    },
    {
     "data": {
      "text/html": [
       "<div>\n",
       "<style scoped>\n",
       "    .dataframe tbody tr th:only-of-type {\n",
       "        vertical-align: middle;\n",
       "    }\n",
       "\n",
       "    .dataframe tbody tr th {\n",
       "        vertical-align: top;\n",
       "    }\n",
       "\n",
       "    .dataframe thead th {\n",
       "        text-align: right;\n",
       "    }\n",
       "</style>\n",
       "<table border=\"1\" class=\"dataframe\">\n",
       "  <thead>\n",
       "    <tr style=\"text-align: right;\">\n",
       "      <th></th>\n",
       "      <th>week</th>\n",
       "      <th>product</th>\n",
       "      <th>orig_price</th>\n",
       "      <th>shopper</th>\n",
       "      <th>price</th>\n",
       "      <th>target</th>\n",
       "      <th>discount</th>\n",
       "      <th>coupon_given</th>\n",
       "    </tr>\n",
       "  </thead>\n",
       "  <tbody>\n",
       "    <tr>\n",
       "      <th>0</th>\n",
       "      <td>0</td>\n",
       "      <td>0</td>\n",
       "      <td>688</td>\n",
       "      <td>0</td>\n",
       "      <td>NaN</td>\n",
       "      <td>0.0</td>\n",
       "      <td>0.0</td>\n",
       "      <td>0.0</td>\n",
       "    </tr>\n",
       "    <tr>\n",
       "      <th>1</th>\n",
       "      <td>0</td>\n",
       "      <td>1</td>\n",
       "      <td>560</td>\n",
       "      <td>0</td>\n",
       "      <td>NaN</td>\n",
       "      <td>0.0</td>\n",
       "      <td>0.0</td>\n",
       "      <td>0.0</td>\n",
       "    </tr>\n",
       "    <tr>\n",
       "      <th>2</th>\n",
       "      <td>0</td>\n",
       "      <td>2</td>\n",
       "      <td>773</td>\n",
       "      <td>0</td>\n",
       "      <td>NaN</td>\n",
       "      <td>0.0</td>\n",
       "      <td>0.0</td>\n",
       "      <td>0.0</td>\n",
       "    </tr>\n",
       "  </tbody>\n",
       "</table>\n",
       "</div>"
      ],
      "text/plain": [
       "   week  product  orig_price  shopper  price  target  discount  coupon_given\n",
       "0     0        0         688        0    NaN     0.0       0.0           0.0\n",
       "1     0        1         560        0    NaN     0.0       0.0           0.0\n",
       "2     0        2         773        0    NaN     0.0       0.0           0.0"
      ]
     },
     "execution_count": 106,
     "metadata": {},
     "output_type": "execute_result"
    }
   ],
   "source": [
    "c_df[\"coupon_given\"] = 1\n",
    "df = df.merge(right=c_df, how=\"left\", on=[\"week\", \"shopper\", \"product\"])\n",
    "df[\"discount\"] = df[\"discount\"].fillna(0)\n",
    "df[\"coupon_given\"] = df[\"coupon_given\"].fillna(0)\n",
    "print(f\"df.shape: {df.shape}\")\n",
    "df.head(3)"
   ]
  },
  {
   "cell_type": "markdown",
   "metadata": {},
   "source": [
    "### E. Price with discount"
   ]
  },
  {
   "cell_type": "code",
   "execution_count": 107,
   "metadata": {},
   "outputs": [],
   "source": [
    "df[\"price_w_discount\"] = df[\"orig_price\"] - df[\"discount\"]\n",
    "\n",
    "# price column is no longer necessary so removing it\n",
    "df = df.drop(columns=[\"price\"])"
   ]
  },
  {
   "cell_type": "code",
   "execution_count": 108,
   "metadata": {},
   "outputs": [],
   "source": [
    "# df.head(60)"
   ]
  },
  {
   "cell_type": "markdown",
   "metadata": {},
   "source": [
    "## Split Data Before Feature Engineering"
   ]
  },
  {
   "cell_type": "code",
   "execution_count": 109,
   "metadata": {},
   "outputs": [
    {
     "name": "stdout",
     "output_type": "stream",
     "text": [
      "Master: (2250000, 8), Train: (2225000, 8), Test: (25000, 8)\n"
     ]
    }
   ],
   "source": [
    "# Train: 0 - 88\n",
    "# Test: 88 - 89\n",
    "cut_day = 89\n",
    "\n",
    "# Separate train and test\n",
    "train = df[df[\"week\"] < cut_day]\n",
    "test = df[df[\"week\"] >= cut_day]\n",
    "\n",
    "b_train = b_df[b_df[\"week\"] < cut_day]\n",
    "b_test = b_df[b_df[\"week\"] >= cut_day]\n",
    "\n",
    "c_train = c_df[c_df[\"week\"] < cut_day]\n",
    "c_test = c_df[c_df[\"week\"] >= cut_day]\n",
    "\n",
    "print(f\"Master: {df.shape}, Train: {train.shape}, Test: {test.shape}\")"
   ]
  },
  {
   "cell_type": "markdown",
   "metadata": {},
   "source": [
    "### A. Average Basket Size per Shopper per week"
   ]
  },
  {
   "cell_type": "code",
   "execution_count": 110,
   "metadata": {},
   "outputs": [],
   "source": [
    "average_basket_size = b_train.groupby(['shopper', 'week'])[\"product\"].count().groupby('shopper').mean().to_frame('average_basket_size').reset_index()"
   ]
  },
  {
   "cell_type": "code",
   "execution_count": 111,
   "metadata": {},
   "outputs": [],
   "source": [
    "# Merge to shoppers on train and test\n",
    "\n",
    "train = train.merge(average_basket_size, how=\"left\", on=\"shopper\")\n",
    "test = test.merge(average_basket_size, how=\"left\", on=\"shopper\")"
   ]
  },
  {
   "cell_type": "code",
   "execution_count": 112,
   "metadata": {},
   "outputs": [
    {
     "data": {
      "text/html": [
       "<div>\n",
       "<style scoped>\n",
       "    .dataframe tbody tr th:only-of-type {\n",
       "        vertical-align: middle;\n",
       "    }\n",
       "\n",
       "    .dataframe tbody tr th {\n",
       "        vertical-align: top;\n",
       "    }\n",
       "\n",
       "    .dataframe thead th {\n",
       "        text-align: right;\n",
       "    }\n",
       "</style>\n",
       "<table border=\"1\" class=\"dataframe\">\n",
       "  <thead>\n",
       "    <tr style=\"text-align: right;\">\n",
       "      <th></th>\n",
       "      <th>week</th>\n",
       "      <th>product</th>\n",
       "      <th>orig_price</th>\n",
       "      <th>shopper</th>\n",
       "      <th>target</th>\n",
       "      <th>discount</th>\n",
       "      <th>coupon_given</th>\n",
       "      <th>price_w_discount</th>\n",
       "      <th>average_basket_size</th>\n",
       "    </tr>\n",
       "  </thead>\n",
       "  <tbody>\n",
       "    <tr>\n",
       "      <th>0</th>\n",
       "      <td>0</td>\n",
       "      <td>0</td>\n",
       "      <td>688</td>\n",
       "      <td>0</td>\n",
       "      <td>0.0</td>\n",
       "      <td>0.0</td>\n",
       "      <td>0.0</td>\n",
       "      <td>688.0</td>\n",
       "      <td>8.539326</td>\n",
       "    </tr>\n",
       "    <tr>\n",
       "      <th>1</th>\n",
       "      <td>0</td>\n",
       "      <td>1</td>\n",
       "      <td>560</td>\n",
       "      <td>0</td>\n",
       "      <td>0.0</td>\n",
       "      <td>0.0</td>\n",
       "      <td>0.0</td>\n",
       "      <td>560.0</td>\n",
       "      <td>8.539326</td>\n",
       "    </tr>\n",
       "  </tbody>\n",
       "</table>\n",
       "</div>"
      ],
      "text/plain": [
       "   week  product  orig_price  shopper  target  discount  coupon_given  \\\n",
       "0     0        0         688        0     0.0       0.0           0.0   \n",
       "1     0        1         560        0     0.0       0.0           0.0   \n",
       "\n",
       "   price_w_discount  average_basket_size  \n",
       "0             688.0             8.539326  \n",
       "1             560.0             8.539326  "
      ]
     },
     "execution_count": 112,
     "metadata": {},
     "output_type": "execute_result"
    }
   ],
   "source": [
    "train.head(2)"
   ]
  },
  {
   "cell_type": "markdown",
   "metadata": {},
   "source": [
    "### B. Average Price per Shopper per Week"
   ]
  },
  {
   "cell_type": "code",
   "execution_count": 113,
   "metadata": {},
   "outputs": [],
   "source": [
    "average_price_per_shopper = b_train.groupby(['shopper'])[\"price\"].mean().to_frame('average_price_per_shopper').reset_index()"
   ]
  },
  {
   "cell_type": "code",
   "execution_count": 114,
   "metadata": {},
   "outputs": [],
   "source": [
    "# Include it to the shoppers\n",
    "\n",
    "train = train.merge(average_price_per_shopper, how=\"left\", on=\"shopper\")\n",
    "test = test.merge(average_price_per_shopper, how=\"left\", on=\"shopper\")"
   ]
  },
  {
   "cell_type": "code",
   "execution_count": 115,
   "metadata": {},
   "outputs": [
    {
     "data": {
      "text/html": [
       "<div>\n",
       "<style scoped>\n",
       "    .dataframe tbody tr th:only-of-type {\n",
       "        vertical-align: middle;\n",
       "    }\n",
       "\n",
       "    .dataframe tbody tr th {\n",
       "        vertical-align: top;\n",
       "    }\n",
       "\n",
       "    .dataframe thead th {\n",
       "        text-align: right;\n",
       "    }\n",
       "</style>\n",
       "<table border=\"1\" class=\"dataframe\">\n",
       "  <thead>\n",
       "    <tr style=\"text-align: right;\">\n",
       "      <th></th>\n",
       "      <th>week</th>\n",
       "      <th>product</th>\n",
       "      <th>orig_price</th>\n",
       "      <th>shopper</th>\n",
       "      <th>target</th>\n",
       "      <th>discount</th>\n",
       "      <th>coupon_given</th>\n",
       "      <th>price_w_discount</th>\n",
       "      <th>average_basket_size</th>\n",
       "      <th>average_price_per_shopper</th>\n",
       "    </tr>\n",
       "  </thead>\n",
       "  <tbody>\n",
       "    <tr>\n",
       "      <th>0</th>\n",
       "      <td>0</td>\n",
       "      <td>0</td>\n",
       "      <td>688</td>\n",
       "      <td>0</td>\n",
       "      <td>0.0</td>\n",
       "      <td>0.0</td>\n",
       "      <td>0.0</td>\n",
       "      <td>688.0</td>\n",
       "      <td>8.539326</td>\n",
       "      <td>587.203947</td>\n",
       "    </tr>\n",
       "    <tr>\n",
       "      <th>1</th>\n",
       "      <td>0</td>\n",
       "      <td>1</td>\n",
       "      <td>560</td>\n",
       "      <td>0</td>\n",
       "      <td>0.0</td>\n",
       "      <td>0.0</td>\n",
       "      <td>0.0</td>\n",
       "      <td>560.0</td>\n",
       "      <td>8.539326</td>\n",
       "      <td>587.203947</td>\n",
       "    </tr>\n",
       "  </tbody>\n",
       "</table>\n",
       "</div>"
      ],
      "text/plain": [
       "   week  product  orig_price  shopper  target  discount  coupon_given  \\\n",
       "0     0        0         688        0     0.0       0.0           0.0   \n",
       "1     0        1         560        0     0.0       0.0           0.0   \n",
       "\n",
       "   price_w_discount  average_basket_size  average_price_per_shopper  \n",
       "0             688.0             8.539326                 587.203947  \n",
       "1             560.0             8.539326                 587.203947  "
      ]
     },
     "execution_count": 115,
     "metadata": {},
     "output_type": "execute_result"
    }
   ],
   "source": [
    "train.head(2)"
   ]
  },
  {
   "cell_type": "code",
   "execution_count": null,
   "metadata": {},
   "outputs": [],
   "source": []
  },
  {
   "cell_type": "markdown",
   "metadata": {},
   "source": [
    "### C. Number of Unique Products purchased per Shopper"
   ]
  },
  {
   "cell_type": "code",
   "execution_count": 116,
   "metadata": {},
   "outputs": [],
   "source": [
    "unique_products_per_shopper = b_train.groupby(['shopper'])[\"product\"].nunique()\n",
    "unique_products_per_shopper_df = unique_products_per_shopper.to_frame(\"num_unique_products\").reset_index()"
   ]
  },
  {
   "cell_type": "code",
   "execution_count": 117,
   "metadata": {},
   "outputs": [],
   "source": [
    "# Include it to the shoppers\n",
    "\n",
    "train = train.merge(num_unique_prods_per_shopper, how=\"left\", on=\"shopper\")\n",
    "test = test.merge(num_unique_prods_per_shopper, how=\"left\", on=\"shopper\")"
   ]
  },
  {
   "cell_type": "code",
   "execution_count": 118,
   "metadata": {},
   "outputs": [
    {
     "data": {
      "text/html": [
       "<div>\n",
       "<style scoped>\n",
       "    .dataframe tbody tr th:only-of-type {\n",
       "        vertical-align: middle;\n",
       "    }\n",
       "\n",
       "    .dataframe tbody tr th {\n",
       "        vertical-align: top;\n",
       "    }\n",
       "\n",
       "    .dataframe thead th {\n",
       "        text-align: right;\n",
       "    }\n",
       "</style>\n",
       "<table border=\"1\" class=\"dataframe\">\n",
       "  <thead>\n",
       "    <tr style=\"text-align: right;\">\n",
       "      <th></th>\n",
       "      <th>week</th>\n",
       "      <th>product</th>\n",
       "      <th>orig_price</th>\n",
       "      <th>shopper</th>\n",
       "      <th>target</th>\n",
       "      <th>discount</th>\n",
       "      <th>coupon_given</th>\n",
       "      <th>price_w_discount</th>\n",
       "      <th>average_basket_size</th>\n",
       "      <th>average_price_per_shopper</th>\n",
       "      <th>num_unique_prods</th>\n",
       "    </tr>\n",
       "  </thead>\n",
       "  <tbody>\n",
       "    <tr>\n",
       "      <th>0</th>\n",
       "      <td>0</td>\n",
       "      <td>0</td>\n",
       "      <td>688</td>\n",
       "      <td>0</td>\n",
       "      <td>0.0</td>\n",
       "      <td>0.0</td>\n",
       "      <td>0.0</td>\n",
       "      <td>688.0</td>\n",
       "      <td>8.539326</td>\n",
       "      <td>587.203947</td>\n",
       "      <td>54</td>\n",
       "    </tr>\n",
       "    <tr>\n",
       "      <th>1</th>\n",
       "      <td>0</td>\n",
       "      <td>1</td>\n",
       "      <td>560</td>\n",
       "      <td>0</td>\n",
       "      <td>0.0</td>\n",
       "      <td>0.0</td>\n",
       "      <td>0.0</td>\n",
       "      <td>560.0</td>\n",
       "      <td>8.539326</td>\n",
       "      <td>587.203947</td>\n",
       "      <td>54</td>\n",
       "    </tr>\n",
       "  </tbody>\n",
       "</table>\n",
       "</div>"
      ],
      "text/plain": [
       "   week  product  orig_price  shopper  target  discount  coupon_given  \\\n",
       "0     0        0         688        0     0.0       0.0           0.0   \n",
       "1     0        1         560        0     0.0       0.0           0.0   \n",
       "\n",
       "   price_w_discount  average_basket_size  average_price_per_shopper  \\\n",
       "0             688.0             8.539326                 587.203947   \n",
       "1             560.0             8.539326                 587.203947   \n",
       "\n",
       "   num_unique_prods  \n",
       "0                54  \n",
       "1                54  "
      ]
     },
     "execution_count": 118,
     "metadata": {},
     "output_type": "execute_result"
    }
   ],
   "source": [
    "train.head(2)"
   ]
  },
  {
   "cell_type": "code",
   "execution_count": null,
   "metadata": {},
   "outputs": [],
   "source": []
  },
  {
   "cell_type": "markdown",
   "metadata": {},
   "source": [
    "### D Total Counts for Product"
   ]
  },
  {
   "cell_type": "code",
   "execution_count": 119,
   "metadata": {},
   "outputs": [],
   "source": [
    "total_count_of_product = b_train.groupby(['shopper', 'product'])[\"product\"].count().to_frame('total_count_of_product').reset_index()"
   ]
  },
  {
   "cell_type": "code",
   "execution_count": 120,
   "metadata": {},
   "outputs": [],
   "source": [
    "# Merge to train and test\n",
    "train = train.merge(total_count_of_product, how=\"left\", on=[\"shopper\",\"product\"])\n",
    "test = test.merge(total_count_of_product, how=\"left\", on=[\"shopper\",\"product\"])"
   ]
  },
  {
   "cell_type": "code",
   "execution_count": 121,
   "metadata": {},
   "outputs": [],
   "source": [
    "train[\"total_count_of_product\"] = train[\"total_count_of_product\"].fillna(0)\n",
    "test[\"total_count_of_product\"] = test[\"total_count_of_product\"].fillna(0)"
   ]
  },
  {
   "cell_type": "code",
   "execution_count": null,
   "metadata": {},
   "outputs": [],
   "source": []
  },
  {
   "cell_type": "markdown",
   "metadata": {},
   "source": [
    "### G. Weeks Since Prior Order"
   ]
  },
  {
   "cell_type": "markdown",
   "metadata": {},
   "source": [
    "#### a. train"
   ]
  },
  {
   "cell_type": "code",
   "execution_count": 123,
   "metadata": {},
   "outputs": [],
   "source": [
    "# Train set\n",
    "addkey = train.groupby(['shopper','product'])[\"target\"].apply(lambda x : x.eq(1).shift().fillna(0).cumsum())\n",
    "train['weeks_since_prior_order'] = train[\"target\"].eq(0).groupby([train['shopper'], train['product'], addkey]).cumcount().add(1)"
   ]
  },
  {
   "cell_type": "markdown",
   "metadata": {},
   "source": [
    "#### b. test"
   ]
  },
  {
   "cell_type": "code",
   "execution_count": 125,
   "metadata": {},
   "outputs": [],
   "source": [
    "# Test set\n",
    "last_weeks_since_prior_order = train.groupby(['shopper', 'product'])[\"weeks_since_prior_order\"].last() + 1\n",
    "test = test.merge(last_weeks_since_prior_order, on=['shopper', 'product'])"
   ]
  },
  {
   "cell_type": "code",
   "execution_count": 126,
   "metadata": {},
   "outputs": [
    {
     "data": {
      "text/html": [
       "<div>\n",
       "<style scoped>\n",
       "    .dataframe tbody tr th:only-of-type {\n",
       "        vertical-align: middle;\n",
       "    }\n",
       "\n",
       "    .dataframe tbody tr th {\n",
       "        vertical-align: top;\n",
       "    }\n",
       "\n",
       "    .dataframe thead th {\n",
       "        text-align: right;\n",
       "    }\n",
       "</style>\n",
       "<table border=\"1\" class=\"dataframe\">\n",
       "  <thead>\n",
       "    <tr style=\"text-align: right;\">\n",
       "      <th></th>\n",
       "      <th>week</th>\n",
       "      <th>product</th>\n",
       "      <th>orig_price</th>\n",
       "      <th>shopper</th>\n",
       "      <th>target</th>\n",
       "      <th>discount</th>\n",
       "      <th>coupon_given</th>\n",
       "      <th>price_w_discount</th>\n",
       "      <th>average_basket_size</th>\n",
       "      <th>average_price_per_shopper</th>\n",
       "      <th>num_unique_prods</th>\n",
       "      <th>total_count_of_product</th>\n",
       "      <th>weeks_since_prior_order</th>\n",
       "    </tr>\n",
       "  </thead>\n",
       "  <tbody>\n",
       "    <tr>\n",
       "      <th>1168348</th>\n",
       "      <td>45</td>\n",
       "      <td>98</td>\n",
       "      <td>481</td>\n",
       "      <td>52</td>\n",
       "      <td>0.0</td>\n",
       "      <td>0.0</td>\n",
       "      <td>0.0</td>\n",
       "      <td>481.0</td>\n",
       "      <td>6.078652</td>\n",
       "      <td>573.565619</td>\n",
       "      <td>74</td>\n",
       "      <td>0.0</td>\n",
       "      <td>46</td>\n",
       "    </tr>\n",
       "    <tr>\n",
       "      <th>2144112</th>\n",
       "      <td>32</td>\n",
       "      <td>112</td>\n",
       "      <td>727</td>\n",
       "      <td>96</td>\n",
       "      <td>0.0</td>\n",
       "      <td>0.0</td>\n",
       "      <td>0.0</td>\n",
       "      <td>727.0</td>\n",
       "      <td>7.033708</td>\n",
       "      <td>565.047923</td>\n",
       "      <td>80</td>\n",
       "      <td>0.0</td>\n",
       "      <td>33</td>\n",
       "    </tr>\n",
       "  </tbody>\n",
       "</table>\n",
       "</div>"
      ],
      "text/plain": [
       "         week  product  orig_price  shopper  target  discount  coupon_given  \\\n",
       "1168348    45       98         481       52     0.0       0.0           0.0   \n",
       "2144112    32      112         727       96     0.0       0.0           0.0   \n",
       "\n",
       "         price_w_discount  average_basket_size  average_price_per_shopper  \\\n",
       "1168348             481.0             6.078652                 573.565619   \n",
       "2144112             727.0             7.033708                 565.047923   \n",
       "\n",
       "         num_unique_prods  total_count_of_product  weeks_since_prior_order  \n",
       "1168348                74                     0.0                       46  \n",
       "2144112                80                     0.0                       33  "
      ]
     },
     "execution_count": 126,
     "metadata": {},
     "output_type": "execute_result"
    }
   ],
   "source": [
    "train.sample(2)"
   ]
  },
  {
   "cell_type": "code",
   "execution_count": 127,
   "metadata": {},
   "outputs": [
    {
     "data": {
      "text/html": [
       "<div>\n",
       "<style scoped>\n",
       "    .dataframe tbody tr th:only-of-type {\n",
       "        vertical-align: middle;\n",
       "    }\n",
       "\n",
       "    .dataframe tbody tr th {\n",
       "        vertical-align: top;\n",
       "    }\n",
       "\n",
       "    .dataframe thead th {\n",
       "        text-align: right;\n",
       "    }\n",
       "</style>\n",
       "<table border=\"1\" class=\"dataframe\">\n",
       "  <thead>\n",
       "    <tr style=\"text-align: right;\">\n",
       "      <th></th>\n",
       "      <th>week</th>\n",
       "      <th>product</th>\n",
       "      <th>orig_price</th>\n",
       "      <th>shopper</th>\n",
       "      <th>target</th>\n",
       "      <th>discount</th>\n",
       "      <th>coupon_given</th>\n",
       "      <th>price_w_discount</th>\n",
       "      <th>average_basket_size</th>\n",
       "      <th>average_price_per_shopper</th>\n",
       "      <th>num_unique_prods</th>\n",
       "      <th>total_count_of_product</th>\n",
       "      <th>weeks_since_prior_order</th>\n",
       "    </tr>\n",
       "  </thead>\n",
       "  <tbody>\n",
       "    <tr>\n",
       "      <th>12548</th>\n",
       "      <td>89</td>\n",
       "      <td>48</td>\n",
       "      <td>465</td>\n",
       "      <td>50</td>\n",
       "      <td>0.0</td>\n",
       "      <td>0.0</td>\n",
       "      <td>0.0</td>\n",
       "      <td>465.0</td>\n",
       "      <td>9.348315</td>\n",
       "      <td>563.960337</td>\n",
       "      <td>85</td>\n",
       "      <td>0.0</td>\n",
       "      <td>90</td>\n",
       "    </tr>\n",
       "    <tr>\n",
       "      <th>20564</th>\n",
       "      <td>89</td>\n",
       "      <td>64</td>\n",
       "      <td>575</td>\n",
       "      <td>82</td>\n",
       "      <td>0.0</td>\n",
       "      <td>0.0</td>\n",
       "      <td>0.0</td>\n",
       "      <td>575.0</td>\n",
       "      <td>7.775281</td>\n",
       "      <td>572.184971</td>\n",
       "      <td>88</td>\n",
       "      <td>0.0</td>\n",
       "      <td>90</td>\n",
       "    </tr>\n",
       "  </tbody>\n",
       "</table>\n",
       "</div>"
      ],
      "text/plain": [
       "       week  product  orig_price  shopper  target  discount  coupon_given  \\\n",
       "12548    89       48         465       50     0.0       0.0           0.0   \n",
       "20564    89       64         575       82     0.0       0.0           0.0   \n",
       "\n",
       "       price_w_discount  average_basket_size  average_price_per_shopper  \\\n",
       "12548             465.0             9.348315                 563.960337   \n",
       "20564             575.0             7.775281                 572.184971   \n",
       "\n",
       "       num_unique_prods  total_count_of_product  weeks_since_prior_order  \n",
       "12548                85                     0.0                       90  \n",
       "20564                88                     0.0                       90  "
      ]
     },
     "execution_count": 127,
     "metadata": {},
     "output_type": "execute_result"
    }
   ],
   "source": [
    "test.sample(2)"
   ]
  },
  {
   "cell_type": "markdown",
   "metadata": {},
   "source": [
    "### H. Category "
   ]
  },
  {
   "cell_type": "markdown",
   "metadata": {},
   "source": [
    "#### f - 1. gensim Word2Vec"
   ]
  },
  {
   "cell_type": "code",
   "execution_count": 128,
   "metadata": {},
   "outputs": [],
   "source": [
    "from gensim.models import Word2Vec\n",
    "from sklearn.decomposition import PCA\n",
    "from sklearn.manifold import TSNE"
   ]
  },
  {
   "cell_type": "code",
   "execution_count": 129,
   "metadata": {},
   "outputs": [
    {
     "name": "stderr",
     "output_type": "stream",
     "text": [
      "<ipython-input-129-f62795059696>:9: SettingWithCopyWarning: \n",
      "A value is trying to be set on a copy of a slice from a DataFrame.\n",
      "Try using .loc[row_indexer,col_indexer] = value instead\n",
      "\n",
      "See the caveats in the documentation: https://pandas.pydata.org/pandas-docs/stable/user_guide/indexing.html#returning-a-view-versus-a-copy\n",
      "  by_basket_str[\"product\"] = by_basket_str[\"product\"].astype(str)\n"
     ]
    }
   ],
   "source": [
    "# Caution ! Takes REAALLY Long !!\n",
    "# TEMPORARY - Since target shopper is limited to 2000, reduce the basket to 2000\n",
    "\n",
    "# by basket => groupby([\"week\", \"shopper\"])\n",
    "\n",
    "num_shoppers = 5_000\n",
    "\n",
    "by_basket_str = b_df[b_df[\"shopper\"] < num_shoppers]\n",
    "by_basket_str[\"product\"] = by_basket_str[\"product\"].astype(str)\n",
    "by_basket_str = by_basket_str.groupby([\"week\", \"shopper\"])[\"product\"].apply(list).reset_index(name=\"list_prod\")"
   ]
  },
  {
   "cell_type": "code",
   "execution_count": 130,
   "metadata": {},
   "outputs": [
    {
     "data": {
      "text/html": [
       "<div>\n",
       "<style scoped>\n",
       "    .dataframe tbody tr th:only-of-type {\n",
       "        vertical-align: middle;\n",
       "    }\n",
       "\n",
       "    .dataframe tbody tr th {\n",
       "        vertical-align: top;\n",
       "    }\n",
       "\n",
       "    .dataframe thead th {\n",
       "        text-align: right;\n",
       "    }\n",
       "</style>\n",
       "<table border=\"1\" class=\"dataframe\">\n",
       "  <thead>\n",
       "    <tr style=\"text-align: right;\">\n",
       "      <th></th>\n",
       "      <th>week</th>\n",
       "      <th>shopper</th>\n",
       "      <th>list_prod</th>\n",
       "    </tr>\n",
       "  </thead>\n",
       "  <tbody>\n",
       "    <tr>\n",
       "      <th>0</th>\n",
       "      <td>0</td>\n",
       "      <td>0</td>\n",
       "      <td>[71, 91, 116, 123, 157, 167, 171, 184, 207, 225]</td>\n",
       "    </tr>\n",
       "    <tr>\n",
       "      <th>1</th>\n",
       "      <td>0</td>\n",
       "      <td>1</td>\n",
       "      <td>[22, 35, 92, 146, 168, 200, 211, 229]</td>\n",
       "    </tr>\n",
       "    <tr>\n",
       "      <th>2</th>\n",
       "      <td>0</td>\n",
       "      <td>2</td>\n",
       "      <td>[14, 121, 164, 218, 230, 249]</td>\n",
       "    </tr>\n",
       "    <tr>\n",
       "      <th>3</th>\n",
       "      <td>0</td>\n",
       "      <td>3</td>\n",
       "      <td>[6, 67, 98, 137, 145, 192, 222]</td>\n",
       "    </tr>\n",
       "    <tr>\n",
       "      <th>4</th>\n",
       "      <td>0</td>\n",
       "      <td>4</td>\n",
       "      <td>[25, 76, 156, 188, 234]</td>\n",
       "    </tr>\n",
       "  </tbody>\n",
       "</table>\n",
       "</div>"
      ],
      "text/plain": [
       "   week  shopper                                         list_prod\n",
       "0     0        0  [71, 91, 116, 123, 157, 167, 171, 184, 207, 225]\n",
       "1     0        1             [22, 35, 92, 146, 168, 200, 211, 229]\n",
       "2     0        2                     [14, 121, 164, 218, 230, 249]\n",
       "3     0        3                   [6, 67, 98, 137, 145, 192, 222]\n",
       "4     0        4                           [25, 76, 156, 188, 234]"
      ]
     },
     "execution_count": 130,
     "metadata": {},
     "output_type": "execute_result"
    }
   ],
   "source": [
    "by_basket_str.head()"
   ]
  },
  {
   "cell_type": "code",
   "execution_count": 131,
   "metadata": {},
   "outputs": [
    {
     "name": "stdout",
     "output_type": "stream",
     "text": [
      "Word2Vec(vocab=250, size=100, alpha=0.025)\n"
     ]
    }
   ],
   "source": [
    "# basket list\n",
    "by_basket = by_basket_str[\"list_prod\"].tolist()\n",
    "\n",
    "# Create a Word2Vec model\n",
    "w2v_model = Word2Vec(\n",
    "    sentences=by_basket,\n",
    "    min_count=10,\n",
    "    negative=5,\n",
    "    sample=0,\n",
    "    sg=1,\n",
    "    workers=10,\n",
    ")\n",
    "\n",
    "# summarize the loaded model\n",
    "print(w2v_model)"
   ]
  },
  {
   "cell_type": "markdown",
   "metadata": {},
   "source": [
    "#### "
   ]
  }
 ],
 "metadata": {
  "kernelspec": {
   "display_name": "Python 3",
   "language": "python",
   "name": "python3"
  },
  "language_info": {
   "codemirror_mode": {
    "name": "ipython",
    "version": 3
   },
   "file_extension": ".py",
   "mimetype": "text/x-python",
   "name": "python",
   "nbconvert_exporter": "python",
   "pygments_lexer": "ipython3",
   "version": "3.8.5"
  }
 },
 "nbformat": 4,
 "nbformat_minor": 4
}
