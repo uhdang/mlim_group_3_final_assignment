{
 "cells": [
  {
   "cell_type": "markdown",
   "metadata": {
    "colab_type": "text",
    "id": "view-in-github"
   },
   "source": [
    "<a href=\"https://colab.research.google.com/github/uhdang/mlim_group_3_final_assignment/blob/main/master_copy.ipynb\" target=\"_parent\"><img src=\"https://colab.research.google.com/assets/colab-badge.svg\" alt=\"Open In Colab\"/></a>"
   ]
  },
  {
   "cell_type": "markdown",
   "metadata": {
    "id": "eaAU2FeoP4WB"
   },
   "source": [
    "# ToDo"
   ]
  },
  {
   "cell_type": "markdown",
   "metadata": {
    "id": "glmguT6pP19T"
   },
   "source": [
    "- add feature if coupon was given for complementary category\r\n",
    "- Exercise #7 - slide 5\r\n",
    "- own-product moving window purchase frequencies\r\n",
    "- own-category moving window purchase frequencies\r\n",
    "- customer embedding (matrix-factorization)\r\n",
    "- negative sampling instead of using all products for each shopper\r\n",
    "- Crossvalidation\r\n",
    "- PCA for product vectors included as feature and then remove product\r\n",
    "- price elasticity (own and cross product/category)\r\n",
    "- promotion in substitute or complementary category\r\n",
    "\r\n",
    "Put code in functions or maybe classes"
   ]
  },
  {
   "cell_type": "code",
   "execution_count": 1,
   "metadata": {
    "id": "lbCoj2hWBnOH"
   },
   "outputs": [],
   "source": [
    "# !pip install scikit-learn --upgrade\r\n",
    "# !pip install lightgbm --upgrade"
   ]
  },
  {
   "cell_type": "code",
   "execution_count": 1,
   "metadata": {
    "id": "R8VFv-TZfRc_"
   },
   "outputs": [],
   "source": [
    "import pandas as pd\r\n",
    "import numpy as np\r\n",
    "import matplotlib.pyplot as plt\r\n",
    "import seaborn as sns\r\n",
    "import random"
   ]
  },
  {
   "cell_type": "markdown",
   "metadata": {
    "id": "KfzE-1tHfg2C"
   },
   "source": [
    "# Load Data"
   ]
  },
  {
   "cell_type": "code",
   "execution_count": 3,
   "metadata": {
    "colab": {
     "base_uri": "https://localhost:8080/"
    },
    "id": "wPPZKEDQffrG",
    "outputId": "034e1c0b-ff6f-456d-cda2-34f5b4792f4b"
   },
   "outputs": [
    {
     "name": "stdout",
     "output_type": "stream",
     "text": [
      "Drive already mounted at /content/drive; to attempt to forcibly remount, call drive.mount(\"/content/drive\", force_remount=True).\n"
     ]
    }
   ],
   "source": [
    "# Colab\r",
    " from google.colab import drive  drive.mount('/content/drive'\n",
    "  baskets = pd.read_parquet(\"/content/drive/MyDrive/My Drive/baskets.parquet\r\n",
    "  coupons = pd.read_parquet(\"/content/drive/MyDrive/My Drive/coupons.parque)\r\n",
    "  coupon_index = pd.read_parquet(\"/content/drive/MyDrive/My Drive/coupon_index.parqdf: {ci_df.shape}\")"
   ]
  },
  {
   "cell_type": "code",
   "execution_count": 3,
   "metadata": {},
   "outputs": [
    {
     "name": "stdout",
     "output_type": "stream",
     "text": [
      "baskets_df: (68841598, 4)\n",
      "coupons_df: (45000000, 4)\n",
      "coupon_index_df: (10000, 3)\n"
     ]
    }
   ],
   "source": [
    "# Jupyter Lab\n",
    "file_path = \"../data/\"\n",
    "\n",
    "baskets_pq = \"baskets.parquet\"\n",
    "coupons_pq = \"coupons.parquet\"\n",
    "coupon_index_pq = \"coupon_index.parquet\"\n",
    "\n",
    "baskets = pd.read_parquet(file_path + baskets_pq)\n",
    "coupons = pd.read_parquet(file_path + coupons_pq)\n",
    "coupon_index = pd.read_parquet(file_path + coupon_index_pq)\n",
    "\n",
    "print(f\"baskets_df: {baskets.shape}\")\n",
    "print(f\"coupons_df: {coupons.shape}\")\n",
    "print(f\"coupon_index_df: {coupon_index.shape}\")"
   ]
  },
  {
   "cell_type": "code",
   "execution_count": 4,
   "metadata": {
    "id": "QcxJiScqwSrc"
   },
   "outputs": [],
   "source": [
    "baskets['target'] = 1"
   ]
  },
  {
   "cell_type": "markdown",
   "metadata": {
    "id": "vTkyVZ3c8uvD"
   },
   "source": [
    "# Split Data"
   ]
  },
  {
   "cell_type": "code",
   "execution_count": 5,
   "metadata": {
    "id": "hFPZC48z9697"
   },
   "outputs": [],
   "source": [
    "weeks = 89 \r\n",
    "shoppers = 100\r\n",
    "\r\n",
    "baskets_train = baskets.loc[(baskets.shopper.isin(list(range(shoppers)))) & (baskets.week<weeks), :]\r\n",
    "baskets_test = baskets.loc[(baskets.shopper.isin(list(range(shoppers)))) & (baskets.week>=weeks), :]\r\n",
    "\r\n",
    "coupons_train = coupons.loc[(coupons.shopper.isin(list(range(shoppers)))) & (coupons.week<weeks), :]\r\n",
    "coupons_test = coupons.loc[(coupons.shopper.isin(list(range(shoppers)))) & (coupons.week>=weeks), :]"
   ]
  },
  {
   "cell_type": "code",
   "execution_count": 6,
   "metadata": {
    "colab": {
     "base_uri": "https://localhost:8080/"
    },
    "id": "pEw2_M3kFJc6",
    "outputId": "754bbbcf-f927-4f1b-cfd9-de5967c73c2c"
   },
   "outputs": [
    {
     "name": "stderr",
     "output_type": "stream",
     "text": [
      "/Users/jungwoojamesjeong/opt/anaconda3/envs/hu-bads/lib/python3.8/site-packages/pandas/core/frame.py:3065: SettingWithCopyWarning: \n",
      "A value is trying to be set on a copy of a slice from a DataFrame.\n",
      "Try using .loc[row_indexer,col_indexer] = value instead\n",
      "\n",
      "See the caveats in the documentation: https://pandas.pydata.org/pandas-docs/stable/user_guide/indexing.html#returning-a-view-versus-a-copy\n",
      "  self[k1] = value[k2]\n"
     ]
    }
   ],
   "source": [
    "cat_columns = ['shopper', 'product']\r\n",
    "\r\n",
    "baskets_train[cat_columns] = baskets_train[cat_columns].astype('category')\r\n",
    "baskets_test[cat_columns] = baskets_test[cat_columns].astype('category')\r\n",
    "coupons_train[cat_columns] = coupons_train[cat_columns].astype('category')\r\n",
    "coupons_test[cat_columns] = coupons_test[cat_columns].astype('category')\r\n",
    "\r\n",
    "baskets[cat_columns] = baskets[cat_columns].astype('category')\r\n",
    "coupons[cat_columns] = coupons[cat_columns].astype('category')"
   ]
  },
  {
   "cell_type": "markdown",
   "metadata": {
    "id": "G5JVUWktoX6w"
   },
   "source": [
    "# Product2Vec"
   ]
  },
  {
   "cell_type": "markdown",
   "metadata": {
    "id": "EcWrfOvjo5iV"
   },
   "source": [
    "## Step 1\r\n",
    "Create a list of baskets."
   ]
  },
  {
   "cell_type": "code",
   "execution_count": 7,
   "metadata": {
    "id": "-BS2_uehoaj0"
   },
   "outputs": [],
   "source": [
    "# create a list of baskets\r\n",
    "shoppers_p2v = 1000\r\n",
    "baskets_p2v = baskets.loc[(baskets.shopper.isin(list(range(shoppers_p2v)))) & (baskets.week<weeks), :][['week', 'shopper', 'product']]\r\n",
    "\r\n",
    "basket_values = baskets_p2v.sort_values(['week', 'shopper']).values\r\n",
    "keys = baskets_p2v.week.astype(str) + '_' + baskets_p2v.shopper.astype(str)\r\n",
    "_, index = np.unique(keys, True)\r\n",
    "basket_arr = np.split(basket_values[:, 2].astype('str'), np.sort(index))[1:]"
   ]
  },
  {
   "cell_type": "code",
   "execution_count": 8,
   "metadata": {
    "id": "6B8L05XppyNx"
   },
   "outputs": [],
   "source": [
    "# streamer class to fill word2vec list by list\r\n",
    "class DataStreamer():\r\n",
    "    def __init__(self, data):\r\n",
    "        self.data = data\r\n",
    "        \r\n",
    "    def __iter__(self):\r\n",
    "        for basket in self.data:\r\n",
    "            yield basket.tolist()"
   ]
  },
  {
   "cell_type": "markdown",
   "metadata": {
    "id": "97OTY46fpsdL"
   },
   "source": [
    "## Step 2\r\n"
   ]
  },
  {
   "cell_type": "code",
   "execution_count": 9,
   "metadata": {
    "id": "XQ4x2i2jpsEw"
   },
   "outputs": [],
   "source": [
    "from gensim.models import Word2Vec"
   ]
  },
  {
   "cell_type": "code",
   "execution_count": 10,
   "metadata": {
    "id": "bt6sXuyep4-z"
   },
   "outputs": [],
   "source": [
    "datastr = DataStreamer(basket_arr)\r\n",
    "\r\n",
    "model = Word2Vec(\r\n",
    "    sentences=datastr, \r\n",
    "    size=100, \r\n",
    "    window=20, # max. size of basket \r\n",
    "    min_count=1,\r\n",
    "    negative=2, \r\n",
    "    sample=0,\r\n",
    "    sg=1,\r\n",
    "    workers=4\r\n",
    ")"
   ]
  },
  {
   "cell_type": "code",
   "execution_count": 11,
   "metadata": {
    "colab": {
     "base_uri": "https://localhost:8080/"
    },
    "id": "wYr6rFWc4Y26",
    "outputId": "bfa25a83-538a-4325-8de4-f913c971696a"
   },
   "outputs": [
    {
     "data": {
      "text/plain": [
       "[('71', 0.5913386344909668),\n",
       " ('74', 0.5517319440841675),\n",
       " ('78', 0.545609176158905),\n",
       " ('72', 0.5402967929840088),\n",
       " ('79', 0.5398701429367065),\n",
       " ('75', 0.49135079979896545),\n",
       " ('73', 0.4848102927207947),\n",
       " ('77', 0.4053838551044464),\n",
       " ('70', 0.3556126356124878),\n",
       " ('112', 0.23727774620056152)]"
      ]
     },
     "execution_count": 11,
     "metadata": {},
     "output_type": "execute_result"
    }
   ],
   "source": [
    "model.wv.most_similar(positive='76')"
   ]
  },
  {
   "cell_type": "code",
   "execution_count": 12,
   "metadata": {
    "id": "UYf6g8fVHowP"
   },
   "outputs": [],
   "source": [
    "product_keys = [str(product) for product in range(250)]\r\n",
    "product_vectors = model.wv[product_keys]"
   ]
  },
  {
   "cell_type": "markdown",
   "metadata": {
    "id": "jMcURLMn4VF_"
   },
   "source": [
    "## Step 3: Assigning Categories"
   ]
  },
  {
   "cell_type": "markdown",
   "metadata": {
    "id": "vDLwZACurll_"
   },
   "source": [
    "### Substitutes | Similar Products"
   ]
  },
  {
   "cell_type": "code",
   "execution_count": 13,
   "metadata": {
    "colab": {
     "base_uri": "https://localhost:8080/",
     "height": 282
    },
    "id": "oh0RMyKO4W9N",
    "outputId": "c3f9e966-d07f-46ed-ef1c-d6b9db49fa69"
   },
   "outputs": [
    {
     "data": {
      "text/plain": [
       "<matplotlib.collections.PathCollection at 0x7f843b179b80>"
      ]
     },
     "execution_count": 13,
     "metadata": {},
     "output_type": "execute_result"
    },
    {
     "data": {
      "image/png": "[encoded data removed]",
      "text/plain": [
       "<Figure size 432x288 with 1 Axes>"
      ]
     },
     "metadata": {
      "needs_background": "light"
     },
     "output_type": "display_data"
    }
   ],
   "source": [
    "from sklearn.manifold import TSNE\r\n",
    "X_embedded = TSNE(n_components=2).fit_transform(product_vectors)\r\n",
    "plt.scatter(X_embedded[:,0], X_embedded[:,1])"
   ]
  },
  {
   "cell_type": "code",
   "execution_count": 14,
   "metadata": {
    "colab": {
     "base_uri": "https://localhost:8080/"
    },
    "id": "shIlPBnFIPJh",
    "outputId": "8604c7e9-69b2-4fff-f111-b4756b9aa3c1"
   },
   "outputs": [
    {
     "data": {
      "text/plain": [
       "array([22, 22, 22, 22, 22, 22, 22, 22, 22, 22,  5,  5,  5,  5,  5,  5,  5,\n",
       "        5,  5,  5,  3,  3,  3,  3,  3,  3,  3,  3,  3,  3, 12, 12, 12, 12,\n",
       "       12, 12, 12, 12, 12, 12,  7,  7,  7,  7,  7,  7,  7,  7,  7,  7,  8,\n",
       "        8,  8,  8,  8,  8,  8,  8,  8,  8, 20, 20, 20, 20,  9, 20, 20, 20,\n",
       "       20,  9, 21, 21, 21, 21, 21, 21, 21, 21, 21, 21, 14, 14, 14, 14, 14,\n",
       "       14, 14, 14, 14, 14, 11, 11, 11, 11, 11, 11, 11, 11, 11, 11, 10, 10,\n",
       "       10, 10, 10, 10, 10, 10, 10, 10, 13, 13, 13, 13, 13, 13, 13, 13, 13,\n",
       "       13, 18, 18, 18, 18, 18, 18, 18, 18, 18, 18,  0,  0,  0,  0,  0,  0,\n",
       "        0,  0,  0,  0, 16, 16, 16, 16, 16, 16, 16, 16, 16, 16, 24, 24, 24,\n",
       "       24, 24, 24, 24, 24, 24, 24, 23, 23, 23, 23, 23, 23, 23, 23, 23, 23,\n",
       "       19, 19, 19, 19, 19, 19, 19, 19, 19, 19, 15, 15, 15, 15, 15, 15, 15,\n",
       "       15, 15, 15,  4,  4,  4,  4,  4,  4,  4,  4,  4,  4, 17, 17, 17, 17,\n",
       "       17, 17, 17, 17, 17, 17,  6,  6,  6,  6,  6,  6,  6,  6,  6,  6,  1,\n",
       "        1,  1,  1,  1,  1,  1,  1,  1,  1,  5,  5,  5,  5,  5,  5,  5,  5,\n",
       "        5,  5,  2,  2,  2,  2,  2,  2,  2,  2,  2,  2], dtype=int32)"
      ]
     },
     "execution_count": 14,
     "metadata": {},
     "output_type": "execute_result"
    }
   ],
   "source": [
    "from sklearn.cluster import KMeans\r\n",
    "kmeans = KMeans(n_clusters=25, random_state=0).fit(product_vectors)\r\n",
    "kmeans.labels_"
   ]
  },
  {
   "cell_type": "code",
   "execution_count": 15,
   "metadata": {
    "id": "81tKn562JSL4"
   },
   "outputs": [],
   "source": [
    "# Generate a product category\r\n",
    "products = [product for product in range(250)]\r\n",
    "prods_cat_table = pd.DataFrame(data=products, columns=[\"product\"])\r\n",
    "prods_cat_table[\"category\"] = kmeans.labels_\r\n",
    "prods_cat_table[['product', 'category']] = prods_cat_table[['product', 'category']].astype('category')"
   ]
  },
  {
   "cell_type": "code",
   "execution_count": 16,
   "metadata": {
    "colab": {
     "base_uri": "https://localhost:8080/",
     "height": 204
    },
    "id": "BR54bFnBM189",
    "outputId": "a80d5ce1-b43a-44bd-eee2-b84ef3e60929"
   },
   "outputs": [
    {
     "data": {
      "text/html": [
       "<div>\n",
       "<style scoped>\n",
       "    .dataframe tbody tr th:only-of-type {\n",
       "        vertical-align: middle;\n",
       "    }\n",
       "\n",
       "    .dataframe tbody tr th {\n",
       "        vertical-align: top;\n",
       "    }\n",
       "\n",
       "    .dataframe thead th {\n",
       "        text-align: right;\n",
       "    }\n",
       "</style>\n",
       "<table border=\"1\" class=\"dataframe\">\n",
       "  <thead>\n",
       "    <tr style=\"text-align: right;\">\n",
       "      <th></th>\n",
       "      <th>product</th>\n",
       "      <th>category</th>\n",
       "    </tr>\n",
       "  </thead>\n",
       "  <tbody>\n",
       "    <tr>\n",
       "      <th>0</th>\n",
       "      <td>0</td>\n",
       "      <td>22</td>\n",
       "    </tr>\n",
       "    <tr>\n",
       "      <th>1</th>\n",
       "      <td>1</td>\n",
       "      <td>22</td>\n",
       "    </tr>\n",
       "    <tr>\n",
       "      <th>2</th>\n",
       "      <td>2</td>\n",
       "      <td>22</td>\n",
       "    </tr>\n",
       "    <tr>\n",
       "      <th>3</th>\n",
       "      <td>3</td>\n",
       "      <td>22</td>\n",
       "    </tr>\n",
       "    <tr>\n",
       "      <th>4</th>\n",
       "      <td>4</td>\n",
       "      <td>22</td>\n",
       "    </tr>\n",
       "  </tbody>\n",
       "</table>\n",
       "</div>"
      ],
      "text/plain": [
       "  product category\n",
       "0       0       22\n",
       "1       1       22\n",
       "2       2       22\n",
       "3       3       22\n",
       "4       4       22"
      ]
     },
     "execution_count": 16,
     "metadata": {},
     "output_type": "execute_result"
    }
   ],
   "source": [
    "prods_cat_table.head()"
   ]
  },
  {
   "cell_type": "markdown",
   "metadata": {
    "id": "1OWqUvPfruk6"
   },
   "source": [
    "### Complementary Products"
   ]
  },
  {
   "cell_type": "markdown",
   "metadata": {
    "id": "JMDBAo8rI3K3"
   },
   "source": [
    "In Progress"
   ]
  },
  {
   "cell_type": "code",
   "execution_count": 17,
   "metadata": {
    "id": "m_nyp0CDtF5G"
   },
   "outputs": [],
   "source": [
    "# w_in\r\n",
    "w_in = model.wv.vectors\r\n",
    "\r\n",
    "# w_out\r\n",
    "w_out = model.trainables.syn1neg"
   ]
  },
  {
   "cell_type": "code",
   "execution_count": 18,
   "metadata": {
    "colab": {
     "base_uri": "https://localhost:8080/"
    },
    "id": "81T8kC8Yt-H1",
    "outputId": "2fc24ee3-e6c4-40ab-8bbe-5129cedb5054"
   },
   "outputs": [
    {
     "data": {
      "text/plain": [
       "(250, 100)"
      ]
     },
     "execution_count": 18,
     "metadata": {},
     "output_type": "execute_result"
    }
   ],
   "source": [
    "w_in.shape"
   ]
  },
  {
   "cell_type": "code",
   "execution_count": 19,
   "metadata": {
    "colab": {
     "base_uri": "https://localhost:8080/"
    },
    "id": "MI-SOYS6uhOE",
    "outputId": "8c7c94d4-11b5-4321-bdb2-4159c9b43d8c"
   },
   "outputs": [
    {
     "data": {
      "text/plain": [
       "-3.6445107"
      ]
     },
     "execution_count": 19,
     "metadata": {},
     "output_type": "execute_result"
    }
   ],
   "source": [
    "np.dot(w_in[0], w_out[0])"
   ]
  },
  {
   "cell_type": "code",
   "execution_count": 20,
   "metadata": {
    "colab": {
     "base_uri": "https://localhost:8080/"
    },
    "id": "8bvF2L_L2llC",
    "outputId": "d5e28bfc-97b9-429b-cfc9-353663b3176c"
   },
   "outputs": [
    {
     "data": {
      "text/plain": [
       "29"
      ]
     },
     "execution_count": 20,
     "metadata": {},
     "output_type": "execute_result"
    }
   ],
   "source": [
    "np.argmax([np.dot(w_in[0], context) for context in w_out])"
   ]
  },
  {
   "cell_type": "code",
   "execution_count": 21,
   "metadata": {
    "colab": {
     "base_uri": "https://localhost:8080/"
    },
    "id": "ciLpudxBvo7g",
    "outputId": "63653789-b65e-4a1c-fcae-5be1bad44310"
   },
   "outputs": [
    {
     "data": {
      "text/plain": [
       "[('101', 0.5841051340103149),\n",
       " ('106', 0.5389761924743652),\n",
       " ('102', 0.4900280237197876),\n",
       " ('100', 0.4862634539604187),\n",
       " ('104', 0.4754922389984131),\n",
       " ('107', 0.4693756103515625),\n",
       " ('108', 0.44804662466049194),\n",
       " ('103', 0.4307035505771637),\n",
       " ('109', 0.4113791286945343),\n",
       " ('125', 0.27912795543670654)]"
      ]
     },
     "execution_count": 21,
     "metadata": {},
     "output_type": "execute_result"
    }
   ],
   "source": [
    "model.wv.most_similar('105')"
   ]
  },
  {
   "cell_type": "code",
   "execution_count": 22,
   "metadata": {
    "colab": {
     "base_uri": "https://localhost:8080/"
    },
    "id": "K_MQ5d6UxN-j",
    "outputId": "8e603345-2dfd-4af7-e602-325e65860352"
   },
   "outputs": [
    {
     "data": {
      "text/plain": [
       "0"
      ]
     },
     "execution_count": 22,
     "metadata": {},
     "output_type": "execute_result"
    }
   ],
   "source": [
    "model.wv.vocab['105'].index"
   ]
  },
  {
   "cell_type": "code",
   "execution_count": 23,
   "metadata": {
    "colab": {
     "base_uri": "https://localhost:8080/"
    },
    "id": "ytkaHLO-xtfZ",
    "outputId": "670e6ff9-e3dd-483a-c6bf-be1297643210"
   },
   "outputs": [
    {
     "data": {
      "text/plain": [
       "39"
      ]
     },
     "execution_count": 23,
     "metadata": {},
     "output_type": "execute_result"
    }
   ],
   "source": [
    "model.wv.vocab['138'].index"
   ]
  },
  {
   "cell_type": "code",
   "execution_count": 24,
   "metadata": {
    "colab": {
     "base_uri": "https://localhost:8080/",
     "height": 35
    },
    "id": "EZQiM-cCx0tT",
    "outputId": "5054ae14-09ac-45e5-a90b-e4d04cdb0abb"
   },
   "outputs": [
    {
     "data": {
      "text/plain": [
       "'202'"
      ]
     },
     "execution_count": 24,
     "metadata": {},
     "output_type": "execute_result"
    }
   ],
   "source": [
    "model.wv.index2word[26]"
   ]
  },
  {
   "cell_type": "code",
   "execution_count": 25,
   "metadata": {
    "colab": {
     "base_uri": "https://localhost:8080/"
    },
    "id": "yeIzW5yRzKx6",
    "outputId": "d0f16066-2baf-41f8-bfee-72c8c4cb028c"
   },
   "outputs": [
    {
     "data": {
      "text/plain": [
       "[('197', 0.019428186),\n",
       " ('138', 0.018522443),\n",
       " ('79', 0.018301914),\n",
       " ('222', 0.017487105),\n",
       " ('105', 0.01658476),\n",
       " ('126', 0.015702095),\n",
       " ('48', 0.014365487),\n",
       " ('62', 0.0139852585),\n",
       " ('249', 0.012956566),\n",
       " ('17', 0.012712247)]"
      ]
     },
     "execution_count": 25,
     "metadata": {},
     "output_type": "execute_result"
    }
   ],
   "source": [
    "model.predict_output_word(['3'])"
   ]
  },
  {
   "cell_type": "markdown",
   "metadata": {
    "id": "1GUl3WjJ-nAQ"
   },
   "source": [
    "## Merge with baskets and coupons"
   ]
  },
  {
   "cell_type": "code",
   "execution_count": 26,
   "metadata": {
    "id": "h28GjGRNnniJ"
   },
   "outputs": [],
   "source": [
    "baskets_train = baskets_train.merge(prods_cat_table, on=['product'], how='left')\r\n",
    "baskets_test = baskets_test.merge(prods_cat_table, on=['product'], how='left')\r\n",
    "\r\n",
    "coupons_train = coupons_train.merge(prods_cat_table, on=['product'], how='left')\r\n",
    "coupons_test = coupons_test.merge(prods_cat_table, on=['product'], how='left')"
   ]
  },
  {
   "cell_type": "code",
   "execution_count": 27,
   "metadata": {
    "id": "y6Juk862oJRl"
   },
   "outputs": [],
   "source": [
    "# baskets_train.head()"
   ]
  },
  {
   "cell_type": "markdown",
   "metadata": {
    "id": "SNhjNET68TMB"
   },
   "source": [
    "# Feature Engineering"
   ]
  },
  {
   "cell_type": "markdown",
   "metadata": {
    "id": "2aS87-iyk4CG"
   },
   "source": [
    "Product related features:"
   ]
  },
  {
   "cell_type": "code",
   "execution_count": 28,
   "metadata": {
    "id": "EKmf7AMPk75h"
   },
   "outputs": [],
   "source": [
    "original_price = baskets.groupby('product', as_index=False).price.max().rename(columns={'price': 'original_price'})\r\n",
    "total_count_of_product = baskets_train.groupby(['shopper', 'product']).product.count().to_frame('total_count_of_product').reset_index()\r\n",
    "reordered_product = (baskets_train.groupby(['shopper']).product.value_counts()>1).astype(int)\r\n",
    "\r\n",
    "# ratio probably don't needed, so leave it out \r\n",
    "# ratio_of_reordered_per_product = total_count_of_product.copy()\r\n",
    "# ratio_of_reordered_per_product['total_count_of_product'] = total_count_of_product['total_count_of_product'] / (baskets_train.week.max()+1)\r\n",
    "# ratio_of_reordered_per_product.rename(columns={'total_count_of_product': 'ratio_of_reordered_per_product'}, inplace=True)"
   ]
  },
  {
   "cell_type": "markdown",
   "metadata": {
    "id": "d_So5nrfnQpo"
   },
   "source": [
    "Category related features:"
   ]
  },
  {
   "cell_type": "code",
   "execution_count": 29,
   "metadata": {
    "id": "LjKDxoo6nQTW"
   },
   "outputs": [],
   "source": [
    "category_count = baskets_train.groupby(['shopper', 'category']).category.count().to_frame('category_count').reset_index()\r\n",
    "reordered_category = (baskets_train.groupby(['shopper']).category.value_counts()>1).astype(int)\r\n",
    "\r\n",
    "coupon_in_same_category = coupons_train.loc[:, ['week', 'shopper', 'category']].drop_duplicates()\r\n",
    "coupon_in_same_category['coupon_in_same_category'] = 'Yes'\r\n",
    "# coupon_in_complementary_category =\r\n",
    "\r\n",
    "# ratio_of_reordered_per_category = category_count.copy()\r\n",
    "# ratio_of_reordered_per_category['category_count'] = category_count['category_count'] / (baskets_train.week.max()+1)\r\n",
    "# ratio_of_reordered_per_category.rename(columns={'category_count': 'ratio_of_reordered_per_category'}, inplace=True)\r\n"
   ]
  },
  {
   "cell_type": "markdown",
   "metadata": {
    "id": "P1Rvn3V6lCx1"
   },
   "source": [
    "Shopper related features:"
   ]
  },
  {
   "cell_type": "code",
   "execution_count": 30,
   "metadata": {
    "id": "FSjPMhQWRJM0"
   },
   "outputs": [],
   "source": [
    "average_price_per_shopper = baskets_train.groupby(['shopper']).price.mean().to_frame('average_price_per_shopper').reset_index()\r\n",
    "average_basket_size = baskets_train.groupby(['shopper', 'week']).product.count().groupby('shopper').mean().to_frame('average_basket_size').reset_index()\r\n",
    "unique_products_per_shopper = baskets_train.groupby(['shopper']).product.nunique()\r\n",
    "unique_categories_per_shopper = baskets_train.groupby(['shopper']).category.nunique()\r\n",
    "ratio_of_reordered_products_per_shopper = (reordered_product.groupby('shopper').sum() / unique_products_per_shopper).to_frame('ratio_of_reordered_products').reset_index()\r\n",
    "ratio_of_reordered_categories_per_shopper = (reordered_category.groupby('shopper').sum() / unique_categories_per_shopper).to_frame('ratio_of_reordered_categories').reset_index()\r\n",
    "\r\n",
    "# window-average -> feature which give less probability to products wich haven't been purchased for a long time -> maybe relates to category as shopper has changed to product in similar category\r\n",
    "# add average week interval for each product and shopper -> frequency | maybe not necessary, basically just total_count/weeks, probably already covered by model\r\n",
    "# WoE"
   ]
  },
  {
   "cell_type": "markdown",
   "metadata": {
    "id": "sw_Q28r7l5su"
   },
   "source": [
    "Reframing:"
   ]
  },
  {
   "cell_type": "code",
   "execution_count": 31,
   "metadata": {
    "id": "Lmgrf5Eml5Z-"
   },
   "outputs": [],
   "source": [
    "reordered_product = reordered_product.to_frame('reordered_product').reset_index()\r\n",
    "reordered_category = reordered_category.to_frame('reordered_category').reset_index()\r\n",
    "unique_products_per_shopper = unique_products_per_shopper.to_frame('unique_products_per_shopper').reset_index()\r\n",
    "unique_categories_per_shopper = unique_categories_per_shopper.to_frame('unique_categories_per_shopper').reset_index()"
   ]
  },
  {
   "cell_type": "markdown",
   "metadata": {
    "id": "tpTEDEJKHe3m"
   },
   "source": [
    "# Set Up Training Table"
   ]
  },
  {
   "cell_type": "code",
   "execution_count": 32,
   "metadata": {
    "id": "mO2RSVLsNbUe"
   },
   "outputs": [],
   "source": [
    "full_df_train = (baskets_train\r\n",
    "                 .merge(\r\n",
    "                     coupons_train, \r\n",
    "                     on=['week', 'shopper', 'product', 'category'], \r\n",
    "                     how='outer',\r\n",
    "                     indicator=True\r\n",
    "                 )\r\n",
    "                 .sort_values(by=['week', 'shopper', 'product'])\r\n",
    "                 .reset_index(drop=True)\r\n",
    "                 .replace(['left_only', 'right_only', 'both'], ['No', 'Yes', 'Yes'])\r\n",
    "                 .rename(columns={'_merge': 'coupon'})\r\n",
    ")\r\n",
    "\r\n",
    "full_df_train['discount'].fillna(0, inplace=True)"
   ]
  },
  {
   "cell_type": "code",
   "execution_count": 33,
   "metadata": {
    "id": "4DYPPoPWh_vm"
   },
   "outputs": [],
   "source": [
    "df1 = pd.DataFrame({'key':np.ones(weeks), 'week':list(range(weeks))})\r\n",
    "df2 = pd.DataFrame({'key':np.ones(shoppers), 'shopper':list(range(shoppers))})\r\n",
    "df3 = pd.DataFrame({'key':np.ones(250), 'product':list(range(250))})\r\n",
    "\r\n",
    "X_train = (pd\r\n",
    "           .merge(df1, df2, on='key')\r\n",
    "           .merge(df3, on='key')\r\n",
    "           .merge(prods_cat_table, on='product')\r\n",
    "           .merge(full_df_train, on=['week', 'shopper', 'product', 'category'], how='left')[full_df_train.columns]\r\n",
    ")"
   ]
  },
  {
   "cell_type": "code",
   "execution_count": 34,
   "metadata": {},
   "outputs": [
    {
     "data": {
      "text/html": [
       "<div>\n",
       "<style scoped>\n",
       "    .dataframe tbody tr th:only-of-type {\n",
       "        vertical-align: middle;\n",
       "    }\n",
       "\n",
       "    .dataframe tbody tr th {\n",
       "        vertical-align: top;\n",
       "    }\n",
       "\n",
       "    .dataframe thead th {\n",
       "        text-align: right;\n",
       "    }\n",
       "</style>\n",
       "<table border=\"1\" class=\"dataframe\">\n",
       "  <thead>\n",
       "    <tr style=\"text-align: right;\">\n",
       "      <th></th>\n",
       "      <th>week</th>\n",
       "      <th>shopper</th>\n",
       "      <th>product</th>\n",
       "      <th>price</th>\n",
       "      <th>target</th>\n",
       "      <th>category</th>\n",
       "      <th>discount</th>\n",
       "      <th>coupon</th>\n",
       "    </tr>\n",
       "  </thead>\n",
       "  <tbody>\n",
       "    <tr>\n",
       "      <th>0</th>\n",
       "      <td>0</td>\n",
       "      <td>0</td>\n",
       "      <td>0</td>\n",
       "      <td>NaN</td>\n",
       "      <td>NaN</td>\n",
       "      <td>22</td>\n",
       "      <td>NaN</td>\n",
       "      <td>NaN</td>\n",
       "    </tr>\n",
       "    <tr>\n",
       "      <th>1</th>\n",
       "      <td>0</td>\n",
       "      <td>1</td>\n",
       "      <td>0</td>\n",
       "      <td>NaN</td>\n",
       "      <td>NaN</td>\n",
       "      <td>22</td>\n",
       "      <td>NaN</td>\n",
       "      <td>NaN</td>\n",
       "    </tr>\n",
       "    <tr>\n",
       "      <th>2</th>\n",
       "      <td>0</td>\n",
       "      <td>2</td>\n",
       "      <td>0</td>\n",
       "      <td>NaN</td>\n",
       "      <td>NaN</td>\n",
       "      <td>22</td>\n",
       "      <td>NaN</td>\n",
       "      <td>NaN</td>\n",
       "    </tr>\n",
       "    <tr>\n",
       "      <th>3</th>\n",
       "      <td>0</td>\n",
       "      <td>3</td>\n",
       "      <td>0</td>\n",
       "      <td>NaN</td>\n",
       "      <td>NaN</td>\n",
       "      <td>22</td>\n",
       "      <td>NaN</td>\n",
       "      <td>NaN</td>\n",
       "    </tr>\n",
       "    <tr>\n",
       "      <th>4</th>\n",
       "      <td>0</td>\n",
       "      <td>4</td>\n",
       "      <td>0</td>\n",
       "      <td>NaN</td>\n",
       "      <td>NaN</td>\n",
       "      <td>22</td>\n",
       "      <td>NaN</td>\n",
       "      <td>NaN</td>\n",
       "    </tr>\n",
       "    <tr>\n",
       "      <th>...</th>\n",
       "      <td>...</td>\n",
       "      <td>...</td>\n",
       "      <td>...</td>\n",
       "      <td>...</td>\n",
       "      <td>...</td>\n",
       "      <td>...</td>\n",
       "      <td>...</td>\n",
       "      <td>...</td>\n",
       "    </tr>\n",
       "    <tr>\n",
       "      <th>2224995</th>\n",
       "      <td>88</td>\n",
       "      <td>95</td>\n",
       "      <td>249</td>\n",
       "      <td>NaN</td>\n",
       "      <td>NaN</td>\n",
       "      <td>2</td>\n",
       "      <td>NaN</td>\n",
       "      <td>NaN</td>\n",
       "    </tr>\n",
       "    <tr>\n",
       "      <th>2224996</th>\n",
       "      <td>88</td>\n",
       "      <td>96</td>\n",
       "      <td>249</td>\n",
       "      <td>NaN</td>\n",
       "      <td>NaN</td>\n",
       "      <td>2</td>\n",
       "      <td>NaN</td>\n",
       "      <td>NaN</td>\n",
       "    </tr>\n",
       "    <tr>\n",
       "      <th>2224997</th>\n",
       "      <td>88</td>\n",
       "      <td>97</td>\n",
       "      <td>249</td>\n",
       "      <td>NaN</td>\n",
       "      <td>NaN</td>\n",
       "      <td>2</td>\n",
       "      <td>NaN</td>\n",
       "      <td>NaN</td>\n",
       "    </tr>\n",
       "    <tr>\n",
       "      <th>2224998</th>\n",
       "      <td>88</td>\n",
       "      <td>98</td>\n",
       "      <td>249</td>\n",
       "      <td>499.0</td>\n",
       "      <td>1.0</td>\n",
       "      <td>2</td>\n",
       "      <td>0.0</td>\n",
       "      <td>No</td>\n",
       "    </tr>\n",
       "    <tr>\n",
       "      <th>2224999</th>\n",
       "      <td>88</td>\n",
       "      <td>99</td>\n",
       "      <td>249</td>\n",
       "      <td>NaN</td>\n",
       "      <td>NaN</td>\n",
       "      <td>2</td>\n",
       "      <td>NaN</td>\n",
       "      <td>NaN</td>\n",
       "    </tr>\n",
       "  </tbody>\n",
       "</table>\n",
       "<p>2225000 rows × 8 columns</p>\n",
       "</div>"
      ],
      "text/plain": [
       "         week shopper product  price  target category  discount coupon\n",
       "0           0       0       0    NaN     NaN       22       NaN    NaN\n",
       "1           0       1       0    NaN     NaN       22       NaN    NaN\n",
       "2           0       2       0    NaN     NaN       22       NaN    NaN\n",
       "3           0       3       0    NaN     NaN       22       NaN    NaN\n",
       "4           0       4       0    NaN     NaN       22       NaN    NaN\n",
       "...       ...     ...     ...    ...     ...      ...       ...    ...\n",
       "2224995    88      95     249    NaN     NaN        2       NaN    NaN\n",
       "2224996    88      96     249    NaN     NaN        2       NaN    NaN\n",
       "2224997    88      97     249    NaN     NaN        2       NaN    NaN\n",
       "2224998    88      98     249  499.0     1.0        2       0.0     No\n",
       "2224999    88      99     249    NaN     NaN        2       NaN    NaN\n",
       "\n",
       "[2225000 rows x 8 columns]"
      ]
     },
     "execution_count": 34,
     "metadata": {},
     "output_type": "execute_result"
    }
   ],
   "source": [
    "X_train"
   ]
  },
  {
   "cell_type": "code",
   "execution_count": null,
   "metadata": {},
   "outputs": [],
   "source": []
  },
  {
   "cell_type": "code",
   "execution_count": null,
   "metadata": {},
   "outputs": [],
   "source": []
  },
  {
   "cell_type": "code",
   "execution_count": null,
   "metadata": {},
   "outputs": [],
   "source": []
  },
  {
   "cell_type": "code",
   "execution_count": null,
   "metadata": {},
   "outputs": [],
   "source": []
  },
  {
   "cell_type": "code",
   "execution_count": null,
   "metadata": {},
   "outputs": [],
   "source": []
  },
  {
   "cell_type": "code",
   "execution_count": null,
   "metadata": {},
   "outputs": [],
   "source": []
  },
  {
   "cell_type": "markdown",
   "metadata": {
    "id": "ptZ7ODD00-tS"
   },
   "source": [
    "Combine all features"
   ]
  },
  {
   "cell_type": "code",
   "execution_count": 81,
   "metadata": {
    "id": "nFrmiWSu094h"
   },
   "outputs": [],
   "source": [
    "X_train = (X_train\r\n",
    "           .merge(original_price, on=['product'], how='left')\r\n",
    "           .merge(total_count_of_product, on=['shopper', 'product'], how='left')\r\n",
    "           .merge(reordered_product, on=['shopper', 'product'], how='left')\r\n",
    "          #  .merge(ratio_of_reordered_per_product, on=['shopper', 'product'], how='left')\r\n",
    "           .merge(category_count, on=['shopper', 'category'], how='left')\r\n",
    "           .merge(reordered_category, on=['shopper', 'category'], how='left')\r\n",
    "           .merge(coupon_in_same_category, on=['week', 'shopper', 'category'], how='left')\r\n",
    "           .merge(ratio_of_reordered_products_per_shopper, on=['shopper'], how='left')\r\n",
    "           .merge(ratio_of_reordered_categories_per_shopper, on=['shopper'], how='left')\r\n",
    "           .merge(average_price_per_shopper, on=['shopper'], how='left')\r\n",
    "           .merge(average_basket_size, on=['shopper'], how='left')\r\n",
    "           .merge(unique_products_per_shopper, on=['shopper'], how='left')\r\n",
    "           .merge(unique_categories_per_shopper, on=['shopper'], how='left')\r\n",
    "           )"
   ]
  },
  {
   "cell_type": "code",
   "execution_count": 82,
   "metadata": {
    "colab": {
     "base_uri": "https://localhost:8080/",
     "height": 224
    },
    "id": "GDiIwUFu1Q6a",
    "outputId": "23588830-9e60-4fbc-eeb8-abe170b33c23"
   },
   "outputs": [
    {
     "data": {
      "text/html": [
       "<div>\n",
       "<style scoped>\n",
       "    .dataframe tbody tr th:only-of-type {\n",
       "        vertical-align: middle;\n",
       "    }\n",
       "\n",
       "    .dataframe tbody tr th {\n",
       "        vertical-align: top;\n",
       "    }\n",
       "\n",
       "    .dataframe thead th {\n",
       "        text-align: right;\n",
       "    }\n",
       "</style>\n",
       "<table border=\"1\" class=\"dataframe\">\n",
       "  <thead>\n",
       "    <tr style=\"text-align: right;\">\n",
       "      <th></th>\n",
       "      <th>week</th>\n",
       "      <th>shopper</th>\n",
       "      <th>product</th>\n",
       "      <th>price</th>\n",
       "      <th>target</th>\n",
       "      <th>category</th>\n",
       "      <th>discount</th>\n",
       "      <th>coupon</th>\n",
       "      <th>original_price</th>\n",
       "      <th>total_count_of_product</th>\n",
       "      <th>reordered_product</th>\n",
       "      <th>category_count</th>\n",
       "      <th>reordered_category</th>\n",
       "      <th>coupon_in_same_category</th>\n",
       "      <th>ratio_of_reordered_products</th>\n",
       "      <th>ratio_of_reordered_categories</th>\n",
       "      <th>average_price_per_shopper</th>\n",
       "      <th>average_basket_size</th>\n",
       "      <th>unique_products_per_shopper</th>\n",
       "      <th>unique_categories_per_shopper</th>\n",
       "    </tr>\n",
       "  </thead>\n",
       "  <tbody>\n",
       "    <tr>\n",
       "      <th>0</th>\n",
       "      <td>0</td>\n",
       "      <td>0</td>\n",
       "      <td>0</td>\n",
       "      <td>NaN</td>\n",
       "      <td>NaN</td>\n",
       "      <td>23</td>\n",
       "      <td>NaN</td>\n",
       "      <td>NaN</td>\n",
       "      <td>688</td>\n",
       "      <td>0</td>\n",
       "      <td>NaN</td>\n",
       "      <td>8</td>\n",
       "      <td>1.0</td>\n",
       "      <td>Yes</td>\n",
       "      <td>0.722222</td>\n",
       "      <td>0.960000</td>\n",
       "      <td>587.203947</td>\n",
       "      <td>8.539326</td>\n",
       "      <td>54</td>\n",
       "      <td>25</td>\n",
       "    </tr>\n",
       "    <tr>\n",
       "      <th>1</th>\n",
       "      <td>0</td>\n",
       "      <td>1</td>\n",
       "      <td>0</td>\n",
       "      <td>NaN</td>\n",
       "      <td>NaN</td>\n",
       "      <td>23</td>\n",
       "      <td>NaN</td>\n",
       "      <td>NaN</td>\n",
       "      <td>688</td>\n",
       "      <td>6</td>\n",
       "      <td>1.0</td>\n",
       "      <td>28</td>\n",
       "      <td>1.0</td>\n",
       "      <td>Yes</td>\n",
       "      <td>0.830986</td>\n",
       "      <td>1.000000</td>\n",
       "      <td>584.065350</td>\n",
       "      <td>7.393258</td>\n",
       "      <td>71</td>\n",
       "      <td>24</td>\n",
       "    </tr>\n",
       "    <tr>\n",
       "      <th>2</th>\n",
       "      <td>0</td>\n",
       "      <td>2</td>\n",
       "      <td>0</td>\n",
       "      <td>NaN</td>\n",
       "      <td>NaN</td>\n",
       "      <td>23</td>\n",
       "      <td>NaN</td>\n",
       "      <td>NaN</td>\n",
       "      <td>688</td>\n",
       "      <td>0</td>\n",
       "      <td>NaN</td>\n",
       "      <td>53</td>\n",
       "      <td>1.0</td>\n",
       "      <td>NaN</td>\n",
       "      <td>0.700000</td>\n",
       "      <td>0.954545</td>\n",
       "      <td>571.918919</td>\n",
       "      <td>5.820225</td>\n",
       "      <td>60</td>\n",
       "      <td>22</td>\n",
       "    </tr>\n",
       "    <tr>\n",
       "      <th>3</th>\n",
       "      <td>0</td>\n",
       "      <td>3</td>\n",
       "      <td>0</td>\n",
       "      <td>NaN</td>\n",
       "      <td>NaN</td>\n",
       "      <td>23</td>\n",
       "      <td>NaN</td>\n",
       "      <td>NaN</td>\n",
       "      <td>688</td>\n",
       "      <td>0</td>\n",
       "      <td>NaN</td>\n",
       "      <td>37</td>\n",
       "      <td>1.0</td>\n",
       "      <td>NaN</td>\n",
       "      <td>0.714286</td>\n",
       "      <td>1.000000</td>\n",
       "      <td>561.846361</td>\n",
       "      <td>8.337079</td>\n",
       "      <td>91</td>\n",
       "      <td>24</td>\n",
       "    </tr>\n",
       "    <tr>\n",
       "      <th>4</th>\n",
       "      <td>0</td>\n",
       "      <td>4</td>\n",
       "      <td>0</td>\n",
       "      <td>NaN</td>\n",
       "      <td>NaN</td>\n",
       "      <td>23</td>\n",
       "      <td>NaN</td>\n",
       "      <td>NaN</td>\n",
       "      <td>688</td>\n",
       "      <td>0</td>\n",
       "      <td>NaN</td>\n",
       "      <td>8</td>\n",
       "      <td>1.0</td>\n",
       "      <td>NaN</td>\n",
       "      <td>0.764706</td>\n",
       "      <td>1.000000</td>\n",
       "      <td>583.750455</td>\n",
       "      <td>6.168539</td>\n",
       "      <td>34</td>\n",
       "      <td>20</td>\n",
       "    </tr>\n",
       "  </tbody>\n",
       "</table>\n",
       "</div>"
      ],
      "text/plain": [
       "   week shopper  ... unique_products_per_shopper  unique_categories_per_shopper\n",
       "0     0       0  ...                          54                             25\n",
       "1     0       1  ...                          71                             24\n",
       "2     0       2  ...                          60                             22\n",
       "3     0       3  ...                          91                             24\n",
       "4     0       4  ...                          34                             20\n",
       "\n",
       "[5 rows x 20 columns]"
      ]
     },
     "execution_count": 82,
     "metadata": {
      "tags": []
     },
     "output_type": "execute_result"
    }
   ],
   "source": [
    "X_train.head()"
   ]
  },
  {
   "cell_type": "code",
   "execution_count": 83,
   "metadata": {
    "colab": {
     "base_uri": "https://localhost:8080/"
    },
    "id": "7mK3HtWoI-rc",
    "outputId": "57c66360-dc3f-4b84-d7fe-675dd7857ec5"
   },
   "outputs": [
    {
     "data": {
      "text/plain": [
       "week                             False\n",
       "shopper                          False\n",
       "product                          False\n",
       "price                             True\n",
       "target                            True\n",
       "category                         False\n",
       "discount                          True\n",
       "coupon                            True\n",
       "original_price                   False\n",
       "total_count_of_product           False\n",
       "reordered_product                 True\n",
       "category_count                   False\n",
       "reordered_category                True\n",
       "coupon_in_same_category           True\n",
       "ratio_of_reordered_products      False\n",
       "ratio_of_reordered_categories    False\n",
       "average_price_per_shopper        False\n",
       "average_basket_size              False\n",
       "unique_products_per_shopper      False\n",
       "unique_categories_per_shopper    False\n",
       "dtype: bool"
      ]
     },
     "execution_count": 83,
     "metadata": {
      "tags": []
     },
     "output_type": "execute_result"
    }
   ],
   "source": [
    "X_train.isna().any()"
   ]
  },
  {
   "cell_type": "code",
   "execution_count": 84,
   "metadata": {
    "id": "qn633XNg1433"
   },
   "outputs": [],
   "source": [
    "X_train['discount'].fillna(0, inplace=True)\r\n",
    "X_train['price'].fillna(X_train.original_price*(1-X_train.discount/100), inplace=True)\r\n",
    "X_train['reordered_product'].fillna(0, inplace=True)\r\n",
    "X_train['reordered_category'].fillna(0, inplace=True)\r\n",
    "X_train['coupon'].fillna('No', inplace=True)\r\n",
    "X_train['target'].fillna(0, inplace=True)\r\n",
    "X_train['coupon_in_same_category'].fillna('No', inplace=True)"
   ]
  },
  {
   "cell_type": "code",
   "execution_count": 85,
   "metadata": {
    "id": "revDtQoM9TZM"
   },
   "outputs": [],
   "source": [
    "# Count weeks since last order of that product\r\n",
    "addkey = X_train.groupby(['shopper','product']).target.apply(lambda x : x.eq(1).shift().fillna(0).cumsum())\r\n",
    "X_train['weeks_since_prior_product_order'] = X_train.target.eq(0).groupby([X_train['shopper'], X_train['product'], addkey]).cumcount().add(1) # .cumsum()\r\n",
    "\r\n",
    "# Count weeks since last order of that product\r\n",
    "addkey = X_train.groupby(['shopper','category']).target.apply(lambda x : x.eq(1).shift().fillna(0).cumsum())\r\n",
    "X_train['weeks_since_prior_category_order'] = X_train.target.eq(0).groupby([X_train['shopper'], X_train['category'], addkey]).cumcount().add(1) # .cumsum()"
   ]
  },
  {
   "cell_type": "code",
   "execution_count": 86,
   "metadata": {
    "colab": {
     "base_uri": "https://localhost:8080/",
     "height": 162
    },
    "id": "rza1aULIKYhH",
    "outputId": "37d85d8f-f67a-4eb0-8804-bab5ee99910a"
   },
   "outputs": [
    {
     "data": {
      "text/html": [
       "<div>\n",
       "<style scoped>\n",
       "    .dataframe tbody tr th:only-of-type {\n",
       "        vertical-align: middle;\n",
       "    }\n",
       "\n",
       "    .dataframe tbody tr th {\n",
       "        vertical-align: top;\n",
       "    }\n",
       "\n",
       "    .dataframe thead th {\n",
       "        text-align: right;\n",
       "    }\n",
       "</style>\n",
       "<table border=\"1\" class=\"dataframe\">\n",
       "  <thead>\n",
       "    <tr style=\"text-align: right;\">\n",
       "      <th></th>\n",
       "      <th>week</th>\n",
       "      <th>shopper</th>\n",
       "      <th>product</th>\n",
       "      <th>price</th>\n",
       "      <th>target</th>\n",
       "      <th>category</th>\n",
       "      <th>discount</th>\n",
       "      <th>coupon</th>\n",
       "      <th>original_price</th>\n",
       "      <th>total_count_of_product</th>\n",
       "      <th>reordered_product</th>\n",
       "      <th>category_count</th>\n",
       "      <th>reordered_category</th>\n",
       "      <th>coupon_in_same_category</th>\n",
       "      <th>ratio_of_reordered_products</th>\n",
       "      <th>ratio_of_reordered_categories</th>\n",
       "      <th>average_price_per_shopper</th>\n",
       "      <th>average_basket_size</th>\n",
       "      <th>unique_products_per_shopper</th>\n",
       "      <th>unique_categories_per_shopper</th>\n",
       "      <th>weeks_since_prior_product_order</th>\n",
       "      <th>weeks_since_prior_category_order</th>\n",
       "    </tr>\n",
       "  </thead>\n",
       "  <tbody>\n",
       "    <tr>\n",
       "      <th>0</th>\n",
       "      <td>0</td>\n",
       "      <td>0</td>\n",
       "      <td>0</td>\n",
       "      <td>688.0</td>\n",
       "      <td>0.0</td>\n",
       "      <td>23</td>\n",
       "      <td>0.0</td>\n",
       "      <td>No</td>\n",
       "      <td>688</td>\n",
       "      <td>0</td>\n",
       "      <td>0.0</td>\n",
       "      <td>8</td>\n",
       "      <td>1.0</td>\n",
       "      <td>Yes</td>\n",
       "      <td>0.722222</td>\n",
       "      <td>0.960000</td>\n",
       "      <td>587.203947</td>\n",
       "      <td>8.539326</td>\n",
       "      <td>54</td>\n",
       "      <td>25</td>\n",
       "      <td>1</td>\n",
       "      <td>1</td>\n",
       "    </tr>\n",
       "    <tr>\n",
       "      <th>1</th>\n",
       "      <td>0</td>\n",
       "      <td>1</td>\n",
       "      <td>0</td>\n",
       "      <td>688.0</td>\n",
       "      <td>0.0</td>\n",
       "      <td>23</td>\n",
       "      <td>0.0</td>\n",
       "      <td>No</td>\n",
       "      <td>688</td>\n",
       "      <td>6</td>\n",
       "      <td>1.0</td>\n",
       "      <td>28</td>\n",
       "      <td>1.0</td>\n",
       "      <td>Yes</td>\n",
       "      <td>0.830986</td>\n",
       "      <td>1.000000</td>\n",
       "      <td>584.065350</td>\n",
       "      <td>7.393258</td>\n",
       "      <td>71</td>\n",
       "      <td>24</td>\n",
       "      <td>1</td>\n",
       "      <td>1</td>\n",
       "    </tr>\n",
       "    <tr>\n",
       "      <th>2</th>\n",
       "      <td>0</td>\n",
       "      <td>2</td>\n",
       "      <td>0</td>\n",
       "      <td>688.0</td>\n",
       "      <td>0.0</td>\n",
       "      <td>23</td>\n",
       "      <td>0.0</td>\n",
       "      <td>No</td>\n",
       "      <td>688</td>\n",
       "      <td>0</td>\n",
       "      <td>0.0</td>\n",
       "      <td>53</td>\n",
       "      <td>1.0</td>\n",
       "      <td>No</td>\n",
       "      <td>0.700000</td>\n",
       "      <td>0.954545</td>\n",
       "      <td>571.918919</td>\n",
       "      <td>5.820225</td>\n",
       "      <td>60</td>\n",
       "      <td>22</td>\n",
       "      <td>1</td>\n",
       "      <td>1</td>\n",
       "    </tr>\n",
       "  </tbody>\n",
       "</table>\n",
       "</div>"
      ],
      "text/plain": [
       "   week  ... weeks_since_prior_category_order\n",
       "0     0  ...                                1\n",
       "1     0  ...                                1\n",
       "2     0  ...                                1\n",
       "\n",
       "[3 rows x 22 columns]"
      ]
     },
     "execution_count": 86,
     "metadata": {
      "tags": []
     },
     "output_type": "execute_result"
    }
   ],
   "source": [
    "X_train.head(3)"
   ]
  },
  {
   "cell_type": "code",
   "execution_count": 87,
   "metadata": {
    "id": "HpLTLpYsNK2b"
   },
   "outputs": [],
   "source": [
    "X_train.drop('week', inplace=True, axis=1)\r\n",
    "y_train = X_train.pop('target')"
   ]
  },
  {
   "cell_type": "markdown",
   "metadata": {
    "id": "axqHOE9eFziV"
   },
   "source": [
    "# Set Up Test Table"
   ]
  },
  {
   "cell_type": "code",
   "execution_count": 88,
   "metadata": {
    "id": "FT6UARG-F1M1"
   },
   "outputs": [],
   "source": [
    "full_df_test = (baskets_test\r\n",
    "                .merge(\r\n",
    "                    coupons_test, \r\n",
    "                    on=['week', 'shopper', 'product', 'category'], \r\n",
    "                    how='outer',\r\n",
    "                    indicator=True\r\n",
    "                )\r\n",
    "                .sort_values(by=['week', 'shopper', 'product'])\r\n",
    "                .reset_index(drop=True)\r\n",
    "                .replace(['left_only', 'right_only', 'both'], ['No', 'Yes', 'Yes'])\r\n",
    "                .rename(columns={'_merge': 'coupon'})\r\n",
    ")\r\n",
    "\r\n",
    "full_df_test['discount'].fillna(0, inplace=True)"
   ]
  },
  {
   "cell_type": "code",
   "execution_count": 89,
   "metadata": {
    "id": "0798jjAoGYBX"
   },
   "outputs": [],
   "source": [
    "df1 = pd.DataFrame({'key': np.ones(len(baskets_test.week.unique())), 'week': baskets_test.week.unique()})\r\n",
    "df2 = pd.DataFrame({'key': np.ones(shoppers), 'shopper': list(range(shoppers))})\r\n",
    "df3 = pd.DataFrame({'key': np.ones(250), 'product': list(range(250))})\r\n",
    "\r\n",
    "X_test = (pd\r\n",
    "          .merge(df1, df2, on='key')\r\n",
    "          .merge(df3, on='key')\r\n",
    "          .merge(prods_cat_table, on='product')\r\n",
    "          .merge(full_df_test, on=['week', 'shopper', 'product', 'category'], how='left')[full_df_test.columns]\r\n",
    ")"
   ]
  },
  {
   "cell_type": "code",
   "execution_count": 90,
   "metadata": {
    "id": "8NGu4gbdHRX0"
   },
   "outputs": [],
   "source": [
    "X_test = (X_test\r\n",
    "          .merge(original_price, on=['product'], how='left')\r\n",
    "          .merge(total_count_of_product, on=['shopper', 'product'], how='left')\r\n",
    "          .merge(reordered_product, on=['shopper', 'product'], how='left')\r\n",
    "          #  .merge(ratio_of_reordered_per_product, on=['shopper', 'product'], how='left')\r\n",
    "          .merge(category_count, on=['shopper', 'category'], how='left')\r\n",
    "          .merge(reordered_category, on=['shopper', 'category'], how='left')\r\n",
    "          .merge(coupon_in_same_category, on=['week', 'shopper', 'category'], how='left')\r\n",
    "          .merge(ratio_of_reordered_products_per_shopper, on=['shopper'], how='left')\r\n",
    "          .merge(ratio_of_reordered_categories_per_shopper, on=['shopper'], how='left')\r\n",
    "          .merge(average_price_per_shopper, on=['shopper'], how='left')\r\n",
    "          .merge(average_basket_size, on=['shopper'], how='left')\r\n",
    "          .merge(unique_products_per_shopper, on=['shopper'], how='left')\r\n",
    "          .merge(unique_categories_per_shopper, on=['shopper'], how='left')\r\n",
    ")"
   ]
  },
  {
   "cell_type": "code",
   "execution_count": 91,
   "metadata": {
    "id": "rOrIgnqAHW2E"
   },
   "outputs": [],
   "source": [
    "X_test['discount'].fillna(0, inplace=True)\r\n",
    "X_test['price'].fillna(X_test.original_price*(1-X_test.discount/100), inplace=True)\r\n",
    "X_test['reordered_product'].fillna(0, inplace=True)\r\n",
    "X_test['reordered_category'].fillna(0, inplace=True)\r\n",
    "X_test['coupon'].fillna('No', inplace=True)\r\n",
    "X_test['target'].fillna(0, inplace=True)\r\n",
    "X_test['coupon_in_same_category'].fillna('No', inplace=True)"
   ]
  },
  {
   "cell_type": "code",
   "execution_count": 92,
   "metadata": {
    "id": "gSwbUr6iqM6K"
   },
   "outputs": [],
   "source": [
    "# Take weeks_since_prior_order from last available week in training and add 1\r\n",
    "last_week_since_prior_product_order = X_train.groupby(['shopper', 'product']).weeks_since_prior_product_order.last() + 1\r\n",
    "last_week_since_prior_category_order = X_train.groupby(['shopper', 'category']).weeks_since_prior_category_order.last() + 1\r\n",
    "\r\n",
    "X_test = (X_test\r\n",
    "          .merge(last_week_since_prior_product_order, on=['shopper', 'product'])\r\n",
    "          .merge(last_week_since_prior_category_order, on=['shopper', 'category'])\r\n",
    ")"
   ]
  },
  {
   "cell_type": "code",
   "execution_count": 93,
   "metadata": {
    "id": "esJU5lH5Hfrw"
   },
   "outputs": [],
   "source": [
    "X_test.drop('week', inplace=True, axis=1)\r\n",
    "y_test = X_test.pop('target')"
   ]
  },
  {
   "cell_type": "markdown",
   "metadata": {
    "id": "IpTCdVohNBfe"
   },
   "source": [
    "# One-Hot Encoding Products"
   ]
  },
  {
   "cell_type": "markdown",
   "metadata": {
    "id": "qzQaHDMQJ3ln"
   },
   "source": [
    "LightGBM handles categorical data, so no separata encoding necessary"
   ]
  },
  {
   "cell_type": "code",
   "execution_count": 94,
   "metadata": {
    "id": "YPQYX7XsNFkc"
   },
   "outputs": [],
   "source": [
    "# from sklearn.preprocessing import OneHotEncoder"
   ]
  },
  {
   "cell_type": "code",
   "execution_count": 95,
   "metadata": {
    "id": "JEu6IUrcNYUF"
   },
   "outputs": [],
   "source": [
    "# enc = OneHotEncoder(sparse=False)\r\n",
    "\r\n",
    "# encodings = X_train.select_dtypes(exclude=np.number).columns.tolist()\r\n",
    "# # encoded = pd.DataFrame.sparse.from_spmatrix(enc.fit_transform(X_train[encodings]))\r\n",
    "# encoded = pd.DataFrame(enc.fit_transform(X_train[encodings]))\r\n",
    "# encoded.columns = enc.get_feature_names(encodings)\r\n",
    "\r\n",
    "# X_train = pd.concat([X_train, encoded], axis=1).drop(encodings, axis=1)\r\n",
    "\r\n",
    "# X_train = X_train.apply(pd.to_numeric)\r\n",
    "\r\n",
    "# X_train.head(3)"
   ]
  },
  {
   "cell_type": "markdown",
   "metadata": {
    "id": "YJru_84FBBkL"
   },
   "source": [
    "# Training"
   ]
  },
  {
   "cell_type": "code",
   "execution_count": 96,
   "metadata": {
    "id": "OZzYldzn82cy"
   },
   "outputs": [],
   "source": [
    "import lightgbm as lgb\r\n",
    "from lightgbm.sklearn import LGBMClassifier"
   ]
  },
  {
   "cell_type": "code",
   "execution_count": 113,
   "metadata": {
    "id": "wdA8Ksti88PQ"
   },
   "outputs": [],
   "source": [
    "from collections import Counter\r\n",
    "\r\n",
    "# count examples in each class\r\n",
    "counter = Counter(y_train)\r\n",
    "class_imbalance = counter[0] / counter[1] # parameter to counter class imbalance\r\n",
    "\r\n",
    "lgb_clf = LGBMClassifier(\r\n",
    "    scale_pos_weight=1 # =class_imbalance\r\n",
    "    )"
   ]
  },
  {
   "cell_type": "code",
   "execution_count": 114,
   "metadata": {
    "id": "tSs4AVy4EoNX"
   },
   "outputs": [],
   "source": [
    "categorical = X_train.select_dtypes(exclude=np.number).columns.tolist()\r\n",
    "\r\n",
    "for cats in categorical:\r\n",
    "  X_train[cats] = X_train[cats].astype('category')\r\n",
    "  X_test[cats] = X_test[cats].astype('category')"
   ]
  },
  {
   "cell_type": "code",
   "execution_count": 115,
   "metadata": {
    "colab": {
     "base_uri": "https://localhost:8080/"
    },
    "id": "6JpsBYe96hEK",
    "outputId": "042f6790-289b-4026-f88f-89a892bd2787"
   },
   "outputs": [
    {
     "name": "stderr",
     "output_type": "stream",
     "text": [
      "/usr/local/lib/python3.7/dist-packages/lightgbm/basic.py:1209: UserWarning: categorical_feature in Dataset is overridden.\n",
      "New categorical_feature is ['category', 'coupon', 'coupon_in_same_category', 'product', 'shopper']\n",
      "  'New categorical_feature is {}'.format(sorted(list(categorical_feature))))\n"
     ]
    },
    {
     "data": {
      "text/plain": [
       "LGBMClassifier(boosting_type='gbdt', class_weight=None, colsample_bytree=1.0,\n",
       "               importance_type='split', learning_rate=0.1, max_depth=-1,\n",
       "               min_child_samples=20, min_child_weight=0.001, min_split_gain=0.0,\n",
       "               n_estimators=100, n_jobs=-1, num_leaves=31, objective=None,\n",
       "               random_state=None, reg_alpha=0.0, reg_lambda=0.0,\n",
       "               scale_pos_weight=31.749002811262713, silent=True, subsample=1.0,\n",
       "               subsample_for_bin=200000, subsample_freq=0)"
      ]
     },
     "execution_count": 115,
     "metadata": {
      "tags": []
     },
     "output_type": "execute_result"
    }
   ],
   "source": [
    "lgb_clf.fit(X_train, y_train, categorical_feature=categorical)"
   ]
  },
  {
   "cell_type": "code",
   "execution_count": 116,
   "metadata": {
    "colab": {
     "base_uri": "https://localhost:8080/"
    },
    "id": "ww-I5suLK2ky",
    "outputId": "915097dd-702d-4783-9fb9-9768ba260718"
   },
   "outputs": [
    {
     "data": {
      "text/plain": [
       "0.8696188764044944"
      ]
     },
     "execution_count": 116,
     "metadata": {
      "tags": []
     },
     "output_type": "execute_result"
    }
   ],
   "source": [
    "lgb_clf.score(X_train, y_train)"
   ]
  },
  {
   "cell_type": "code",
   "execution_count": 117,
   "metadata": {
    "colab": {
     "base_uri": "https://localhost:8080/"
    },
    "id": "y8Ed3Njd_rAs",
    "outputId": "4cf2f26a-29ac-47d3-c75c-c38cf08c92fb"
   },
   "outputs": [
    {
     "data": {
      "text/plain": [
       "0.83204"
      ]
     },
     "execution_count": 117,
     "metadata": {
      "tags": []
     },
     "output_type": "execute_result"
    }
   ],
   "source": [
    "lgb_clf.score(X_test, y_test)"
   ]
  },
  {
   "cell_type": "markdown",
   "metadata": {
    "id": "8gNl_D1m_MGG"
   },
   "source": [
    "## Evaluation"
   ]
  },
  {
   "cell_type": "code",
   "execution_count": 118,
   "metadata": {
    "colab": {
     "base_uri": "https://localhost:8080/",
     "height": 312
    },
    "id": "r73rkPIYFn1I",
    "outputId": "fbd2001e-c0b0-4440-c787-f9603f6fbebc",
    "tags": []
   },
   "outputs": [
    {
     "data": {
      "text/plain": [
       "<matplotlib.axes._subplots.AxesSubplot at 0x7fe6fcd8ff10>"
      ]
     },
     "execution_count": 118,
     "metadata": {
      "tags": []
     },
     "output_type": "execute_result"
    },
    {
     "data": {
      "image/png": "[encoded data removed]",
      "text/plain": [
       "<Figure size 432x288 with 1 Axes>"
      ]
     },
     "metadata": {
      "needs_background": "light",
      "tags": []
     },
     "output_type": "display_data"
    }
   ],
   "source": [
    "lgb.plot_importance(lgb_clf, max_num_features=10)"
   ]
  },
  {
   "cell_type": "code",
   "execution_count": 119,
   "metadata": {
    "colab": {
     "base_uri": "https://localhost:8080/",
     "height": 312
    },
    "id": "FYfDwpA4JLeQ",
    "outputId": "2d696989-7c12-4210-88f9-1f8798a905cb"
   },
   "outputs": [
    {
     "data": {
      "text/plain": [
       "<matplotlib.axes._subplots.AxesSubplot at 0x7fe6fcf7f750>"
      ]
     },
     "execution_count": 119,
     "metadata": {
      "tags": []
     },
     "output_type": "execute_result"
    },
    {
     "data": {
      "image/png": "[encoded data removed]",
      "text/plain": [
       "<Figure size 432x288 with 1 Axes>"
      ]
     },
     "metadata": {
      "needs_background": "light",
      "tags": []
     },
     "output_type": "display_data"
    }
   ],
   "source": [
    "lgb.plot_importance(lgb_clf, max_num_features=10, importance_type='gain')"
   ]
  },
  {
   "cell_type": "code",
   "execution_count": 120,
   "metadata": {
    "colab": {
     "base_uri": "https://localhost:8080/",
     "height": 296
    },
    "id": "3OJJnMzMLY_w",
    "outputId": "ce7ce5f0-1e76-4c66-f1d0-29e011420bbc"
   },
   "outputs": [
    {
     "data": {
      "text/plain": [
       "<sklearn.metrics._plot.roc_curve.RocCurveDisplay at 0x7fe6fe7c2890>"
      ]
     },
     "execution_count": 120,
     "metadata": {
      "tags": []
     },
     "output_type": "execute_result"
    },
    {
     "data": {
      "image/png": "[encoded data removed]",
      "text/plain": [
       "<Figure size 432x288 with 1 Axes>"
      ]
     },
     "metadata": {
      "needs_background": "light",
      "tags": []
     },
     "output_type": "display_data"
    }
   ],
   "source": [
    "from sklearn.metrics import plot_roc_curve\r\n",
    "plot_roc_curve(estimator=lgb_clf, X=X_test, y=y_test)"
   ]
  },
  {
   "cell_type": "code",
   "execution_count": 121,
   "metadata": {
    "colab": {
     "base_uri": "https://localhost:8080/",
     "height": 296
    },
    "id": "wDJ2A_hGVtlu",
    "outputId": "3df108dd-76ae-49d7-9247-163d73c0cd0a"
   },
   "outputs": [
    {
     "data": {
      "text/plain": [
       "<sklearn.metrics._plot.confusion_matrix.ConfusionMatrixDisplay at 0x7fe6fcfba9d0>"
      ]
     },
     "execution_count": 121,
     "metadata": {
      "tags": []
     },
     "output_type": "execute_result"
    },
    {
     "data": {
      "image/png": "[encoded data removed]",
      "text/plain": [
       "<Figure size 432x288 with 2 Axes>"
      ]
     },
     "metadata": {
      "needs_background": "light",
      "tags": []
     },
     "output_type": "display_data"
    }
   ],
   "source": [
    "from sklearn.metrics import plot_confusion_matrix\r\n",
    "from sklearn.metrics import confusion_matrix\r\n",
    "\r\n",
    "y_pred = lgb_clf.predict(X_test)\r\n",
    "confusion = confusion_matrix(y_test, y_pred)\r\n",
    "plot_confusion_matrix(estimator=lgb_clf, X=X_test, y_true=y_test, display_labels=['No', 'Yes'], normalize='true')"
   ]
  },
  {
   "cell_type": "code",
   "execution_count": 122,
   "metadata": {
    "colab": {
     "base_uri": "https://localhost:8080/"
    },
    "id": "cYUx-LeHWd2O",
    "outputId": "05d21181-1780-40c8-cf82-50d899a1908c"
   },
   "outputs": [
    {
     "data": {
      "text/plain": [
       "array([[20129,  4152],\n",
       "       [   47,   672]])"
      ]
     },
     "execution_count": 122,
     "metadata": {
      "tags": []
     },
     "output_type": "execute_result"
    }
   ],
   "source": [
    "confusion"
   ]
  },
  {
   "cell_type": "code",
   "execution_count": 123,
   "metadata": {
    "id": "XkJPcocOYQSs"
   },
   "outputs": [],
   "source": [
    "FP = confusion[0][1]\r\n",
    "FN = confusion[1][0]\r\n",
    "TP = confusion[1][1]\r\n",
    "TN = confusion[0][0]\r\n",
    "\r\n",
    "# Sensitivity, hit rate, recall, or true positive rate\r\n",
    "TPR = TP/(TP+FN)\r\n",
    "# Specificity or true negative rate\r\n",
    "TNR = TN/(TN+FP) \r\n",
    "# Negative predictive value\r\n",
    "NPV = TN/(TN+FN)\r\n",
    "# Fall out or false positive rate\r\n",
    "FPR = FP/(FP+TN)\r\n",
    "# False negative rate\r\n",
    "FNR = FN/(TP+FN)\r\n",
    "# Precision\r\n",
    "PPV = TP/(TP+FP)\r\n",
    "# False discovery rate -> 1-Precision\r\n",
    "FDR = FP/(TP+FP)\r\n",
    "\r\n",
    "# Overall accuracy\r\n",
    "ACC = (TP+TN)/(TP+FP+FN+TN)"
   ]
  },
  {
   "cell_type": "code",
   "execution_count": 124,
   "metadata": {
    "colab": {
     "base_uri": "https://localhost:8080/"
    },
    "id": "gQhj4F3vZ8XE",
    "outputId": "cb24697b-10fa-4b82-8b0f-d3faa607dfe5"
   },
   "outputs": [
    {
     "name": "stdout",
     "output_type": "stream",
     "text": [
      "Precision: 0.1393\n",
      "Recall (TPR): 0.9346\n",
      "TNR: 0.8290\n",
      "FPR: 0.1710\n",
      "FNR: 0.0654\n"
     ]
    }
   ],
   "source": [
    "print(f'Precision: {PPV:.4f}')\r\n",
    "print(f'Recall (TPR): {TPR:.4f}')\r\n",
    "print(f'TNR: {TNR:.4f}')\r\n",
    "print(f'FPR: {FPR:.4f}')\r\n",
    "print(f'FNR: {FNR:.4f}')"
   ]
  },
  {
   "cell_type": "markdown",
   "metadata": {
    "id": "6wfrfIg6_PBa"
   },
   "source": [
    "## evaluating specific examples"
   ]
  },
  {
   "cell_type": "code",
   "execution_count": 109,
   "metadata": {
    "colab": {
     "base_uri": "https://localhost:8080/",
     "height": 419
    },
    "id": "m4ELOXB_3H0B",
    "outputId": "30ccc47c-fa2c-4df5-86e1-83abd7e85e69"
   },
   "outputs": [
    {
     "data": {
      "text/html": [
       "<div>\n",
       "<style scoped>\n",
       "    .dataframe tbody tr th:only-of-type {\n",
       "        vertical-align: middle;\n",
       "    }\n",
       "\n",
       "    .dataframe tbody tr th {\n",
       "        vertical-align: top;\n",
       "    }\n",
       "\n",
       "    .dataframe thead th {\n",
       "        text-align: right;\n",
       "    }\n",
       "</style>\n",
       "<table border=\"1\" class=\"dataframe\">\n",
       "  <thead>\n",
       "    <tr style=\"text-align: right;\">\n",
       "      <th></th>\n",
       "      <th>0</th>\n",
       "      <th>1</th>\n",
       "    </tr>\n",
       "  </thead>\n",
       "  <tbody>\n",
       "    <tr>\n",
       "      <th>0</th>\n",
       "      <td>0.999998</td>\n",
       "      <td>0.000002</td>\n",
       "    </tr>\n",
       "    <tr>\n",
       "      <th>1</th>\n",
       "      <td>0.999998</td>\n",
       "      <td>0.000002</td>\n",
       "    </tr>\n",
       "    <tr>\n",
       "      <th>2</th>\n",
       "      <td>0.999998</td>\n",
       "      <td>0.000002</td>\n",
       "    </tr>\n",
       "    <tr>\n",
       "      <th>3</th>\n",
       "      <td>0.999998</td>\n",
       "      <td>0.000002</td>\n",
       "    </tr>\n",
       "    <tr>\n",
       "      <th>4</th>\n",
       "      <td>0.896305</td>\n",
       "      <td>0.103695</td>\n",
       "    </tr>\n",
       "    <tr>\n",
       "      <th>...</th>\n",
       "      <td>...</td>\n",
       "      <td>...</td>\n",
       "    </tr>\n",
       "    <tr>\n",
       "      <th>24995</th>\n",
       "      <td>0.999998</td>\n",
       "      <td>0.000002</td>\n",
       "    </tr>\n",
       "    <tr>\n",
       "      <th>24996</th>\n",
       "      <td>0.506862</td>\n",
       "      <td>0.493138</td>\n",
       "    </tr>\n",
       "    <tr>\n",
       "      <th>24997</th>\n",
       "      <td>0.999998</td>\n",
       "      <td>0.000002</td>\n",
       "    </tr>\n",
       "    <tr>\n",
       "      <th>24998</th>\n",
       "      <td>0.999998</td>\n",
       "      <td>0.000002</td>\n",
       "    </tr>\n",
       "    <tr>\n",
       "      <th>24999</th>\n",
       "      <td>0.999998</td>\n",
       "      <td>0.000002</td>\n",
       "    </tr>\n",
       "  </tbody>\n",
       "</table>\n",
       "<p>25000 rows × 2 columns</p>\n",
       "</div>"
      ],
      "text/plain": [
       "              0         1\n",
       "0      0.999998  0.000002\n",
       "1      0.999998  0.000002\n",
       "2      0.999998  0.000002\n",
       "3      0.999998  0.000002\n",
       "4      0.896305  0.103695\n",
       "...         ...       ...\n",
       "24995  0.999998  0.000002\n",
       "24996  0.506862  0.493138\n",
       "24997  0.999998  0.000002\n",
       "24998  0.999998  0.000002\n",
       "24999  0.999998  0.000002\n",
       "\n",
       "[25000 rows x 2 columns]"
      ]
     },
     "execution_count": 109,
     "metadata": {
      "tags": []
     },
     "output_type": "execute_result"
    }
   ],
   "source": [
    "pd.DataFrame(lgb_clf.predict_proba(X_test))"
   ]
  },
  {
   "cell_type": "code",
   "execution_count": 125,
   "metadata": {
    "id": "1pL4w-bH3tom"
   },
   "outputs": [],
   "source": [
    "pred_frame = pd.concat((X_test, y_test, pd.DataFrame(lgb_clf.predict_proba(X_test))[1]), axis=1)[['shopper', 'product', 'target', 'weeks_since_prior_product_order', 1]]"
   ]
  },
  {
   "cell_type": "code",
   "execution_count": 126,
   "metadata": {
    "colab": {
     "base_uri": "https://localhost:8080/",
     "height": 359
    },
    "id": "2-O21JfT4NBI",
    "outputId": "2bb3454f-2030-4e24-df49-f339e60d6220"
   },
   "outputs": [
    {
     "data": {
      "text/html": [
       "<div>\n",
       "<style scoped>\n",
       "    .dataframe tbody tr th:only-of-type {\n",
       "        vertical-align: middle;\n",
       "    }\n",
       "\n",
       "    .dataframe tbody tr th {\n",
       "        vertical-align: top;\n",
       "    }\n",
       "\n",
       "    .dataframe thead th {\n",
       "        text-align: right;\n",
       "    }\n",
       "</style>\n",
       "<table border=\"1\" class=\"dataframe\">\n",
       "  <thead>\n",
       "    <tr style=\"text-align: right;\">\n",
       "      <th></th>\n",
       "      <th>shopper</th>\n",
       "      <th>product</th>\n",
       "      <th>target</th>\n",
       "      <th>weeks_since_prior_product_order</th>\n",
       "      <th>1</th>\n",
       "    </tr>\n",
       "  </thead>\n",
       "  <tbody>\n",
       "    <tr>\n",
       "      <th>24990</th>\n",
       "      <td>99</td>\n",
       "      <td>240</td>\n",
       "      <td>0.0</td>\n",
       "      <td>90</td>\n",
       "      <td>0.000028</td>\n",
       "    </tr>\n",
       "    <tr>\n",
       "      <th>24991</th>\n",
       "      <td>99</td>\n",
       "      <td>241</td>\n",
       "      <td>0.0</td>\n",
       "      <td>90</td>\n",
       "      <td>0.000024</td>\n",
       "    </tr>\n",
       "    <tr>\n",
       "      <th>24992</th>\n",
       "      <td>99</td>\n",
       "      <td>242</td>\n",
       "      <td>0.0</td>\n",
       "      <td>44</td>\n",
       "      <td>0.519327</td>\n",
       "    </tr>\n",
       "    <tr>\n",
       "      <th>24993</th>\n",
       "      <td>99</td>\n",
       "      <td>243</td>\n",
       "      <td>0.0</td>\n",
       "      <td>90</td>\n",
       "      <td>0.000035</td>\n",
       "    </tr>\n",
       "    <tr>\n",
       "      <th>24994</th>\n",
       "      <td>99</td>\n",
       "      <td>244</td>\n",
       "      <td>0.0</td>\n",
       "      <td>90</td>\n",
       "      <td>0.000022</td>\n",
       "    </tr>\n",
       "    <tr>\n",
       "      <th>24995</th>\n",
       "      <td>99</td>\n",
       "      <td>245</td>\n",
       "      <td>0.0</td>\n",
       "      <td>90</td>\n",
       "      <td>0.000022</td>\n",
       "    </tr>\n",
       "    <tr>\n",
       "      <th>24996</th>\n",
       "      <td>99</td>\n",
       "      <td>246</td>\n",
       "      <td>1.0</td>\n",
       "      <td>12</td>\n",
       "      <td>0.962962</td>\n",
       "    </tr>\n",
       "    <tr>\n",
       "      <th>24997</th>\n",
       "      <td>99</td>\n",
       "      <td>247</td>\n",
       "      <td>0.0</td>\n",
       "      <td>90</td>\n",
       "      <td>0.000026</td>\n",
       "    </tr>\n",
       "    <tr>\n",
       "      <th>24998</th>\n",
       "      <td>99</td>\n",
       "      <td>248</td>\n",
       "      <td>0.0</td>\n",
       "      <td>90</td>\n",
       "      <td>0.000034</td>\n",
       "    </tr>\n",
       "    <tr>\n",
       "      <th>24999</th>\n",
       "      <td>99</td>\n",
       "      <td>249</td>\n",
       "      <td>0.0</td>\n",
       "      <td>90</td>\n",
       "      <td>0.000027</td>\n",
       "    </tr>\n",
       "  </tbody>\n",
       "</table>\n",
       "</div>"
      ],
      "text/plain": [
       "      shopper product  target  weeks_since_prior_product_order         1\n",
       "24990      99     240     0.0                               90  0.000028\n",
       "24991      99     241     0.0                               90  0.000024\n",
       "24992      99     242     0.0                               44  0.519327\n",
       "24993      99     243     0.0                               90  0.000035\n",
       "24994      99     244     0.0                               90  0.000022\n",
       "24995      99     245     0.0                               90  0.000022\n",
       "24996      99     246     1.0                               12  0.962962\n",
       "24997      99     247     0.0                               90  0.000026\n",
       "24998      99     248     0.0                               90  0.000034\n",
       "24999      99     249     0.0                               90  0.000027"
      ]
     },
     "execution_count": 126,
     "metadata": {
      "tags": []
     },
     "output_type": "execute_result"
    }
   ],
   "source": [
    "pred_frame.tail(10)"
   ]
  },
  {
   "cell_type": "code",
   "execution_count": 127,
   "metadata": {
    "colab": {
     "base_uri": "https://localhost:8080/",
     "height": 80
    },
    "id": "TIEHqpCI5TwW",
    "outputId": "05cfe4e9-4ba2-453b-8733-ca1dc711b79f"
   },
   "outputs": [
    {
     "data": {
      "text/html": [
       "<div>\n",
       "<style scoped>\n",
       "    .dataframe tbody tr th:only-of-type {\n",
       "        vertical-align: middle;\n",
       "    }\n",
       "\n",
       "    .dataframe tbody tr th {\n",
       "        vertical-align: top;\n",
       "    }\n",
       "\n",
       "    .dataframe thead th {\n",
       "        text-align: right;\n",
       "    }\n",
       "</style>\n",
       "<table border=\"1\" class=\"dataframe\">\n",
       "  <thead>\n",
       "    <tr style=\"text-align: right;\">\n",
       "      <th></th>\n",
       "      <th>shopper</th>\n",
       "      <th>product</th>\n",
       "      <th>target</th>\n",
       "      <th>weeks_since_prior_product_order</th>\n",
       "      <th>1</th>\n",
       "    </tr>\n",
       "  </thead>\n",
       "  <tbody>\n",
       "    <tr>\n",
       "      <th>4</th>\n",
       "      <td>0</td>\n",
       "      <td>4</td>\n",
       "      <td>0.0</td>\n",
       "      <td>19</td>\n",
       "      <td>0.759463</td>\n",
       "    </tr>\n",
       "  </tbody>\n",
       "</table>\n",
       "</div>"
      ],
      "text/plain": [
       "  shopper product  target  weeks_since_prior_product_order         1\n",
       "4       0       4     0.0                               19  0.759463"
      ]
     },
     "execution_count": 127,
     "metadata": {
      "tags": []
     },
     "output_type": "execute_result"
    }
   ],
   "source": [
    "pred_frame.loc[(pred_frame['shopper']==0) & (pred_frame['product']==4)]"
   ]
  },
  {
   "cell_type": "code",
   "execution_count": 127,
   "metadata": {
    "id": "wOMAyaTTNKIz"
   },
   "outputs": [],
   "source": []
  },
  {
   "cell_type": "code",
   "execution_count": 128,
   "metadata": {
    "colab": {
     "base_uri": "https://localhost:8080/",
     "height": 439
    },
    "id": "KlhSf6rl5iUK",
    "outputId": "d8f747ec-a424-4d0a-cf4a-f0539ad1c50c"
   },
   "outputs": [
    {
     "data": {
      "text/html": [
       "<div>\n",
       "<style scoped>\n",
       "    .dataframe tbody tr th:only-of-type {\n",
       "        vertical-align: middle;\n",
       "    }\n",
       "\n",
       "    .dataframe tbody tr th {\n",
       "        vertical-align: top;\n",
       "    }\n",
       "\n",
       "    .dataframe thead th {\n",
       "        text-align: right;\n",
       "    }\n",
       "</style>\n",
       "<table border=\"1\" class=\"dataframe\">\n",
       "  <thead>\n",
       "    <tr style=\"text-align: right;\">\n",
       "      <th></th>\n",
       "      <th>shopper</th>\n",
       "      <th>product</th>\n",
       "      <th>price</th>\n",
       "      <th>category</th>\n",
       "      <th>discount</th>\n",
       "      <th>coupon</th>\n",
       "      <th>original_price</th>\n",
       "      <th>total_count_of_product</th>\n",
       "      <th>reordered_product</th>\n",
       "      <th>category_count</th>\n",
       "      <th>reordered_category</th>\n",
       "      <th>coupon_in_same_category</th>\n",
       "      <th>ratio_of_reordered_products</th>\n",
       "      <th>ratio_of_reordered_categories</th>\n",
       "      <th>average_price_per_shopper</th>\n",
       "      <th>average_basket_size</th>\n",
       "      <th>unique_products_per_shopper</th>\n",
       "      <th>unique_categories_per_shopper</th>\n",
       "      <th>weeks_since_prior_product_order</th>\n",
       "      <th>weeks_since_prior_category_order</th>\n",
       "    </tr>\n",
       "  </thead>\n",
       "  <tbody>\n",
       "    <tr>\n",
       "      <th>62300</th>\n",
       "      <td>0</td>\n",
       "      <td>7</td>\n",
       "      <td>772.0</td>\n",
       "      <td>23</td>\n",
       "      <td>0.0</td>\n",
       "      <td>No</td>\n",
       "      <td>772</td>\n",
       "      <td>0</td>\n",
       "      <td>0.0</td>\n",
       "      <td>8</td>\n",
       "      <td>1.0</td>\n",
       "      <td>Yes</td>\n",
       "      <td>0.722222</td>\n",
       "      <td>0.96</td>\n",
       "      <td>587.203947</td>\n",
       "      <td>8.539326</td>\n",
       "      <td>54</td>\n",
       "      <td>25</td>\n",
       "      <td>1</td>\n",
       "      <td>197</td>\n",
       "    </tr>\n",
       "    <tr>\n",
       "      <th>62400</th>\n",
       "      <td>0</td>\n",
       "      <td>7</td>\n",
       "      <td>772.0</td>\n",
       "      <td>23</td>\n",
       "      <td>0.0</td>\n",
       "      <td>No</td>\n",
       "      <td>772</td>\n",
       "      <td>0</td>\n",
       "      <td>0.0</td>\n",
       "      <td>8</td>\n",
       "      <td>1.0</td>\n",
       "      <td>Yes</td>\n",
       "      <td>0.722222</td>\n",
       "      <td>0.96</td>\n",
       "      <td>587.203947</td>\n",
       "      <td>8.539326</td>\n",
       "      <td>54</td>\n",
       "      <td>25</td>\n",
       "      <td>2</td>\n",
       "      <td>198</td>\n",
       "    </tr>\n",
       "    <tr>\n",
       "      <th>62500</th>\n",
       "      <td>0</td>\n",
       "      <td>7</td>\n",
       "      <td>540.4</td>\n",
       "      <td>23</td>\n",
       "      <td>30.0</td>\n",
       "      <td>Yes</td>\n",
       "      <td>772</td>\n",
       "      <td>0</td>\n",
       "      <td>0.0</td>\n",
       "      <td>8</td>\n",
       "      <td>1.0</td>\n",
       "      <td>Yes</td>\n",
       "      <td>0.722222</td>\n",
       "      <td>0.96</td>\n",
       "      <td>587.203947</td>\n",
       "      <td>8.539326</td>\n",
       "      <td>54</td>\n",
       "      <td>25</td>\n",
       "      <td>3</td>\n",
       "      <td>199</td>\n",
       "    </tr>\n",
       "    <tr>\n",
       "      <th>62600</th>\n",
       "      <td>0</td>\n",
       "      <td>7</td>\n",
       "      <td>772.0</td>\n",
       "      <td>23</td>\n",
       "      <td>0.0</td>\n",
       "      <td>No</td>\n",
       "      <td>772</td>\n",
       "      <td>0</td>\n",
       "      <td>0.0</td>\n",
       "      <td>8</td>\n",
       "      <td>1.0</td>\n",
       "      <td>No</td>\n",
       "      <td>0.722222</td>\n",
       "      <td>0.96</td>\n",
       "      <td>587.203947</td>\n",
       "      <td>8.539326</td>\n",
       "      <td>54</td>\n",
       "      <td>25</td>\n",
       "      <td>4</td>\n",
       "      <td>200</td>\n",
       "    </tr>\n",
       "    <tr>\n",
       "      <th>62700</th>\n",
       "      <td>0</td>\n",
       "      <td>7</td>\n",
       "      <td>772.0</td>\n",
       "      <td>23</td>\n",
       "      <td>0.0</td>\n",
       "      <td>No</td>\n",
       "      <td>772</td>\n",
       "      <td>0</td>\n",
       "      <td>0.0</td>\n",
       "      <td>8</td>\n",
       "      <td>1.0</td>\n",
       "      <td>No</td>\n",
       "      <td>0.722222</td>\n",
       "      <td>0.96</td>\n",
       "      <td>587.203947</td>\n",
       "      <td>8.539326</td>\n",
       "      <td>54</td>\n",
       "      <td>25</td>\n",
       "      <td>5</td>\n",
       "      <td>201</td>\n",
       "    </tr>\n",
       "    <tr>\n",
       "      <th>...</th>\n",
       "      <td>...</td>\n",
       "      <td>...</td>\n",
       "      <td>...</td>\n",
       "      <td>...</td>\n",
       "      <td>...</td>\n",
       "      <td>...</td>\n",
       "      <td>...</td>\n",
       "      <td>...</td>\n",
       "      <td>...</td>\n",
       "      <td>...</td>\n",
       "      <td>...</td>\n",
       "      <td>...</td>\n",
       "      <td>...</td>\n",
       "      <td>...</td>\n",
       "      <td>...</td>\n",
       "      <td>...</td>\n",
       "      <td>...</td>\n",
       "      <td>...</td>\n",
       "      <td>...</td>\n",
       "      <td>...</td>\n",
       "    </tr>\n",
       "    <tr>\n",
       "      <th>70700</th>\n",
       "      <td>0</td>\n",
       "      <td>7</td>\n",
       "      <td>772.0</td>\n",
       "      <td>23</td>\n",
       "      <td>0.0</td>\n",
       "      <td>No</td>\n",
       "      <td>772</td>\n",
       "      <td>0</td>\n",
       "      <td>0.0</td>\n",
       "      <td>8</td>\n",
       "      <td>1.0</td>\n",
       "      <td>No</td>\n",
       "      <td>0.722222</td>\n",
       "      <td>0.96</td>\n",
       "      <td>587.203947</td>\n",
       "      <td>8.539326</td>\n",
       "      <td>54</td>\n",
       "      <td>25</td>\n",
       "      <td>85</td>\n",
       "      <td>281</td>\n",
       "    </tr>\n",
       "    <tr>\n",
       "      <th>70800</th>\n",
       "      <td>0</td>\n",
       "      <td>7</td>\n",
       "      <td>772.0</td>\n",
       "      <td>23</td>\n",
       "      <td>0.0</td>\n",
       "      <td>No</td>\n",
       "      <td>772</td>\n",
       "      <td>0</td>\n",
       "      <td>0.0</td>\n",
       "      <td>8</td>\n",
       "      <td>1.0</td>\n",
       "      <td>No</td>\n",
       "      <td>0.722222</td>\n",
       "      <td>0.96</td>\n",
       "      <td>587.203947</td>\n",
       "      <td>8.539326</td>\n",
       "      <td>54</td>\n",
       "      <td>25</td>\n",
       "      <td>86</td>\n",
       "      <td>282</td>\n",
       "    </tr>\n",
       "    <tr>\n",
       "      <th>70900</th>\n",
       "      <td>0</td>\n",
       "      <td>7</td>\n",
       "      <td>772.0</td>\n",
       "      <td>23</td>\n",
       "      <td>0.0</td>\n",
       "      <td>No</td>\n",
       "      <td>772</td>\n",
       "      <td>0</td>\n",
       "      <td>0.0</td>\n",
       "      <td>8</td>\n",
       "      <td>1.0</td>\n",
       "      <td>No</td>\n",
       "      <td>0.722222</td>\n",
       "      <td>0.96</td>\n",
       "      <td>587.203947</td>\n",
       "      <td>8.539326</td>\n",
       "      <td>54</td>\n",
       "      <td>25</td>\n",
       "      <td>87</td>\n",
       "      <td>283</td>\n",
       "    </tr>\n",
       "    <tr>\n",
       "      <th>71000</th>\n",
       "      <td>0</td>\n",
       "      <td>7</td>\n",
       "      <td>772.0</td>\n",
       "      <td>23</td>\n",
       "      <td>0.0</td>\n",
       "      <td>No</td>\n",
       "      <td>772</td>\n",
       "      <td>0</td>\n",
       "      <td>0.0</td>\n",
       "      <td>8</td>\n",
       "      <td>1.0</td>\n",
       "      <td>Yes</td>\n",
       "      <td>0.722222</td>\n",
       "      <td>0.96</td>\n",
       "      <td>587.203947</td>\n",
       "      <td>8.539326</td>\n",
       "      <td>54</td>\n",
       "      <td>25</td>\n",
       "      <td>88</td>\n",
       "      <td>284</td>\n",
       "    </tr>\n",
       "    <tr>\n",
       "      <th>71100</th>\n",
       "      <td>0</td>\n",
       "      <td>7</td>\n",
       "      <td>772.0</td>\n",
       "      <td>23</td>\n",
       "      <td>0.0</td>\n",
       "      <td>No</td>\n",
       "      <td>772</td>\n",
       "      <td>0</td>\n",
       "      <td>0.0</td>\n",
       "      <td>8</td>\n",
       "      <td>1.0</td>\n",
       "      <td>Yes</td>\n",
       "      <td>0.722222</td>\n",
       "      <td>0.96</td>\n",
       "      <td>587.203947</td>\n",
       "      <td>8.539326</td>\n",
       "      <td>54</td>\n",
       "      <td>25</td>\n",
       "      <td>89</td>\n",
       "      <td>285</td>\n",
       "    </tr>\n",
       "  </tbody>\n",
       "</table>\n",
       "<p>89 rows × 20 columns</p>\n",
       "</div>"
      ],
      "text/plain": [
       "      shopper  ... weeks_since_prior_category_order\n",
       "62300       0  ...                              197\n",
       "62400       0  ...                              198\n",
       "62500       0  ...                              199\n",
       "62600       0  ...                              200\n",
       "62700       0  ...                              201\n",
       "...       ...  ...                              ...\n",
       "70700       0  ...                              281\n",
       "70800       0  ...                              282\n",
       "70900       0  ...                              283\n",
       "71000       0  ...                              284\n",
       "71100       0  ...                              285\n",
       "\n",
       "[89 rows x 20 columns]"
      ]
     },
     "execution_count": 128,
     "metadata": {
      "tags": []
     },
     "output_type": "execute_result"
    }
   ],
   "source": [
    "X_train.loc[\r\n",
    "            (X_train['shopper']==0) \r\n",
    "            & (X_train['product']==7)\r\n",
    "]"
   ]
  },
  {
   "cell_type": "code",
   "execution_count": null,
   "metadata": {
    "id": "ddIF5g-D_Soy"
   },
   "outputs": [],
   "source": [
    "# from sklearn.inspection import plot_partial_dependence\r\n",
    "\r\n",
    "# plot_partial_dependence(estimator=lgb_clf, X=X_test, features=['weeks_since_prior_order', 'discount']) -> only works with sklearn 0.24, so not working for google colab "
   ]
  },
  {
   "cell_type": "markdown",
   "metadata": {
    "id": "B73KLlk4HqzH"
   },
   "source": [
    "# Hypertuning"
   ]
  },
  {
   "cell_type": "code",
   "execution_count": null,
   "metadata": {
    "id": "-jgr3_1ZhtG4"
   },
   "outputs": [],
   "source": [
    "# !sudo apt-get install build-essential swig\r\n",
    "# !pip install auto-sklearn==0.12"
   ]
  },
  {
   "cell_type": "markdown",
   "metadata": {
    "id": "2zn1fvAQ2squ"
   },
   "source": [
    "## AutoML"
   ]
  },
  {
   "cell_type": "code",
   "execution_count": null,
   "metadata": {
    "id": "hZbRfBoHhTFA"
   },
   "outputs": [],
   "source": [
    "# import autosklearn.classification"
   ]
  },
  {
   "cell_type": "code",
   "execution_count": null,
   "metadata": {
    "id": "aaBUAgkYk6nv"
   },
   "outputs": [],
   "source": [
    "# from autosklearn.experimental.askl2 import AutoSklearn2Classifier"
   ]
  },
  {
   "cell_type": "code",
   "execution_count": null,
   "metadata": {
    "id": "OOhqp1c3lmGH"
   },
   "outputs": [],
   "source": [
    "# automl = AutoSklearn2Classifier(n_jobs=-1)\r\n",
    "# automl.fit(X_train, y_train)"
   ]
  },
  {
   "cell_type": "code",
   "execution_count": null,
   "metadata": {
    "id": "R8i5rb0_mAdm"
   },
   "outputs": [],
   "source": [
    "# y_hat = automl.predict_proba(X_test)"
   ]
  },
  {
   "cell_type": "code",
   "execution_count": 73,
   "metadata": {
    "id": "0aBqhf4L5g7z"
   },
   "outputs": [],
   "source": [
    "# pred = [1 if prediction[1]>0.5 else 0 for prediction in y_hat ] "
   ]
  },
  {
   "cell_type": "code",
   "execution_count": 74,
   "metadata": {
    "id": "_wOGrjdb2yRI"
   },
   "outputs": [],
   "source": [
    "# auto_confusion = confusion_matrix(y_test, pred) "
   ]
  },
  {
   "cell_type": "code",
   "execution_count": 75,
   "metadata": {
    "id": "LFg6F09w3FTt"
   },
   "outputs": [],
   "source": [
    "# auto_confusion"
   ]
  },
  {
   "cell_type": "code",
   "execution_count": 76,
   "metadata": {
    "id": "ZucObjt33LIG"
   },
   "outputs": [],
   "source": [
    "# FP = auto_confusion[0][1]\r\n",
    "# FN = auto_confusion[1][0]\r\n",
    "# TP = auto_confusion[1][1]\r\n",
    "# TN = auto_confusion[0][0]\r\n",
    "\r\n",
    "# # Sensitivity, hit rate, recall, or true positive rate\r\n",
    "# TPR = TP/(TP+FN)\r\n",
    "# # Specificity or true negative rate\r\n",
    "# TNR = TN/(TN+FP) \r\n",
    "# # Negative predictive value\r\n",
    "# NPV = TN/(TN+FN)\r\n",
    "# # Fall out or false positive rate\r\n",
    "# FPR = FP/(FP+TN)\r\n",
    "# # False negative rate\r\n",
    "# FNR = FN/(TP+FN)\r\n",
    "# # Precision\r\n",
    "# PPV = TP/(TP+FP)\r\n",
    "# # False discovery rate -> 1-Precision\r\n",
    "# FDR = FP/(TP+FP)\r\n",
    "\r\n",
    "# # Overall accuracy\r\n",
    "# ACC = (TP+TN)/(TP+FP+FN+TN)\r\n",
    "\r\n",
    "# print(f'TPR: {TPR:.4f}')\r\n",
    "# print(f'TNR: {TNR:.4f}')\r\n",
    "# print(f'FPR: {FPR:.4f}')\r\n",
    "# print(f'FNR: {FNR:.4f}')\r\n",
    "# print(f'Precision: {PPV:.4f}')\r\n",
    "# print(f'False discovery rate: {FDR:.4f}')"
   ]
  },
  {
   "cell_type": "code",
   "execution_count": 77,
   "metadata": {
    "id": "k97OjISqHodq"
   },
   "outputs": [],
   "source": [
    "# !pip install --quiet optuna\r\n",
    "\r\n",
    "# import optuna"
   ]
  },
  {
   "cell_type": "code",
   "execution_count": 78,
   "metadata": {
    "id": "qmr2wzUgHvNU"
   },
   "outputs": [],
   "source": [
    "# clf = LGBMClassifier()\r\n",
    "\r\n",
    "# param_distributions = {\r\n",
    "#     'n_estimators': optuna.distributions.IntUniformDistribution(10, 500),\r\n",
    "#     'num_leaves': optuna.distributions.IntUniformDistribution(2, 50),\r\n",
    "#     'min_data_in_leaf': optuna.distributions.IntUniformDistribution(100, 400),\r\n",
    "#     'feature_fraction': optuna.distributions.LogUniformDistribution(0.5, 1),\r\n",
    "# #     'max_depth': optuna.distributions.IntUniformDistribution(-1, 200),\r\n",
    "#     'subsample': optuna.distributions.LogUniformDistribution(0.5, 1),\r\n",
    "# }\r\n",
    "\r\n",
    "# optuna_search = optuna.integration.OptunaSearchCV(\r\n",
    "#     estimator=clf, \r\n",
    "#     param_distributions=param_distributions, \r\n",
    "#     n_trials=50, \r\n",
    "#     timeout=7200,\r\n",
    "#     cv=\r\n",
    "# )\r\n",
    "\r\n",
    "# optuna_search.fit(X_train, y_train)"
   ]
  }
 ],
 "metadata": {
  "colab": {
   "authorship_tag": "ABX9TyNJVKb/Bmq4eghiS0cj05cE",
   "collapsed_sections": [
    "IpTCdVohNBfe"
   ],
   "include_colab_link": true,
   "mount_file_id": "17sCjKQDEfGjPbBnbNYH04SFCv7PnEm2L",
   "name": "FinalAssignment.ipynb",
   "provenance": [],
   "toc_visible": true
  },
  "kernelspec": {
   "display_name": "Python 3",
   "language": "python",
   "name": "python3"
  },
  "language_info": {
   "codemirror_mode": {
    "name": "ipython",
    "version": 3
   },
   "file_extension": ".py",
   "mimetype": "text/x-python",
   "name": "python",
   "nbconvert_exporter": "python",
   "pygments_lexer": "ipython3",
   "version": "3.8.5"
  }
 },
 "nbformat": 4,
 "nbformat_minor": 4
}
