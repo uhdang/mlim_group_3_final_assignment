{
 "cells": [
  {
   "cell_type": "markdown",
   "metadata": {
    "colab_type": "text",
    "id": "view-in-github"
   },
   "source": [
    "<a href=\"https://colab.research.google.com/github/uhdang/mlim_group_3_final_assignment/blob/main/master_copy.ipynb\" target=\"_parent\"><img src=\"https://colab.research.google.com/assets/colab-badge.svg\" alt=\"Open In Colab\"/></a>"
   ]
  },
  {
   "cell_type": "markdown",
   "metadata": {
    "id": "WI5308YGqoBm"
   },
   "source": [
    "# Master Copy"
   ]
  },
  {
   "cell_type": "markdown",
   "metadata": {
    "id": "bD3mKllNqoBu"
   },
   "source": [
    "## IDEAS"
   ]
  },
  {
   "cell_type": "markdown",
   "metadata": {
    "id": "Qcd8Z8OfqoBv"
   },
   "source": [
    "#### Feature Ideas\n",
    "- Exercise #7 - slide 5\n",
    "    - own-product moving widow purchase frequencies\n",
    "    - customer embedding (matrix-factorization)"
   ]
  },
  {
   "cell_type": "markdown",
   "metadata": {
    "id": "2-2Kfo5mqoBv"
   },
   "source": [
    "## Setup"
   ]
  },
  {
   "cell_type": "code",
   "execution_count": 64,
   "metadata": {
    "id": "9dqYCDAyqoBw"
   },
   "outputs": [],
   "source": [
    "import numpy as np\n",
    "import pandas as pd\n",
    "\n",
    "from random import randrange"
   ]
  },
  {
   "cell_type": "markdown",
   "metadata": {
    "id": "-Ekdlf5sqoBx"
   },
   "source": [
    "## Load Data"
   ]
  },
  {
   "cell_type": "code",
   "execution_count": 65,
   "metadata": {},
   "outputs": [
    {
     "name": "stdout",
     "output_type": "stream",
     "text": [
      "baskets_df: (68841598, 4)\n",
      "coupons_df: (45000000, 4)\n",
      "coupon_index_df: (10000, 3)\n"
     ]
    }
   ],
   "source": [
    "file_path = \"../data/\"\n",
    "\n",
    "baskets_pq = \"baskets.parquet\"\n",
    "coupons_pq = \"coupons.parquet\"\n",
    "coupon_index_pq = \"coupon_index.parquet\"\n",
    "\n",
    "b_df = pd.read_parquet(file_path + baskets_pq)\n",
    "c_df = pd.read_parquet(file_path + coupons_pq)\n",
    "ci_df = pd.read_parquet(file_path + coupon_index_pq)\n",
    "\n",
    "print(f\"baskets_df: {b_df.shape}\")\n",
    "print(f\"coupons_df: {c_df.shape}\")\n",
    "print(f\"coupon_index_df: {ci_df.shape}\")"
   ]
  },
  {
   "cell_type": "markdown",
   "metadata": {
    "id": "wC9XWfczqoBz"
   },
   "source": [
    "## Data Preprocessing"
   ]
  },
  {
   "cell_type": "markdown",
   "metadata": {
    "id": "hRgvUn_wqoBz"
   },
   "source": [
    "### A. Number of Target Shoppers"
   ]
  },
  {
   "cell_type": "code",
   "execution_count": 66,
   "metadata": {
    "id": "I5XNjgwvqoB0",
    "outputId": "6f63c452-2e3c-4b34-8f92-101e02190aaf"
   },
   "outputs": [
    {
     "name": "stdout",
     "output_type": "stream",
     "text": [
      "shoppers.shape: [0, 1, 2, 3, 4, 5, 6, 7, 8, 9, 10, 11, 12, 13, 14, 15, 16, 17, 18, 19, 20, 21, 22, 23, 24, 25, 26, 27, 28, 29, 30, 31, 32, 33, 34, 35, 36, 37, 38, 39, 40, 41, 42, 43, 44, 45, 46, 47, 48, 49, 50, 51, 52, 53, 54, 55, 56, 57, 58, 59, 60, 61, 62, 63, 64, 65, 66, 67, 68, 69, 70, 71, 72, 73, 74, 75, 76, 77, 78, 79, 80, 81, 82, 83, 84, 85, 86, 87, 88, 89, 90, 91, 92, 93, 94, 95, 96, 97, 98, 99]\n"
     ]
    }
   ],
   "source": [
    "num_of_shoppers = 100\n",
    "\n",
    "shoppers = [i for i in range(num_of_shoppers)]\n",
    "print(f\"shoppers.shape: {shoppers}\")"
   ]
  },
  {
   "cell_type": "markdown",
   "metadata": {
    "id": "grKJukdHqoB0"
   },
   "source": [
    "### B. Generate Master Dataframe"
   ]
  },
  {
   "cell_type": "code",
   "execution_count": 67,
   "metadata": {
    "id": "w-Su_bAoqoB1"
   },
   "outputs": [],
   "source": [
    "def get_original_prices(basket_df):\n",
    "    return basket_df.groupby([\"product\"])[\"price\"].agg([\"max\"]).reset_index()"
   ]
  },
  {
   "cell_type": "code",
   "execution_count": 68,
   "metadata": {
    "id": "pxFbrDZJqoB1"
   },
   "outputs": [],
   "source": [
    "def gen_complete_week_prod_df_for_shoppers(list_shoppers, orig_df):\n",
    "    products = np.array(list(range(250)))\n",
    "    orig_price_list = orig_df[\"max\"].values\n",
    "    \n",
    "    weeks = list(range(90))\n",
    "    \n",
    "    product_price_pair = np.stack((products, orig_price_list), axis=0).T\n",
    "    \n",
    "    prod_in_weeks = []\n",
    "    for w in weeks:\n",
    "        for p in product_price_pair:\n",
    "            prod_in_weeks.append([w, *p])\n",
    "    \n",
    "    df_template = pd.DataFrame(data=prod_in_weeks, columns=[\"week\", \"product\", \"orig_price\"])\n",
    "    \n",
    "    df_master = None;\n",
    "    \n",
    "    for idx, shoppers in enumerate(list_shoppers):\n",
    "\n",
    "        df_local = df_template.copy()\n",
    "        df_local[\"shopper\"] = shoppers\n",
    "        \n",
    "        if idx == 0:\n",
    "            df_master = df_local\n",
    "        else:\n",
    "            # stack it\n",
    "            df_master = pd.concat([df_master, df_local], axis=0)\n",
    "    return df_master"
   ]
  },
  {
   "cell_type": "code",
   "execution_count": 69,
   "metadata": {
    "id": "fUfDvCG7qoB2",
    "outputId": "6cd7525f-4323-4f28-c9cc-44e2418fb9cd"
   },
   "outputs": [
    {
     "name": "stdout",
     "output_type": "stream",
     "text": [
      "df.shape: (2250000, 4)\n"
     ]
    },
    {
     "data": {
      "text/html": [
       "<div>\n",
       "<style scoped>\n",
       "    .dataframe tbody tr th:only-of-type {\n",
       "        vertical-align: middle;\n",
       "    }\n",
       "\n",
       "    .dataframe tbody tr th {\n",
       "        vertical-align: top;\n",
       "    }\n",
       "\n",
       "    .dataframe thead th {\n",
       "        text-align: right;\n",
       "    }\n",
       "</style>\n",
       "<table border=\"1\" class=\"dataframe\">\n",
       "  <thead>\n",
       "    <tr style=\"text-align: right;\">\n",
       "      <th></th>\n",
       "      <th>week</th>\n",
       "      <th>product</th>\n",
       "      <th>orig_price</th>\n",
       "      <th>shopper</th>\n",
       "    </tr>\n",
       "  </thead>\n",
       "  <tbody>\n",
       "    <tr>\n",
       "      <th>0</th>\n",
       "      <td>0</td>\n",
       "      <td>0</td>\n",
       "      <td>688</td>\n",
       "      <td>0</td>\n",
       "    </tr>\n",
       "    <tr>\n",
       "      <th>1</th>\n",
       "      <td>0</td>\n",
       "      <td>1</td>\n",
       "      <td>560</td>\n",
       "      <td>0</td>\n",
       "    </tr>\n",
       "    <tr>\n",
       "      <th>2</th>\n",
       "      <td>0</td>\n",
       "      <td>2</td>\n",
       "      <td>773</td>\n",
       "      <td>0</td>\n",
       "    </tr>\n",
       "  </tbody>\n",
       "</table>\n",
       "</div>"
      ],
      "text/plain": [
       "   week  product  orig_price  shopper\n",
       "0     0        0         688        0\n",
       "1     0        1         560        0\n",
       "2     0        2         773        0"
      ]
     },
     "execution_count": 69,
     "metadata": {},
     "output_type": "execute_result"
    }
   ],
   "source": [
    "orig_price_tb = get_original_prices(b_df)\n",
    "df = gen_complete_week_prod_df_for_shoppers(shoppers, orig_price_tb)\n",
    "print(f\"df.shape: {df.shape}\")\n",
    "df.head(3)"
   ]
  },
  {
   "cell_type": "markdown",
   "metadata": {
    "id": "45pBKLGnqoB2"
   },
   "source": [
    "### C. Target Column added while adding Basket data"
   ]
  },
  {
   "cell_type": "code",
   "execution_count": 70,
   "metadata": {
    "id": "utQDXSysqoB2",
    "outputId": "52dd3afb-f7f6-46de-e142-68dfd3725b29"
   },
   "outputs": [
    {
     "name": "stdout",
     "output_type": "stream",
     "text": [
      "df.shape: (2250000, 6)\n"
     ]
    }
   ],
   "source": [
    "b_df[\"target\"] = 1\n",
    "df = df.merge(b_df, how=\"left\", on=[\"week\", \"shopper\", \"product\"])\n",
    "df[\"target\"] = df[\"target\"].fillna(0)\n",
    "print(f\"df.shape: {df.shape}\")"
   ]
  },
  {
   "cell_type": "code",
   "execution_count": 71,
   "metadata": {
    "id": "BjmXNe4fqoB3",
    "outputId": "d72dde71-22d9-4771-cdd5-2bf7abd9266d"
   },
   "outputs": [
    {
     "data": {
      "text/html": [
       "<div>\n",
       "<style scoped>\n",
       "    .dataframe tbody tr th:only-of-type {\n",
       "        vertical-align: middle;\n",
       "    }\n",
       "\n",
       "    .dataframe tbody tr th {\n",
       "        vertical-align: top;\n",
       "    }\n",
       "\n",
       "    .dataframe thead th {\n",
       "        text-align: right;\n",
       "    }\n",
       "</style>\n",
       "<table border=\"1\" class=\"dataframe\">\n",
       "  <thead>\n",
       "    <tr style=\"text-align: right;\">\n",
       "      <th></th>\n",
       "      <th>week</th>\n",
       "      <th>product</th>\n",
       "      <th>orig_price</th>\n",
       "      <th>shopper</th>\n",
       "      <th>price</th>\n",
       "      <th>target</th>\n",
       "    </tr>\n",
       "  </thead>\n",
       "  <tbody>\n",
       "    <tr>\n",
       "      <th>0</th>\n",
       "      <td>0</td>\n",
       "      <td>0</td>\n",
       "      <td>688</td>\n",
       "      <td>0</td>\n",
       "      <td>NaN</td>\n",
       "      <td>0.0</td>\n",
       "    </tr>\n",
       "    <tr>\n",
       "      <th>1</th>\n",
       "      <td>0</td>\n",
       "      <td>1</td>\n",
       "      <td>560</td>\n",
       "      <td>0</td>\n",
       "      <td>NaN</td>\n",
       "      <td>0.0</td>\n",
       "    </tr>\n",
       "  </tbody>\n",
       "</table>\n",
       "</div>"
      ],
      "text/plain": [
       "   week  product  orig_price  shopper  price  target\n",
       "0     0        0         688        0    NaN     0.0\n",
       "1     0        1         560        0    NaN     0.0"
      ]
     },
     "execution_count": 71,
     "metadata": {},
     "output_type": "execute_result"
    }
   ],
   "source": [
    "# df.sample(50)\n",
    "df.head(2)"
   ]
  },
  {
   "cell_type": "markdown",
   "metadata": {
    "id": "nbXV0BJbqoB3"
   },
   "source": [
    "### D. Discount_given column added while adding Discout data"
   ]
  },
  {
   "cell_type": "code",
   "execution_count": 72,
   "metadata": {
    "id": "hpiZtPavqoB4",
    "outputId": "432f70c0-0cf3-4422-af02-142a8de65473"
   },
   "outputs": [
    {
     "name": "stdout",
     "output_type": "stream",
     "text": [
      "df.shape: (2250000, 8)\n"
     ]
    },
    {
     "data": {
      "text/html": [
       "<div>\n",
       "<style scoped>\n",
       "    .dataframe tbody tr th:only-of-type {\n",
       "        vertical-align: middle;\n",
       "    }\n",
       "\n",
       "    .dataframe tbody tr th {\n",
       "        vertical-align: top;\n",
       "    }\n",
       "\n",
       "    .dataframe thead th {\n",
       "        text-align: right;\n",
       "    }\n",
       "</style>\n",
       "<table border=\"1\" class=\"dataframe\">\n",
       "  <thead>\n",
       "    <tr style=\"text-align: right;\">\n",
       "      <th></th>\n",
       "      <th>week</th>\n",
       "      <th>product</th>\n",
       "      <th>orig_price</th>\n",
       "      <th>shopper</th>\n",
       "      <th>price</th>\n",
       "      <th>target</th>\n",
       "      <th>discount</th>\n",
       "      <th>coupon_given</th>\n",
       "    </tr>\n",
       "  </thead>\n",
       "  <tbody>\n",
       "    <tr>\n",
       "      <th>0</th>\n",
       "      <td>0</td>\n",
       "      <td>0</td>\n",
       "      <td>688</td>\n",
       "      <td>0</td>\n",
       "      <td>NaN</td>\n",
       "      <td>0.0</td>\n",
       "      <td>0.0</td>\n",
       "      <td>0.0</td>\n",
       "    </tr>\n",
       "    <tr>\n",
       "      <th>1</th>\n",
       "      <td>0</td>\n",
       "      <td>1</td>\n",
       "      <td>560</td>\n",
       "      <td>0</td>\n",
       "      <td>NaN</td>\n",
       "      <td>0.0</td>\n",
       "      <td>0.0</td>\n",
       "      <td>0.0</td>\n",
       "    </tr>\n",
       "    <tr>\n",
       "      <th>2</th>\n",
       "      <td>0</td>\n",
       "      <td>2</td>\n",
       "      <td>773</td>\n",
       "      <td>0</td>\n",
       "      <td>NaN</td>\n",
       "      <td>0.0</td>\n",
       "      <td>0.0</td>\n",
       "      <td>0.0</td>\n",
       "    </tr>\n",
       "  </tbody>\n",
       "</table>\n",
       "</div>"
      ],
      "text/plain": [
       "   week  product  orig_price  shopper  price  target  discount  coupon_given\n",
       "0     0        0         688        0    NaN     0.0       0.0           0.0\n",
       "1     0        1         560        0    NaN     0.0       0.0           0.0\n",
       "2     0        2         773        0    NaN     0.0       0.0           0.0"
      ]
     },
     "execution_count": 72,
     "metadata": {},
     "output_type": "execute_result"
    }
   ],
   "source": [
    "c_df[\"coupon_given\"] = 1\n",
    "df = df.merge(right=c_df, how=\"left\", on=[\"week\", \"shopper\", \"product\"])\n",
    "df[\"discount\"] = df[\"discount\"].fillna(0)\n",
    "df[\"coupon_given\"] = df[\"coupon_given\"].fillna(0)\n",
    "print(f\"df.shape: {df.shape}\")\n",
    "df.head(3)"
   ]
  },
  {
   "cell_type": "markdown",
   "metadata": {
    "id": "mxcqTrzqqoB4"
   },
   "source": [
    "### E. Price with discount"
   ]
  },
  {
   "cell_type": "code",
   "execution_count": 73,
   "metadata": {
    "id": "3EYpl3OgqoB4"
   },
   "outputs": [],
   "source": [
    "df[\"price_w_discount\"] = df[\"orig_price\"] - df[\"discount\"]\n",
    "\n",
    "# price column is no longer necessary so removing it\n",
    "df = df.drop(columns=[\"price\"])"
   ]
  },
  {
   "cell_type": "code",
   "execution_count": 74,
   "metadata": {
    "id": "kd3-8_arqoB5"
   },
   "outputs": [],
   "source": [
    "# df.head(60)"
   ]
  },
  {
   "cell_type": "markdown",
   "metadata": {
    "id": "A5VeEvYQqoB5"
   },
   "source": [
    "## Split Data Before Feature Engineering"
   ]
  },
  {
   "cell_type": "code",
   "execution_count": 75,
   "metadata": {
    "id": "v0axr-yXqoB5",
    "outputId": "e8967599-62df-43e1-f48c-e5a48604bf1c"
   },
   "outputs": [
    {
     "name": "stdout",
     "output_type": "stream",
     "text": [
      "Master: (2250000, 8), Train: (2225000, 8), Test: (25000, 8)\n"
     ]
    }
   ],
   "source": [
    "# Train: 0 - 88\n",
    "# Test: 88 - 89\n",
    "cut_day = 89\n",
    "\n",
    "# Separate train and test\n",
    "train = df[df[\"week\"] < cut_day]\n",
    "test = df[df[\"week\"] >= cut_day]\n",
    "\n",
    "b_train = b_df[b_df[\"week\"] < cut_day]\n",
    "b_test = b_df[b_df[\"week\"] >= cut_day]\n",
    "\n",
    "c_train = c_df[c_df[\"week\"] < cut_day]\n",
    "c_test = c_df[c_df[\"week\"] >= cut_day]\n",
    "\n",
    "print(f\"Master: {df.shape}, Train: {train.shape}, Test: {test.shape}\")"
   ]
  },
  {
   "cell_type": "markdown",
   "metadata": {
    "id": "QDKnsZwCqoB6"
   },
   "source": [
    "### A. Average Basket Size per Shopper per week"
   ]
  },
  {
   "cell_type": "code",
   "execution_count": 76,
   "metadata": {
    "id": "0MMnihYAqoB6"
   },
   "outputs": [],
   "source": [
    "average_basket_size = b_train.groupby(['shopper', 'week'])[\"product\"].count().groupby('shopper').mean().to_frame('average_basket_size').reset_index()"
   ]
  },
  {
   "cell_type": "code",
   "execution_count": 77,
   "metadata": {
    "id": "hdOhQnX5qoB6"
   },
   "outputs": [],
   "source": [
    "# Merge to shoppers on train and test\n",
    "\n",
    "train = train.merge(average_basket_size, how=\"left\", on=\"shopper\")\n",
    "test = test.merge(average_basket_size, how=\"left\", on=\"shopper\")"
   ]
  },
  {
   "cell_type": "code",
   "execution_count": 78,
   "metadata": {
    "id": "h3OBAPOTqoB7",
    "outputId": "727caf0e-c209-45f8-d179-2d2256bcc836"
   },
   "outputs": [
    {
     "data": {
      "text/html": [
       "<div>\n",
       "<style scoped>\n",
       "    .dataframe tbody tr th:only-of-type {\n",
       "        vertical-align: middle;\n",
       "    }\n",
       "\n",
       "    .dataframe tbody tr th {\n",
       "        vertical-align: top;\n",
       "    }\n",
       "\n",
       "    .dataframe thead th {\n",
       "        text-align: right;\n",
       "    }\n",
       "</style>\n",
       "<table border=\"1\" class=\"dataframe\">\n",
       "  <thead>\n",
       "    <tr style=\"text-align: right;\">\n",
       "      <th></th>\n",
       "      <th>week</th>\n",
       "      <th>product</th>\n",
       "      <th>orig_price</th>\n",
       "      <th>shopper</th>\n",
       "      <th>target</th>\n",
       "      <th>discount</th>\n",
       "      <th>coupon_given</th>\n",
       "      <th>price_w_discount</th>\n",
       "      <th>average_basket_size</th>\n",
       "    </tr>\n",
       "  </thead>\n",
       "  <tbody>\n",
       "    <tr>\n",
       "      <th>0</th>\n",
       "      <td>0</td>\n",
       "      <td>0</td>\n",
       "      <td>688</td>\n",
       "      <td>0</td>\n",
       "      <td>0.0</td>\n",
       "      <td>0.0</td>\n",
       "      <td>0.0</td>\n",
       "      <td>688.0</td>\n",
       "      <td>8.539326</td>\n",
       "    </tr>\n",
       "    <tr>\n",
       "      <th>1</th>\n",
       "      <td>0</td>\n",
       "      <td>1</td>\n",
       "      <td>560</td>\n",
       "      <td>0</td>\n",
       "      <td>0.0</td>\n",
       "      <td>0.0</td>\n",
       "      <td>0.0</td>\n",
       "      <td>560.0</td>\n",
       "      <td>8.539326</td>\n",
       "    </tr>\n",
       "  </tbody>\n",
       "</table>\n",
       "</div>"
      ],
      "text/plain": [
       "   week  product  orig_price  shopper  target  discount  coupon_given  \\\n",
       "0     0        0         688        0     0.0       0.0           0.0   \n",
       "1     0        1         560        0     0.0       0.0           0.0   \n",
       "\n",
       "   price_w_discount  average_basket_size  \n",
       "0             688.0             8.539326  \n",
       "1             560.0             8.539326  "
      ]
     },
     "execution_count": 78,
     "metadata": {},
     "output_type": "execute_result"
    }
   ],
   "source": [
    "train.head(2)"
   ]
  },
  {
   "cell_type": "markdown",
   "metadata": {
    "id": "tLcFaDu4qoB7"
   },
   "source": [
    "### B. Average Price per Shopper per Week"
   ]
  },
  {
   "cell_type": "code",
   "execution_count": 79,
   "metadata": {
    "id": "Er0cLJ9EqoB7"
   },
   "outputs": [],
   "source": [
    "average_price_per_shopper = b_train.groupby(['shopper'])[\"price\"].mean().to_frame('average_price_per_shopper').reset_index()"
   ]
  },
  {
   "cell_type": "code",
   "execution_count": 80,
   "metadata": {
    "id": "nR9MdVPQqoB7"
   },
   "outputs": [],
   "source": [
    "# Include it to the shoppers\n",
    "\n",
    "train = train.merge(average_price_per_shopper, how=\"left\", on=\"shopper\")\n",
    "test = test.merge(average_price_per_shopper, how=\"left\", on=\"shopper\")"
   ]
  },
  {
   "cell_type": "code",
   "execution_count": 81,
   "metadata": {
    "id": "ERJ4LKg5qoB8",
    "outputId": "30059808-1fd4-4110-9a38-050d0639fe8f"
   },
   "outputs": [
    {
     "data": {
      "text/html": [
       "<div>\n",
       "<style scoped>\n",
       "    .dataframe tbody tr th:only-of-type {\n",
       "        vertical-align: middle;\n",
       "    }\n",
       "\n",
       "    .dataframe tbody tr th {\n",
       "        vertical-align: top;\n",
       "    }\n",
       "\n",
       "    .dataframe thead th {\n",
       "        text-align: right;\n",
       "    }\n",
       "</style>\n",
       "<table border=\"1\" class=\"dataframe\">\n",
       "  <thead>\n",
       "    <tr style=\"text-align: right;\">\n",
       "      <th></th>\n",
       "      <th>week</th>\n",
       "      <th>product</th>\n",
       "      <th>orig_price</th>\n",
       "      <th>shopper</th>\n",
       "      <th>target</th>\n",
       "      <th>discount</th>\n",
       "      <th>coupon_given</th>\n",
       "      <th>price_w_discount</th>\n",
       "      <th>average_basket_size</th>\n",
       "      <th>average_price_per_shopper</th>\n",
       "    </tr>\n",
       "  </thead>\n",
       "  <tbody>\n",
       "    <tr>\n",
       "      <th>0</th>\n",
       "      <td>0</td>\n",
       "      <td>0</td>\n",
       "      <td>688</td>\n",
       "      <td>0</td>\n",
       "      <td>0.0</td>\n",
       "      <td>0.0</td>\n",
       "      <td>0.0</td>\n",
       "      <td>688.0</td>\n",
       "      <td>8.539326</td>\n",
       "      <td>587.203947</td>\n",
       "    </tr>\n",
       "    <tr>\n",
       "      <th>1</th>\n",
       "      <td>0</td>\n",
       "      <td>1</td>\n",
       "      <td>560</td>\n",
       "      <td>0</td>\n",
       "      <td>0.0</td>\n",
       "      <td>0.0</td>\n",
       "      <td>0.0</td>\n",
       "      <td>560.0</td>\n",
       "      <td>8.539326</td>\n",
       "      <td>587.203947</td>\n",
       "    </tr>\n",
       "  </tbody>\n",
       "</table>\n",
       "</div>"
      ],
      "text/plain": [
       "   week  product  orig_price  shopper  target  discount  coupon_given  \\\n",
       "0     0        0         688        0     0.0       0.0           0.0   \n",
       "1     0        1         560        0     0.0       0.0           0.0   \n",
       "\n",
       "   price_w_discount  average_basket_size  average_price_per_shopper  \n",
       "0             688.0             8.539326                 587.203947  \n",
       "1             560.0             8.539326                 587.203947  "
      ]
     },
     "execution_count": 81,
     "metadata": {},
     "output_type": "execute_result"
    }
   ],
   "source": [
    "train.head(2)"
   ]
  },
  {
   "cell_type": "code",
   "execution_count": null,
   "metadata": {
    "id": "4t-mNG93qoB8"
   },
   "outputs": [],
   "source": []
  },
  {
   "cell_type": "markdown",
   "metadata": {
    "id": "IbVP5RuiqoB8"
   },
   "source": [
    "### C. Number of Unique Products purchased per Shopper"
   ]
  },
  {
   "cell_type": "code",
   "execution_count": 82,
   "metadata": {
    "id": "LnNXBDqzqoB9"
   },
   "outputs": [],
   "source": [
    "unique_products_per_shopper = b_train.groupby(['shopper'])[\"product\"].nunique()\n",
    "unique_products_per_shopper_df = unique_products_per_shopper.to_frame(\"num_unique_products\").reset_index()"
   ]
  },
  {
   "cell_type": "code",
   "execution_count": 83,
   "metadata": {
    "id": "ercfzGACqoB9"
   },
   "outputs": [],
   "source": [
    "# Include it to the shoppers\n",
    "\n",
    "train = train.merge(unique_products_per_shopper_df, how=\"left\", on=\"shopper\")\n",
    "test = test.merge(unique_products_per_shopper_df, how=\"left\", on=\"shopper\")"
   ]
  },
  {
   "cell_type": "code",
   "execution_count": 84,
   "metadata": {
    "id": "IwVPCBaaqoB9",
    "outputId": "e5c60fec-e6e1-4744-84b5-cd4a6dc6c72f"
   },
   "outputs": [
    {
     "data": {
      "text/html": [
       "<div>\n",
       "<style scoped>\n",
       "    .dataframe tbody tr th:only-of-type {\n",
       "        vertical-align: middle;\n",
       "    }\n",
       "\n",
       "    .dataframe tbody tr th {\n",
       "        vertical-align: top;\n",
       "    }\n",
       "\n",
       "    .dataframe thead th {\n",
       "        text-align: right;\n",
       "    }\n",
       "</style>\n",
       "<table border=\"1\" class=\"dataframe\">\n",
       "  <thead>\n",
       "    <tr style=\"text-align: right;\">\n",
       "      <th></th>\n",
       "      <th>week</th>\n",
       "      <th>product</th>\n",
       "      <th>orig_price</th>\n",
       "      <th>shopper</th>\n",
       "      <th>target</th>\n",
       "      <th>discount</th>\n",
       "      <th>coupon_given</th>\n",
       "      <th>price_w_discount</th>\n",
       "      <th>average_basket_size</th>\n",
       "      <th>average_price_per_shopper</th>\n",
       "      <th>num_unique_products</th>\n",
       "    </tr>\n",
       "  </thead>\n",
       "  <tbody>\n",
       "    <tr>\n",
       "      <th>0</th>\n",
       "      <td>0</td>\n",
       "      <td>0</td>\n",
       "      <td>688</td>\n",
       "      <td>0</td>\n",
       "      <td>0.0</td>\n",
       "      <td>0.0</td>\n",
       "      <td>0.0</td>\n",
       "      <td>688.0</td>\n",
       "      <td>8.539326</td>\n",
       "      <td>587.203947</td>\n",
       "      <td>54</td>\n",
       "    </tr>\n",
       "    <tr>\n",
       "      <th>1</th>\n",
       "      <td>0</td>\n",
       "      <td>1</td>\n",
       "      <td>560</td>\n",
       "      <td>0</td>\n",
       "      <td>0.0</td>\n",
       "      <td>0.0</td>\n",
       "      <td>0.0</td>\n",
       "      <td>560.0</td>\n",
       "      <td>8.539326</td>\n",
       "      <td>587.203947</td>\n",
       "      <td>54</td>\n",
       "    </tr>\n",
       "  </tbody>\n",
       "</table>\n",
       "</div>"
      ],
      "text/plain": [
       "   week  product  orig_price  shopper  target  discount  coupon_given  \\\n",
       "0     0        0         688        0     0.0       0.0           0.0   \n",
       "1     0        1         560        0     0.0       0.0           0.0   \n",
       "\n",
       "   price_w_discount  average_basket_size  average_price_per_shopper  \\\n",
       "0             688.0             8.539326                 587.203947   \n",
       "1             560.0             8.539326                 587.203947   \n",
       "\n",
       "   num_unique_products  \n",
       "0                   54  \n",
       "1                   54  "
      ]
     },
     "execution_count": 84,
     "metadata": {},
     "output_type": "execute_result"
    }
   ],
   "source": [
    "train.head(2)"
   ]
  },
  {
   "cell_type": "code",
   "execution_count": null,
   "metadata": {
    "id": "8xewOP3eqoB-"
   },
   "outputs": [],
   "source": []
  },
  {
   "cell_type": "markdown",
   "metadata": {
    "id": "_HVjE-sCqoB-"
   },
   "source": [
    "### D Total Counts for Product"
   ]
  },
  {
   "cell_type": "code",
   "execution_count": 85,
   "metadata": {
    "id": "ozkpFkleqoB-"
   },
   "outputs": [],
   "source": [
    "total_count_of_product = b_train.groupby(['shopper', 'product'])[\"product\"].count().to_frame('total_count_of_product').reset_index()"
   ]
  },
  {
   "cell_type": "code",
   "execution_count": 86,
   "metadata": {},
   "outputs": [
    {
     "data": {
      "text/html": [
       "<div>\n",
       "<style scoped>\n",
       "    .dataframe tbody tr th:only-of-type {\n",
       "        vertical-align: middle;\n",
       "    }\n",
       "\n",
       "    .dataframe tbody tr th {\n",
       "        vertical-align: top;\n",
       "    }\n",
       "\n",
       "    .dataframe thead th {\n",
       "        text-align: right;\n",
       "    }\n",
       "</style>\n",
       "<table border=\"1\" class=\"dataframe\">\n",
       "  <thead>\n",
       "    <tr style=\"text-align: right;\">\n",
       "      <th></th>\n",
       "      <th>week</th>\n",
       "      <th>product</th>\n",
       "      <th>orig_price</th>\n",
       "      <th>shopper</th>\n",
       "      <th>target</th>\n",
       "      <th>discount</th>\n",
       "      <th>coupon_given</th>\n",
       "      <th>price_w_discount</th>\n",
       "      <th>average_basket_size</th>\n",
       "      <th>average_price_per_shopper</th>\n",
       "      <th>num_unique_products</th>\n",
       "    </tr>\n",
       "  </thead>\n",
       "  <tbody>\n",
       "    <tr>\n",
       "      <th>0</th>\n",
       "      <td>0</td>\n",
       "      <td>0</td>\n",
       "      <td>688</td>\n",
       "      <td>0</td>\n",
       "      <td>0.0</td>\n",
       "      <td>0.0</td>\n",
       "      <td>0.0</td>\n",
       "      <td>688.0</td>\n",
       "      <td>8.539326</td>\n",
       "      <td>587.203947</td>\n",
       "      <td>54</td>\n",
       "    </tr>\n",
       "    <tr>\n",
       "      <th>1</th>\n",
       "      <td>0</td>\n",
       "      <td>1</td>\n",
       "      <td>560</td>\n",
       "      <td>0</td>\n",
       "      <td>0.0</td>\n",
       "      <td>0.0</td>\n",
       "      <td>0.0</td>\n",
       "      <td>560.0</td>\n",
       "      <td>8.539326</td>\n",
       "      <td>587.203947</td>\n",
       "      <td>54</td>\n",
       "    </tr>\n",
       "    <tr>\n",
       "      <th>2</th>\n",
       "      <td>0</td>\n",
       "      <td>2</td>\n",
       "      <td>773</td>\n",
       "      <td>0</td>\n",
       "      <td>0.0</td>\n",
       "      <td>0.0</td>\n",
       "      <td>0.0</td>\n",
       "      <td>773.0</td>\n",
       "      <td>8.539326</td>\n",
       "      <td>587.203947</td>\n",
       "      <td>54</td>\n",
       "    </tr>\n",
       "    <tr>\n",
       "      <th>3</th>\n",
       "      <td>0</td>\n",
       "      <td>3</td>\n",
       "      <td>722</td>\n",
       "      <td>0</td>\n",
       "      <td>0.0</td>\n",
       "      <td>0.0</td>\n",
       "      <td>0.0</td>\n",
       "      <td>722.0</td>\n",
       "      <td>8.539326</td>\n",
       "      <td>587.203947</td>\n",
       "      <td>54</td>\n",
       "    </tr>\n",
       "    <tr>\n",
       "      <th>4</th>\n",
       "      <td>0</td>\n",
       "      <td>4</td>\n",
       "      <td>620</td>\n",
       "      <td>0</td>\n",
       "      <td>0.0</td>\n",
       "      <td>0.0</td>\n",
       "      <td>0.0</td>\n",
       "      <td>620.0</td>\n",
       "      <td>8.539326</td>\n",
       "      <td>587.203947</td>\n",
       "      <td>54</td>\n",
       "    </tr>\n",
       "    <tr>\n",
       "      <th>...</th>\n",
       "      <td>...</td>\n",
       "      <td>...</td>\n",
       "      <td>...</td>\n",
       "      <td>...</td>\n",
       "      <td>...</td>\n",
       "      <td>...</td>\n",
       "      <td>...</td>\n",
       "      <td>...</td>\n",
       "      <td>...</td>\n",
       "      <td>...</td>\n",
       "      <td>...</td>\n",
       "    </tr>\n",
       "    <tr>\n",
       "      <th>2224995</th>\n",
       "      <td>88</td>\n",
       "      <td>245</td>\n",
       "      <td>549</td>\n",
       "      <td>99</td>\n",
       "      <td>0.0</td>\n",
       "      <td>0.0</td>\n",
       "      <td>0.0</td>\n",
       "      <td>549.0</td>\n",
       "      <td>8.797753</td>\n",
       "      <td>618.717752</td>\n",
       "      <td>76</td>\n",
       "    </tr>\n",
       "    <tr>\n",
       "      <th>2224996</th>\n",
       "      <td>88</td>\n",
       "      <td>246</td>\n",
       "      <td>702</td>\n",
       "      <td>99</td>\n",
       "      <td>0.0</td>\n",
       "      <td>0.0</td>\n",
       "      <td>0.0</td>\n",
       "      <td>702.0</td>\n",
       "      <td>8.797753</td>\n",
       "      <td>618.717752</td>\n",
       "      <td>76</td>\n",
       "    </tr>\n",
       "    <tr>\n",
       "      <th>2224997</th>\n",
       "      <td>88</td>\n",
       "      <td>247</td>\n",
       "      <td>670</td>\n",
       "      <td>99</td>\n",
       "      <td>0.0</td>\n",
       "      <td>0.0</td>\n",
       "      <td>0.0</td>\n",
       "      <td>670.0</td>\n",
       "      <td>8.797753</td>\n",
       "      <td>618.717752</td>\n",
       "      <td>76</td>\n",
       "    </tr>\n",
       "    <tr>\n",
       "      <th>2224998</th>\n",
       "      <td>88</td>\n",
       "      <td>248</td>\n",
       "      <td>490</td>\n",
       "      <td>99</td>\n",
       "      <td>0.0</td>\n",
       "      <td>0.0</td>\n",
       "      <td>0.0</td>\n",
       "      <td>490.0</td>\n",
       "      <td>8.797753</td>\n",
       "      <td>618.717752</td>\n",
       "      <td>76</td>\n",
       "    </tr>\n",
       "    <tr>\n",
       "      <th>2224999</th>\n",
       "      <td>88</td>\n",
       "      <td>249</td>\n",
       "      <td>499</td>\n",
       "      <td>99</td>\n",
       "      <td>0.0</td>\n",
       "      <td>0.0</td>\n",
       "      <td>0.0</td>\n",
       "      <td>499.0</td>\n",
       "      <td>8.797753</td>\n",
       "      <td>618.717752</td>\n",
       "      <td>76</td>\n",
       "    </tr>\n",
       "  </tbody>\n",
       "</table>\n",
       "<p>2225000 rows × 11 columns</p>\n",
       "</div>"
      ],
      "text/plain": [
       "         week  product  orig_price  shopper  target  discount  coupon_given  \\\n",
       "0           0        0         688        0     0.0       0.0           0.0   \n",
       "1           0        1         560        0     0.0       0.0           0.0   \n",
       "2           0        2         773        0     0.0       0.0           0.0   \n",
       "3           0        3         722        0     0.0       0.0           0.0   \n",
       "4           0        4         620        0     0.0       0.0           0.0   \n",
       "...       ...      ...         ...      ...     ...       ...           ...   \n",
       "2224995    88      245         549       99     0.0       0.0           0.0   \n",
       "2224996    88      246         702       99     0.0       0.0           0.0   \n",
       "2224997    88      247         670       99     0.0       0.0           0.0   \n",
       "2224998    88      248         490       99     0.0       0.0           0.0   \n",
       "2224999    88      249         499       99     0.0       0.0           0.0   \n",
       "\n",
       "         price_w_discount  average_basket_size  average_price_per_shopper  \\\n",
       "0                   688.0             8.539326                 587.203947   \n",
       "1                   560.0             8.539326                 587.203947   \n",
       "2                   773.0             8.539326                 587.203947   \n",
       "3                   722.0             8.539326                 587.203947   \n",
       "4                   620.0             8.539326                 587.203947   \n",
       "...                   ...                  ...                        ...   \n",
       "2224995             549.0             8.797753                 618.717752   \n",
       "2224996             702.0             8.797753                 618.717752   \n",
       "2224997             670.0             8.797753                 618.717752   \n",
       "2224998             490.0             8.797753                 618.717752   \n",
       "2224999             499.0             8.797753                 618.717752   \n",
       "\n",
       "         num_unique_products  \n",
       "0                         54  \n",
       "1                         54  \n",
       "2                         54  \n",
       "3                         54  \n",
       "4                         54  \n",
       "...                      ...  \n",
       "2224995                   76  \n",
       "2224996                   76  \n",
       "2224997                   76  \n",
       "2224998                   76  \n",
       "2224999                   76  \n",
       "\n",
       "[2225000 rows x 11 columns]"
      ]
     },
     "execution_count": 86,
     "metadata": {},
     "output_type": "execute_result"
    }
   ],
   "source": [
    "train"
   ]
  },
  {
   "cell_type": "code",
   "execution_count": 87,
   "metadata": {
    "id": "cIweWsNiqoB-"
   },
   "outputs": [],
   "source": [
    "# Merge to train and test\n",
    "train = train.merge(total_count_of_product, how=\"left\", on=[\"shopper\",\"product\"])\n",
    "test = test.merge(total_count_of_product, how=\"left\", on=[\"shopper\",\"product\"])"
   ]
  },
  {
   "cell_type": "code",
   "execution_count": 88,
   "metadata": {
    "id": "_2dE-hSNqoB_"
   },
   "outputs": [],
   "source": [
    "train[\"total_count_of_product\"] = train[\"total_count_of_product\"].fillna(0)\n",
    "test[\"total_count_of_product\"] = test[\"total_count_of_product\"].fillna(0)"
   ]
  },
  {
   "cell_type": "code",
   "execution_count": null,
   "metadata": {
    "id": "ZtMzc7fSqoB_"
   },
   "outputs": [],
   "source": []
  },
  {
   "cell_type": "markdown",
   "metadata": {
    "id": "VGHX4XwYqoB_"
   },
   "source": [
    "### G. Weeks Since Prior Order"
   ]
  },
  {
   "cell_type": "markdown",
   "metadata": {
    "id": "sIeQlhiOqoCA"
   },
   "source": [
    "#### a. train"
   ]
  },
  {
   "cell_type": "code",
   "execution_count": 89,
   "metadata": {
    "id": "4E4MfOUtqoCA"
   },
   "outputs": [],
   "source": [
    "# Train set\n",
    "addkey = train.groupby(['shopper','product'])[\"target\"].apply(lambda x : x.eq(1).shift().fillna(0).cumsum())\n",
    "train['weeks_since_prior_order'] = train[\"target\"].eq(0).groupby([train['shopper'], train['product'], addkey]).cumcount().add(1)"
   ]
  },
  {
   "cell_type": "markdown",
   "metadata": {
    "id": "VZDxamgtqoCA"
   },
   "source": [
    "#### b. test"
   ]
  },
  {
   "cell_type": "code",
   "execution_count": 90,
   "metadata": {
    "id": "UPlUBBfCqoCA"
   },
   "outputs": [],
   "source": [
    "# Test set\n",
    "last_weeks_since_prior_order = train.groupby(['shopper', 'product'])[\"weeks_since_prior_order\"].last() + 1\n",
    "test = test.merge(last_weeks_since_prior_order, on=['shopper', 'product'])"
   ]
  },
  {
   "cell_type": "code",
   "execution_count": 91,
   "metadata": {
    "id": "tAaRUpkFqoCB",
    "outputId": "7205833d-294c-41c2-be78-7f710606a604"
   },
   "outputs": [
    {
     "data": {
      "text/html": [
       "<div>\n",
       "<style scoped>\n",
       "    .dataframe tbody tr th:only-of-type {\n",
       "        vertical-align: middle;\n",
       "    }\n",
       "\n",
       "    .dataframe tbody tr th {\n",
       "        vertical-align: top;\n",
       "    }\n",
       "\n",
       "    .dataframe thead th {\n",
       "        text-align: right;\n",
       "    }\n",
       "</style>\n",
       "<table border=\"1\" class=\"dataframe\">\n",
       "  <thead>\n",
       "    <tr style=\"text-align: right;\">\n",
       "      <th></th>\n",
       "      <th>week</th>\n",
       "      <th>product</th>\n",
       "      <th>orig_price</th>\n",
       "      <th>shopper</th>\n",
       "      <th>target</th>\n",
       "      <th>discount</th>\n",
       "      <th>coupon_given</th>\n",
       "      <th>price_w_discount</th>\n",
       "      <th>average_basket_size</th>\n",
       "      <th>average_price_per_shopper</th>\n",
       "      <th>num_unique_products</th>\n",
       "      <th>total_count_of_product</th>\n",
       "      <th>weeks_since_prior_order</th>\n",
       "    </tr>\n",
       "  </thead>\n",
       "  <tbody>\n",
       "    <tr>\n",
       "      <th>1579381</th>\n",
       "      <td>87</td>\n",
       "      <td>131</td>\n",
       "      <td>519</td>\n",
       "      <td>70</td>\n",
       "      <td>0.0</td>\n",
       "      <td>0.0</td>\n",
       "      <td>0.0</td>\n",
       "      <td>519.0</td>\n",
       "      <td>6.651685</td>\n",
       "      <td>587.494932</td>\n",
       "      <td>76</td>\n",
       "      <td>0.0</td>\n",
       "      <td>88</td>\n",
       "    </tr>\n",
       "    <tr>\n",
       "      <th>1853007</th>\n",
       "      <td>25</td>\n",
       "      <td>7</td>\n",
       "      <td>772</td>\n",
       "      <td>83</td>\n",
       "      <td>0.0</td>\n",
       "      <td>0.0</td>\n",
       "      <td>0.0</td>\n",
       "      <td>772.0</td>\n",
       "      <td>6.955056</td>\n",
       "      <td>588.525040</td>\n",
       "      <td>69</td>\n",
       "      <td>0.0</td>\n",
       "      <td>26</td>\n",
       "    </tr>\n",
       "  </tbody>\n",
       "</table>\n",
       "</div>"
      ],
      "text/plain": [
       "         week  product  orig_price  shopper  target  discount  coupon_given  \\\n",
       "1579381    87      131         519       70     0.0       0.0           0.0   \n",
       "1853007    25        7         772       83     0.0       0.0           0.0   \n",
       "\n",
       "         price_w_discount  average_basket_size  average_price_per_shopper  \\\n",
       "1579381             519.0             6.651685                 587.494932   \n",
       "1853007             772.0             6.955056                 588.525040   \n",
       "\n",
       "         num_unique_products  total_count_of_product  weeks_since_prior_order  \n",
       "1579381                   76                     0.0                       88  \n",
       "1853007                   69                     0.0                       26  "
      ]
     },
     "execution_count": 91,
     "metadata": {},
     "output_type": "execute_result"
    }
   ],
   "source": [
    "train.sample(2)"
   ]
  },
  {
   "cell_type": "code",
   "execution_count": 92,
   "metadata": {
    "id": "QcLb4TzYqoCB",
    "outputId": "12d2a305-7061-459c-ee55-f9a4f83da913"
   },
   "outputs": [
    {
     "data": {
      "text/html": [
       "<div>\n",
       "<style scoped>\n",
       "    .dataframe tbody tr th:only-of-type {\n",
       "        vertical-align: middle;\n",
       "    }\n",
       "\n",
       "    .dataframe tbody tr th {\n",
       "        vertical-align: top;\n",
       "    }\n",
       "\n",
       "    .dataframe thead th {\n",
       "        text-align: right;\n",
       "    }\n",
       "</style>\n",
       "<table border=\"1\" class=\"dataframe\">\n",
       "  <thead>\n",
       "    <tr style=\"text-align: right;\">\n",
       "      <th></th>\n",
       "      <th>week</th>\n",
       "      <th>product</th>\n",
       "      <th>orig_price</th>\n",
       "      <th>shopper</th>\n",
       "      <th>target</th>\n",
       "      <th>discount</th>\n",
       "      <th>coupon_given</th>\n",
       "      <th>price_w_discount</th>\n",
       "      <th>average_basket_size</th>\n",
       "      <th>average_price_per_shopper</th>\n",
       "      <th>num_unique_products</th>\n",
       "      <th>total_count_of_product</th>\n",
       "      <th>weeks_since_prior_order</th>\n",
       "    </tr>\n",
       "  </thead>\n",
       "  <tbody>\n",
       "    <tr>\n",
       "      <th>4674</th>\n",
       "      <td>89</td>\n",
       "      <td>174</td>\n",
       "      <td>753</td>\n",
       "      <td>18</td>\n",
       "      <td>0.0</td>\n",
       "      <td>0.0</td>\n",
       "      <td>0.0</td>\n",
       "      <td>753.0</td>\n",
       "      <td>8.146067</td>\n",
       "      <td>597.177931</td>\n",
       "      <td>78</td>\n",
       "      <td>0.0</td>\n",
       "      <td>90</td>\n",
       "    </tr>\n",
       "    <tr>\n",
       "      <th>11363</th>\n",
       "      <td>89</td>\n",
       "      <td>113</td>\n",
       "      <td>710</td>\n",
       "      <td>45</td>\n",
       "      <td>0.0</td>\n",
       "      <td>0.0</td>\n",
       "      <td>0.0</td>\n",
       "      <td>710.0</td>\n",
       "      <td>7.168539</td>\n",
       "      <td>579.360502</td>\n",
       "      <td>67</td>\n",
       "      <td>0.0</td>\n",
       "      <td>90</td>\n",
       "    </tr>\n",
       "  </tbody>\n",
       "</table>\n",
       "</div>"
      ],
      "text/plain": [
       "       week  product  orig_price  shopper  target  discount  coupon_given  \\\n",
       "4674     89      174         753       18     0.0       0.0           0.0   \n",
       "11363    89      113         710       45     0.0       0.0           0.0   \n",
       "\n",
       "       price_w_discount  average_basket_size  average_price_per_shopper  \\\n",
       "4674              753.0             8.146067                 597.177931   \n",
       "11363             710.0             7.168539                 579.360502   \n",
       "\n",
       "       num_unique_products  total_count_of_product  weeks_since_prior_order  \n",
       "4674                    78                     0.0                       90  \n",
       "11363                   67                     0.0                       90  "
      ]
     },
     "execution_count": 92,
     "metadata": {},
     "output_type": "execute_result"
    }
   ],
   "source": [
    "test.sample(2)"
   ]
  },
  {
   "cell_type": "markdown",
   "metadata": {
    "id": "OcAnZAIPqoCC"
   },
   "source": [
    "### H. Category "
   ]
  },
  {
   "cell_type": "markdown",
   "metadata": {
    "id": "3D0nCHdLqoCC"
   },
   "source": [
    "#### f - 1. gensim Word2Vec"
   ]
  },
  {
   "cell_type": "code",
   "execution_count": 93,
   "metadata": {
    "id": "pG7uxFxnqoCC"
   },
   "outputs": [
    {
     "ename": "ModuleNotFoundError",
     "evalue": "No module named 'gensim'",
     "output_type": "error",
     "traceback": [
      "\u001b[0;31m---------------------------------------------------------------------------\u001b[0m",
      "\u001b[0;31mModuleNotFoundError\u001b[0m                       Traceback (most recent call last)",
      "\u001b[0;32m<ipython-input-93-839e57e2c068>\u001b[0m in \u001b[0;36m<module>\u001b[0;34m\u001b[0m\n\u001b[0;32m----> 1\u001b[0;31m \u001b[0;32mfrom\u001b[0m \u001b[0mgensim\u001b[0m\u001b[0;34m.\u001b[0m\u001b[0mmodels\u001b[0m \u001b[0;32mimport\u001b[0m \u001b[0mWord2Vec\u001b[0m\u001b[0;34m\u001b[0m\u001b[0;34m\u001b[0m\u001b[0m\n\u001b[0m\u001b[1;32m      2\u001b[0m \u001b[0;32mfrom\u001b[0m \u001b[0msklearn\u001b[0m\u001b[0;34m.\u001b[0m\u001b[0mdecomposition\u001b[0m \u001b[0;32mimport\u001b[0m \u001b[0mPCA\u001b[0m\u001b[0;34m\u001b[0m\u001b[0;34m\u001b[0m\u001b[0m\n\u001b[1;32m      3\u001b[0m \u001b[0;32mfrom\u001b[0m \u001b[0msklearn\u001b[0m\u001b[0;34m.\u001b[0m\u001b[0mmanifold\u001b[0m \u001b[0;32mimport\u001b[0m \u001b[0mTSNE\u001b[0m\u001b[0;34m\u001b[0m\u001b[0;34m\u001b[0m\u001b[0m\n",
      "\u001b[0;31mModuleNotFoundError\u001b[0m: No module named 'gensim'"
     ]
    }
   ],
   "source": [
    "from gensim.models import Word2Vec\n",
    "from sklearn.decomposition import PCA\n",
    "from sklearn.manifold import TSNE"
   ]
  },
  {
   "cell_type": "code",
   "execution_count": null,
   "metadata": {
    "id": "oqe_BkSpqoCD",
    "outputId": "1948d913-48c6-4ea8-fe06-5433d6a34be2"
   },
   "outputs": [],
   "source": [
    "# Caution ! Takes REAALLY Long !!\n",
    "# TEMPORARY - Since target shopper is limited to 2000, reduce the basket to 2000\n",
    "\n",
    "# by basket => groupby([\"week\", \"shopper\"])\n",
    "\n",
    "num_shoppers = 5_000\n",
    "\n",
    "by_basket_str = b_df[b_df[\"shopper\"] < num_shoppers]\n",
    "by_basket_str[\"product\"] = by_basket_str[\"product\"].astype(str)\n",
    "by_basket_str = by_basket_str.groupby([\"week\", \"shopper\"])[\"product\"].apply(list).reset_index(name=\"list_prod\")"
   ]
  },
  {
   "cell_type": "code",
   "execution_count": null,
   "metadata": {
    "id": "xflhhXSMqoCE",
    "outputId": "59162fd1-144e-448b-f6eb-b6ce29849c6d"
   },
   "outputs": [],
   "source": [
    "by_basket_str.head()"
   ]
  },
  {
   "cell_type": "code",
   "execution_count": null,
   "metadata": {
    "id": "lifCwHnbqoCE",
    "outputId": "460df470-2a32-4699-de93-96f8435ee9bc"
   },
   "outputs": [],
   "source": [
    "# basket list\n",
    "by_basket = by_basket_str[\"list_prod\"].tolist()\n",
    "\n",
    "# Create a Word2Vec model\n",
    "w2v_model = Word2Vec(\n",
    "    sentences=by_basket,\n",
    "    min_count=10,\n",
    "    negative=5,\n",
    "    sample=0,\n",
    "    sg=1,\n",
    "    workers=10,\n",
    ")\n",
    "\n",
    "# summarize the loaded model\n",
    "print(w2v_model)"
   ]
  },
  {
   "cell_type": "code",
   "execution_count": null,
   "metadata": {
    "id": "QMi9-57OqoCF"
   },
   "outputs": [],
   "source": [
    "product_keys = [str(product) for product in range(250)]\n",
    "product_vectors = w2v_model.wv[product_keys]"
   ]
  },
  {
   "cell_type": "code",
   "execution_count": null,
   "metadata": {
    "id": "Dz8Au_TfqoCF",
    "outputId": "0298adf5-fd0e-4368-fb30-601dd3d85b7c"
   },
   "outputs": [],
   "source": [
    "from sklearn.cluster import KMeans\n",
    "kmeans = KMeans(n_clusters=25, random_state=0).fit(product_vectors)\n",
    "kmeans.labels_"
   ]
  },
  {
   "cell_type": "code",
   "execution_count": null,
   "metadata": {
    "id": "swhrzrOzqoCF"
   },
   "outputs": [],
   "source": [
    "# Generate a product category\n",
    "products = [product for product in range(250)]\n",
    "prods_cat_table = pd.DataFrame(data=products, columns=[\"product\"])\n",
    "prods_cat_table[\"category\"] = kmeans.labels_\n",
    "prods_cat_table[['product', 'category']] = prods_cat_table[['product', 'category']].astype('category')"
   ]
  },
  {
   "cell_type": "code",
   "execution_count": null,
   "metadata": {
    "id": "EJAJQW4nqoCF",
    "outputId": "c966ac97-e04b-49db-e690-9e0bb37498eb"
   },
   "outputs": [],
   "source": [
    "prods_cat_table"
   ]
  },
  {
   "cell_type": "code",
   "execution_count": null,
   "metadata": {
    "id": "0dOOqxzbqoCG"
   },
   "outputs": [],
   "source": [
    "train = train.merge(right=prods_cat_table, how=\"left\", on=[\"product\"])\n",
    "test = test.merge(right=prods_cat_table, how=\"left\", on=[\"product\"])"
   ]
  },
  {
   "cell_type": "code",
   "execution_count": null,
   "metadata": {
    "id": "CDDg57uRqoCG",
    "outputId": "62a7ce61-a9b7-4f66-b8b6-e6d43fbc73aa"
   },
   "outputs": [],
   "source": [
    "train.head(2)"
   ]
  },
  {
   "cell_type": "code",
   "execution_count": null,
   "metadata": {
    "id": "YPdWV-zTqoCH"
   },
   "outputs": [],
   "source": []
  },
  {
   "cell_type": "markdown",
   "metadata": {
    "id": "fun53ZtzqoCH"
   },
   "source": [
    "### I. Weeks since prior order from the Same Category"
   ]
  },
  {
   "cell_type": "markdown",
   "metadata": {
    "id": "jJFEhjvfqoCH"
   },
   "source": [
    "#### I - 1. train"
   ]
  },
  {
   "cell_type": "code",
   "execution_count": null,
   "metadata": {
    "id": "mumv8fIOqoCH",
    "outputId": "be4509f5-5dae-42d9-eb16-6d227b2757dc"
   },
   "outputs": [],
   "source": [
    "new_test_cat = pd.DataFrame(train.groupby(['shopper','category','week'])['target'].sum().reset_index())\n",
    "mask = new_test_cat.groupby(['shopper', 'category'])['target'].cumsum().replace(0, False).astype(bool) # Mask starting zeros as NaN\n",
    "df_out_cat = new_test_cat.assign(last_cat_order = new_test_cat.groupby(['shopper','category', new_test_cat.target.astype(bool).cumsum()]).cumcount().where(mask))\n",
    "df_out_cat[\"last_cat_order\"][df_out_cat[\"last_cat_order\"].isna()]= 0\n",
    "df_out_cat = df_out_cat[['shopper', 'category','week','last_cat_order']]\n",
    "train = train.merge(df_out_cat, on = ['shopper', 'week', 'category'], how = 'left')"
   ]
  },
  {
   "cell_type": "code",
   "execution_count": null,
   "metadata": {
    "id": "CcK0guQ7qoCI",
    "outputId": "9ab962f9-4aaa-4d64-a9a1-1c0e54bffe75"
   },
   "outputs": [],
   "source": [
    "train.head(2)"
   ]
  },
  {
   "cell_type": "markdown",
   "metadata": {
    "id": "G3rqcL-QqoCI"
   },
   "source": [
    "#### I - 2. test"
   ]
  },
  {
   "cell_type": "code",
   "execution_count": null,
   "metadata": {
    "id": "tYgwGxTNqoCI"
   },
   "outputs": [],
   "source": [
    "# Test set\n",
    "last_weeks_since_prior_order_from_same_cat = train.groupby(['shopper', 'product'])[\"last_cat_order\"].last() + 1\n",
    "test = test.merge(last_weeks_since_prior_order_from_same_cat, on=['shopper', 'product'])"
   ]
  },
  {
   "cell_type": "code",
   "execution_count": null,
   "metadata": {
    "id": "doLhEvUjqoCI",
    "outputId": "6f99c998-1514-48e0-e31e-500036802bf5"
   },
   "outputs": [],
   "source": [
    "test.sample(2)"
   ]
  },
  {
   "cell_type": "markdown",
   "metadata": {
    "id": "GaJsyJJaqoCJ"
   },
   "source": [
    "## Model Declaration and Setup for Predictive Analysis"
   ]
  },
  {
   "cell_type": "markdown",
   "metadata": {
    "id": "lnidHbZUqoCJ"
   },
   "source": [
    "### A. X_train, X_test, y_train, y_test split"
   ]
  },
  {
   "cell_type": "code",
   "execution_count": null,
   "metadata": {
    "id": "IB0YgOwfqoCJ"
   },
   "outputs": [],
   "source": [
    "# Features to drop for X\n",
    "features_to_drop = [\"target\", \"week\"]\n",
    "\n",
    "X_train = train.drop(columns=features_to_drop)\n",
    "y_train = train[\"target\"]\n",
    "\n",
    "X_test = test.drop(columns=features_to_drop)\n",
    "y_test = test[\"target\"]"
   ]
  },
  {
   "cell_type": "code",
   "execution_count": null,
   "metadata": {
    "id": "ZLPFSWAVqoCJ",
    "outputId": "52f2df9a-4621-401d-fafe-e3ba5077dd32"
   },
   "outputs": [],
   "source": [
    "X_train"
   ]
  },
  {
   "cell_type": "code",
   "execution_count": null,
   "metadata": {
    "id": "whT39-QeqoCK",
    "outputId": "9b376cbf-9d2b-442e-a45e-f9b2e50cb9ab"
   },
   "outputs": [],
   "source": [
    "y_train"
   ]
  },
  {
   "cell_type": "markdown",
   "metadata": {
    "id": "R7owV0A6qoCK"
   },
   "source": [
    "### B. Model Declaration"
   ]
  },
  {
   "cell_type": "code",
   "execution_count": null,
   "metadata": {
    "id": "bMaltIfqqoCK"
   },
   "outputs": [],
   "source": [
    "import lightgbm as lgb\n",
    "from lightgbm.sklearn import LGBMClassifier"
   ]
  },
  {
   "cell_type": "code",
   "execution_count": null,
   "metadata": {
    "id": "JZ2WoGH2qoCL"
   },
   "outputs": [],
   "source": [
    "from collections import Counter\n",
    "\n",
    "# count examples in each class\n",
    "counter = Counter(y_train)\n",
    "# estimate scale_pos_weight value\n",
    "estimate = counter[0] / counter[1]\n",
    "\n",
    "lgb_clf = LGBMClassifier(\n",
    "    scale_pos_weight=1 #estimate\n",
    "    )"
   ]
  },
  {
   "cell_type": "code",
   "execution_count": null,
   "metadata": {
    "id": "0Rsv2IQWqoCL",
    "outputId": "1d98b54c-3508-414c-cda8-50fff89dee28"
   },
   "outputs": [],
   "source": [
    "counter"
   ]
  },
  {
   "cell_type": "code",
   "execution_count": null,
   "metadata": {
    "id": "_-DC0UkLqoCL",
    "outputId": "6afe4b5e-3ef5-4549-ba93-7a999c9e2310"
   },
   "outputs": [],
   "source": [
    "estimate"
   ]
  },
  {
   "cell_type": "code",
   "execution_count": null,
   "metadata": {
    "id": "hWzTII-xqoCL"
   },
   "outputs": [],
   "source": [
    "categorical = X_train.select_dtypes(exclude=np.number).columns.tolist()\n",
    "for cats in categorical:\n",
    "  X_train[cats] = X_train[cats].astype('category')\n",
    "  X_test[cats] = X_test[cats].astype('category')"
   ]
  },
  {
   "cell_type": "code",
   "execution_count": null,
   "metadata": {
    "id": "FdGLsojlqoCM",
    "outputId": "2c2dd9da-e34f-4e47-bb72-f78e127105dc"
   },
   "outputs": [],
   "source": [
    "y_train"
   ]
  },
  {
   "cell_type": "code",
   "execution_count": null,
   "metadata": {
    "id": "sLy3dBGmqoCM",
    "outputId": "1f202105-33ed-4198-aa4c-7fd0b16e40ae"
   },
   "outputs": [],
   "source": [
    "X_train.info()"
   ]
  },
  {
   "cell_type": "code",
   "execution_count": null,
   "metadata": {
    "id": "W-5p0S0pqoCN",
    "outputId": "fdac95d8-b33b-48d7-d905-e35010f0b4ee"
   },
   "outputs": [],
   "source": [
    "lgb_clf.fit(X_train, y_train, categorical_feature=categorical)"
   ]
  },
  {
   "cell_type": "code",
   "execution_count": null,
   "metadata": {
    "id": "lkt-0ZzVqoCN",
    "outputId": "b981ba5e-baba-4af1-9c25-6e731397acb3"
   },
   "outputs": [],
   "source": [
    "lgb_clf.score(X_train, y_train)"
   ]
  },
  {
   "cell_type": "code",
   "execution_count": null,
   "metadata": {
    "id": "2WCE7LK6qoCN",
    "outputId": "616b210d-f3fc-4938-8ce8-aa584aa9288b"
   },
   "outputs": [],
   "source": [
    "lgb_clf.score(X_test, y_test)"
   ]
  },
  {
   "cell_type": "markdown",
   "metadata": {
    "id": "1U2r07V5qoCO"
   },
   "source": [
    "### Evaluation"
   ]
  },
  {
   "cell_type": "code",
   "execution_count": null,
   "metadata": {
    "id": "ZmTc3g6LqoCO",
    "outputId": "578eb9a7-7ed6-47a6-a663-f0cad7a03606"
   },
   "outputs": [],
   "source": [
    "lgb.plot_importance(lgb_clf, max_num_features=10)"
   ]
  },
  {
   "cell_type": "code",
   "execution_count": null,
   "metadata": {
    "id": "ofiJTUDJqoCO",
    "outputId": "40ec6dd9-f26d-47b1-c842-53201c80c036"
   },
   "outputs": [],
   "source": [
    "lgb.plot_importance(lgb_clf, max_num_features=10, importance_type='gain')"
   ]
  },
  {
   "cell_type": "code",
   "execution_count": null,
   "metadata": {
    "id": "aboZf7gLqoCP",
    "outputId": "955ee7bd-a9ba-458b-c004-44a67012429b"
   },
   "outputs": [],
   "source": [
    "from sklearn.metrics import plot_roc_curve\n",
    "plot_roc_curve(estimator=lgb_clf, X=X_test, y=y_test)"
   ]
  },
  {
   "cell_type": "code",
   "execution_count": null,
   "metadata": {
    "id": "HzpBR7TqqoCP",
    "outputId": "70ce3764-2802-4242-b9bb-fa9001a9c8d5"
   },
   "outputs": [],
   "source": [
    "from sklearn.metrics import plot_confusion_matrix\n",
    "from sklearn.metrics import confusion_matrix\n",
    "\n",
    "y_pred = lgb_clf.predict(X_test)\n",
    "confusion = confusion_matrix(y_test, y_pred)\n",
    "plot_confusion_matrix(estimator=lgb_clf, X=X_test, y_true=y_test, display_labels=['No', 'Yes'], normalize='true')"
   ]
  },
  {
   "cell_type": "code",
   "execution_count": null,
   "metadata": {
    "id": "FTtZ_6PbqoCP",
    "outputId": "344ee3e0-4b23-47e1-c93b-f62566c1df1e"
   },
   "outputs": [],
   "source": [
    "y_pred"
   ]
  },
  {
   "cell_type": "code",
   "execution_count": null,
   "metadata": {
    "id": "vi7LjlijqoCQ",
    "outputId": "6771cfcd-6eef-4d6e-e4b6-f45a92f50e70"
   },
   "outputs": [],
   "source": [
    "X_test.info()"
   ]
  },
  {
   "cell_type": "code",
   "execution_count": null,
   "metadata": {
    "id": "KIvsaKM-qoCQ",
    "outputId": "29adfc72-04d9-41eb-9fc6-eb5ea8b70a73"
   },
   "outputs": [],
   "source": [
    "confusion"
   ]
  },
  {
   "cell_type": "code",
   "execution_count": null,
   "metadata": {
    "id": "TShJybUFqoCQ",
    "outputId": "0146f5b5-ae6b-498c-b8e5-3fcc6b1df504"
   },
   "outputs": [],
   "source": [
    "FP = confusion[0][1]\n",
    "FN = confusion[1][0]\n",
    "TP = confusion[1][1]\n",
    "TN = confusion[0][0]\n",
    "\n",
    "# Sensitivity, hit rate, recall, or true positive rate\n",
    "TPR = TP/(TP+FN)\n",
    "# Specificity or true negative rate\n",
    "TNR = TN/(TN+FP) \n",
    "# Negative predictive value\n",
    "NPV = TN/(TN+FN)\n",
    "# Fall out or false positive rate\n",
    "FPR = FP/(FP+TN)\n",
    "# False negative rate\n",
    "FNR = FN/(TP+FN)\n",
    "# Precision\n",
    "PPV = TP/(TP+FP)\n",
    "# False discovery rate -> 1-Precision\n",
    "FDR = FP/(TP+FP)\n",
    "\n",
    "# Overall accuracy\n",
    "ACC = (TP+TN)/(TP+FP+FN+TN)"
   ]
  },
  {
   "cell_type": "code",
   "execution_count": null,
   "metadata": {
    "id": "qt_T6uZSqoCR"
   },
   "outputs": [],
   "source": []
  },
  {
   "cell_type": "code",
   "execution_count": null,
   "metadata": {},
   "outputs": [],
   "source": []
  }
 ],
 "metadata": {
  "colab": {
   "collapsed_sections": [
    "nbXV0BJbqoB3",
    "mxcqTrzqqoB4",
    "QDKnsZwCqoB6",
    "tLcFaDu4qoB7",
    "IbVP5RuiqoB8",
    "_HVjE-sCqoB-",
    "VGHX4XwYqoB_",
    "sIeQlhiOqoCA",
    "VZDxamgtqoCA",
    "OcAnZAIPqoCC",
    "3D0nCHdLqoCC",
    "fun53ZtzqoCH",
    "jJFEhjvfqoCH",
    "G3rqcL-QqoCI",
    "lnidHbZUqoCJ",
    "R7owV0A6qoCK",
    "1U2r07V5qoCO"
   ],
   "include_colab_link": true,
   "name": "master_copy.ipynb",
   "provenance": []
  },
  "kernelspec": {
   "display_name": "Python 3",
   "language": "python",
   "name": "python3"
  },
  "language_info": {
   "codemirror_mode": {
    "name": "ipython",
    "version": 3
   },
   "file_extension": ".py",
   "mimetype": "text/x-python",
   "name": "python",
   "nbconvert_exporter": "python",
   "pygments_lexer": "ipython3",
   "version": "3.8.3"
  }
 },
 "nbformat": 4,
 "nbformat_minor": 4
}
