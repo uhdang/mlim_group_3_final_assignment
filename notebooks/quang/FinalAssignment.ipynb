{
  "nbformat": 4,
  "nbformat_minor": 0,
  "metadata": {
    "colab": {
      "name": "FinalAssignment.ipynb",
      "provenance": [],
      "collapsed_sections": [],
      "toc_visible": true,
      "mount_file_id": "17sCjKQDEfGjPbBnbNYH04SFCv7PnEm2L",
      "authorship_tag": "ABX9TyPZst5GK1KtGNHDrcfHxwVO",
      "include_colab_link": true
    },
    "kernelspec": {
      "name": "python3",
      "display_name": "Python 3"
    }
  },
  "cells": [
    {
      "cell_type": "markdown",
      "metadata": {
        "id": "view-in-github",
        "colab_type": "text"
      },
      "source": [
        "<a href=\"https://colab.research.google.com/github/uhdang/mlim_group_3_final_assignment/blob/main/quang/FinalAssignment.ipynb\" target=\"_parent\"><img src=\"https://colab.research.google.com/assets/colab-badge.svg\" alt=\"Open In Colab\"/></a>"
      ]
    },
    {
      "cell_type": "code",
      "metadata": {
        "id": "lbCoj2hWBnOH"
      },
      "source": [
        "# !pip install scikit-learn --upgrade"
      ],
      "execution_count": 5,
      "outputs": []
    },
    {
      "cell_type": "code",
      "metadata": {
        "id": "qFUtMx_vBwPi"
      },
      "source": [
        "# !pip install lightgbm --upgrade"
      ],
      "execution_count": 6,
      "outputs": []
    },
    {
      "cell_type": "code",
      "metadata": {
        "id": "R8VFv-TZfRc_"
      },
      "source": [
        "import pandas as pd\r\n",
        "import numpy as np\r\n",
        "# from datastreamer import DataStreamerP2V\r\n",
        "import matplotlib.pyplot as plt\r\n",
        "import seaborn as sns\r\n",
        "import random"
      ],
      "execution_count": 1,
      "outputs": []
    },
    {
      "cell_type": "markdown",
      "metadata": {
        "id": "KfzE-1tHfg2C"
      },
      "source": [
        "# Load Data"
      ]
    },
    {
      "cell_type": "code",
      "metadata": {
        "colab": {
          "base_uri": "https://localhost:8080/"
        },
        "id": "wPPZKEDQffrG",
        "outputId": "f0973f4b-659a-4fa0-f515-4687dbb2426d"
      },
      "source": [
        "from google.colab import drive\r\n",
        "drive.mount('/content/drive')\r\n",
        "baskets = pd.read_parquet(\"/content/drive/MyDrive/My Drive/baskets.parquet\")\r\n",
        "coupons = pd.read_parquet(\"/content/drive/MyDrive/My Drive/coupons.parquet\")\r\n",
        "coupon_index = pd.read_parquet(\"/content/drive/MyDrive/My Drive/coupon_index.parquet\")"
      ],
      "execution_count": 2,
      "outputs": [
        {
          "output_type": "stream",
          "text": [
            "Drive already mounted at /content/drive; to attempt to forcibly remount, call drive.mount(\"/content/drive\", force_remount=True).\n"
          ],
          "name": "stdout"
        }
      ]
    },
    {
      "cell_type": "code",
      "metadata": {
        "colab": {
          "base_uri": "https://localhost:8080/",
          "height": 419
        },
        "id": "QcxJiScqwSrc",
        "outputId": "6878d17e-3184-4a26-c1eb-f101e7b269e4"
      },
      "source": [
        "baskets['target'] = 1\r\n",
        "baskets"
      ],
      "execution_count": 3,
      "outputs": [
        {
          "output_type": "execute_result",
          "data": {
            "text/html": [
              "<div>\n",
              "<style scoped>\n",
              "    .dataframe tbody tr th:only-of-type {\n",
              "        vertical-align: middle;\n",
              "    }\n",
              "\n",
              "    .dataframe tbody tr th {\n",
              "        vertical-align: top;\n",
              "    }\n",
              "\n",
              "    .dataframe thead th {\n",
              "        text-align: right;\n",
              "    }\n",
              "</style>\n",
              "<table border=\"1\" class=\"dataframe\">\n",
              "  <thead>\n",
              "    <tr style=\"text-align: right;\">\n",
              "      <th></th>\n",
              "      <th>week</th>\n",
              "      <th>shopper</th>\n",
              "      <th>product</th>\n",
              "      <th>price</th>\n",
              "      <th>target</th>\n",
              "    </tr>\n",
              "  </thead>\n",
              "  <tbody>\n",
              "    <tr>\n",
              "      <th>0</th>\n",
              "      <td>0</td>\n",
              "      <td>0</td>\n",
              "      <td>71</td>\n",
              "      <td>629</td>\n",
              "      <td>1</td>\n",
              "    </tr>\n",
              "    <tr>\n",
              "      <th>1</th>\n",
              "      <td>0</td>\n",
              "      <td>0</td>\n",
              "      <td>91</td>\n",
              "      <td>605</td>\n",
              "      <td>1</td>\n",
              "    </tr>\n",
              "    <tr>\n",
              "      <th>2</th>\n",
              "      <td>0</td>\n",
              "      <td>0</td>\n",
              "      <td>116</td>\n",
              "      <td>715</td>\n",
              "      <td>1</td>\n",
              "    </tr>\n",
              "    <tr>\n",
              "      <th>3</th>\n",
              "      <td>0</td>\n",
              "      <td>0</td>\n",
              "      <td>123</td>\n",
              "      <td>483</td>\n",
              "      <td>1</td>\n",
              "    </tr>\n",
              "    <tr>\n",
              "      <th>4</th>\n",
              "      <td>0</td>\n",
              "      <td>0</td>\n",
              "      <td>157</td>\n",
              "      <td>592</td>\n",
              "      <td>1</td>\n",
              "    </tr>\n",
              "    <tr>\n",
              "      <th>...</th>\n",
              "      <td>...</td>\n",
              "      <td>...</td>\n",
              "      <td>...</td>\n",
              "      <td>...</td>\n",
              "      <td>...</td>\n",
              "    </tr>\n",
              "    <tr>\n",
              "      <th>68841593</th>\n",
              "      <td>89</td>\n",
              "      <td>99999</td>\n",
              "      <td>143</td>\n",
              "      <td>470</td>\n",
              "      <td>1</td>\n",
              "    </tr>\n",
              "    <tr>\n",
              "      <th>68841594</th>\n",
              "      <td>89</td>\n",
              "      <td>99999</td>\n",
              "      <td>158</td>\n",
              "      <td>566</td>\n",
              "      <td>1</td>\n",
              "    </tr>\n",
              "    <tr>\n",
              "      <th>68841595</th>\n",
              "      <td>89</td>\n",
              "      <td>99999</td>\n",
              "      <td>186</td>\n",
              "      <td>499</td>\n",
              "      <td>1</td>\n",
              "    </tr>\n",
              "    <tr>\n",
              "      <th>68841596</th>\n",
              "      <td>89</td>\n",
              "      <td>99999</td>\n",
              "      <td>204</td>\n",
              "      <td>496</td>\n",
              "      <td>1</td>\n",
              "    </tr>\n",
              "    <tr>\n",
              "      <th>68841597</th>\n",
              "      <td>89</td>\n",
              "      <td>99999</td>\n",
              "      <td>225</td>\n",
              "      <td>602</td>\n",
              "      <td>1</td>\n",
              "    </tr>\n",
              "  </tbody>\n",
              "</table>\n",
              "<p>68841598 rows × 5 columns</p>\n",
              "</div>"
            ],
            "text/plain": [
              "          week  shopper  product  price  target\n",
              "0            0        0       71    629       1\n",
              "1            0        0       91    605       1\n",
              "2            0        0      116    715       1\n",
              "3            0        0      123    483       1\n",
              "4            0        0      157    592       1\n",
              "...        ...      ...      ...    ...     ...\n",
              "68841593    89    99999      143    470       1\n",
              "68841594    89    99999      158    566       1\n",
              "68841595    89    99999      186    499       1\n",
              "68841596    89    99999      204    496       1\n",
              "68841597    89    99999      225    602       1\n",
              "\n",
              "[68841598 rows x 5 columns]"
            ]
          },
          "metadata": {
            "tags": []
          },
          "execution_count": 3
        }
      ]
    },
    {
      "cell_type": "code",
      "metadata": {
        "colab": {
          "base_uri": "https://localhost:8080/",
          "height": 419
        },
        "id": "LpS11Hg8G21-",
        "outputId": "a441e93d-e53b-450a-b37a-3251739a8e90"
      },
      "source": [
        "coupons"
      ],
      "execution_count": 4,
      "outputs": [
        {
          "output_type": "execute_result",
          "data": {
            "text/html": [
              "<div>\n",
              "<style scoped>\n",
              "    .dataframe tbody tr th:only-of-type {\n",
              "        vertical-align: middle;\n",
              "    }\n",
              "\n",
              "    .dataframe tbody tr th {\n",
              "        vertical-align: top;\n",
              "    }\n",
              "\n",
              "    .dataframe thead th {\n",
              "        text-align: right;\n",
              "    }\n",
              "</style>\n",
              "<table border=\"1\" class=\"dataframe\">\n",
              "  <thead>\n",
              "    <tr style=\"text-align: right;\">\n",
              "      <th></th>\n",
              "      <th>week</th>\n",
              "      <th>shopper</th>\n",
              "      <th>product</th>\n",
              "      <th>discount</th>\n",
              "    </tr>\n",
              "  </thead>\n",
              "  <tbody>\n",
              "    <tr>\n",
              "      <th>0</th>\n",
              "      <td>0</td>\n",
              "      <td>0</td>\n",
              "      <td>35</td>\n",
              "      <td>35</td>\n",
              "    </tr>\n",
              "    <tr>\n",
              "      <th>1</th>\n",
              "      <td>0</td>\n",
              "      <td>0</td>\n",
              "      <td>193</td>\n",
              "      <td>40</td>\n",
              "    </tr>\n",
              "    <tr>\n",
              "      <th>2</th>\n",
              "      <td>0</td>\n",
              "      <td>0</td>\n",
              "      <td>27</td>\n",
              "      <td>30</td>\n",
              "    </tr>\n",
              "    <tr>\n",
              "      <th>3</th>\n",
              "      <td>0</td>\n",
              "      <td>0</td>\n",
              "      <td>177</td>\n",
              "      <td>35</td>\n",
              "    </tr>\n",
              "    <tr>\n",
              "      <th>4</th>\n",
              "      <td>0</td>\n",
              "      <td>0</td>\n",
              "      <td>5</td>\n",
              "      <td>30</td>\n",
              "    </tr>\n",
              "    <tr>\n",
              "      <th>...</th>\n",
              "      <td>...</td>\n",
              "      <td>...</td>\n",
              "      <td>...</td>\n",
              "      <td>...</td>\n",
              "    </tr>\n",
              "    <tr>\n",
              "      <th>44999995</th>\n",
              "      <td>89</td>\n",
              "      <td>99999</td>\n",
              "      <td>62</td>\n",
              "      <td>40</td>\n",
              "    </tr>\n",
              "    <tr>\n",
              "      <th>44999996</th>\n",
              "      <td>89</td>\n",
              "      <td>99999</td>\n",
              "      <td>110</td>\n",
              "      <td>10</td>\n",
              "    </tr>\n",
              "    <tr>\n",
              "      <th>44999997</th>\n",
              "      <td>89</td>\n",
              "      <td>99999</td>\n",
              "      <td>37</td>\n",
              "      <td>40</td>\n",
              "    </tr>\n",
              "    <tr>\n",
              "      <th>44999998</th>\n",
              "      <td>89</td>\n",
              "      <td>99999</td>\n",
              "      <td>155</td>\n",
              "      <td>25</td>\n",
              "    </tr>\n",
              "    <tr>\n",
              "      <th>44999999</th>\n",
              "      <td>89</td>\n",
              "      <td>99999</td>\n",
              "      <td>132</td>\n",
              "      <td>10</td>\n",
              "    </tr>\n",
              "  </tbody>\n",
              "</table>\n",
              "<p>45000000 rows × 4 columns</p>\n",
              "</div>"
            ],
            "text/plain": [
              "          week  shopper  product  discount\n",
              "0            0        0       35        35\n",
              "1            0        0      193        40\n",
              "2            0        0       27        30\n",
              "3            0        0      177        35\n",
              "4            0        0        5        30\n",
              "...        ...      ...      ...       ...\n",
              "44999995    89    99999       62        40\n",
              "44999996    89    99999      110        10\n",
              "44999997    89    99999       37        40\n",
              "44999998    89    99999      155        25\n",
              "44999999    89    99999      132        10\n",
              "\n",
              "[45000000 rows x 4 columns]"
            ]
          },
          "metadata": {
            "tags": []
          },
          "execution_count": 4
        }
      ]
    },
    {
      "cell_type": "code",
      "metadata": {
        "colab": {
          "base_uri": "https://localhost:8080/"
        },
        "id": "lh65xBxAp5sb",
        "outputId": "423de963-f7bc-474c-e2c8-26fca0d8ad07"
      },
      "source": [
        "coupon_index.shopper"
      ],
      "execution_count": 5,
      "outputs": [
        {
          "output_type": "execute_result",
          "data": {
            "text/plain": [
              "0          0\n",
              "2000       0\n",
              "4000       0\n",
              "6000       0\n",
              "8000       0\n",
              "        ... \n",
              "1999    1999\n",
              "3999    1999\n",
              "5999    1999\n",
              "7999    1999\n",
              "9999    1999\n",
              "Name: shopper, Length: 10000, dtype: int64"
            ]
          },
          "metadata": {
            "tags": []
          },
          "execution_count": 5
        }
      ]
    },
    {
      "cell_type": "code",
      "metadata": {
        "id": "HuoYcOHJ1g8Z"
      },
      "source": [
        "#baskets[['week', 'shopper', 'product']] = baskets[['week', 'shopper', 'product']].astype('category')\r\n",
        "# baskets[['shopper', 'product']] = baskets[['shopper', 'product']].astype('category')\r\n",
        "baskets['product'] = baskets['product'].astype('category')\r\n",
        "coupons['product'] = coupons['product'].astype('category')"
      ],
      "execution_count": 6,
      "outputs": []
    },
    {
      "cell_type": "markdown",
      "metadata": {
        "id": "vTkyVZ3c8uvD"
      },
      "source": [
        "# Split Data"
      ]
    },
    {
      "cell_type": "code",
      "metadata": {
        "id": "j1yzB9Qj906J"
      },
      "source": [
        "from sklearn.model_selection import train_test_split"
      ],
      "execution_count": 7,
      "outputs": []
    },
    {
      "cell_type": "code",
      "metadata": {
        "id": "hFPZC48z9697"
      },
      "source": [
        "weeks = 89 \r\n",
        "shoppers = 100\r\n",
        "\r\n",
        "baskets_train = baskets.loc[(baskets.shopper.isin(list(range(shoppers)))) & (baskets.week<weeks), :]\r\n",
        "baskets_test = baskets.loc[(baskets.shopper.isin(list(range(shoppers)))) & (baskets.week>=weeks), :]\r\n",
        "\r\n",
        "coupons_train = coupons.loc[(coupons.shopper.isin(list(range(shoppers)))) & (coupons.week<weeks), :]\r\n",
        "coupons_test = coupons.loc[(coupons.shopper.isin(list(range(shoppers)))) & (coupons.week>=weeks), :]"
      ],
      "execution_count": 8,
      "outputs": []
    },
    {
      "cell_type": "code",
      "metadata": {
        "id": "wiYAnYUbAsxk",
        "colab": {
          "base_uri": "https://localhost:8080/"
        },
        "outputId": "fe5b13ba-5394-4b81-9dc2-cea31779de6d"
      },
      "source": [
        "baskets_train['shopper'] = baskets_train['shopper'].astype('category')\r\n",
        "coupons_train['shopper'] = coupons_train['shopper'].astype('category')\r\n",
        "\r\n",
        "# baskets_train['target'] = 1"
      ],
      "execution_count": 9,
      "outputs": [
        {
          "output_type": "stream",
          "text": [
            "/usr/local/lib/python3.7/dist-packages/ipykernel_launcher.py:1: SettingWithCopyWarning: \n",
            "A value is trying to be set on a copy of a slice from a DataFrame.\n",
            "Try using .loc[row_indexer,col_indexer] = value instead\n",
            "\n",
            "See the caveats in the documentation: https://pandas.pydata.org/pandas-docs/stable/user_guide/indexing.html#returning-a-view-versus-a-copy\n",
            "  \"\"\"Entry point for launching an IPython kernel.\n",
            "/usr/local/lib/python3.7/dist-packages/ipykernel_launcher.py:2: SettingWithCopyWarning: \n",
            "A value is trying to be set on a copy of a slice from a DataFrame.\n",
            "Try using .loc[row_indexer,col_indexer] = value instead\n",
            "\n",
            "See the caveats in the documentation: https://pandas.pydata.org/pandas-docs/stable/user_guide/indexing.html#returning-a-view-versus-a-copy\n",
            "  \n"
          ],
          "name": "stderr"
        }
      ]
    },
    {
      "cell_type": "code",
      "metadata": {
        "id": "XuG591vHYmM_",
        "colab": {
          "base_uri": "https://localhost:8080/",
          "height": 419
        },
        "outputId": "28fa5e90-7b57-4ab1-f7f4-d5f9fd3ffabb"
      },
      "source": [
        "baskets_train"
      ],
      "execution_count": 10,
      "outputs": [
        {
          "output_type": "execute_result",
          "data": {
            "text/html": [
              "<div>\n",
              "<style scoped>\n",
              "    .dataframe tbody tr th:only-of-type {\n",
              "        vertical-align: middle;\n",
              "    }\n",
              "\n",
              "    .dataframe tbody tr th {\n",
              "        vertical-align: top;\n",
              "    }\n",
              "\n",
              "    .dataframe thead th {\n",
              "        text-align: right;\n",
              "    }\n",
              "</style>\n",
              "<table border=\"1\" class=\"dataframe\">\n",
              "  <thead>\n",
              "    <tr style=\"text-align: right;\">\n",
              "      <th></th>\n",
              "      <th>week</th>\n",
              "      <th>shopper</th>\n",
              "      <th>product</th>\n",
              "      <th>price</th>\n",
              "      <th>target</th>\n",
              "    </tr>\n",
              "  </thead>\n",
              "  <tbody>\n",
              "    <tr>\n",
              "      <th>0</th>\n",
              "      <td>0</td>\n",
              "      <td>0</td>\n",
              "      <td>71</td>\n",
              "      <td>629</td>\n",
              "      <td>1</td>\n",
              "    </tr>\n",
              "    <tr>\n",
              "      <th>1</th>\n",
              "      <td>0</td>\n",
              "      <td>0</td>\n",
              "      <td>91</td>\n",
              "      <td>605</td>\n",
              "      <td>1</td>\n",
              "    </tr>\n",
              "    <tr>\n",
              "      <th>2</th>\n",
              "      <td>0</td>\n",
              "      <td>0</td>\n",
              "      <td>116</td>\n",
              "      <td>715</td>\n",
              "      <td>1</td>\n",
              "    </tr>\n",
              "    <tr>\n",
              "      <th>3</th>\n",
              "      <td>0</td>\n",
              "      <td>0</td>\n",
              "      <td>123</td>\n",
              "      <td>483</td>\n",
              "      <td>1</td>\n",
              "    </tr>\n",
              "    <tr>\n",
              "      <th>4</th>\n",
              "      <td>0</td>\n",
              "      <td>0</td>\n",
              "      <td>157</td>\n",
              "      <td>592</td>\n",
              "      <td>1</td>\n",
              "    </tr>\n",
              "    <tr>\n",
              "      <th>...</th>\n",
              "      <td>...</td>\n",
              "      <td>...</td>\n",
              "      <td>...</td>\n",
              "      <td>...</td>\n",
              "      <td>...</td>\n",
              "    </tr>\n",
              "    <tr>\n",
              "      <th>67312654</th>\n",
              "      <td>88</td>\n",
              "      <td>99</td>\n",
              "      <td>142</td>\n",
              "      <td>551</td>\n",
              "      <td>1</td>\n",
              "    </tr>\n",
              "    <tr>\n",
              "      <th>67312655</th>\n",
              "      <td>88</td>\n",
              "      <td>99</td>\n",
              "      <td>176</td>\n",
              "      <td>681</td>\n",
              "      <td>1</td>\n",
              "    </tr>\n",
              "    <tr>\n",
              "      <th>67312656</th>\n",
              "      <td>88</td>\n",
              "      <td>99</td>\n",
              "      <td>187</td>\n",
              "      <td>663</td>\n",
              "      <td>1</td>\n",
              "    </tr>\n",
              "    <tr>\n",
              "      <th>67312657</th>\n",
              "      <td>88</td>\n",
              "      <td>99</td>\n",
              "      <td>199</td>\n",
              "      <td>604</td>\n",
              "      <td>1</td>\n",
              "    </tr>\n",
              "    <tr>\n",
              "      <th>67312658</th>\n",
              "      <td>88</td>\n",
              "      <td>99</td>\n",
              "      <td>221</td>\n",
              "      <td>680</td>\n",
              "      <td>1</td>\n",
              "    </tr>\n",
              "  </tbody>\n",
              "</table>\n",
              "<p>67941 rows × 5 columns</p>\n",
              "</div>"
            ],
            "text/plain": [
              "          week shopper product  price  target\n",
              "0            0       0      71    629       1\n",
              "1            0       0      91    605       1\n",
              "2            0       0     116    715       1\n",
              "3            0       0     123    483       1\n",
              "4            0       0     157    592       1\n",
              "...        ...     ...     ...    ...     ...\n",
              "67312654    88      99     142    551       1\n",
              "67312655    88      99     176    681       1\n",
              "67312656    88      99     187    663       1\n",
              "67312657    88      99     199    604       1\n",
              "67312658    88      99     221    680       1\n",
              "\n",
              "[67941 rows x 5 columns]"
            ]
          },
          "metadata": {
            "tags": []
          },
          "execution_count": 10
        }
      ]
    },
    {
      "cell_type": "code",
      "metadata": {
        "id": "2XeikDVjAHc2",
        "colab": {
          "base_uri": "https://localhost:8080/",
          "height": 419
        },
        "outputId": "abc34657-6ec6-4020-c3bb-f81684f6d17b"
      },
      "source": [
        "coupons_train"
      ],
      "execution_count": 11,
      "outputs": [
        {
          "output_type": "execute_result",
          "data": {
            "text/html": [
              "<div>\n",
              "<style scoped>\n",
              "    .dataframe tbody tr th:only-of-type {\n",
              "        vertical-align: middle;\n",
              "    }\n",
              "\n",
              "    .dataframe tbody tr th {\n",
              "        vertical-align: top;\n",
              "    }\n",
              "\n",
              "    .dataframe thead th {\n",
              "        text-align: right;\n",
              "    }\n",
              "</style>\n",
              "<table border=\"1\" class=\"dataframe\">\n",
              "  <thead>\n",
              "    <tr style=\"text-align: right;\">\n",
              "      <th></th>\n",
              "      <th>week</th>\n",
              "      <th>shopper</th>\n",
              "      <th>product</th>\n",
              "      <th>discount</th>\n",
              "    </tr>\n",
              "  </thead>\n",
              "  <tbody>\n",
              "    <tr>\n",
              "      <th>0</th>\n",
              "      <td>0</td>\n",
              "      <td>0</td>\n",
              "      <td>35</td>\n",
              "      <td>35</td>\n",
              "    </tr>\n",
              "    <tr>\n",
              "      <th>1</th>\n",
              "      <td>0</td>\n",
              "      <td>0</td>\n",
              "      <td>193</td>\n",
              "      <td>40</td>\n",
              "    </tr>\n",
              "    <tr>\n",
              "      <th>2</th>\n",
              "      <td>0</td>\n",
              "      <td>0</td>\n",
              "      <td>27</td>\n",
              "      <td>30</td>\n",
              "    </tr>\n",
              "    <tr>\n",
              "      <th>3</th>\n",
              "      <td>0</td>\n",
              "      <td>0</td>\n",
              "      <td>177</td>\n",
              "      <td>35</td>\n",
              "    </tr>\n",
              "    <tr>\n",
              "      <th>4</th>\n",
              "      <td>0</td>\n",
              "      <td>0</td>\n",
              "      <td>5</td>\n",
              "      <td>30</td>\n",
              "    </tr>\n",
              "    <tr>\n",
              "      <th>...</th>\n",
              "      <td>...</td>\n",
              "      <td>...</td>\n",
              "      <td>...</td>\n",
              "      <td>...</td>\n",
              "    </tr>\n",
              "    <tr>\n",
              "      <th>44000495</th>\n",
              "      <td>88</td>\n",
              "      <td>99</td>\n",
              "      <td>160</td>\n",
              "      <td>40</td>\n",
              "    </tr>\n",
              "    <tr>\n",
              "      <th>44000496</th>\n",
              "      <td>88</td>\n",
              "      <td>99</td>\n",
              "      <td>31</td>\n",
              "      <td>40</td>\n",
              "    </tr>\n",
              "    <tr>\n",
              "      <th>44000497</th>\n",
              "      <td>88</td>\n",
              "      <td>99</td>\n",
              "      <td>141</td>\n",
              "      <td>15</td>\n",
              "    </tr>\n",
              "    <tr>\n",
              "      <th>44000498</th>\n",
              "      <td>88</td>\n",
              "      <td>99</td>\n",
              "      <td>14</td>\n",
              "      <td>30</td>\n",
              "    </tr>\n",
              "    <tr>\n",
              "      <th>44000499</th>\n",
              "      <td>88</td>\n",
              "      <td>99</td>\n",
              "      <td>60</td>\n",
              "      <td>20</td>\n",
              "    </tr>\n",
              "  </tbody>\n",
              "</table>\n",
              "<p>44500 rows × 4 columns</p>\n",
              "</div>"
            ],
            "text/plain": [
              "          week shopper product  discount\n",
              "0            0       0      35        35\n",
              "1            0       0     193        40\n",
              "2            0       0      27        30\n",
              "3            0       0     177        35\n",
              "4            0       0       5        30\n",
              "...        ...     ...     ...       ...\n",
              "44000495    88      99     160        40\n",
              "44000496    88      99      31        40\n",
              "44000497    88      99     141        15\n",
              "44000498    88      99      14        30\n",
              "44000499    88      99      60        20\n",
              "\n",
              "[44500 rows x 4 columns]"
            ]
          },
          "metadata": {
            "tags": []
          },
          "execution_count": 11
        }
      ]
    },
    {
      "cell_type": "markdown",
      "metadata": {
        "id": "_rfk2ZrJBSLR"
      },
      "source": [
        "# Data Preprocessing"
      ]
    },
    {
      "cell_type": "code",
      "metadata": {
        "id": "e7aRzLcYkP9Z"
      },
      "source": [
        "# Counting weeks of prior order for each product/customer\r\n",
        "# baskets_train['weeks_since_prior_order'] = baskets_train.groupby(['shopper', 'product']).week.apply(lambda x: x.diff()) # change to count weeks since last order, even when it wasn't bought"
      ],
      "execution_count": 12,
      "outputs": []
    },
    {
      "cell_type": "code",
      "metadata": {
        "id": "zsTQkxgK7yR8"
      },
      "source": [
        "full_df_train = (baskets_train\r\n",
        "           .merge(\r\n",
        "               coupons_train, \r\n",
        "               on=['week', 'shopper', 'product'], \r\n",
        "               how='outer',\r\n",
        "               indicator=True\r\n",
        "           )\r\n",
        "           .sort_values(by=['week', 'shopper', 'product'])\r\n",
        "           .reset_index(drop=True)\r\n",
        "          #  .replace(['left_only', 'right_only', 'both'], ['RRP', 'coupon', 'discounted'])\r\n",
        "          .replace(['left_only', 'right_only', 'both'], ['No', 'Yes', 'Yes'])\r\n",
        "          .rename(columns={'_merge': 'coupon'})\r\n",
        ")\r\n",
        "\r\n",
        "full_df_train.loc[full_df_train['discount'].isna(),'discount' ] = 0"
      ],
      "execution_count": 13,
      "outputs": []
    },
    {
      "cell_type": "code",
      "metadata": {
        "id": "S6QkMEaGAPMs",
        "colab": {
          "base_uri": "https://localhost:8080/",
          "height": 419
        },
        "outputId": "986ac09e-cd90-49a7-981f-558bd37acfd7"
      },
      "source": [
        "full_df_train"
      ],
      "execution_count": 14,
      "outputs": [
        {
          "output_type": "execute_result",
          "data": {
            "text/html": [
              "<div>\n",
              "<style scoped>\n",
              "    .dataframe tbody tr th:only-of-type {\n",
              "        vertical-align: middle;\n",
              "    }\n",
              "\n",
              "    .dataframe tbody tr th {\n",
              "        vertical-align: top;\n",
              "    }\n",
              "\n",
              "    .dataframe thead th {\n",
              "        text-align: right;\n",
              "    }\n",
              "</style>\n",
              "<table border=\"1\" class=\"dataframe\">\n",
              "  <thead>\n",
              "    <tr style=\"text-align: right;\">\n",
              "      <th></th>\n",
              "      <th>week</th>\n",
              "      <th>shopper</th>\n",
              "      <th>product</th>\n",
              "      <th>price</th>\n",
              "      <th>target</th>\n",
              "      <th>discount</th>\n",
              "      <th>coupon</th>\n",
              "    </tr>\n",
              "  </thead>\n",
              "  <tbody>\n",
              "    <tr>\n",
              "      <th>0</th>\n",
              "      <td>0</td>\n",
              "      <td>0</td>\n",
              "      <td>5</td>\n",
              "      <td>NaN</td>\n",
              "      <td>NaN</td>\n",
              "      <td>30.0</td>\n",
              "      <td>Yes</td>\n",
              "    </tr>\n",
              "    <tr>\n",
              "      <th>1</th>\n",
              "      <td>0</td>\n",
              "      <td>0</td>\n",
              "      <td>27</td>\n",
              "      <td>NaN</td>\n",
              "      <td>NaN</td>\n",
              "      <td>30.0</td>\n",
              "      <td>Yes</td>\n",
              "    </tr>\n",
              "    <tr>\n",
              "      <th>2</th>\n",
              "      <td>0</td>\n",
              "      <td>0</td>\n",
              "      <td>35</td>\n",
              "      <td>NaN</td>\n",
              "      <td>NaN</td>\n",
              "      <td>35.0</td>\n",
              "      <td>Yes</td>\n",
              "    </tr>\n",
              "    <tr>\n",
              "      <th>3</th>\n",
              "      <td>0</td>\n",
              "      <td>0</td>\n",
              "      <td>71</td>\n",
              "      <td>629.0</td>\n",
              "      <td>1.0</td>\n",
              "      <td>0.0</td>\n",
              "      <td>No</td>\n",
              "    </tr>\n",
              "    <tr>\n",
              "      <th>4</th>\n",
              "      <td>0</td>\n",
              "      <td>0</td>\n",
              "      <td>91</td>\n",
              "      <td>605.0</td>\n",
              "      <td>1.0</td>\n",
              "      <td>0.0</td>\n",
              "      <td>No</td>\n",
              "    </tr>\n",
              "    <tr>\n",
              "      <th>...</th>\n",
              "      <td>...</td>\n",
              "      <td>...</td>\n",
              "      <td>...</td>\n",
              "      <td>...</td>\n",
              "      <td>...</td>\n",
              "      <td>...</td>\n",
              "      <td>...</td>\n",
              "    </tr>\n",
              "    <tr>\n",
              "      <th>109678</th>\n",
              "      <td>88</td>\n",
              "      <td>99</td>\n",
              "      <td>160</td>\n",
              "      <td>NaN</td>\n",
              "      <td>NaN</td>\n",
              "      <td>40.0</td>\n",
              "      <td>Yes</td>\n",
              "    </tr>\n",
              "    <tr>\n",
              "      <th>109679</th>\n",
              "      <td>88</td>\n",
              "      <td>99</td>\n",
              "      <td>176</td>\n",
              "      <td>681.0</td>\n",
              "      <td>1.0</td>\n",
              "      <td>0.0</td>\n",
              "      <td>No</td>\n",
              "    </tr>\n",
              "    <tr>\n",
              "      <th>109680</th>\n",
              "      <td>88</td>\n",
              "      <td>99</td>\n",
              "      <td>187</td>\n",
              "      <td>663.0</td>\n",
              "      <td>1.0</td>\n",
              "      <td>0.0</td>\n",
              "      <td>No</td>\n",
              "    </tr>\n",
              "    <tr>\n",
              "      <th>109681</th>\n",
              "      <td>88</td>\n",
              "      <td>99</td>\n",
              "      <td>199</td>\n",
              "      <td>604.0</td>\n",
              "      <td>1.0</td>\n",
              "      <td>0.0</td>\n",
              "      <td>No</td>\n",
              "    </tr>\n",
              "    <tr>\n",
              "      <th>109682</th>\n",
              "      <td>88</td>\n",
              "      <td>99</td>\n",
              "      <td>221</td>\n",
              "      <td>680.0</td>\n",
              "      <td>1.0</td>\n",
              "      <td>0.0</td>\n",
              "      <td>No</td>\n",
              "    </tr>\n",
              "  </tbody>\n",
              "</table>\n",
              "<p>109683 rows × 7 columns</p>\n",
              "</div>"
            ],
            "text/plain": [
              "        week shopper product  price  target  discount coupon\n",
              "0          0       0       5    NaN     NaN      30.0    Yes\n",
              "1          0       0      27    NaN     NaN      30.0    Yes\n",
              "2          0       0      35    NaN     NaN      35.0    Yes\n",
              "3          0       0      71  629.0     1.0       0.0     No\n",
              "4          0       0      91  605.0     1.0       0.0     No\n",
              "...      ...     ...     ...    ...     ...       ...    ...\n",
              "109678    88      99     160    NaN     NaN      40.0    Yes\n",
              "109679    88      99     176  681.0     1.0       0.0     No\n",
              "109680    88      99     187  663.0     1.0       0.0     No\n",
              "109681    88      99     199  604.0     1.0       0.0     No\n",
              "109682    88      99     221  680.0     1.0       0.0     No\n",
              "\n",
              "[109683 rows x 7 columns]"
            ]
          },
          "metadata": {
            "tags": []
          },
          "execution_count": 14
        }
      ]
    },
    {
      "cell_type": "markdown",
      "metadata": {
        "id": "SNhjNET68TMB"
      },
      "source": [
        "# Feature Engineering"
      ]
    },
    {
      "cell_type": "code",
      "metadata": {
        "id": "FSjPMhQWRJM0"
      },
      "source": [
        "original_price = baskets.groupby('product', as_index=False).price.max().rename(columns={'price': 'original_price'})\r\n",
        "total_count_of_product = baskets_train.groupby(['shopper', 'product']).product.count().to_frame('total_count_of_product').reset_index()\r\n",
        "reordered = (baskets_train.groupby(['shopper']).product.value_counts()>1).astype(int)\r\n",
        "average_price_per_shopper = baskets_train.groupby(['shopper']).price.mean().to_frame('average_price_per_shopper').reset_index()\r\n",
        "average_basket_size = baskets_train.groupby(['shopper', 'week']).product.count().groupby('shopper').mean().to_frame('average_basket_size').reset_index()\r\n",
        "unique_products_per_shopper = baskets_train.groupby(['shopper']).product.nunique()\r\n",
        "ratio_of_reordered_per_shopper = (reordered.groupby('shopper').sum() / unique_products_per_shopper).to_frame('ratio_of_reordered').reset_index()\r\n",
        "\r\n",
        "ratio_of_reordered_per_product = total_count_of_product.copy()\r\n",
        "ratio_of_reordered_per_product['total_count_of_product'] = total_count_of_product['total_count_of_product'] / (baskets_train.week.max()+1)\r\n",
        "ratio_of_reordered_per_product.rename(columns={'total_count_of_product': 'ratio_of_reordered_per_product'}, inplace=True)\r\n",
        "\r\n",
        "reordered = reordered.to_frame('reordered').reset_index()\r\n",
        "unique_products_per_shopper = unique_products_per_shopper.to_frame('unique_products_per_shopper').reset_index()\r\n",
        "\r\n",
        "# frequency_per_product = \r\n",
        "\r\n",
        "# feature which give less probability to products wich haven't been purchased for a long time -> maybe relates to category as shopper has changed to product in similar category\r\n",
        "# add average week interval for each product and shopper -> frequency | maybe not necessary, basically just total_count/weeks, probably already covered by model\r\n",
        "# WoE"
      ],
      "execution_count": 15,
      "outputs": []
    },
    {
      "cell_type": "markdown",
      "metadata": {
        "id": "G5JVUWktoX6w"
      },
      "source": [
        "# Product2Vec"
      ]
    },
    {
      "cell_type": "markdown",
      "metadata": {
        "id": "EcWrfOvjo5iV"
      },
      "source": [
        "## Step 1\r\n",
        "Create a list of baskets."
      ]
    },
    {
      "cell_type": "code",
      "metadata": {
        "id": "-BS2_uehoaj0"
      },
      "source": [
        "# create a list of baskets\r\n",
        "shoppers_p2v = 10000\r\n",
        "baskets_p2v = baskets.loc[(baskets.shopper.isin(list(range(shoppers_p2v)))) & (baskets.week<weeks), :][['week', 'shopper', 'product']]\r\n",
        "\r\n",
        "basket_values = baskets_p2v.sort_values(['week', 'shopper']).values\r\n",
        "keys = baskets_p2v.week.astype(str) + '_' + baskets_p2v.shopper.astype(str)\r\n",
        "_, index = np.unique(keys, True)\r\n",
        "basket_arr = np.split(basket_values[:, 2].astype('str'), np.sort(index))[1:]"
      ],
      "execution_count": 16,
      "outputs": []
    },
    {
      "cell_type": "code",
      "metadata": {
        "id": "6B8L05XppyNx"
      },
      "source": [
        "# streamer class to fill word2vec list by list\r\n",
        "class DataStreamer():\r\n",
        "    def __init__(self, data):\r\n",
        "        self.data = data\r\n",
        "        \r\n",
        "    def __iter__(self):\r\n",
        "        for basket in self.data:\r\n",
        "            yield basket.tolist()"
      ],
      "execution_count": 17,
      "outputs": []
    },
    {
      "cell_type": "markdown",
      "metadata": {
        "id": "97OTY46fpsdL"
      },
      "source": [
        "## Step 2\r\n"
      ]
    },
    {
      "cell_type": "code",
      "metadata": {
        "id": "XQ4x2i2jpsEw"
      },
      "source": [
        "from gensim.models import Word2Vec"
      ],
      "execution_count": 18,
      "outputs": []
    },
    {
      "cell_type": "code",
      "metadata": {
        "id": "YmmbzSxWp3Mc"
      },
      "source": [
        "datastr = DataStreamer(basket_arr)"
      ],
      "execution_count": 19,
      "outputs": []
    },
    {
      "cell_type": "code",
      "metadata": {
        "id": "bt6sXuyep4-z"
      },
      "source": [
        "model = Word2Vec(\r\n",
        "    sentences=datastr, \r\n",
        "    size=100, \r\n",
        "    window=20, # max. size of basket \r\n",
        "    min_count=1,\r\n",
        "    negative=2, \r\n",
        "    sample=0,\r\n",
        "    sg=1,\r\n",
        "    workers=4\r\n",
        ")"
      ],
      "execution_count": 20,
      "outputs": []
    },
    {
      "cell_type": "code",
      "metadata": {
        "colab": {
          "base_uri": "https://localhost:8080/"
        },
        "id": "wYr6rFWc4Y26",
        "outputId": "3d91203f-7a89-444d-9d62-97d2aada91aa"
      },
      "source": [
        "model.wv.most_similar(positive='76')"
      ],
      "execution_count": 21,
      "outputs": [
        {
          "output_type": "execute_result",
          "data": {
            "text/plain": [
              "[('71', 0.6635892987251282),\n",
              " ('74', 0.6440406441688538),\n",
              " ('78', 0.6100879907608032),\n",
              " ('72', 0.6076662540435791),\n",
              " ('79', 0.5999629497528076),\n",
              " ('75', 0.5842835903167725),\n",
              " ('73', 0.5675209760665894),\n",
              " ('77', 0.5249459743499756),\n",
              " ('70', 0.439578115940094),\n",
              " ('233', 0.20724068582057953)]"
            ]
          },
          "metadata": {
            "tags": []
          },
          "execution_count": 21
        }
      ]
    },
    {
      "cell_type": "code",
      "metadata": {
        "id": "UYf6g8fVHowP"
      },
      "source": [
        "product_keys = [str(product) for product in range(250)]\r\n",
        "product_vectors = model.wv[product_keys]"
      ],
      "execution_count": 22,
      "outputs": []
    },
    {
      "cell_type": "markdown",
      "metadata": {
        "id": "jMcURLMn4VF_"
      },
      "source": [
        "## Step 3: Assigning Categories"
      ]
    },
    {
      "cell_type": "markdown",
      "metadata": {
        "id": "vDLwZACurll_"
      },
      "source": [
        "### Substitutes | Similar Products"
      ]
    },
    {
      "cell_type": "code",
      "metadata": {
        "colab": {
          "base_uri": "https://localhost:8080/",
          "height": 282
        },
        "id": "oh0RMyKO4W9N",
        "outputId": "36c2425b-4e2b-4dca-9cbf-ad3c5147c6e8"
      },
      "source": [
        "from sklearn.manifold import TSNE\r\n",
        "X_embedded = TSNE(n_components=2).fit_transform(product_vectors)\r\n",
        "plt.scatter(X_embedded[:,0], X_embedded[:,1])"
      ],
      "execution_count": 24,
      "outputs": [
        {
          "output_type": "execute_result",
          "data": {
            "text/plain": [
              "<matplotlib.collections.PathCollection at 0x7f9e2800db50>"
            ]
          },
          "metadata": {
            "tags": []
          },
          "execution_count": 24
        },
        {
          "output_type": "display_data",
          "data": {
            "image/png": "[encoded data removed]",
            "text/plain": [
              "<Figure size 432x288 with 1 Axes>"
            ]
          },
          "metadata": {
            "tags": [],
            "needs_background": "light"
          }
        }
      ]
    },
    {
      "cell_type": "code",
      "metadata": {
        "colab": {
          "base_uri": "https://localhost:8080/"
        },
        "id": "shIlPBnFIPJh",
        "outputId": "1c3f91da-35c0-42b8-b3fc-57a6aea78762"
      },
      "source": [
        "from sklearn.cluster import KMeans\r\n",
        "kmeans = KMeans(n_clusters=25, random_state=0).fit(product_vectors)\r\n",
        "kmeans.labels_"
      ],
      "execution_count": 26,
      "outputs": [
        {
          "output_type": "execute_result",
          "data": {
            "text/plain": [
              "array([19, 19, 19, 19, 19, 19, 19, 19, 19, 19, 17, 17, 17, 17, 17, 17, 17,\n",
              "       17, 17, 17, 18, 18, 18, 18, 18, 18, 18, 18, 18, 18,  0,  0,  0,  0,\n",
              "        0,  0,  0,  0,  0,  0,  5,  5,  5,  5,  5,  5,  5,  5,  5,  5,  3,\n",
              "       23, 23,  3, 23, 23, 23, 23, 23, 23, 12, 12, 12, 12, 12, 12, 12, 12,\n",
              "       12, 12, 21, 21, 21, 21, 21, 21, 21, 21, 21, 21, 22, 22, 22, 22, 22,\n",
              "       22, 22, 22, 22, 22, 20, 20, 20, 20, 20, 20, 20, 20, 20, 20,  7,  7,\n",
              "        7,  7,  7,  7,  7,  7,  7,  7, 13, 13, 13, 13, 13, 13, 13, 13, 13,\n",
              "       13,  4,  4,  4,  4,  4,  4,  4,  4,  4,  4, 24, 24, 24, 24, 24, 24,\n",
              "       24, 24, 24, 24, 11, 11, 11, 11, 11, 11, 11, 11, 11, 11, 16, 16, 16,\n",
              "       16, 16, 16, 16, 16, 16, 16, 10, 10, 10, 10, 10, 10, 10, 10, 10, 10,\n",
              "       14, 14, 14, 14, 14, 14, 14, 14, 14, 14,  6,  6,  6,  6,  6,  6,  6,\n",
              "        6,  6,  6, 15, 15, 15, 15, 15, 15, 15, 15, 15, 15,  8,  8,  8,  8,\n",
              "        8,  8,  8,  8,  8,  8,  2,  2,  2,  2,  2,  2,  2,  2,  2,  2,  9,\n",
              "        9,  9,  9,  9,  9,  9,  9,  9,  9, 23, 23,  3, 23, 23, 23, 23,  3,\n",
              "       23,  3,  1,  1,  1,  1,  1,  1,  1,  1,  1,  1], dtype=int32)"
            ]
          },
          "metadata": {
            "tags": []
          },
          "execution_count": 26
        }
      ]
    },
    {
      "cell_type": "code",
      "metadata": {
        "id": "81tKn562JSL4"
      },
      "source": [
        "# Generate a product category\r\n",
        "products = [product for product in range(250)]\r\n",
        "prods_cat_table = pd.DataFrame(data=products, columns=[\"product\"])\r\n",
        "prods_cat_table[\"category\"] = kmeans.labels_\r\n",
        "prods_cat_table[['product', 'category']] = prods_cat_table[['product', 'category']].astype('category')"
      ],
      "execution_count": 27,
      "outputs": []
    },
    {
      "cell_type": "code",
      "metadata": {
        "colab": {
          "base_uri": "https://localhost:8080/",
          "height": 204
        },
        "id": "BR54bFnBM189",
        "outputId": "a59b7204-1a5b-4670-ed97-c29b27b59f75"
      },
      "source": [
        "prods_cat_table.head()"
      ],
      "execution_count": 28,
      "outputs": [
        {
          "output_type": "execute_result",
          "data": {
            "text/html": [
              "<div>\n",
              "<style scoped>\n",
              "    .dataframe tbody tr th:only-of-type {\n",
              "        vertical-align: middle;\n",
              "    }\n",
              "\n",
              "    .dataframe tbody tr th {\n",
              "        vertical-align: top;\n",
              "    }\n",
              "\n",
              "    .dataframe thead th {\n",
              "        text-align: right;\n",
              "    }\n",
              "</style>\n",
              "<table border=\"1\" class=\"dataframe\">\n",
              "  <thead>\n",
              "    <tr style=\"text-align: right;\">\n",
              "      <th></th>\n",
              "      <th>product</th>\n",
              "      <th>category</th>\n",
              "    </tr>\n",
              "  </thead>\n",
              "  <tbody>\n",
              "    <tr>\n",
              "      <th>0</th>\n",
              "      <td>0</td>\n",
              "      <td>19</td>\n",
              "    </tr>\n",
              "    <tr>\n",
              "      <th>1</th>\n",
              "      <td>1</td>\n",
              "      <td>19</td>\n",
              "    </tr>\n",
              "    <tr>\n",
              "      <th>2</th>\n",
              "      <td>2</td>\n",
              "      <td>19</td>\n",
              "    </tr>\n",
              "    <tr>\n",
              "      <th>3</th>\n",
              "      <td>3</td>\n",
              "      <td>19</td>\n",
              "    </tr>\n",
              "    <tr>\n",
              "      <th>4</th>\n",
              "      <td>4</td>\n",
              "      <td>19</td>\n",
              "    </tr>\n",
              "  </tbody>\n",
              "</table>\n",
              "</div>"
            ],
            "text/plain": [
              "  product category\n",
              "0       0       19\n",
              "1       1       19\n",
              "2       2       19\n",
              "3       3       19\n",
              "4       4       19"
            ]
          },
          "metadata": {
            "tags": []
          },
          "execution_count": 28
        }
      ]
    },
    {
      "cell_type": "markdown",
      "metadata": {
        "id": "1OWqUvPfruk6"
      },
      "source": [
        "### Complementary Products"
      ]
    },
    {
      "cell_type": "code",
      "metadata": {
        "id": "m_nyp0CDtF5G"
      },
      "source": [
        "# w_in\r\n",
        "w_in = model.wv.vectors"
      ],
      "execution_count": 36,
      "outputs": []
    },
    {
      "cell_type": "code",
      "metadata": {
        "id": "0ihWFQk5r1Td"
      },
      "source": [
        "# w_out\r\n",
        "w_out = model.trainables.syn1neg"
      ],
      "execution_count": 37,
      "outputs": []
    },
    {
      "cell_type": "code",
      "metadata": {
        "colab": {
          "base_uri": "https://localhost:8080/"
        },
        "id": "81T8kC8Yt-H1",
        "outputId": "677aeaec-22ef-4855-c8f4-dc686dda0a90"
      },
      "source": [
        "w_in.shape"
      ],
      "execution_count": 62,
      "outputs": [
        {
          "output_type": "execute_result",
          "data": {
            "text/plain": [
              "(250, 100)"
            ]
          },
          "metadata": {
            "tags": []
          },
          "execution_count": 62
        }
      ]
    },
    {
      "cell_type": "code",
      "metadata": {
        "colab": {
          "base_uri": "https://localhost:8080/"
        },
        "id": "MI-SOYS6uhOE",
        "outputId": "0fb241a3-5eb2-4d11-fd85-51370d31672e"
      },
      "source": [
        "np.dot(w_in[0], w_out[0])"
      ],
      "execution_count": 149,
      "outputs": [
        {
          "output_type": "execute_result",
          "data": {
            "text/plain": [
              "-4.4482684"
            ]
          },
          "metadata": {
            "tags": []
          },
          "execution_count": 149
        }
      ]
    },
    {
      "cell_type": "code",
      "metadata": {
        "colab": {
          "base_uri": "https://localhost:8080/"
        },
        "id": "8bvF2L_L2llC",
        "outputId": "79062a04-3fac-4688-a665-9ae3f57efc3a"
      },
      "source": [
        "np.argmax([np.dot(w_in[0], context) for context in w_out])"
      ],
      "execution_count": 151,
      "outputs": [
        {
          "output_type": "execute_result",
          "data": {
            "text/plain": [
              "26"
            ]
          },
          "metadata": {
            "tags": []
          },
          "execution_count": 151
        }
      ]
    },
    {
      "cell_type": "code",
      "metadata": {
        "colab": {
          "base_uri": "https://localhost:8080/"
        },
        "id": "ciLpudxBvo7g",
        "outputId": "8abdb08a-8205-4b69-f7da-bab702fdfdf4"
      },
      "source": [
        "model.wv.most_similar('105')"
      ],
      "execution_count": 119,
      "outputs": [
        {
          "output_type": "execute_result",
          "data": {
            "text/plain": [
              "[('101', 0.7005414962768555),\n",
              " ('106', 0.6427603960037231),\n",
              " ('102', 0.609551191329956),\n",
              " ('100', 0.5820738077163696),\n",
              " ('104', 0.5800763368606567),\n",
              " ('108', 0.5672059655189514),\n",
              " ('107', 0.5526070594787598),\n",
              " ('103', 0.5160101652145386),\n",
              " ('109', 0.4989009499549866),\n",
              " ('9', 0.27175211906433105)]"
            ]
          },
          "metadata": {
            "tags": []
          },
          "execution_count": 119
        }
      ]
    },
    {
      "cell_type": "code",
      "metadata": {
        "colab": {
          "base_uri": "https://localhost:8080/"
        },
        "id": "K_MQ5d6UxN-j",
        "outputId": "fec7aa91-8cdc-4801-992d-a5639750fe21"
      },
      "source": [
        "model.wv.vocab['105'].index"
      ],
      "execution_count": 100,
      "outputs": [
        {
          "output_type": "execute_result",
          "data": {
            "text/plain": [
              "184"
            ]
          },
          "metadata": {
            "tags": []
          },
          "execution_count": 100
        }
      ]
    },
    {
      "cell_type": "code",
      "metadata": {
        "colab": {
          "base_uri": "https://localhost:8080/"
        },
        "id": "ytkaHLO-xtfZ",
        "outputId": "77d74b2e-160a-4e82-fd8b-a240c7888238"
      },
      "source": [
        "model.wv.vocab['138'].index"
      ],
      "execution_count": 141,
      "outputs": [
        {
          "output_type": "execute_result",
          "data": {
            "text/plain": [
              "26"
            ]
          },
          "metadata": {
            "tags": []
          },
          "execution_count": 141
        }
      ]
    },
    {
      "cell_type": "code",
      "metadata": {
        "colab": {
          "base_uri": "https://localhost:8080/",
          "height": 35
        },
        "id": "EZQiM-cCx0tT",
        "outputId": "eb66a14d-163e-46ef-e3c3-10251a2ff837"
      },
      "source": [
        "model.wv.index2word[26]"
      ],
      "execution_count": 154,
      "outputs": [
        {
          "output_type": "execute_result",
          "data": {
            "application/vnd.google.colaboratory.intrinsic+json": {
              "type": "string"
            },
            "text/plain": [
              "'138'"
            ]
          },
          "metadata": {
            "tags": []
          },
          "execution_count": 154
        }
      ]
    },
    {
      "cell_type": "code",
      "metadata": {
        "colab": {
          "base_uri": "https://localhost:8080/"
        },
        "id": "yeIzW5yRzKx6",
        "outputId": "6e305998-ea9f-43a8-9b82-cb8ef0883a57"
      },
      "source": [
        "model.predict_output_word(['3'])"
      ],
      "execution_count": 159,
      "outputs": [
        {
          "output_type": "execute_result",
          "data": {
            "text/plain": [
              "[('197', 0.0145702),\n",
              " ('105', 0.013717879),\n",
              " ('138', 0.013621051),\n",
              " ('66', 0.013052688),\n",
              " ('126', 0.012993875),\n",
              " ('222', 0.012579509),\n",
              " ('86', 0.012446423),\n",
              " ('249', 0.01180606),\n",
              " ('79', 0.011178135),\n",
              " ('48', 0.0104975635)]"
            ]
          },
          "metadata": {
            "tags": []
          },
          "execution_count": 159
        }
      ]
    },
    {
      "cell_type": "markdown",
      "metadata": {
        "id": "tpTEDEJKHe3m"
      },
      "source": [
        "# Set Up Training Table"
      ]
    },
    {
      "cell_type": "code",
      "metadata": {
        "id": "4DYPPoPWh_vm"
      },
      "source": [
        "df1 = pd.DataFrame({'key':np.ones(weeks), 'week':list(range(weeks))})\r\n",
        "df2 = pd.DataFrame({'key':np.ones(shoppers), 'shopper':list(range(shoppers))})\r\n",
        "df3 = pd.DataFrame({'key':np.ones(250), 'product':list(range(250))})\r\n",
        "df4 = full_df_train.copy()\r\n",
        "\r\n",
        "X_train = pd.merge(df1, df2, on='key').merge(df3, on='key').merge(df4, on=['week', 'shopper', 'product'], how='left')[full_df_train.columns]"
      ],
      "execution_count": 37,
      "outputs": []
    },
    {
      "cell_type": "markdown",
      "metadata": {
        "id": "ptZ7ODD00-tS"
      },
      "source": [
        "Combine everything"
      ]
    },
    {
      "cell_type": "code",
      "metadata": {
        "id": "nFrmiWSu094h"
      },
      "source": [
        "X_train = (X_train\r\n",
        "           .merge(prods_cat_table, on=['product'], how='left')\r\n",
        "           .merge(original_price, on=['product'], how='left')\r\n",
        "           .merge(total_count_of_product, on=['shopper', 'product'], how='left')\r\n",
        "           .merge(reordered, on=['shopper', 'product'], how='left')\r\n",
        "           .merge(ratio_of_reordered_per_product, on=['shopper', 'product'], how='left')\r\n",
        "           .merge(ratio_of_reordered_per_shopper, on=['shopper'], how='left')\r\n",
        "           .merge(average_price_per_shopper, on=['shopper'], how='left')\r\n",
        "           .merge(average_basket_size, on=['shopper'], how='left')\r\n",
        "           .merge(unique_products_per_shopper, on=['shopper'], how='left')\r\n",
        "           )"
      ],
      "execution_count": 38,
      "outputs": []
    },
    {
      "cell_type": "code",
      "metadata": {
        "id": "GDiIwUFu1Q6a",
        "colab": {
          "base_uri": "https://localhost:8080/",
          "height": 439
        },
        "outputId": "7e0498b1-e6ab-4431-a3fa-6132df6c95d2"
      },
      "source": [
        "X_train"
      ],
      "execution_count": 39,
      "outputs": [
        {
          "output_type": "execute_result",
          "data": {
            "text/html": [
              "<div>\n",
              "<style scoped>\n",
              "    .dataframe tbody tr th:only-of-type {\n",
              "        vertical-align: middle;\n",
              "    }\n",
              "\n",
              "    .dataframe tbody tr th {\n",
              "        vertical-align: top;\n",
              "    }\n",
              "\n",
              "    .dataframe thead th {\n",
              "        text-align: right;\n",
              "    }\n",
              "</style>\n",
              "<table border=\"1\" class=\"dataframe\">\n",
              "  <thead>\n",
              "    <tr style=\"text-align: right;\">\n",
              "      <th></th>\n",
              "      <th>week</th>\n",
              "      <th>shopper</th>\n",
              "      <th>product</th>\n",
              "      <th>price</th>\n",
              "      <th>target</th>\n",
              "      <th>discount</th>\n",
              "      <th>coupon</th>\n",
              "      <th>category</th>\n",
              "      <th>original_price</th>\n",
              "      <th>total_count_of_product</th>\n",
              "      <th>reordered</th>\n",
              "      <th>ratio_of_reordered_per_product</th>\n",
              "      <th>ratio_of_reordered</th>\n",
              "      <th>average_price_per_shopper</th>\n",
              "      <th>average_basket_size</th>\n",
              "      <th>unique_products_per_shopper</th>\n",
              "    </tr>\n",
              "  </thead>\n",
              "  <tbody>\n",
              "    <tr>\n",
              "      <th>0</th>\n",
              "      <td>0</td>\n",
              "      <td>0</td>\n",
              "      <td>0</td>\n",
              "      <td>NaN</td>\n",
              "      <td>NaN</td>\n",
              "      <td>NaN</td>\n",
              "      <td>NaN</td>\n",
              "      <td>22</td>\n",
              "      <td>688</td>\n",
              "      <td>0</td>\n",
              "      <td>NaN</td>\n",
              "      <td>0.000000</td>\n",
              "      <td>0.722222</td>\n",
              "      <td>587.203947</td>\n",
              "      <td>8.539326</td>\n",
              "      <td>54</td>\n",
              "    </tr>\n",
              "    <tr>\n",
              "      <th>1</th>\n",
              "      <td>0</td>\n",
              "      <td>0</td>\n",
              "      <td>1</td>\n",
              "      <td>NaN</td>\n",
              "      <td>NaN</td>\n",
              "      <td>NaN</td>\n",
              "      <td>NaN</td>\n",
              "      <td>22</td>\n",
              "      <td>560</td>\n",
              "      <td>0</td>\n",
              "      <td>NaN</td>\n",
              "      <td>0.000000</td>\n",
              "      <td>0.722222</td>\n",
              "      <td>587.203947</td>\n",
              "      <td>8.539326</td>\n",
              "      <td>54</td>\n",
              "    </tr>\n",
              "    <tr>\n",
              "      <th>2</th>\n",
              "      <td>0</td>\n",
              "      <td>0</td>\n",
              "      <td>2</td>\n",
              "      <td>NaN</td>\n",
              "      <td>NaN</td>\n",
              "      <td>NaN</td>\n",
              "      <td>NaN</td>\n",
              "      <td>22</td>\n",
              "      <td>773</td>\n",
              "      <td>0</td>\n",
              "      <td>NaN</td>\n",
              "      <td>0.000000</td>\n",
              "      <td>0.722222</td>\n",
              "      <td>587.203947</td>\n",
              "      <td>8.539326</td>\n",
              "      <td>54</td>\n",
              "    </tr>\n",
              "    <tr>\n",
              "      <th>3</th>\n",
              "      <td>0</td>\n",
              "      <td>0</td>\n",
              "      <td>3</td>\n",
              "      <td>NaN</td>\n",
              "      <td>NaN</td>\n",
              "      <td>NaN</td>\n",
              "      <td>NaN</td>\n",
              "      <td>22</td>\n",
              "      <td>722</td>\n",
              "      <td>0</td>\n",
              "      <td>NaN</td>\n",
              "      <td>0.000000</td>\n",
              "      <td>0.722222</td>\n",
              "      <td>587.203947</td>\n",
              "      <td>8.539326</td>\n",
              "      <td>54</td>\n",
              "    </tr>\n",
              "    <tr>\n",
              "      <th>4</th>\n",
              "      <td>0</td>\n",
              "      <td>0</td>\n",
              "      <td>4</td>\n",
              "      <td>NaN</td>\n",
              "      <td>NaN</td>\n",
              "      <td>NaN</td>\n",
              "      <td>NaN</td>\n",
              "      <td>22</td>\n",
              "      <td>620</td>\n",
              "      <td>8</td>\n",
              "      <td>1.0</td>\n",
              "      <td>0.089888</td>\n",
              "      <td>0.722222</td>\n",
              "      <td>587.203947</td>\n",
              "      <td>8.539326</td>\n",
              "      <td>54</td>\n",
              "    </tr>\n",
              "    <tr>\n",
              "      <th>...</th>\n",
              "      <td>...</td>\n",
              "      <td>...</td>\n",
              "      <td>...</td>\n",
              "      <td>...</td>\n",
              "      <td>...</td>\n",
              "      <td>...</td>\n",
              "      <td>...</td>\n",
              "      <td>...</td>\n",
              "      <td>...</td>\n",
              "      <td>...</td>\n",
              "      <td>...</td>\n",
              "      <td>...</td>\n",
              "      <td>...</td>\n",
              "      <td>...</td>\n",
              "      <td>...</td>\n",
              "      <td>...</td>\n",
              "    </tr>\n",
              "    <tr>\n",
              "      <th>2224995</th>\n",
              "      <td>88</td>\n",
              "      <td>99</td>\n",
              "      <td>245</td>\n",
              "      <td>NaN</td>\n",
              "      <td>NaN</td>\n",
              "      <td>NaN</td>\n",
              "      <td>NaN</td>\n",
              "      <td>4</td>\n",
              "      <td>549</td>\n",
              "      <td>0</td>\n",
              "      <td>NaN</td>\n",
              "      <td>0.000000</td>\n",
              "      <td>0.763158</td>\n",
              "      <td>618.717752</td>\n",
              "      <td>8.797753</td>\n",
              "      <td>76</td>\n",
              "    </tr>\n",
              "    <tr>\n",
              "      <th>2224996</th>\n",
              "      <td>88</td>\n",
              "      <td>99</td>\n",
              "      <td>246</td>\n",
              "      <td>NaN</td>\n",
              "      <td>NaN</td>\n",
              "      <td>NaN</td>\n",
              "      <td>NaN</td>\n",
              "      <td>4</td>\n",
              "      <td>702</td>\n",
              "      <td>41</td>\n",
              "      <td>1.0</td>\n",
              "      <td>0.460674</td>\n",
              "      <td>0.763158</td>\n",
              "      <td>618.717752</td>\n",
              "      <td>8.797753</td>\n",
              "      <td>76</td>\n",
              "    </tr>\n",
              "    <tr>\n",
              "      <th>2224997</th>\n",
              "      <td>88</td>\n",
              "      <td>99</td>\n",
              "      <td>247</td>\n",
              "      <td>NaN</td>\n",
              "      <td>NaN</td>\n",
              "      <td>NaN</td>\n",
              "      <td>NaN</td>\n",
              "      <td>4</td>\n",
              "      <td>670</td>\n",
              "      <td>0</td>\n",
              "      <td>NaN</td>\n",
              "      <td>0.000000</td>\n",
              "      <td>0.763158</td>\n",
              "      <td>618.717752</td>\n",
              "      <td>8.797753</td>\n",
              "      <td>76</td>\n",
              "    </tr>\n",
              "    <tr>\n",
              "      <th>2224998</th>\n",
              "      <td>88</td>\n",
              "      <td>99</td>\n",
              "      <td>248</td>\n",
              "      <td>NaN</td>\n",
              "      <td>NaN</td>\n",
              "      <td>NaN</td>\n",
              "      <td>NaN</td>\n",
              "      <td>4</td>\n",
              "      <td>490</td>\n",
              "      <td>0</td>\n",
              "      <td>NaN</td>\n",
              "      <td>0.000000</td>\n",
              "      <td>0.763158</td>\n",
              "      <td>618.717752</td>\n",
              "      <td>8.797753</td>\n",
              "      <td>76</td>\n",
              "    </tr>\n",
              "    <tr>\n",
              "      <th>2224999</th>\n",
              "      <td>88</td>\n",
              "      <td>99</td>\n",
              "      <td>249</td>\n",
              "      <td>NaN</td>\n",
              "      <td>NaN</td>\n",
              "      <td>NaN</td>\n",
              "      <td>NaN</td>\n",
              "      <td>4</td>\n",
              "      <td>499</td>\n",
              "      <td>0</td>\n",
              "      <td>NaN</td>\n",
              "      <td>0.000000</td>\n",
              "      <td>0.763158</td>\n",
              "      <td>618.717752</td>\n",
              "      <td>8.797753</td>\n",
              "      <td>76</td>\n",
              "    </tr>\n",
              "  </tbody>\n",
              "</table>\n",
              "<p>2225000 rows × 16 columns</p>\n",
              "</div>"
            ],
            "text/plain": [
              "         week shopper  ... average_basket_size  unique_products_per_shopper\n",
              "0           0       0  ...            8.539326                           54\n",
              "1           0       0  ...            8.539326                           54\n",
              "2           0       0  ...            8.539326                           54\n",
              "3           0       0  ...            8.539326                           54\n",
              "4           0       0  ...            8.539326                           54\n",
              "...       ...     ...  ...                 ...                          ...\n",
              "2224995    88      99  ...            8.797753                           76\n",
              "2224996    88      99  ...            8.797753                           76\n",
              "2224997    88      99  ...            8.797753                           76\n",
              "2224998    88      99  ...            8.797753                           76\n",
              "2224999    88      99  ...            8.797753                           76\n",
              "\n",
              "[2225000 rows x 16 columns]"
            ]
          },
          "metadata": {
            "tags": []
          },
          "execution_count": 39
        }
      ]
    },
    {
      "cell_type": "code",
      "metadata": {
        "id": "vqmDWJCi1rIu",
        "colab": {
          "base_uri": "https://localhost:8080/"
        },
        "outputId": "0ddeef12-4711-4a5a-bf31-98fcbddffc7c"
      },
      "source": [
        "X_train.isnull().any()"
      ],
      "execution_count": 40,
      "outputs": [
        {
          "output_type": "execute_result",
          "data": {
            "text/plain": [
              "week                              False\n",
              "shopper                           False\n",
              "product                           False\n",
              "price                              True\n",
              "target                             True\n",
              "discount                           True\n",
              "coupon                             True\n",
              "category                          False\n",
              "original_price                    False\n",
              "total_count_of_product            False\n",
              "reordered                          True\n",
              "ratio_of_reordered_per_product    False\n",
              "ratio_of_reordered                False\n",
              "average_price_per_shopper         False\n",
              "average_basket_size               False\n",
              "unique_products_per_shopper       False\n",
              "dtype: bool"
            ]
          },
          "metadata": {
            "tags": []
          },
          "execution_count": 40
        }
      ]
    },
    {
      "cell_type": "code",
      "metadata": {
        "id": "qn633XNg1433"
      },
      "source": [
        "X_train['discount'].fillna(0, inplace=True)\r\n",
        "X_train['price'].fillna(X_train.original_price*(1-X_train.discount), inplace=True)\r\n",
        "X_train['reordered'].fillna(0, inplace=True)\r\n",
        "X_train['coupon'].fillna('No', inplace=True)\r\n",
        "# X_train['weeks_since_prior_order'].fillna(0, inplace=True)\r\n",
        "X_train['target'].fillna(0, inplace=True)"
      ],
      "execution_count": 41,
      "outputs": []
    },
    {
      "cell_type": "code",
      "metadata": {
        "id": "revDtQoM9TZM"
      },
      "source": [
        "addkey = X_train.groupby(['shopper','product']).target.apply(lambda x : x.eq(1).shift().fillna(0).cumsum())\r\n",
        "X_train['weeks_since_prior_order'] = X_train.target.eq(0).groupby([X_train['shopper'], X_train['product'], addkey]).cumcount().add(1) # .cumsum()"
      ],
      "execution_count": 42,
      "outputs": []
    },
    {
      "cell_type": "code",
      "metadata": {
        "colab": {
          "base_uri": "https://localhost:8080/",
          "height": 162
        },
        "id": "rza1aULIKYhH",
        "outputId": "96801635-4510-4226-b93f-1893bdfa3837"
      },
      "source": [
        "X_train.head(3)"
      ],
      "execution_count": 43,
      "outputs": [
        {
          "output_type": "execute_result",
          "data": {
            "text/html": [
              "<div>\n",
              "<style scoped>\n",
              "    .dataframe tbody tr th:only-of-type {\n",
              "        vertical-align: middle;\n",
              "    }\n",
              "\n",
              "    .dataframe tbody tr th {\n",
              "        vertical-align: top;\n",
              "    }\n",
              "\n",
              "    .dataframe thead th {\n",
              "        text-align: right;\n",
              "    }\n",
              "</style>\n",
              "<table border=\"1\" class=\"dataframe\">\n",
              "  <thead>\n",
              "    <tr style=\"text-align: right;\">\n",
              "      <th></th>\n",
              "      <th>week</th>\n",
              "      <th>shopper</th>\n",
              "      <th>product</th>\n",
              "      <th>price</th>\n",
              "      <th>target</th>\n",
              "      <th>discount</th>\n",
              "      <th>coupon</th>\n",
              "      <th>category</th>\n",
              "      <th>original_price</th>\n",
              "      <th>total_count_of_product</th>\n",
              "      <th>reordered</th>\n",
              "      <th>ratio_of_reordered_per_product</th>\n",
              "      <th>ratio_of_reordered</th>\n",
              "      <th>average_price_per_shopper</th>\n",
              "      <th>average_basket_size</th>\n",
              "      <th>unique_products_per_shopper</th>\n",
              "      <th>weeks_since_prior_order</th>\n",
              "    </tr>\n",
              "  </thead>\n",
              "  <tbody>\n",
              "    <tr>\n",
              "      <th>0</th>\n",
              "      <td>0</td>\n",
              "      <td>0</td>\n",
              "      <td>0</td>\n",
              "      <td>688.0</td>\n",
              "      <td>0.0</td>\n",
              "      <td>0.0</td>\n",
              "      <td>No</td>\n",
              "      <td>22</td>\n",
              "      <td>688</td>\n",
              "      <td>0</td>\n",
              "      <td>0.0</td>\n",
              "      <td>0.0</td>\n",
              "      <td>0.722222</td>\n",
              "      <td>587.203947</td>\n",
              "      <td>8.539326</td>\n",
              "      <td>54</td>\n",
              "      <td>1</td>\n",
              "    </tr>\n",
              "    <tr>\n",
              "      <th>1</th>\n",
              "      <td>0</td>\n",
              "      <td>0</td>\n",
              "      <td>1</td>\n",
              "      <td>560.0</td>\n",
              "      <td>0.0</td>\n",
              "      <td>0.0</td>\n",
              "      <td>No</td>\n",
              "      <td>22</td>\n",
              "      <td>560</td>\n",
              "      <td>0</td>\n",
              "      <td>0.0</td>\n",
              "      <td>0.0</td>\n",
              "      <td>0.722222</td>\n",
              "      <td>587.203947</td>\n",
              "      <td>8.539326</td>\n",
              "      <td>54</td>\n",
              "      <td>1</td>\n",
              "    </tr>\n",
              "    <tr>\n",
              "      <th>2</th>\n",
              "      <td>0</td>\n",
              "      <td>0</td>\n",
              "      <td>2</td>\n",
              "      <td>773.0</td>\n",
              "      <td>0.0</td>\n",
              "      <td>0.0</td>\n",
              "      <td>No</td>\n",
              "      <td>22</td>\n",
              "      <td>773</td>\n",
              "      <td>0</td>\n",
              "      <td>0.0</td>\n",
              "      <td>0.0</td>\n",
              "      <td>0.722222</td>\n",
              "      <td>587.203947</td>\n",
              "      <td>8.539326</td>\n",
              "      <td>54</td>\n",
              "      <td>1</td>\n",
              "    </tr>\n",
              "  </tbody>\n",
              "</table>\n",
              "</div>"
            ],
            "text/plain": [
              "   week shopper  ... unique_products_per_shopper  weeks_since_prior_order\n",
              "0     0       0  ...                          54                        1\n",
              "1     0       0  ...                          54                        1\n",
              "2     0       0  ...                          54                        1\n",
              "\n",
              "[3 rows x 17 columns]"
            ]
          },
          "metadata": {
            "tags": []
          },
          "execution_count": 43
        }
      ]
    },
    {
      "cell_type": "code",
      "metadata": {
        "id": "H7WgNBP1MWMl"
      },
      "source": [
        "# X_train.loc[(X_train['shopper']==0) & (X_train['product']==116)][['week', 'weeks_since_prior_order', 'target']][:50]"
      ],
      "execution_count": 44,
      "outputs": []
    },
    {
      "cell_type": "code",
      "metadata": {
        "id": "HpLTLpYsNK2b"
      },
      "source": [
        "X_train.drop('week', inplace=True, axis=1)"
      ],
      "execution_count": 45,
      "outputs": []
    },
    {
      "cell_type": "code",
      "metadata": {
        "id": "JusYjKDMM4uJ"
      },
      "source": [
        "y_train = X_train.pop('target')"
      ],
      "execution_count": 46,
      "outputs": []
    },
    {
      "cell_type": "markdown",
      "metadata": {
        "id": "axqHOE9eFziV"
      },
      "source": [
        "# Set Up Test Table"
      ]
    },
    {
      "cell_type": "code",
      "metadata": {
        "id": "FT6UARG-F1M1"
      },
      "source": [
        "full_df_test = (baskets_test\r\n",
        "           .merge(\r\n",
        "               coupons_test, \r\n",
        "               on=['week', 'shopper', 'product'], \r\n",
        "               how='outer',\r\n",
        "               indicator=True\r\n",
        "           )\r\n",
        "           .sort_values(by=['week', 'shopper', 'product'])\r\n",
        "           .reset_index(drop=True)\r\n",
        "          #  .replace(['left_only', 'right_only', 'both'], ['RRP', 'coupon', 'discounted'])\r\n",
        "          .replace(['left_only', 'right_only', 'both'], ['No', 'Yes', 'Yes'])\r\n",
        "          .rename(columns={'_merge': 'coupon'})\r\n",
        ")\r\n",
        "\r\n",
        "full_df_test.loc[full_df_test['discount'].isna(),'discount' ] = 0"
      ],
      "execution_count": 47,
      "outputs": []
    },
    {
      "cell_type": "code",
      "metadata": {
        "id": "0798jjAoGYBX"
      },
      "source": [
        "df1 = pd.DataFrame({'key': np.ones(len(baskets_test.week.unique())), 'week': baskets_test.week.unique()})\r\n",
        "df2 = pd.DataFrame({'key': np.ones(shoppers), 'shopper': list(range(shoppers))})\r\n",
        "df3 = pd.DataFrame({'key': np.ones(250), 'product': list(range(250))})\r\n",
        "df4 = full_df_test.copy()\r\n",
        "\r\n",
        "X_test = pd.merge(df1, df2, on='key').merge(df3, on='key').merge(df4, on=['week', 'shopper', 'product'], how='left')[full_df_test.columns]"
      ],
      "execution_count": 48,
      "outputs": []
    },
    {
      "cell_type": "code",
      "metadata": {
        "id": "8NGu4gbdHRX0"
      },
      "source": [
        "X_test = (X_test\r\n",
        "          .merge(prods_cat_table, on=['product'], how='left')\r\n",
        "          .merge(original_price, on=['product'], how='left')\r\n",
        "          .merge(total_count_of_product, on=['shopper', 'product'], how='left')\r\n",
        "          .merge(reordered, on=['shopper', 'product'], how='left')\r\n",
        "          .merge(ratio_of_reordered_per_product, on=['shopper', 'product'], how='left')\r\n",
        "          .merge(ratio_of_reordered_per_shopper, on=['shopper'], how='left')\r\n",
        "          .merge(average_price_per_shopper, on=['shopper'], how='left')\r\n",
        "          .merge(average_basket_size, on=['shopper'], how='left')\r\n",
        "          .merge(unique_products_per_shopper, on=['shopper'], how='left')\r\n",
        ")"
      ],
      "execution_count": 49,
      "outputs": []
    },
    {
      "cell_type": "code",
      "metadata": {
        "id": "rOrIgnqAHW2E"
      },
      "source": [
        "X_test['discount'].fillna(0, inplace=True)\r\n",
        "X_test['price'].fillna(X_test.original_price*(1-X_test.discount), inplace=True)\r\n",
        "X_test['reordered'].fillna(0, inplace=True)\r\n",
        "X_test['coupon'].fillna('No', inplace=True)\r\n",
        "# X_train['weeks_since_prior_order'].fillna(0, inplace=True)\r\n",
        "X_test['target'].fillna(0, inplace=True)"
      ],
      "execution_count": 50,
      "outputs": []
    },
    {
      "cell_type": "code",
      "metadata": {
        "id": "gSwbUr6iqM6K"
      },
      "source": [
        "last_weeks_since_prior_order = X_train.groupby(['shopper', 'product']).weeks_since_prior_order.last() + 1"
      ],
      "execution_count": 51,
      "outputs": []
    },
    {
      "cell_type": "code",
      "metadata": {
        "id": "LmUFkG9LHdBU"
      },
      "source": [
        "X_test = X_test.merge(last_weeks_since_prior_order, on=['shopper', 'product'])"
      ],
      "execution_count": 52,
      "outputs": []
    },
    {
      "cell_type": "code",
      "metadata": {
        "id": "esJU5lH5Hfrw"
      },
      "source": [
        "X_test.drop('week', inplace=True, axis=1)"
      ],
      "execution_count": 53,
      "outputs": []
    },
    {
      "cell_type": "code",
      "metadata": {
        "id": "btpSR8UrHiGK"
      },
      "source": [
        "y_test = X_test.pop('target')"
      ],
      "execution_count": 54,
      "outputs": []
    },
    {
      "cell_type": "markdown",
      "metadata": {
        "id": "IpTCdVohNBfe"
      },
      "source": [
        "# One-Hot Encoding Products"
      ]
    },
    {
      "cell_type": "code",
      "metadata": {
        "id": "YPQYX7XsNFkc"
      },
      "source": [
        "# from sklearn.preprocessing import OneHotEncoder"
      ],
      "execution_count": 55,
      "outputs": []
    },
    {
      "cell_type": "code",
      "metadata": {
        "id": "JEu6IUrcNYUF"
      },
      "source": [
        "# enc = OneHotEncoder(sparse=False)\r\n",
        "\r\n",
        "# encodings = X_train.select_dtypes(exclude=np.number).columns.tolist()\r\n",
        "# # encoded = pd.DataFrame.sparse.from_spmatrix(enc.fit_transform(X_train[encodings]))\r\n",
        "# encoded = pd.DataFrame(enc.fit_transform(X_train[encodings]))\r\n",
        "# encoded.columns = enc.get_feature_names(encodings)\r\n",
        "\r\n",
        "# X_train = pd.concat([X_train, encoded], axis=1).drop(encodings, axis=1)"
      ],
      "execution_count": 56,
      "outputs": []
    },
    {
      "cell_type": "code",
      "metadata": {
        "id": "VM3cp8lUN-hl"
      },
      "source": [
        "# X_train = X_train.apply(pd.to_numeric)"
      ],
      "execution_count": 57,
      "outputs": []
    },
    {
      "cell_type": "code",
      "metadata": {
        "id": "AhQxYvU8-7bh"
      },
      "source": [
        "# X_train.head(3)"
      ],
      "execution_count": 58,
      "outputs": []
    },
    {
      "cell_type": "markdown",
      "metadata": {
        "id": "YJru_84FBBkL"
      },
      "source": [
        "# Training"
      ]
    },
    {
      "cell_type": "code",
      "metadata": {
        "id": "OZzYldzn82cy"
      },
      "source": [
        "import lightgbm as lgb\r\n",
        "from lightgbm.sklearn import LGBMClassifier"
      ],
      "execution_count": 59,
      "outputs": []
    },
    {
      "cell_type": "code",
      "metadata": {
        "id": "wdA8Ksti88PQ"
      },
      "source": [
        "from collections import Counter\r\n",
        "\r\n",
        "# count examples in each class\r\n",
        "counter = Counter(y_train)\r\n",
        "# estimate scale_pos_weight value\r\n",
        "estimate = counter[0] / counter[1]\r\n",
        "\r\n",
        "lgb_clf = LGBMClassifier(\r\n",
        "    scale_pos_weight=1 #estimate\r\n",
        "    )"
      ],
      "execution_count": 60,
      "outputs": []
    },
    {
      "cell_type": "code",
      "metadata": {
        "id": "tSs4AVy4EoNX"
      },
      "source": [
        "categorical = X_train.select_dtypes(exclude=np.number).columns.tolist()\r\n",
        "for cats in categorical:\r\n",
        "  X_train[cats] = X_train[cats].astype('category')\r\n",
        "  X_test[cats] = X_test[cats].astype('category')"
      ],
      "execution_count": 61,
      "outputs": []
    },
    {
      "cell_type": "code",
      "metadata": {
        "colab": {
          "base_uri": "https://localhost:8080/"
        },
        "id": "6JpsBYe96hEK",
        "outputId": "3d25b338-1488-45d3-a204-058fa8b745e1"
      },
      "source": [
        "lgb_clf.fit(X_train, y_train, categorical_feature=categorical)"
      ],
      "execution_count": 62,
      "outputs": [
        {
          "output_type": "stream",
          "text": [
            "/usr/local/lib/python3.7/dist-packages/lightgbm/basic.py:1209: UserWarning: categorical_feature in Dataset is overridden.\n",
            "New categorical_feature is ['category', 'coupon', 'product', 'shopper']\n",
            "  'New categorical_feature is {}'.format(sorted(list(categorical_feature))))\n"
          ],
          "name": "stderr"
        },
        {
          "output_type": "execute_result",
          "data": {
            "text/plain": [
              "LGBMClassifier(boosting_type='gbdt', class_weight=None, colsample_bytree=1.0,\n",
              "               importance_type='split', learning_rate=0.1, max_depth=-1,\n",
              "               min_child_samples=20, min_child_weight=0.001, min_split_gain=0.0,\n",
              "               n_estimators=100, n_jobs=-1, num_leaves=31, objective=None,\n",
              "               random_state=None, reg_alpha=0.0, reg_lambda=0.0,\n",
              "               scale_pos_weight=1, silent=True, subsample=1.0,\n",
              "               subsample_for_bin=200000, subsample_freq=0)"
            ]
          },
          "metadata": {
            "tags": []
          },
          "execution_count": 62
        }
      ]
    },
    {
      "cell_type": "code",
      "metadata": {
        "colab": {
          "base_uri": "https://localhost:8080/"
        },
        "id": "ww-I5suLK2ky",
        "outputId": "e701b772-defb-4024-c4a5-f95e872c4f9c"
      },
      "source": [
        "lgb_clf.score(X_train, y_train)"
      ],
      "execution_count": 63,
      "outputs": [
        {
          "output_type": "execute_result",
          "data": {
            "text/plain": [
              "0.973530786516854"
            ]
          },
          "metadata": {
            "tags": []
          },
          "execution_count": 63
        }
      ]
    },
    {
      "cell_type": "code",
      "metadata": {
        "colab": {
          "base_uri": "https://localhost:8080/"
        },
        "id": "y8Ed3Njd_rAs",
        "outputId": "17b096f5-d76e-46a4-b4ac-a1a4ab692c26"
      },
      "source": [
        "lgb_clf.score(X_test, y_test)"
      ],
      "execution_count": 64,
      "outputs": [
        {
          "output_type": "execute_result",
          "data": {
            "text/plain": [
              "0.97188"
            ]
          },
          "metadata": {
            "tags": []
          },
          "execution_count": 64
        }
      ]
    },
    {
      "cell_type": "markdown",
      "metadata": {
        "id": "8gNl_D1m_MGG"
      },
      "source": [
        "## Evaluation"
      ]
    },
    {
      "cell_type": "code",
      "metadata": {
        "colab": {
          "base_uri": "https://localhost:8080/",
          "height": 312
        },
        "id": "r73rkPIYFn1I",
        "outputId": "57ea4714-4db6-47c9-f620-76ef381506d3"
      },
      "source": [
        "lgb.plot_importance(lgb_clf, max_num_features=10)"
      ],
      "execution_count": 65,
      "outputs": [
        {
          "output_type": "execute_result",
          "data": {
            "text/plain": [
              "<matplotlib.axes._subplots.AxesSubplot at 0x7fb76db36a90>"
            ]
          },
          "metadata": {
            "tags": []
          },
          "execution_count": 65
        },
        {
          "output_type": "display_data",
          "data": {
            "image/png": "[encoded data removed]",
            "text/plain": [
              "<Figure size 432x288 with 1 Axes>"
            ]
          },
          "metadata": {
            "tags": [],
            "needs_background": "light"
          }
        }
      ]
    },
    {
      "cell_type": "code",
      "metadata": {
        "colab": {
          "base_uri": "https://localhost:8080/",
          "height": 312
        },
        "id": "FYfDwpA4JLeQ",
        "outputId": "6c5674df-85c7-4689-e368-5c9b3d256ddf"
      },
      "source": [
        "lgb.plot_importance(lgb_clf, max_num_features=10, importance_type='gain')"
      ],
      "execution_count": 66,
      "outputs": [
        {
          "output_type": "execute_result",
          "data": {
            "text/plain": [
              "<matplotlib.axes._subplots.AxesSubplot at 0x7fb3cdd8b0d0>"
            ]
          },
          "metadata": {
            "tags": []
          },
          "execution_count": 66
        },
        {
          "output_type": "display_data",
          "data": {
            "image/png": "[encoded data removed]",
            "text/plain": [
              "<Figure size 432x288 with 1 Axes>"
            ]
          },
          "metadata": {
            "tags": [],
            "needs_background": "light"
          }
        }
      ]
    },
    {
      "cell_type": "code",
      "metadata": {
        "colab": {
          "base_uri": "https://localhost:8080/",
          "height": 296
        },
        "id": "3OJJnMzMLY_w",
        "outputId": "e92a3d80-b0d4-4cf9-8944-95c692df7f53"
      },
      "source": [
        "from sklearn.metrics import plot_roc_curve\r\n",
        "plot_roc_curve(estimator=lgb_clf, X=X_test, y=y_test)"
      ],
      "execution_count": 67,
      "outputs": [
        {
          "output_type": "execute_result",
          "data": {
            "text/plain": [
              "<sklearn.metrics._plot.roc_curve.RocCurveDisplay at 0x7fb3dcfdb590>"
            ]
          },
          "metadata": {
            "tags": []
          },
          "execution_count": 67
        },
        {
          "output_type": "display_data",
          "data": {
            "image/png": "[encoded data removed]",
            "text/plain": [
              "<Figure size 432x288 with 1 Axes>"
            ]
          },
          "metadata": {
            "tags": [],
            "needs_background": "light"
          }
        }
      ]
    },
    {
      "cell_type": "code",
      "metadata": {
        "colab": {
          "base_uri": "https://localhost:8080/",
          "height": 296
        },
        "id": "wDJ2A_hGVtlu",
        "outputId": "5f712580-3ee1-43bf-85fb-42a1181ce74e"
      },
      "source": [
        "from sklearn.metrics import plot_confusion_matrix\r\n",
        "from sklearn.metrics import confusion_matrix\r\n",
        "\r\n",
        "y_pred = lgb_clf.predict(X_test)\r\n",
        "confusion = confusion_matrix(y_test, y_pred)\r\n",
        "plot_confusion_matrix(estimator=lgb_clf, X=X_test, y_true=y_test, display_labels=['No', 'Yes'], normalize='true')"
      ],
      "execution_count": 68,
      "outputs": [
        {
          "output_type": "execute_result",
          "data": {
            "text/plain": [
              "<sklearn.metrics._plot.confusion_matrix.ConfusionMatrixDisplay at 0x7fb3cdc7c250>"
            ]
          },
          "metadata": {
            "tags": []
          },
          "execution_count": 68
        },
        {
          "output_type": "display_data",
          "data": {
            "image/png": "[encoded data removed]",
            "text/plain": [
              "<Figure size 432x288 with 2 Axes>"
            ]
          },
          "metadata": {
            "tags": [],
            "needs_background": "light"
          }
        }
      ]
    },
    {
      "cell_type": "code",
      "metadata": {
        "colab": {
          "base_uri": "https://localhost:8080/"
        },
        "id": "cYUx-LeHWd2O",
        "outputId": "4eac8bb6-ff0d-4223-d585-e3357e105b57"
      },
      "source": [
        "confusion"
      ],
      "execution_count": 69,
      "outputs": [
        {
          "output_type": "execute_result",
          "data": {
            "text/plain": [
              "array([[24114,   167],\n",
              "       [  536,   183]])"
            ]
          },
          "metadata": {
            "tags": []
          },
          "execution_count": 69
        }
      ]
    },
    {
      "cell_type": "code",
      "metadata": {
        "id": "XkJPcocOYQSs"
      },
      "source": [
        "FP = confusion[0][1]\r\n",
        "FN = confusion[1][0]\r\n",
        "TP = confusion[1][1]\r\n",
        "TN = confusion[0][0]\r\n",
        "\r\n",
        "# Sensitivity, hit rate, recall, or true positive rate\r\n",
        "TPR = TP/(TP+FN)\r\n",
        "# Specificity or true negative rate\r\n",
        "TNR = TN/(TN+FP) \r\n",
        "# Negative predictive value\r\n",
        "NPV = TN/(TN+FN)\r\n",
        "# Fall out or false positive rate\r\n",
        "FPR = FP/(FP+TN)\r\n",
        "# False negative rate\r\n",
        "FNR = FN/(TP+FN)\r\n",
        "# Precision\r\n",
        "PPV = TP/(TP+FP)\r\n",
        "# False discovery rate -> 1-Precision\r\n",
        "FDR = FP/(TP+FP)\r\n",
        "\r\n",
        "# Overall accuracy\r\n",
        "ACC = (TP+TN)/(TP+FP+FN+TN)"
      ],
      "execution_count": 70,
      "outputs": []
    },
    {
      "cell_type": "code",
      "metadata": {
        "colab": {
          "base_uri": "https://localhost:8080/"
        },
        "id": "gQhj4F3vZ8XE",
        "outputId": "9a72f525-17f2-42be-b5fa-0541b728ad1d"
      },
      "source": [
        "print(f'TPR: {TPR:.4f}')\r\n",
        "print(f'TNR: {TNR:.4f}')\r\n",
        "print(f'FPR: {FPR:.4f}')\r\n",
        "print(f'FNR: {FNR:.4f}')\r\n",
        "print(f'Precision: {PPV:.4f}')\r\n",
        "print(f'False discovery rate: {FDR:.4f}')"
      ],
      "execution_count": 71,
      "outputs": [
        {
          "output_type": "stream",
          "text": [
            "TPR: 0.2545\n",
            "TNR: 0.9931\n",
            "FPR: 0.0069\n",
            "FNR: 0.7455\n",
            "Precision: 0.5229\n",
            "False discovery rate: 0.4771\n"
          ],
          "name": "stdout"
        }
      ]
    },
    {
      "cell_type": "markdown",
      "metadata": {
        "id": "O9KJTyQQHf2P"
      },
      "source": [
        "### Old weeks_prior\r\n",
        "shoppers = 100\r\n",
        "\r\n",
        "**scale pos weight=1:**\r\n",
        "\r\n",
        "TPR: 0.0459\r\n",
        "\r\n",
        "TNR: 1.0000\r\n",
        "\r\n",
        "FPR: 0.0000\r\n",
        "\r\n",
        "FNR: 0.9541\r\n",
        "\r\n",
        "Precision: 1.0000\r\n",
        "\r\n",
        "False discovery rate: 0.0000\r\n",
        "\r\n",
        "\r\n",
        "**scale pos weight=estimate:**\r\n",
        "\r\n",
        "TPR: 0.9318\r\n",
        "\r\n",
        "TNR: 0.8589\r\n",
        "\r\n",
        "FPR: 0.1411\r\n",
        "\r\n",
        "FNR: 0.0682\r\n",
        "\r\n",
        "Precision: 0.1636\r\n",
        "\r\n",
        "False discovery rate: 0.8364"
      ]
    },
    {
      "cell_type": "markdown",
      "metadata": {
        "id": "6ya0MdCKryGI"
      },
      "source": [
        "### New weeks_prior\r\n",
        "\r\n",
        "shoppers = 100\r\n",
        "\r\n",
        "**scale pos weight=1:**\r\n",
        "\r\n",
        "TPR: 0.2559\r\n",
        "\r\n",
        "TNR: 0.9930\r\n",
        "\r\n",
        "FPR: 0.0070\r\n",
        "\r\n",
        "FNR: 0.7441\r\n",
        "\r\n",
        "Precision: 0.5183\r\n",
        "\r\n",
        "False discovery rate: 0.4817\r\n",
        "\r\n",
        "\r\n",
        "**scale pos weight=estimate:**\r\n",
        "\r\n",
        "TPR: 0.9318\r\n",
        "\r\n",
        "TNR: 0.8563\r\n",
        "\r\n",
        "FPR: 0.1437\r\n",
        "\r\n",
        "FNR: 0.0682\r\n",
        "\r\n",
        "Precision: 0.1611\r\n",
        "\r\n",
        "False discovery rate: 0.8389"
      ]
    },
    {
      "cell_type": "markdown",
      "metadata": {
        "id": "6wfrfIg6_PBa"
      },
      "source": [
        "## evaluating specific examples"
      ]
    },
    {
      "cell_type": "code",
      "metadata": {
        "colab": {
          "base_uri": "https://localhost:8080/",
          "height": 419
        },
        "id": "m4ELOXB_3H0B",
        "outputId": "5559ff1a-d3b3-47ad-fc71-685bdbd30ec9"
      },
      "source": [
        "pd.DataFrame(lgb_clf.predict_proba(X_test))"
      ],
      "execution_count": 72,
      "outputs": [
        {
          "output_type": "execute_result",
          "data": {
            "text/html": [
              "<div>\n",
              "<style scoped>\n",
              "    .dataframe tbody tr th:only-of-type {\n",
              "        vertical-align: middle;\n",
              "    }\n",
              "\n",
              "    .dataframe tbody tr th {\n",
              "        vertical-align: top;\n",
              "    }\n",
              "\n",
              "    .dataframe thead th {\n",
              "        text-align: right;\n",
              "    }\n",
              "</style>\n",
              "<table border=\"1\" class=\"dataframe\">\n",
              "  <thead>\n",
              "    <tr style=\"text-align: right;\">\n",
              "      <th></th>\n",
              "      <th>0</th>\n",
              "      <th>1</th>\n",
              "    </tr>\n",
              "  </thead>\n",
              "  <tbody>\n",
              "    <tr>\n",
              "      <th>0</th>\n",
              "      <td>0.999999</td>\n",
              "      <td>0.000001</td>\n",
              "    </tr>\n",
              "    <tr>\n",
              "      <th>1</th>\n",
              "      <td>0.999999</td>\n",
              "      <td>0.000001</td>\n",
              "    </tr>\n",
              "    <tr>\n",
              "      <th>2</th>\n",
              "      <td>0.999999</td>\n",
              "      <td>0.000001</td>\n",
              "    </tr>\n",
              "    <tr>\n",
              "      <th>3</th>\n",
              "      <td>0.999999</td>\n",
              "      <td>0.000001</td>\n",
              "    </tr>\n",
              "    <tr>\n",
              "      <th>4</th>\n",
              "      <td>0.906562</td>\n",
              "      <td>0.093438</td>\n",
              "    </tr>\n",
              "    <tr>\n",
              "      <th>...</th>\n",
              "      <td>...</td>\n",
              "      <td>...</td>\n",
              "    </tr>\n",
              "    <tr>\n",
              "      <th>24995</th>\n",
              "      <td>0.999999</td>\n",
              "      <td>0.000001</td>\n",
              "    </tr>\n",
              "    <tr>\n",
              "      <th>24996</th>\n",
              "      <td>0.509650</td>\n",
              "      <td>0.490350</td>\n",
              "    </tr>\n",
              "    <tr>\n",
              "      <th>24997</th>\n",
              "      <td>0.999999</td>\n",
              "      <td>0.000001</td>\n",
              "    </tr>\n",
              "    <tr>\n",
              "      <th>24998</th>\n",
              "      <td>0.999999</td>\n",
              "      <td>0.000001</td>\n",
              "    </tr>\n",
              "    <tr>\n",
              "      <th>24999</th>\n",
              "      <td>0.999999</td>\n",
              "      <td>0.000001</td>\n",
              "    </tr>\n",
              "  </tbody>\n",
              "</table>\n",
              "<p>25000 rows × 2 columns</p>\n",
              "</div>"
            ],
            "text/plain": [
              "              0         1\n",
              "0      0.999999  0.000001\n",
              "1      0.999999  0.000001\n",
              "2      0.999999  0.000001\n",
              "3      0.999999  0.000001\n",
              "4      0.906562  0.093438\n",
              "...         ...       ...\n",
              "24995  0.999999  0.000001\n",
              "24996  0.509650  0.490350\n",
              "24997  0.999999  0.000001\n",
              "24998  0.999999  0.000001\n",
              "24999  0.999999  0.000001\n",
              "\n",
              "[25000 rows x 2 columns]"
            ]
          },
          "metadata": {
            "tags": []
          },
          "execution_count": 72
        }
      ]
    },
    {
      "cell_type": "code",
      "metadata": {
        "id": "1pL4w-bH3tom"
      },
      "source": [
        "pred_frame = pd.concat((X_test, y_test, pd.DataFrame(lgb_clf.predict_proba(X_test))[1]), axis=1)[['shopper', 'product', 'target', 'weeks_since_prior_order', 1]]"
      ],
      "execution_count": 73,
      "outputs": []
    },
    {
      "cell_type": "code",
      "metadata": {
        "colab": {
          "base_uri": "https://localhost:8080/",
          "height": 359
        },
        "id": "2-O21JfT4NBI",
        "outputId": "cc1d14a1-5aaf-4cba-bb5e-62089df3ac8a"
      },
      "source": [
        "pred_frame.tail(10)"
      ],
      "execution_count": 74,
      "outputs": [
        {
          "output_type": "execute_result",
          "data": {
            "text/html": [
              "<div>\n",
              "<style scoped>\n",
              "    .dataframe tbody tr th:only-of-type {\n",
              "        vertical-align: middle;\n",
              "    }\n",
              "\n",
              "    .dataframe tbody tr th {\n",
              "        vertical-align: top;\n",
              "    }\n",
              "\n",
              "    .dataframe thead th {\n",
              "        text-align: right;\n",
              "    }\n",
              "</style>\n",
              "<table border=\"1\" class=\"dataframe\">\n",
              "  <thead>\n",
              "    <tr style=\"text-align: right;\">\n",
              "      <th></th>\n",
              "      <th>shopper</th>\n",
              "      <th>product</th>\n",
              "      <th>target</th>\n",
              "      <th>weeks_since_prior_order</th>\n",
              "      <th>1</th>\n",
              "    </tr>\n",
              "  </thead>\n",
              "  <tbody>\n",
              "    <tr>\n",
              "      <th>24990</th>\n",
              "      <td>99</td>\n",
              "      <td>240</td>\n",
              "      <td>0.0</td>\n",
              "      <td>90</td>\n",
              "      <td>0.000001</td>\n",
              "    </tr>\n",
              "    <tr>\n",
              "      <th>24991</th>\n",
              "      <td>99</td>\n",
              "      <td>241</td>\n",
              "      <td>0.0</td>\n",
              "      <td>90</td>\n",
              "      <td>0.000001</td>\n",
              "    </tr>\n",
              "    <tr>\n",
              "      <th>24992</th>\n",
              "      <td>99</td>\n",
              "      <td>242</td>\n",
              "      <td>0.0</td>\n",
              "      <td>44</td>\n",
              "      <td>0.012210</td>\n",
              "    </tr>\n",
              "    <tr>\n",
              "      <th>24993</th>\n",
              "      <td>99</td>\n",
              "      <td>243</td>\n",
              "      <td>0.0</td>\n",
              "      <td>90</td>\n",
              "      <td>0.000001</td>\n",
              "    </tr>\n",
              "    <tr>\n",
              "      <th>24994</th>\n",
              "      <td>99</td>\n",
              "      <td>244</td>\n",
              "      <td>0.0</td>\n",
              "      <td>90</td>\n",
              "      <td>0.000001</td>\n",
              "    </tr>\n",
              "    <tr>\n",
              "      <th>24995</th>\n",
              "      <td>99</td>\n",
              "      <td>245</td>\n",
              "      <td>0.0</td>\n",
              "      <td>90</td>\n",
              "      <td>0.000001</td>\n",
              "    </tr>\n",
              "    <tr>\n",
              "      <th>24996</th>\n",
              "      <td>99</td>\n",
              "      <td>246</td>\n",
              "      <td>1.0</td>\n",
              "      <td>12</td>\n",
              "      <td>0.490350</td>\n",
              "    </tr>\n",
              "    <tr>\n",
              "      <th>24997</th>\n",
              "      <td>99</td>\n",
              "      <td>247</td>\n",
              "      <td>0.0</td>\n",
              "      <td>90</td>\n",
              "      <td>0.000001</td>\n",
              "    </tr>\n",
              "    <tr>\n",
              "      <th>24998</th>\n",
              "      <td>99</td>\n",
              "      <td>248</td>\n",
              "      <td>0.0</td>\n",
              "      <td>90</td>\n",
              "      <td>0.000001</td>\n",
              "    </tr>\n",
              "    <tr>\n",
              "      <th>24999</th>\n",
              "      <td>99</td>\n",
              "      <td>249</td>\n",
              "      <td>0.0</td>\n",
              "      <td>90</td>\n",
              "      <td>0.000001</td>\n",
              "    </tr>\n",
              "  </tbody>\n",
              "</table>\n",
              "</div>"
            ],
            "text/plain": [
              "      shopper product  target  weeks_since_prior_order         1\n",
              "24990      99     240     0.0                       90  0.000001\n",
              "24991      99     241     0.0                       90  0.000001\n",
              "24992      99     242     0.0                       44  0.012210\n",
              "24993      99     243     0.0                       90  0.000001\n",
              "24994      99     244     0.0                       90  0.000001\n",
              "24995      99     245     0.0                       90  0.000001\n",
              "24996      99     246     1.0                       12  0.490350\n",
              "24997      99     247     0.0                       90  0.000001\n",
              "24998      99     248     0.0                       90  0.000001\n",
              "24999      99     249     0.0                       90  0.000001"
            ]
          },
          "metadata": {
            "tags": []
          },
          "execution_count": 74
        }
      ]
    },
    {
      "cell_type": "code",
      "metadata": {
        "colab": {
          "base_uri": "https://localhost:8080/",
          "height": 80
        },
        "id": "TIEHqpCI5TwW",
        "outputId": "f4b65d89-0a73-4dc5-b46d-2a536d2f52bf"
      },
      "source": [
        "pred_frame.loc[(pred_frame['shopper']==0) & (pred_frame['product']==4)]"
      ],
      "execution_count": 75,
      "outputs": [
        {
          "output_type": "execute_result",
          "data": {
            "text/html": [
              "<div>\n",
              "<style scoped>\n",
              "    .dataframe tbody tr th:only-of-type {\n",
              "        vertical-align: middle;\n",
              "    }\n",
              "\n",
              "    .dataframe tbody tr th {\n",
              "        vertical-align: top;\n",
              "    }\n",
              "\n",
              "    .dataframe thead th {\n",
              "        text-align: right;\n",
              "    }\n",
              "</style>\n",
              "<table border=\"1\" class=\"dataframe\">\n",
              "  <thead>\n",
              "    <tr style=\"text-align: right;\">\n",
              "      <th></th>\n",
              "      <th>shopper</th>\n",
              "      <th>product</th>\n",
              "      <th>target</th>\n",
              "      <th>weeks_since_prior_order</th>\n",
              "      <th>1</th>\n",
              "    </tr>\n",
              "  </thead>\n",
              "  <tbody>\n",
              "    <tr>\n",
              "      <th>4</th>\n",
              "      <td>0</td>\n",
              "      <td>4</td>\n",
              "      <td>0.0</td>\n",
              "      <td>19</td>\n",
              "      <td>0.093438</td>\n",
              "    </tr>\n",
              "  </tbody>\n",
              "</table>\n",
              "</div>"
            ],
            "text/plain": [
              "  shopper product  target  weeks_since_prior_order         1\n",
              "4       0       4     0.0                       19  0.093438"
            ]
          },
          "metadata": {
            "tags": []
          },
          "execution_count": 75
        }
      ]
    },
    {
      "cell_type": "code",
      "metadata": {
        "colab": {
          "base_uri": "https://localhost:8080/",
          "height": 49
        },
        "id": "KlhSf6rl5iUK",
        "outputId": "34e79c0f-60b2-4e0c-cccb-910b5d24baf9"
      },
      "source": [
        "baskets_train.loc[\r\n",
        "            (baskets_train['shopper']==0) \r\n",
        "            & (baskets_train['product']==7)\r\n",
        "            & (baskets_train['target']==1)\r\n",
        "]"
      ],
      "execution_count": 76,
      "outputs": [
        {
          "output_type": "execute_result",
          "data": {
            "text/html": [
              "<div>\n",
              "<style scoped>\n",
              "    .dataframe tbody tr th:only-of-type {\n",
              "        vertical-align: middle;\n",
              "    }\n",
              "\n",
              "    .dataframe tbody tr th {\n",
              "        vertical-align: top;\n",
              "    }\n",
              "\n",
              "    .dataframe thead th {\n",
              "        text-align: right;\n",
              "    }\n",
              "</style>\n",
              "<table border=\"1\" class=\"dataframe\">\n",
              "  <thead>\n",
              "    <tr style=\"text-align: right;\">\n",
              "      <th></th>\n",
              "      <th>week</th>\n",
              "      <th>shopper</th>\n",
              "      <th>product</th>\n",
              "      <th>price</th>\n",
              "      <th>target</th>\n",
              "    </tr>\n",
              "  </thead>\n",
              "  <tbody>\n",
              "  </tbody>\n",
              "</table>\n",
              "</div>"
            ],
            "text/plain": [
              "Empty DataFrame\n",
              "Columns: [week, shopper, product, price, target]\n",
              "Index: []"
            ]
          },
          "metadata": {
            "tags": []
          },
          "execution_count": 76
        }
      ]
    },
    {
      "cell_type": "code",
      "metadata": {
        "id": "ddIF5g-D_Soy"
      },
      "source": [
        "from sklearn.inspection import plot_partial_dependence\r\n",
        "\r\n",
        "# plot_partial_dependence(estimator=lgb_clf, X=X_test, features=['weeks_since_prior_order', 'discount'])"
      ],
      "execution_count": 77,
      "outputs": []
    },
    {
      "cell_type": "markdown",
      "metadata": {
        "id": "B73KLlk4HqzH"
      },
      "source": [
        "# Hypertuning"
      ]
    },
    {
      "cell_type": "code",
      "metadata": {
        "id": "-jgr3_1ZhtG4"
      },
      "source": [
        "# !sudo apt-get install build-essential swig\r\n",
        "# !pip install auto-sklearn==0.12"
      ],
      "execution_count": 78,
      "outputs": []
    },
    {
      "cell_type": "markdown",
      "metadata": {
        "id": "2zn1fvAQ2squ"
      },
      "source": [
        "## AutoML"
      ]
    },
    {
      "cell_type": "code",
      "metadata": {
        "id": "hZbRfBoHhTFA"
      },
      "source": [
        "# import autosklearn.classification"
      ],
      "execution_count": null,
      "outputs": []
    },
    {
      "cell_type": "code",
      "metadata": {
        "id": "aaBUAgkYk6nv"
      },
      "source": [
        "from autosklearn.experimental.askl2 import AutoSklearn2Classifier"
      ],
      "execution_count": null,
      "outputs": []
    },
    {
      "cell_type": "code",
      "metadata": {
        "id": "OOhqp1c3lmGH"
      },
      "source": [
        "# automl = AutoSklearn2Classifier(n_jobs=-1)\r\n",
        "# automl.fit(X_train, y_train)"
      ],
      "execution_count": null,
      "outputs": []
    },
    {
      "cell_type": "code",
      "metadata": {
        "id": "R8i5rb0_mAdm"
      },
      "source": [
        "# y_hat = automl.predict_proba(X_test)"
      ],
      "execution_count": null,
      "outputs": []
    },
    {
      "cell_type": "code",
      "metadata": {
        "id": "0aBqhf4L5g7z"
      },
      "source": [
        "# pred = [1 if prediction[1]>0.5 else 0 for prediction in y_hat ] "
      ],
      "execution_count": null,
      "outputs": []
    },
    {
      "cell_type": "code",
      "metadata": {
        "id": "_wOGrjdb2yRI"
      },
      "source": [
        "# auto_confusion = confusion_matrix(y_test, pred) "
      ],
      "execution_count": null,
      "outputs": []
    },
    {
      "cell_type": "code",
      "metadata": {
        "id": "LFg6F09w3FTt"
      },
      "source": [
        "# auto_confusion"
      ],
      "execution_count": null,
      "outputs": []
    },
    {
      "cell_type": "code",
      "metadata": {
        "id": "ZucObjt33LIG"
      },
      "source": [
        "# FP = auto_confusion[0][1]\r\n",
        "# FN = auto_confusion[1][0]\r\n",
        "# TP = auto_confusion[1][1]\r\n",
        "# TN = auto_confusion[0][0]\r\n",
        "\r\n",
        "# # Sensitivity, hit rate, recall, or true positive rate\r\n",
        "# TPR = TP/(TP+FN)\r\n",
        "# # Specificity or true negative rate\r\n",
        "# TNR = TN/(TN+FP) \r\n",
        "# # Negative predictive value\r\n",
        "# NPV = TN/(TN+FN)\r\n",
        "# # Fall out or false positive rate\r\n",
        "# FPR = FP/(FP+TN)\r\n",
        "# # False negative rate\r\n",
        "# FNR = FN/(TP+FN)\r\n",
        "# # Precision\r\n",
        "# PPV = TP/(TP+FP)\r\n",
        "# # False discovery rate -> 1-Precision\r\n",
        "# FDR = FP/(TP+FP)\r\n",
        "\r\n",
        "# # Overall accuracy\r\n",
        "# ACC = (TP+TN)/(TP+FP+FN+TN)\r\n",
        "\r\n",
        "# print(f'TPR: {TPR:.4f}')\r\n",
        "# print(f'TNR: {TNR:.4f}')\r\n",
        "# print(f'FPR: {FPR:.4f}')\r\n",
        "# print(f'FNR: {FNR:.4f}')\r\n",
        "# print(f'Precision: {PPV:.4f}')\r\n",
        "# print(f'False discovery rate: {FDR:.4f}')"
      ],
      "execution_count": null,
      "outputs": []
    },
    {
      "cell_type": "code",
      "metadata": {
        "id": "k97OjISqHodq"
      },
      "source": [
        "# !pip install --quiet optuna\r\n",
        "\r\n",
        "# import optuna"
      ],
      "execution_count": null,
      "outputs": []
    },
    {
      "cell_type": "code",
      "metadata": {
        "id": "qmr2wzUgHvNU"
      },
      "source": [
        "# clf = LGBMClassifier()\r\n",
        "\r\n",
        "# param_distributions = {\r\n",
        "#     'n_estimators': optuna.distributions.IntUniformDistribution(10, 500),\r\n",
        "#     'num_leaves': optuna.distributions.IntUniformDistribution(2, 50),\r\n",
        "#     'min_data_in_leaf': optuna.distributions.IntUniformDistribution(100, 400),\r\n",
        "#     'feature_fraction': optuna.distributions.LogUniformDistribution(0.5, 1),\r\n",
        "# #     'max_depth': optuna.distributions.IntUniformDistribution(-1, 200),\r\n",
        "#     'subsample': optuna.distributions.LogUniformDistribution(0.5, 1),\r\n",
        "# }\r\n",
        "\r\n",
        "# optuna_search = optuna.integration.OptunaSearchCV(\r\n",
        "#     estimator=clf, \r\n",
        "#     param_distributions=param_distributions, \r\n",
        "#     n_trials=50, \r\n",
        "#     timeout=7200,\r\n",
        "#     cv=\r\n",
        "# )\r\n",
        "\r\n",
        "# optuna_search.fit(X_train, y_train)"
      ],
      "execution_count": null,
      "outputs": []
    }
  ]
}