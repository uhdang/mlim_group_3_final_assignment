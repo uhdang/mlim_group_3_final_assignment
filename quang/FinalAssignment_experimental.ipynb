{
  "nbformat": 4,
  "nbformat_minor": 0,
  "metadata": {
    "colab": {
      "name": "FinalAssignment.ipynb",
      "provenance": [],
      "collapsed_sections": [],
      "toc_visible": true,
      "mount_file_id": "17sCjKQDEfGjPbBnbNYH04SFCv7PnEm2L",
      "authorship_tag": "ABX9TyPrV/dZ2udLatqzLkfu4A9Z",
      "include_colab_link": true
    },
    "kernelspec": {
      "name": "python3",
      "display_name": "Python 3"
    }
  },
  "cells": [
    {
      "cell_type": "markdown",
      "metadata": {
        "id": "view-in-github",
        "colab_type": "text"
      },
      "source": [
        "<a href=\"https://colab.research.google.com/github/uhdang/mlim_group_3_final_assignment/blob/main/quang/FinalAssignment_experimental.ipynb\" target=\"_parent\"><img src=\"https://colab.research.google.com/assets/colab-badge.svg\" alt=\"Open In Colab\"/></a>"
      ]
    },
    {
      "cell_type": "code",
      "metadata": {
        "colab": {
          "base_uri": "https://localhost:8080/",
          "height": 306
        },
        "id": "lbCoj2hWBnOH",
        "outputId": "da1d1fae-bc38-4356-89cd-b5e3066deb13"
      },
      "source": [
        "!pip install scikit-learn --upgrade"
      ],
      "execution_count": 3,
      "outputs": [
        {
          "output_type": "stream",
          "text": [
            "Collecting scikit-learn\n",
            "  Using cached https://files.pythonhosted.org/packages/f3/74/eb899f41d55f957e2591cde5528e75871f817d9fb46d4732423ecaca736d/scikit_learn-0.24.1-cp37-cp37m-manylinux2010_x86_64.whl\n",
            "Requirement already satisfied, skipping upgrade: scipy>=0.19.1 in /usr/local/lib/python3.7/dist-packages (from scikit-learn) (1.4.1)\n",
            "Requirement already satisfied, skipping upgrade: joblib>=0.11 in /usr/local/lib/python3.7/dist-packages (from scikit-learn) (1.0.1)\n",
            "Requirement already satisfied, skipping upgrade: threadpoolctl>=2.0.0 in /usr/local/lib/python3.7/dist-packages (from scikit-learn) (2.1.0)\n",
            "Requirement already satisfied, skipping upgrade: numpy>=1.13.3 in /usr/local/lib/python3.7/dist-packages (from scikit-learn) (1.19.5)\n",
            "\u001b[31mERROR: auto-sklearn 0.11.1 has requirement scikit-learn<0.23,>=0.22.0, but you'll have scikit-learn 0.24.1 which is incompatible.\u001b[0m\n",
            "Installing collected packages: scikit-learn\n",
            "  Found existing installation: scikit-learn 0.22.2.post1\n",
            "    Uninstalling scikit-learn-0.22.2.post1:\n",
            "      Successfully uninstalled scikit-learn-0.22.2.post1\n",
            "Successfully installed scikit-learn-0.24.1\n"
          ],
          "name": "stdout"
        },
        {
          "output_type": "display_data",
          "data": {
            "application/vnd.colab-display-data+json": {
              "pip_warning": {
                "packages": [
                  "sklearn"
                ]
              }
            }
          },
          "metadata": {
            "tags": []
          }
        }
      ]
    },
    {
      "cell_type": "code",
      "metadata": {
        "colab": {
          "base_uri": "https://localhost:8080/"
        },
        "id": "qFUtMx_vBwPi",
        "outputId": "7ec34d19-931c-48a8-a025-2c846bf09387"
      },
      "source": [
        "!pip install lightgbm --upgrade"
      ],
      "execution_count": 4,
      "outputs": [
        {
          "output_type": "stream",
          "text": [
            "Requirement already up-to-date: lightgbm in /usr/local/lib/python3.7/dist-packages (3.1.1)\n",
            "Requirement already satisfied, skipping upgrade: scipy in /usr/local/lib/python3.7/dist-packages (from lightgbm) (1.4.1)\n",
            "Requirement already satisfied, skipping upgrade: scikit-learn!=0.22.0 in /usr/local/lib/python3.7/dist-packages (from lightgbm) (0.24.1)\n",
            "Requirement already satisfied, skipping upgrade: numpy in /usr/local/lib/python3.7/dist-packages (from lightgbm) (1.19.5)\n",
            "Requirement already satisfied, skipping upgrade: wheel in /usr/local/lib/python3.7/dist-packages (from lightgbm) (0.36.2)\n",
            "Requirement already satisfied, skipping upgrade: threadpoolctl>=2.0.0 in /usr/local/lib/python3.7/dist-packages (from scikit-learn!=0.22.0->lightgbm) (2.1.0)\n",
            "Requirement already satisfied, skipping upgrade: joblib>=0.11 in /usr/local/lib/python3.7/dist-packages (from scikit-learn!=0.22.0->lightgbm) (1.0.1)\n"
          ],
          "name": "stdout"
        }
      ]
    },
    {
      "cell_type": "code",
      "metadata": {
        "id": "R8VFv-TZfRc_"
      },
      "source": [
        "import pandas as pd\r\n",
        "import numpy as np\r\n",
        "# from datastreamer import DataStreamerP2V\r\n",
        "import matplotlib.pyplot as plt\r\n",
        "import seaborn as sns\r\n",
        "import random"
      ],
      "execution_count": 2,
      "outputs": []
    },
    {
      "cell_type": "markdown",
      "metadata": {
        "id": "KfzE-1tHfg2C"
      },
      "source": [
        "# Load Data"
      ]
    },
    {
      "cell_type": "code",
      "metadata": {
        "colab": {
          "base_uri": "https://localhost:8080/"
        },
        "id": "wPPZKEDQffrG",
        "outputId": "120cdf3b-fe34-4930-a1fe-dd171f6a1378"
      },
      "source": [
        "from google.colab import drive\r\n",
        "drive.mount('/content/drive')\r\n",
        "baskets = pd.read_parquet(\"/content/drive/MyDrive/My Drive/baskets.parquet\")\r\n",
        "coupons = pd.read_parquet(\"/content/drive/MyDrive/My Drive/coupons.parquet\")\r\n",
        "# coupon_index = pd.read_parquet(\"/content/drive/MyDrive/My Drive/coupon_index.parquet\")"
      ],
      "execution_count": 3,
      "outputs": [
        {
          "output_type": "stream",
          "text": [
            "Drive already mounted at /content/drive; to attempt to forcibly remount, call drive.mount(\"/content/drive\", force_remount=True).\n"
          ],
          "name": "stdout"
        }
      ]
    },
    {
      "cell_type": "code",
      "metadata": {
        "colab": {
          "base_uri": "https://localhost:8080/",
          "height": 419
        },
        "id": "QcxJiScqwSrc",
        "outputId": "5893f08b-2269-4815-9721-4fe9e4c66a2c"
      },
      "source": [
        "baskets['target'] = 1\r\n",
        "baskets"
      ],
      "execution_count": 4,
      "outputs": [
        {
          "output_type": "execute_result",
          "data": {
            "text/html": [
              "<div>\n",
              "<style scoped>\n",
              "    .dataframe tbody tr th:only-of-type {\n",
              "        vertical-align: middle;\n",
              "    }\n",
              "\n",
              "    .dataframe tbody tr th {\n",
              "        vertical-align: top;\n",
              "    }\n",
              "\n",
              "    .dataframe thead th {\n",
              "        text-align: right;\n",
              "    }\n",
              "</style>\n",
              "<table border=\"1\" class=\"dataframe\">\n",
              "  <thead>\n",
              "    <tr style=\"text-align: right;\">\n",
              "      <th></th>\n",
              "      <th>week</th>\n",
              "      <th>shopper</th>\n",
              "      <th>product</th>\n",
              "      <th>price</th>\n",
              "      <th>target</th>\n",
              "    </tr>\n",
              "  </thead>\n",
              "  <tbody>\n",
              "    <tr>\n",
              "      <th>0</th>\n",
              "      <td>0</td>\n",
              "      <td>0</td>\n",
              "      <td>71</td>\n",
              "      <td>629</td>\n",
              "      <td>1</td>\n",
              "    </tr>\n",
              "    <tr>\n",
              "      <th>1</th>\n",
              "      <td>0</td>\n",
              "      <td>0</td>\n",
              "      <td>91</td>\n",
              "      <td>605</td>\n",
              "      <td>1</td>\n",
              "    </tr>\n",
              "    <tr>\n",
              "      <th>2</th>\n",
              "      <td>0</td>\n",
              "      <td>0</td>\n",
              "      <td>116</td>\n",
              "      <td>715</td>\n",
              "      <td>1</td>\n",
              "    </tr>\n",
              "    <tr>\n",
              "      <th>3</th>\n",
              "      <td>0</td>\n",
              "      <td>0</td>\n",
              "      <td>123</td>\n",
              "      <td>483</td>\n",
              "      <td>1</td>\n",
              "    </tr>\n",
              "    <tr>\n",
              "      <th>4</th>\n",
              "      <td>0</td>\n",
              "      <td>0</td>\n",
              "      <td>157</td>\n",
              "      <td>592</td>\n",
              "      <td>1</td>\n",
              "    </tr>\n",
              "    <tr>\n",
              "      <th>...</th>\n",
              "      <td>...</td>\n",
              "      <td>...</td>\n",
              "      <td>...</td>\n",
              "      <td>...</td>\n",
              "      <td>...</td>\n",
              "    </tr>\n",
              "    <tr>\n",
              "      <th>68841593</th>\n",
              "      <td>89</td>\n",
              "      <td>99999</td>\n",
              "      <td>143</td>\n",
              "      <td>470</td>\n",
              "      <td>1</td>\n",
              "    </tr>\n",
              "    <tr>\n",
              "      <th>68841594</th>\n",
              "      <td>89</td>\n",
              "      <td>99999</td>\n",
              "      <td>158</td>\n",
              "      <td>566</td>\n",
              "      <td>1</td>\n",
              "    </tr>\n",
              "    <tr>\n",
              "      <th>68841595</th>\n",
              "      <td>89</td>\n",
              "      <td>99999</td>\n",
              "      <td>186</td>\n",
              "      <td>499</td>\n",
              "      <td>1</td>\n",
              "    </tr>\n",
              "    <tr>\n",
              "      <th>68841596</th>\n",
              "      <td>89</td>\n",
              "      <td>99999</td>\n",
              "      <td>204</td>\n",
              "      <td>496</td>\n",
              "      <td>1</td>\n",
              "    </tr>\n",
              "    <tr>\n",
              "      <th>68841597</th>\n",
              "      <td>89</td>\n",
              "      <td>99999</td>\n",
              "      <td>225</td>\n",
              "      <td>602</td>\n",
              "      <td>1</td>\n",
              "    </tr>\n",
              "  </tbody>\n",
              "</table>\n",
              "<p>68841598 rows × 5 columns</p>\n",
              "</div>"
            ],
            "text/plain": [
              "          week  shopper  product  price  target\n",
              "0            0        0       71    629       1\n",
              "1            0        0       91    605       1\n",
              "2            0        0      116    715       1\n",
              "3            0        0      123    483       1\n",
              "4            0        0      157    592       1\n",
              "...        ...      ...      ...    ...     ...\n",
              "68841593    89    99999      143    470       1\n",
              "68841594    89    99999      158    566       1\n",
              "68841595    89    99999      186    499       1\n",
              "68841596    89    99999      204    496       1\n",
              "68841597    89    99999      225    602       1\n",
              "\n",
              "[68841598 rows x 5 columns]"
            ]
          },
          "metadata": {
            "tags": []
          },
          "execution_count": 4
        }
      ]
    },
    {
      "cell_type": "code",
      "metadata": {
        "colab": {
          "base_uri": "https://localhost:8080/",
          "height": 419
        },
        "id": "LpS11Hg8G21-",
        "outputId": "209cf13f-0864-4c54-95c0-432df0ba0dcc"
      },
      "source": [
        "coupons"
      ],
      "execution_count": 5,
      "outputs": [
        {
          "output_type": "execute_result",
          "data": {
            "text/html": [
              "<div>\n",
              "<style scoped>\n",
              "    .dataframe tbody tr th:only-of-type {\n",
              "        vertical-align: middle;\n",
              "    }\n",
              "\n",
              "    .dataframe tbody tr th {\n",
              "        vertical-align: top;\n",
              "    }\n",
              "\n",
              "    .dataframe thead th {\n",
              "        text-align: right;\n",
              "    }\n",
              "</style>\n",
              "<table border=\"1\" class=\"dataframe\">\n",
              "  <thead>\n",
              "    <tr style=\"text-align: right;\">\n",
              "      <th></th>\n",
              "      <th>week</th>\n",
              "      <th>shopper</th>\n",
              "      <th>product</th>\n",
              "      <th>discount</th>\n",
              "    </tr>\n",
              "  </thead>\n",
              "  <tbody>\n",
              "    <tr>\n",
              "      <th>0</th>\n",
              "      <td>0</td>\n",
              "      <td>0</td>\n",
              "      <td>35</td>\n",
              "      <td>35</td>\n",
              "    </tr>\n",
              "    <tr>\n",
              "      <th>1</th>\n",
              "      <td>0</td>\n",
              "      <td>0</td>\n",
              "      <td>193</td>\n",
              "      <td>40</td>\n",
              "    </tr>\n",
              "    <tr>\n",
              "      <th>2</th>\n",
              "      <td>0</td>\n",
              "      <td>0</td>\n",
              "      <td>27</td>\n",
              "      <td>30</td>\n",
              "    </tr>\n",
              "    <tr>\n",
              "      <th>3</th>\n",
              "      <td>0</td>\n",
              "      <td>0</td>\n",
              "      <td>177</td>\n",
              "      <td>35</td>\n",
              "    </tr>\n",
              "    <tr>\n",
              "      <th>4</th>\n",
              "      <td>0</td>\n",
              "      <td>0</td>\n",
              "      <td>5</td>\n",
              "      <td>30</td>\n",
              "    </tr>\n",
              "    <tr>\n",
              "      <th>...</th>\n",
              "      <td>...</td>\n",
              "      <td>...</td>\n",
              "      <td>...</td>\n",
              "      <td>...</td>\n",
              "    </tr>\n",
              "    <tr>\n",
              "      <th>44999995</th>\n",
              "      <td>89</td>\n",
              "      <td>99999</td>\n",
              "      <td>62</td>\n",
              "      <td>40</td>\n",
              "    </tr>\n",
              "    <tr>\n",
              "      <th>44999996</th>\n",
              "      <td>89</td>\n",
              "      <td>99999</td>\n",
              "      <td>110</td>\n",
              "      <td>10</td>\n",
              "    </tr>\n",
              "    <tr>\n",
              "      <th>44999997</th>\n",
              "      <td>89</td>\n",
              "      <td>99999</td>\n",
              "      <td>37</td>\n",
              "      <td>40</td>\n",
              "    </tr>\n",
              "    <tr>\n",
              "      <th>44999998</th>\n",
              "      <td>89</td>\n",
              "      <td>99999</td>\n",
              "      <td>155</td>\n",
              "      <td>25</td>\n",
              "    </tr>\n",
              "    <tr>\n",
              "      <th>44999999</th>\n",
              "      <td>89</td>\n",
              "      <td>99999</td>\n",
              "      <td>132</td>\n",
              "      <td>10</td>\n",
              "    </tr>\n",
              "  </tbody>\n",
              "</table>\n",
              "<p>45000000 rows × 4 columns</p>\n",
              "</div>"
            ],
            "text/plain": [
              "          week  shopper  product  discount\n",
              "0            0        0       35        35\n",
              "1            0        0      193        40\n",
              "2            0        0       27        30\n",
              "3            0        0      177        35\n",
              "4            0        0        5        30\n",
              "...        ...      ...      ...       ...\n",
              "44999995    89    99999       62        40\n",
              "44999996    89    99999      110        10\n",
              "44999997    89    99999       37        40\n",
              "44999998    89    99999      155        25\n",
              "44999999    89    99999      132        10\n",
              "\n",
              "[45000000 rows x 4 columns]"
            ]
          },
          "metadata": {
            "tags": []
          },
          "execution_count": 5
        }
      ]
    },
    {
      "cell_type": "code",
      "metadata": {
        "id": "HuoYcOHJ1g8Z"
      },
      "source": [
        "#baskets[['week', 'shopper', 'product']] = baskets[['week', 'shopper', 'product']].astype('category')\r\n",
        "# baskets[['shopper', 'product']] = baskets[['shopper', 'product']].astype('category')\r\n",
        "baskets['product'] = baskets['product'].astype('category')\r\n",
        "coupons['product'] = coupons['product'].astype('category')"
      ],
      "execution_count": 6,
      "outputs": []
    },
    {
      "cell_type": "markdown",
      "metadata": {
        "id": "vTkyVZ3c8uvD"
      },
      "source": [
        "# Split Data"
      ]
    },
    {
      "cell_type": "code",
      "metadata": {
        "id": "j1yzB9Qj906J"
      },
      "source": [
        "from sklearn.model_selection import train_test_split"
      ],
      "execution_count": 7,
      "outputs": []
    },
    {
      "cell_type": "code",
      "metadata": {
        "id": "hFPZC48z9697",
        "colab": {
          "base_uri": "https://localhost:8080/"
        },
        "outputId": "356e6a80-9f2f-4acd-bb45-c1a4347c37ab"
      },
      "source": [
        "weeks = 89 \r\n",
        "shoppers = 100\r\n",
        "\r\n",
        "baskets_train = baskets.loc[(baskets.shopper.isin(list(range(shoppers)))) & (baskets.week<weeks), :]\r\n",
        "baskets_test = baskets.loc[(baskets.shopper.isin(list(range(shoppers)))) & (baskets.week>=weeks), :]\r\n",
        "\r\n",
        "coupons_train = coupons.loc[(coupons.shopper.isin(list(range(shoppers)))) & (coupons.week<weeks), :]\r\n",
        "coupons_test = coupons.loc[(coupons.shopper.isin(list(range(shoppers)))) & (coupons.week>=weeks), :]"
      ],
      "execution_count": 8,
      "outputs": [
        {
          "output_type": "stream",
          "text": [
            "INFO:numexpr.utils:NumExpr defaulting to 2 threads.\n"
          ],
          "name": "stderr"
        }
      ]
    },
    {
      "cell_type": "code",
      "metadata": {
        "id": "wiYAnYUbAsxk",
        "colab": {
          "base_uri": "https://localhost:8080/"
        },
        "outputId": "e813ee8c-f88c-45b8-ce25-75359146a4c8"
      },
      "source": [
        "baskets_train['shopper'] = baskets_train['shopper'].astype('category')\r\n",
        "coupons_train['shopper'] = coupons_train['shopper'].astype('category')\r\n",
        "\r\n",
        "# baskets_train['target'] = 1"
      ],
      "execution_count": 9,
      "outputs": [
        {
          "output_type": "stream",
          "text": [
            "/usr/local/lib/python3.7/dist-packages/ipykernel_launcher.py:1: SettingWithCopyWarning: \n",
            "A value is trying to be set on a copy of a slice from a DataFrame.\n",
            "Try using .loc[row_indexer,col_indexer] = value instead\n",
            "\n",
            "See the caveats in the documentation: https://pandas.pydata.org/pandas-docs/stable/user_guide/indexing.html#returning-a-view-versus-a-copy\n",
            "  \"\"\"Entry point for launching an IPython kernel.\n",
            "/usr/local/lib/python3.7/dist-packages/ipykernel_launcher.py:2: SettingWithCopyWarning: \n",
            "A value is trying to be set on a copy of a slice from a DataFrame.\n",
            "Try using .loc[row_indexer,col_indexer] = value instead\n",
            "\n",
            "See the caveats in the documentation: https://pandas.pydata.org/pandas-docs/stable/user_guide/indexing.html#returning-a-view-versus-a-copy\n",
            "  \n"
          ],
          "name": "stderr"
        }
      ]
    },
    {
      "cell_type": "code",
      "metadata": {
        "id": "XuG591vHYmM_",
        "colab": {
          "base_uri": "https://localhost:8080/",
          "height": 419
        },
        "outputId": "8d63759f-f993-46d3-ded5-2ef4f640f4e6"
      },
      "source": [
        "baskets_train"
      ],
      "execution_count": 10,
      "outputs": [
        {
          "output_type": "execute_result",
          "data": {
            "text/html": [
              "<div>\n",
              "<style scoped>\n",
              "    .dataframe tbody tr th:only-of-type {\n",
              "        vertical-align: middle;\n",
              "    }\n",
              "\n",
              "    .dataframe tbody tr th {\n",
              "        vertical-align: top;\n",
              "    }\n",
              "\n",
              "    .dataframe thead th {\n",
              "        text-align: right;\n",
              "    }\n",
              "</style>\n",
              "<table border=\"1\" class=\"dataframe\">\n",
              "  <thead>\n",
              "    <tr style=\"text-align: right;\">\n",
              "      <th></th>\n",
              "      <th>week</th>\n",
              "      <th>shopper</th>\n",
              "      <th>product</th>\n",
              "      <th>price</th>\n",
              "      <th>target</th>\n",
              "    </tr>\n",
              "  </thead>\n",
              "  <tbody>\n",
              "    <tr>\n",
              "      <th>0</th>\n",
              "      <td>0</td>\n",
              "      <td>0</td>\n",
              "      <td>71</td>\n",
              "      <td>629</td>\n",
              "      <td>1</td>\n",
              "    </tr>\n",
              "    <tr>\n",
              "      <th>1</th>\n",
              "      <td>0</td>\n",
              "      <td>0</td>\n",
              "      <td>91</td>\n",
              "      <td>605</td>\n",
              "      <td>1</td>\n",
              "    </tr>\n",
              "    <tr>\n",
              "      <th>2</th>\n",
              "      <td>0</td>\n",
              "      <td>0</td>\n",
              "      <td>116</td>\n",
              "      <td>715</td>\n",
              "      <td>1</td>\n",
              "    </tr>\n",
              "    <tr>\n",
              "      <th>3</th>\n",
              "      <td>0</td>\n",
              "      <td>0</td>\n",
              "      <td>123</td>\n",
              "      <td>483</td>\n",
              "      <td>1</td>\n",
              "    </tr>\n",
              "    <tr>\n",
              "      <th>4</th>\n",
              "      <td>0</td>\n",
              "      <td>0</td>\n",
              "      <td>157</td>\n",
              "      <td>592</td>\n",
              "      <td>1</td>\n",
              "    </tr>\n",
              "    <tr>\n",
              "      <th>...</th>\n",
              "      <td>...</td>\n",
              "      <td>...</td>\n",
              "      <td>...</td>\n",
              "      <td>...</td>\n",
              "      <td>...</td>\n",
              "    </tr>\n",
              "    <tr>\n",
              "      <th>67312654</th>\n",
              "      <td>88</td>\n",
              "      <td>99</td>\n",
              "      <td>142</td>\n",
              "      <td>551</td>\n",
              "      <td>1</td>\n",
              "    </tr>\n",
              "    <tr>\n",
              "      <th>67312655</th>\n",
              "      <td>88</td>\n",
              "      <td>99</td>\n",
              "      <td>176</td>\n",
              "      <td>681</td>\n",
              "      <td>1</td>\n",
              "    </tr>\n",
              "    <tr>\n",
              "      <th>67312656</th>\n",
              "      <td>88</td>\n",
              "      <td>99</td>\n",
              "      <td>187</td>\n",
              "      <td>663</td>\n",
              "      <td>1</td>\n",
              "    </tr>\n",
              "    <tr>\n",
              "      <th>67312657</th>\n",
              "      <td>88</td>\n",
              "      <td>99</td>\n",
              "      <td>199</td>\n",
              "      <td>604</td>\n",
              "      <td>1</td>\n",
              "    </tr>\n",
              "    <tr>\n",
              "      <th>67312658</th>\n",
              "      <td>88</td>\n",
              "      <td>99</td>\n",
              "      <td>221</td>\n",
              "      <td>680</td>\n",
              "      <td>1</td>\n",
              "    </tr>\n",
              "  </tbody>\n",
              "</table>\n",
              "<p>67941 rows × 5 columns</p>\n",
              "</div>"
            ],
            "text/plain": [
              "          week shopper product  price  target\n",
              "0            0       0      71    629       1\n",
              "1            0       0      91    605       1\n",
              "2            0       0     116    715       1\n",
              "3            0       0     123    483       1\n",
              "4            0       0     157    592       1\n",
              "...        ...     ...     ...    ...     ...\n",
              "67312654    88      99     142    551       1\n",
              "67312655    88      99     176    681       1\n",
              "67312656    88      99     187    663       1\n",
              "67312657    88      99     199    604       1\n",
              "67312658    88      99     221    680       1\n",
              "\n",
              "[67941 rows x 5 columns]"
            ]
          },
          "metadata": {
            "tags": []
          },
          "execution_count": 10
        }
      ]
    },
    {
      "cell_type": "code",
      "metadata": {
        "id": "2XeikDVjAHc2",
        "colab": {
          "base_uri": "https://localhost:8080/",
          "height": 419
        },
        "outputId": "3e9721db-f58e-4200-da5d-3bbb4055215d"
      },
      "source": [
        "coupons_train"
      ],
      "execution_count": 11,
      "outputs": [
        {
          "output_type": "execute_result",
          "data": {
            "text/html": [
              "<div>\n",
              "<style scoped>\n",
              "    .dataframe tbody tr th:only-of-type {\n",
              "        vertical-align: middle;\n",
              "    }\n",
              "\n",
              "    .dataframe tbody tr th {\n",
              "        vertical-align: top;\n",
              "    }\n",
              "\n",
              "    .dataframe thead th {\n",
              "        text-align: right;\n",
              "    }\n",
              "</style>\n",
              "<table border=\"1\" class=\"dataframe\">\n",
              "  <thead>\n",
              "    <tr style=\"text-align: right;\">\n",
              "      <th></th>\n",
              "      <th>week</th>\n",
              "      <th>shopper</th>\n",
              "      <th>product</th>\n",
              "      <th>discount</th>\n",
              "    </tr>\n",
              "  </thead>\n",
              "  <tbody>\n",
              "    <tr>\n",
              "      <th>0</th>\n",
              "      <td>0</td>\n",
              "      <td>0</td>\n",
              "      <td>35</td>\n",
              "      <td>35</td>\n",
              "    </tr>\n",
              "    <tr>\n",
              "      <th>1</th>\n",
              "      <td>0</td>\n",
              "      <td>0</td>\n",
              "      <td>193</td>\n",
              "      <td>40</td>\n",
              "    </tr>\n",
              "    <tr>\n",
              "      <th>2</th>\n",
              "      <td>0</td>\n",
              "      <td>0</td>\n",
              "      <td>27</td>\n",
              "      <td>30</td>\n",
              "    </tr>\n",
              "    <tr>\n",
              "      <th>3</th>\n",
              "      <td>0</td>\n",
              "      <td>0</td>\n",
              "      <td>177</td>\n",
              "      <td>35</td>\n",
              "    </tr>\n",
              "    <tr>\n",
              "      <th>4</th>\n",
              "      <td>0</td>\n",
              "      <td>0</td>\n",
              "      <td>5</td>\n",
              "      <td>30</td>\n",
              "    </tr>\n",
              "    <tr>\n",
              "      <th>...</th>\n",
              "      <td>...</td>\n",
              "      <td>...</td>\n",
              "      <td>...</td>\n",
              "      <td>...</td>\n",
              "    </tr>\n",
              "    <tr>\n",
              "      <th>44000495</th>\n",
              "      <td>88</td>\n",
              "      <td>99</td>\n",
              "      <td>160</td>\n",
              "      <td>40</td>\n",
              "    </tr>\n",
              "    <tr>\n",
              "      <th>44000496</th>\n",
              "      <td>88</td>\n",
              "      <td>99</td>\n",
              "      <td>31</td>\n",
              "      <td>40</td>\n",
              "    </tr>\n",
              "    <tr>\n",
              "      <th>44000497</th>\n",
              "      <td>88</td>\n",
              "      <td>99</td>\n",
              "      <td>141</td>\n",
              "      <td>15</td>\n",
              "    </tr>\n",
              "    <tr>\n",
              "      <th>44000498</th>\n",
              "      <td>88</td>\n",
              "      <td>99</td>\n",
              "      <td>14</td>\n",
              "      <td>30</td>\n",
              "    </tr>\n",
              "    <tr>\n",
              "      <th>44000499</th>\n",
              "      <td>88</td>\n",
              "      <td>99</td>\n",
              "      <td>60</td>\n",
              "      <td>20</td>\n",
              "    </tr>\n",
              "  </tbody>\n",
              "</table>\n",
              "<p>44500 rows × 4 columns</p>\n",
              "</div>"
            ],
            "text/plain": [
              "          week shopper product  discount\n",
              "0            0       0      35        35\n",
              "1            0       0     193        40\n",
              "2            0       0      27        30\n",
              "3            0       0     177        35\n",
              "4            0       0       5        30\n",
              "...        ...     ...     ...       ...\n",
              "44000495    88      99     160        40\n",
              "44000496    88      99      31        40\n",
              "44000497    88      99     141        15\n",
              "44000498    88      99      14        30\n",
              "44000499    88      99      60        20\n",
              "\n",
              "[44500 rows x 4 columns]"
            ]
          },
          "metadata": {
            "tags": []
          },
          "execution_count": 11
        }
      ]
    },
    {
      "cell_type": "markdown",
      "metadata": {
        "id": "_rfk2ZrJBSLR"
      },
      "source": [
        "# Data Preprocessing"
      ]
    },
    {
      "cell_type": "code",
      "metadata": {
        "id": "e7aRzLcYkP9Z"
      },
      "source": [
        "# Counting weeks of prior order for each product/customer\r\n",
        "# baskets_train['weeks_since_prior_order'] = baskets_train.groupby(['shopper', 'product']).week.apply(lambda x: x.diff()) # change to count weeks since last order, even when it wasn't bought"
      ],
      "execution_count": 12,
      "outputs": []
    },
    {
      "cell_type": "code",
      "metadata": {
        "id": "zsTQkxgK7yR8"
      },
      "source": [
        "full_df_train = (baskets_train\r\n",
        "           .merge(\r\n",
        "               coupons_train, \r\n",
        "               on=['week', 'shopper', 'product'], \r\n",
        "               how='outer',\r\n",
        "               indicator=True\r\n",
        "           )\r\n",
        "           .sort_values(by=['week', 'shopper', 'product'])\r\n",
        "           .reset_index(drop=True)\r\n",
        "          #  .replace(['left_only', 'right_only', 'both'], ['RRP', 'coupon', 'discounted'])\r\n",
        "          .replace(['left_only', 'right_only', 'both'], ['No', 'Yes', 'Yes'])\r\n",
        "          .rename(columns={'_merge': 'coupon'})\r\n",
        ")\r\n",
        "\r\n",
        "full_df_train.loc[full_df_train['discount'].isna(),'discount' ] = 0"
      ],
      "execution_count": 13,
      "outputs": []
    },
    {
      "cell_type": "code",
      "metadata": {
        "id": "S6QkMEaGAPMs",
        "colab": {
          "base_uri": "https://localhost:8080/",
          "height": 419
        },
        "outputId": "febf7e69-3309-4213-ed68-0d7561b2941e"
      },
      "source": [
        "full_df_train"
      ],
      "execution_count": 14,
      "outputs": [
        {
          "output_type": "execute_result",
          "data": {
            "text/html": [
              "<div>\n",
              "<style scoped>\n",
              "    .dataframe tbody tr th:only-of-type {\n",
              "        vertical-align: middle;\n",
              "    }\n",
              "\n",
              "    .dataframe tbody tr th {\n",
              "        vertical-align: top;\n",
              "    }\n",
              "\n",
              "    .dataframe thead th {\n",
              "        text-align: right;\n",
              "    }\n",
              "</style>\n",
              "<table border=\"1\" class=\"dataframe\">\n",
              "  <thead>\n",
              "    <tr style=\"text-align: right;\">\n",
              "      <th></th>\n",
              "      <th>week</th>\n",
              "      <th>shopper</th>\n",
              "      <th>product</th>\n",
              "      <th>price</th>\n",
              "      <th>target</th>\n",
              "      <th>discount</th>\n",
              "      <th>coupon</th>\n",
              "    </tr>\n",
              "  </thead>\n",
              "  <tbody>\n",
              "    <tr>\n",
              "      <th>0</th>\n",
              "      <td>0</td>\n",
              "      <td>0</td>\n",
              "      <td>5</td>\n",
              "      <td>NaN</td>\n",
              "      <td>NaN</td>\n",
              "      <td>30.0</td>\n",
              "      <td>Yes</td>\n",
              "    </tr>\n",
              "    <tr>\n",
              "      <th>1</th>\n",
              "      <td>0</td>\n",
              "      <td>0</td>\n",
              "      <td>27</td>\n",
              "      <td>NaN</td>\n",
              "      <td>NaN</td>\n",
              "      <td>30.0</td>\n",
              "      <td>Yes</td>\n",
              "    </tr>\n",
              "    <tr>\n",
              "      <th>2</th>\n",
              "      <td>0</td>\n",
              "      <td>0</td>\n",
              "      <td>35</td>\n",
              "      <td>NaN</td>\n",
              "      <td>NaN</td>\n",
              "      <td>35.0</td>\n",
              "      <td>Yes</td>\n",
              "    </tr>\n",
              "    <tr>\n",
              "      <th>3</th>\n",
              "      <td>0</td>\n",
              "      <td>0</td>\n",
              "      <td>71</td>\n",
              "      <td>629.0</td>\n",
              "      <td>1.0</td>\n",
              "      <td>0.0</td>\n",
              "      <td>No</td>\n",
              "    </tr>\n",
              "    <tr>\n",
              "      <th>4</th>\n",
              "      <td>0</td>\n",
              "      <td>0</td>\n",
              "      <td>91</td>\n",
              "      <td>605.0</td>\n",
              "      <td>1.0</td>\n",
              "      <td>0.0</td>\n",
              "      <td>No</td>\n",
              "    </tr>\n",
              "    <tr>\n",
              "      <th>...</th>\n",
              "      <td>...</td>\n",
              "      <td>...</td>\n",
              "      <td>...</td>\n",
              "      <td>...</td>\n",
              "      <td>...</td>\n",
              "      <td>...</td>\n",
              "      <td>...</td>\n",
              "    </tr>\n",
              "    <tr>\n",
              "      <th>109678</th>\n",
              "      <td>88</td>\n",
              "      <td>99</td>\n",
              "      <td>160</td>\n",
              "      <td>NaN</td>\n",
              "      <td>NaN</td>\n",
              "      <td>40.0</td>\n",
              "      <td>Yes</td>\n",
              "    </tr>\n",
              "    <tr>\n",
              "      <th>109679</th>\n",
              "      <td>88</td>\n",
              "      <td>99</td>\n",
              "      <td>176</td>\n",
              "      <td>681.0</td>\n",
              "      <td>1.0</td>\n",
              "      <td>0.0</td>\n",
              "      <td>No</td>\n",
              "    </tr>\n",
              "    <tr>\n",
              "      <th>109680</th>\n",
              "      <td>88</td>\n",
              "      <td>99</td>\n",
              "      <td>187</td>\n",
              "      <td>663.0</td>\n",
              "      <td>1.0</td>\n",
              "      <td>0.0</td>\n",
              "      <td>No</td>\n",
              "    </tr>\n",
              "    <tr>\n",
              "      <th>109681</th>\n",
              "      <td>88</td>\n",
              "      <td>99</td>\n",
              "      <td>199</td>\n",
              "      <td>604.0</td>\n",
              "      <td>1.0</td>\n",
              "      <td>0.0</td>\n",
              "      <td>No</td>\n",
              "    </tr>\n",
              "    <tr>\n",
              "      <th>109682</th>\n",
              "      <td>88</td>\n",
              "      <td>99</td>\n",
              "      <td>221</td>\n",
              "      <td>680.0</td>\n",
              "      <td>1.0</td>\n",
              "      <td>0.0</td>\n",
              "      <td>No</td>\n",
              "    </tr>\n",
              "  </tbody>\n",
              "</table>\n",
              "<p>109683 rows × 7 columns</p>\n",
              "</div>"
            ],
            "text/plain": [
              "        week shopper product  price  target  discount coupon\n",
              "0          0       0       5    NaN     NaN      30.0    Yes\n",
              "1          0       0      27    NaN     NaN      30.0    Yes\n",
              "2          0       0      35    NaN     NaN      35.0    Yes\n",
              "3          0       0      71  629.0     1.0       0.0     No\n",
              "4          0       0      91  605.0     1.0       0.0     No\n",
              "...      ...     ...     ...    ...     ...       ...    ...\n",
              "109678    88      99     160    NaN     NaN      40.0    Yes\n",
              "109679    88      99     176  681.0     1.0       0.0     No\n",
              "109680    88      99     187  663.0     1.0       0.0     No\n",
              "109681    88      99     199  604.0     1.0       0.0     No\n",
              "109682    88      99     221  680.0     1.0       0.0     No\n",
              "\n",
              "[109683 rows x 7 columns]"
            ]
          },
          "metadata": {
            "tags": []
          },
          "execution_count": 14
        }
      ]
    },
    {
      "cell_type": "markdown",
      "metadata": {
        "id": "SNhjNET68TMB"
      },
      "source": [
        "# Feature Engineering"
      ]
    },
    {
      "cell_type": "code",
      "metadata": {
        "id": "FSjPMhQWRJM0"
      },
      "source": [
        "original_price = baskets.groupby('product', as_index=False).price.max().rename(columns={'price': 'original_price'})\r\n",
        "total_count_of_product = baskets_train.groupby(['shopper', 'product']).product.count().to_frame('total_count_of_product').reset_index()\r\n",
        "reordered = (baskets_train.groupby(['shopper']).product.value_counts()>1).astype(int)\r\n",
        "average_price_per_shopper = baskets_train.groupby(['shopper']).price.mean().to_frame('average_price_per_shopper').reset_index()\r\n",
        "average_basket_size = baskets_train.groupby(['shopper', 'week']).product.count().groupby('shopper').mean().to_frame('average_basket_size').reset_index()\r\n",
        "unique_products_per_shopper = baskets_train.groupby(['shopper']).product.nunique()\r\n",
        "ratio_of_reordered_per_shopper = (reordered.groupby('shopper').sum() / unique_products_per_shopper).to_frame('ratio_of_reordered').reset_index()\r\n",
        "\r\n",
        "ratio_of_reordered_per_product = total_count_of_product.copy()\r\n",
        "ratio_of_reordered_per_product['total_count_of_product'] = total_count_of_product['total_count_of_product'] / (baskets_train.week.max()+1)\r\n",
        "ratio_of_reordered_per_product.rename(columns={'total_count_of_product': 'ratio_of_reordered_per_product'}, inplace=True)\r\n",
        "\r\n",
        "reordered = reordered.to_frame('reordered').reset_index()\r\n",
        "unique_products_per_shopper = unique_products_per_shopper.to_frame('unique_products_per_shopper').reset_index()\r\n",
        "\r\n",
        "# frequency_per_product = \r\n",
        "\r\n",
        "# feature which give less probability to products wich haven't been purchased for a long time -> maybe relates to category as shopper has changed to product in similar category\r\n",
        "# add average week interval for each product and shopper -> frequency | maybe not necessary, basically just total_count/weeks, probably already covered by model\r\n",
        "# WoE"
      ],
      "execution_count": 15,
      "outputs": []
    },
    {
      "cell_type": "markdown",
      "metadata": {
        "id": "tpTEDEJKHe3m"
      },
      "source": [
        "# Set Up Training Table"
      ]
    },
    {
      "cell_type": "code",
      "metadata": {
        "id": "4DYPPoPWh_vm"
      },
      "source": [
        "df1 = pd.DataFrame({'key':np.ones(weeks), 'week':list(range(weeks))})\r\n",
        "df2 = pd.DataFrame({'key':np.ones(shoppers), 'shopper':list(range(shoppers))})\r\n",
        "df3 = pd.DataFrame({'key':np.ones(250), 'product':list(range(250))})\r\n",
        "df4 = full_df_train.copy()\r\n",
        "\r\n",
        "X_train = pd.merge(df1, df2, on='key').merge(df3, on='key').merge(df4, on=['week', 'shopper', 'product'], how='left')[full_df_train.columns]"
      ],
      "execution_count": 16,
      "outputs": []
    },
    {
      "cell_type": "markdown",
      "metadata": {
        "id": "ptZ7ODD00-tS"
      },
      "source": [
        "Combine everything"
      ]
    },
    {
      "cell_type": "code",
      "metadata": {
        "id": "nFrmiWSu094h"
      },
      "source": [
        "X_train = (X_train\r\n",
        "           .merge(original_price, on=['product'], how='left')\r\n",
        "           .merge(total_count_of_product, on=['shopper', 'product'], how='left')\r\n",
        "           .merge(reordered, on=['shopper', 'product'], how='left')\r\n",
        "           .merge(ratio_of_reordered_per_product, on=['shopper', 'product'], how='left')\r\n",
        "           .merge(ratio_of_reordered_per_shopper, on=['shopper'], how='left')\r\n",
        "           .merge(average_price_per_shopper, on=['shopper'], how='left')\r\n",
        "           .merge(average_basket_size, on=['shopper'], how='left')\r\n",
        "           .merge(unique_products_per_shopper, on=['shopper'], how='left')\r\n",
        "           )"
      ],
      "execution_count": 17,
      "outputs": []
    },
    {
      "cell_type": "code",
      "metadata": {
        "id": "GDiIwUFu1Q6a",
        "colab": {
          "base_uri": "https://localhost:8080/",
          "height": 439
        },
        "outputId": "391b6682-0396-4d5b-faf1-f71deda75a08"
      },
      "source": [
        "X_train"
      ],
      "execution_count": 18,
      "outputs": [
        {
          "output_type": "execute_result",
          "data": {
            "text/html": [
              "<div>\n",
              "<style scoped>\n",
              "    .dataframe tbody tr th:only-of-type {\n",
              "        vertical-align: middle;\n",
              "    }\n",
              "\n",
              "    .dataframe tbody tr th {\n",
              "        vertical-align: top;\n",
              "    }\n",
              "\n",
              "    .dataframe thead th {\n",
              "        text-align: right;\n",
              "    }\n",
              "</style>\n",
              "<table border=\"1\" class=\"dataframe\">\n",
              "  <thead>\n",
              "    <tr style=\"text-align: right;\">\n",
              "      <th></th>\n",
              "      <th>week</th>\n",
              "      <th>shopper</th>\n",
              "      <th>product</th>\n",
              "      <th>price</th>\n",
              "      <th>target</th>\n",
              "      <th>discount</th>\n",
              "      <th>coupon</th>\n",
              "      <th>original_price</th>\n",
              "      <th>total_count_of_product</th>\n",
              "      <th>reordered</th>\n",
              "      <th>ratio_of_reordered_per_product</th>\n",
              "      <th>ratio_of_reordered</th>\n",
              "      <th>average_price_per_shopper</th>\n",
              "      <th>average_basket_size</th>\n",
              "      <th>unique_products_per_shopper</th>\n",
              "    </tr>\n",
              "  </thead>\n",
              "  <tbody>\n",
              "    <tr>\n",
              "      <th>0</th>\n",
              "      <td>0</td>\n",
              "      <td>0</td>\n",
              "      <td>0</td>\n",
              "      <td>NaN</td>\n",
              "      <td>NaN</td>\n",
              "      <td>NaN</td>\n",
              "      <td>NaN</td>\n",
              "      <td>688</td>\n",
              "      <td>0</td>\n",
              "      <td>NaN</td>\n",
              "      <td>0.000000</td>\n",
              "      <td>0.722222</td>\n",
              "      <td>587.203947</td>\n",
              "      <td>8.539326</td>\n",
              "      <td>54</td>\n",
              "    </tr>\n",
              "    <tr>\n",
              "      <th>1</th>\n",
              "      <td>0</td>\n",
              "      <td>0</td>\n",
              "      <td>1</td>\n",
              "      <td>NaN</td>\n",
              "      <td>NaN</td>\n",
              "      <td>NaN</td>\n",
              "      <td>NaN</td>\n",
              "      <td>560</td>\n",
              "      <td>0</td>\n",
              "      <td>NaN</td>\n",
              "      <td>0.000000</td>\n",
              "      <td>0.722222</td>\n",
              "      <td>587.203947</td>\n",
              "      <td>8.539326</td>\n",
              "      <td>54</td>\n",
              "    </tr>\n",
              "    <tr>\n",
              "      <th>2</th>\n",
              "      <td>0</td>\n",
              "      <td>0</td>\n",
              "      <td>2</td>\n",
              "      <td>NaN</td>\n",
              "      <td>NaN</td>\n",
              "      <td>NaN</td>\n",
              "      <td>NaN</td>\n",
              "      <td>773</td>\n",
              "      <td>0</td>\n",
              "      <td>NaN</td>\n",
              "      <td>0.000000</td>\n",
              "      <td>0.722222</td>\n",
              "      <td>587.203947</td>\n",
              "      <td>8.539326</td>\n",
              "      <td>54</td>\n",
              "    </tr>\n",
              "    <tr>\n",
              "      <th>3</th>\n",
              "      <td>0</td>\n",
              "      <td>0</td>\n",
              "      <td>3</td>\n",
              "      <td>NaN</td>\n",
              "      <td>NaN</td>\n",
              "      <td>NaN</td>\n",
              "      <td>NaN</td>\n",
              "      <td>722</td>\n",
              "      <td>0</td>\n",
              "      <td>NaN</td>\n",
              "      <td>0.000000</td>\n",
              "      <td>0.722222</td>\n",
              "      <td>587.203947</td>\n",
              "      <td>8.539326</td>\n",
              "      <td>54</td>\n",
              "    </tr>\n",
              "    <tr>\n",
              "      <th>4</th>\n",
              "      <td>0</td>\n",
              "      <td>0</td>\n",
              "      <td>4</td>\n",
              "      <td>NaN</td>\n",
              "      <td>NaN</td>\n",
              "      <td>NaN</td>\n",
              "      <td>NaN</td>\n",
              "      <td>620</td>\n",
              "      <td>8</td>\n",
              "      <td>1.0</td>\n",
              "      <td>0.089888</td>\n",
              "      <td>0.722222</td>\n",
              "      <td>587.203947</td>\n",
              "      <td>8.539326</td>\n",
              "      <td>54</td>\n",
              "    </tr>\n",
              "    <tr>\n",
              "      <th>...</th>\n",
              "      <td>...</td>\n",
              "      <td>...</td>\n",
              "      <td>...</td>\n",
              "      <td>...</td>\n",
              "      <td>...</td>\n",
              "      <td>...</td>\n",
              "      <td>...</td>\n",
              "      <td>...</td>\n",
              "      <td>...</td>\n",
              "      <td>...</td>\n",
              "      <td>...</td>\n",
              "      <td>...</td>\n",
              "      <td>...</td>\n",
              "      <td>...</td>\n",
              "      <td>...</td>\n",
              "    </tr>\n",
              "    <tr>\n",
              "      <th>2224995</th>\n",
              "      <td>88</td>\n",
              "      <td>99</td>\n",
              "      <td>245</td>\n",
              "      <td>NaN</td>\n",
              "      <td>NaN</td>\n",
              "      <td>NaN</td>\n",
              "      <td>NaN</td>\n",
              "      <td>549</td>\n",
              "      <td>0</td>\n",
              "      <td>NaN</td>\n",
              "      <td>0.000000</td>\n",
              "      <td>0.763158</td>\n",
              "      <td>618.717752</td>\n",
              "      <td>8.797753</td>\n",
              "      <td>76</td>\n",
              "    </tr>\n",
              "    <tr>\n",
              "      <th>2224996</th>\n",
              "      <td>88</td>\n",
              "      <td>99</td>\n",
              "      <td>246</td>\n",
              "      <td>NaN</td>\n",
              "      <td>NaN</td>\n",
              "      <td>NaN</td>\n",
              "      <td>NaN</td>\n",
              "      <td>702</td>\n",
              "      <td>41</td>\n",
              "      <td>1.0</td>\n",
              "      <td>0.460674</td>\n",
              "      <td>0.763158</td>\n",
              "      <td>618.717752</td>\n",
              "      <td>8.797753</td>\n",
              "      <td>76</td>\n",
              "    </tr>\n",
              "    <tr>\n",
              "      <th>2224997</th>\n",
              "      <td>88</td>\n",
              "      <td>99</td>\n",
              "      <td>247</td>\n",
              "      <td>NaN</td>\n",
              "      <td>NaN</td>\n",
              "      <td>NaN</td>\n",
              "      <td>NaN</td>\n",
              "      <td>670</td>\n",
              "      <td>0</td>\n",
              "      <td>NaN</td>\n",
              "      <td>0.000000</td>\n",
              "      <td>0.763158</td>\n",
              "      <td>618.717752</td>\n",
              "      <td>8.797753</td>\n",
              "      <td>76</td>\n",
              "    </tr>\n",
              "    <tr>\n",
              "      <th>2224998</th>\n",
              "      <td>88</td>\n",
              "      <td>99</td>\n",
              "      <td>248</td>\n",
              "      <td>NaN</td>\n",
              "      <td>NaN</td>\n",
              "      <td>NaN</td>\n",
              "      <td>NaN</td>\n",
              "      <td>490</td>\n",
              "      <td>0</td>\n",
              "      <td>NaN</td>\n",
              "      <td>0.000000</td>\n",
              "      <td>0.763158</td>\n",
              "      <td>618.717752</td>\n",
              "      <td>8.797753</td>\n",
              "      <td>76</td>\n",
              "    </tr>\n",
              "    <tr>\n",
              "      <th>2224999</th>\n",
              "      <td>88</td>\n",
              "      <td>99</td>\n",
              "      <td>249</td>\n",
              "      <td>NaN</td>\n",
              "      <td>NaN</td>\n",
              "      <td>NaN</td>\n",
              "      <td>NaN</td>\n",
              "      <td>499</td>\n",
              "      <td>0</td>\n",
              "      <td>NaN</td>\n",
              "      <td>0.000000</td>\n",
              "      <td>0.763158</td>\n",
              "      <td>618.717752</td>\n",
              "      <td>8.797753</td>\n",
              "      <td>76</td>\n",
              "    </tr>\n",
              "  </tbody>\n",
              "</table>\n",
              "<p>2225000 rows × 15 columns</p>\n",
              "</div>"
            ],
            "text/plain": [
              "         week shopper  ... average_basket_size  unique_products_per_shopper\n",
              "0           0       0  ...            8.539326                           54\n",
              "1           0       0  ...            8.539326                           54\n",
              "2           0       0  ...            8.539326                           54\n",
              "3           0       0  ...            8.539326                           54\n",
              "4           0       0  ...            8.539326                           54\n",
              "...       ...     ...  ...                 ...                          ...\n",
              "2224995    88      99  ...            8.797753                           76\n",
              "2224996    88      99  ...            8.797753                           76\n",
              "2224997    88      99  ...            8.797753                           76\n",
              "2224998    88      99  ...            8.797753                           76\n",
              "2224999    88      99  ...            8.797753                           76\n",
              "\n",
              "[2225000 rows x 15 columns]"
            ]
          },
          "metadata": {
            "tags": []
          },
          "execution_count": 18
        }
      ]
    },
    {
      "cell_type": "code",
      "metadata": {
        "id": "vqmDWJCi1rIu",
        "colab": {
          "base_uri": "https://localhost:8080/"
        },
        "outputId": "288af957-7c87-40bc-b7c6-e5fcafc4d543"
      },
      "source": [
        "X_train.isnull().any()"
      ],
      "execution_count": 19,
      "outputs": [
        {
          "output_type": "execute_result",
          "data": {
            "text/plain": [
              "week                              False\n",
              "shopper                           False\n",
              "product                           False\n",
              "price                              True\n",
              "target                             True\n",
              "discount                           True\n",
              "coupon                             True\n",
              "original_price                    False\n",
              "total_count_of_product            False\n",
              "reordered                          True\n",
              "ratio_of_reordered_per_product    False\n",
              "ratio_of_reordered                False\n",
              "average_price_per_shopper         False\n",
              "average_basket_size               False\n",
              "unique_products_per_shopper       False\n",
              "dtype: bool"
            ]
          },
          "metadata": {
            "tags": []
          },
          "execution_count": 19
        }
      ]
    },
    {
      "cell_type": "code",
      "metadata": {
        "id": "qn633XNg1433"
      },
      "source": [
        "X_train['discount'].fillna(0, inplace=True)\r\n",
        "X_train['price'].fillna(X_train.original_price*(1-X_train.discount), inplace=True)\r\n",
        "X_train['reordered'].fillna(0, inplace=True)\r\n",
        "X_train['coupon'].fillna('No', inplace=True)\r\n",
        "# X_train['weeks_since_prior_order'].fillna(0, inplace=True)\r\n",
        "X_train['target'].fillna(0, inplace=True)"
      ],
      "execution_count": 20,
      "outputs": []
    },
    {
      "cell_type": "code",
      "metadata": {
        "id": "revDtQoM9TZM"
      },
      "source": [
        "addkey = X_train.groupby(['shopper','product']).target.apply(lambda x : x.eq(1).shift().fillna(0).cumsum())\r\n",
        "X_train['weeks_since_prior_order'] = X_train.target.eq(0).groupby([X_train['shopper'], X_train['product'], addkey]).cumcount().add(1) # .cumsum()"
      ],
      "execution_count": 21,
      "outputs": []
    },
    {
      "cell_type": "code",
      "metadata": {
        "colab": {
          "base_uri": "https://localhost:8080/",
          "height": 162
        },
        "id": "rza1aULIKYhH",
        "outputId": "5aab7b7e-8eed-4339-cfb0-4bdf95e2d61d"
      },
      "source": [
        "X_train.head(3)"
      ],
      "execution_count": 22,
      "outputs": [
        {
          "output_type": "execute_result",
          "data": {
            "text/html": [
              "<div>\n",
              "<style scoped>\n",
              "    .dataframe tbody tr th:only-of-type {\n",
              "        vertical-align: middle;\n",
              "    }\n",
              "\n",
              "    .dataframe tbody tr th {\n",
              "        vertical-align: top;\n",
              "    }\n",
              "\n",
              "    .dataframe thead th {\n",
              "        text-align: right;\n",
              "    }\n",
              "</style>\n",
              "<table border=\"1\" class=\"dataframe\">\n",
              "  <thead>\n",
              "    <tr style=\"text-align: right;\">\n",
              "      <th></th>\n",
              "      <th>week</th>\n",
              "      <th>shopper</th>\n",
              "      <th>product</th>\n",
              "      <th>price</th>\n",
              "      <th>target</th>\n",
              "      <th>discount</th>\n",
              "      <th>coupon</th>\n",
              "      <th>original_price</th>\n",
              "      <th>total_count_of_product</th>\n",
              "      <th>reordered</th>\n",
              "      <th>ratio_of_reordered_per_product</th>\n",
              "      <th>ratio_of_reordered</th>\n",
              "      <th>average_price_per_shopper</th>\n",
              "      <th>average_basket_size</th>\n",
              "      <th>unique_products_per_shopper</th>\n",
              "      <th>weeks_since_prior_order</th>\n",
              "    </tr>\n",
              "  </thead>\n",
              "  <tbody>\n",
              "    <tr>\n",
              "      <th>0</th>\n",
              "      <td>0</td>\n",
              "      <td>0</td>\n",
              "      <td>0</td>\n",
              "      <td>688.0</td>\n",
              "      <td>0.0</td>\n",
              "      <td>0.0</td>\n",
              "      <td>No</td>\n",
              "      <td>688</td>\n",
              "      <td>0</td>\n",
              "      <td>0.0</td>\n",
              "      <td>0.0</td>\n",
              "      <td>0.722222</td>\n",
              "      <td>587.203947</td>\n",
              "      <td>8.539326</td>\n",
              "      <td>54</td>\n",
              "      <td>1</td>\n",
              "    </tr>\n",
              "    <tr>\n",
              "      <th>1</th>\n",
              "      <td>0</td>\n",
              "      <td>0</td>\n",
              "      <td>1</td>\n",
              "      <td>560.0</td>\n",
              "      <td>0.0</td>\n",
              "      <td>0.0</td>\n",
              "      <td>No</td>\n",
              "      <td>560</td>\n",
              "      <td>0</td>\n",
              "      <td>0.0</td>\n",
              "      <td>0.0</td>\n",
              "      <td>0.722222</td>\n",
              "      <td>587.203947</td>\n",
              "      <td>8.539326</td>\n",
              "      <td>54</td>\n",
              "      <td>1</td>\n",
              "    </tr>\n",
              "    <tr>\n",
              "      <th>2</th>\n",
              "      <td>0</td>\n",
              "      <td>0</td>\n",
              "      <td>2</td>\n",
              "      <td>773.0</td>\n",
              "      <td>0.0</td>\n",
              "      <td>0.0</td>\n",
              "      <td>No</td>\n",
              "      <td>773</td>\n",
              "      <td>0</td>\n",
              "      <td>0.0</td>\n",
              "      <td>0.0</td>\n",
              "      <td>0.722222</td>\n",
              "      <td>587.203947</td>\n",
              "      <td>8.539326</td>\n",
              "      <td>54</td>\n",
              "      <td>1</td>\n",
              "    </tr>\n",
              "  </tbody>\n",
              "</table>\n",
              "</div>"
            ],
            "text/plain": [
              "   week shopper  ... unique_products_per_shopper  weeks_since_prior_order\n",
              "0     0       0  ...                          54                        1\n",
              "1     0       0  ...                          54                        1\n",
              "2     0       0  ...                          54                        1\n",
              "\n",
              "[3 rows x 16 columns]"
            ]
          },
          "metadata": {
            "tags": []
          },
          "execution_count": 22
        }
      ]
    },
    {
      "cell_type": "code",
      "metadata": {
        "id": "H7WgNBP1MWMl"
      },
      "source": [
        "# X_train.loc[(X_train['shopper']==0) & (X_train['product']==116)][['week', 'weeks_since_prior_order', 'target']][:50]"
      ],
      "execution_count": 23,
      "outputs": []
    },
    {
      "cell_type": "code",
      "metadata": {
        "id": "HpLTLpYsNK2b"
      },
      "source": [
        "X_train.drop('week', inplace=True, axis=1)"
      ],
      "execution_count": 24,
      "outputs": []
    },
    {
      "cell_type": "code",
      "metadata": {
        "id": "JusYjKDMM4uJ"
      },
      "source": [
        "y_train = X_train.pop('target')"
      ],
      "execution_count": 25,
      "outputs": []
    },
    {
      "cell_type": "markdown",
      "metadata": {
        "id": "axqHOE9eFziV"
      },
      "source": [
        "# Set Up Test Table"
      ]
    },
    {
      "cell_type": "code",
      "metadata": {
        "id": "FT6UARG-F1M1"
      },
      "source": [
        "full_df_test = (baskets_test\r\n",
        "           .merge(\r\n",
        "               coupons_test, \r\n",
        "               on=['week', 'shopper', 'product'], \r\n",
        "               how='outer',\r\n",
        "               indicator=True\r\n",
        "           )\r\n",
        "           .sort_values(by=['week', 'shopper', 'product'])\r\n",
        "           .reset_index(drop=True)\r\n",
        "          #  .replace(['left_only', 'right_only', 'both'], ['RRP', 'coupon', 'discounted'])\r\n",
        "          .replace(['left_only', 'right_only', 'both'], ['No', 'Yes', 'Yes'])\r\n",
        "          .rename(columns={'_merge': 'coupon'})\r\n",
        ")\r\n",
        "\r\n",
        "full_df_test.loc[full_df_test['discount'].isna(),'discount' ] = 0"
      ],
      "execution_count": 26,
      "outputs": []
    },
    {
      "cell_type": "code",
      "metadata": {
        "id": "0798jjAoGYBX"
      },
      "source": [
        "df1 = pd.DataFrame({'key': np.ones(len(baskets_test.week.unique())), 'week': baskets_test.week.unique()})\r\n",
        "df2 = pd.DataFrame({'key': np.ones(shoppers), 'shopper': list(range(shoppers))})\r\n",
        "df3 = pd.DataFrame({'key': np.ones(250), 'product': list(range(250))})\r\n",
        "df4 = full_df_test.copy()\r\n",
        "\r\n",
        "X_test = pd.merge(df1, df2, on='key').merge(df3, on='key').merge(df4, on=['week', 'shopper', 'product'], how='left')[full_df_test.columns]"
      ],
      "execution_count": 27,
      "outputs": []
    },
    {
      "cell_type": "code",
      "metadata": {
        "id": "8NGu4gbdHRX0"
      },
      "source": [
        "X_test = (X_test\r\n",
        "           .merge(original_price, on=['product'], how='left')\r\n",
        "           .merge(total_count_of_product, on=['shopper', 'product'], how='left')\r\n",
        "           .merge(reordered, on=['shopper', 'product'], how='left')\r\n",
        "           .merge(ratio_of_reordered_per_product, on=['shopper', 'product'], how='left')\r\n",
        "           .merge(ratio_of_reordered_per_shopper, on=['shopper'], how='left')\r\n",
        "           .merge(average_price_per_shopper, on=['shopper'], how='left')\r\n",
        "           .merge(average_basket_size, on=['shopper'], how='left')\r\n",
        "           .merge(unique_products_per_shopper, on=['shopper'], how='left')\r\n",
        "           )"
      ],
      "execution_count": 28,
      "outputs": []
    },
    {
      "cell_type": "code",
      "metadata": {
        "id": "rOrIgnqAHW2E"
      },
      "source": [
        "X_test['discount'].fillna(0, inplace=True)\r\n",
        "X_test['price'].fillna(X_test.original_price*(1-X_test.discount), inplace=True)\r\n",
        "X_test['reordered'].fillna(0, inplace=True)\r\n",
        "X_test['coupon'].fillna('No', inplace=True)\r\n",
        "# X_train['weeks_since_prior_order'].fillna(0, inplace=True)\r\n",
        "X_test['target'].fillna(0, inplace=True)"
      ],
      "execution_count": 29,
      "outputs": []
    },
    {
      "cell_type": "code",
      "metadata": {
        "id": "gSwbUr6iqM6K"
      },
      "source": [
        "last_weeks_since_prior_order = X_train.groupby(['shopper', 'product']).weeks_since_prior_order.last() + 1"
      ],
      "execution_count": 30,
      "outputs": []
    },
    {
      "cell_type": "code",
      "metadata": {
        "id": "LmUFkG9LHdBU"
      },
      "source": [
        "X_test = X_test.merge(last_weeks_since_prior_order, on=['shopper', 'product'])"
      ],
      "execution_count": 31,
      "outputs": []
    },
    {
      "cell_type": "code",
      "metadata": {
        "id": "esJU5lH5Hfrw"
      },
      "source": [
        "X_test.drop('week', inplace=True, axis=1)"
      ],
      "execution_count": 32,
      "outputs": []
    },
    {
      "cell_type": "code",
      "metadata": {
        "id": "btpSR8UrHiGK"
      },
      "source": [
        "y_test = X_test.pop('target')"
      ],
      "execution_count": 33,
      "outputs": []
    },
    {
      "cell_type": "markdown",
      "metadata": {
        "id": "IpTCdVohNBfe"
      },
      "source": [
        "# One-Hot Encoding Products"
      ]
    },
    {
      "cell_type": "code",
      "metadata": {
        "id": "YPQYX7XsNFkc"
      },
      "source": [
        "# from sklearn.preprocessing import OneHotEncoder"
      ],
      "execution_count": 34,
      "outputs": []
    },
    {
      "cell_type": "code",
      "metadata": {
        "id": "JEu6IUrcNYUF"
      },
      "source": [
        "# enc = OneHotEncoder(sparse=False)\r\n",
        "\r\n",
        "# encodings = X_train.select_dtypes(exclude=np.number).columns.tolist()\r\n",
        "# # encoded = pd.DataFrame.sparse.from_spmatrix(enc.fit_transform(X_train[encodings]))\r\n",
        "# encoded = pd.DataFrame(enc.fit_transform(X_train[encodings]))\r\n",
        "# encoded.columns = enc.get_feature_names(encodings)\r\n",
        "\r\n",
        "# X_train = pd.concat([X_train, encoded], axis=1).drop(encodings, axis=1)"
      ],
      "execution_count": 35,
      "outputs": []
    },
    {
      "cell_type": "code",
      "metadata": {
        "id": "VM3cp8lUN-hl"
      },
      "source": [
        "# X_train = X_train.apply(pd.to_numeric)"
      ],
      "execution_count": 36,
      "outputs": []
    },
    {
      "cell_type": "code",
      "metadata": {
        "id": "AhQxYvU8-7bh"
      },
      "source": [
        "# X_train.head(3)"
      ],
      "execution_count": 37,
      "outputs": []
    },
    {
      "cell_type": "markdown",
      "metadata": {
        "id": "YJru_84FBBkL"
      },
      "source": [
        "# Training"
      ]
    },
    {
      "cell_type": "code",
      "metadata": {
        "id": "OZzYldzn82cy"
      },
      "source": [
        "import lightgbm as lgb\r\n",
        "from lightgbm.sklearn import LGBMClassifier"
      ],
      "execution_count": 45,
      "outputs": []
    },
    {
      "cell_type": "code",
      "metadata": {
        "id": "wdA8Ksti88PQ"
      },
      "source": [
        "from collections import Counter\r\n",
        "\r\n",
        "# count examples in each class\r\n",
        "counter = Counter(y_train)\r\n",
        "# estimate scale_pos_weight value\r\n",
        "estimate = counter[0] / counter[1]\r\n",
        "\r\n",
        "lgb_clf = LGBMClassifier(\r\n",
        "    scale_pos_weight=1 #estimate\r\n",
        "    )"
      ],
      "execution_count": 39,
      "outputs": []
    },
    {
      "cell_type": "code",
      "metadata": {
        "id": "tSs4AVy4EoNX"
      },
      "source": [
        "categorical = X_train.select_dtypes(exclude=np.number).columns.tolist()\r\n",
        "for cats in categorical:\r\n",
        "  X_train[cats] = X_train[cats].astype('category')\r\n",
        "  X_test[cats] = X_test[cats].astype('category')"
      ],
      "execution_count": 40,
      "outputs": []
    },
    {
      "cell_type": "code",
      "metadata": {
        "colab": {
          "base_uri": "https://localhost:8080/"
        },
        "id": "6JpsBYe96hEK",
        "outputId": "eef8eb3a-9d3d-438d-e5ac-33b843262543"
      },
      "source": [
        "lgb_clf.fit(X_train, y_train, categorical_feature=categorical)"
      ],
      "execution_count": 41,
      "outputs": [
        {
          "output_type": "stream",
          "text": [
            "/usr/local/lib/python3.7/dist-packages/lightgbm/basic.py:1551: UserWarning: Using categorical_feature in Dataset.\n",
            "  warnings.warn('Using categorical_feature in Dataset.')\n"
          ],
          "name": "stderr"
        },
        {
          "output_type": "execute_result",
          "data": {
            "text/plain": [
              "LGBMClassifier(scale_pos_weight=1)"
            ]
          },
          "metadata": {
            "tags": []
          },
          "execution_count": 41
        }
      ]
    },
    {
      "cell_type": "code",
      "metadata": {
        "colab": {
          "base_uri": "https://localhost:8080/"
        },
        "id": "ww-I5suLK2ky",
        "outputId": "cfcc89cf-3f99-4f52-9902-9c8c853b4016"
      },
      "source": [
        "lgb_clf.score(X_train, y_train)"
      ],
      "execution_count": 42,
      "outputs": [
        {
          "output_type": "execute_result",
          "data": {
            "text/plain": [
              "0.9735357303370786"
            ]
          },
          "metadata": {
            "tags": []
          },
          "execution_count": 42
        }
      ]
    },
    {
      "cell_type": "code",
      "metadata": {
        "colab": {
          "base_uri": "https://localhost:8080/"
        },
        "id": "y8Ed3Njd_rAs",
        "outputId": "70c3601f-52fa-4060-ba5c-d8a41bc549a4"
      },
      "source": [
        "lgb_clf.score(X_test, y_test)"
      ],
      "execution_count": 43,
      "outputs": [
        {
          "output_type": "execute_result",
          "data": {
            "text/plain": [
              "0.97172"
            ]
          },
          "metadata": {
            "tags": []
          },
          "execution_count": 43
        }
      ]
    },
    {
      "cell_type": "markdown",
      "metadata": {
        "id": "8gNl_D1m_MGG"
      },
      "source": [
        "## Evaluation"
      ]
    },
    {
      "cell_type": "code",
      "metadata": {
        "colab": {
          "base_uri": "https://localhost:8080/",
          "height": 312
        },
        "id": "r73rkPIYFn1I",
        "outputId": "b77722ea-927b-47cf-bfef-ebf33c158a5c"
      },
      "source": [
        "lgb.plot_importance(lgb_clf, max_num_features=10)"
      ],
      "execution_count": 46,
      "outputs": [
        {
          "output_type": "execute_result",
          "data": {
            "text/plain": [
              "<matplotlib.axes._subplots.AxesSubplot at 0x7f80abe4f2d0>"
            ]
          },
          "metadata": {
            "tags": []
          },
          "execution_count": 46
        },
        {
          "output_type": "display_data",
          "data": {
            "image/png": "[encoded data removed]",
            "text/plain": [
              "<Figure size 432x288 with 1 Axes>"
            ]
          },
          "metadata": {
            "tags": [],
            "needs_background": "light"
          }
        }
      ]
    },
    {
      "cell_type": "code",
      "metadata": {
        "colab": {
          "base_uri": "https://localhost:8080/",
          "height": 312
        },
        "id": "FYfDwpA4JLeQ",
        "outputId": "5a7a8380-5e2a-46f0-ba24-7523e3f9fce9"
      },
      "source": [
        "lgb.plot_importance(lgb_clf, max_num_features=10, importance_type='gain')"
      ],
      "execution_count": 47,
      "outputs": [
        {
          "output_type": "execute_result",
          "data": {
            "text/plain": [
              "<matplotlib.axes._subplots.AxesSubplot at 0x7f7d89e3b990>"
            ]
          },
          "metadata": {
            "tags": []
          },
          "execution_count": 47
        },
        {
          "output_type": "display_data",
          "data": {
            "image/png": "[encoded data removed]",
            "text/plain": [
              "<Figure size 432x288 with 1 Axes>"
            ]
          },
          "metadata": {
            "tags": [],
            "needs_background": "light"
          }
        }
      ]
    },
    {
      "cell_type": "code",
      "metadata": {
        "colab": {
          "base_uri": "https://localhost:8080/",
          "height": 296
        },
        "id": "3OJJnMzMLY_w",
        "outputId": "2651dfc2-459e-4cb6-95a7-4e45955548ba"
      },
      "source": [
        "from sklearn.metrics import plot_roc_curve\r\n",
        "plot_roc_curve(estimator=lgb_clf, X=X_test, y=y_test)"
      ],
      "execution_count": 48,
      "outputs": [
        {
          "output_type": "execute_result",
          "data": {
            "text/plain": [
              "<sklearn.metrics._plot.roc_curve.RocCurveDisplay at 0x7f7d89e5dc90>"
            ]
          },
          "metadata": {
            "tags": []
          },
          "execution_count": 48
        },
        {
          "output_type": "display_data",
          "data": {
            "image/png": "[encoded data removed]",
            "text/plain": [
              "<Figure size 432x288 with 1 Axes>"
            ]
          },
          "metadata": {
            "tags": [],
            "needs_background": "light"
          }
        }
      ]
    },
    {
      "cell_type": "code",
      "metadata": {
        "colab": {
          "base_uri": "https://localhost:8080/",
          "height": 296
        },
        "id": "wDJ2A_hGVtlu",
        "outputId": "ba4e8ecc-fcef-4ddf-dbd5-f7ca1c040de4"
      },
      "source": [
        "from sklearn.metrics import plot_confusion_matrix\r\n",
        "from sklearn.metrics import confusion_matrix\r\n",
        "\r\n",
        "y_pred = lgb_clf.predict(X_test)\r\n",
        "confusion = confusion_matrix(y_test, y_pred)\r\n",
        "plot_confusion_matrix(estimator=lgb_clf, X=X_test, y_true=y_test, display_labels=['No', 'Yes'], normalize='true')"
      ],
      "execution_count": 49,
      "outputs": [
        {
          "output_type": "execute_result",
          "data": {
            "text/plain": [
              "<sklearn.metrics._plot.confusion_matrix.ConfusionMatrixDisplay at 0x7f80808dc450>"
            ]
          },
          "metadata": {
            "tags": []
          },
          "execution_count": 49
        },
        {
          "output_type": "display_data",
          "data": {
            "image/png": "[encoded data removed]",
            "text/plain": [
              "<Figure size 432x288 with 2 Axes>"
            ]
          },
          "metadata": {
            "tags": [],
            "needs_background": "light"
          }
        }
      ]
    },
    {
      "cell_type": "code",
      "metadata": {
        "colab": {
          "base_uri": "https://localhost:8080/"
        },
        "id": "cYUx-LeHWd2O",
        "outputId": "aff46b00-fc16-4eca-e71b-86faf4cec8bf"
      },
      "source": [
        "confusion"
      ],
      "execution_count": 50,
      "outputs": [
        {
          "output_type": "execute_result",
          "data": {
            "text/plain": [
              "array([[24111,   170],\n",
              "       [  537,   182]])"
            ]
          },
          "metadata": {
            "tags": []
          },
          "execution_count": 50
        }
      ]
    },
    {
      "cell_type": "code",
      "metadata": {
        "id": "XkJPcocOYQSs"
      },
      "source": [
        "FP = confusion[0][1]\r\n",
        "FN = confusion[1][0]\r\n",
        "TP = confusion[1][1]\r\n",
        "TN = confusion[0][0]\r\n",
        "\r\n",
        "# Sensitivity, hit rate, recall, or true positive rate\r\n",
        "TPR = TP/(TP+FN)\r\n",
        "# Specificity or true negative rate\r\n",
        "TNR = TN/(TN+FP) \r\n",
        "# Negative predictive value\r\n",
        "NPV = TN/(TN+FN)\r\n",
        "# Fall out or false positive rate\r\n",
        "FPR = FP/(FP+TN)\r\n",
        "# False negative rate\r\n",
        "FNR = FN/(TP+FN)\r\n",
        "# Precision\r\n",
        "PPV = TP/(TP+FP)\r\n",
        "# False discovery rate -> 1-Precision\r\n",
        "FDR = FP/(TP+FP)\r\n",
        "\r\n",
        "# Overall accuracy\r\n",
        "ACC = (TP+TN)/(TP+FP+FN+TN)"
      ],
      "execution_count": 51,
      "outputs": []
    },
    {
      "cell_type": "code",
      "metadata": {
        "colab": {
          "base_uri": "https://localhost:8080/"
        },
        "id": "gQhj4F3vZ8XE",
        "outputId": "c1fcd371-59bf-4d42-c065-1a35aaafba1a"
      },
      "source": [
        "print(f'TPR: {TPR:.4f}')\r\n",
        "print(f'TNR: {TNR:.4f}')\r\n",
        "print(f'FPR: {FPR:.4f}')\r\n",
        "print(f'FNR: {FNR:.4f}')\r\n",
        "print(f'Precision: {PPV:.4f}')\r\n",
        "print(f'False discovery rate: {FDR:.4f}')"
      ],
      "execution_count": 52,
      "outputs": [
        {
          "output_type": "stream",
          "text": [
            "TPR: 0.2531\n",
            "TNR: 0.9930\n",
            "FPR: 0.0070\n",
            "FNR: 0.7469\n",
            "Precision: 0.5170\n",
            "False discovery rate: 0.4830\n"
          ],
          "name": "stdout"
        }
      ]
    },
    {
      "cell_type": "markdown",
      "metadata": {
        "id": "O9KJTyQQHf2P"
      },
      "source": [
        "### Old weeks_prior\r\n",
        "shoppers = 100\r\n",
        "\r\n",
        "**scale pos weight=1:**\r\n",
        "\r\n",
        "TPR: 0.0459\r\n",
        "\r\n",
        "TNR: 1.0000\r\n",
        "\r\n",
        "FPR: 0.0000\r\n",
        "\r\n",
        "FNR: 0.9541\r\n",
        "\r\n",
        "Precision: 1.0000\r\n",
        "\r\n",
        "False discovery rate: 0.0000\r\n",
        "\r\n",
        "\r\n",
        "**scale pos weight=estimate:**\r\n",
        "\r\n",
        "TPR: 0.9318\r\n",
        "\r\n",
        "TNR: 0.8589\r\n",
        "\r\n",
        "FPR: 0.1411\r\n",
        "\r\n",
        "FNR: 0.0682\r\n",
        "\r\n",
        "Precision: 0.1636\r\n",
        "\r\n",
        "False discovery rate: 0.8364"
      ]
    },
    {
      "cell_type": "markdown",
      "metadata": {
        "id": "6ya0MdCKryGI"
      },
      "source": [
        "### New weeks_prior\r\n",
        "\r\n",
        "shoppers = 100\r\n",
        "\r\n",
        "**scale pos weight=1:**\r\n",
        "\r\n",
        "TPR: 0.2559\r\n",
        "\r\n",
        "TNR: 0.9930\r\n",
        "\r\n",
        "FPR: 0.0070\r\n",
        "\r\n",
        "FNR: 0.7441\r\n",
        "\r\n",
        "Precision: 0.5183\r\n",
        "\r\n",
        "False discovery rate: 0.4817\r\n",
        "\r\n",
        "\r\n",
        "**scale pos weight=estimate:**\r\n",
        "\r\n",
        "TPR: 0.9318\r\n",
        "\r\n",
        "TNR: 0.8563\r\n",
        "\r\n",
        "FPR: 0.1437\r\n",
        "\r\n",
        "FNR: 0.0682\r\n",
        "\r\n",
        "Precision: 0.1611\r\n",
        "\r\n",
        "False discovery rate: 0.8389"
      ]
    },
    {
      "cell_type": "markdown",
      "metadata": {
        "id": "6wfrfIg6_PBa"
      },
      "source": [
        "## evaluating specific examples"
      ]
    },
    {
      "cell_type": "code",
      "metadata": {
        "colab": {
          "base_uri": "https://localhost:8080/",
          "height": 419
        },
        "id": "m4ELOXB_3H0B",
        "outputId": "ecc2c3a0-dadf-4a38-fe87-b83799a47e82"
      },
      "source": [
        "pd.DataFrame(lgb_clf.predict_proba(X_test))"
      ],
      "execution_count": 53,
      "outputs": [
        {
          "output_type": "execute_result",
          "data": {
            "text/html": [
              "<div>\n",
              "<style scoped>\n",
              "    .dataframe tbody tr th:only-of-type {\n",
              "        vertical-align: middle;\n",
              "    }\n",
              "\n",
              "    .dataframe tbody tr th {\n",
              "        vertical-align: top;\n",
              "    }\n",
              "\n",
              "    .dataframe thead th {\n",
              "        text-align: right;\n",
              "    }\n",
              "</style>\n",
              "<table border=\"1\" class=\"dataframe\">\n",
              "  <thead>\n",
              "    <tr style=\"text-align: right;\">\n",
              "      <th></th>\n",
              "      <th>0</th>\n",
              "      <th>1</th>\n",
              "    </tr>\n",
              "  </thead>\n",
              "  <tbody>\n",
              "    <tr>\n",
              "      <th>0</th>\n",
              "      <td>0.999999</td>\n",
              "      <td>0.000001</td>\n",
              "    </tr>\n",
              "    <tr>\n",
              "      <th>1</th>\n",
              "      <td>0.999999</td>\n",
              "      <td>0.000001</td>\n",
              "    </tr>\n",
              "    <tr>\n",
              "      <th>2</th>\n",
              "      <td>0.999999</td>\n",
              "      <td>0.000001</td>\n",
              "    </tr>\n",
              "    <tr>\n",
              "      <th>3</th>\n",
              "      <td>0.999999</td>\n",
              "      <td>0.000001</td>\n",
              "    </tr>\n",
              "    <tr>\n",
              "      <th>4</th>\n",
              "      <td>0.904232</td>\n",
              "      <td>0.095768</td>\n",
              "    </tr>\n",
              "    <tr>\n",
              "      <th>...</th>\n",
              "      <td>...</td>\n",
              "      <td>...</td>\n",
              "    </tr>\n",
              "    <tr>\n",
              "      <th>24995</th>\n",
              "      <td>0.999999</td>\n",
              "      <td>0.000001</td>\n",
              "    </tr>\n",
              "    <tr>\n",
              "      <th>24996</th>\n",
              "      <td>0.597427</td>\n",
              "      <td>0.402573</td>\n",
              "    </tr>\n",
              "    <tr>\n",
              "      <th>24997</th>\n",
              "      <td>0.999999</td>\n",
              "      <td>0.000001</td>\n",
              "    </tr>\n",
              "    <tr>\n",
              "      <th>24998</th>\n",
              "      <td>0.999999</td>\n",
              "      <td>0.000001</td>\n",
              "    </tr>\n",
              "    <tr>\n",
              "      <th>24999</th>\n",
              "      <td>0.999999</td>\n",
              "      <td>0.000001</td>\n",
              "    </tr>\n",
              "  </tbody>\n",
              "</table>\n",
              "<p>25000 rows × 2 columns</p>\n",
              "</div>"
            ],
            "text/plain": [
              "              0         1\n",
              "0      0.999999  0.000001\n",
              "1      0.999999  0.000001\n",
              "2      0.999999  0.000001\n",
              "3      0.999999  0.000001\n",
              "4      0.904232  0.095768\n",
              "...         ...       ...\n",
              "24995  0.999999  0.000001\n",
              "24996  0.597427  0.402573\n",
              "24997  0.999999  0.000001\n",
              "24998  0.999999  0.000001\n",
              "24999  0.999999  0.000001\n",
              "\n",
              "[25000 rows x 2 columns]"
            ]
          },
          "metadata": {
            "tags": []
          },
          "execution_count": 53
        }
      ]
    },
    {
      "cell_type": "code",
      "metadata": {
        "id": "1pL4w-bH3tom"
      },
      "source": [
        "pred_frame = pd.concat((X_test, y_test, pd.DataFrame(lgb_clf.predict_proba(X_test))[1]), axis=1)[['shopper', 'product', 'target', 'weeks_since_prior_order', 1]]"
      ],
      "execution_count": 54,
      "outputs": []
    },
    {
      "cell_type": "code",
      "metadata": {
        "colab": {
          "base_uri": "https://localhost:8080/",
          "height": 359
        },
        "id": "2-O21JfT4NBI",
        "outputId": "3f741704-ed0c-46ec-a42f-441ff9a68fcc"
      },
      "source": [
        "pred_frame.tail(10)"
      ],
      "execution_count": 55,
      "outputs": [
        {
          "output_type": "execute_result",
          "data": {
            "text/html": [
              "<div>\n",
              "<style scoped>\n",
              "    .dataframe tbody tr th:only-of-type {\n",
              "        vertical-align: middle;\n",
              "    }\n",
              "\n",
              "    .dataframe tbody tr th {\n",
              "        vertical-align: top;\n",
              "    }\n",
              "\n",
              "    .dataframe thead th {\n",
              "        text-align: right;\n",
              "    }\n",
              "</style>\n",
              "<table border=\"1\" class=\"dataframe\">\n",
              "  <thead>\n",
              "    <tr style=\"text-align: right;\">\n",
              "      <th></th>\n",
              "      <th>shopper</th>\n",
              "      <th>product</th>\n",
              "      <th>target</th>\n",
              "      <th>weeks_since_prior_order</th>\n",
              "      <th>1</th>\n",
              "    </tr>\n",
              "  </thead>\n",
              "  <tbody>\n",
              "    <tr>\n",
              "      <th>24990</th>\n",
              "      <td>99</td>\n",
              "      <td>240</td>\n",
              "      <td>0.0</td>\n",
              "      <td>90</td>\n",
              "      <td>0.000001</td>\n",
              "    </tr>\n",
              "    <tr>\n",
              "      <th>24991</th>\n",
              "      <td>99</td>\n",
              "      <td>241</td>\n",
              "      <td>0.0</td>\n",
              "      <td>90</td>\n",
              "      <td>0.000001</td>\n",
              "    </tr>\n",
              "    <tr>\n",
              "      <th>24992</th>\n",
              "      <td>99</td>\n",
              "      <td>242</td>\n",
              "      <td>0.0</td>\n",
              "      <td>44</td>\n",
              "      <td>0.009532</td>\n",
              "    </tr>\n",
              "    <tr>\n",
              "      <th>24993</th>\n",
              "      <td>99</td>\n",
              "      <td>243</td>\n",
              "      <td>0.0</td>\n",
              "      <td>90</td>\n",
              "      <td>0.000001</td>\n",
              "    </tr>\n",
              "    <tr>\n",
              "      <th>24994</th>\n",
              "      <td>99</td>\n",
              "      <td>244</td>\n",
              "      <td>0.0</td>\n",
              "      <td>90</td>\n",
              "      <td>0.000001</td>\n",
              "    </tr>\n",
              "    <tr>\n",
              "      <th>24995</th>\n",
              "      <td>99</td>\n",
              "      <td>245</td>\n",
              "      <td>0.0</td>\n",
              "      <td>90</td>\n",
              "      <td>0.000001</td>\n",
              "    </tr>\n",
              "    <tr>\n",
              "      <th>24996</th>\n",
              "      <td>99</td>\n",
              "      <td>246</td>\n",
              "      <td>1.0</td>\n",
              "      <td>12</td>\n",
              "      <td>0.402573</td>\n",
              "    </tr>\n",
              "    <tr>\n",
              "      <th>24997</th>\n",
              "      <td>99</td>\n",
              "      <td>247</td>\n",
              "      <td>0.0</td>\n",
              "      <td>90</td>\n",
              "      <td>0.000001</td>\n",
              "    </tr>\n",
              "    <tr>\n",
              "      <th>24998</th>\n",
              "      <td>99</td>\n",
              "      <td>248</td>\n",
              "      <td>0.0</td>\n",
              "      <td>90</td>\n",
              "      <td>0.000001</td>\n",
              "    </tr>\n",
              "    <tr>\n",
              "      <th>24999</th>\n",
              "      <td>99</td>\n",
              "      <td>249</td>\n",
              "      <td>0.0</td>\n",
              "      <td>90</td>\n",
              "      <td>0.000001</td>\n",
              "    </tr>\n",
              "  </tbody>\n",
              "</table>\n",
              "</div>"
            ],
            "text/plain": [
              "      shopper product  target  weeks_since_prior_order         1\n",
              "24990      99     240     0.0                       90  0.000001\n",
              "24991      99     241     0.0                       90  0.000001\n",
              "24992      99     242     0.0                       44  0.009532\n",
              "24993      99     243     0.0                       90  0.000001\n",
              "24994      99     244     0.0                       90  0.000001\n",
              "24995      99     245     0.0                       90  0.000001\n",
              "24996      99     246     1.0                       12  0.402573\n",
              "24997      99     247     0.0                       90  0.000001\n",
              "24998      99     248     0.0                       90  0.000001\n",
              "24999      99     249     0.0                       90  0.000001"
            ]
          },
          "metadata": {
            "tags": []
          },
          "execution_count": 55
        }
      ]
    },
    {
      "cell_type": "code",
      "metadata": {
        "colab": {
          "base_uri": "https://localhost:8080/",
          "height": 80
        },
        "id": "TIEHqpCI5TwW",
        "outputId": "77e3084c-f3cd-40a0-b00f-bb20e5f10652"
      },
      "source": [
        "pred_frame.loc[(pred_frame['shopper']==0) & (pred_frame['product']==4)]"
      ],
      "execution_count": 56,
      "outputs": [
        {
          "output_type": "execute_result",
          "data": {
            "text/html": [
              "<div>\n",
              "<style scoped>\n",
              "    .dataframe tbody tr th:only-of-type {\n",
              "        vertical-align: middle;\n",
              "    }\n",
              "\n",
              "    .dataframe tbody tr th {\n",
              "        vertical-align: top;\n",
              "    }\n",
              "\n",
              "    .dataframe thead th {\n",
              "        text-align: right;\n",
              "    }\n",
              "</style>\n",
              "<table border=\"1\" class=\"dataframe\">\n",
              "  <thead>\n",
              "    <tr style=\"text-align: right;\">\n",
              "      <th></th>\n",
              "      <th>shopper</th>\n",
              "      <th>product</th>\n",
              "      <th>target</th>\n",
              "      <th>weeks_since_prior_order</th>\n",
              "      <th>1</th>\n",
              "    </tr>\n",
              "  </thead>\n",
              "  <tbody>\n",
              "    <tr>\n",
              "      <th>4</th>\n",
              "      <td>0</td>\n",
              "      <td>4</td>\n",
              "      <td>0.0</td>\n",
              "      <td>19</td>\n",
              "      <td>0.095768</td>\n",
              "    </tr>\n",
              "  </tbody>\n",
              "</table>\n",
              "</div>"
            ],
            "text/plain": [
              "  shopper product  target  weeks_since_prior_order         1\n",
              "4       0       4     0.0                       19  0.095768"
            ]
          },
          "metadata": {
            "tags": []
          },
          "execution_count": 56
        }
      ]
    },
    {
      "cell_type": "code",
      "metadata": {
        "colab": {
          "base_uri": "https://localhost:8080/",
          "height": 297
        },
        "id": "KlhSf6rl5iUK",
        "outputId": "6896f604-7710-49bf-a2d5-afba3a8da169"
      },
      "source": [
        "baskets_train.loc[\r\n",
        "            (baskets_train['shopper']==0) \r\n",
        "            & (baskets_train['product']==4)\r\n",
        "            & (baskets_train['target']==1)\r\n",
        "]"
      ],
      "execution_count": 57,
      "outputs": [
        {
          "output_type": "execute_result",
          "data": {
            "text/html": [
              "<div>\n",
              "<style scoped>\n",
              "    .dataframe tbody tr th:only-of-type {\n",
              "        vertical-align: middle;\n",
              "    }\n",
              "\n",
              "    .dataframe tbody tr th {\n",
              "        vertical-align: top;\n",
              "    }\n",
              "\n",
              "    .dataframe thead th {\n",
              "        text-align: right;\n",
              "    }\n",
              "</style>\n",
              "<table border=\"1\" class=\"dataframe\">\n",
              "  <thead>\n",
              "    <tr style=\"text-align: right;\">\n",
              "      <th></th>\n",
              "      <th>week</th>\n",
              "      <th>shopper</th>\n",
              "      <th>product</th>\n",
              "      <th>price</th>\n",
              "      <th>target</th>\n",
              "    </tr>\n",
              "  </thead>\n",
              "  <tbody>\n",
              "    <tr>\n",
              "      <th>18360597</th>\n",
              "      <td>24</td>\n",
              "      <td>0</td>\n",
              "      <td>4</td>\n",
              "      <td>620</td>\n",
              "      <td>1</td>\n",
              "    </tr>\n",
              "    <tr>\n",
              "      <th>30596544</th>\n",
              "      <td>40</td>\n",
              "      <td>0</td>\n",
              "      <td>4</td>\n",
              "      <td>620</td>\n",
              "      <td>1</td>\n",
              "    </tr>\n",
              "    <tr>\n",
              "      <th>34421333</th>\n",
              "      <td>45</td>\n",
              "      <td>0</td>\n",
              "      <td>4</td>\n",
              "      <td>620</td>\n",
              "      <td>1</td>\n",
              "    </tr>\n",
              "    <tr>\n",
              "      <th>39009343</th>\n",
              "      <td>51</td>\n",
              "      <td>0</td>\n",
              "      <td>4</td>\n",
              "      <td>620</td>\n",
              "      <td>1</td>\n",
              "    </tr>\n",
              "    <tr>\n",
              "      <th>41304982</th>\n",
              "      <td>54</td>\n",
              "      <td>0</td>\n",
              "      <td>4</td>\n",
              "      <td>620</td>\n",
              "      <td>1</td>\n",
              "    </tr>\n",
              "    <tr>\n",
              "      <th>44365285</th>\n",
              "      <td>58</td>\n",
              "      <td>0</td>\n",
              "      <td>4</td>\n",
              "      <td>620</td>\n",
              "      <td>1</td>\n",
              "    </tr>\n",
              "    <tr>\n",
              "      <th>45895349</th>\n",
              "      <td>60</td>\n",
              "      <td>0</td>\n",
              "      <td>4</td>\n",
              "      <td>620</td>\n",
              "      <td>1</td>\n",
              "    </tr>\n",
              "    <tr>\n",
              "      <th>53543562</th>\n",
              "      <td>70</td>\n",
              "      <td>0</td>\n",
              "      <td>4</td>\n",
              "      <td>620</td>\n",
              "      <td>1</td>\n",
              "    </tr>\n",
              "  </tbody>\n",
              "</table>\n",
              "</div>"
            ],
            "text/plain": [
              "          week shopper product  price  target\n",
              "18360597    24       0       4    620       1\n",
              "30596544    40       0       4    620       1\n",
              "34421333    45       0       4    620       1\n",
              "39009343    51       0       4    620       1\n",
              "41304982    54       0       4    620       1\n",
              "44365285    58       0       4    620       1\n",
              "45895349    60       0       4    620       1\n",
              "53543562    70       0       4    620       1"
            ]
          },
          "metadata": {
            "tags": []
          },
          "execution_count": 57
        }
      ]
    },
    {
      "cell_type": "code",
      "metadata": {
        "colab": {
          "base_uri": "https://localhost:8080/",
          "height": 297
        },
        "id": "ddIF5g-D_Soy",
        "outputId": "8e2862f3-9dca-4627-92c5-5670fc6b8cf1"
      },
      "source": [
        "from sklearn.inspection import plot_partial_dependence\r\n",
        "\r\n",
        "plot_partial_dependence(estimator=lgb_clf, X=X_test, features=['weeks_since_prior_order', 'discount'])"
      ],
      "execution_count": 58,
      "outputs": [
        {
          "output_type": "execute_result",
          "data": {
            "text/plain": [
              "<sklearn.inspection._plot.partial_dependence.PartialDependenceDisplay at 0x7f80abe40990>"
            ]
          },
          "metadata": {
            "tags": []
          },
          "execution_count": 58
        },
        {
          "output_type": "display_data",
          "data": {
            "image/png": "[encoded data removed]",
            "text/plain": [
              "<Figure size 432x288 with 3 Axes>"
            ]
          },
          "metadata": {
            "tags": [],
            "needs_background": "light"
          }
        }
      ]
    },
    {
      "cell_type": "markdown",
      "metadata": {
        "id": "B73KLlk4HqzH"
      },
      "source": [
        "# Hypertuning"
      ]
    },
    {
      "cell_type": "code",
      "metadata": {
        "colab": {
          "base_uri": "https://localhost:8080/",
          "height": 1000
        },
        "id": "-jgr3_1ZhtG4",
        "outputId": "062679da-2859-4566-8664-06c1ea8dad61"
      },
      "source": [
        "!sudo apt-get install build-essential swig\r\n",
        "!pip install auto-sklearn==0.12"
      ],
      "execution_count": 5,
      "outputs": [
        {
          "output_type": "stream",
          "text": [
            "Reading package lists... Done\n",
            "Building dependency tree       \n",
            "Reading state information... Done\n",
            "build-essential is already the newest version (12.4ubuntu1).\n",
            "swig is already the newest version (3.0.12-1).\n",
            "0 upgraded, 0 newly installed, 0 to remove and 29 not upgraded.\n",
            "Collecting auto-sklearn==0.12\n",
            "\u001b[?25l  Downloading https://files.pythonhosted.org/packages/55/b7/f20bb1484dcc08ffaf22f294c9f69a4a7a7aa87007787ab0f88fc9992d8e/auto-sklearn-0.12.0.tar.gz (4.1MB)\n",
            "\u001b[K     |████████████████████████████████| 4.1MB 5.4MB/s \n",
            "\u001b[?25hRequirement already satisfied: setuptools in /usr/local/lib/python3.7/dist-packages (from auto-sklearn==0.12) (54.0.0)\n",
            "Requirement already satisfied: numpy>=1.9.0 in /usr/local/lib/python3.7/dist-packages (from auto-sklearn==0.12) (1.19.5)\n",
            "Requirement already satisfied: scipy>=0.14.1 in /usr/local/lib/python3.7/dist-packages (from auto-sklearn==0.12) (1.4.1)\n",
            "Requirement already satisfied: joblib in /usr/local/lib/python3.7/dist-packages (from auto-sklearn==0.12) (1.0.1)\n",
            "Collecting scikit-learn<0.24,>=0.23.0\n",
            "\u001b[?25l  Downloading https://files.pythonhosted.org/packages/f4/cb/64623369f348e9bfb29ff898a57ac7c91ed4921f228e9726546614d63ccb/scikit_learn-0.23.2-cp37-cp37m-manylinux1_x86_64.whl (6.8MB)\n",
            "\u001b[K     |████████████████████████████████| 6.8MB 36.2MB/s \n",
            "\u001b[?25hRequirement already satisfied: dask in /usr/local/lib/python3.7/dist-packages (from auto-sklearn==0.12) (2021.2.0)\n",
            "Requirement already satisfied: distributed>=2.2.0 in /usr/local/lib/python3.7/dist-packages (from auto-sklearn==0.12) (2021.2.0)\n",
            "Requirement already satisfied: pyyaml in /usr/local/lib/python3.7/dist-packages (from auto-sklearn==0.12) (3.13)\n",
            "Requirement already satisfied: pandas>=1.0 in /usr/local/lib/python3.7/dist-packages (from auto-sklearn==0.12) (1.1.5)\n",
            "Requirement already satisfied: liac-arff in /usr/local/lib/python3.7/dist-packages (from auto-sklearn==0.12) (2.5.0)\n",
            "Requirement already satisfied: ConfigSpace<0.5,>=0.4.14 in /usr/local/lib/python3.7/dist-packages (from auto-sklearn==0.12) (0.4.18)\n",
            "Requirement already satisfied: pynisher>=0.6.3 in /usr/local/lib/python3.7/dist-packages (from auto-sklearn==0.12) (0.6.4)\n",
            "Requirement already satisfied: pyrfr<0.9,>=0.7 in /usr/local/lib/python3.7/dist-packages (from auto-sklearn==0.12) (0.8.0)\n",
            "Requirement already satisfied: smac<0.14,>=0.13.1 in /usr/local/lib/python3.7/dist-packages (from auto-sklearn==0.12) (0.13.1)\n",
            "Requirement already satisfied: threadpoolctl>=2.0.0 in /usr/local/lib/python3.7/dist-packages (from scikit-learn<0.24,>=0.23.0->auto-sklearn==0.12) (2.1.0)\n",
            "Requirement already satisfied: toolz>=0.8.2 in /usr/local/lib/python3.7/dist-packages (from distributed>=2.2.0->auto-sklearn==0.12) (0.11.1)\n",
            "Requirement already satisfied: sortedcontainers!=2.0.0,!=2.0.1 in /usr/local/lib/python3.7/dist-packages (from distributed>=2.2.0->auto-sklearn==0.12) (2.3.0)\n",
            "Requirement already satisfied: msgpack>=0.6.0 in /usr/local/lib/python3.7/dist-packages (from distributed>=2.2.0->auto-sklearn==0.12) (1.0.2)\n",
            "Requirement already satisfied: click>=6.6 in /usr/local/lib/python3.7/dist-packages (from distributed>=2.2.0->auto-sklearn==0.12) (7.1.2)\n",
            "Requirement already satisfied: psutil>=5.0 in /usr/local/lib/python3.7/dist-packages (from distributed>=2.2.0->auto-sklearn==0.12) (5.4.8)\n",
            "Requirement already satisfied: tblib>=1.6.0 in /usr/local/lib/python3.7/dist-packages (from distributed>=2.2.0->auto-sklearn==0.12) (1.7.0)\n",
            "Requirement already satisfied: zict>=0.1.3 in /usr/local/lib/python3.7/dist-packages (from distributed>=2.2.0->auto-sklearn==0.12) (2.0.0)\n",
            "Requirement already satisfied: cloudpickle>=1.5.0 in /usr/local/lib/python3.7/dist-packages (from distributed>=2.2.0->auto-sklearn==0.12) (1.6.0)\n",
            "Requirement already satisfied: tornado>=5; python_version < \"3.8\" in /usr/local/lib/python3.7/dist-packages (from distributed>=2.2.0->auto-sklearn==0.12) (5.1.1)\n",
            "Requirement already satisfied: pytz>=2017.2 in /usr/local/lib/python3.7/dist-packages (from pandas>=1.0->auto-sklearn==0.12) (2018.9)\n",
            "Requirement already satisfied: python-dateutil>=2.7.3 in /usr/local/lib/python3.7/dist-packages (from pandas>=1.0->auto-sklearn==0.12) (2.8.1)\n",
            "Requirement already satisfied: pyparsing in /usr/local/lib/python3.7/dist-packages (from ConfigSpace<0.5,>=0.4.14->auto-sklearn==0.12) (2.4.7)\n",
            "Requirement already satisfied: cython in /usr/local/lib/python3.7/dist-packages (from ConfigSpace<0.5,>=0.4.14->auto-sklearn==0.12) (0.29.22)\n",
            "Requirement already satisfied: lazy-import in /usr/local/lib/python3.7/dist-packages (from smac<0.14,>=0.13.1->auto-sklearn==0.12) (0.2.2)\n",
            "Requirement already satisfied: heapdict in /usr/local/lib/python3.7/dist-packages (from zict>=0.1.3->distributed>=2.2.0->auto-sklearn==0.12) (1.0.1)\n",
            "Requirement already satisfied: six>=1.5 in /usr/local/lib/python3.7/dist-packages (from python-dateutil>=2.7.3->pandas>=1.0->auto-sklearn==0.12) (1.15.0)\n",
            "Building wheels for collected packages: auto-sklearn\n",
            "  Building wheel for auto-sklearn (setup.py) ... \u001b[?25l\u001b[?25hdone\n",
            "  Created wheel for auto-sklearn: filename=auto_sklearn-0.12.0-cp37-none-any.whl size=4334263 sha256=e4f703c897177d0e68b5f733768b0ea54456631fd3f71c4a54f2eebc486b4560\n",
            "  Stored in directory: /root/.cache/pip/wheels/a9/1d/40/dd09c7407653449c5684d1356c0db24bfbf02686da0a5a7580\n",
            "Successfully built auto-sklearn\n",
            "Installing collected packages: scikit-learn, auto-sklearn\n",
            "  Found existing installation: scikit-learn 0.24.1\n",
            "    Uninstalling scikit-learn-0.24.1:\n",
            "      Successfully uninstalled scikit-learn-0.24.1\n",
            "  Found existing installation: auto-sklearn 0.11.1\n",
            "    Uninstalling auto-sklearn-0.11.1:\n",
            "      Successfully uninstalled auto-sklearn-0.11.1\n",
            "Successfully installed auto-sklearn-0.12.0 scikit-learn-0.23.2\n"
          ],
          "name": "stdout"
        },
        {
          "output_type": "display_data",
          "data": {
            "application/vnd.colab-display-data+json": {
              "pip_warning": {
                "packages": [
                  "sklearn"
                ]
              }
            }
          },
          "metadata": {
            "tags": []
          }
        }
      ]
    },
    {
      "cell_type": "code",
      "metadata": {
        "id": "e6MhMr3O2r7R"
      },
      "source": [
        ""
      ],
      "execution_count": null,
      "outputs": []
    },
    {
      "cell_type": "markdown",
      "metadata": {
        "id": "2zn1fvAQ2squ"
      },
      "source": [
        "## AutoML"
      ]
    },
    {
      "cell_type": "code",
      "metadata": {
        "id": "hZbRfBoHhTFA"
      },
      "source": [
        "import autosklearn.classification"
      ],
      "execution_count": 59,
      "outputs": []
    },
    {
      "cell_type": "code",
      "metadata": {
        "id": "aaBUAgkYk6nv"
      },
      "source": [
        "from autosklearn.experimental.askl2 import AutoSklearn2Classifier"
      ],
      "execution_count": 60,
      "outputs": []
    },
    {
      "cell_type": "code",
      "metadata": {
        "colab": {
          "base_uri": "https://localhost:8080/"
        },
        "id": "OOhqp1c3lmGH",
        "outputId": "c010a07c-93af-4931-d06e-3d589783eac4"
      },
      "source": [
        "automl = AutoSklearn2Classifier(n_jobs=-1)\r\n",
        "automl.fit(X_train, y_train)"
      ],
      "execution_count": 63,
      "outputs": [
        {
          "output_type": "stream",
          "text": [
            "Using Backup selector\n"
          ],
          "name": "stdout"
        },
        {
          "output_type": "stream",
          "text": [
            "/usr/local/lib/python3.7/dist-packages/distributed/node.py:155: UserWarning: Port 8787 is already in use.\n",
            "Perhaps you already have a cluster running?\n",
            "Hosting the HTTP server on port 33385 instead\n",
            "  http_address[\"port\"], self.http_server.port\n",
            "/usr/local/lib/python3.7/dist-packages/autosklearn/automl.py:262: RuntimeWarning: coroutine 'Client._shutdown' was never awaited\n",
            "  self._dask_client.shutdown()\n",
            "/usr/local/lib/python3.7/dist-packages/sklearn/base.py:213: FutureWarning: From version 0.24, get_params will raise an AttributeError if a parameter cannot be retrieved as an instance attribute. Previously it would return None.\n",
            "  FutureWarning)\n"
          ],
          "name": "stderr"
        },
        {
          "output_type": "execute_result",
          "data": {
            "text/plain": [
              "AutoSklearn2Classifier(n_jobs=-1)"
            ]
          },
          "metadata": {
            "tags": []
          },
          "execution_count": 63
        }
      ]
    },
    {
      "cell_type": "code",
      "metadata": {
        "id": "R8i5rb0_mAdm"
      },
      "source": [
        "y_hat = automl.predict_proba(X_test)"
      ],
      "execution_count": 93,
      "outputs": []
    },
    {
      "cell_type": "code",
      "metadata": {
        "id": "0aBqhf4L5g7z"
      },
      "source": [
        "pred = [1 if prediction[1]>0.5 else 0 for prediction in y_hat ]"
      ],
      "execution_count": 112,
      "outputs": []
    },
    {
      "cell_type": "code",
      "metadata": {
        "id": "_wOGrjdb2yRI"
      },
      "source": [
        "auto_confusion = confusion_matrix(y_test, pred)"
      ],
      "execution_count": 113,
      "outputs": []
    },
    {
      "cell_type": "code",
      "metadata": {
        "colab": {
          "base_uri": "https://localhost:8080/"
        },
        "id": "LFg6F09w3FTt",
        "outputId": "1a67d309-0159-4385-94e6-0b8d3fe2615f"
      },
      "source": [
        "auto_confusion"
      ],
      "execution_count": 114,
      "outputs": [
        {
          "output_type": "execute_result",
          "data": {
            "text/plain": [
              "array([[24095,   186],\n",
              "       [  522,   197]])"
            ]
          },
          "metadata": {
            "tags": []
          },
          "execution_count": 114
        }
      ]
    },
    {
      "cell_type": "code",
      "metadata": {
        "colab": {
          "base_uri": "https://localhost:8080/"
        },
        "id": "ZucObjt33LIG",
        "outputId": "1c3123f7-4368-477a-a81a-df198ec500bc"
      },
      "source": [
        "FP = auto_confusion[0][1]\r\n",
        "FN = auto_confusion[1][0]\r\n",
        "TP = auto_confusion[1][1]\r\n",
        "TN = auto_confusion[0][0]\r\n",
        "\r\n",
        "# Sensitivity, hit rate, recall, or true positive rate\r\n",
        "TPR = TP/(TP+FN)\r\n",
        "# Specificity or true negative rate\r\n",
        "TNR = TN/(TN+FP) \r\n",
        "# Negative predictive value\r\n",
        "NPV = TN/(TN+FN)\r\n",
        "# Fall out or false positive rate\r\n",
        "FPR = FP/(FP+TN)\r\n",
        "# False negative rate\r\n",
        "FNR = FN/(TP+FN)\r\n",
        "# Precision\r\n",
        "PPV = TP/(TP+FP)\r\n",
        "# False discovery rate -> 1-Precision\r\n",
        "FDR = FP/(TP+FP)\r\n",
        "\r\n",
        "# Overall accuracy\r\n",
        "ACC = (TP+TN)/(TP+FP+FN+TN)\r\n",
        "\r\n",
        "print(f'TPR: {TPR:.4f}')\r\n",
        "print(f'TNR: {TNR:.4f}')\r\n",
        "print(f'FPR: {FPR:.4f}')\r\n",
        "print(f'FNR: {FNR:.4f}')\r\n",
        "print(f'Precision: {PPV:.4f}')\r\n",
        "print(f'False discovery rate: {FDR:.4f}')"
      ],
      "execution_count": 115,
      "outputs": [
        {
          "output_type": "stream",
          "text": [
            "TPR: 0.2740\n",
            "TNR: 0.9923\n",
            "FPR: 0.0077\n",
            "FNR: 0.7260\n",
            "Precision: 0.5144\n",
            "False discovery rate: 0.4856\n"
          ],
          "name": "stdout"
        }
      ]
    },
    {
      "cell_type": "code",
      "metadata": {
        "id": "k97OjISqHodq"
      },
      "source": [
        "# !pip install --quiet optuna\r\n",
        "\r\n",
        "# import optuna"
      ],
      "execution_count": 107,
      "outputs": []
    },
    {
      "cell_type": "code",
      "metadata": {
        "id": "qmr2wzUgHvNU"
      },
      "source": [
        "# clf = LGBMClassifier()\r\n",
        "\r\n",
        "# param_distributions = {\r\n",
        "#     'n_estimators': optuna.distributions.IntUniformDistribution(10, 500),\r\n",
        "#     'num_leaves': optuna.distributions.IntUniformDistribution(2, 50),\r\n",
        "#     'min_data_in_leaf': optuna.distributions.IntUniformDistribution(100, 400),\r\n",
        "#     'feature_fraction': optuna.distributions.LogUniformDistribution(0.5, 1),\r\n",
        "# #     'max_depth': optuna.distributions.IntUniformDistribution(-1, 200),\r\n",
        "#     'subsample': optuna.distributions.LogUniformDistribution(0.5, 1),\r\n",
        "# }\r\n",
        "\r\n",
        "# optuna_search = optuna.integration.OptunaSearchCV(\r\n",
        "#     estimator=clf, \r\n",
        "#     param_distributions=param_distributions, \r\n",
        "#     n_trials=50, \r\n",
        "#     timeout=7200,\r\n",
        "#     cv=\r\n",
        "# )\r\n",
        "\r\n",
        "# optuna_search.fit(X_train, y_train)"
      ],
      "execution_count": 51,
      "outputs": []
    }
  ]
}