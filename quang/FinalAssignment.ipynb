{
  "nbformat": 4,
  "nbformat_minor": 0,
  "metadata": {
    "colab": {
      "name": "FinalAssignment.ipynb",
      "provenance": [],
      "collapsed_sections": [
        "IpTCdVohNBfe"
      ],
      "mount_file_id": "17sCjKQDEfGjPbBnbNYH04SFCv7PnEm2L",
      "authorship_tag": "ABX9TyNopLwoZen4BvMuIZk+GigN",
      "include_colab_link": true
    },
    "kernelspec": {
      "name": "python3",
      "display_name": "Python 3"
    }
  },
  "cells": [
    {
      "cell_type": "markdown",
      "metadata": {
        "id": "view-in-github",
        "colab_type": "text"
      },
      "source": [
        "<a href=\"https://colab.research.google.com/github/uhdang/mlim_group_3_final_assignment/blob/main/quang/FinalAssignment.ipynb\" target=\"_parent\"><img src=\"https://colab.research.google.com/assets/colab-badge.svg\" alt=\"Open In Colab\"/></a>"
      ]
    },
    {
      "cell_type": "code",
      "metadata": {
        "id": "R8VFv-TZfRc_"
      },
      "source": [
        "import pandas as pd\r\n",
        "import numpy as np\r\n",
        "# from datastreamer import DataStreamerP2V\r\n",
        "import matplotlib.pyplot as plt\r\n",
        "import seaborn as sns\r\n",
        "import random"
      ],
      "execution_count": 1,
      "outputs": []
    },
    {
      "cell_type": "markdown",
      "metadata": {
        "id": "KfzE-1tHfg2C"
      },
      "source": [
        "# Load Data"
      ]
    },
    {
      "cell_type": "code",
      "metadata": {
        "colab": {
          "base_uri": "https://localhost:8080/"
        },
        "id": "wPPZKEDQffrG",
        "outputId": "aea1f06e-04ba-4cc1-acdf-3d2c4577c1ed"
      },
      "source": [
        "from google.colab import drive\r\n",
        "drive.mount('/content/drive')\r\n",
        "baskets = pd.read_parquet(\"/content/drive/MyDrive/My Drive/baskets.parquet\")\r\n",
        "coupons = pd.read_parquet(\"/content/drive/MyDrive/My Drive/coupons.parquet\")\r\n",
        "# coupon_index = pd.read_parquet(\"/content/drive/MyDrive/My Drive/coupon_index.parquet\")"
      ],
      "execution_count": 2,
      "outputs": [
        {
          "output_type": "stream",
          "text": [
            "Drive already mounted at /content/drive; to attempt to forcibly remount, call drive.mount(\"/content/drive\", force_remount=True).\n"
          ],
          "name": "stdout"
        }
      ]
    },
    {
      "cell_type": "code",
      "metadata": {
        "colab": {
          "base_uri": "https://localhost:8080/",
          "height": 419
        },
        "id": "QcxJiScqwSrc",
        "outputId": "9abd3da4-6990-4ea4-c087-f9265aa9c438"
      },
      "source": [
        "baskets['target'] = 1\r\n",
        "baskets"
      ],
      "execution_count": 3,
      "outputs": [
        {
          "output_type": "execute_result",
          "data": {
            "text/html": [
              "<div>\n",
              "<style scoped>\n",
              "    .dataframe tbody tr th:only-of-type {\n",
              "        vertical-align: middle;\n",
              "    }\n",
              "\n",
              "    .dataframe tbody tr th {\n",
              "        vertical-align: top;\n",
              "    }\n",
              "\n",
              "    .dataframe thead th {\n",
              "        text-align: right;\n",
              "    }\n",
              "</style>\n",
              "<table border=\"1\" class=\"dataframe\">\n",
              "  <thead>\n",
              "    <tr style=\"text-align: right;\">\n",
              "      <th></th>\n",
              "      <th>week</th>\n",
              "      <th>shopper</th>\n",
              "      <th>product</th>\n",
              "      <th>price</th>\n",
              "      <th>target</th>\n",
              "    </tr>\n",
              "  </thead>\n",
              "  <tbody>\n",
              "    <tr>\n",
              "      <th>0</th>\n",
              "      <td>0</td>\n",
              "      <td>0</td>\n",
              "      <td>71</td>\n",
              "      <td>629</td>\n",
              "      <td>1</td>\n",
              "    </tr>\n",
              "    <tr>\n",
              "      <th>1</th>\n",
              "      <td>0</td>\n",
              "      <td>0</td>\n",
              "      <td>91</td>\n",
              "      <td>605</td>\n",
              "      <td>1</td>\n",
              "    </tr>\n",
              "    <tr>\n",
              "      <th>2</th>\n",
              "      <td>0</td>\n",
              "      <td>0</td>\n",
              "      <td>116</td>\n",
              "      <td>715</td>\n",
              "      <td>1</td>\n",
              "    </tr>\n",
              "    <tr>\n",
              "      <th>3</th>\n",
              "      <td>0</td>\n",
              "      <td>0</td>\n",
              "      <td>123</td>\n",
              "      <td>483</td>\n",
              "      <td>1</td>\n",
              "    </tr>\n",
              "    <tr>\n",
              "      <th>4</th>\n",
              "      <td>0</td>\n",
              "      <td>0</td>\n",
              "      <td>157</td>\n",
              "      <td>592</td>\n",
              "      <td>1</td>\n",
              "    </tr>\n",
              "    <tr>\n",
              "      <th>...</th>\n",
              "      <td>...</td>\n",
              "      <td>...</td>\n",
              "      <td>...</td>\n",
              "      <td>...</td>\n",
              "      <td>...</td>\n",
              "    </tr>\n",
              "    <tr>\n",
              "      <th>68841593</th>\n",
              "      <td>89</td>\n",
              "      <td>99999</td>\n",
              "      <td>143</td>\n",
              "      <td>470</td>\n",
              "      <td>1</td>\n",
              "    </tr>\n",
              "    <tr>\n",
              "      <th>68841594</th>\n",
              "      <td>89</td>\n",
              "      <td>99999</td>\n",
              "      <td>158</td>\n",
              "      <td>566</td>\n",
              "      <td>1</td>\n",
              "    </tr>\n",
              "    <tr>\n",
              "      <th>68841595</th>\n",
              "      <td>89</td>\n",
              "      <td>99999</td>\n",
              "      <td>186</td>\n",
              "      <td>499</td>\n",
              "      <td>1</td>\n",
              "    </tr>\n",
              "    <tr>\n",
              "      <th>68841596</th>\n",
              "      <td>89</td>\n",
              "      <td>99999</td>\n",
              "      <td>204</td>\n",
              "      <td>496</td>\n",
              "      <td>1</td>\n",
              "    </tr>\n",
              "    <tr>\n",
              "      <th>68841597</th>\n",
              "      <td>89</td>\n",
              "      <td>99999</td>\n",
              "      <td>225</td>\n",
              "      <td>602</td>\n",
              "      <td>1</td>\n",
              "    </tr>\n",
              "  </tbody>\n",
              "</table>\n",
              "<p>68841598 rows × 5 columns</p>\n",
              "</div>"
            ],
            "text/plain": [
              "          week  shopper  product  price  target\n",
              "0            0        0       71    629       1\n",
              "1            0        0       91    605       1\n",
              "2            0        0      116    715       1\n",
              "3            0        0      123    483       1\n",
              "4            0        0      157    592       1\n",
              "...        ...      ...      ...    ...     ...\n",
              "68841593    89    99999      143    470       1\n",
              "68841594    89    99999      158    566       1\n",
              "68841595    89    99999      186    499       1\n",
              "68841596    89    99999      204    496       1\n",
              "68841597    89    99999      225    602       1\n",
              "\n",
              "[68841598 rows x 5 columns]"
            ]
          },
          "metadata": {
            "tags": []
          },
          "execution_count": 3
        }
      ]
    },
    {
      "cell_type": "code",
      "metadata": {
        "colab": {
          "base_uri": "https://localhost:8080/",
          "height": 419
        },
        "id": "LpS11Hg8G21-",
        "outputId": "4fe1d57c-d0ba-4560-c5e5-92c2e201d964"
      },
      "source": [
        "coupons"
      ],
      "execution_count": 4,
      "outputs": [
        {
          "output_type": "execute_result",
          "data": {
            "text/html": [
              "<div>\n",
              "<style scoped>\n",
              "    .dataframe tbody tr th:only-of-type {\n",
              "        vertical-align: middle;\n",
              "    }\n",
              "\n",
              "    .dataframe tbody tr th {\n",
              "        vertical-align: top;\n",
              "    }\n",
              "\n",
              "    .dataframe thead th {\n",
              "        text-align: right;\n",
              "    }\n",
              "</style>\n",
              "<table border=\"1\" class=\"dataframe\">\n",
              "  <thead>\n",
              "    <tr style=\"text-align: right;\">\n",
              "      <th></th>\n",
              "      <th>week</th>\n",
              "      <th>shopper</th>\n",
              "      <th>product</th>\n",
              "      <th>discount</th>\n",
              "    </tr>\n",
              "  </thead>\n",
              "  <tbody>\n",
              "    <tr>\n",
              "      <th>0</th>\n",
              "      <td>0</td>\n",
              "      <td>0</td>\n",
              "      <td>35</td>\n",
              "      <td>35</td>\n",
              "    </tr>\n",
              "    <tr>\n",
              "      <th>1</th>\n",
              "      <td>0</td>\n",
              "      <td>0</td>\n",
              "      <td>193</td>\n",
              "      <td>40</td>\n",
              "    </tr>\n",
              "    <tr>\n",
              "      <th>2</th>\n",
              "      <td>0</td>\n",
              "      <td>0</td>\n",
              "      <td>27</td>\n",
              "      <td>30</td>\n",
              "    </tr>\n",
              "    <tr>\n",
              "      <th>3</th>\n",
              "      <td>0</td>\n",
              "      <td>0</td>\n",
              "      <td>177</td>\n",
              "      <td>35</td>\n",
              "    </tr>\n",
              "    <tr>\n",
              "      <th>4</th>\n",
              "      <td>0</td>\n",
              "      <td>0</td>\n",
              "      <td>5</td>\n",
              "      <td>30</td>\n",
              "    </tr>\n",
              "    <tr>\n",
              "      <th>...</th>\n",
              "      <td>...</td>\n",
              "      <td>...</td>\n",
              "      <td>...</td>\n",
              "      <td>...</td>\n",
              "    </tr>\n",
              "    <tr>\n",
              "      <th>44999995</th>\n",
              "      <td>89</td>\n",
              "      <td>99999</td>\n",
              "      <td>62</td>\n",
              "      <td>40</td>\n",
              "    </tr>\n",
              "    <tr>\n",
              "      <th>44999996</th>\n",
              "      <td>89</td>\n",
              "      <td>99999</td>\n",
              "      <td>110</td>\n",
              "      <td>10</td>\n",
              "    </tr>\n",
              "    <tr>\n",
              "      <th>44999997</th>\n",
              "      <td>89</td>\n",
              "      <td>99999</td>\n",
              "      <td>37</td>\n",
              "      <td>40</td>\n",
              "    </tr>\n",
              "    <tr>\n",
              "      <th>44999998</th>\n",
              "      <td>89</td>\n",
              "      <td>99999</td>\n",
              "      <td>155</td>\n",
              "      <td>25</td>\n",
              "    </tr>\n",
              "    <tr>\n",
              "      <th>44999999</th>\n",
              "      <td>89</td>\n",
              "      <td>99999</td>\n",
              "      <td>132</td>\n",
              "      <td>10</td>\n",
              "    </tr>\n",
              "  </tbody>\n",
              "</table>\n",
              "<p>45000000 rows × 4 columns</p>\n",
              "</div>"
            ],
            "text/plain": [
              "          week  shopper  product  discount\n",
              "0            0        0       35        35\n",
              "1            0        0      193        40\n",
              "2            0        0       27        30\n",
              "3            0        0      177        35\n",
              "4            0        0        5        30\n",
              "...        ...      ...      ...       ...\n",
              "44999995    89    99999       62        40\n",
              "44999996    89    99999      110        10\n",
              "44999997    89    99999       37        40\n",
              "44999998    89    99999      155        25\n",
              "44999999    89    99999      132        10\n",
              "\n",
              "[45000000 rows x 4 columns]"
            ]
          },
          "metadata": {
            "tags": []
          },
          "execution_count": 4
        }
      ]
    },
    {
      "cell_type": "code",
      "metadata": {
        "id": "HuoYcOHJ1g8Z"
      },
      "source": [
        "#baskets[['week', 'shopper', 'product']] = baskets[['week', 'shopper', 'product']].astype('category')\r\n",
        "# baskets[['shopper', 'product']] = baskets[['shopper', 'product']].astype('category')\r\n",
        "baskets['product'] = baskets['product'].astype('category')\r\n",
        "coupons['product'] = coupons['product'].astype('category')"
      ],
      "execution_count": 5,
      "outputs": []
    },
    {
      "cell_type": "markdown",
      "metadata": {
        "id": "vTkyVZ3c8uvD"
      },
      "source": [
        "# Split Data"
      ]
    },
    {
      "cell_type": "code",
      "metadata": {
        "id": "j1yzB9Qj906J"
      },
      "source": [
        "from sklearn.model_selection import train_test_split"
      ],
      "execution_count": 6,
      "outputs": []
    },
    {
      "cell_type": "code",
      "metadata": {
        "id": "hFPZC48z9697"
      },
      "source": [
        "weeks = 85 \r\n",
        "shoppers = 10\r\n",
        "\r\n",
        "baskets_train = baskets.loc[(baskets.shopper.isin(list(range(shoppers)))) & (baskets.week<weeks), :]\r\n",
        "baskets_test = baskets.loc[(baskets.shopper.isin(list(range(shoppers)))) & (baskets.week>=weeks), :]\r\n",
        "\r\n",
        "coupons_train = coupons.loc[(coupons.shopper.isin(list(range(shoppers)))) & (coupons.week<weeks), :]\r\n",
        "coupons_test = coupons.loc[(coupons.shopper.isin(list(range(shoppers)))) & (coupons.week>=weeks), :]"
      ],
      "execution_count": 7,
      "outputs": []
    },
    {
      "cell_type": "code",
      "metadata": {
        "colab": {
          "base_uri": "https://localhost:8080/"
        },
        "id": "wiYAnYUbAsxk",
        "outputId": "5680139a-e1f4-47ee-d329-015d561a25a2"
      },
      "source": [
        "baskets_train['shopper'] = baskets_train['shopper'].astype('category')\r\n",
        "coupons_train['shopper'] = coupons_train['shopper'].astype('category')\r\n",
        "\r\n",
        "# baskets_train['target'] = 1"
      ],
      "execution_count": 8,
      "outputs": [
        {
          "output_type": "stream",
          "text": [
            "/usr/local/lib/python3.7/dist-packages/ipykernel_launcher.py:1: SettingWithCopyWarning: \n",
            "A value is trying to be set on a copy of a slice from a DataFrame.\n",
            "Try using .loc[row_indexer,col_indexer] = value instead\n",
            "\n",
            "See the caveats in the documentation: https://pandas.pydata.org/pandas-docs/stable/user_guide/indexing.html#returning-a-view-versus-a-copy\n",
            "  \"\"\"Entry point for launching an IPython kernel.\n",
            "/usr/local/lib/python3.7/dist-packages/ipykernel_launcher.py:2: SettingWithCopyWarning: \n",
            "A value is trying to be set on a copy of a slice from a DataFrame.\n",
            "Try using .loc[row_indexer,col_indexer] = value instead\n",
            "\n",
            "See the caveats in the documentation: https://pandas.pydata.org/pandas-docs/stable/user_guide/indexing.html#returning-a-view-versus-a-copy\n",
            "  \n"
          ],
          "name": "stderr"
        }
      ]
    },
    {
      "cell_type": "code",
      "metadata": {
        "colab": {
          "base_uri": "https://localhost:8080/",
          "height": 419
        },
        "id": "XuG591vHYmM_",
        "outputId": "992d7c28-f34c-4aae-ba08-94056d26a9bd"
      },
      "source": [
        "baskets_train"
      ],
      "execution_count": 9,
      "outputs": [
        {
          "output_type": "execute_result",
          "data": {
            "text/html": [
              "<div>\n",
              "<style scoped>\n",
              "    .dataframe tbody tr th:only-of-type {\n",
              "        vertical-align: middle;\n",
              "    }\n",
              "\n",
              "    .dataframe tbody tr th {\n",
              "        vertical-align: top;\n",
              "    }\n",
              "\n",
              "    .dataframe thead th {\n",
              "        text-align: right;\n",
              "    }\n",
              "</style>\n",
              "<table border=\"1\" class=\"dataframe\">\n",
              "  <thead>\n",
              "    <tr style=\"text-align: right;\">\n",
              "      <th></th>\n",
              "      <th>week</th>\n",
              "      <th>shopper</th>\n",
              "      <th>product</th>\n",
              "      <th>price</th>\n",
              "      <th>target</th>\n",
              "    </tr>\n",
              "  </thead>\n",
              "  <tbody>\n",
              "    <tr>\n",
              "      <th>0</th>\n",
              "      <td>0</td>\n",
              "      <td>0</td>\n",
              "      <td>71</td>\n",
              "      <td>629</td>\n",
              "      <td>1</td>\n",
              "    </tr>\n",
              "    <tr>\n",
              "      <th>1</th>\n",
              "      <td>0</td>\n",
              "      <td>0</td>\n",
              "      <td>91</td>\n",
              "      <td>605</td>\n",
              "      <td>1</td>\n",
              "    </tr>\n",
              "    <tr>\n",
              "      <th>2</th>\n",
              "      <td>0</td>\n",
              "      <td>0</td>\n",
              "      <td>116</td>\n",
              "      <td>715</td>\n",
              "      <td>1</td>\n",
              "    </tr>\n",
              "    <tr>\n",
              "      <th>3</th>\n",
              "      <td>0</td>\n",
              "      <td>0</td>\n",
              "      <td>123</td>\n",
              "      <td>483</td>\n",
              "      <td>1</td>\n",
              "    </tr>\n",
              "    <tr>\n",
              "      <th>4</th>\n",
              "      <td>0</td>\n",
              "      <td>0</td>\n",
              "      <td>157</td>\n",
              "      <td>592</td>\n",
              "      <td>1</td>\n",
              "    </tr>\n",
              "    <tr>\n",
              "      <th>...</th>\n",
              "      <td>...</td>\n",
              "      <td>...</td>\n",
              "      <td>...</td>\n",
              "      <td>...</td>\n",
              "      <td>...</td>\n",
              "    </tr>\n",
              "    <tr>\n",
              "      <th>64253759</th>\n",
              "      <td>84</td>\n",
              "      <td>9</td>\n",
              "      <td>71</td>\n",
              "      <td>629</td>\n",
              "      <td>1</td>\n",
              "    </tr>\n",
              "    <tr>\n",
              "      <th>64253760</th>\n",
              "      <td>84</td>\n",
              "      <td>9</td>\n",
              "      <td>86</td>\n",
              "      <td>481</td>\n",
              "      <td>1</td>\n",
              "    </tr>\n",
              "    <tr>\n",
              "      <th>64253761</th>\n",
              "      <td>84</td>\n",
              "      <td>9</td>\n",
              "      <td>168</td>\n",
              "      <td>588</td>\n",
              "      <td>1</td>\n",
              "    </tr>\n",
              "    <tr>\n",
              "      <th>64253762</th>\n",
              "      <td>84</td>\n",
              "      <td>9</td>\n",
              "      <td>192</td>\n",
              "      <td>549</td>\n",
              "      <td>1</td>\n",
              "    </tr>\n",
              "    <tr>\n",
              "      <th>64253763</th>\n",
              "      <td>84</td>\n",
              "      <td>9</td>\n",
              "      <td>225</td>\n",
              "      <td>602</td>\n",
              "      <td>1</td>\n",
              "    </tr>\n",
              "  </tbody>\n",
              "</table>\n",
              "<p>6764 rows × 5 columns</p>\n",
              "</div>"
            ],
            "text/plain": [
              "          week shopper product  price  target\n",
              "0            0       0      71    629       1\n",
              "1            0       0      91    605       1\n",
              "2            0       0     116    715       1\n",
              "3            0       0     123    483       1\n",
              "4            0       0     157    592       1\n",
              "...        ...     ...     ...    ...     ...\n",
              "64253759    84       9      71    629       1\n",
              "64253760    84       9      86    481       1\n",
              "64253761    84       9     168    588       1\n",
              "64253762    84       9     192    549       1\n",
              "64253763    84       9     225    602       1\n",
              "\n",
              "[6764 rows x 5 columns]"
            ]
          },
          "metadata": {
            "tags": []
          },
          "execution_count": 9
        }
      ]
    },
    {
      "cell_type": "code",
      "metadata": {
        "colab": {
          "base_uri": "https://localhost:8080/",
          "height": 419
        },
        "id": "2XeikDVjAHc2",
        "outputId": "ebdc4cb9-d595-4009-9c40-b485680b2ad1"
      },
      "source": [
        "coupons_train"
      ],
      "execution_count": 10,
      "outputs": [
        {
          "output_type": "execute_result",
          "data": {
            "text/html": [
              "<div>\n",
              "<style scoped>\n",
              "    .dataframe tbody tr th:only-of-type {\n",
              "        vertical-align: middle;\n",
              "    }\n",
              "\n",
              "    .dataframe tbody tr th {\n",
              "        vertical-align: top;\n",
              "    }\n",
              "\n",
              "    .dataframe thead th {\n",
              "        text-align: right;\n",
              "    }\n",
              "</style>\n",
              "<table border=\"1\" class=\"dataframe\">\n",
              "  <thead>\n",
              "    <tr style=\"text-align: right;\">\n",
              "      <th></th>\n",
              "      <th>week</th>\n",
              "      <th>shopper</th>\n",
              "      <th>product</th>\n",
              "      <th>discount</th>\n",
              "    </tr>\n",
              "  </thead>\n",
              "  <tbody>\n",
              "    <tr>\n",
              "      <th>0</th>\n",
              "      <td>0</td>\n",
              "      <td>0</td>\n",
              "      <td>35</td>\n",
              "      <td>35</td>\n",
              "    </tr>\n",
              "    <tr>\n",
              "      <th>1</th>\n",
              "      <td>0</td>\n",
              "      <td>0</td>\n",
              "      <td>193</td>\n",
              "      <td>40</td>\n",
              "    </tr>\n",
              "    <tr>\n",
              "      <th>2</th>\n",
              "      <td>0</td>\n",
              "      <td>0</td>\n",
              "      <td>27</td>\n",
              "      <td>30</td>\n",
              "    </tr>\n",
              "    <tr>\n",
              "      <th>3</th>\n",
              "      <td>0</td>\n",
              "      <td>0</td>\n",
              "      <td>177</td>\n",
              "      <td>35</td>\n",
              "    </tr>\n",
              "    <tr>\n",
              "      <th>4</th>\n",
              "      <td>0</td>\n",
              "      <td>0</td>\n",
              "      <td>5</td>\n",
              "      <td>30</td>\n",
              "    </tr>\n",
              "    <tr>\n",
              "      <th>...</th>\n",
              "      <td>...</td>\n",
              "      <td>...</td>\n",
              "      <td>...</td>\n",
              "      <td>...</td>\n",
              "    </tr>\n",
              "    <tr>\n",
              "      <th>42000045</th>\n",
              "      <td>84</td>\n",
              "      <td>9</td>\n",
              "      <td>24</td>\n",
              "      <td>10</td>\n",
              "    </tr>\n",
              "    <tr>\n",
              "      <th>42000046</th>\n",
              "      <td>84</td>\n",
              "      <td>9</td>\n",
              "      <td>56</td>\n",
              "      <td>25</td>\n",
              "    </tr>\n",
              "    <tr>\n",
              "      <th>42000047</th>\n",
              "      <td>84</td>\n",
              "      <td>9</td>\n",
              "      <td>31</td>\n",
              "      <td>30</td>\n",
              "    </tr>\n",
              "    <tr>\n",
              "      <th>42000048</th>\n",
              "      <td>84</td>\n",
              "      <td>9</td>\n",
              "      <td>185</td>\n",
              "      <td>35</td>\n",
              "    </tr>\n",
              "    <tr>\n",
              "      <th>42000049</th>\n",
              "      <td>84</td>\n",
              "      <td>9</td>\n",
              "      <td>169</td>\n",
              "      <td>35</td>\n",
              "    </tr>\n",
              "  </tbody>\n",
              "</table>\n",
              "<p>4250 rows × 4 columns</p>\n",
              "</div>"
            ],
            "text/plain": [
              "          week shopper product  discount\n",
              "0            0       0      35        35\n",
              "1            0       0     193        40\n",
              "2            0       0      27        30\n",
              "3            0       0     177        35\n",
              "4            0       0       5        30\n",
              "...        ...     ...     ...       ...\n",
              "42000045    84       9      24        10\n",
              "42000046    84       9      56        25\n",
              "42000047    84       9      31        30\n",
              "42000048    84       9     185        35\n",
              "42000049    84       9     169        35\n",
              "\n",
              "[4250 rows x 4 columns]"
            ]
          },
          "metadata": {
            "tags": []
          },
          "execution_count": 10
        }
      ]
    },
    {
      "cell_type": "markdown",
      "metadata": {
        "id": "_rfk2ZrJBSLR"
      },
      "source": [
        "# Data Preprocessing"
      ]
    },
    {
      "cell_type": "code",
      "metadata": {
        "id": "e7aRzLcYkP9Z"
      },
      "source": [
        "# Counting weeks of prior order for each product/customer\r\n",
        "# baskets_train['weeks_since_prior_order'] = baskets_train.groupby(['shopper', 'product']).week.apply(lambda x: x.diff()) # change to count weeks since last order, even when it wasn't bought"
      ],
      "execution_count": 11,
      "outputs": []
    },
    {
      "cell_type": "code",
      "metadata": {
        "id": "zsTQkxgK7yR8"
      },
      "source": [
        "full_df_train = (baskets_train\r\n",
        "           .merge(\r\n",
        "               coupons_train, \r\n",
        "               on=['week', 'shopper', 'product'], \r\n",
        "               how='outer',\r\n",
        "               indicator=True\r\n",
        "           )\r\n",
        "           .sort_values(by=['week', 'shopper', 'product'])\r\n",
        "           .reset_index(drop=True)\r\n",
        "          #  .replace(['left_only', 'right_only', 'both'], ['RRP', 'coupon', 'discounted'])\r\n",
        "          .replace(['left_only', 'right_only', 'both'], ['No', 'Yes', 'Yes'])\r\n",
        "          .rename(columns={'_merge': 'coupon'})\r\n",
        ")\r\n",
        "\r\n",
        "full_df_train.loc[full_df_train['discount'].isna(),'discount' ] = 0"
      ],
      "execution_count": 12,
      "outputs": []
    },
    {
      "cell_type": "code",
      "metadata": {
        "colab": {
          "base_uri": "https://localhost:8080/",
          "height": 419
        },
        "id": "S6QkMEaGAPMs",
        "outputId": "1e7478f0-915e-451f-a835-c6fda15e525d"
      },
      "source": [
        "full_df_train"
      ],
      "execution_count": 13,
      "outputs": [
        {
          "output_type": "execute_result",
          "data": {
            "text/html": [
              "<div>\n",
              "<style scoped>\n",
              "    .dataframe tbody tr th:only-of-type {\n",
              "        vertical-align: middle;\n",
              "    }\n",
              "\n",
              "    .dataframe tbody tr th {\n",
              "        vertical-align: top;\n",
              "    }\n",
              "\n",
              "    .dataframe thead th {\n",
              "        text-align: right;\n",
              "    }\n",
              "</style>\n",
              "<table border=\"1\" class=\"dataframe\">\n",
              "  <thead>\n",
              "    <tr style=\"text-align: right;\">\n",
              "      <th></th>\n",
              "      <th>week</th>\n",
              "      <th>shopper</th>\n",
              "      <th>product</th>\n",
              "      <th>price</th>\n",
              "      <th>target</th>\n",
              "      <th>discount</th>\n",
              "      <th>coupon</th>\n",
              "    </tr>\n",
              "  </thead>\n",
              "  <tbody>\n",
              "    <tr>\n",
              "      <th>0</th>\n",
              "      <td>0</td>\n",
              "      <td>0</td>\n",
              "      <td>5</td>\n",
              "      <td>NaN</td>\n",
              "      <td>NaN</td>\n",
              "      <td>30.0</td>\n",
              "      <td>Yes</td>\n",
              "    </tr>\n",
              "    <tr>\n",
              "      <th>1</th>\n",
              "      <td>0</td>\n",
              "      <td>0</td>\n",
              "      <td>27</td>\n",
              "      <td>NaN</td>\n",
              "      <td>NaN</td>\n",
              "      <td>30.0</td>\n",
              "      <td>Yes</td>\n",
              "    </tr>\n",
              "    <tr>\n",
              "      <th>2</th>\n",
              "      <td>0</td>\n",
              "      <td>0</td>\n",
              "      <td>35</td>\n",
              "      <td>NaN</td>\n",
              "      <td>NaN</td>\n",
              "      <td>35.0</td>\n",
              "      <td>Yes</td>\n",
              "    </tr>\n",
              "    <tr>\n",
              "      <th>3</th>\n",
              "      <td>0</td>\n",
              "      <td>0</td>\n",
              "      <td>71</td>\n",
              "      <td>629.0</td>\n",
              "      <td>1.0</td>\n",
              "      <td>0.0</td>\n",
              "      <td>No</td>\n",
              "    </tr>\n",
              "    <tr>\n",
              "      <th>4</th>\n",
              "      <td>0</td>\n",
              "      <td>0</td>\n",
              "      <td>91</td>\n",
              "      <td>605.0</td>\n",
              "      <td>1.0</td>\n",
              "      <td>0.0</td>\n",
              "      <td>No</td>\n",
              "    </tr>\n",
              "    <tr>\n",
              "      <th>...</th>\n",
              "      <td>...</td>\n",
              "      <td>...</td>\n",
              "      <td>...</td>\n",
              "      <td>...</td>\n",
              "      <td>...</td>\n",
              "      <td>...</td>\n",
              "      <td>...</td>\n",
              "    </tr>\n",
              "    <tr>\n",
              "      <th>10753</th>\n",
              "      <td>84</td>\n",
              "      <td>9</td>\n",
              "      <td>168</td>\n",
              "      <td>588.0</td>\n",
              "      <td>1.0</td>\n",
              "      <td>0.0</td>\n",
              "      <td>No</td>\n",
              "    </tr>\n",
              "    <tr>\n",
              "      <th>10754</th>\n",
              "      <td>84</td>\n",
              "      <td>9</td>\n",
              "      <td>169</td>\n",
              "      <td>NaN</td>\n",
              "      <td>NaN</td>\n",
              "      <td>35.0</td>\n",
              "      <td>Yes</td>\n",
              "    </tr>\n",
              "    <tr>\n",
              "      <th>10755</th>\n",
              "      <td>84</td>\n",
              "      <td>9</td>\n",
              "      <td>185</td>\n",
              "      <td>NaN</td>\n",
              "      <td>NaN</td>\n",
              "      <td>35.0</td>\n",
              "      <td>Yes</td>\n",
              "    </tr>\n",
              "    <tr>\n",
              "      <th>10756</th>\n",
              "      <td>84</td>\n",
              "      <td>9</td>\n",
              "      <td>192</td>\n",
              "      <td>549.0</td>\n",
              "      <td>1.0</td>\n",
              "      <td>0.0</td>\n",
              "      <td>No</td>\n",
              "    </tr>\n",
              "    <tr>\n",
              "      <th>10757</th>\n",
              "      <td>84</td>\n",
              "      <td>9</td>\n",
              "      <td>225</td>\n",
              "      <td>602.0</td>\n",
              "      <td>1.0</td>\n",
              "      <td>0.0</td>\n",
              "      <td>No</td>\n",
              "    </tr>\n",
              "  </tbody>\n",
              "</table>\n",
              "<p>10758 rows × 7 columns</p>\n",
              "</div>"
            ],
            "text/plain": [
              "       week shopper product  price  target  discount coupon\n",
              "0         0       0       5    NaN     NaN      30.0    Yes\n",
              "1         0       0      27    NaN     NaN      30.0    Yes\n",
              "2         0       0      35    NaN     NaN      35.0    Yes\n",
              "3         0       0      71  629.0     1.0       0.0     No\n",
              "4         0       0      91  605.0     1.0       0.0     No\n",
              "...     ...     ...     ...    ...     ...       ...    ...\n",
              "10753    84       9     168  588.0     1.0       0.0     No\n",
              "10754    84       9     169    NaN     NaN      35.0    Yes\n",
              "10755    84       9     185    NaN     NaN      35.0    Yes\n",
              "10756    84       9     192  549.0     1.0       0.0     No\n",
              "10757    84       9     225  602.0     1.0       0.0     No\n",
              "\n",
              "[10758 rows x 7 columns]"
            ]
          },
          "metadata": {
            "tags": []
          },
          "execution_count": 13
        }
      ]
    },
    {
      "cell_type": "code",
      "metadata": {
        "id": "FSjPMhQWRJM0"
      },
      "source": [
        "# offered_price = \r\n",
        "original_price = baskets.groupby('product', as_index=False).price.max().rename(columns={'price': 'original_price'})\r\n",
        "total_count_of_product = baskets_train.groupby(['shopper', 'product']).product.count().to_frame('total_count_of_product').reset_index()\r\n",
        "reordered = (baskets_train.groupby(['shopper']).product.value_counts()>1).astype(int)\r\n",
        "average_price_per_shopper = baskets_train.groupby(['shopper']).price.mean().to_frame('average_price_per_shopper').reset_index()\r\n",
        "average_basket_size = baskets_train.groupby(['shopper', 'week']).product.count().groupby('shopper').mean().to_frame('average_basket_size').reset_index()\r\n",
        "unique_products_per_shopper = baskets_train.groupby(['shopper']).product.nunique()\r\n",
        "ratio_of_reordered_per_shopper = (reordered.groupby('shopper').sum() / unique_products_per_shopper).to_frame('ratio_of_reordered').reset_index()\r\n",
        "\r\n",
        "ratio_of_reordered_per_product = total_count_of_product.copy()\r\n",
        "ratio_of_reordered_per_product['total_count_of_product'] = total_count_of_product['total_count_of_product'] / (baskets_train.week.max()+1)\r\n",
        "ratio_of_reordered_per_product.rename(columns={'total_count_of_product': 'ratio_of_reordered_per_product'}, inplace=True)\r\n",
        "\r\n",
        "reordered = reordered.to_frame('reordered').reset_index()\r\n",
        "unique_products_per_shopper = unique_products_per_shopper.to_frame('unique_products_per_shopper').reset_index()\r\n",
        "\r\n",
        "# add average interval for each product and shopper\r\n",
        "# WoE"
      ],
      "execution_count": 14,
      "outputs": []
    },
    {
      "cell_type": "markdown",
      "metadata": {
        "id": "tpTEDEJKHe3m"
      },
      "source": [
        "# Set Up Training Table"
      ]
    },
    {
      "cell_type": "code",
      "metadata": {
        "id": "4DYPPoPWh_vm"
      },
      "source": [
        "df1 = pd.DataFrame({'key':np.ones(weeks), 'week':list(range(weeks))})\r\n",
        "df2 = pd.DataFrame({'key':np.ones(shoppers), 'shopper':list(range(shoppers))})\r\n",
        "df3 = pd.DataFrame({'key':np.ones(250), 'product':list(range(250))})\r\n",
        "df4 = full_df_train.copy()\r\n",
        "\r\n",
        "X_train = pd.merge(df1, df2, on='key').merge(df3, on='key').merge(df4, on=['week', 'shopper', 'product'], how='left')[full_df_train.columns]"
      ],
      "execution_count": 15,
      "outputs": []
    },
    {
      "cell_type": "code",
      "metadata": {
        "colab": {
          "base_uri": "https://localhost:8080/",
          "height": 419
        },
        "id": "flAUsVIfqwnD",
        "outputId": "7838f879-8f5e-4ea8-ecf7-429bc5de6e81"
      },
      "source": [
        "X_train"
      ],
      "execution_count": 16,
      "outputs": [
        {
          "output_type": "execute_result",
          "data": {
            "text/html": [
              "<div>\n",
              "<style scoped>\n",
              "    .dataframe tbody tr th:only-of-type {\n",
              "        vertical-align: middle;\n",
              "    }\n",
              "\n",
              "    .dataframe tbody tr th {\n",
              "        vertical-align: top;\n",
              "    }\n",
              "\n",
              "    .dataframe thead th {\n",
              "        text-align: right;\n",
              "    }\n",
              "</style>\n",
              "<table border=\"1\" class=\"dataframe\">\n",
              "  <thead>\n",
              "    <tr style=\"text-align: right;\">\n",
              "      <th></th>\n",
              "      <th>week</th>\n",
              "      <th>shopper</th>\n",
              "      <th>product</th>\n",
              "      <th>price</th>\n",
              "      <th>target</th>\n",
              "      <th>discount</th>\n",
              "      <th>coupon</th>\n",
              "    </tr>\n",
              "  </thead>\n",
              "  <tbody>\n",
              "    <tr>\n",
              "      <th>0</th>\n",
              "      <td>0</td>\n",
              "      <td>0</td>\n",
              "      <td>0</td>\n",
              "      <td>NaN</td>\n",
              "      <td>NaN</td>\n",
              "      <td>NaN</td>\n",
              "      <td>NaN</td>\n",
              "    </tr>\n",
              "    <tr>\n",
              "      <th>1</th>\n",
              "      <td>0</td>\n",
              "      <td>0</td>\n",
              "      <td>1</td>\n",
              "      <td>NaN</td>\n",
              "      <td>NaN</td>\n",
              "      <td>NaN</td>\n",
              "      <td>NaN</td>\n",
              "    </tr>\n",
              "    <tr>\n",
              "      <th>2</th>\n",
              "      <td>0</td>\n",
              "      <td>0</td>\n",
              "      <td>2</td>\n",
              "      <td>NaN</td>\n",
              "      <td>NaN</td>\n",
              "      <td>NaN</td>\n",
              "      <td>NaN</td>\n",
              "    </tr>\n",
              "    <tr>\n",
              "      <th>3</th>\n",
              "      <td>0</td>\n",
              "      <td>0</td>\n",
              "      <td>3</td>\n",
              "      <td>NaN</td>\n",
              "      <td>NaN</td>\n",
              "      <td>NaN</td>\n",
              "      <td>NaN</td>\n",
              "    </tr>\n",
              "    <tr>\n",
              "      <th>4</th>\n",
              "      <td>0</td>\n",
              "      <td>0</td>\n",
              "      <td>4</td>\n",
              "      <td>NaN</td>\n",
              "      <td>NaN</td>\n",
              "      <td>NaN</td>\n",
              "      <td>NaN</td>\n",
              "    </tr>\n",
              "    <tr>\n",
              "      <th>...</th>\n",
              "      <td>...</td>\n",
              "      <td>...</td>\n",
              "      <td>...</td>\n",
              "      <td>...</td>\n",
              "      <td>...</td>\n",
              "      <td>...</td>\n",
              "      <td>...</td>\n",
              "    </tr>\n",
              "    <tr>\n",
              "      <th>212495</th>\n",
              "      <td>84</td>\n",
              "      <td>9</td>\n",
              "      <td>245</td>\n",
              "      <td>NaN</td>\n",
              "      <td>NaN</td>\n",
              "      <td>NaN</td>\n",
              "      <td>NaN</td>\n",
              "    </tr>\n",
              "    <tr>\n",
              "      <th>212496</th>\n",
              "      <td>84</td>\n",
              "      <td>9</td>\n",
              "      <td>246</td>\n",
              "      <td>NaN</td>\n",
              "      <td>NaN</td>\n",
              "      <td>NaN</td>\n",
              "      <td>NaN</td>\n",
              "    </tr>\n",
              "    <tr>\n",
              "      <th>212497</th>\n",
              "      <td>84</td>\n",
              "      <td>9</td>\n",
              "      <td>247</td>\n",
              "      <td>NaN</td>\n",
              "      <td>NaN</td>\n",
              "      <td>NaN</td>\n",
              "      <td>NaN</td>\n",
              "    </tr>\n",
              "    <tr>\n",
              "      <th>212498</th>\n",
              "      <td>84</td>\n",
              "      <td>9</td>\n",
              "      <td>248</td>\n",
              "      <td>NaN</td>\n",
              "      <td>NaN</td>\n",
              "      <td>NaN</td>\n",
              "      <td>NaN</td>\n",
              "    </tr>\n",
              "    <tr>\n",
              "      <th>212499</th>\n",
              "      <td>84</td>\n",
              "      <td>9</td>\n",
              "      <td>249</td>\n",
              "      <td>NaN</td>\n",
              "      <td>NaN</td>\n",
              "      <td>NaN</td>\n",
              "      <td>NaN</td>\n",
              "    </tr>\n",
              "  </tbody>\n",
              "</table>\n",
              "<p>212500 rows × 7 columns</p>\n",
              "</div>"
            ],
            "text/plain": [
              "        week shopper product  price  target  discount coupon\n",
              "0          0       0       0    NaN     NaN       NaN    NaN\n",
              "1          0       0       1    NaN     NaN       NaN    NaN\n",
              "2          0       0       2    NaN     NaN       NaN    NaN\n",
              "3          0       0       3    NaN     NaN       NaN    NaN\n",
              "4          0       0       4    NaN     NaN       NaN    NaN\n",
              "...      ...     ...     ...    ...     ...       ...    ...\n",
              "212495    84       9     245    NaN     NaN       NaN    NaN\n",
              "212496    84       9     246    NaN     NaN       NaN    NaN\n",
              "212497    84       9     247    NaN     NaN       NaN    NaN\n",
              "212498    84       9     248    NaN     NaN       NaN    NaN\n",
              "212499    84       9     249    NaN     NaN       NaN    NaN\n",
              "\n",
              "[212500 rows x 7 columns]"
            ]
          },
          "metadata": {
            "tags": []
          },
          "execution_count": 16
        }
      ]
    },
    {
      "cell_type": "markdown",
      "metadata": {
        "id": "ptZ7ODD00-tS"
      },
      "source": [
        "Combine everything"
      ]
    },
    {
      "cell_type": "code",
      "metadata": {
        "id": "nFrmiWSu094h"
      },
      "source": [
        "X_train = (X_train\r\n",
        "           .merge(original_price, on=['product'], how='left')\r\n",
        "           .merge(total_count_of_product, on=['shopper', 'product'], how='left')\r\n",
        "           .merge(reordered, on=['shopper', 'product'], how='left')\r\n",
        "           .merge(ratio_of_reordered_per_product, on=['shopper', 'product'], how='left')\r\n",
        "           .merge(ratio_of_reordered_per_shopper, on=['shopper'], how='left')\r\n",
        "           .merge(average_price_per_shopper, on=['shopper'], how='left')\r\n",
        "           .merge(average_basket_size, on=['shopper'], how='left')\r\n",
        "           .merge(unique_products_per_shopper, on=['shopper'], how='left')\r\n",
        "           )"
      ],
      "execution_count": 17,
      "outputs": []
    },
    {
      "cell_type": "code",
      "metadata": {
        "colab": {
          "base_uri": "https://localhost:8080/",
          "height": 439
        },
        "id": "GDiIwUFu1Q6a",
        "outputId": "45687db4-e214-4eb5-c772-e5170acfccda"
      },
      "source": [
        "X_train"
      ],
      "execution_count": 18,
      "outputs": [
        {
          "output_type": "execute_result",
          "data": {
            "text/html": [
              "<div>\n",
              "<style scoped>\n",
              "    .dataframe tbody tr th:only-of-type {\n",
              "        vertical-align: middle;\n",
              "    }\n",
              "\n",
              "    .dataframe tbody tr th {\n",
              "        vertical-align: top;\n",
              "    }\n",
              "\n",
              "    .dataframe thead th {\n",
              "        text-align: right;\n",
              "    }\n",
              "</style>\n",
              "<table border=\"1\" class=\"dataframe\">\n",
              "  <thead>\n",
              "    <tr style=\"text-align: right;\">\n",
              "      <th></th>\n",
              "      <th>week</th>\n",
              "      <th>shopper</th>\n",
              "      <th>product</th>\n",
              "      <th>price</th>\n",
              "      <th>target</th>\n",
              "      <th>discount</th>\n",
              "      <th>coupon</th>\n",
              "      <th>original_price</th>\n",
              "      <th>total_count_of_product</th>\n",
              "      <th>reordered</th>\n",
              "      <th>ratio_of_reordered_per_product</th>\n",
              "      <th>ratio_of_reordered</th>\n",
              "      <th>average_price_per_shopper</th>\n",
              "      <th>average_basket_size</th>\n",
              "      <th>unique_products_per_shopper</th>\n",
              "    </tr>\n",
              "  </thead>\n",
              "  <tbody>\n",
              "    <tr>\n",
              "      <th>0</th>\n",
              "      <td>0</td>\n",
              "      <td>0</td>\n",
              "      <td>0</td>\n",
              "      <td>NaN</td>\n",
              "      <td>NaN</td>\n",
              "      <td>NaN</td>\n",
              "      <td>NaN</td>\n",
              "      <td>688</td>\n",
              "      <td>0</td>\n",
              "      <td>NaN</td>\n",
              "      <td>0.000000</td>\n",
              "      <td>0.735849</td>\n",
              "      <td>588.063100</td>\n",
              "      <td>8.576471</td>\n",
              "      <td>53</td>\n",
              "    </tr>\n",
              "    <tr>\n",
              "      <th>1</th>\n",
              "      <td>0</td>\n",
              "      <td>0</td>\n",
              "      <td>1</td>\n",
              "      <td>NaN</td>\n",
              "      <td>NaN</td>\n",
              "      <td>NaN</td>\n",
              "      <td>NaN</td>\n",
              "      <td>560</td>\n",
              "      <td>0</td>\n",
              "      <td>NaN</td>\n",
              "      <td>0.000000</td>\n",
              "      <td>0.735849</td>\n",
              "      <td>588.063100</td>\n",
              "      <td>8.576471</td>\n",
              "      <td>53</td>\n",
              "    </tr>\n",
              "    <tr>\n",
              "      <th>2</th>\n",
              "      <td>0</td>\n",
              "      <td>0</td>\n",
              "      <td>2</td>\n",
              "      <td>NaN</td>\n",
              "      <td>NaN</td>\n",
              "      <td>NaN</td>\n",
              "      <td>NaN</td>\n",
              "      <td>773</td>\n",
              "      <td>0</td>\n",
              "      <td>NaN</td>\n",
              "      <td>0.000000</td>\n",
              "      <td>0.735849</td>\n",
              "      <td>588.063100</td>\n",
              "      <td>8.576471</td>\n",
              "      <td>53</td>\n",
              "    </tr>\n",
              "    <tr>\n",
              "      <th>3</th>\n",
              "      <td>0</td>\n",
              "      <td>0</td>\n",
              "      <td>3</td>\n",
              "      <td>NaN</td>\n",
              "      <td>NaN</td>\n",
              "      <td>NaN</td>\n",
              "      <td>NaN</td>\n",
              "      <td>722</td>\n",
              "      <td>0</td>\n",
              "      <td>NaN</td>\n",
              "      <td>0.000000</td>\n",
              "      <td>0.735849</td>\n",
              "      <td>588.063100</td>\n",
              "      <td>8.576471</td>\n",
              "      <td>53</td>\n",
              "    </tr>\n",
              "    <tr>\n",
              "      <th>4</th>\n",
              "      <td>0</td>\n",
              "      <td>0</td>\n",
              "      <td>4</td>\n",
              "      <td>NaN</td>\n",
              "      <td>NaN</td>\n",
              "      <td>NaN</td>\n",
              "      <td>NaN</td>\n",
              "      <td>620</td>\n",
              "      <td>8</td>\n",
              "      <td>1.0</td>\n",
              "      <td>0.094118</td>\n",
              "      <td>0.735849</td>\n",
              "      <td>588.063100</td>\n",
              "      <td>8.576471</td>\n",
              "      <td>53</td>\n",
              "    </tr>\n",
              "    <tr>\n",
              "      <th>...</th>\n",
              "      <td>...</td>\n",
              "      <td>...</td>\n",
              "      <td>...</td>\n",
              "      <td>...</td>\n",
              "      <td>...</td>\n",
              "      <td>...</td>\n",
              "      <td>...</td>\n",
              "      <td>...</td>\n",
              "      <td>...</td>\n",
              "      <td>...</td>\n",
              "      <td>...</td>\n",
              "      <td>...</td>\n",
              "      <td>...</td>\n",
              "      <td>...</td>\n",
              "      <td>...</td>\n",
              "    </tr>\n",
              "    <tr>\n",
              "      <th>212495</th>\n",
              "      <td>84</td>\n",
              "      <td>9</td>\n",
              "      <td>245</td>\n",
              "      <td>NaN</td>\n",
              "      <td>NaN</td>\n",
              "      <td>NaN</td>\n",
              "      <td>NaN</td>\n",
              "      <td>549</td>\n",
              "      <td>1</td>\n",
              "      <td>0.0</td>\n",
              "      <td>0.011765</td>\n",
              "      <td>0.703704</td>\n",
              "      <td>570.611814</td>\n",
              "      <td>8.364706</td>\n",
              "      <td>81</td>\n",
              "    </tr>\n",
              "    <tr>\n",
              "      <th>212496</th>\n",
              "      <td>84</td>\n",
              "      <td>9</td>\n",
              "      <td>246</td>\n",
              "      <td>NaN</td>\n",
              "      <td>NaN</td>\n",
              "      <td>NaN</td>\n",
              "      <td>NaN</td>\n",
              "      <td>702</td>\n",
              "      <td>0</td>\n",
              "      <td>NaN</td>\n",
              "      <td>0.000000</td>\n",
              "      <td>0.703704</td>\n",
              "      <td>570.611814</td>\n",
              "      <td>8.364706</td>\n",
              "      <td>81</td>\n",
              "    </tr>\n",
              "    <tr>\n",
              "      <th>212497</th>\n",
              "      <td>84</td>\n",
              "      <td>9</td>\n",
              "      <td>247</td>\n",
              "      <td>NaN</td>\n",
              "      <td>NaN</td>\n",
              "      <td>NaN</td>\n",
              "      <td>NaN</td>\n",
              "      <td>670</td>\n",
              "      <td>0</td>\n",
              "      <td>NaN</td>\n",
              "      <td>0.000000</td>\n",
              "      <td>0.703704</td>\n",
              "      <td>570.611814</td>\n",
              "      <td>8.364706</td>\n",
              "      <td>81</td>\n",
              "    </tr>\n",
              "    <tr>\n",
              "      <th>212498</th>\n",
              "      <td>84</td>\n",
              "      <td>9</td>\n",
              "      <td>248</td>\n",
              "      <td>NaN</td>\n",
              "      <td>NaN</td>\n",
              "      <td>NaN</td>\n",
              "      <td>NaN</td>\n",
              "      <td>490</td>\n",
              "      <td>0</td>\n",
              "      <td>NaN</td>\n",
              "      <td>0.000000</td>\n",
              "      <td>0.703704</td>\n",
              "      <td>570.611814</td>\n",
              "      <td>8.364706</td>\n",
              "      <td>81</td>\n",
              "    </tr>\n",
              "    <tr>\n",
              "      <th>212499</th>\n",
              "      <td>84</td>\n",
              "      <td>9</td>\n",
              "      <td>249</td>\n",
              "      <td>NaN</td>\n",
              "      <td>NaN</td>\n",
              "      <td>NaN</td>\n",
              "      <td>NaN</td>\n",
              "      <td>499</td>\n",
              "      <td>21</td>\n",
              "      <td>1.0</td>\n",
              "      <td>0.247059</td>\n",
              "      <td>0.703704</td>\n",
              "      <td>570.611814</td>\n",
              "      <td>8.364706</td>\n",
              "      <td>81</td>\n",
              "    </tr>\n",
              "  </tbody>\n",
              "</table>\n",
              "<p>212500 rows × 15 columns</p>\n",
              "</div>"
            ],
            "text/plain": [
              "        week shopper  ... average_basket_size  unique_products_per_shopper\n",
              "0          0       0  ...            8.576471                           53\n",
              "1          0       0  ...            8.576471                           53\n",
              "2          0       0  ...            8.576471                           53\n",
              "3          0       0  ...            8.576471                           53\n",
              "4          0       0  ...            8.576471                           53\n",
              "...      ...     ...  ...                 ...                          ...\n",
              "212495    84       9  ...            8.364706                           81\n",
              "212496    84       9  ...            8.364706                           81\n",
              "212497    84       9  ...            8.364706                           81\n",
              "212498    84       9  ...            8.364706                           81\n",
              "212499    84       9  ...            8.364706                           81\n",
              "\n",
              "[212500 rows x 15 columns]"
            ]
          },
          "metadata": {
            "tags": []
          },
          "execution_count": 18
        }
      ]
    },
    {
      "cell_type": "code",
      "metadata": {
        "colab": {
          "base_uri": "https://localhost:8080/"
        },
        "id": "vqmDWJCi1rIu",
        "outputId": "bc3b5b7d-89a2-488e-8c77-3f5267428277"
      },
      "source": [
        "X_train.isnull().any()"
      ],
      "execution_count": 19,
      "outputs": [
        {
          "output_type": "execute_result",
          "data": {
            "text/plain": [
              "week                              False\n",
              "shopper                           False\n",
              "product                           False\n",
              "price                              True\n",
              "target                             True\n",
              "discount                           True\n",
              "coupon                             True\n",
              "original_price                    False\n",
              "total_count_of_product            False\n",
              "reordered                          True\n",
              "ratio_of_reordered_per_product    False\n",
              "ratio_of_reordered                False\n",
              "average_price_per_shopper         False\n",
              "average_basket_size               False\n",
              "unique_products_per_shopper       False\n",
              "dtype: bool"
            ]
          },
          "metadata": {
            "tags": []
          },
          "execution_count": 19
        }
      ]
    },
    {
      "cell_type": "code",
      "metadata": {
        "id": "qn633XNg1433"
      },
      "source": [
        "X_train['discount'].fillna(0, inplace=True)\r\n",
        "X_train['price'].fillna(X_train.original_price*(1-X_train.discount), inplace=True)\r\n",
        "X_train['reordered'].fillna(0, inplace=True)\r\n",
        "X_train['coupon'].fillna('No', inplace=True)\r\n",
        "# X_train['weeks_since_prior_order'].fillna(0, inplace=True)\r\n",
        "X_train['target'].fillna(0, inplace=True)"
      ],
      "execution_count": 20,
      "outputs": []
    },
    {
      "cell_type": "code",
      "metadata": {
        "id": "revDtQoM9TZM"
      },
      "source": [
        "addkey = X_train.groupby(['shopper','product']).target.apply(lambda x : x.eq(1).shift().fillna(0).cumsum())\r\n",
        "X_train['weeks_since_prior_order'] = X_train.target.eq(0).groupby([X_train['shopper'], X_train['product'], addkey]).cumsum()"
      ],
      "execution_count": 21,
      "outputs": []
    },
    {
      "cell_type": "code",
      "metadata": {
        "colab": {
          "base_uri": "https://localhost:8080/",
          "height": 162
        },
        "id": "rza1aULIKYhH",
        "outputId": "8d0c3293-ff74-4db8-9e5c-70420e208c89"
      },
      "source": [
        "X_train.head(3)"
      ],
      "execution_count": 22,
      "outputs": [
        {
          "output_type": "execute_result",
          "data": {
            "text/html": [
              "<div>\n",
              "<style scoped>\n",
              "    .dataframe tbody tr th:only-of-type {\n",
              "        vertical-align: middle;\n",
              "    }\n",
              "\n",
              "    .dataframe tbody tr th {\n",
              "        vertical-align: top;\n",
              "    }\n",
              "\n",
              "    .dataframe thead th {\n",
              "        text-align: right;\n",
              "    }\n",
              "</style>\n",
              "<table border=\"1\" class=\"dataframe\">\n",
              "  <thead>\n",
              "    <tr style=\"text-align: right;\">\n",
              "      <th></th>\n",
              "      <th>week</th>\n",
              "      <th>shopper</th>\n",
              "      <th>product</th>\n",
              "      <th>price</th>\n",
              "      <th>target</th>\n",
              "      <th>discount</th>\n",
              "      <th>coupon</th>\n",
              "      <th>original_price</th>\n",
              "      <th>total_count_of_product</th>\n",
              "      <th>reordered</th>\n",
              "      <th>ratio_of_reordered_per_product</th>\n",
              "      <th>ratio_of_reordered</th>\n",
              "      <th>average_price_per_shopper</th>\n",
              "      <th>average_basket_size</th>\n",
              "      <th>unique_products_per_shopper</th>\n",
              "      <th>weeks_since_prior_order</th>\n",
              "    </tr>\n",
              "  </thead>\n",
              "  <tbody>\n",
              "    <tr>\n",
              "      <th>0</th>\n",
              "      <td>0</td>\n",
              "      <td>0</td>\n",
              "      <td>0</td>\n",
              "      <td>688.0</td>\n",
              "      <td>0.0</td>\n",
              "      <td>0.0</td>\n",
              "      <td>No</td>\n",
              "      <td>688</td>\n",
              "      <td>0</td>\n",
              "      <td>0.0</td>\n",
              "      <td>0.0</td>\n",
              "      <td>0.735849</td>\n",
              "      <td>588.0631</td>\n",
              "      <td>8.576471</td>\n",
              "      <td>53</td>\n",
              "      <td>1</td>\n",
              "    </tr>\n",
              "    <tr>\n",
              "      <th>1</th>\n",
              "      <td>0</td>\n",
              "      <td>0</td>\n",
              "      <td>1</td>\n",
              "      <td>560.0</td>\n",
              "      <td>0.0</td>\n",
              "      <td>0.0</td>\n",
              "      <td>No</td>\n",
              "      <td>560</td>\n",
              "      <td>0</td>\n",
              "      <td>0.0</td>\n",
              "      <td>0.0</td>\n",
              "      <td>0.735849</td>\n",
              "      <td>588.0631</td>\n",
              "      <td>8.576471</td>\n",
              "      <td>53</td>\n",
              "      <td>1</td>\n",
              "    </tr>\n",
              "    <tr>\n",
              "      <th>2</th>\n",
              "      <td>0</td>\n",
              "      <td>0</td>\n",
              "      <td>2</td>\n",
              "      <td>773.0</td>\n",
              "      <td>0.0</td>\n",
              "      <td>0.0</td>\n",
              "      <td>No</td>\n",
              "      <td>773</td>\n",
              "      <td>0</td>\n",
              "      <td>0.0</td>\n",
              "      <td>0.0</td>\n",
              "      <td>0.735849</td>\n",
              "      <td>588.0631</td>\n",
              "      <td>8.576471</td>\n",
              "      <td>53</td>\n",
              "      <td>1</td>\n",
              "    </tr>\n",
              "  </tbody>\n",
              "</table>\n",
              "</div>"
            ],
            "text/plain": [
              "   week shopper  ... unique_products_per_shopper  weeks_since_prior_order\n",
              "0     0       0  ...                          53                        1\n",
              "1     0       0  ...                          53                        1\n",
              "2     0       0  ...                          53                        1\n",
              "\n",
              "[3 rows x 16 columns]"
            ]
          },
          "metadata": {
            "tags": []
          },
          "execution_count": 22
        }
      ]
    },
    {
      "cell_type": "code",
      "metadata": {
        "id": "HpLTLpYsNK2b"
      },
      "source": [
        "X_train.drop('week', inplace=True, axis=1)"
      ],
      "execution_count": 23,
      "outputs": []
    },
    {
      "cell_type": "code",
      "metadata": {
        "id": "JusYjKDMM4uJ"
      },
      "source": [
        "y_train = X_train.pop('target')"
      ],
      "execution_count": 24,
      "outputs": []
    },
    {
      "cell_type": "markdown",
      "metadata": {
        "id": "axqHOE9eFziV"
      },
      "source": [
        "# Set Up Test Table"
      ]
    },
    {
      "cell_type": "code",
      "metadata": {
        "id": "FT6UARG-F1M1"
      },
      "source": [
        "full_df_test = (baskets_test\r\n",
        "           .merge(\r\n",
        "               coupons_test, \r\n",
        "               on=['week', 'shopper', 'product'], \r\n",
        "               how='outer',\r\n",
        "               indicator=True\r\n",
        "           )\r\n",
        "           .sort_values(by=['week', 'shopper', 'product'])\r\n",
        "           .reset_index(drop=True)\r\n",
        "          #  .replace(['left_only', 'right_only', 'both'], ['RRP', 'coupon', 'discounted'])\r\n",
        "          .replace(['left_only', 'right_only', 'both'], ['No', 'Yes', 'Yes'])\r\n",
        "          .rename(columns={'_merge': 'coupon'})\r\n",
        ")\r\n",
        "\r\n",
        "full_df_test.loc[full_df_test['discount'].isna(),'discount' ] = 0"
      ],
      "execution_count": 25,
      "outputs": []
    },
    {
      "cell_type": "code",
      "metadata": {
        "id": "0798jjAoGYBX"
      },
      "source": [
        "df1 = pd.DataFrame({'key': np.ones(len(baskets_test.week.unique())), 'week': baskets_test.week.unique()})\r\n",
        "df2 = pd.DataFrame({'key': np.ones(shoppers), 'shopper': list(range(shoppers))})\r\n",
        "df3 = pd.DataFrame({'key': np.ones(250), 'product': list(range(250))})\r\n",
        "df4 = full_df_test.copy()\r\n",
        "\r\n",
        "X_test = pd.merge(df1, df2, on='key').merge(df3, on='key').merge(df4, on=['week', 'shopper', 'product'], how='left')[full_df_test.columns]"
      ],
      "execution_count": 26,
      "outputs": []
    },
    {
      "cell_type": "code",
      "metadata": {
        "id": "8NGu4gbdHRX0"
      },
      "source": [
        "X_test = (X_test\r\n",
        "           .merge(original_price, on=['product'], how='left')\r\n",
        "           .merge(total_count_of_product, on=['shopper', 'product'], how='left')\r\n",
        "           .merge(reordered, on=['shopper', 'product'], how='left')\r\n",
        "           .merge(ratio_of_reordered_per_product, on=['shopper', 'product'], how='left')\r\n",
        "           .merge(ratio_of_reordered_per_shopper, on=['shopper'], how='left')\r\n",
        "           .merge(average_price_per_shopper, on=['shopper'], how='left')\r\n",
        "           .merge(average_basket_size, on=['shopper'], how='left')\r\n",
        "           .merge(unique_products_per_shopper, on=['shopper'], how='left')\r\n",
        "           )"
      ],
      "execution_count": 27,
      "outputs": []
    },
    {
      "cell_type": "code",
      "metadata": {
        "id": "rOrIgnqAHW2E"
      },
      "source": [
        "X_test['discount'].fillna(0, inplace=True)\r\n",
        "X_test['price'].fillna(X_test.original_price*(1-X_test.discount), inplace=True)\r\n",
        "X_test['reordered'].fillna(0, inplace=True)\r\n",
        "X_test['coupon'].fillna('No', inplace=True)\r\n",
        "# X_train['weeks_since_prior_order'].fillna(0, inplace=True)\r\n",
        "X_test['target'].fillna(0, inplace=True)"
      ],
      "execution_count": 28,
      "outputs": []
    },
    {
      "cell_type": "code",
      "metadata": {
        "id": "LmUFkG9LHdBU"
      },
      "source": [
        "addkey = X_test.groupby(['shopper','product']).target.apply(lambda x : x.eq(1).shift().fillna(0).cumsum())\r\n",
        "X_test['weeks_since_prior_order'] = X_test.target.eq(0).groupby([X_test['shopper'], X_test['product'], addkey]).cumsum()"
      ],
      "execution_count": 29,
      "outputs": []
    },
    {
      "cell_type": "code",
      "metadata": {
        "id": "esJU5lH5Hfrw"
      },
      "source": [
        "X_test.drop('week', inplace=True, axis=1)"
      ],
      "execution_count": 30,
      "outputs": []
    },
    {
      "cell_type": "code",
      "metadata": {
        "id": "btpSR8UrHiGK"
      },
      "source": [
        "y_test = X_test.pop('target')"
      ],
      "execution_count": 31,
      "outputs": []
    },
    {
      "cell_type": "markdown",
      "metadata": {
        "id": "IpTCdVohNBfe"
      },
      "source": [
        "# One-Hot Encoding Products"
      ]
    },
    {
      "cell_type": "code",
      "metadata": {
        "id": "YPQYX7XsNFkc"
      },
      "source": [
        "from sklearn.preprocessing import OneHotEncoder"
      ],
      "execution_count": 61,
      "outputs": []
    },
    {
      "cell_type": "code",
      "metadata": {
        "id": "JEu6IUrcNYUF"
      },
      "source": [
        "enc = OneHotEncoder(sparse=False)\r\n",
        "\r\n",
        "encodings = X_train.select_dtypes(exclude=np.number).columns.tolist()\r\n",
        "# encoded = pd.DataFrame.sparse.from_spmatrix(enc.fit_transform(X_train[encodings]))\r\n",
        "encoded = pd.DataFrame(enc.fit_transform(X_train[encodings]))\r\n",
        "encoded.columns = enc.get_feature_names(encodings)\r\n",
        "\r\n",
        "X_train = pd.concat([X_train, encoded], axis=1).drop(encodings, axis=1)"
      ],
      "execution_count": 62,
      "outputs": []
    },
    {
      "cell_type": "code",
      "metadata": {
        "id": "VM3cp8lUN-hl"
      },
      "source": [
        "X_train = X_train.apply(pd.to_numeric)"
      ],
      "execution_count": 63,
      "outputs": []
    },
    {
      "cell_type": "code",
      "metadata": {
        "colab": {
          "base_uri": "https://localhost:8080/",
          "height": 191
        },
        "id": "AhQxYvU8-7bh",
        "outputId": "8731edc7-bce7-4ee2-9763-0dbd85879b8b"
      },
      "source": [
        "X_train.head(3)"
      ],
      "execution_count": 64,
      "outputs": [
        {
          "output_type": "execute_result",
          "data": {
            "text/html": [
              "<div>\n",
              "<style scoped>\n",
              "    .dataframe tbody tr th:only-of-type {\n",
              "        vertical-align: middle;\n",
              "    }\n",
              "\n",
              "    .dataframe tbody tr th {\n",
              "        vertical-align: top;\n",
              "    }\n",
              "\n",
              "    .dataframe thead th {\n",
              "        text-align: right;\n",
              "    }\n",
              "</style>\n",
              "<table border=\"1\" class=\"dataframe\">\n",
              "  <thead>\n",
              "    <tr style=\"text-align: right;\">\n",
              "      <th></th>\n",
              "      <th>price</th>\n",
              "      <th>discount</th>\n",
              "      <th>original_price</th>\n",
              "      <th>total_count_of_product</th>\n",
              "      <th>reordered</th>\n",
              "      <th>ratio_of_reordered_per_product</th>\n",
              "      <th>ratio_of_reordered</th>\n",
              "      <th>average_price_per_shopper</th>\n",
              "      <th>average_basket_size</th>\n",
              "      <th>unique_products_per_shopper</th>\n",
              "      <th>weeks_since_prior_order</th>\n",
              "      <th>shopper_0</th>\n",
              "      <th>shopper_1</th>\n",
              "      <th>shopper_2</th>\n",
              "      <th>shopper_3</th>\n",
              "      <th>shopper_4</th>\n",
              "      <th>shopper_5</th>\n",
              "      <th>shopper_6</th>\n",
              "      <th>shopper_7</th>\n",
              "      <th>shopper_8</th>\n",
              "      <th>shopper_9</th>\n",
              "      <th>product_0</th>\n",
              "      <th>product_1</th>\n",
              "      <th>product_2</th>\n",
              "      <th>product_3</th>\n",
              "      <th>product_4</th>\n",
              "      <th>product_5</th>\n",
              "      <th>product_6</th>\n",
              "      <th>product_7</th>\n",
              "      <th>product_8</th>\n",
              "      <th>product_9</th>\n",
              "      <th>product_10</th>\n",
              "      <th>product_11</th>\n",
              "      <th>product_12</th>\n",
              "      <th>product_13</th>\n",
              "      <th>product_14</th>\n",
              "      <th>product_15</th>\n",
              "      <th>product_16</th>\n",
              "      <th>product_17</th>\n",
              "      <th>product_18</th>\n",
              "      <th>...</th>\n",
              "      <th>product_212</th>\n",
              "      <th>product_213</th>\n",
              "      <th>product_214</th>\n",
              "      <th>product_215</th>\n",
              "      <th>product_216</th>\n",
              "      <th>product_217</th>\n",
              "      <th>product_218</th>\n",
              "      <th>product_219</th>\n",
              "      <th>product_220</th>\n",
              "      <th>product_221</th>\n",
              "      <th>product_222</th>\n",
              "      <th>product_223</th>\n",
              "      <th>product_224</th>\n",
              "      <th>product_225</th>\n",
              "      <th>product_226</th>\n",
              "      <th>product_227</th>\n",
              "      <th>product_228</th>\n",
              "      <th>product_229</th>\n",
              "      <th>product_230</th>\n",
              "      <th>product_231</th>\n",
              "      <th>product_232</th>\n",
              "      <th>product_233</th>\n",
              "      <th>product_234</th>\n",
              "      <th>product_235</th>\n",
              "      <th>product_236</th>\n",
              "      <th>product_237</th>\n",
              "      <th>product_238</th>\n",
              "      <th>product_239</th>\n",
              "      <th>product_240</th>\n",
              "      <th>product_241</th>\n",
              "      <th>product_242</th>\n",
              "      <th>product_243</th>\n",
              "      <th>product_244</th>\n",
              "      <th>product_245</th>\n",
              "      <th>product_246</th>\n",
              "      <th>product_247</th>\n",
              "      <th>product_248</th>\n",
              "      <th>product_249</th>\n",
              "      <th>coupon_No</th>\n",
              "      <th>coupon_Yes</th>\n",
              "    </tr>\n",
              "  </thead>\n",
              "  <tbody>\n",
              "    <tr>\n",
              "      <th>0</th>\n",
              "      <td>688.0</td>\n",
              "      <td>0.0</td>\n",
              "      <td>688</td>\n",
              "      <td>0</td>\n",
              "      <td>0.0</td>\n",
              "      <td>0.0</td>\n",
              "      <td>0.735849</td>\n",
              "      <td>588.0631</td>\n",
              "      <td>8.576471</td>\n",
              "      <td>53</td>\n",
              "      <td>1</td>\n",
              "      <td>1.0</td>\n",
              "      <td>0.0</td>\n",
              "      <td>0.0</td>\n",
              "      <td>0.0</td>\n",
              "      <td>0.0</td>\n",
              "      <td>0.0</td>\n",
              "      <td>0.0</td>\n",
              "      <td>0.0</td>\n",
              "      <td>0.0</td>\n",
              "      <td>0.0</td>\n",
              "      <td>1.0</td>\n",
              "      <td>0.0</td>\n",
              "      <td>0.0</td>\n",
              "      <td>0.0</td>\n",
              "      <td>0.0</td>\n",
              "      <td>0.0</td>\n",
              "      <td>0.0</td>\n",
              "      <td>0.0</td>\n",
              "      <td>0.0</td>\n",
              "      <td>0.0</td>\n",
              "      <td>0.0</td>\n",
              "      <td>0.0</td>\n",
              "      <td>0.0</td>\n",
              "      <td>0.0</td>\n",
              "      <td>0.0</td>\n",
              "      <td>0.0</td>\n",
              "      <td>0.0</td>\n",
              "      <td>0.0</td>\n",
              "      <td>0.0</td>\n",
              "      <td>...</td>\n",
              "      <td>0.0</td>\n",
              "      <td>0.0</td>\n",
              "      <td>0.0</td>\n",
              "      <td>0.0</td>\n",
              "      <td>0.0</td>\n",
              "      <td>0.0</td>\n",
              "      <td>0.0</td>\n",
              "      <td>0.0</td>\n",
              "      <td>0.0</td>\n",
              "      <td>0.0</td>\n",
              "      <td>0.0</td>\n",
              "      <td>0.0</td>\n",
              "      <td>0.0</td>\n",
              "      <td>0.0</td>\n",
              "      <td>0.0</td>\n",
              "      <td>0.0</td>\n",
              "      <td>0.0</td>\n",
              "      <td>0.0</td>\n",
              "      <td>0.0</td>\n",
              "      <td>0.0</td>\n",
              "      <td>0.0</td>\n",
              "      <td>0.0</td>\n",
              "      <td>0.0</td>\n",
              "      <td>0.0</td>\n",
              "      <td>0.0</td>\n",
              "      <td>0.0</td>\n",
              "      <td>0.0</td>\n",
              "      <td>0.0</td>\n",
              "      <td>0.0</td>\n",
              "      <td>0.0</td>\n",
              "      <td>0.0</td>\n",
              "      <td>0.0</td>\n",
              "      <td>0.0</td>\n",
              "      <td>0.0</td>\n",
              "      <td>0.0</td>\n",
              "      <td>0.0</td>\n",
              "      <td>0.0</td>\n",
              "      <td>0.0</td>\n",
              "      <td>1.0</td>\n",
              "      <td>0.0</td>\n",
              "    </tr>\n",
              "    <tr>\n",
              "      <th>1</th>\n",
              "      <td>560.0</td>\n",
              "      <td>0.0</td>\n",
              "      <td>560</td>\n",
              "      <td>0</td>\n",
              "      <td>0.0</td>\n",
              "      <td>0.0</td>\n",
              "      <td>0.735849</td>\n",
              "      <td>588.0631</td>\n",
              "      <td>8.576471</td>\n",
              "      <td>53</td>\n",
              "      <td>1</td>\n",
              "      <td>1.0</td>\n",
              "      <td>0.0</td>\n",
              "      <td>0.0</td>\n",
              "      <td>0.0</td>\n",
              "      <td>0.0</td>\n",
              "      <td>0.0</td>\n",
              "      <td>0.0</td>\n",
              "      <td>0.0</td>\n",
              "      <td>0.0</td>\n",
              "      <td>0.0</td>\n",
              "      <td>0.0</td>\n",
              "      <td>1.0</td>\n",
              "      <td>0.0</td>\n",
              "      <td>0.0</td>\n",
              "      <td>0.0</td>\n",
              "      <td>0.0</td>\n",
              "      <td>0.0</td>\n",
              "      <td>0.0</td>\n",
              "      <td>0.0</td>\n",
              "      <td>0.0</td>\n",
              "      <td>0.0</td>\n",
              "      <td>0.0</td>\n",
              "      <td>0.0</td>\n",
              "      <td>0.0</td>\n",
              "      <td>0.0</td>\n",
              "      <td>0.0</td>\n",
              "      <td>0.0</td>\n",
              "      <td>0.0</td>\n",
              "      <td>0.0</td>\n",
              "      <td>...</td>\n",
              "      <td>0.0</td>\n",
              "      <td>0.0</td>\n",
              "      <td>0.0</td>\n",
              "      <td>0.0</td>\n",
              "      <td>0.0</td>\n",
              "      <td>0.0</td>\n",
              "      <td>0.0</td>\n",
              "      <td>0.0</td>\n",
              "      <td>0.0</td>\n",
              "      <td>0.0</td>\n",
              "      <td>0.0</td>\n",
              "      <td>0.0</td>\n",
              "      <td>0.0</td>\n",
              "      <td>0.0</td>\n",
              "      <td>0.0</td>\n",
              "      <td>0.0</td>\n",
              "      <td>0.0</td>\n",
              "      <td>0.0</td>\n",
              "      <td>0.0</td>\n",
              "      <td>0.0</td>\n",
              "      <td>0.0</td>\n",
              "      <td>0.0</td>\n",
              "      <td>0.0</td>\n",
              "      <td>0.0</td>\n",
              "      <td>0.0</td>\n",
              "      <td>0.0</td>\n",
              "      <td>0.0</td>\n",
              "      <td>0.0</td>\n",
              "      <td>0.0</td>\n",
              "      <td>0.0</td>\n",
              "      <td>0.0</td>\n",
              "      <td>0.0</td>\n",
              "      <td>0.0</td>\n",
              "      <td>0.0</td>\n",
              "      <td>0.0</td>\n",
              "      <td>0.0</td>\n",
              "      <td>0.0</td>\n",
              "      <td>0.0</td>\n",
              "      <td>1.0</td>\n",
              "      <td>0.0</td>\n",
              "    </tr>\n",
              "    <tr>\n",
              "      <th>2</th>\n",
              "      <td>773.0</td>\n",
              "      <td>0.0</td>\n",
              "      <td>773</td>\n",
              "      <td>0</td>\n",
              "      <td>0.0</td>\n",
              "      <td>0.0</td>\n",
              "      <td>0.735849</td>\n",
              "      <td>588.0631</td>\n",
              "      <td>8.576471</td>\n",
              "      <td>53</td>\n",
              "      <td>1</td>\n",
              "      <td>1.0</td>\n",
              "      <td>0.0</td>\n",
              "      <td>0.0</td>\n",
              "      <td>0.0</td>\n",
              "      <td>0.0</td>\n",
              "      <td>0.0</td>\n",
              "      <td>0.0</td>\n",
              "      <td>0.0</td>\n",
              "      <td>0.0</td>\n",
              "      <td>0.0</td>\n",
              "      <td>0.0</td>\n",
              "      <td>0.0</td>\n",
              "      <td>1.0</td>\n",
              "      <td>0.0</td>\n",
              "      <td>0.0</td>\n",
              "      <td>0.0</td>\n",
              "      <td>0.0</td>\n",
              "      <td>0.0</td>\n",
              "      <td>0.0</td>\n",
              "      <td>0.0</td>\n",
              "      <td>0.0</td>\n",
              "      <td>0.0</td>\n",
              "      <td>0.0</td>\n",
              "      <td>0.0</td>\n",
              "      <td>0.0</td>\n",
              "      <td>0.0</td>\n",
              "      <td>0.0</td>\n",
              "      <td>0.0</td>\n",
              "      <td>0.0</td>\n",
              "      <td>...</td>\n",
              "      <td>0.0</td>\n",
              "      <td>0.0</td>\n",
              "      <td>0.0</td>\n",
              "      <td>0.0</td>\n",
              "      <td>0.0</td>\n",
              "      <td>0.0</td>\n",
              "      <td>0.0</td>\n",
              "      <td>0.0</td>\n",
              "      <td>0.0</td>\n",
              "      <td>0.0</td>\n",
              "      <td>0.0</td>\n",
              "      <td>0.0</td>\n",
              "      <td>0.0</td>\n",
              "      <td>0.0</td>\n",
              "      <td>0.0</td>\n",
              "      <td>0.0</td>\n",
              "      <td>0.0</td>\n",
              "      <td>0.0</td>\n",
              "      <td>0.0</td>\n",
              "      <td>0.0</td>\n",
              "      <td>0.0</td>\n",
              "      <td>0.0</td>\n",
              "      <td>0.0</td>\n",
              "      <td>0.0</td>\n",
              "      <td>0.0</td>\n",
              "      <td>0.0</td>\n",
              "      <td>0.0</td>\n",
              "      <td>0.0</td>\n",
              "      <td>0.0</td>\n",
              "      <td>0.0</td>\n",
              "      <td>0.0</td>\n",
              "      <td>0.0</td>\n",
              "      <td>0.0</td>\n",
              "      <td>0.0</td>\n",
              "      <td>0.0</td>\n",
              "      <td>0.0</td>\n",
              "      <td>0.0</td>\n",
              "      <td>0.0</td>\n",
              "      <td>1.0</td>\n",
              "      <td>0.0</td>\n",
              "    </tr>\n",
              "  </tbody>\n",
              "</table>\n",
              "<p>3 rows × 273 columns</p>\n",
              "</div>"
            ],
            "text/plain": [
              "   price  discount  original_price  ...  product_249  coupon_No  coupon_Yes\n",
              "0  688.0       0.0             688  ...          0.0        1.0         0.0\n",
              "1  560.0       0.0             560  ...          0.0        1.0         0.0\n",
              "2  773.0       0.0             773  ...          0.0        1.0         0.0\n",
              "\n",
              "[3 rows x 273 columns]"
            ]
          },
          "metadata": {
            "tags": []
          },
          "execution_count": 64
        }
      ]
    },
    {
      "cell_type": "markdown",
      "metadata": {
        "id": "YJru_84FBBkL"
      },
      "source": [
        "# Training"
      ]
    },
    {
      "cell_type": "code",
      "metadata": {
        "id": "OZzYldzn82cy"
      },
      "source": [
        "import lightgbm as lgb"
      ],
      "execution_count": 32,
      "outputs": []
    },
    {
      "cell_type": "code",
      "metadata": {
        "id": "wdA8Ksti88PQ"
      },
      "source": [
        "from collections import Counter\r\n",
        "\r\n",
        "# count examples in each class\r\n",
        "counter = Counter(y_train)\r\n",
        "# estimate scale_pos_weight value\r\n",
        "estimate = counter[0] / counter[1]\r\n",
        "\r\n",
        "lgb_clf = lgb.LGBMClassifier(scale_pos_weight=estimate)"
      ],
      "execution_count": 87,
      "outputs": []
    },
    {
      "cell_type": "code",
      "metadata": {
        "id": "tSs4AVy4EoNX"
      },
      "source": [
        "categorical = X_train.select_dtypes(exclude=np.number).columns.tolist()\r\n",
        "for cats in categorical:\r\n",
        "  X_train[cats] = X_train[cats].astype('category')\r\n",
        "  X_test[cats] = X_test[cats].astype('category')"
      ],
      "execution_count": 89,
      "outputs": []
    },
    {
      "cell_type": "code",
      "metadata": {
        "colab": {
          "base_uri": "https://localhost:8080/"
        },
        "id": "6JpsBYe96hEK",
        "outputId": "ed78c672-1c00-4728-9122-e38ab8f45916"
      },
      "source": [
        "lgb_clf.fit(X_train, y_train, categorical_feature=categorical)"
      ],
      "execution_count": 90,
      "outputs": [
        {
          "output_type": "stream",
          "text": [
            "/usr/local/lib/python3.7/dist-packages/lightgbm/basic.py:1209: UserWarning: categorical_feature in Dataset is overridden.\n",
            "New categorical_feature is ['coupon', 'product', 'shopper']\n",
            "  'New categorical_feature is {}'.format(sorted(list(categorical_feature))))\n"
          ],
          "name": "stderr"
        },
        {
          "output_type": "execute_result",
          "data": {
            "text/plain": [
              "LGBMClassifier(boosting_type='gbdt', class_weight=None, colsample_bytree=1.0,\n",
              "               importance_type='split', learning_rate=0.1, max_depth=-1,\n",
              "               min_child_samples=20, min_child_weight=0.001, min_split_gain=0.0,\n",
              "               n_estimators=100, n_jobs=-1, num_leaves=31, objective=None,\n",
              "               random_state=None, reg_alpha=0.0, reg_lambda=0.0,\n",
              "               scale_pos_weight=30.41632170313424, silent=True, subsample=1.0,\n",
              "               subsample_for_bin=200000, subsample_freq=0)"
            ]
          },
          "metadata": {
            "tags": []
          },
          "execution_count": 90
        }
      ]
    },
    {
      "cell_type": "code",
      "metadata": {
        "colab": {
          "base_uri": "https://localhost:8080/"
        },
        "id": "ww-I5suLK2ky",
        "outputId": "53f30ce6-4205-48af-b0e1-50108e484649"
      },
      "source": [
        "lgb_clf.score(X_train, y_train)"
      ],
      "execution_count": 91,
      "outputs": [
        {
          "output_type": "execute_result",
          "data": {
            "text/plain": [
              "0.8886494117647059"
            ]
          },
          "metadata": {
            "tags": []
          },
          "execution_count": 91
        }
      ]
    },
    {
      "cell_type": "code",
      "metadata": {
        "colab": {
          "base_uri": "https://localhost:8080/"
        },
        "id": "y8Ed3Njd_rAs",
        "outputId": "fd1dee9d-1b15-47d2-f02a-480bfbc6659a"
      },
      "source": [
        "lgb_clf.score(X_test, y_test)"
      ],
      "execution_count": 92,
      "outputs": [
        {
          "output_type": "execute_result",
          "data": {
            "text/plain": [
              "0.88992"
            ]
          },
          "metadata": {
            "tags": []
          },
          "execution_count": 92
        }
      ]
    },
    {
      "cell_type": "code",
      "metadata": {
        "colab": {
          "base_uri": "https://localhost:8080/",
          "height": 312
        },
        "id": "r73rkPIYFn1I",
        "outputId": "3c8a5b54-4ac3-4c66-88e6-47d5c8c9758d"
      },
      "source": [
        "lgb.plot_importance(lgb_clf, max_num_features=10)"
      ],
      "execution_count": 93,
      "outputs": [
        {
          "output_type": "execute_result",
          "data": {
            "text/plain": [
              "<matplotlib.axes._subplots.AxesSubplot at 0x7f78a07e6c50>"
            ]
          },
          "metadata": {
            "tags": []
          },
          "execution_count": 93
        },
        {
          "output_type": "display_data",
          "data": {
            "image/png": "[encoded data removed]",
            "text/plain": [
              "<Figure size 432x288 with 1 Axes>"
            ]
          },
          "metadata": {
            "tags": [],
            "needs_background": "light"
          }
        }
      ]
    },
    {
      "cell_type": "code",
      "metadata": {
        "colab": {
          "base_uri": "https://localhost:8080/",
          "height": 312
        },
        "id": "FYfDwpA4JLeQ",
        "outputId": "6b2c8596-868a-4502-ca11-98096d30a302"
      },
      "source": [
        "lgb.plot_importance(lgb_clf, max_num_features=10, importance_type='gain')"
      ],
      "execution_count": 94,
      "outputs": [
        {
          "output_type": "execute_result",
          "data": {
            "text/plain": [
              "<matplotlib.axes._subplots.AxesSubplot at 0x7f78a07741d0>"
            ]
          },
          "metadata": {
            "tags": []
          },
          "execution_count": 94
        },
        {
          "output_type": "display_data",
          "data": {
            "image/png": "[encoded data removed]",
            "text/plain": [
              "<Figure size 432x288 with 1 Axes>"
            ]
          },
          "metadata": {
            "tags": [],
            "needs_background": "light"
          }
        }
      ]
    },
    {
      "cell_type": "code",
      "metadata": {
        "colab": {
          "base_uri": "https://localhost:8080/",
          "height": 296
        },
        "id": "3OJJnMzMLY_w",
        "outputId": "9d02ce92-bf13-4849-e2bb-8081f1e86b81"
      },
      "source": [
        "from sklearn.metrics import plot_roc_curve\r\n",
        "plot_roc_curve(estimator=lgb_clf, X=X_test, y=y_test)"
      ],
      "execution_count": 95,
      "outputs": [
        {
          "output_type": "execute_result",
          "data": {
            "text/plain": [
              "<sklearn.metrics._plot.roc_curve.RocCurveDisplay at 0x7f78a0817ed0>"
            ]
          },
          "metadata": {
            "tags": []
          },
          "execution_count": 95
        },
        {
          "output_type": "display_data",
          "data": {
            "image/png": "[encoded data removed]",
            "text/plain": [
              "<Figure size 432x288 with 1 Axes>"
            ]
          },
          "metadata": {
            "tags": [],
            "needs_background": "light"
          }
        }
      ]
    },
    {
      "cell_type": "code",
      "metadata": {
        "colab": {
          "base_uri": "https://localhost:8080/",
          "height": 296
        },
        "id": "wDJ2A_hGVtlu",
        "outputId": "b8eb9b2e-b23a-4789-d0bc-e05ba38edf4b"
      },
      "source": [
        "from sklearn.metrics import plot_confusion_matrix\r\n",
        "from sklearn.metrics import confusion_matrix\r\n",
        "\r\n",
        "confusion = confusion_matrix(y_test, lgb_clf.predict(X_test))\r\n",
        "plot_confusion_matrix(estimator=lgb_clf, X=X_test, y_true=y_test, display_labels=['No', 'Yes'], normalize='all')"
      ],
      "execution_count": 138,
      "outputs": [
        {
          "output_type": "execute_result",
          "data": {
            "text/plain": [
              "<sklearn.metrics._plot.confusion_matrix.ConfusionMatrixDisplay at 0x7f789fd08290>"
            ]
          },
          "metadata": {
            "tags": []
          },
          "execution_count": 138
        },
        {
          "output_type": "display_data",
          "data": {
            "image/png": "[encoded data removed]",
            "text/plain": [
              "<Figure size 432x288 with 2 Axes>"
            ]
          },
          "metadata": {
            "tags": [],
            "needs_background": "light"
          }
        }
      ]
    },
    {
      "cell_type": "code",
      "metadata": {
        "colab": {
          "base_uri": "https://localhost:8080/"
        },
        "id": "cYUx-LeHWd2O",
        "outputId": "0c5b7dd9-7009-40a2-f159-ea102580ae96"
      },
      "source": [
        "confusion"
      ],
      "execution_count": 115,
      "outputs": [
        {
          "output_type": "execute_result",
          "data": {
            "text/plain": [
              "array([[10777,  1336],\n",
              "       [   40,   347]])"
            ]
          },
          "metadata": {
            "tags": []
          },
          "execution_count": 115
        }
      ]
    },
    {
      "cell_type": "code",
      "metadata": {
        "id": "XkJPcocOYQSs"
      },
      "source": [
        "FP = confusion[0][1]\r\n",
        "FN = confusion[1][0]\r\n",
        "TP = confusion[1][1]\r\n",
        "TN = confusion[0][0]\r\n",
        "\r\n",
        "# Sensitivity, hit rate, recall, or true positive rate\r\n",
        "TPR = TP/(TP+FN)\r\n",
        "# Specificity or true negative rate\r\n",
        "TNR = TN/(TN+FP) \r\n",
        "# Precision or positive predictive value\r\n",
        "PPV = TP/(TP+FP)\r\n",
        "# Negative predictive value\r\n",
        "NPV = TN/(TN+FN)\r\n",
        "# Fall out or false positive rate\r\n",
        "FPR = FP/(FP+TN)\r\n",
        "# False negative rate\r\n",
        "FNR = FN/(TP+FN)\r\n",
        "# False discovery rate\r\n",
        "FDR = FP/(TP+FP)\r\n",
        "\r\n",
        "# Overall accuracy\r\n",
        "ACC = (TP+TN)/(TP+FP+FN+TN)"
      ],
      "execution_count": 127,
      "outputs": []
    },
    {
      "cell_type": "code",
      "metadata": {
        "colab": {
          "base_uri": "https://localhost:8080/"
        },
        "id": "gQhj4F3vZ8XE",
        "outputId": "ef27e69a-826b-4b1c-dcca-bfd1d7207b7e"
      },
      "source": [
        "print(f'TPR: {TPR:.4f}')\r\n",
        "print(f'TNR: {TNR:.4f}')\r\n",
        "print(f'Precision: {PPV:.4f}')\r\n",
        "print(f'FPR: {FPR:.4f}')\r\n",
        "print(f'FNR: {FNR:.4f}')\r\n",
        "print(f'False discovery rate: {FDR:.4f}')"
      ],
      "execution_count": 136,
      "outputs": [
        {
          "output_type": "stream",
          "text": [
            "TPR: 0.8966\n",
            "TNR: 0.8897\n",
            "Precision: 0.2062\n",
            "FPR: 0.1103\n",
            "FNR: 0.1034\n",
            "False discovery rate: 0.7938\n"
          ],
          "name": "stdout"
        }
      ]
    },
    {
      "cell_type": "code",
      "metadata": {
        "id": "xcK9Q7tyaf3e"
      },
      "source": [
        ""
      ],
      "execution_count": null,
      "outputs": []
    }
  ]
}