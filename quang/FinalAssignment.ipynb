{
  "nbformat": 4,
  "nbformat_minor": 0,
  "metadata": {
    "colab": {
      "name": "FinalAssignment.ipynb",
      "provenance": [],
      "collapsed_sections": [],
      "toc_visible": true,
      "mount_file_id": "17sCjKQDEfGjPbBnbNYH04SFCv7PnEm2L",
      "authorship_tag": "ABX9TyPDeWawh2Ld7bI1LzFO7cFt",
      "include_colab_link": true
    },
    "kernelspec": {
      "name": "python3",
      "display_name": "Python 3"
    }
  },
  "cells": [
    {
      "cell_type": "markdown",
      "metadata": {
        "id": "view-in-github",
        "colab_type": "text"
      },
      "source": [
        "<a href=\"https://colab.research.google.com/github/uhdang/mlim_group_3_final_assignment/blob/main/quang/FinalAssignment.ipynb\" target=\"_parent\"><img src=\"https://colab.research.google.com/assets/colab-badge.svg\" alt=\"Open In Colab\"/></a>"
      ]
    },
    {
      "cell_type": "code",
      "metadata": {
        "colab": {
          "base_uri": "https://localhost:8080/",
          "height": 323
        },
        "id": "lbCoj2hWBnOH",
        "outputId": "b4df0466-ade1-4310-cbda-b6247adb038a"
      },
      "source": [
        "!pip install scikit-learn --upgrade"
      ],
      "execution_count": 154,
      "outputs": [
        {
          "output_type": "stream",
          "text": [
            "Collecting scikit-learn\n",
            "\u001b[?25l  Downloading https://files.pythonhosted.org/packages/f3/74/eb899f41d55f957e2591cde5528e75871f817d9fb46d4732423ecaca736d/scikit_learn-0.24.1-cp37-cp37m-manylinux2010_x86_64.whl (22.3MB)\n",
            "\u001b[K     |████████████████████████████████| 22.3MB 1.8MB/s \n",
            "\u001b[?25hRequirement already satisfied, skipping upgrade: numpy>=1.13.3 in /usr/local/lib/python3.7/dist-packages (from scikit-learn) (1.19.5)\n",
            "Requirement already satisfied, skipping upgrade: joblib>=0.11 in /usr/local/lib/python3.7/dist-packages (from scikit-learn) (1.0.1)\n",
            "Requirement already satisfied, skipping upgrade: scipy>=0.19.1 in /usr/local/lib/python3.7/dist-packages (from scikit-learn) (1.4.1)\n",
            "Collecting threadpoolctl>=2.0.0\n",
            "  Downloading https://files.pythonhosted.org/packages/f7/12/ec3f2e203afa394a149911729357aa48affc59c20e2c1c8297a60f33f133/threadpoolctl-2.1.0-py3-none-any.whl\n",
            "Installing collected packages: threadpoolctl, scikit-learn\n",
            "  Found existing installation: scikit-learn 0.22.2.post1\n",
            "    Uninstalling scikit-learn-0.22.2.post1:\n",
            "      Successfully uninstalled scikit-learn-0.22.2.post1\n",
            "Successfully installed scikit-learn-0.24.1 threadpoolctl-2.1.0\n"
          ],
          "name": "stdout"
        },
        {
          "output_type": "display_data",
          "data": {
            "application/vnd.colab-display-data+json": {
              "pip_warning": {
                "packages": [
                  "sklearn"
                ]
              }
            }
          },
          "metadata": {
            "tags": []
          }
        }
      ]
    },
    {
      "cell_type": "code",
      "metadata": {
        "colab": {
          "base_uri": "https://localhost:8080/",
          "height": 340
        },
        "id": "qFUtMx_vBwPi",
        "outputId": "f61b6f2b-58a6-4ed9-d1d7-780bf0250bfc"
      },
      "source": [
        "!pip install lightgbm --upgrade"
      ],
      "execution_count": 79,
      "outputs": [
        {
          "output_type": "stream",
          "text": [
            "Collecting lightgbm\n",
            "\u001b[?25l  Downloading https://files.pythonhosted.org/packages/70/cd/2b7783e8c250f8191b72e9a0010e0429a799d3305c27764d7bf113dfd078/lightgbm-3.1.1-py2.py3-none-manylinux1_x86_64.whl (1.8MB)\n",
            "\u001b[K     |████████████████████████████████| 1.8MB 6.6MB/s \n",
            "\u001b[?25hRequirement already satisfied, skipping upgrade: numpy in /usr/local/lib/python3.7/dist-packages (from lightgbm) (1.19.5)\n",
            "Requirement already satisfied, skipping upgrade: scikit-learn!=0.22.0 in /usr/local/lib/python3.7/dist-packages (from lightgbm) (0.24.1)\n",
            "Requirement already satisfied, skipping upgrade: wheel in /usr/local/lib/python3.7/dist-packages (from lightgbm) (0.36.2)\n",
            "Requirement already satisfied, skipping upgrade: scipy in /usr/local/lib/python3.7/dist-packages (from lightgbm) (1.4.1)\n",
            "Requirement already satisfied, skipping upgrade: joblib>=0.11 in /usr/local/lib/python3.7/dist-packages (from scikit-learn!=0.22.0->lightgbm) (1.0.1)\n",
            "Requirement already satisfied, skipping upgrade: threadpoolctl>=2.0.0 in /usr/local/lib/python3.7/dist-packages (from scikit-learn!=0.22.0->lightgbm) (2.1.0)\n",
            "Installing collected packages: lightgbm\n",
            "  Found existing installation: lightgbm 2.2.3\n",
            "    Uninstalling lightgbm-2.2.3:\n",
            "      Successfully uninstalled lightgbm-2.2.3\n",
            "Successfully installed lightgbm-3.1.1\n"
          ],
          "name": "stdout"
        },
        {
          "output_type": "display_data",
          "data": {
            "application/vnd.colab-display-data+json": {
              "pip_warning": {
                "packages": [
                  "lightgbm"
                ]
              }
            }
          },
          "metadata": {
            "tags": []
          }
        }
      ]
    },
    {
      "cell_type": "code",
      "metadata": {
        "id": "R8VFv-TZfRc_"
      },
      "source": [
        "import pandas as pd\r\n",
        "import numpy as np\r\n",
        "# from datastreamer import DataStreamerP2V\r\n",
        "import matplotlib.pyplot as plt\r\n",
        "import seaborn as sns\r\n",
        "import random"
      ],
      "execution_count": 3,
      "outputs": []
    },
    {
      "cell_type": "markdown",
      "metadata": {
        "id": "KfzE-1tHfg2C"
      },
      "source": [
        "# Load Data"
      ]
    },
    {
      "cell_type": "code",
      "metadata": {
        "colab": {
          "base_uri": "https://localhost:8080/"
        },
        "id": "wPPZKEDQffrG",
        "outputId": "67c2f217-066c-4ebc-90b1-a5fe9a479c8a"
      },
      "source": [
        "from google.colab import drive\r\n",
        "drive.mount('/content/drive')\r\n",
        "baskets = pd.read_parquet(\"/content/drive/MyDrive/My Drive/baskets.parquet\")\r\n",
        "coupons = pd.read_parquet(\"/content/drive/MyDrive/My Drive/coupons.parquet\")\r\n",
        "# coupon_index = pd.read_parquet(\"/content/drive/MyDrive/My Drive/coupon_index.parquet\")"
      ],
      "execution_count": 4,
      "outputs": [
        {
          "output_type": "stream",
          "text": [
            "Drive already mounted at /content/drive; to attempt to forcibly remount, call drive.mount(\"/content/drive\", force_remount=True).\n"
          ],
          "name": "stdout"
        }
      ]
    },
    {
      "cell_type": "code",
      "metadata": {
        "colab": {
          "base_uri": "https://localhost:8080/",
          "height": 419
        },
        "id": "QcxJiScqwSrc",
        "outputId": "e47adf9c-2822-4696-c980-868dee6c1143"
      },
      "source": [
        "baskets['target'] = 1\r\n",
        "baskets"
      ],
      "execution_count": 5,
      "outputs": [
        {
          "output_type": "execute_result",
          "data": {
            "text/html": [
              "<div>\n",
              "<style scoped>\n",
              "    .dataframe tbody tr th:only-of-type {\n",
              "        vertical-align: middle;\n",
              "    }\n",
              "\n",
              "    .dataframe tbody tr th {\n",
              "        vertical-align: top;\n",
              "    }\n",
              "\n",
              "    .dataframe thead th {\n",
              "        text-align: right;\n",
              "    }\n",
              "</style>\n",
              "<table border=\"1\" class=\"dataframe\">\n",
              "  <thead>\n",
              "    <tr style=\"text-align: right;\">\n",
              "      <th></th>\n",
              "      <th>week</th>\n",
              "      <th>shopper</th>\n",
              "      <th>product</th>\n",
              "      <th>price</th>\n",
              "      <th>target</th>\n",
              "    </tr>\n",
              "  </thead>\n",
              "  <tbody>\n",
              "    <tr>\n",
              "      <th>0</th>\n",
              "      <td>0</td>\n",
              "      <td>0</td>\n",
              "      <td>71</td>\n",
              "      <td>629</td>\n",
              "      <td>1</td>\n",
              "    </tr>\n",
              "    <tr>\n",
              "      <th>1</th>\n",
              "      <td>0</td>\n",
              "      <td>0</td>\n",
              "      <td>91</td>\n",
              "      <td>605</td>\n",
              "      <td>1</td>\n",
              "    </tr>\n",
              "    <tr>\n",
              "      <th>2</th>\n",
              "      <td>0</td>\n",
              "      <td>0</td>\n",
              "      <td>116</td>\n",
              "      <td>715</td>\n",
              "      <td>1</td>\n",
              "    </tr>\n",
              "    <tr>\n",
              "      <th>3</th>\n",
              "      <td>0</td>\n",
              "      <td>0</td>\n",
              "      <td>123</td>\n",
              "      <td>483</td>\n",
              "      <td>1</td>\n",
              "    </tr>\n",
              "    <tr>\n",
              "      <th>4</th>\n",
              "      <td>0</td>\n",
              "      <td>0</td>\n",
              "      <td>157</td>\n",
              "      <td>592</td>\n",
              "      <td>1</td>\n",
              "    </tr>\n",
              "    <tr>\n",
              "      <th>...</th>\n",
              "      <td>...</td>\n",
              "      <td>...</td>\n",
              "      <td>...</td>\n",
              "      <td>...</td>\n",
              "      <td>...</td>\n",
              "    </tr>\n",
              "    <tr>\n",
              "      <th>68841593</th>\n",
              "      <td>89</td>\n",
              "      <td>99999</td>\n",
              "      <td>143</td>\n",
              "      <td>470</td>\n",
              "      <td>1</td>\n",
              "    </tr>\n",
              "    <tr>\n",
              "      <th>68841594</th>\n",
              "      <td>89</td>\n",
              "      <td>99999</td>\n",
              "      <td>158</td>\n",
              "      <td>566</td>\n",
              "      <td>1</td>\n",
              "    </tr>\n",
              "    <tr>\n",
              "      <th>68841595</th>\n",
              "      <td>89</td>\n",
              "      <td>99999</td>\n",
              "      <td>186</td>\n",
              "      <td>499</td>\n",
              "      <td>1</td>\n",
              "    </tr>\n",
              "    <tr>\n",
              "      <th>68841596</th>\n",
              "      <td>89</td>\n",
              "      <td>99999</td>\n",
              "      <td>204</td>\n",
              "      <td>496</td>\n",
              "      <td>1</td>\n",
              "    </tr>\n",
              "    <tr>\n",
              "      <th>68841597</th>\n",
              "      <td>89</td>\n",
              "      <td>99999</td>\n",
              "      <td>225</td>\n",
              "      <td>602</td>\n",
              "      <td>1</td>\n",
              "    </tr>\n",
              "  </tbody>\n",
              "</table>\n",
              "<p>68841598 rows × 5 columns</p>\n",
              "</div>"
            ],
            "text/plain": [
              "          week  shopper  product  price  target\n",
              "0            0        0       71    629       1\n",
              "1            0        0       91    605       1\n",
              "2            0        0      116    715       1\n",
              "3            0        0      123    483       1\n",
              "4            0        0      157    592       1\n",
              "...        ...      ...      ...    ...     ...\n",
              "68841593    89    99999      143    470       1\n",
              "68841594    89    99999      158    566       1\n",
              "68841595    89    99999      186    499       1\n",
              "68841596    89    99999      204    496       1\n",
              "68841597    89    99999      225    602       1\n",
              "\n",
              "[68841598 rows x 5 columns]"
            ]
          },
          "metadata": {
            "tags": []
          },
          "execution_count": 5
        }
      ]
    },
    {
      "cell_type": "code",
      "metadata": {
        "colab": {
          "base_uri": "https://localhost:8080/",
          "height": 419
        },
        "id": "LpS11Hg8G21-",
        "outputId": "020b280c-4659-465e-e8d4-2ec981c07e15"
      },
      "source": [
        "coupons"
      ],
      "execution_count": 6,
      "outputs": [
        {
          "output_type": "execute_result",
          "data": {
            "text/html": [
              "<div>\n",
              "<style scoped>\n",
              "    .dataframe tbody tr th:only-of-type {\n",
              "        vertical-align: middle;\n",
              "    }\n",
              "\n",
              "    .dataframe tbody tr th {\n",
              "        vertical-align: top;\n",
              "    }\n",
              "\n",
              "    .dataframe thead th {\n",
              "        text-align: right;\n",
              "    }\n",
              "</style>\n",
              "<table border=\"1\" class=\"dataframe\">\n",
              "  <thead>\n",
              "    <tr style=\"text-align: right;\">\n",
              "      <th></th>\n",
              "      <th>week</th>\n",
              "      <th>shopper</th>\n",
              "      <th>product</th>\n",
              "      <th>discount</th>\n",
              "    </tr>\n",
              "  </thead>\n",
              "  <tbody>\n",
              "    <tr>\n",
              "      <th>0</th>\n",
              "      <td>0</td>\n",
              "      <td>0</td>\n",
              "      <td>35</td>\n",
              "      <td>35</td>\n",
              "    </tr>\n",
              "    <tr>\n",
              "      <th>1</th>\n",
              "      <td>0</td>\n",
              "      <td>0</td>\n",
              "      <td>193</td>\n",
              "      <td>40</td>\n",
              "    </tr>\n",
              "    <tr>\n",
              "      <th>2</th>\n",
              "      <td>0</td>\n",
              "      <td>0</td>\n",
              "      <td>27</td>\n",
              "      <td>30</td>\n",
              "    </tr>\n",
              "    <tr>\n",
              "      <th>3</th>\n",
              "      <td>0</td>\n",
              "      <td>0</td>\n",
              "      <td>177</td>\n",
              "      <td>35</td>\n",
              "    </tr>\n",
              "    <tr>\n",
              "      <th>4</th>\n",
              "      <td>0</td>\n",
              "      <td>0</td>\n",
              "      <td>5</td>\n",
              "      <td>30</td>\n",
              "    </tr>\n",
              "    <tr>\n",
              "      <th>...</th>\n",
              "      <td>...</td>\n",
              "      <td>...</td>\n",
              "      <td>...</td>\n",
              "      <td>...</td>\n",
              "    </tr>\n",
              "    <tr>\n",
              "      <th>44999995</th>\n",
              "      <td>89</td>\n",
              "      <td>99999</td>\n",
              "      <td>62</td>\n",
              "      <td>40</td>\n",
              "    </tr>\n",
              "    <tr>\n",
              "      <th>44999996</th>\n",
              "      <td>89</td>\n",
              "      <td>99999</td>\n",
              "      <td>110</td>\n",
              "      <td>10</td>\n",
              "    </tr>\n",
              "    <tr>\n",
              "      <th>44999997</th>\n",
              "      <td>89</td>\n",
              "      <td>99999</td>\n",
              "      <td>37</td>\n",
              "      <td>40</td>\n",
              "    </tr>\n",
              "    <tr>\n",
              "      <th>44999998</th>\n",
              "      <td>89</td>\n",
              "      <td>99999</td>\n",
              "      <td>155</td>\n",
              "      <td>25</td>\n",
              "    </tr>\n",
              "    <tr>\n",
              "      <th>44999999</th>\n",
              "      <td>89</td>\n",
              "      <td>99999</td>\n",
              "      <td>132</td>\n",
              "      <td>10</td>\n",
              "    </tr>\n",
              "  </tbody>\n",
              "</table>\n",
              "<p>45000000 rows × 4 columns</p>\n",
              "</div>"
            ],
            "text/plain": [
              "          week  shopper  product  discount\n",
              "0            0        0       35        35\n",
              "1            0        0      193        40\n",
              "2            0        0       27        30\n",
              "3            0        0      177        35\n",
              "4            0        0        5        30\n",
              "...        ...      ...      ...       ...\n",
              "44999995    89    99999       62        40\n",
              "44999996    89    99999      110        10\n",
              "44999997    89    99999       37        40\n",
              "44999998    89    99999      155        25\n",
              "44999999    89    99999      132        10\n",
              "\n",
              "[45000000 rows x 4 columns]"
            ]
          },
          "metadata": {
            "tags": []
          },
          "execution_count": 6
        }
      ]
    },
    {
      "cell_type": "code",
      "metadata": {
        "id": "HuoYcOHJ1g8Z"
      },
      "source": [
        "#baskets[['week', 'shopper', 'product']] = baskets[['week', 'shopper', 'product']].astype('category')\r\n",
        "# baskets[['shopper', 'product']] = baskets[['shopper', 'product']].astype('category')\r\n",
        "baskets['product'] = baskets['product'].astype('category')\r\n",
        "coupons['product'] = coupons['product'].astype('category')"
      ],
      "execution_count": 7,
      "outputs": []
    },
    {
      "cell_type": "markdown",
      "metadata": {
        "id": "vTkyVZ3c8uvD"
      },
      "source": [
        "# Split Data"
      ]
    },
    {
      "cell_type": "code",
      "metadata": {
        "id": "j1yzB9Qj906J"
      },
      "source": [
        "from sklearn.model_selection import train_test_split"
      ],
      "execution_count": 8,
      "outputs": []
    },
    {
      "cell_type": "code",
      "metadata": {
        "id": "hFPZC48z9697"
      },
      "source": [
        "weeks = 89 \r\n",
        "shoppers = 100\r\n",
        "\r\n",
        "baskets_train = baskets.loc[(baskets.shopper.isin(list(range(shoppers)))) & (baskets.week<weeks), :]\r\n",
        "baskets_test = baskets.loc[(baskets.shopper.isin(list(range(shoppers)))) & (baskets.week>=weeks), :]\r\n",
        "\r\n",
        "coupons_train = coupons.loc[(coupons.shopper.isin(list(range(shoppers)))) & (coupons.week<weeks), :]\r\n",
        "coupons_test = coupons.loc[(coupons.shopper.isin(list(range(shoppers)))) & (coupons.week>=weeks), :]"
      ],
      "execution_count": 9,
      "outputs": []
    },
    {
      "cell_type": "code",
      "metadata": {
        "id": "wiYAnYUbAsxk",
        "colab": {
          "base_uri": "https://localhost:8080/"
        },
        "outputId": "adeaeb2f-d106-4c38-c83c-e0517be6d0fe"
      },
      "source": [
        "baskets_train['shopper'] = baskets_train['shopper'].astype('category')\r\n",
        "coupons_train['shopper'] = coupons_train['shopper'].astype('category')\r\n",
        "\r\n",
        "# baskets_train['target'] = 1"
      ],
      "execution_count": 10,
      "outputs": [
        {
          "output_type": "stream",
          "text": [
            "/usr/local/lib/python3.7/dist-packages/ipykernel_launcher.py:1: SettingWithCopyWarning: \n",
            "A value is trying to be set on a copy of a slice from a DataFrame.\n",
            "Try using .loc[row_indexer,col_indexer] = value instead\n",
            "\n",
            "See the caveats in the documentation: https://pandas.pydata.org/pandas-docs/stable/user_guide/indexing.html#returning-a-view-versus-a-copy\n",
            "  \"\"\"Entry point for launching an IPython kernel.\n",
            "/usr/local/lib/python3.7/dist-packages/ipykernel_launcher.py:2: SettingWithCopyWarning: \n",
            "A value is trying to be set on a copy of a slice from a DataFrame.\n",
            "Try using .loc[row_indexer,col_indexer] = value instead\n",
            "\n",
            "See the caveats in the documentation: https://pandas.pydata.org/pandas-docs/stable/user_guide/indexing.html#returning-a-view-versus-a-copy\n",
            "  \n"
          ],
          "name": "stderr"
        }
      ]
    },
    {
      "cell_type": "code",
      "metadata": {
        "id": "XuG591vHYmM_",
        "colab": {
          "base_uri": "https://localhost:8080/",
          "height": 419
        },
        "outputId": "9c3ac3c2-35da-4745-e548-c22006d6d35a"
      },
      "source": [
        "baskets_train"
      ],
      "execution_count": 11,
      "outputs": [
        {
          "output_type": "execute_result",
          "data": {
            "text/html": [
              "<div>\n",
              "<style scoped>\n",
              "    .dataframe tbody tr th:only-of-type {\n",
              "        vertical-align: middle;\n",
              "    }\n",
              "\n",
              "    .dataframe tbody tr th {\n",
              "        vertical-align: top;\n",
              "    }\n",
              "\n",
              "    .dataframe thead th {\n",
              "        text-align: right;\n",
              "    }\n",
              "</style>\n",
              "<table border=\"1\" class=\"dataframe\">\n",
              "  <thead>\n",
              "    <tr style=\"text-align: right;\">\n",
              "      <th></th>\n",
              "      <th>week</th>\n",
              "      <th>shopper</th>\n",
              "      <th>product</th>\n",
              "      <th>price</th>\n",
              "      <th>target</th>\n",
              "    </tr>\n",
              "  </thead>\n",
              "  <tbody>\n",
              "    <tr>\n",
              "      <th>0</th>\n",
              "      <td>0</td>\n",
              "      <td>0</td>\n",
              "      <td>71</td>\n",
              "      <td>629</td>\n",
              "      <td>1</td>\n",
              "    </tr>\n",
              "    <tr>\n",
              "      <th>1</th>\n",
              "      <td>0</td>\n",
              "      <td>0</td>\n",
              "      <td>91</td>\n",
              "      <td>605</td>\n",
              "      <td>1</td>\n",
              "    </tr>\n",
              "    <tr>\n",
              "      <th>2</th>\n",
              "      <td>0</td>\n",
              "      <td>0</td>\n",
              "      <td>116</td>\n",
              "      <td>715</td>\n",
              "      <td>1</td>\n",
              "    </tr>\n",
              "    <tr>\n",
              "      <th>3</th>\n",
              "      <td>0</td>\n",
              "      <td>0</td>\n",
              "      <td>123</td>\n",
              "      <td>483</td>\n",
              "      <td>1</td>\n",
              "    </tr>\n",
              "    <tr>\n",
              "      <th>4</th>\n",
              "      <td>0</td>\n",
              "      <td>0</td>\n",
              "      <td>157</td>\n",
              "      <td>592</td>\n",
              "      <td>1</td>\n",
              "    </tr>\n",
              "    <tr>\n",
              "      <th>...</th>\n",
              "      <td>...</td>\n",
              "      <td>...</td>\n",
              "      <td>...</td>\n",
              "      <td>...</td>\n",
              "      <td>...</td>\n",
              "    </tr>\n",
              "    <tr>\n",
              "      <th>67312654</th>\n",
              "      <td>88</td>\n",
              "      <td>99</td>\n",
              "      <td>142</td>\n",
              "      <td>551</td>\n",
              "      <td>1</td>\n",
              "    </tr>\n",
              "    <tr>\n",
              "      <th>67312655</th>\n",
              "      <td>88</td>\n",
              "      <td>99</td>\n",
              "      <td>176</td>\n",
              "      <td>681</td>\n",
              "      <td>1</td>\n",
              "    </tr>\n",
              "    <tr>\n",
              "      <th>67312656</th>\n",
              "      <td>88</td>\n",
              "      <td>99</td>\n",
              "      <td>187</td>\n",
              "      <td>663</td>\n",
              "      <td>1</td>\n",
              "    </tr>\n",
              "    <tr>\n",
              "      <th>67312657</th>\n",
              "      <td>88</td>\n",
              "      <td>99</td>\n",
              "      <td>199</td>\n",
              "      <td>604</td>\n",
              "      <td>1</td>\n",
              "    </tr>\n",
              "    <tr>\n",
              "      <th>67312658</th>\n",
              "      <td>88</td>\n",
              "      <td>99</td>\n",
              "      <td>221</td>\n",
              "      <td>680</td>\n",
              "      <td>1</td>\n",
              "    </tr>\n",
              "  </tbody>\n",
              "</table>\n",
              "<p>67941 rows × 5 columns</p>\n",
              "</div>"
            ],
            "text/plain": [
              "          week shopper product  price  target\n",
              "0            0       0      71    629       1\n",
              "1            0       0      91    605       1\n",
              "2            0       0     116    715       1\n",
              "3            0       0     123    483       1\n",
              "4            0       0     157    592       1\n",
              "...        ...     ...     ...    ...     ...\n",
              "67312654    88      99     142    551       1\n",
              "67312655    88      99     176    681       1\n",
              "67312656    88      99     187    663       1\n",
              "67312657    88      99     199    604       1\n",
              "67312658    88      99     221    680       1\n",
              "\n",
              "[67941 rows x 5 columns]"
            ]
          },
          "metadata": {
            "tags": []
          },
          "execution_count": 11
        }
      ]
    },
    {
      "cell_type": "code",
      "metadata": {
        "id": "2XeikDVjAHc2",
        "colab": {
          "base_uri": "https://localhost:8080/",
          "height": 419
        },
        "outputId": "2151f786-a13d-4940-84b1-365f13725f1d"
      },
      "source": [
        "coupons_train"
      ],
      "execution_count": 12,
      "outputs": [
        {
          "output_type": "execute_result",
          "data": {
            "text/html": [
              "<div>\n",
              "<style scoped>\n",
              "    .dataframe tbody tr th:only-of-type {\n",
              "        vertical-align: middle;\n",
              "    }\n",
              "\n",
              "    .dataframe tbody tr th {\n",
              "        vertical-align: top;\n",
              "    }\n",
              "\n",
              "    .dataframe thead th {\n",
              "        text-align: right;\n",
              "    }\n",
              "</style>\n",
              "<table border=\"1\" class=\"dataframe\">\n",
              "  <thead>\n",
              "    <tr style=\"text-align: right;\">\n",
              "      <th></th>\n",
              "      <th>week</th>\n",
              "      <th>shopper</th>\n",
              "      <th>product</th>\n",
              "      <th>discount</th>\n",
              "    </tr>\n",
              "  </thead>\n",
              "  <tbody>\n",
              "    <tr>\n",
              "      <th>0</th>\n",
              "      <td>0</td>\n",
              "      <td>0</td>\n",
              "      <td>35</td>\n",
              "      <td>35</td>\n",
              "    </tr>\n",
              "    <tr>\n",
              "      <th>1</th>\n",
              "      <td>0</td>\n",
              "      <td>0</td>\n",
              "      <td>193</td>\n",
              "      <td>40</td>\n",
              "    </tr>\n",
              "    <tr>\n",
              "      <th>2</th>\n",
              "      <td>0</td>\n",
              "      <td>0</td>\n",
              "      <td>27</td>\n",
              "      <td>30</td>\n",
              "    </tr>\n",
              "    <tr>\n",
              "      <th>3</th>\n",
              "      <td>0</td>\n",
              "      <td>0</td>\n",
              "      <td>177</td>\n",
              "      <td>35</td>\n",
              "    </tr>\n",
              "    <tr>\n",
              "      <th>4</th>\n",
              "      <td>0</td>\n",
              "      <td>0</td>\n",
              "      <td>5</td>\n",
              "      <td>30</td>\n",
              "    </tr>\n",
              "    <tr>\n",
              "      <th>...</th>\n",
              "      <td>...</td>\n",
              "      <td>...</td>\n",
              "      <td>...</td>\n",
              "      <td>...</td>\n",
              "    </tr>\n",
              "    <tr>\n",
              "      <th>44000495</th>\n",
              "      <td>88</td>\n",
              "      <td>99</td>\n",
              "      <td>160</td>\n",
              "      <td>40</td>\n",
              "    </tr>\n",
              "    <tr>\n",
              "      <th>44000496</th>\n",
              "      <td>88</td>\n",
              "      <td>99</td>\n",
              "      <td>31</td>\n",
              "      <td>40</td>\n",
              "    </tr>\n",
              "    <tr>\n",
              "      <th>44000497</th>\n",
              "      <td>88</td>\n",
              "      <td>99</td>\n",
              "      <td>141</td>\n",
              "      <td>15</td>\n",
              "    </tr>\n",
              "    <tr>\n",
              "      <th>44000498</th>\n",
              "      <td>88</td>\n",
              "      <td>99</td>\n",
              "      <td>14</td>\n",
              "      <td>30</td>\n",
              "    </tr>\n",
              "    <tr>\n",
              "      <th>44000499</th>\n",
              "      <td>88</td>\n",
              "      <td>99</td>\n",
              "      <td>60</td>\n",
              "      <td>20</td>\n",
              "    </tr>\n",
              "  </tbody>\n",
              "</table>\n",
              "<p>44500 rows × 4 columns</p>\n",
              "</div>"
            ],
            "text/plain": [
              "          week shopper product  discount\n",
              "0            0       0      35        35\n",
              "1            0       0     193        40\n",
              "2            0       0      27        30\n",
              "3            0       0     177        35\n",
              "4            0       0       5        30\n",
              "...        ...     ...     ...       ...\n",
              "44000495    88      99     160        40\n",
              "44000496    88      99      31        40\n",
              "44000497    88      99     141        15\n",
              "44000498    88      99      14        30\n",
              "44000499    88      99      60        20\n",
              "\n",
              "[44500 rows x 4 columns]"
            ]
          },
          "metadata": {
            "tags": []
          },
          "execution_count": 12
        }
      ]
    },
    {
      "cell_type": "markdown",
      "metadata": {
        "id": "_rfk2ZrJBSLR"
      },
      "source": [
        "# Data Preprocessing"
      ]
    },
    {
      "cell_type": "code",
      "metadata": {
        "id": "e7aRzLcYkP9Z"
      },
      "source": [
        "# Counting weeks of prior order for each product/customer\r\n",
        "# baskets_train['weeks_since_prior_order'] = baskets_train.groupby(['shopper', 'product']).week.apply(lambda x: x.diff()) # change to count weeks since last order, even when it wasn't bought"
      ],
      "execution_count": 13,
      "outputs": []
    },
    {
      "cell_type": "code",
      "metadata": {
        "id": "zsTQkxgK7yR8"
      },
      "source": [
        "full_df_train = (baskets_train\r\n",
        "           .merge(\r\n",
        "               coupons_train, \r\n",
        "               on=['week', 'shopper', 'product'], \r\n",
        "               how='outer',\r\n",
        "               indicator=True\r\n",
        "           )\r\n",
        "           .sort_values(by=['week', 'shopper', 'product'])\r\n",
        "           .reset_index(drop=True)\r\n",
        "          #  .replace(['left_only', 'right_only', 'both'], ['RRP', 'coupon', 'discounted'])\r\n",
        "          .replace(['left_only', 'right_only', 'both'], ['No', 'Yes', 'Yes'])\r\n",
        "          .rename(columns={'_merge': 'coupon'})\r\n",
        ")\r\n",
        "\r\n",
        "full_df_train.loc[full_df_train['discount'].isna(),'discount' ] = 0"
      ],
      "execution_count": 14,
      "outputs": []
    },
    {
      "cell_type": "code",
      "metadata": {
        "id": "S6QkMEaGAPMs",
        "colab": {
          "base_uri": "https://localhost:8080/",
          "height": 419
        },
        "outputId": "1cc1b842-7c3b-4d19-d58c-781b8402a9b6"
      },
      "source": [
        "full_df_train"
      ],
      "execution_count": 15,
      "outputs": [
        {
          "output_type": "execute_result",
          "data": {
            "text/html": [
              "<div>\n",
              "<style scoped>\n",
              "    .dataframe tbody tr th:only-of-type {\n",
              "        vertical-align: middle;\n",
              "    }\n",
              "\n",
              "    .dataframe tbody tr th {\n",
              "        vertical-align: top;\n",
              "    }\n",
              "\n",
              "    .dataframe thead th {\n",
              "        text-align: right;\n",
              "    }\n",
              "</style>\n",
              "<table border=\"1\" class=\"dataframe\">\n",
              "  <thead>\n",
              "    <tr style=\"text-align: right;\">\n",
              "      <th></th>\n",
              "      <th>week</th>\n",
              "      <th>shopper</th>\n",
              "      <th>product</th>\n",
              "      <th>price</th>\n",
              "      <th>target</th>\n",
              "      <th>discount</th>\n",
              "      <th>coupon</th>\n",
              "    </tr>\n",
              "  </thead>\n",
              "  <tbody>\n",
              "    <tr>\n",
              "      <th>0</th>\n",
              "      <td>0</td>\n",
              "      <td>0</td>\n",
              "      <td>5</td>\n",
              "      <td>NaN</td>\n",
              "      <td>NaN</td>\n",
              "      <td>30.0</td>\n",
              "      <td>Yes</td>\n",
              "    </tr>\n",
              "    <tr>\n",
              "      <th>1</th>\n",
              "      <td>0</td>\n",
              "      <td>0</td>\n",
              "      <td>27</td>\n",
              "      <td>NaN</td>\n",
              "      <td>NaN</td>\n",
              "      <td>30.0</td>\n",
              "      <td>Yes</td>\n",
              "    </tr>\n",
              "    <tr>\n",
              "      <th>2</th>\n",
              "      <td>0</td>\n",
              "      <td>0</td>\n",
              "      <td>35</td>\n",
              "      <td>NaN</td>\n",
              "      <td>NaN</td>\n",
              "      <td>35.0</td>\n",
              "      <td>Yes</td>\n",
              "    </tr>\n",
              "    <tr>\n",
              "      <th>3</th>\n",
              "      <td>0</td>\n",
              "      <td>0</td>\n",
              "      <td>71</td>\n",
              "      <td>629.0</td>\n",
              "      <td>1.0</td>\n",
              "      <td>0.0</td>\n",
              "      <td>No</td>\n",
              "    </tr>\n",
              "    <tr>\n",
              "      <th>4</th>\n",
              "      <td>0</td>\n",
              "      <td>0</td>\n",
              "      <td>91</td>\n",
              "      <td>605.0</td>\n",
              "      <td>1.0</td>\n",
              "      <td>0.0</td>\n",
              "      <td>No</td>\n",
              "    </tr>\n",
              "    <tr>\n",
              "      <th>...</th>\n",
              "      <td>...</td>\n",
              "      <td>...</td>\n",
              "      <td>...</td>\n",
              "      <td>...</td>\n",
              "      <td>...</td>\n",
              "      <td>...</td>\n",
              "      <td>...</td>\n",
              "    </tr>\n",
              "    <tr>\n",
              "      <th>109678</th>\n",
              "      <td>88</td>\n",
              "      <td>99</td>\n",
              "      <td>160</td>\n",
              "      <td>NaN</td>\n",
              "      <td>NaN</td>\n",
              "      <td>40.0</td>\n",
              "      <td>Yes</td>\n",
              "    </tr>\n",
              "    <tr>\n",
              "      <th>109679</th>\n",
              "      <td>88</td>\n",
              "      <td>99</td>\n",
              "      <td>176</td>\n",
              "      <td>681.0</td>\n",
              "      <td>1.0</td>\n",
              "      <td>0.0</td>\n",
              "      <td>No</td>\n",
              "    </tr>\n",
              "    <tr>\n",
              "      <th>109680</th>\n",
              "      <td>88</td>\n",
              "      <td>99</td>\n",
              "      <td>187</td>\n",
              "      <td>663.0</td>\n",
              "      <td>1.0</td>\n",
              "      <td>0.0</td>\n",
              "      <td>No</td>\n",
              "    </tr>\n",
              "    <tr>\n",
              "      <th>109681</th>\n",
              "      <td>88</td>\n",
              "      <td>99</td>\n",
              "      <td>199</td>\n",
              "      <td>604.0</td>\n",
              "      <td>1.0</td>\n",
              "      <td>0.0</td>\n",
              "      <td>No</td>\n",
              "    </tr>\n",
              "    <tr>\n",
              "      <th>109682</th>\n",
              "      <td>88</td>\n",
              "      <td>99</td>\n",
              "      <td>221</td>\n",
              "      <td>680.0</td>\n",
              "      <td>1.0</td>\n",
              "      <td>0.0</td>\n",
              "      <td>No</td>\n",
              "    </tr>\n",
              "  </tbody>\n",
              "</table>\n",
              "<p>109683 rows × 7 columns</p>\n",
              "</div>"
            ],
            "text/plain": [
              "        week shopper product  price  target  discount coupon\n",
              "0          0       0       5    NaN     NaN      30.0    Yes\n",
              "1          0       0      27    NaN     NaN      30.0    Yes\n",
              "2          0       0      35    NaN     NaN      35.0    Yes\n",
              "3          0       0      71  629.0     1.0       0.0     No\n",
              "4          0       0      91  605.0     1.0       0.0     No\n",
              "...      ...     ...     ...    ...     ...       ...    ...\n",
              "109678    88      99     160    NaN     NaN      40.0    Yes\n",
              "109679    88      99     176  681.0     1.0       0.0     No\n",
              "109680    88      99     187  663.0     1.0       0.0     No\n",
              "109681    88      99     199  604.0     1.0       0.0     No\n",
              "109682    88      99     221  680.0     1.0       0.0     No\n",
              "\n",
              "[109683 rows x 7 columns]"
            ]
          },
          "metadata": {
            "tags": []
          },
          "execution_count": 15
        }
      ]
    },
    {
      "cell_type": "markdown",
      "metadata": {
        "id": "SNhjNET68TMB"
      },
      "source": [
        "# Feature Engineering"
      ]
    },
    {
      "cell_type": "code",
      "metadata": {
        "id": "FSjPMhQWRJM0"
      },
      "source": [
        "original_price = baskets.groupby('product', as_index=False).price.max().rename(columns={'price': 'original_price'})\r\n",
        "total_count_of_product = baskets_train.groupby(['shopper', 'product']).product.count().to_frame('total_count_of_product').reset_index()\r\n",
        "reordered = (baskets_train.groupby(['shopper']).product.value_counts()>1).astype(int)\r\n",
        "average_price_per_shopper = baskets_train.groupby(['shopper']).price.mean().to_frame('average_price_per_shopper').reset_index()\r\n",
        "average_basket_size = baskets_train.groupby(['shopper', 'week']).product.count().groupby('shopper').mean().to_frame('average_basket_size').reset_index()\r\n",
        "unique_products_per_shopper = baskets_train.groupby(['shopper']).product.nunique()\r\n",
        "ratio_of_reordered_per_shopper = (reordered.groupby('shopper').sum() / unique_products_per_shopper).to_frame('ratio_of_reordered').reset_index()\r\n",
        "\r\n",
        "ratio_of_reordered_per_product = total_count_of_product.copy()\r\n",
        "ratio_of_reordered_per_product['total_count_of_product'] = total_count_of_product['total_count_of_product'] / (baskets_train.week.max()+1)\r\n",
        "ratio_of_reordered_per_product.rename(columns={'total_count_of_product': 'ratio_of_reordered_per_product'}, inplace=True)\r\n",
        "\r\n",
        "reordered = reordered.to_frame('reordered').reset_index()\r\n",
        "unique_products_per_shopper = unique_products_per_shopper.to_frame('unique_products_per_shopper').reset_index()\r\n",
        "\r\n",
        "# frequency_per_product = \r\n",
        "\r\n",
        "# feature which give less probability to products wich haven't been purchased for a long time -> maybe relates to category as shopper has changed to product in similar category\r\n",
        "# add average week interval for each product and shopper -> frequency | maybe not necessary, basically just total_count/weeks, probably already covered by model\r\n",
        "# WoE"
      ],
      "execution_count": 16,
      "outputs": []
    },
    {
      "cell_type": "markdown",
      "metadata": {
        "id": "tpTEDEJKHe3m"
      },
      "source": [
        "# Set Up Training Table"
      ]
    },
    {
      "cell_type": "code",
      "metadata": {
        "id": "4DYPPoPWh_vm"
      },
      "source": [
        "df1 = pd.DataFrame({'key':np.ones(weeks), 'week':list(range(weeks))})\r\n",
        "df2 = pd.DataFrame({'key':np.ones(shoppers), 'shopper':list(range(shoppers))})\r\n",
        "df3 = pd.DataFrame({'key':np.ones(250), 'product':list(range(250))})\r\n",
        "df4 = full_df_train.copy()\r\n",
        "\r\n",
        "X_train = pd.merge(df1, df2, on='key').merge(df3, on='key').merge(df4, on=['week', 'shopper', 'product'], how='left')[full_df_train.columns]"
      ],
      "execution_count": 17,
      "outputs": []
    },
    {
      "cell_type": "markdown",
      "metadata": {
        "id": "ptZ7ODD00-tS"
      },
      "source": [
        "Combine everything"
      ]
    },
    {
      "cell_type": "code",
      "metadata": {
        "id": "nFrmiWSu094h"
      },
      "source": [
        "X_train = (X_train\r\n",
        "           .merge(original_price, on=['product'], how='left')\r\n",
        "           .merge(total_count_of_product, on=['shopper', 'product'], how='left')\r\n",
        "           .merge(reordered, on=['shopper', 'product'], how='left')\r\n",
        "           .merge(ratio_of_reordered_per_product, on=['shopper', 'product'], how='left')\r\n",
        "           .merge(ratio_of_reordered_per_shopper, on=['shopper'], how='left')\r\n",
        "           .merge(average_price_per_shopper, on=['shopper'], how='left')\r\n",
        "           .merge(average_basket_size, on=['shopper'], how='left')\r\n",
        "           .merge(unique_products_per_shopper, on=['shopper'], how='left')\r\n",
        "           )"
      ],
      "execution_count": 18,
      "outputs": []
    },
    {
      "cell_type": "code",
      "metadata": {
        "id": "GDiIwUFu1Q6a",
        "colab": {
          "base_uri": "https://localhost:8080/",
          "height": 439
        },
        "outputId": "c8216004-4bfb-46df-f373-f19d74e078a1"
      },
      "source": [
        "X_train"
      ],
      "execution_count": 19,
      "outputs": [
        {
          "output_type": "execute_result",
          "data": {
            "text/html": [
              "<div>\n",
              "<style scoped>\n",
              "    .dataframe tbody tr th:only-of-type {\n",
              "        vertical-align: middle;\n",
              "    }\n",
              "\n",
              "    .dataframe tbody tr th {\n",
              "        vertical-align: top;\n",
              "    }\n",
              "\n",
              "    .dataframe thead th {\n",
              "        text-align: right;\n",
              "    }\n",
              "</style>\n",
              "<table border=\"1\" class=\"dataframe\">\n",
              "  <thead>\n",
              "    <tr style=\"text-align: right;\">\n",
              "      <th></th>\n",
              "      <th>week</th>\n",
              "      <th>shopper</th>\n",
              "      <th>product</th>\n",
              "      <th>price</th>\n",
              "      <th>target</th>\n",
              "      <th>discount</th>\n",
              "      <th>coupon</th>\n",
              "      <th>original_price</th>\n",
              "      <th>total_count_of_product</th>\n",
              "      <th>reordered</th>\n",
              "      <th>ratio_of_reordered_per_product</th>\n",
              "      <th>ratio_of_reordered</th>\n",
              "      <th>average_price_per_shopper</th>\n",
              "      <th>average_basket_size</th>\n",
              "      <th>unique_products_per_shopper</th>\n",
              "    </tr>\n",
              "  </thead>\n",
              "  <tbody>\n",
              "    <tr>\n",
              "      <th>0</th>\n",
              "      <td>0</td>\n",
              "      <td>0</td>\n",
              "      <td>0</td>\n",
              "      <td>NaN</td>\n",
              "      <td>NaN</td>\n",
              "      <td>NaN</td>\n",
              "      <td>NaN</td>\n",
              "      <td>688</td>\n",
              "      <td>0</td>\n",
              "      <td>NaN</td>\n",
              "      <td>0.000000</td>\n",
              "      <td>0.722222</td>\n",
              "      <td>587.203947</td>\n",
              "      <td>8.539326</td>\n",
              "      <td>54</td>\n",
              "    </tr>\n",
              "    <tr>\n",
              "      <th>1</th>\n",
              "      <td>0</td>\n",
              "      <td>0</td>\n",
              "      <td>1</td>\n",
              "      <td>NaN</td>\n",
              "      <td>NaN</td>\n",
              "      <td>NaN</td>\n",
              "      <td>NaN</td>\n",
              "      <td>560</td>\n",
              "      <td>0</td>\n",
              "      <td>NaN</td>\n",
              "      <td>0.000000</td>\n",
              "      <td>0.722222</td>\n",
              "      <td>587.203947</td>\n",
              "      <td>8.539326</td>\n",
              "      <td>54</td>\n",
              "    </tr>\n",
              "    <tr>\n",
              "      <th>2</th>\n",
              "      <td>0</td>\n",
              "      <td>0</td>\n",
              "      <td>2</td>\n",
              "      <td>NaN</td>\n",
              "      <td>NaN</td>\n",
              "      <td>NaN</td>\n",
              "      <td>NaN</td>\n",
              "      <td>773</td>\n",
              "      <td>0</td>\n",
              "      <td>NaN</td>\n",
              "      <td>0.000000</td>\n",
              "      <td>0.722222</td>\n",
              "      <td>587.203947</td>\n",
              "      <td>8.539326</td>\n",
              "      <td>54</td>\n",
              "    </tr>\n",
              "    <tr>\n",
              "      <th>3</th>\n",
              "      <td>0</td>\n",
              "      <td>0</td>\n",
              "      <td>3</td>\n",
              "      <td>NaN</td>\n",
              "      <td>NaN</td>\n",
              "      <td>NaN</td>\n",
              "      <td>NaN</td>\n",
              "      <td>722</td>\n",
              "      <td>0</td>\n",
              "      <td>NaN</td>\n",
              "      <td>0.000000</td>\n",
              "      <td>0.722222</td>\n",
              "      <td>587.203947</td>\n",
              "      <td>8.539326</td>\n",
              "      <td>54</td>\n",
              "    </tr>\n",
              "    <tr>\n",
              "      <th>4</th>\n",
              "      <td>0</td>\n",
              "      <td>0</td>\n",
              "      <td>4</td>\n",
              "      <td>NaN</td>\n",
              "      <td>NaN</td>\n",
              "      <td>NaN</td>\n",
              "      <td>NaN</td>\n",
              "      <td>620</td>\n",
              "      <td>8</td>\n",
              "      <td>1.0</td>\n",
              "      <td>0.089888</td>\n",
              "      <td>0.722222</td>\n",
              "      <td>587.203947</td>\n",
              "      <td>8.539326</td>\n",
              "      <td>54</td>\n",
              "    </tr>\n",
              "    <tr>\n",
              "      <th>...</th>\n",
              "      <td>...</td>\n",
              "      <td>...</td>\n",
              "      <td>...</td>\n",
              "      <td>...</td>\n",
              "      <td>...</td>\n",
              "      <td>...</td>\n",
              "      <td>...</td>\n",
              "      <td>...</td>\n",
              "      <td>...</td>\n",
              "      <td>...</td>\n",
              "      <td>...</td>\n",
              "      <td>...</td>\n",
              "      <td>...</td>\n",
              "      <td>...</td>\n",
              "      <td>...</td>\n",
              "    </tr>\n",
              "    <tr>\n",
              "      <th>2224995</th>\n",
              "      <td>88</td>\n",
              "      <td>99</td>\n",
              "      <td>245</td>\n",
              "      <td>NaN</td>\n",
              "      <td>NaN</td>\n",
              "      <td>NaN</td>\n",
              "      <td>NaN</td>\n",
              "      <td>549</td>\n",
              "      <td>0</td>\n",
              "      <td>NaN</td>\n",
              "      <td>0.000000</td>\n",
              "      <td>0.763158</td>\n",
              "      <td>618.717752</td>\n",
              "      <td>8.797753</td>\n",
              "      <td>76</td>\n",
              "    </tr>\n",
              "    <tr>\n",
              "      <th>2224996</th>\n",
              "      <td>88</td>\n",
              "      <td>99</td>\n",
              "      <td>246</td>\n",
              "      <td>NaN</td>\n",
              "      <td>NaN</td>\n",
              "      <td>NaN</td>\n",
              "      <td>NaN</td>\n",
              "      <td>702</td>\n",
              "      <td>41</td>\n",
              "      <td>1.0</td>\n",
              "      <td>0.460674</td>\n",
              "      <td>0.763158</td>\n",
              "      <td>618.717752</td>\n",
              "      <td>8.797753</td>\n",
              "      <td>76</td>\n",
              "    </tr>\n",
              "    <tr>\n",
              "      <th>2224997</th>\n",
              "      <td>88</td>\n",
              "      <td>99</td>\n",
              "      <td>247</td>\n",
              "      <td>NaN</td>\n",
              "      <td>NaN</td>\n",
              "      <td>NaN</td>\n",
              "      <td>NaN</td>\n",
              "      <td>670</td>\n",
              "      <td>0</td>\n",
              "      <td>NaN</td>\n",
              "      <td>0.000000</td>\n",
              "      <td>0.763158</td>\n",
              "      <td>618.717752</td>\n",
              "      <td>8.797753</td>\n",
              "      <td>76</td>\n",
              "    </tr>\n",
              "    <tr>\n",
              "      <th>2224998</th>\n",
              "      <td>88</td>\n",
              "      <td>99</td>\n",
              "      <td>248</td>\n",
              "      <td>NaN</td>\n",
              "      <td>NaN</td>\n",
              "      <td>NaN</td>\n",
              "      <td>NaN</td>\n",
              "      <td>490</td>\n",
              "      <td>0</td>\n",
              "      <td>NaN</td>\n",
              "      <td>0.000000</td>\n",
              "      <td>0.763158</td>\n",
              "      <td>618.717752</td>\n",
              "      <td>8.797753</td>\n",
              "      <td>76</td>\n",
              "    </tr>\n",
              "    <tr>\n",
              "      <th>2224999</th>\n",
              "      <td>88</td>\n",
              "      <td>99</td>\n",
              "      <td>249</td>\n",
              "      <td>NaN</td>\n",
              "      <td>NaN</td>\n",
              "      <td>NaN</td>\n",
              "      <td>NaN</td>\n",
              "      <td>499</td>\n",
              "      <td>0</td>\n",
              "      <td>NaN</td>\n",
              "      <td>0.000000</td>\n",
              "      <td>0.763158</td>\n",
              "      <td>618.717752</td>\n",
              "      <td>8.797753</td>\n",
              "      <td>76</td>\n",
              "    </tr>\n",
              "  </tbody>\n",
              "</table>\n",
              "<p>2225000 rows × 15 columns</p>\n",
              "</div>"
            ],
            "text/plain": [
              "         week shopper  ... average_basket_size  unique_products_per_shopper\n",
              "0           0       0  ...            8.539326                           54\n",
              "1           0       0  ...            8.539326                           54\n",
              "2           0       0  ...            8.539326                           54\n",
              "3           0       0  ...            8.539326                           54\n",
              "4           0       0  ...            8.539326                           54\n",
              "...       ...     ...  ...                 ...                          ...\n",
              "2224995    88      99  ...            8.797753                           76\n",
              "2224996    88      99  ...            8.797753                           76\n",
              "2224997    88      99  ...            8.797753                           76\n",
              "2224998    88      99  ...            8.797753                           76\n",
              "2224999    88      99  ...            8.797753                           76\n",
              "\n",
              "[2225000 rows x 15 columns]"
            ]
          },
          "metadata": {
            "tags": []
          },
          "execution_count": 19
        }
      ]
    },
    {
      "cell_type": "code",
      "metadata": {
        "id": "vqmDWJCi1rIu",
        "colab": {
          "base_uri": "https://localhost:8080/"
        },
        "outputId": "5400969e-0769-4edc-ccc9-a01688284f4e"
      },
      "source": [
        "X_train.isnull().any()"
      ],
      "execution_count": 20,
      "outputs": [
        {
          "output_type": "execute_result",
          "data": {
            "text/plain": [
              "week                              False\n",
              "shopper                           False\n",
              "product                           False\n",
              "price                              True\n",
              "target                             True\n",
              "discount                           True\n",
              "coupon                             True\n",
              "original_price                    False\n",
              "total_count_of_product            False\n",
              "reordered                          True\n",
              "ratio_of_reordered_per_product    False\n",
              "ratio_of_reordered                False\n",
              "average_price_per_shopper         False\n",
              "average_basket_size               False\n",
              "unique_products_per_shopper       False\n",
              "dtype: bool"
            ]
          },
          "metadata": {
            "tags": []
          },
          "execution_count": 20
        }
      ]
    },
    {
      "cell_type": "code",
      "metadata": {
        "id": "qn633XNg1433"
      },
      "source": [
        "X_train['discount'].fillna(0, inplace=True)\r\n",
        "X_train['price'].fillna(X_train.original_price*(1-X_train.discount), inplace=True)\r\n",
        "X_train['reordered'].fillna(0, inplace=True)\r\n",
        "X_train['coupon'].fillna('No', inplace=True)\r\n",
        "# X_train['weeks_since_prior_order'].fillna(0, inplace=True)\r\n",
        "X_train['target'].fillna(0, inplace=True)"
      ],
      "execution_count": 21,
      "outputs": []
    },
    {
      "cell_type": "code",
      "metadata": {
        "id": "revDtQoM9TZM"
      },
      "source": [
        "addkey = X_train.groupby(['shopper','product']).target.apply(lambda x : x.eq(1).shift().fillna(0).cumsum())\r\n",
        "X_train['weeks_since_prior_order'] = X_train.target.eq(0).groupby([X_train['shopper'], X_train['product'], addkey]).cumcount().add(1) # .cumsum()"
      ],
      "execution_count": 22,
      "outputs": []
    },
    {
      "cell_type": "code",
      "metadata": {
        "colab": {
          "base_uri": "https://localhost:8080/",
          "height": 162
        },
        "id": "rza1aULIKYhH",
        "outputId": "09190024-f8ab-4186-b7cc-474bb519f96a"
      },
      "source": [
        "X_train.head(3)"
      ],
      "execution_count": 23,
      "outputs": [
        {
          "output_type": "execute_result",
          "data": {
            "text/html": [
              "<div>\n",
              "<style scoped>\n",
              "    .dataframe tbody tr th:only-of-type {\n",
              "        vertical-align: middle;\n",
              "    }\n",
              "\n",
              "    .dataframe tbody tr th {\n",
              "        vertical-align: top;\n",
              "    }\n",
              "\n",
              "    .dataframe thead th {\n",
              "        text-align: right;\n",
              "    }\n",
              "</style>\n",
              "<table border=\"1\" class=\"dataframe\">\n",
              "  <thead>\n",
              "    <tr style=\"text-align: right;\">\n",
              "      <th></th>\n",
              "      <th>week</th>\n",
              "      <th>shopper</th>\n",
              "      <th>product</th>\n",
              "      <th>price</th>\n",
              "      <th>target</th>\n",
              "      <th>discount</th>\n",
              "      <th>coupon</th>\n",
              "      <th>original_price</th>\n",
              "      <th>total_count_of_product</th>\n",
              "      <th>reordered</th>\n",
              "      <th>ratio_of_reordered_per_product</th>\n",
              "      <th>ratio_of_reordered</th>\n",
              "      <th>average_price_per_shopper</th>\n",
              "      <th>average_basket_size</th>\n",
              "      <th>unique_products_per_shopper</th>\n",
              "      <th>weeks_since_prior_order</th>\n",
              "    </tr>\n",
              "  </thead>\n",
              "  <tbody>\n",
              "    <tr>\n",
              "      <th>0</th>\n",
              "      <td>0</td>\n",
              "      <td>0</td>\n",
              "      <td>0</td>\n",
              "      <td>688.0</td>\n",
              "      <td>0.0</td>\n",
              "      <td>0.0</td>\n",
              "      <td>No</td>\n",
              "      <td>688</td>\n",
              "      <td>0</td>\n",
              "      <td>0.0</td>\n",
              "      <td>0.0</td>\n",
              "      <td>0.722222</td>\n",
              "      <td>587.203947</td>\n",
              "      <td>8.539326</td>\n",
              "      <td>54</td>\n",
              "      <td>1</td>\n",
              "    </tr>\n",
              "    <tr>\n",
              "      <th>1</th>\n",
              "      <td>0</td>\n",
              "      <td>0</td>\n",
              "      <td>1</td>\n",
              "      <td>560.0</td>\n",
              "      <td>0.0</td>\n",
              "      <td>0.0</td>\n",
              "      <td>No</td>\n",
              "      <td>560</td>\n",
              "      <td>0</td>\n",
              "      <td>0.0</td>\n",
              "      <td>0.0</td>\n",
              "      <td>0.722222</td>\n",
              "      <td>587.203947</td>\n",
              "      <td>8.539326</td>\n",
              "      <td>54</td>\n",
              "      <td>1</td>\n",
              "    </tr>\n",
              "    <tr>\n",
              "      <th>2</th>\n",
              "      <td>0</td>\n",
              "      <td>0</td>\n",
              "      <td>2</td>\n",
              "      <td>773.0</td>\n",
              "      <td>0.0</td>\n",
              "      <td>0.0</td>\n",
              "      <td>No</td>\n",
              "      <td>773</td>\n",
              "      <td>0</td>\n",
              "      <td>0.0</td>\n",
              "      <td>0.0</td>\n",
              "      <td>0.722222</td>\n",
              "      <td>587.203947</td>\n",
              "      <td>8.539326</td>\n",
              "      <td>54</td>\n",
              "      <td>1</td>\n",
              "    </tr>\n",
              "  </tbody>\n",
              "</table>\n",
              "</div>"
            ],
            "text/plain": [
              "   week shopper  ... unique_products_per_shopper  weeks_since_prior_order\n",
              "0     0       0  ...                          54                        1\n",
              "1     0       0  ...                          54                        1\n",
              "2     0       0  ...                          54                        1\n",
              "\n",
              "[3 rows x 16 columns]"
            ]
          },
          "metadata": {
            "tags": []
          },
          "execution_count": 23
        }
      ]
    },
    {
      "cell_type": "code",
      "metadata": {
        "id": "H7WgNBP1MWMl"
      },
      "source": [
        "# X_train.loc[(X_train['shopper']==0) & (X_train['product']==116)][['week', 'weeks_since_prior_order', 'target']][:50]"
      ],
      "execution_count": 24,
      "outputs": []
    },
    {
      "cell_type": "code",
      "metadata": {
        "id": "HpLTLpYsNK2b"
      },
      "source": [
        "X_train.drop('week', inplace=True, axis=1)"
      ],
      "execution_count": 25,
      "outputs": []
    },
    {
      "cell_type": "code",
      "metadata": {
        "id": "JusYjKDMM4uJ"
      },
      "source": [
        "y_train = X_train.pop('target')"
      ],
      "execution_count": 26,
      "outputs": []
    },
    {
      "cell_type": "markdown",
      "metadata": {
        "id": "axqHOE9eFziV"
      },
      "source": [
        "# Set Up Test Table"
      ]
    },
    {
      "cell_type": "code",
      "metadata": {
        "id": "FT6UARG-F1M1"
      },
      "source": [
        "full_df_test = (baskets_test\r\n",
        "           .merge(\r\n",
        "               coupons_test, \r\n",
        "               on=['week', 'shopper', 'product'], \r\n",
        "               how='outer',\r\n",
        "               indicator=True\r\n",
        "           )\r\n",
        "           .sort_values(by=['week', 'shopper', 'product'])\r\n",
        "           .reset_index(drop=True)\r\n",
        "          #  .replace(['left_only', 'right_only', 'both'], ['RRP', 'coupon', 'discounted'])\r\n",
        "          .replace(['left_only', 'right_only', 'both'], ['No', 'Yes', 'Yes'])\r\n",
        "          .rename(columns={'_merge': 'coupon'})\r\n",
        ")\r\n",
        "\r\n",
        "full_df_test.loc[full_df_test['discount'].isna(),'discount' ] = 0"
      ],
      "execution_count": 27,
      "outputs": []
    },
    {
      "cell_type": "code",
      "metadata": {
        "id": "0798jjAoGYBX"
      },
      "source": [
        "df1 = pd.DataFrame({'key': np.ones(len(baskets_test.week.unique())), 'week': baskets_test.week.unique()})\r\n",
        "df2 = pd.DataFrame({'key': np.ones(shoppers), 'shopper': list(range(shoppers))})\r\n",
        "df3 = pd.DataFrame({'key': np.ones(250), 'product': list(range(250))})\r\n",
        "df4 = full_df_test.copy()\r\n",
        "\r\n",
        "X_test = pd.merge(df1, df2, on='key').merge(df3, on='key').merge(df4, on=['week', 'shopper', 'product'], how='left')[full_df_test.columns]"
      ],
      "execution_count": 28,
      "outputs": []
    },
    {
      "cell_type": "code",
      "metadata": {
        "id": "8NGu4gbdHRX0"
      },
      "source": [
        "X_test = (X_test\r\n",
        "           .merge(original_price, on=['product'], how='left')\r\n",
        "           .merge(total_count_of_product, on=['shopper', 'product'], how='left')\r\n",
        "           .merge(reordered, on=['shopper', 'product'], how='left')\r\n",
        "           .merge(ratio_of_reordered_per_product, on=['shopper', 'product'], how='left')\r\n",
        "           .merge(ratio_of_reordered_per_shopper, on=['shopper'], how='left')\r\n",
        "           .merge(average_price_per_shopper, on=['shopper'], how='left')\r\n",
        "           .merge(average_basket_size, on=['shopper'], how='left')\r\n",
        "           .merge(unique_products_per_shopper, on=['shopper'], how='left')\r\n",
        "           )"
      ],
      "execution_count": 29,
      "outputs": []
    },
    {
      "cell_type": "code",
      "metadata": {
        "id": "rOrIgnqAHW2E"
      },
      "source": [
        "X_test['discount'].fillna(0, inplace=True)\r\n",
        "X_test['price'].fillna(X_test.original_price*(1-X_test.discount), inplace=True)\r\n",
        "X_test['reordered'].fillna(0, inplace=True)\r\n",
        "X_test['coupon'].fillna('No', inplace=True)\r\n",
        "# X_train['weeks_since_prior_order'].fillna(0, inplace=True)\r\n",
        "X_test['target'].fillna(0, inplace=True)"
      ],
      "execution_count": 30,
      "outputs": []
    },
    {
      "cell_type": "code",
      "metadata": {
        "id": "gSwbUr6iqM6K"
      },
      "source": [
        "last_weeks_since_prior_order = X_train.groupby(['shopper', 'product']).weeks_since_prior_order.last() + 1"
      ],
      "execution_count": 31,
      "outputs": []
    },
    {
      "cell_type": "code",
      "metadata": {
        "id": "LmUFkG9LHdBU"
      },
      "source": [
        "X_test = X_test.merge(last_weeks_since_prior_order, on=['shopper', 'product'])"
      ],
      "execution_count": 32,
      "outputs": []
    },
    {
      "cell_type": "code",
      "metadata": {
        "id": "esJU5lH5Hfrw"
      },
      "source": [
        "X_test.drop('week', inplace=True, axis=1)"
      ],
      "execution_count": 33,
      "outputs": []
    },
    {
      "cell_type": "code",
      "metadata": {
        "id": "btpSR8UrHiGK"
      },
      "source": [
        "y_test = X_test.pop('target')"
      ],
      "execution_count": 34,
      "outputs": []
    },
    {
      "cell_type": "markdown",
      "metadata": {
        "id": "IpTCdVohNBfe"
      },
      "source": [
        "# One-Hot Encoding Products"
      ]
    },
    {
      "cell_type": "code",
      "metadata": {
        "id": "YPQYX7XsNFkc"
      },
      "source": [
        "# from sklearn.preprocessing import OneHotEncoder"
      ],
      "execution_count": 35,
      "outputs": []
    },
    {
      "cell_type": "code",
      "metadata": {
        "id": "JEu6IUrcNYUF"
      },
      "source": [
        "# enc = OneHotEncoder(sparse=False)\r\n",
        "\r\n",
        "# encodings = X_train.select_dtypes(exclude=np.number).columns.tolist()\r\n",
        "# # encoded = pd.DataFrame.sparse.from_spmatrix(enc.fit_transform(X_train[encodings]))\r\n",
        "# encoded = pd.DataFrame(enc.fit_transform(X_train[encodings]))\r\n",
        "# encoded.columns = enc.get_feature_names(encodings)\r\n",
        "\r\n",
        "# X_train = pd.concat([X_train, encoded], axis=1).drop(encodings, axis=1)"
      ],
      "execution_count": 36,
      "outputs": []
    },
    {
      "cell_type": "code",
      "metadata": {
        "id": "VM3cp8lUN-hl"
      },
      "source": [
        "# X_train = X_train.apply(pd.to_numeric)"
      ],
      "execution_count": 37,
      "outputs": []
    },
    {
      "cell_type": "code",
      "metadata": {
        "id": "AhQxYvU8-7bh"
      },
      "source": [
        "# X_train.head(3)"
      ],
      "execution_count": 38,
      "outputs": []
    },
    {
      "cell_type": "markdown",
      "metadata": {
        "id": "YJru_84FBBkL"
      },
      "source": [
        "# Training"
      ]
    },
    {
      "cell_type": "code",
      "metadata": {
        "id": "OZzYldzn82cy"
      },
      "source": [
        "from lightgbm.sklearn import LGBMClassifier"
      ],
      "execution_count": 39,
      "outputs": []
    },
    {
      "cell_type": "code",
      "metadata": {
        "id": "wdA8Ksti88PQ"
      },
      "source": [
        "from collections import Counter\r\n",
        "\r\n",
        "# count examples in each class\r\n",
        "counter = Counter(y_train)\r\n",
        "# estimate scale_pos_weight value\r\n",
        "estimate = counter[0] / counter[1]\r\n",
        "\r\n",
        "lgb_clf = LGBMClassifier(\r\n",
        "    scale_pos_weight=estimate\r\n",
        "    )"
      ],
      "execution_count": 40,
      "outputs": []
    },
    {
      "cell_type": "code",
      "metadata": {
        "id": "tSs4AVy4EoNX"
      },
      "source": [
        "categorical = X_train.select_dtypes(exclude=np.number).columns.tolist()\r\n",
        "for cats in categorical:\r\n",
        "  X_train[cats] = X_train[cats].astype('category')\r\n",
        "  X_test[cats] = X_test[cats].astype('category')"
      ],
      "execution_count": 41,
      "outputs": []
    },
    {
      "cell_type": "code",
      "metadata": {
        "colab": {
          "base_uri": "https://localhost:8080/"
        },
        "id": "6JpsBYe96hEK",
        "outputId": "f2db2276-b418-4471-b0f8-a4eaf2a819dd"
      },
      "source": [
        "lgb_clf.fit(X_train, y_train)"
      ],
      "execution_count": 42,
      "outputs": [
        {
          "output_type": "execute_result",
          "data": {
            "text/plain": [
              "LGBMClassifier(scale_pos_weight=31.749002811262713)"
            ]
          },
          "metadata": {
            "tags": []
          },
          "execution_count": 42
        }
      ]
    },
    {
      "cell_type": "code",
      "metadata": {
        "colab": {
          "base_uri": "https://localhost:8080/"
        },
        "id": "ww-I5suLK2ky",
        "outputId": "0707cb3a-970e-47d2-e9b9-0b151fb61277"
      },
      "source": [
        "lgb_clf.score(X_train, y_train)"
      ],
      "execution_count": 43,
      "outputs": [
        {
          "output_type": "execute_result",
          "data": {
            "text/plain": [
              "0.8729325842696629"
            ]
          },
          "metadata": {
            "tags": []
          },
          "execution_count": 43
        }
      ]
    },
    {
      "cell_type": "code",
      "metadata": {
        "colab": {
          "base_uri": "https://localhost:8080/"
        },
        "id": "y8Ed3Njd_rAs",
        "outputId": "e030c81e-62b6-4392-8f5a-37da4f955ef5"
      },
      "source": [
        "lgb_clf.score(X_test, y_test)"
      ],
      "execution_count": 44,
      "outputs": [
        {
          "output_type": "execute_result",
          "data": {
            "text/plain": [
              "0.85824"
            ]
          },
          "metadata": {
            "tags": []
          },
          "execution_count": 44
        }
      ]
    },
    {
      "cell_type": "markdown",
      "metadata": {
        "id": "8gNl_D1m_MGG"
      },
      "source": [
        "## Evaluation"
      ]
    },
    {
      "cell_type": "code",
      "metadata": {
        "colab": {
          "base_uri": "https://localhost:8080/",
          "height": 312
        },
        "id": "r73rkPIYFn1I",
        "outputId": "a6fbe7b4-66bd-43c3-f981-d1e75b14cebc"
      },
      "source": [
        "lgb.plot_importance(lgb_clf, max_num_features=10)"
      ],
      "execution_count": 45,
      "outputs": [
        {
          "output_type": "execute_result",
          "data": {
            "text/plain": [
              "<matplotlib.axes._subplots.AxesSubplot at 0x7f5ea41f2a50>"
            ]
          },
          "metadata": {
            "tags": []
          },
          "execution_count": 45
        },
        {
          "output_type": "display_data",
          "data": {
            "image/png": "[encoded data removed]",
            "text/plain": [
              "<Figure size 432x288 with 1 Axes>"
            ]
          },
          "metadata": {
            "tags": [],
            "needs_background": "light"
          }
        }
      ]
    },
    {
      "cell_type": "code",
      "metadata": {
        "colab": {
          "base_uri": "https://localhost:8080/",
          "height": 312
        },
        "id": "FYfDwpA4JLeQ",
        "outputId": "9f9c930e-9d21-483b-960f-637cc1c873ce"
      },
      "source": [
        "lgb.plot_importance(lgb_clf, max_num_features=10, importance_type='gain')"
      ],
      "execution_count": 46,
      "outputs": [
        {
          "output_type": "execute_result",
          "data": {
            "text/plain": [
              "<matplotlib.axes._subplots.AxesSubplot at 0x7f5ea4041150>"
            ]
          },
          "metadata": {
            "tags": []
          },
          "execution_count": 46
        },
        {
          "output_type": "display_data",
          "data": {
            "image/png": "[encoded data removed]",
            "text/plain": [
              "<Figure size 432x288 with 1 Axes>"
            ]
          },
          "metadata": {
            "tags": [],
            "needs_background": "light"
          }
        }
      ]
    },
    {
      "cell_type": "code",
      "metadata": {
        "colab": {
          "base_uri": "https://localhost:8080/",
          "height": 296
        },
        "id": "3OJJnMzMLY_w",
        "outputId": "f41bbb08-ceed-4b21-af16-d7753d367b50"
      },
      "source": [
        "from sklearn.metrics import plot_roc_curve\r\n",
        "plot_roc_curve(estimator=lgb_clf, X=X_test, y=y_test)"
      ],
      "execution_count": 47,
      "outputs": [
        {
          "output_type": "execute_result",
          "data": {
            "text/plain": [
              "<sklearn.metrics._plot.roc_curve.RocCurveDisplay at 0x7f5ea3f90150>"
            ]
          },
          "metadata": {
            "tags": []
          },
          "execution_count": 47
        },
        {
          "output_type": "display_data",
          "data": {
            "image/png": "[encoded data removed]",
            "text/plain": [
              "<Figure size 432x288 with 1 Axes>"
            ]
          },
          "metadata": {
            "tags": [],
            "needs_background": "light"
          }
        }
      ]
    },
    {
      "cell_type": "code",
      "metadata": {
        "colab": {
          "base_uri": "https://localhost:8080/",
          "height": 296
        },
        "id": "wDJ2A_hGVtlu",
        "outputId": "358958fb-fccc-4d80-9d3c-afd0ef7f5a03"
      },
      "source": [
        "from sklearn.metrics import plot_confusion_matrix\r\n",
        "from sklearn.metrics import confusion_matrix\r\n",
        "\r\n",
        "y_pred = lgb_clf.predict(X_test)\r\n",
        "confusion = confusion_matrix(y_test, y_pred)\r\n",
        "plot_confusion_matrix(estimator=lgb_clf, X=X_test, y_true=y_test, display_labels=['No', 'Yes'], normalize='true')"
      ],
      "execution_count": 48,
      "outputs": [
        {
          "output_type": "execute_result",
          "data": {
            "text/plain": [
              "<sklearn.metrics._plot.confusion_matrix.ConfusionMatrixDisplay at 0x7f5ea3fcc2d0>"
            ]
          },
          "metadata": {
            "tags": []
          },
          "execution_count": 48
        },
        {
          "output_type": "display_data",
          "data": {
            "image/png": "[encoded data removed]",
            "text/plain": [
              "<Figure size 432x288 with 2 Axes>"
            ]
          },
          "metadata": {
            "tags": [],
            "needs_background": "light"
          }
        }
      ]
    },
    {
      "cell_type": "code",
      "metadata": {
        "colab": {
          "base_uri": "https://localhost:8080/"
        },
        "id": "cYUx-LeHWd2O",
        "outputId": "35a1a6c8-f40f-432b-c3c5-5bc718c28d6e"
      },
      "source": [
        "confusion"
      ],
      "execution_count": 49,
      "outputs": [
        {
          "output_type": "execute_result",
          "data": {
            "text/plain": [
              "array([[20788,  3493],\n",
              "       [   51,   668]])"
            ]
          },
          "metadata": {
            "tags": []
          },
          "execution_count": 49
        }
      ]
    },
    {
      "cell_type": "code",
      "metadata": {
        "id": "XkJPcocOYQSs"
      },
      "source": [
        "FP = confusion[0][1]\r\n",
        "FN = confusion[1][0]\r\n",
        "TP = confusion[1][1]\r\n",
        "TN = confusion[0][0]\r\n",
        "\r\n",
        "# Sensitivity, hit rate, recall, or true positive rate\r\n",
        "TPR = TP/(TP+FN)\r\n",
        "# Specificity or true negative rate\r\n",
        "TNR = TN/(TN+FP) \r\n",
        "# Negative predictive value\r\n",
        "NPV = TN/(TN+FN)\r\n",
        "# Fall out or false positive rate\r\n",
        "FPR = FP/(FP+TN)\r\n",
        "# False negative rate\r\n",
        "FNR = FN/(TP+FN)\r\n",
        "# Precision\r\n",
        "PPV = TP/(TP+FP)\r\n",
        "# False discovery rate -> 1-Precision\r\n",
        "FDR = FP/(TP+FP)\r\n",
        "\r\n",
        "# Overall accuracy\r\n",
        "ACC = (TP+TN)/(TP+FP+FN+TN)"
      ],
      "execution_count": 50,
      "outputs": []
    },
    {
      "cell_type": "code",
      "metadata": {
        "colab": {
          "base_uri": "https://localhost:8080/"
        },
        "id": "gQhj4F3vZ8XE",
        "outputId": "f3326e62-d308-454e-ece4-2ce269c1346b"
      },
      "source": [
        "print(f'TPR: {TPR:.4f}')\r\n",
        "print(f'TNR: {TNR:.4f}')\r\n",
        "print(f'FPR: {FPR:.4f}')\r\n",
        "print(f'FNR: {FNR:.4f}')\r\n",
        "print(f'Precision: {PPV:.4f}')\r\n",
        "print(f'False discovery rate: {FDR:.4f}')"
      ],
      "execution_count": 51,
      "outputs": [
        {
          "output_type": "stream",
          "text": [
            "TPR: 0.9291\n",
            "TNR: 0.8561\n",
            "FPR: 0.1439\n",
            "FNR: 0.0709\n",
            "Precision: 0.1605\n",
            "False discovery rate: 0.8395\n"
          ],
          "name": "stdout"
        }
      ]
    },
    {
      "cell_type": "markdown",
      "metadata": {
        "id": "O9KJTyQQHf2P"
      },
      "source": [
        "### Old weeks_prior\r\n",
        "shoppers = 100\r\n",
        "\r\n",
        "**scale pos weight=1:**\r\n",
        "\r\n",
        "TPR: 0.0459\r\n",
        "\r\n",
        "TNR: 1.0000\r\n",
        "\r\n",
        "FPR: 0.0000\r\n",
        "\r\n",
        "FNR: 0.9541\r\n",
        "\r\n",
        "Precision: 1.0000\r\n",
        "\r\n",
        "False discovery rate: 0.0000\r\n",
        "\r\n",
        "\r\n",
        "**scale pos weight=estimate:**\r\n",
        "\r\n",
        "TPR: 0.9318\r\n",
        "\r\n",
        "TNR: 0.8589\r\n",
        "\r\n",
        "FPR: 0.1411\r\n",
        "\r\n",
        "FNR: 0.0682\r\n",
        "\r\n",
        "Precision: 0.1636\r\n",
        "\r\n",
        "False discovery rate: 0.8364"
      ]
    },
    {
      "cell_type": "markdown",
      "metadata": {
        "id": "6ya0MdCKryGI"
      },
      "source": [
        "### New weeks_prior\r\n",
        "\r\n",
        "shoppers = 100\r\n",
        "\r\n",
        "**scale pos weight=1:**\r\n",
        "\r\n",
        "TPR: 0.2559\r\n",
        "\r\n",
        "TNR: 0.9930\r\n",
        "\r\n",
        "FPR: 0.0070\r\n",
        "\r\n",
        "FNR: 0.7441\r\n",
        "\r\n",
        "Precision: 0.5183\r\n",
        "\r\n",
        "False discovery rate: 0.4817\r\n",
        "\r\n",
        "\r\n",
        "**scale pos weight=estimate:**\r\n",
        "\r\n",
        "TPR: 0.9318\r\n",
        "\r\n",
        "TNR: 0.8563\r\n",
        "\r\n",
        "FPR: 0.1437\r\n",
        "\r\n",
        "FNR: 0.0682\r\n",
        "\r\n",
        "Precision: 0.1611\r\n",
        "\r\n",
        "False discovery rate: 0.8389"
      ]
    },
    {
      "cell_type": "markdown",
      "metadata": {
        "id": "6wfrfIg6_PBa"
      },
      "source": [
        "## evaluating specific examples"
      ]
    },
    {
      "cell_type": "code",
      "metadata": {
        "colab": {
          "base_uri": "https://localhost:8080/",
          "height": 419
        },
        "id": "m4ELOXB_3H0B",
        "outputId": "8d8f5e04-a69a-4703-af49-7bdd9d47bf40"
      },
      "source": [
        "pd.DataFrame(lgb_clf.predict_proba(X_test))"
      ],
      "execution_count": 52,
      "outputs": [
        {
          "output_type": "execute_result",
          "data": {
            "text/html": [
              "<div>\n",
              "<style scoped>\n",
              "    .dataframe tbody tr th:only-of-type {\n",
              "        vertical-align: middle;\n",
              "    }\n",
              "\n",
              "    .dataframe tbody tr th {\n",
              "        vertical-align: top;\n",
              "    }\n",
              "\n",
              "    .dataframe thead th {\n",
              "        text-align: right;\n",
              "    }\n",
              "</style>\n",
              "<table border=\"1\" class=\"dataframe\">\n",
              "  <thead>\n",
              "    <tr style=\"text-align: right;\">\n",
              "      <th></th>\n",
              "      <th>0</th>\n",
              "      <th>1</th>\n",
              "    </tr>\n",
              "  </thead>\n",
              "  <tbody>\n",
              "    <tr>\n",
              "      <th>0</th>\n",
              "      <td>0.999979</td>\n",
              "      <td>0.000021</td>\n",
              "    </tr>\n",
              "    <tr>\n",
              "      <th>1</th>\n",
              "      <td>0.999977</td>\n",
              "      <td>0.000023</td>\n",
              "    </tr>\n",
              "    <tr>\n",
              "      <th>2</th>\n",
              "      <td>0.999979</td>\n",
              "      <td>0.000021</td>\n",
              "    </tr>\n",
              "    <tr>\n",
              "      <th>3</th>\n",
              "      <td>0.999978</td>\n",
              "      <td>0.000022</td>\n",
              "    </tr>\n",
              "    <tr>\n",
              "      <th>4</th>\n",
              "      <td>0.229559</td>\n",
              "      <td>0.770441</td>\n",
              "    </tr>\n",
              "    <tr>\n",
              "      <th>...</th>\n",
              "      <td>...</td>\n",
              "      <td>...</td>\n",
              "    </tr>\n",
              "    <tr>\n",
              "      <th>24995</th>\n",
              "      <td>0.999985</td>\n",
              "      <td>0.000015</td>\n",
              "    </tr>\n",
              "    <tr>\n",
              "      <th>24996</th>\n",
              "      <td>0.035755</td>\n",
              "      <td>0.964245</td>\n",
              "    </tr>\n",
              "    <tr>\n",
              "      <th>24997</th>\n",
              "      <td>0.999976</td>\n",
              "      <td>0.000024</td>\n",
              "    </tr>\n",
              "    <tr>\n",
              "      <th>24998</th>\n",
              "      <td>0.999980</td>\n",
              "      <td>0.000020</td>\n",
              "    </tr>\n",
              "    <tr>\n",
              "      <th>24999</th>\n",
              "      <td>0.999979</td>\n",
              "      <td>0.000021</td>\n",
              "    </tr>\n",
              "  </tbody>\n",
              "</table>\n",
              "<p>25000 rows × 2 columns</p>\n",
              "</div>"
            ],
            "text/plain": [
              "              0         1\n",
              "0      0.999979  0.000021\n",
              "1      0.999977  0.000023\n",
              "2      0.999979  0.000021\n",
              "3      0.999978  0.000022\n",
              "4      0.229559  0.770441\n",
              "...         ...       ...\n",
              "24995  0.999985  0.000015\n",
              "24996  0.035755  0.964245\n",
              "24997  0.999976  0.000024\n",
              "24998  0.999980  0.000020\n",
              "24999  0.999979  0.000021\n",
              "\n",
              "[25000 rows x 2 columns]"
            ]
          },
          "metadata": {
            "tags": []
          },
          "execution_count": 52
        }
      ]
    },
    {
      "cell_type": "code",
      "metadata": {
        "id": "1pL4w-bH3tom"
      },
      "source": [
        "pred_frame = pd.concat((X_test, y_test, pd.DataFrame(lgb_clf.predict_proba(X_test))[1]), axis=1)[['shopper', 'product', 'target', 'weeks_since_prior_order', 1]]"
      ],
      "execution_count": 53,
      "outputs": []
    },
    {
      "cell_type": "code",
      "metadata": {
        "colab": {
          "base_uri": "https://localhost:8080/",
          "height": 359
        },
        "id": "2-O21JfT4NBI",
        "outputId": "f4f95114-4872-4b22-e626-9cfb12b60753"
      },
      "source": [
        "pred_frame.head(10)"
      ],
      "execution_count": 54,
      "outputs": [
        {
          "output_type": "execute_result",
          "data": {
            "text/html": [
              "<div>\n",
              "<style scoped>\n",
              "    .dataframe tbody tr th:only-of-type {\n",
              "        vertical-align: middle;\n",
              "    }\n",
              "\n",
              "    .dataframe tbody tr th {\n",
              "        vertical-align: top;\n",
              "    }\n",
              "\n",
              "    .dataframe thead th {\n",
              "        text-align: right;\n",
              "    }\n",
              "</style>\n",
              "<table border=\"1\" class=\"dataframe\">\n",
              "  <thead>\n",
              "    <tr style=\"text-align: right;\">\n",
              "      <th></th>\n",
              "      <th>shopper</th>\n",
              "      <th>product</th>\n",
              "      <th>target</th>\n",
              "      <th>weeks_since_prior_order</th>\n",
              "      <th>1</th>\n",
              "    </tr>\n",
              "  </thead>\n",
              "  <tbody>\n",
              "    <tr>\n",
              "      <th>0</th>\n",
              "      <td>0</td>\n",
              "      <td>0</td>\n",
              "      <td>0.0</td>\n",
              "      <td>90</td>\n",
              "      <td>0.000021</td>\n",
              "    </tr>\n",
              "    <tr>\n",
              "      <th>1</th>\n",
              "      <td>0</td>\n",
              "      <td>1</td>\n",
              "      <td>0.0</td>\n",
              "      <td>90</td>\n",
              "      <td>0.000023</td>\n",
              "    </tr>\n",
              "    <tr>\n",
              "      <th>2</th>\n",
              "      <td>0</td>\n",
              "      <td>2</td>\n",
              "      <td>0.0</td>\n",
              "      <td>90</td>\n",
              "      <td>0.000021</td>\n",
              "    </tr>\n",
              "    <tr>\n",
              "      <th>3</th>\n",
              "      <td>0</td>\n",
              "      <td>3</td>\n",
              "      <td>0.0</td>\n",
              "      <td>90</td>\n",
              "      <td>0.000022</td>\n",
              "    </tr>\n",
              "    <tr>\n",
              "      <th>4</th>\n",
              "      <td>0</td>\n",
              "      <td>4</td>\n",
              "      <td>0.0</td>\n",
              "      <td>19</td>\n",
              "      <td>0.770441</td>\n",
              "    </tr>\n",
              "    <tr>\n",
              "      <th>5</th>\n",
              "      <td>0</td>\n",
              "      <td>5</td>\n",
              "      <td>0.0</td>\n",
              "      <td>90</td>\n",
              "      <td>0.000012</td>\n",
              "    </tr>\n",
              "    <tr>\n",
              "      <th>6</th>\n",
              "      <td>0</td>\n",
              "      <td>6</td>\n",
              "      <td>0.0</td>\n",
              "      <td>90</td>\n",
              "      <td>0.000017</td>\n",
              "    </tr>\n",
              "    <tr>\n",
              "      <th>7</th>\n",
              "      <td>0</td>\n",
              "      <td>7</td>\n",
              "      <td>0.0</td>\n",
              "      <td>90</td>\n",
              "      <td>0.000019</td>\n",
              "    </tr>\n",
              "    <tr>\n",
              "      <th>8</th>\n",
              "      <td>0</td>\n",
              "      <td>8</td>\n",
              "      <td>0.0</td>\n",
              "      <td>90</td>\n",
              "      <td>0.000021</td>\n",
              "    </tr>\n",
              "    <tr>\n",
              "      <th>9</th>\n",
              "      <td>0</td>\n",
              "      <td>9</td>\n",
              "      <td>0.0</td>\n",
              "      <td>90</td>\n",
              "      <td>0.000016</td>\n",
              "    </tr>\n",
              "  </tbody>\n",
              "</table>\n",
              "</div>"
            ],
            "text/plain": [
              "  shopper product  target  weeks_since_prior_order         1\n",
              "0       0       0     0.0                       90  0.000021\n",
              "1       0       1     0.0                       90  0.000023\n",
              "2       0       2     0.0                       90  0.000021\n",
              "3       0       3     0.0                       90  0.000022\n",
              "4       0       4     0.0                       19  0.770441\n",
              "5       0       5     0.0                       90  0.000012\n",
              "6       0       6     0.0                       90  0.000017\n",
              "7       0       7     0.0                       90  0.000019\n",
              "8       0       8     0.0                       90  0.000021\n",
              "9       0       9     0.0                       90  0.000016"
            ]
          },
          "metadata": {
            "tags": []
          },
          "execution_count": 54
        }
      ]
    },
    {
      "cell_type": "code",
      "metadata": {
        "colab": {
          "base_uri": "https://localhost:8080/",
          "height": 80
        },
        "id": "TIEHqpCI5TwW",
        "outputId": "5e6ff0ea-07ce-4599-cc39-32adba6bd8d0"
      },
      "source": [
        "pred_frame.loc[(pred_frame['shopper']==0) & (pred_frame['product']==4)]"
      ],
      "execution_count": 55,
      "outputs": [
        {
          "output_type": "execute_result",
          "data": {
            "text/html": [
              "<div>\n",
              "<style scoped>\n",
              "    .dataframe tbody tr th:only-of-type {\n",
              "        vertical-align: middle;\n",
              "    }\n",
              "\n",
              "    .dataframe tbody tr th {\n",
              "        vertical-align: top;\n",
              "    }\n",
              "\n",
              "    .dataframe thead th {\n",
              "        text-align: right;\n",
              "    }\n",
              "</style>\n",
              "<table border=\"1\" class=\"dataframe\">\n",
              "  <thead>\n",
              "    <tr style=\"text-align: right;\">\n",
              "      <th></th>\n",
              "      <th>shopper</th>\n",
              "      <th>product</th>\n",
              "      <th>target</th>\n",
              "      <th>weeks_since_prior_order</th>\n",
              "      <th>1</th>\n",
              "    </tr>\n",
              "  </thead>\n",
              "  <tbody>\n",
              "    <tr>\n",
              "      <th>4</th>\n",
              "      <td>0</td>\n",
              "      <td>4</td>\n",
              "      <td>0.0</td>\n",
              "      <td>19</td>\n",
              "      <td>0.770441</td>\n",
              "    </tr>\n",
              "  </tbody>\n",
              "</table>\n",
              "</div>"
            ],
            "text/plain": [
              "  shopper product  target  weeks_since_prior_order         1\n",
              "4       0       4     0.0                       19  0.770441"
            ]
          },
          "metadata": {
            "tags": []
          },
          "execution_count": 55
        }
      ]
    },
    {
      "cell_type": "code",
      "metadata": {
        "colab": {
          "base_uri": "https://localhost:8080/",
          "height": 297
        },
        "id": "KlhSf6rl5iUK",
        "outputId": "a7f129d9-4fb8-48f7-dc25-cdb0e296c919"
      },
      "source": [
        "baskets_train.loc[\r\n",
        "            (baskets_train['shopper']==0) \r\n",
        "            & (baskets_train['product']==4)\r\n",
        "            & (baskets_train['target']==1)\r\n",
        "]"
      ],
      "execution_count": 56,
      "outputs": [
        {
          "output_type": "execute_result",
          "data": {
            "text/html": [
              "<div>\n",
              "<style scoped>\n",
              "    .dataframe tbody tr th:only-of-type {\n",
              "        vertical-align: middle;\n",
              "    }\n",
              "\n",
              "    .dataframe tbody tr th {\n",
              "        vertical-align: top;\n",
              "    }\n",
              "\n",
              "    .dataframe thead th {\n",
              "        text-align: right;\n",
              "    }\n",
              "</style>\n",
              "<table border=\"1\" class=\"dataframe\">\n",
              "  <thead>\n",
              "    <tr style=\"text-align: right;\">\n",
              "      <th></th>\n",
              "      <th>week</th>\n",
              "      <th>shopper</th>\n",
              "      <th>product</th>\n",
              "      <th>price</th>\n",
              "      <th>target</th>\n",
              "    </tr>\n",
              "  </thead>\n",
              "  <tbody>\n",
              "    <tr>\n",
              "      <th>18360597</th>\n",
              "      <td>24</td>\n",
              "      <td>0</td>\n",
              "      <td>4</td>\n",
              "      <td>620</td>\n",
              "      <td>1</td>\n",
              "    </tr>\n",
              "    <tr>\n",
              "      <th>30596544</th>\n",
              "      <td>40</td>\n",
              "      <td>0</td>\n",
              "      <td>4</td>\n",
              "      <td>620</td>\n",
              "      <td>1</td>\n",
              "    </tr>\n",
              "    <tr>\n",
              "      <th>34421333</th>\n",
              "      <td>45</td>\n",
              "      <td>0</td>\n",
              "      <td>4</td>\n",
              "      <td>620</td>\n",
              "      <td>1</td>\n",
              "    </tr>\n",
              "    <tr>\n",
              "      <th>39009343</th>\n",
              "      <td>51</td>\n",
              "      <td>0</td>\n",
              "      <td>4</td>\n",
              "      <td>620</td>\n",
              "      <td>1</td>\n",
              "    </tr>\n",
              "    <tr>\n",
              "      <th>41304982</th>\n",
              "      <td>54</td>\n",
              "      <td>0</td>\n",
              "      <td>4</td>\n",
              "      <td>620</td>\n",
              "      <td>1</td>\n",
              "    </tr>\n",
              "    <tr>\n",
              "      <th>44365285</th>\n",
              "      <td>58</td>\n",
              "      <td>0</td>\n",
              "      <td>4</td>\n",
              "      <td>620</td>\n",
              "      <td>1</td>\n",
              "    </tr>\n",
              "    <tr>\n",
              "      <th>45895349</th>\n",
              "      <td>60</td>\n",
              "      <td>0</td>\n",
              "      <td>4</td>\n",
              "      <td>620</td>\n",
              "      <td>1</td>\n",
              "    </tr>\n",
              "    <tr>\n",
              "      <th>53543562</th>\n",
              "      <td>70</td>\n",
              "      <td>0</td>\n",
              "      <td>4</td>\n",
              "      <td>620</td>\n",
              "      <td>1</td>\n",
              "    </tr>\n",
              "  </tbody>\n",
              "</table>\n",
              "</div>"
            ],
            "text/plain": [
              "          week shopper product  price  target\n",
              "18360597    24       0       4    620       1\n",
              "30596544    40       0       4    620       1\n",
              "34421333    45       0       4    620       1\n",
              "39009343    51       0       4    620       1\n",
              "41304982    54       0       4    620       1\n",
              "44365285    58       0       4    620       1\n",
              "45895349    60       0       4    620       1\n",
              "53543562    70       0       4    620       1"
            ]
          },
          "metadata": {
            "tags": []
          },
          "execution_count": 56
        }
      ]
    },
    {
      "cell_type": "code",
      "metadata": {
        "colab": {
          "base_uri": "https://localhost:8080/",
          "height": 297
        },
        "id": "ddIF5g-D_Soy",
        "outputId": "e11656c4-473b-465a-9fbc-29e0f3fd0840"
      },
      "source": [
        "from sklearn.inspection import plot_partial_dependence\r\n",
        "\r\n",
        "plot_partial_dependence(estimator=lgb_clf, X=X_train, features=['weeks_since_prior_order'])"
      ],
      "execution_count": 57,
      "outputs": [
        {
          "output_type": "execute_result",
          "data": {
            "text/plain": [
              "<sklearn.inspection._plot.partial_dependence.PartialDependenceDisplay at 0x7f5ea3e74290>"
            ]
          },
          "metadata": {
            "tags": []
          },
          "execution_count": 57
        },
        {
          "output_type": "display_data",
          "data": {
            "image/png": "[encoded data removed]",
            "text/plain": [
              "<Figure size 432x288 with 2 Axes>"
            ]
          },
          "metadata": {
            "tags": [],
            "needs_background": "light"
          }
        }
      ]
    },
    {
      "cell_type": "markdown",
      "metadata": {
        "id": "B73KLlk4HqzH"
      },
      "source": [
        "# Hypertuning"
      ]
    },
    {
      "cell_type": "code",
      "metadata": {
        "id": "k97OjISqHodq"
      },
      "source": [
        "# !pip install --quiet optuna\r\n",
        "\r\n",
        "# import optuna"
      ],
      "execution_count": 50,
      "outputs": []
    },
    {
      "cell_type": "code",
      "metadata": {
        "id": "qmr2wzUgHvNU"
      },
      "source": [
        "# clf = LGBMClassifier()\r\n",
        "\r\n",
        "# param_distributions = {\r\n",
        "#     'n_estimators': optuna.distributions.IntUniformDistribution(10, 500),\r\n",
        "#     'num_leaves': optuna.distributions.IntUniformDistribution(2, 50),\r\n",
        "#     'min_data_in_leaf': optuna.distributions.IntUniformDistribution(100, 400),\r\n",
        "#     'feature_fraction': optuna.distributions.LogUniformDistribution(0.5, 1),\r\n",
        "# #     'max_depth': optuna.distributions.IntUniformDistribution(-1, 200),\r\n",
        "#     'subsample': optuna.distributions.LogUniformDistribution(0.5, 1),\r\n",
        "# }\r\n",
        "\r\n",
        "# optuna_search = optuna.integration.OptunaSearchCV(\r\n",
        "#     estimator=clf, \r\n",
        "#     param_distributions=param_distributions, \r\n",
        "#     n_trials=50, \r\n",
        "#     timeout=7200,\r\n",
        "#     cv=\r\n",
        "# )\r\n",
        "\r\n",
        "# optuna_search.fit(X_train, y_train)"
      ],
      "execution_count": 51,
      "outputs": []
    }
  ]
}