{
 "cells": [
  {
   "cell_type": "code",
   "execution_count": 2,
   "metadata": {},
   "outputs": [],
   "source": [
    "from dataloader import Dataloader\n",
    "import pandas as pd\n",
    "import os\n",
    "\n",
    "pd.options.mode.chained_assignment = None  # default='warn'"
   ]
  },
  {
   "cell_type": "code",
   "execution_count": 3,
   "metadata": {},
   "outputs": [],
   "source": [
    "# Load Data\n",
    "path = os.getcwd() + \"/../data/\"\n",
    "\n",
    "# load data which creates baskets and coupons\n",
    "data = Dataloader(path)"
   ]
  },
  {
   "cell_type": "code",
   "execution_count": 4,
   "metadata": {},
   "outputs": [],
   "source": [
    "# Create Categories before CV as they don't change and consume time otherwise\n",
    "data.create_category_table(2000)"
   ]
  },
  {
   "cell_type": "code",
   "execution_count": 13,
   "metadata": {
    "collapsed": true,
    "jupyter": {
     "outputs_hidden": true
    }
   },
   "outputs": [],
   "source": [
    "# weeks = [87, 88, 89]\n",
    "weeks = [89]\n",
    "# shopper_list = list(range(2000))\n",
    "# shopper_chunks = [shopper_list[i:i + 100] for i in range(0, len(shopper_list), 100)]\n",
    "shopper_chunks = [list(range(100))]\n",
    "\n",
    "for week in weeks:\n",
    "    for shopper in shopper_chunks:\n",
    "        # train-test-split\n",
    "        data.train_test_split(week, shopper)\n",
    "\n",
    "        # data add categories\n",
    "        baskets_train, _, coupons_train, _ = data.add_categories()"
   ]
  },
  {
   "cell_type": "code",
   "execution_count": 38,
   "outputs": [],
   "source": [
    "original_price = baskets_train.groupby(\"product\", as_index=False)[\"price\"].max().rename(columns={\"price\": \"original_price\"})\n",
    "c_w_op = coupons_train.merge(original_price, on=\"product\", how=\"left\")\n",
    "c_w_op[\"abs_discount_v\"] = c_w_op[\"original_price\"] * ( c_w_op[\"discount\"] / 100 )\n",
    "avg_categorical_discount_table = c_w_op.groupby([\"category\"], as_index=False)[\"abs_discount_v\"].mean().rename(columns={\"abs_discount_v\": \"avg_categorical_discount\"})"
   ],
   "metadata": {
    "collapsed": false,
    "pycharm": {
     "name": "#%%\n"
    }
   }
  },
  {
   "cell_type": "code",
   "execution_count": 39,
   "outputs": [
    {
     "data": {
      "text/plain": "   category  avg_categorical_discount\n0         0                168.462834\n1         1                141.976775\n2         2                167.536282\n3         3                172.068348\n4         4                142.280453\n5         5                134.564777\n6         6                136.187085\n7         7                136.819926\n8         8                154.769774\n9         9                116.921537\n10       10                161.512231\n11       11                139.421583\n12       12                176.534278\n13       13                131.975297\n14       14                180.687042\n15       15                139.613811\n16       16                153.728374\n17       17                155.005676\n18       18                158.831726\n19       19                180.054079\n20       20                171.014554\n21       21                134.322291\n22       22                144.744329\n23       23                147.156807\n24       24                157.515630",
      "text/html": "<div>\n<style scoped>\n    .dataframe tbody tr th:only-of-type {\n        vertical-align: middle;\n    }\n\n    .dataframe tbody tr th {\n        vertical-align: top;\n    }\n\n    .dataframe thead th {\n        text-align: right;\n    }\n</style>\n<table border=\"1\" class=\"dataframe\">\n  <thead>\n    <tr style=\"text-align: right;\">\n      <th></th>\n      <th>category</th>\n      <th>avg_categorical_discount</th>\n    </tr>\n  </thead>\n  <tbody>\n    <tr>\n      <th>0</th>\n      <td>0</td>\n      <td>168.462834</td>\n    </tr>\n    <tr>\n      <th>1</th>\n      <td>1</td>\n      <td>141.976775</td>\n    </tr>\n    <tr>\n      <th>2</th>\n      <td>2</td>\n      <td>167.536282</td>\n    </tr>\n    <tr>\n      <th>3</th>\n      <td>3</td>\n      <td>172.068348</td>\n    </tr>\n    <tr>\n      <th>4</th>\n      <td>4</td>\n      <td>142.280453</td>\n    </tr>\n    <tr>\n      <th>5</th>\n      <td>5</td>\n      <td>134.564777</td>\n    </tr>\n    <tr>\n      <th>6</th>\n      <td>6</td>\n      <td>136.187085</td>\n    </tr>\n    <tr>\n      <th>7</th>\n      <td>7</td>\n      <td>136.819926</td>\n    </tr>\n    <tr>\n      <th>8</th>\n      <td>8</td>\n      <td>154.769774</td>\n    </tr>\n    <tr>\n      <th>9</th>\n      <td>9</td>\n      <td>116.921537</td>\n    </tr>\n    <tr>\n      <th>10</th>\n      <td>10</td>\n      <td>161.512231</td>\n    </tr>\n    <tr>\n      <th>11</th>\n      <td>11</td>\n      <td>139.421583</td>\n    </tr>\n    <tr>\n      <th>12</th>\n      <td>12</td>\n      <td>176.534278</td>\n    </tr>\n    <tr>\n      <th>13</th>\n      <td>13</td>\n      <td>131.975297</td>\n    </tr>\n    <tr>\n      <th>14</th>\n      <td>14</td>\n      <td>180.687042</td>\n    </tr>\n    <tr>\n      <th>15</th>\n      <td>15</td>\n      <td>139.613811</td>\n    </tr>\n    <tr>\n      <th>16</th>\n      <td>16</td>\n      <td>153.728374</td>\n    </tr>\n    <tr>\n      <th>17</th>\n      <td>17</td>\n      <td>155.005676</td>\n    </tr>\n    <tr>\n      <th>18</th>\n      <td>18</td>\n      <td>158.831726</td>\n    </tr>\n    <tr>\n      <th>19</th>\n      <td>19</td>\n      <td>180.054079</td>\n    </tr>\n    <tr>\n      <th>20</th>\n      <td>20</td>\n      <td>171.014554</td>\n    </tr>\n    <tr>\n      <th>21</th>\n      <td>21</td>\n      <td>134.322291</td>\n    </tr>\n    <tr>\n      <th>22</th>\n      <td>22</td>\n      <td>144.744329</td>\n    </tr>\n    <tr>\n      <th>23</th>\n      <td>23</td>\n      <td>147.156807</td>\n    </tr>\n    <tr>\n      <th>24</th>\n      <td>24</td>\n      <td>157.515630</td>\n    </tr>\n  </tbody>\n</table>\n</div>"
     },
     "execution_count": 39,
     "metadata": {},
     "output_type": "execute_result"
    }
   ],
   "source": [
    "avg_categorical_discount_table"
   ],
   "metadata": {
    "collapsed": false,
    "pycharm": {
     "name": "#%%\n"
    }
   }
  },
  {
   "cell_type": "code",
   "execution_count": null,
   "outputs": [],
   "source": [],
   "metadata": {
    "collapsed": false,
    "pycharm": {
     "name": "#%%\n"
    }
   }
  }
 ],
 "metadata": {
  "kernelspec": {
   "display_name": "Python 3",
   "language": "python",
   "name": "python3"
  },
  "language_info": {
   "codemirror_mode": {
    "name": "ipython",
    "version": 3
   },
   "file_extension": ".py",
   "mimetype": "text/x-python",
   "name": "python",
   "nbconvert_exporter": "python",
   "pygments_lexer": "ipython3",
   "version": "3.7.6"
  }
 },
 "nbformat": 4,
 "nbformat_minor": 4
}