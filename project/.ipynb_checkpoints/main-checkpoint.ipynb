{
 "cells": [
  {
   "cell_type": "markdown",
   "metadata": {},
   "source": [
    "## Setup"
   ]
  },
  {
   "cell_type": "code",
   "execution_count": 20,
   "metadata": {},
   "outputs": [],
   "source": [
    "import os\n",
    "\n",
    "from Db import DataBase\n",
    "from Category import Category\n",
    "from Feature import Feature\n",
    "\n",
    "from Trainset import Trainset\n",
    "from Testset import Testset\n",
    "from Trainer import Trainer"
   ]
  },
  {
   "cell_type": "markdown",
   "metadata": {},
   "source": [
    "## Load Data"
   ]
  },
  {
   "cell_type": "code",
   "execution_count": 21,
   "metadata": {},
   "outputs": [],
   "source": [
    "# Load Data\n",
    "file_path = os.getcwd() + \"/../data/\"\n",
    "dbase = DataBase(file_path)"
   ]
  },
  {
   "cell_type": "markdown",
   "metadata": {},
   "source": [
    "## Data Preprocessing"
   ]
  },
  {
   "cell_type": "code",
   "execution_count": 22,
   "metadata": {},
   "outputs": [],
   "source": [
    "# orignal_price\n",
    "original_price = dbase.original_price()\n",
    "\n",
    "# baskets data\n",
    "baskets_data = dbase.load_basket_data()"
   ]
  },
  {
   "cell_type": "code",
   "execution_count": 23,
   "metadata": {},
   "outputs": [],
   "source": [
    "# Product Category Table\n",
    "catClass = Category(baskets_data)\n",
    "prods_cat_table = catClass.generate_product_category_table()"
   ]
  },
  {
   "cell_type": "code",
   "execution_count": 24,
   "metadata": {},
   "outputs": [
    {
     "name": "stdout",
     "output_type": "stream",
     "text": [
      "(250, 2)\n"
     ]
    }
   ],
   "source": [
    "print(prods_cat_table.shape)\n",
    "# prods_cat_table.tail(60)"
   ]
  },
  {
   "cell_type": "code",
   "execution_count": 25,
   "metadata": {},
   "outputs": [
    {
     "name": "stderr",
     "output_type": "stream",
     "text": [
      "/Users/jungwoojamesjeong/opt/anaconda3/envs/hu-bads/lib/python3.8/site-packages/pandas/core/frame.py:3065: SettingWithCopyWarning: \n",
      "A value is trying to be set on a copy of a slice from a DataFrame.\n",
      "Try using .loc[row_indexer,col_indexer] = value instead\n",
      "\n",
      "See the caveats in the documentation: https://pandas.pydata.org/pandas-docs/stable/user_guide/indexing.html#returning-a-view-versus-a-copy\n",
      "  self[k1] = value[k2]\n"
     ]
    },
    {
     "name": "stdout",
     "output_type": "stream",
     "text": [
      "   week shopper product  price  target category\n",
      "0     0       0      71    629       1        7\n",
      "1     0       0      91    605       1        3\n",
      "   week shopper  product  price  target category\n",
      "0    89       0       67    637       1       18\n",
      "1    89       0       71    629       1        7\n",
      "   week shopper product  discount category\n",
      "0     0       0      35        35       10\n",
      "1     0       0     193        40        5\n",
      "   week shopper  product  discount category\n",
      "0    89       0      131        30        4\n",
      "1    89       0       16        25        2\n"
     ]
    }
   ],
   "source": [
    "# Split Data\n",
    "baskets_train, baskets_test, coupons_train, coupons_test = dbase.generate_split_data_with_category(prods_cat_table)\n",
    "\n",
    "print(baskets_train.head(2))\n",
    "print(baskets_test.head(2))\n",
    "print(coupons_train.head(2))\n",
    "print(coupons_test.head(2))"
   ]
  },
  {
   "cell_type": "markdown",
   "metadata": {},
   "source": [
    "## Feature Engineering"
   ]
  },
  {
   "cell_type": "code",
   "execution_count": 26,
   "metadata": {},
   "outputs": [
    {
     "name": "stdout",
     "output_type": "stream",
     "text": [
      "feature engineering begin\n"
     ]
    }
   ],
   "source": [
    "# Define feat\n",
    "print(\"feature engineering begin\")\n",
    "feat = Feature(baskets_train, coupons_train)"
   ]
  },
  {
   "cell_type": "code",
   "execution_count": 27,
   "metadata": {},
   "outputs": [],
   "source": [
    "total_count_of_product = feat.total_count_of_product()\n",
    "reordered_category = (baskets_train.groupby(['shopper']).category.value_counts()>1).astype(int)\n",
    "reordered_product = feat.reordered_product()\n",
    "category_count = feat.category_count()\n",
    "reordered_category = feat.reordered_category()\n",
    "coupon_in_same_category = feat.coupon_in_same_category()\n",
    "average_price_per_shopper = feat.average_price_per_shopper()\n",
    "average_basket_size = feat.average_basket_size()\n",
    "unique_products_per_shopper = feat.unique_products_per_shopper()\n",
    "unique_categories_per_shopper = feat.unique_categories_per_shopper()"
   ]
  },
  {
   "cell_type": "code",
   "execution_count": 28,
   "metadata": {},
   "outputs": [],
   "source": [
    "# ratio_of_reordered_products_per_shopper = feat.ratio_of_reordered_products_per_shopper()\n",
    "# ratio_of_reordered_categories_per_shopper = feat.ratio_of_reordered_categories_per_shopper()\n"
   ]
  },
  {
   "cell_type": "code",
   "execution_count": 29,
   "metadata": {},
   "outputs": [
    {
     "name": "stdout",
     "output_type": "stream",
     "text": [
      "feature engineering finished\n"
     ]
    }
   ],
   "source": [
    "print(\"feature engineering finished\")"
   ]
  },
  {
   "cell_type": "code",
   "execution_count": null,
   "metadata": {},
   "outputs": [],
   "source": []
  },
  {
   "cell_type": "markdown",
   "metadata": {},
   "source": [
    "## Training Set"
   ]
  },
  {
   "cell_type": "code",
   "execution_count": 30,
   "metadata": {},
   "outputs": [],
   "source": [
    "# Train Table\n",
    "train_t = Trainset(baskets_train, coupons_train, original_price)"
   ]
  },
  {
   "cell_type": "code",
   "execution_count": 31,
   "metadata": {},
   "outputs": [
    {
     "ename": "AttributeError",
     "evalue": "'Trainset' object has no attribute 'generate_featureless_training_set'",
     "output_type": "error",
     "traceback": [
      "\u001b[0;31m---------------------------------------------------------------------------\u001b[0m",
      "\u001b[0;31mAttributeError\u001b[0m                            Traceback (most recent call last)",
      "\u001b[0;32m<ipython-input-31-1266fe3d6149>\u001b[0m in \u001b[0;36m<module>\u001b[0;34m\u001b[0m\n\u001b[1;32m      1\u001b[0m \u001b[0;31m## featureless_training_set\u001b[0m\u001b[0;34m\u001b[0m\u001b[0;34m\u001b[0m\u001b[0;34m\u001b[0m\u001b[0m\n\u001b[0;32m----> 2\u001b[0;31m \u001b[0mfeatureless_training_set\u001b[0m \u001b[0;34m=\u001b[0m \u001b[0mtrain_t\u001b[0m\u001b[0;34m.\u001b[0m\u001b[0mgenerate_featureless_training_set\u001b[0m\u001b[0;34m(\u001b[0m\u001b[0mprods_cat_table\u001b[0m\u001b[0;34m)\u001b[0m\u001b[0;34m\u001b[0m\u001b[0;34m\u001b[0m\u001b[0m\n\u001b[0m\u001b[1;32m      3\u001b[0m \u001b[0mprint\u001b[0m\u001b[0;34m(\u001b[0m\u001b[0;34m\"----- featureless training set -----\"\u001b[0m\u001b[0;34m)\u001b[0m\u001b[0;34m\u001b[0m\u001b[0;34m\u001b[0m\u001b[0m\n\u001b[1;32m      4\u001b[0m \u001b[0mprint\u001b[0m\u001b[0;34m(\u001b[0m\u001b[0mfeatureless_training_set\u001b[0m\u001b[0;34m.\u001b[0m\u001b[0mhead\u001b[0m\u001b[0;34m(\u001b[0m\u001b[0;36m2\u001b[0m\u001b[0;34m)\u001b[0m\u001b[0;34m)\u001b[0m\u001b[0;34m\u001b[0m\u001b[0;34m\u001b[0m\u001b[0m\n",
      "\u001b[0;31mAttributeError\u001b[0m: 'Trainset' object has no attribute 'generate_featureless_training_set'"
     ]
    }
   ],
   "source": [
    "## featureless_training_set\n",
    "featureless_training_set = train_t.generate_featureless_training_set(prods_cat_table)\n",
    "print(\"----- featureless training set -----\")\n",
    "print(featureless_training_set.head(2))"
   ]
  },
  {
   "cell_type": "code",
   "execution_count": null,
   "metadata": {},
   "outputs": [],
   "source": [
    "## Generate training set\n",
    "training_set = train_t.populate_features(\n",
    "    featureless_training_set,\n",
    "    original_price,\n",
    "    total_count_of_product,\n",
    "    reordered_product,\n",
    "    category_count,\n",
    "    reordered_category,\n",
    "    coupon_in_same_category,\n",
    "    average_price_per_shopper,\n",
    "    average_basket_size,\n",
    "    unique_products_per_shopper,\n",
    "    unique_categories_per_shopper\n",
    "#     ratio_of_reordered_products_per_shopper,\n",
    "#     ratio_of_reordered_categories_per_shopper,\n",
    ")\n",
    "print(\"===== training_set =====\")\n",
    "print(training_set.head(2))"
   ]
  },
  {
   "cell_type": "code",
   "execution_count": null,
   "metadata": {},
   "outputs": [],
   "source": [
    "# X_train, y_train\n",
    "X_train, y_train = train_t.split_trainingset_to_X_train_and_y_train(training_set)\n",
    "print(X_train.head(2))\n",
    "print(y_train.head(2))"
   ]
  },
  {
   "cell_type": "markdown",
   "metadata": {},
   "source": [
    "## Testing Set"
   ]
  },
  {
   "cell_type": "code",
   "execution_count": null,
   "metadata": {},
   "outputs": [],
   "source": [
    "# testing table\n",
    "test_t = Testset(baskets_test, coupons_test)"
   ]
  },
  {
   "cell_type": "code",
   "execution_count": null,
   "metadata": {},
   "outputs": [],
   "source": [
    "# full_df_test\n",
    "full_df_test = test_t.generate_full_df_test()"
   ]
  },
  {
   "cell_type": "code",
   "execution_count": null,
   "metadata": {},
   "outputs": [],
   "source": [
    "# Generate testing set\n",
    "testing_set = test_t.generate_training_set(\n",
    "    prods_cat_table,\n",
    "    original_price,\n",
    "    total_count_of_product,\n",
    "    reordered_product,\n",
    "    category_count,\n",
    "    reordered_category,\n",
    "    coupon_in_same_category,\n",
    "    average_price_per_shopper,\n",
    "    average_basket_size,\n",
    "    unique_products_per_shopper,\n",
    "    unique_categories_per_shopper,\n",
    "    training_set\n",
    "#     ratio_of_reordered_products_per_shopper,\n",
    "#     ratio_of_reordered_categories_per_shopper,\n",
    ")"
   ]
  },
  {
   "cell_type": "code",
   "execution_count": null,
   "metadata": {},
   "outputs": [],
   "source": [
    "X_test, y_test = test_t.split_testingset_to_X_test_and_y_test(testing_set)\n",
    "print(X_test.head(2))\n",
    "print(y_test.head(2))"
   ]
  },
  {
   "cell_type": "markdown",
   "metadata": {},
   "source": [
    "## Trainer"
   ]
  },
  {
   "cell_type": "code",
   "execution_count": null,
   "metadata": {},
   "outputs": [],
   "source": [
    "trainer = Trainer(X_train, y_train, X_test, y_test)"
   ]
  },
  {
   "cell_type": "code",
   "execution_count": null,
   "metadata": {},
   "outputs": [],
   "source": [
    "model = trainer.fit_model()"
   ]
  },
  {
   "cell_type": "code",
   "execution_count": null,
   "metadata": {},
   "outputs": [],
   "source": []
  }
 ],
 "metadata": {
  "kernelspec": {
   "display_name": "Python 3",
   "language": "python",
   "name": "python3"
  },
  "language_info": {
   "codemirror_mode": {
    "name": "ipython",
    "version": 3
   },
   "file_extension": ".py",
   "mimetype": "text/x-python",
   "name": "python",
   "nbconvert_exporter": "python",
   "pygments_lexer": "ipython3",
   "version": "3.8.5"
  }
 },
 "nbformat": 4,
 "nbformat_minor": 4
}
