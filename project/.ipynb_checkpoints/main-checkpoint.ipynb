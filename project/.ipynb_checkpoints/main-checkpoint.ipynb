{
 "cells": [
  {
   "cell_type": "markdown",
   "metadata": {},
   "source": [
    "## Setup"
   ]
  },
  {
   "cell_type": "code",
   "execution_count": 1,
   "metadata": {},
   "outputs": [],
   "source": [
    "import os\n",
    "\n",
    "from Db import DataBase\n",
    "from Category import Category\n",
    "from Feature import Feature\n",
    "\n",
    "import pandas as pd\n",
    "import numpy as np\n",
    "\n",
    "from Trainset import Trainset\n",
    "from Testset import Testset\n",
    "from Trainer import Trainer"
   ]
  },
  {
   "cell_type": "markdown",
   "metadata": {},
   "source": [
    "## Load Data"
   ]
  },
  {
   "cell_type": "code",
   "execution_count": 2,
   "metadata": {},
   "outputs": [],
   "source": [
    "# Load Data\n",
    "file_path = os.getcwd() + \"/../data/\"\n",
    "dbase = DataBase(file_path)"
   ]
  },
  {
   "cell_type": "markdown",
   "metadata": {},
   "source": [
    "## Data Preprocessing"
   ]
  },
  {
   "cell_type": "code",
   "execution_count": 3,
   "metadata": {},
   "outputs": [
    {
     "name": "stderr",
     "output_type": "stream",
     "text": [
      "/Users/jungwoojamesjeong/opt/anaconda3/envs/hu-bads/lib/python3.8/site-packages/pandas/core/frame.py:3065: SettingWithCopyWarning: \n",
      "A value is trying to be set on a copy of a slice from a DataFrame.\n",
      "Try using .loc[row_indexer,col_indexer] = value instead\n",
      "\n",
      "See the caveats in the documentation: https://pandas.pydata.org/pandas-docs/stable/user_guide/indexing.html#returning-a-view-versus-a-copy\n",
      "  self[k1] = value[k2]\n"
     ]
    }
   ],
   "source": [
    "baskets_data, coupons_data = dbase.load_basket_coupon_data()\n",
    "\n",
    "# orignal_price\n",
    "original_price = dbase.original_price(baskets_data)\n",
    "\n",
    "# Product Category Table\n",
    "catClass = Category(baskets_data)\n",
    "prods_cat_table = catClass.generate_product_category_table()\n",
    "\n",
    "baskets_train, baskets_test, coupons_train, coupons_test = dbase.split_data(baskets_data, coupons_data)"
   ]
  },
  {
   "cell_type": "code",
   "execution_count": 4,
   "metadata": {},
   "outputs": [],
   "source": [
    "baskets_train, baskets_test, coupons_train, coupons_test = dbase.generate_split_data_with_category(prods_cat_table, baskets_train, baskets_test, coupons_train, coupons_test)"
   ]
  },
  {
   "cell_type": "code",
   "execution_count": 5,
   "metadata": {},
   "outputs": [
    {
     "name": "stdout",
     "output_type": "stream",
     "text": [
      "(250, 2)\n"
     ]
    }
   ],
   "source": [
    "print(prods_cat_table.shape)\n",
    "# prods_cat_table.tail(60)"
   ]
  },
  {
   "cell_type": "code",
   "execution_count": 6,
   "metadata": {},
   "outputs": [
    {
     "name": "stdout",
     "output_type": "stream",
     "text": [
      "   week shopper  product  price  target category\n",
      "0    89       0       67    637       1       18\n",
      "1    89       0       71    629       1        9\n",
      "   week shopper product  discount category\n",
      "0     0       0      35        35       20\n",
      "1     0       0     193        40        0\n",
      "   week shopper  product  discount category\n",
      "0    89       0      131        30        8\n",
      "1    89       0       16        25        7\n"
     ]
    }
   ],
   "source": [
    "print(baskets_test.head(2))\n",
    "print(coupons_train.head(2))\n",
    "print(coupons_test.head(2))"
   ]
  },
  {
   "cell_type": "markdown",
   "metadata": {},
   "source": [
    "## Feature Engineering"
   ]
  },
  {
   "cell_type": "code",
   "execution_count": 7,
   "metadata": {},
   "outputs": [
    {
     "name": "stdout",
     "output_type": "stream",
     "text": [
      "feature engineering begin\n"
     ]
    }
   ],
   "source": [
    "# Define feat\n",
    "print(\"feature engineering begin\")\n",
    "feat = Feature(baskets_train, coupons_train)"
   ]
  },
  {
   "cell_type": "code",
   "execution_count": 8,
   "metadata": {},
   "outputs": [],
   "source": [
    "total_count_of_product = feat.total_count_of_product()\n",
    "reordered_category = (baskets_train.groupby(['shopper']).category.value_counts()>1).astype(int)\n",
    "reordered_product = feat.reordered_product()\n",
    "category_count = feat.category_count()\n",
    "reordered_category = feat.reordered_category()\n",
    "coupon_in_same_category = feat.coupon_in_same_category()\n",
    "average_price_per_shopper = feat.average_price_per_shopper()\n",
    "average_basket_size = feat.average_basket_size()\n",
    "unique_products_per_shopper = feat.unique_products_per_shopper()\n",
    "unique_categories_per_shopper = feat.unique_categories_per_shopper()"
   ]
  },
  {
   "cell_type": "code",
   "execution_count": 9,
   "metadata": {},
   "outputs": [],
   "source": [
    "# ratio_of_reordered_products_per_shopper = feat.ratio_of_reordered_products_per_shopper()\n",
    "# ratio_of_reordered_categories_per_shopper = feat.ratio_of_reordered_categories_per_shopper()\n"
   ]
  },
  {
   "cell_type": "code",
   "execution_count": 10,
   "metadata": {},
   "outputs": [
    {
     "name": "stdout",
     "output_type": "stream",
     "text": [
      "feature engineering finished\n"
     ]
    }
   ],
   "source": [
    "print(\"feature engineering finished\")"
   ]
  },
  {
   "cell_type": "code",
   "execution_count": null,
   "metadata": {},
   "outputs": [],
   "source": []
  },
  {
   "cell_type": "markdown",
   "metadata": {},
   "source": [
    "## Training Set"
   ]
  },
  {
   "cell_type": "code",
   "execution_count": 11,
   "metadata": {},
   "outputs": [],
   "source": [
    "# Train Table\n",
    "train_t = Trainset(baskets_train, coupons_train, original_price)"
   ]
  },
  {
   "cell_type": "code",
   "execution_count": 12,
   "metadata": {},
   "outputs": [],
   "source": [
    "full_df_train = train_t.generate_full_df_train()"
   ]
  },
  {
   "cell_type": "code",
   "execution_count": 13,
   "metadata": {},
   "outputs": [
    {
     "name": "stdout",
     "output_type": "stream",
     "text": [
      "----- featureless training set -----\n",
      "   week shopper product  price  target category  discount coupon\n",
      "0     0       0       0    NaN     NaN       24       NaN    NaN\n",
      "1     0       1       0    NaN     NaN       24       NaN    NaN\n"
     ]
    }
   ],
   "source": [
    "## featureless_training_set\n",
    "num_weeks = 88\n",
    "num_shoppers = 100\n",
    "\n",
    "df1 = pd.DataFrame({'key': np.ones(num_weeks), 'week': list(range(num_weeks))})\n",
    "df2 = pd.DataFrame({'key': np.ones(num_shoppers), 'shopper': list(range(num_shoppers))})\n",
    "df3 = pd.DataFrame({'key': np.ones(250), 'product': list(range(250))})\n",
    "\n",
    "featureless_training_set = (pd\n",
    "    .merge(df1, df2, on='key')\n",
    "    .merge(df3, on='key')\n",
    "    .merge(prods_cat_table, on='product')\n",
    "    .merge(full_df_train, on=['week', 'shopper', 'product', 'category'], how='left')[full_df_train.columns]\n",
    "    )\n",
    "\n",
    "print(\"----- featureless training set -----\")\n",
    "print(featureless_training_set.head(2))"
   ]
  },
  {
   "cell_type": "code",
   "execution_count": 14,
   "metadata": {},
   "outputs": [
    {
     "name": "stdout",
     "output_type": "stream",
     "text": [
      "===== training_set =====\n",
      "   week shopper product  price  target category  discount coupon  \\\n",
      "0     0       0       0  688.0     0.0       24       0.0     No   \n",
      "1     0       1       0  688.0     0.0       24       0.0     No   \n",
      "\n",
      "   original_price  total_count_of_product  reordered_product  category_count  \\\n",
      "0             688                       0                0.0               8   \n",
      "1             688                       6                1.0              28   \n",
      "\n",
      "   reordered_category coupon_in_same_category  average_price_per_shopper  \\\n",
      "0                 1.0                     Yes                 587.203947   \n",
      "1                 1.0                     Yes                 584.065350   \n",
      "\n",
      "   average_basket_size  unique_products_per_shopper_x  \\\n",
      "0             8.539326                             54   \n",
      "1             7.393258                             71   \n",
      "\n",
      "   unique_products_per_shopper_y  weeks_since_prior_product_order  \\\n",
      "0                             24                                1   \n",
      "1                             24                                1   \n",
      "\n",
      "   weeks_since_prior_category_order  \n",
      "0                                 1  \n",
      "1                                 1  \n"
     ]
    }
   ],
   "source": [
    "## Generate training set\n",
    "training_set = train_t.populate_features(\n",
    "    featureless_training_set,\n",
    "    original_price,\n",
    "    total_count_of_product,\n",
    "    reordered_product,\n",
    "    category_count,\n",
    "    reordered_category,\n",
    "    coupon_in_same_category,\n",
    "    average_price_per_shopper,\n",
    "    average_basket_size,\n",
    "    unique_products_per_shopper,\n",
    "    unique_categories_per_shopper\n",
    "#     ratio_of_reordered_products_per_shopper,\n",
    "#     ratio_of_reordered_categories_per_shopper,\n",
    ")\n",
    "print(\"===== training_set =====\")\n",
    "print(training_set.head(2))"
   ]
  },
  {
   "cell_type": "code",
   "execution_count": 15,
   "metadata": {},
   "outputs": [
    {
     "ename": "AttributeError",
     "evalue": "'NoneType' object has no attribute 'select_dtypes'",
     "output_type": "error",
     "traceback": [
      "\u001b[0;31m---------------------------------------------------------------------------\u001b[0m",
      "\u001b[0;31mAttributeError\u001b[0m                            Traceback (most recent call last)",
      "\u001b[0;32m<ipython-input-15-7a7c84e05c9a>\u001b[0m in \u001b[0;36m<module>\u001b[0;34m\u001b[0m\n\u001b[1;32m      1\u001b[0m \u001b[0;31m# X_train, y_train\u001b[0m\u001b[0;34m\u001b[0m\u001b[0;34m\u001b[0m\u001b[0;34m\u001b[0m\u001b[0m\n\u001b[0;32m----> 2\u001b[0;31m \u001b[0mX_train\u001b[0m\u001b[0;34m,\u001b[0m \u001b[0my_train\u001b[0m \u001b[0;34m=\u001b[0m \u001b[0mtrain_t\u001b[0m\u001b[0;34m.\u001b[0m\u001b[0msplit_trainingset_to_X_train_and_y_train\u001b[0m\u001b[0;34m(\u001b[0m\u001b[0mtraining_set\u001b[0m\u001b[0;34m)\u001b[0m\u001b[0;34m\u001b[0m\u001b[0;34m\u001b[0m\u001b[0m\n\u001b[0m\u001b[1;32m      3\u001b[0m \u001b[0mprint\u001b[0m\u001b[0;34m(\u001b[0m\u001b[0mX_train\u001b[0m\u001b[0;34m.\u001b[0m\u001b[0mhead\u001b[0m\u001b[0;34m(\u001b[0m\u001b[0;36m2\u001b[0m\u001b[0;34m)\u001b[0m\u001b[0;34m)\u001b[0m\u001b[0;34m\u001b[0m\u001b[0;34m\u001b[0m\u001b[0m\n\u001b[1;32m      4\u001b[0m \u001b[0mprint\u001b[0m\u001b[0;34m(\u001b[0m\u001b[0my_train\u001b[0m\u001b[0;34m.\u001b[0m\u001b[0mhead\u001b[0m\u001b[0;34m(\u001b[0m\u001b[0;36m2\u001b[0m\u001b[0;34m)\u001b[0m\u001b[0;34m)\u001b[0m\u001b[0;34m\u001b[0m\u001b[0;34m\u001b[0m\u001b[0m\n",
      "\u001b[0;32m~/Project/hu/mlim_group_3_final_assignment/project/Trainset.py\u001b[0m in \u001b[0;36msplit_trainingset_to_X_train_and_y_train\u001b[0;34m(self, training_set)\u001b[0m\n\u001b[1;32m     98\u001b[0m         \u001b[0mX_train\u001b[0m \u001b[0;34m=\u001b[0m \u001b[0mtraining_set\u001b[0m\u001b[0;34m.\u001b[0m\u001b[0mdrop\u001b[0m\u001b[0;34m(\u001b[0m\u001b[0;34m\"week\"\u001b[0m\u001b[0;34m,\u001b[0m \u001b[0minplace\u001b[0m\u001b[0;34m=\u001b[0m\u001b[0;32mTrue\u001b[0m\u001b[0;34m,\u001b[0m \u001b[0maxis\u001b[0m\u001b[0;34m=\u001b[0m\u001b[0;36m1\u001b[0m\u001b[0;34m)\u001b[0m\u001b[0;34m\u001b[0m\u001b[0;34m\u001b[0m\u001b[0m\n\u001b[1;32m     99\u001b[0m \u001b[0;34m\u001b[0m\u001b[0m\n\u001b[0;32m--> 100\u001b[0;31m         \u001b[0mcategorical\u001b[0m \u001b[0;34m=\u001b[0m \u001b[0mX_train\u001b[0m\u001b[0;34m.\u001b[0m\u001b[0mselect_dtypes\u001b[0m\u001b[0;34m(\u001b[0m\u001b[0mexclude\u001b[0m\u001b[0;34m=\u001b[0m\u001b[0mnp\u001b[0m\u001b[0;34m.\u001b[0m\u001b[0mnumber\u001b[0m\u001b[0;34m)\u001b[0m\u001b[0;34m.\u001b[0m\u001b[0mcolumns\u001b[0m\u001b[0;34m.\u001b[0m\u001b[0mtolist\u001b[0m\u001b[0;34m(\u001b[0m\u001b[0;34m)\u001b[0m\u001b[0;34m\u001b[0m\u001b[0;34m\u001b[0m\u001b[0m\n\u001b[0m\u001b[1;32m    101\u001b[0m         \u001b[0;32mfor\u001b[0m \u001b[0mcats\u001b[0m \u001b[0;32min\u001b[0m \u001b[0mcategorical\u001b[0m\u001b[0;34m:\u001b[0m\u001b[0;34m\u001b[0m\u001b[0;34m\u001b[0m\u001b[0m\n\u001b[1;32m    102\u001b[0m             \u001b[0mX_train\u001b[0m\u001b[0;34m[\u001b[0m\u001b[0mcats\u001b[0m\u001b[0;34m]\u001b[0m \u001b[0;34m=\u001b[0m \u001b[0mX_train\u001b[0m\u001b[0;34m[\u001b[0m\u001b[0mcats\u001b[0m\u001b[0;34m]\u001b[0m\u001b[0;34m.\u001b[0m\u001b[0mastype\u001b[0m\u001b[0;34m(\u001b[0m\u001b[0;34m\"category\"\u001b[0m\u001b[0;34m)\u001b[0m\u001b[0;34m\u001b[0m\u001b[0;34m\u001b[0m\u001b[0m\n",
      "\u001b[0;31mAttributeError\u001b[0m: 'NoneType' object has no attribute 'select_dtypes'"
     ]
    }
   ],
   "source": [
    "# X_train, y_train\n",
    "X_train, y_train = train_t.split_trainingset_to_X_train_and_y_train(training_set)\n",
    "print(X_train.head(2))\n",
    "print(y_train.head(2))"
   ]
  },
  {
   "cell_type": "markdown",
   "metadata": {},
   "source": [
    "## Testing Set"
   ]
  },
  {
   "cell_type": "code",
   "execution_count": null,
   "metadata": {},
   "outputs": [],
   "source": [
    "# testing table\n",
    "test_t = Testset(baskets_test, coupons_test)"
   ]
  },
  {
   "cell_type": "code",
   "execution_count": null,
   "metadata": {},
   "outputs": [],
   "source": [
    "# full_df_test\n",
    "full_df_test = test_t.generate_full_df_test()"
   ]
  },
  {
   "cell_type": "code",
   "execution_count": null,
   "metadata": {},
   "outputs": [],
   "source": [
    "## featureless_testing_set\n",
    "df1 = pd.DataFrame({'key': np.ones(len(self.baskets_test[\"week\"].unique())), 'week': self.baskets_test[\"week\"].unique()})\n",
    "df2 = pd.DataFrame({'key': np.ones(self.num_shoppers), 'shopper': list(range(self.num_shoppers))})\n",
    "df3 = pd.DataFrame({'key': np.ones(250), 'product': list(range(250))})\n",
    "\n",
    "featureless_testing_set = (pd\n",
    "    .merge(df1, df2, on='key')\n",
    "    .merge(df3, on='key')\n",
    "    .merge(prods_cat_table, on='product')\n",
    "    .merge(full_df_test, on=['week', 'shopper', 'product', 'category'], how='left')[full_df_test.columns]\n",
    "    )\n",
    "\n",
    "print(\"----- featureless testing set -----\")\n",
    "print(featureless_testing_set.head(2))"
   ]
  },
  {
   "cell_type": "code",
   "execution_count": null,
   "metadata": {},
   "outputs": [],
   "source": [
    "# Generate testing set\n",
    "testing_set = test_t.generate_training_set(\n",
    "    prods_cat_table,\n",
    "    original_price,\n",
    "    total_count_of_product,\n",
    "    reordered_product,\n",
    "    category_count,\n",
    "    reordered_category,\n",
    "    coupon_in_same_category,\n",
    "    average_price_per_shopper,\n",
    "    average_basket_size,\n",
    "    unique_products_per_shopper,\n",
    "    unique_categories_per_shopper,\n",
    "    training_set\n",
    "#     ratio_of_reordered_products_per_shopper,\n",
    "#     ratio_of_reordered_categories_per_shopper,\n",
    ")"
   ]
  },
  {
   "cell_type": "code",
   "execution_count": null,
   "metadata": {},
   "outputs": [],
   "source": [
    "X_test, y_test = test_t.split_testingset_to_X_test_and_y_test(testing_set)\n",
    "print(X_test.head(2))\n",
    "print(y_test.head(2))"
   ]
  },
  {
   "cell_type": "markdown",
   "metadata": {},
   "source": [
    "## Trainer"
   ]
  },
  {
   "cell_type": "code",
   "execution_count": null,
   "metadata": {},
   "outputs": [],
   "source": [
    "trainer = Trainer(X_train, y_train, X_test, y_test)"
   ]
  },
  {
   "cell_type": "code",
   "execution_count": null,
   "metadata": {},
   "outputs": [],
   "source": [
    "model = trainer.fit_model()"
   ]
  },
  {
   "cell_type": "code",
   "execution_count": null,
   "metadata": {},
   "outputs": [],
   "source": []
  }
 ],
 "metadata": {
  "kernelspec": {
   "display_name": "Python 3",
   "language": "python",
   "name": "python3"
  },
  "language_info": {
   "codemirror_mode": {
    "name": "ipython",
    "version": 3
   },
   "file_extension": ".py",
   "mimetype": "text/x-python",
   "name": "python",
   "nbconvert_exporter": "python",
   "pygments_lexer": "ipython3",
   "version": "3.8.5"
  }
 },
 "nbformat": 4,
 "nbformat_minor": 4
}
