{
 "cells": [
  {
   "cell_type": "code",
   "execution_count": 1,
   "metadata": {},
   "outputs": [],
   "source": [
    "from dataloader import Dataloader\n",
    "import pandas as pd\n",
    "import os\n",
    "\n",
    "pd.options.mode.chained_assignment = None  # default='warn'\n"
   ]
  },
  {
   "cell_type": "code",
   "execution_count": 2,
   "metadata": {},
   "outputs": [],
   "source": [
    "# Load Data\n",
    "path = os.getcwd() + \"/../data/\"\n",
    "\n",
    "# load data which creates baskets and coupons\n",
    "data = Dataloader(path)"
   ]
  },
  {
   "cell_type": "code",
   "execution_count": 3,
   "metadata": {},
   "outputs": [],
   "source": [
    "# Create Categories before CV as they don't change and consume time otherwise\n",
    "data.create_category_table(2000)"
   ]
  },
  {
   "cell_type": "code",
   "execution_count": 4,
   "metadata": {
    "collapsed": true,
    "jupyter": {
     "outputs_hidden": true
    }
   },
   "outputs": [],
   "source": [
    "# weeks = [87, 88, 89]\n",
    "weeks = [89]\n",
    "# shopper_list = list(range(2000))\n",
    "# shopper_chunks = [shopper_list[i:i + 100] for i in range(0, len(shopper_list), 100)]\n",
    "shopper_chunks = [list(range(100))]\n",
    "\n",
    "for week in weeks:\n",
    "    for shopper in shopper_chunks:\n",
    "        # train-test-split\n",
    "        data.train_test_split(week, shopper)\n",
    "\n",
    "        # data add categories \n",
    "        data.add_categories()\n",
    "\n",
    "        # create features\n",
    "        data.create_feature_dict()\n",
    "\n",
    "        # combine everything\n",
    "        X_train, y_train, X_test, y_test = data.make_featured_data()"
   ]
  },
  {
   "cell_type": "code",
   "execution_count": 5,
   "outputs": [
    {
     "data": {
      "text/plain": "  shopper product  price category  discount coupon  original_price  \\\n0       0       0  688.0       23       0.0     No             688   \n1       1       0  688.0       23       0.0     No             688   \n2       2       0  688.0       23       0.0     No             688   \n3       3       0  688.0       23       0.0     No             688   \n4       4       0  688.0       23       0.0     No             688   \n\n   total_count_of_product  reordered_product  category_count  ...  (23,)  \\\n0                       0                0.0               8  ...    1.0   \n1                       6                1.0              28  ...    1.0   \n2                       0                0.0              53  ...    0.0   \n3                       0                0.0              37  ...    0.0   \n4                       0                0.0               8  ...    0.0   \n\n  (24,)  ratio_of_reordered_products  ratio_of_reordered_categories  \\\n0   0.0                     0.722222                       0.960000   \n1   0.0                     0.830986                       1.000000   \n2   0.0                     0.700000                       0.954545   \n3   1.0                     0.714286                       1.000000   \n4   0.0                     0.764706                       1.000000   \n\n   average_price_per_shopper  average_basket_size  \\\n0                 587.203947             8.539326   \n1                 584.065350             7.393258   \n2                 571.918919             5.820225   \n3                 561.846361             8.337079   \n4                 583.750455             6.168539   \n\n   unique_products_per_shopper  unique_categories_per_shopper  \\\n0                           54                             25   \n1                           71                             24   \n2                           60                             22   \n3                           91                             24   \n4                           34                             20   \n\n   weeks_since_prior_product_order  weeks_since_prior_category_order  \n0                                1                                 1  \n1                                1                                 1  \n2                                1                                 1  \n3                                1                                 1  \n4                                1                                 1  \n\n[5 rows x 46 columns]",
      "text/html": "<div>\n<style scoped>\n    .dataframe tbody tr th:only-of-type {\n        vertical-align: middle;\n    }\n\n    .dataframe tbody tr th {\n        vertical-align: top;\n    }\n\n    .dataframe thead th {\n        text-align: right;\n    }\n</style>\n<table border=\"1\" class=\"dataframe\">\n  <thead>\n    <tr style=\"text-align: right;\">\n      <th></th>\n      <th>shopper</th>\n      <th>product</th>\n      <th>price</th>\n      <th>category</th>\n      <th>discount</th>\n      <th>coupon</th>\n      <th>original_price</th>\n      <th>total_count_of_product</th>\n      <th>reordered_product</th>\n      <th>category_count</th>\n      <th>...</th>\n      <th>(23,)</th>\n      <th>(24,)</th>\n      <th>ratio_of_reordered_products</th>\n      <th>ratio_of_reordered_categories</th>\n      <th>average_price_per_shopper</th>\n      <th>average_basket_size</th>\n      <th>unique_products_per_shopper</th>\n      <th>unique_categories_per_shopper</th>\n      <th>weeks_since_prior_product_order</th>\n      <th>weeks_since_prior_category_order</th>\n    </tr>\n  </thead>\n  <tbody>\n    <tr>\n      <th>0</th>\n      <td>0</td>\n      <td>0</td>\n      <td>688.0</td>\n      <td>23</td>\n      <td>0.0</td>\n      <td>No</td>\n      <td>688</td>\n      <td>0</td>\n      <td>0.0</td>\n      <td>8</td>\n      <td>...</td>\n      <td>1.0</td>\n      <td>0.0</td>\n      <td>0.722222</td>\n      <td>0.960000</td>\n      <td>587.203947</td>\n      <td>8.539326</td>\n      <td>54</td>\n      <td>25</td>\n      <td>1</td>\n      <td>1</td>\n    </tr>\n    <tr>\n      <th>1</th>\n      <td>1</td>\n      <td>0</td>\n      <td>688.0</td>\n      <td>23</td>\n      <td>0.0</td>\n      <td>No</td>\n      <td>688</td>\n      <td>6</td>\n      <td>1.0</td>\n      <td>28</td>\n      <td>...</td>\n      <td>1.0</td>\n      <td>0.0</td>\n      <td>0.830986</td>\n      <td>1.000000</td>\n      <td>584.065350</td>\n      <td>7.393258</td>\n      <td>71</td>\n      <td>24</td>\n      <td>1</td>\n      <td>1</td>\n    </tr>\n    <tr>\n      <th>2</th>\n      <td>2</td>\n      <td>0</td>\n      <td>688.0</td>\n      <td>23</td>\n      <td>0.0</td>\n      <td>No</td>\n      <td>688</td>\n      <td>0</td>\n      <td>0.0</td>\n      <td>53</td>\n      <td>...</td>\n      <td>0.0</td>\n      <td>0.0</td>\n      <td>0.700000</td>\n      <td>0.954545</td>\n      <td>571.918919</td>\n      <td>5.820225</td>\n      <td>60</td>\n      <td>22</td>\n      <td>1</td>\n      <td>1</td>\n    </tr>\n    <tr>\n      <th>3</th>\n      <td>3</td>\n      <td>0</td>\n      <td>688.0</td>\n      <td>23</td>\n      <td>0.0</td>\n      <td>No</td>\n      <td>688</td>\n      <td>0</td>\n      <td>0.0</td>\n      <td>37</td>\n      <td>...</td>\n      <td>0.0</td>\n      <td>1.0</td>\n      <td>0.714286</td>\n      <td>1.000000</td>\n      <td>561.846361</td>\n      <td>8.337079</td>\n      <td>91</td>\n      <td>24</td>\n      <td>1</td>\n      <td>1</td>\n    </tr>\n    <tr>\n      <th>4</th>\n      <td>4</td>\n      <td>0</td>\n      <td>688.0</td>\n      <td>23</td>\n      <td>0.0</td>\n      <td>No</td>\n      <td>688</td>\n      <td>0</td>\n      <td>0.0</td>\n      <td>8</td>\n      <td>...</td>\n      <td>0.0</td>\n      <td>0.0</td>\n      <td>0.764706</td>\n      <td>1.000000</td>\n      <td>583.750455</td>\n      <td>6.168539</td>\n      <td>34</td>\n      <td>20</td>\n      <td>1</td>\n      <td>1</td>\n    </tr>\n  </tbody>\n</table>\n<p>5 rows × 46 columns</p>\n</div>"
     },
     "execution_count": 5,
     "metadata": {},
     "output_type": "execute_result"
    }
   ],
   "source": [
    "X_train.head()"
   ],
   "metadata": {
    "collapsed": false,
    "pycharm": {
     "name": "#%%\n"
    }
   }
  },
  {
   "cell_type": "code",
   "execution_count": null,
   "outputs": [],
   "source": [],
   "metadata": {
    "collapsed": false,
    "pycharm": {
     "name": "#%%\n"
    }
   }
  },
  {
   "cell_type": "code",
   "execution_count": null,
   "outputs": [],
   "source": [
    "# # Too large to port all\n",
    "# X_train.head(100000).to_excel(\"X_train.xlsx\")\n",
    "# X_train.head(10000).to_excel(\"X_train.xlsx\")"
   ],
   "metadata": {
    "collapsed": false,
    "pycharm": {
     "name": "#%%\n"
    }
   }
  },
  {
   "cell_type": "code",
   "execution_count": null,
   "outputs": [],
   "source": [],
   "metadata": {
    "collapsed": false,
    "pycharm": {
     "name": "#%%\n"
    }
   }
  }
 ],
 "metadata": {
  "kernelspec": {
   "display_name": "Python 3",
   "language": "python",
   "name": "python3"
  },
  "language_info": {
   "codemirror_mode": {
    "name": "ipython",
    "version": 3
   },
   "file_extension": ".py",
   "mimetype": "text/x-python",
   "name": "python",
   "nbconvert_exporter": "python",
   "pygments_lexer": "ipython3",
   "version": "3.7.6"
  }
 },
 "nbformat": 4,
 "nbformat_minor": 4
}