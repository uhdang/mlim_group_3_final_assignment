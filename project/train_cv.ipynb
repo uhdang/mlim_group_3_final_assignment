{
 "cells": [
  {
   "cell_type": "code",
   "execution_count": 1,
   "metadata": {},
   "outputs": [],
   "source": [
    "from dataloader import Dataloader\n",
    "import pandas as pd\n",
    "import os"
   ]
  },
  {
   "cell_type": "code",
   "execution_count": 2,
   "metadata": {},
   "outputs": [],
   "source": [
    "# Load Data\n",
    "path = os.getcwd() + \"/../data/\"\n",
    "\n",
    "# load data which creates baskets and coupons\n",
    "data = Dataloader(path)"
   ]
  },
  {
   "cell_type": "code",
   "execution_count": 3,
   "metadata": {},
   "outputs": [],
   "source": [
    "# Create Categories before CV as they don't change and consume time otherwiser\n",
    "data.create_category_table(2000)"
   ]
  },
  {
   "cell_type": "code",
   "execution_count": 4,
   "metadata": {
    "collapsed": true,
    "jupyter": {
     "outputs_hidden": true
    }
   },
   "outputs": [
    {
     "name": "stderr",
     "output_type": "stream",
     "text": [
      "F:\\OneDrive - HU\\OneDrive - Humboldt-Universitaet zu Berlin, CMS\\Studium\\Machine Learning in Marketing\\mlim_group_3_final_assignment\\mlim_group_3_final_assignment\\project\\dataloader.py:130: SettingWithCopyWarning: \n",
      "A value is trying to be set on a copy of a slice from a DataFrame.\n",
      "Try using .loc[row_indexer,col_indexer] = value instead\n",
      "\n",
      "See the caveats in the documentation: https://pandas.pydata.org/pandas-docs/stable/user_guide/indexing.html#returning-a-view-versus-a-copy\n",
      "  data[column] = data[column].astype('category')\n",
      "F:\\OneDrive - HU\\OneDrive - Humboldt-Universitaet zu Berlin, CMS\\Studium\\Machine Learning in Marketing\\mlim_group_3_final_assignment\\mlim_group_3_final_assignment\\project\\dataloader.py:132: SettingWithCopyWarning: \n",
      "A value is trying to be set on a copy of a slice from a DataFrame.\n",
      "Try using .loc[row_indexer,col_indexer] = value instead\n",
      "\n",
      "See the caveats in the documentation: https://pandas.pydata.org/pandas-docs/stable/user_guide/indexing.html#returning-a-view-versus-a-copy\n",
      "  data[column] = data[column].cat.remove_unused_categories()\n",
      "F:\\OneDrive - HU\\OneDrive - Humboldt-Universitaet zu Berlin, CMS\\Studium\\Machine Learning in Marketing\\mlim_group_3_final_assignment\\mlim_group_3_final_assignment\\project\\dataloader.py:162: SettingWithCopyWarning: \n",
      "A value is trying to be set on a copy of a slice from a DataFrame.\n",
      "Try using .loc[row_indexer,col_indexer] = value instead\n",
      "\n",
      "See the caveats in the documentation: https://pandas.pydata.org/pandas-docs/stable/user_guide/indexing.html#returning-a-view-versus-a-copy\n",
      "  data_split[\"target\"] = 1\n",
      "F:\\OneDrive - HU\\OneDrive - Humboldt-Universitaet zu Berlin, CMS\\Studium\\Machine Learning in Marketing\\mlim_group_3_final_assignment\\mlim_group_3_final_assignment\\project\\dataloader.py:130: SettingWithCopyWarning: \n",
      "A value is trying to be set on a copy of a slice from a DataFrame.\n",
      "Try using .loc[row_indexer,col_indexer] = value instead\n",
      "\n",
      "See the caveats in the documentation: https://pandas.pydata.org/pandas-docs/stable/user_guide/indexing.html#returning-a-view-versus-a-copy\n",
      "  data[column] = data[column].astype('category')\n",
      "F:\\OneDrive - HU\\OneDrive - Humboldt-Universitaet zu Berlin, CMS\\Studium\\Machine Learning in Marketing\\mlim_group_3_final_assignment\\mlim_group_3_final_assignment\\project\\dataloader.py:132: SettingWithCopyWarning: \n",
      "A value is trying to be set on a copy of a slice from a DataFrame.\n",
      "Try using .loc[row_indexer,col_indexer] = value instead\n",
      "\n",
      "See the caveats in the documentation: https://pandas.pydata.org/pandas-docs/stable/user_guide/indexing.html#returning-a-view-versus-a-copy\n",
      "  data[column] = data[column].cat.remove_unused_categories()\n",
      "F:\\OneDrive - HU\\OneDrive - Humboldt-Universitaet zu Berlin, CMS\\Studium\\Machine Learning in Marketing\\mlim_group_3_final_assignment\\mlim_group_3_final_assignment\\project\\dataloader.py:162: SettingWithCopyWarning: \n",
      "A value is trying to be set on a copy of a slice from a DataFrame.\n",
      "Try using .loc[row_indexer,col_indexer] = value instead\n",
      "\n",
      "See the caveats in the documentation: https://pandas.pydata.org/pandas-docs/stable/user_guide/indexing.html#returning-a-view-versus-a-copy\n",
      "  data_split[\"target\"] = 1\n",
      "F:\\OneDrive - HU\\OneDrive - Humboldt-Universitaet zu Berlin, CMS\\Studium\\Machine Learning in Marketing\\mlim_group_3_final_assignment\\mlim_group_3_final_assignment\\project\\dataloader.py:130: SettingWithCopyWarning: \n",
      "A value is trying to be set on a copy of a slice from a DataFrame.\n",
      "Try using .loc[row_indexer,col_indexer] = value instead\n",
      "\n",
      "See the caveats in the documentation: https://pandas.pydata.org/pandas-docs/stable/user_guide/indexing.html#returning-a-view-versus-a-copy\n",
      "  data[column] = data[column].astype('category')\n",
      "F:\\OneDrive - HU\\OneDrive - Humboldt-Universitaet zu Berlin, CMS\\Studium\\Machine Learning in Marketing\\mlim_group_3_final_assignment\\mlim_group_3_final_assignment\\project\\dataloader.py:132: SettingWithCopyWarning: \n",
      "A value is trying to be set on a copy of a slice from a DataFrame.\n",
      "Try using .loc[row_indexer,col_indexer] = value instead\n",
      "\n",
      "See the caveats in the documentation: https://pandas.pydata.org/pandas-docs/stable/user_guide/indexing.html#returning-a-view-versus-a-copy\n",
      "  data[column] = data[column].cat.remove_unused_categories()\n",
      "F:\\OneDrive - HU\\OneDrive - Humboldt-Universitaet zu Berlin, CMS\\Studium\\Machine Learning in Marketing\\mlim_group_3_final_assignment\\mlim_group_3_final_assignment\\project\\dataloader.py:130: SettingWithCopyWarning: \n",
      "A value is trying to be set on a copy of a slice from a DataFrame.\n",
      "Try using .loc[row_indexer,col_indexer] = value instead\n",
      "\n",
      "See the caveats in the documentation: https://pandas.pydata.org/pandas-docs/stable/user_guide/indexing.html#returning-a-view-versus-a-copy\n",
      "  data[column] = data[column].astype('category')\n",
      "F:\\OneDrive - HU\\OneDrive - Humboldt-Universitaet zu Berlin, CMS\\Studium\\Machine Learning in Marketing\\mlim_group_3_final_assignment\\mlim_group_3_final_assignment\\project\\dataloader.py:132: SettingWithCopyWarning: \n",
      "A value is trying to be set on a copy of a slice from a DataFrame.\n",
      "Try using .loc[row_indexer,col_indexer] = value instead\n",
      "\n",
      "See the caveats in the documentation: https://pandas.pydata.org/pandas-docs/stable/user_guide/indexing.html#returning-a-view-versus-a-copy\n",
      "  data[column] = data[column].cat.remove_unused_categories()\n"
     ]
    }
   ],
   "source": [
    "# weeks = [87, 88, 89]\n",
    "weeks = [89]\n",
    "# shopper_list = list(range(2000))\n",
    "# shopper_chunks = [shopper_list[i:i + 100] for i in range(0, len(shopper_list), 100)]\n",
    "shopper_chunks = [[list(range(100))]]\n",
    "\n",
    "for week in weeks:\n",
    "    for shopper in shopper_chunks:\n",
    "        # train-test-split\n",
    "        data.train_test_split(week, shopper)\n",
    "\n",
    "        # data add categories \n",
    "        data.add_categories()\n",
    "\n",
    "        # create features\n",
    "        data.create_feature_dict()\n",
    "\n",
    "        # combine everything\n",
    "        X_train, y_train, X_test, y_test = data.make_featured_data()\n",
    "        \n",
    "        "
   ]
  },
  {
   "cell_type": "code",
   "execution_count": null,
   "metadata": {},
   "outputs": [],
   "source": []
  }
 ],
 "metadata": {
  "kernelspec": {
   "display_name": "Python 3",
   "language": "python",
   "name": "python3"
  },
  "language_info": {
   "codemirror_mode": {
    "name": "ipython",
    "version": 3
   },
   "file_extension": ".py",
   "mimetype": "text/x-python",
   "name": "python",
   "nbconvert_exporter": "python",
   "pygments_lexer": "ipython3",
   "version": "3.7.6"
  }
 },
 "nbformat": 4,
 "nbformat_minor": 4
}
