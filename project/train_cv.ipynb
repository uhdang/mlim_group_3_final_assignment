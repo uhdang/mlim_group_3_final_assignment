{
 "metadata": {
  "language_info": {
   "codemirror_mode": {
    "name": "ipython",
    "version": 3
   },
   "file_extension": ".py",
   "mimetype": "text/x-python",
   "name": "python",
   "nbconvert_exporter": "python",
   "pygments_lexer": "ipython3",
   "version": "3.7.6-final"
  },
  "orig_nbformat": 2,
  "kernelspec": {
   "name": "python3",
   "display_name": "Python 3.7.6 64-bit (conda)",
   "metadata": {
    "interpreter": {
     "hash": "4905652b14e4b7eb92899b78ac499a22c488804455b27940a322fd82aaf71031"
    }
   }
  }
 },
 "nbformat": 4,
 "nbformat_minor": 2,
 "cells": [
  {
   "cell_type": "code",
   "execution_count": 1,
   "metadata": {},
   "outputs": [],
   "source": [
    "from dataloader import Dataloader\n",
    "import pandas as pd"
   ]
  },
  {
   "cell_type": "code",
   "execution_count": 2,
   "metadata": {},
   "outputs": [],
   "source": [
    "# Load Data\n",
    "path = os.getcwd() + \"/../data/\"\n",
    "\n",
    "# load data which creates baskets and coupons\n",
    "data = Dataloader(path)"
   ]
  },
  {
   "cell_type": "code",
   "execution_count": 3,
   "metadata": {},
   "outputs": [
    {
     "output_type": "stream",
     "name": "stderr",
     "text": [
      "f:\\OneDrive - HU\\OneDrive - Humboldt-Universitaet zu Berlin, CMS\\Studium\\Machine Learning in Marketing\\mlim_group_3_final_assignment\\mlim_group_3_final_assignment\\project\\make_data.py:129: SettingWithCopyWarning: \n",
      "A value is trying to be set on a copy of a slice from a DataFrame.\n",
      "Try using .loc[row_indexer,col_indexer] = value instead\n",
      "\n",
      "See the caveats in the documentation: https://pandas.pydata.org/pandas-docs/stable/user_guide/indexing.html#returning-a-view-versus-a-copy\n",
      "  data[column] = data[column].astype('category')\n",
      "f:\\OneDrive - HU\\OneDrive - Humboldt-Universitaet zu Berlin, CMS\\Studium\\Machine Learning in Marketing\\mlim_group_3_final_assignment\\mlim_group_3_final_assignment\\project\\make_data.py:131: SettingWithCopyWarning: \n",
      "A value is trying to be set on a copy of a slice from a DataFrame.\n",
      "Try using .loc[row_indexer,col_indexer] = value instead\n",
      "\n",
      "See the caveats in the documentation: https://pandas.pydata.org/pandas-docs/stable/user_guide/indexing.html#returning-a-view-versus-a-copy\n",
      "  data[column] = data[column].cat.remove_unused_categories()\n",
      "f:\\OneDrive - HU\\OneDrive - Humboldt-Universitaet zu Berlin, CMS\\Studium\\Machine Learning in Marketing\\mlim_group_3_final_assignment\\mlim_group_3_final_assignment\\project\\make_data.py:161: SettingWithCopyWarning: \n",
      "A value is trying to be set on a copy of a slice from a DataFrame.\n",
      "Try using .loc[row_indexer,col_indexer] = value instead\n",
      "\n",
      "See the caveats in the documentation: https://pandas.pydata.org/pandas-docs/stable/user_guide/indexing.html#returning-a-view-versus-a-copy\n",
      "  data_split[\"target\"] = 1\n",
      "f:\\OneDrive - HU\\OneDrive - Humboldt-Universitaet zu Berlin, CMS\\Studium\\Machine Learning in Marketing\\mlim_group_3_final_assignment\\mlim_group_3_final_assignment\\project\\make_data.py:129: SettingWithCopyWarning: \n",
      "A value is trying to be set on a copy of a slice from a DataFrame.\n",
      "Try using .loc[row_indexer,col_indexer] = value instead\n",
      "\n",
      "See the caveats in the documentation: https://pandas.pydata.org/pandas-docs/stable/user_guide/indexing.html#returning-a-view-versus-a-copy\n",
      "  data[column] = data[column].astype('category')\n",
      "f:\\OneDrive - HU\\OneDrive - Humboldt-Universitaet zu Berlin, CMS\\Studium\\Machine Learning in Marketing\\mlim_group_3_final_assignment\\mlim_group_3_final_assignment\\project\\make_data.py:131: SettingWithCopyWarning: \n",
      "A value is trying to be set on a copy of a slice from a DataFrame.\n",
      "Try using .loc[row_indexer,col_indexer] = value instead\n",
      "\n",
      "See the caveats in the documentation: https://pandas.pydata.org/pandas-docs/stable/user_guide/indexing.html#returning-a-view-versus-a-copy\n",
      "  data[column] = data[column].cat.remove_unused_categories()\n",
      "f:\\OneDrive - HU\\OneDrive - Humboldt-Universitaet zu Berlin, CMS\\Studium\\Machine Learning in Marketing\\mlim_group_3_final_assignment\\mlim_group_3_final_assignment\\project\\make_data.py:161: SettingWithCopyWarning: \n",
      "A value is trying to be set on a copy of a slice from a DataFrame.\n",
      "Try using .loc[row_indexer,col_indexer] = value instead\n",
      "\n",
      "See the caveats in the documentation: https://pandas.pydata.org/pandas-docs/stable/user_guide/indexing.html#returning-a-view-versus-a-copy\n",
      "  data_split[\"target\"] = 1\n",
      "f:\\OneDrive - HU\\OneDrive - Humboldt-Universitaet zu Berlin, CMS\\Studium\\Machine Learning in Marketing\\mlim_group_3_final_assignment\\mlim_group_3_final_assignment\\project\\make_data.py:129: SettingWithCopyWarning: \n",
      "A value is trying to be set on a copy of a slice from a DataFrame.\n",
      "Try using .loc[row_indexer,col_indexer] = value instead\n",
      "\n",
      "See the caveats in the documentation: https://pandas.pydata.org/pandas-docs/stable/user_guide/indexing.html#returning-a-view-versus-a-copy\n",
      "  data[column] = data[column].astype('category')\n",
      "f:\\OneDrive - HU\\OneDrive - Humboldt-Universitaet zu Berlin, CMS\\Studium\\Machine Learning in Marketing\\mlim_group_3_final_assignment\\mlim_group_3_final_assignment\\project\\make_data.py:131: SettingWithCopyWarning: \n",
      "A value is trying to be set on a copy of a slice from a DataFrame.\n",
      "Try using .loc[row_indexer,col_indexer] = value instead\n",
      "\n",
      "See the caveats in the documentation: https://pandas.pydata.org/pandas-docs/stable/user_guide/indexing.html#returning-a-view-versus-a-copy\n",
      "  data[column] = data[column].cat.remove_unused_categories()\n",
      "f:\\OneDrive - HU\\OneDrive - Humboldt-Universitaet zu Berlin, CMS\\Studium\\Machine Learning in Marketing\\mlim_group_3_final_assignment\\mlim_group_3_final_assignment\\project\\make_data.py:129: SettingWithCopyWarning: \n",
      "A value is trying to be set on a copy of a slice from a DataFrame.\n",
      "Try using .loc[row_indexer,col_indexer] = value instead\n",
      "\n",
      "See the caveats in the documentation: https://pandas.pydata.org/pandas-docs/stable/user_guide/indexing.html#returning-a-view-versus-a-copy\n",
      "  data[column] = data[column].astype('category')\n",
      "f:\\OneDrive - HU\\OneDrive - Humboldt-Universitaet zu Berlin, CMS\\Studium\\Machine Learning in Marketing\\mlim_group_3_final_assignment\\mlim_group_3_final_assignment\\project\\make_data.py:131: SettingWithCopyWarning: \n",
      "A value is trying to be set on a copy of a slice from a DataFrame.\n",
      "Try using .loc[row_indexer,col_indexer] = value instead\n",
      "\n",
      "See the caveats in the documentation: https://pandas.pydata.org/pandas-docs/stable/user_guide/indexing.html#returning-a-view-versus-a-copy\n",
      "  data[column] = data[column].cat.remove_unused_categories()\n"
     ]
    }
   ],
   "source": [
    "# train-test-split\n",
    "data.train_test_split()"
   ]
  },
  {
   "cell_type": "code",
   "execution_count": 4,
   "metadata": {},
   "outputs": [],
   "source": [
    "# data.create_category_table() \n",
    "data.add_categories()"
   ]
  },
  {
   "cell_type": "code",
   "execution_count": 5,
   "metadata": {},
   "outputs": [],
   "source": [
    "data.create_feature_dict()"
   ]
  },
  {
   "cell_type": "code",
   "execution_count": 6,
   "metadata": {},
   "outputs": [],
   "source": [
    "X_train, y_train, X_test, y_test = data.make_featured_data()"
   ]
  },
  {
   "cell_type": "code",
   "execution_count": 17,
   "metadata": {},
   "outputs": [
    {
     "output_type": "stream",
     "name": "stdout",
     "text": [
      "(2225000, 20)\n"
     ]
    },
    {
     "output_type": "execute_result",
     "data": {
      "text/plain": [
       "  shopper product  price category  discount coupon  original_price  \\\n",
       "0       0       0  688.0       14       0.0     No             688   \n",
       "1       1       0  688.0       14       0.0     No             688   \n",
       "2       2       0  688.0       14       0.0     No             688   \n",
       "3       3       0  688.0       14       0.0     No             688   \n",
       "4       4       0  688.0       14       0.0     No             688   \n",
       "\n",
       "   total_count_of_product  reordered_product  category_count  \\\n",
       "0                       0                0.0              76   \n",
       "1                       6                1.0              99   \n",
       "2                       0                0.0               8   \n",
       "3                       0                0.0             117   \n",
       "4                       0                0.0              27   \n",
       "\n",
       "   reordered_category coupon_in_same_category  ratio_of_reordered_products  \\\n",
       "0                 1.0                      No                     0.722222   \n",
       "1                 1.0                      No                     0.830986   \n",
       "2                 1.0                     Yes                     0.700000   \n",
       "3                 1.0                     Yes                     0.714286   \n",
       "4                 1.0                      No                     0.764706   \n",
       "\n",
       "   ratio_of_reordered_categories  average_price_per_shopper  \\\n",
       "0                       0.900000                 587.203947   \n",
       "1                       1.000000                 584.065350   \n",
       "2                       0.826087                 571.918919   \n",
       "3                       0.954545                 561.846361   \n",
       "4                       0.764706                 583.750455   \n",
       "\n",
       "   average_basket_size  unique_products_per_shopper  \\\n",
       "0             8.539326                           54   \n",
       "1             7.393258                           71   \n",
       "2             5.820225                           60   \n",
       "3             8.337079                           91   \n",
       "4             6.168539                           34   \n",
       "\n",
       "   unique_categories_per_shopper  weeks_since_prior_product_order  \\\n",
       "0                             20                                1   \n",
       "1                             21                                1   \n",
       "2                             23                                1   \n",
       "3                             22                                1   \n",
       "4                             17                                1   \n",
       "\n",
       "   weeks_since_prior_category_order  \n",
       "0                                 1  \n",
       "1                                 1  \n",
       "2                                 1  \n",
       "3                                 1  \n",
       "4                                 1  "
      ],
      "text/html": "<div>\n<style scoped>\n    .dataframe tbody tr th:only-of-type {\n        vertical-align: middle;\n    }\n\n    .dataframe tbody tr th {\n        vertical-align: top;\n    }\n\n    .dataframe thead th {\n        text-align: right;\n    }\n</style>\n<table border=\"1\" class=\"dataframe\">\n  <thead>\n    <tr style=\"text-align: right;\">\n      <th></th>\n      <th>shopper</th>\n      <th>product</th>\n      <th>price</th>\n      <th>category</th>\n      <th>discount</th>\n      <th>coupon</th>\n      <th>original_price</th>\n      <th>total_count_of_product</th>\n      <th>reordered_product</th>\n      <th>category_count</th>\n      <th>reordered_category</th>\n      <th>coupon_in_same_category</th>\n      <th>ratio_of_reordered_products</th>\n      <th>ratio_of_reordered_categories</th>\n      <th>average_price_per_shopper</th>\n      <th>average_basket_size</th>\n      <th>unique_products_per_shopper</th>\n      <th>unique_categories_per_shopper</th>\n      <th>weeks_since_prior_product_order</th>\n      <th>weeks_since_prior_category_order</th>\n    </tr>\n  </thead>\n  <tbody>\n    <tr>\n      <th>0</th>\n      <td>0</td>\n      <td>0</td>\n      <td>688.0</td>\n      <td>14</td>\n      <td>0.0</td>\n      <td>No</td>\n      <td>688</td>\n      <td>0</td>\n      <td>0.0</td>\n      <td>76</td>\n      <td>1.0</td>\n      <td>No</td>\n      <td>0.722222</td>\n      <td>0.900000</td>\n      <td>587.203947</td>\n      <td>8.539326</td>\n      <td>54</td>\n      <td>20</td>\n      <td>1</td>\n      <td>1</td>\n    </tr>\n    <tr>\n      <th>1</th>\n      <td>1</td>\n      <td>0</td>\n      <td>688.0</td>\n      <td>14</td>\n      <td>0.0</td>\n      <td>No</td>\n      <td>688</td>\n      <td>6</td>\n      <td>1.0</td>\n      <td>99</td>\n      <td>1.0</td>\n      <td>No</td>\n      <td>0.830986</td>\n      <td>1.000000</td>\n      <td>584.065350</td>\n      <td>7.393258</td>\n      <td>71</td>\n      <td>21</td>\n      <td>1</td>\n      <td>1</td>\n    </tr>\n    <tr>\n      <th>2</th>\n      <td>2</td>\n      <td>0</td>\n      <td>688.0</td>\n      <td>14</td>\n      <td>0.0</td>\n      <td>No</td>\n      <td>688</td>\n      <td>0</td>\n      <td>0.0</td>\n      <td>8</td>\n      <td>1.0</td>\n      <td>Yes</td>\n      <td>0.700000</td>\n      <td>0.826087</td>\n      <td>571.918919</td>\n      <td>5.820225</td>\n      <td>60</td>\n      <td>23</td>\n      <td>1</td>\n      <td>1</td>\n    </tr>\n    <tr>\n      <th>3</th>\n      <td>3</td>\n      <td>0</td>\n      <td>688.0</td>\n      <td>14</td>\n      <td>0.0</td>\n      <td>No</td>\n      <td>688</td>\n      <td>0</td>\n      <td>0.0</td>\n      <td>117</td>\n      <td>1.0</td>\n      <td>Yes</td>\n      <td>0.714286</td>\n      <td>0.954545</td>\n      <td>561.846361</td>\n      <td>8.337079</td>\n      <td>91</td>\n      <td>22</td>\n      <td>1</td>\n      <td>1</td>\n    </tr>\n    <tr>\n      <th>4</th>\n      <td>4</td>\n      <td>0</td>\n      <td>688.0</td>\n      <td>14</td>\n      <td>0.0</td>\n      <td>No</td>\n      <td>688</td>\n      <td>0</td>\n      <td>0.0</td>\n      <td>27</td>\n      <td>1.0</td>\n      <td>No</td>\n      <td>0.764706</td>\n      <td>0.764706</td>\n      <td>583.750455</td>\n      <td>6.168539</td>\n      <td>34</td>\n      <td>17</td>\n      <td>1</td>\n      <td>1</td>\n    </tr>\n  </tbody>\n</table>\n</div>"
     },
     "metadata": {},
     "execution_count": 17
    }
   ],
   "source": [
    "print(X_train.shape)\n",
    "X_train.head()"
   ]
  },
  {
   "cell_type": "code",
   "execution_count": 16,
   "metadata": {},
   "outputs": [
    {
     "output_type": "stream",
     "name": "stdout",
     "text": [
      "(25000, 20)\n"
     ]
    },
    {
     "output_type": "execute_result",
     "data": {
      "text/plain": [
       "  shopper product  price category  discount coupon  original_price  \\\n",
       "0       0       0  688.0       14       0.0     No             688   \n",
       "1       0       4  620.0       14       0.0     No             620   \n",
       "2       0      28  442.0       14       0.0     No             442   \n",
       "3       0      30  644.0       14       0.0     No             644   \n",
       "4       0      46  523.0       14       0.0     No             523   \n",
       "\n",
       "   total_count_of_product  reordered_product  category_count  \\\n",
       "0                       0                0.0              76   \n",
       "1                       8                1.0              76   \n",
       "2                       0                0.0              76   \n",
       "3                       0                0.0              76   \n",
       "4                       1                0.0              76   \n",
       "\n",
       "   reordered_category coupon_in_same_category  ratio_of_reordered_products  \\\n",
       "0                 1.0                      No                     0.722222   \n",
       "1                 1.0                      No                     0.722222   \n",
       "2                 1.0                      No                     0.722222   \n",
       "3                 1.0                      No                     0.722222   \n",
       "4                 1.0                      No                     0.722222   \n",
       "\n",
       "   ratio_of_reordered_categories  average_price_per_shopper  \\\n",
       "0                            0.9                 587.203947   \n",
       "1                            0.9                 587.203947   \n",
       "2                            0.9                 587.203947   \n",
       "3                            0.9                 587.203947   \n",
       "4                            0.9                 587.203947   \n",
       "\n",
       "   average_basket_size  unique_products_per_shopper  \\\n",
       "0             8.539326                           54   \n",
       "1             8.539326                           54   \n",
       "2             8.539326                           54   \n",
       "3             8.539326                           54   \n",
       "4             8.539326                           54   \n",
       "\n",
       "   unique_categories_per_shopper  weeks_since_prior_product_order  \\\n",
       "0                             20                               90   \n",
       "1                             20                               19   \n",
       "2                             20                               90   \n",
       "3                             20                               90   \n",
       "4                             20                               56   \n",
       "\n",
       "   weeks_since_prior_category_order  \n",
       "0                               416  \n",
       "1                               416  \n",
       "2                               416  \n",
       "3                               416  \n",
       "4                               416  "
      ],
      "text/html": "<div>\n<style scoped>\n    .dataframe tbody tr th:only-of-type {\n        vertical-align: middle;\n    }\n\n    .dataframe tbody tr th {\n        vertical-align: top;\n    }\n\n    .dataframe thead th {\n        text-align: right;\n    }\n</style>\n<table border=\"1\" class=\"dataframe\">\n  <thead>\n    <tr style=\"text-align: right;\">\n      <th></th>\n      <th>shopper</th>\n      <th>product</th>\n      <th>price</th>\n      <th>category</th>\n      <th>discount</th>\n      <th>coupon</th>\n      <th>original_price</th>\n      <th>total_count_of_product</th>\n      <th>reordered_product</th>\n      <th>category_count</th>\n      <th>reordered_category</th>\n      <th>coupon_in_same_category</th>\n      <th>ratio_of_reordered_products</th>\n      <th>ratio_of_reordered_categories</th>\n      <th>average_price_per_shopper</th>\n      <th>average_basket_size</th>\n      <th>unique_products_per_shopper</th>\n      <th>unique_categories_per_shopper</th>\n      <th>weeks_since_prior_product_order</th>\n      <th>weeks_since_prior_category_order</th>\n    </tr>\n  </thead>\n  <tbody>\n    <tr>\n      <th>0</th>\n      <td>0</td>\n      <td>0</td>\n      <td>688.0</td>\n      <td>14</td>\n      <td>0.0</td>\n      <td>No</td>\n      <td>688</td>\n      <td>0</td>\n      <td>0.0</td>\n      <td>76</td>\n      <td>1.0</td>\n      <td>No</td>\n      <td>0.722222</td>\n      <td>0.9</td>\n      <td>587.203947</td>\n      <td>8.539326</td>\n      <td>54</td>\n      <td>20</td>\n      <td>90</td>\n      <td>416</td>\n    </tr>\n    <tr>\n      <th>1</th>\n      <td>0</td>\n      <td>4</td>\n      <td>620.0</td>\n      <td>14</td>\n      <td>0.0</td>\n      <td>No</td>\n      <td>620</td>\n      <td>8</td>\n      <td>1.0</td>\n      <td>76</td>\n      <td>1.0</td>\n      <td>No</td>\n      <td>0.722222</td>\n      <td>0.9</td>\n      <td>587.203947</td>\n      <td>8.539326</td>\n      <td>54</td>\n      <td>20</td>\n      <td>19</td>\n      <td>416</td>\n    </tr>\n    <tr>\n      <th>2</th>\n      <td>0</td>\n      <td>28</td>\n      <td>442.0</td>\n      <td>14</td>\n      <td>0.0</td>\n      <td>No</td>\n      <td>442</td>\n      <td>0</td>\n      <td>0.0</td>\n      <td>76</td>\n      <td>1.0</td>\n      <td>No</td>\n      <td>0.722222</td>\n      <td>0.9</td>\n      <td>587.203947</td>\n      <td>8.539326</td>\n      <td>54</td>\n      <td>20</td>\n      <td>90</td>\n      <td>416</td>\n    </tr>\n    <tr>\n      <th>3</th>\n      <td>0</td>\n      <td>30</td>\n      <td>644.0</td>\n      <td>14</td>\n      <td>0.0</td>\n      <td>No</td>\n      <td>644</td>\n      <td>0</td>\n      <td>0.0</td>\n      <td>76</td>\n      <td>1.0</td>\n      <td>No</td>\n      <td>0.722222</td>\n      <td>0.9</td>\n      <td>587.203947</td>\n      <td>8.539326</td>\n      <td>54</td>\n      <td>20</td>\n      <td>90</td>\n      <td>416</td>\n    </tr>\n    <tr>\n      <th>4</th>\n      <td>0</td>\n      <td>46</td>\n      <td>523.0</td>\n      <td>14</td>\n      <td>0.0</td>\n      <td>No</td>\n      <td>523</td>\n      <td>1</td>\n      <td>0.0</td>\n      <td>76</td>\n      <td>1.0</td>\n      <td>No</td>\n      <td>0.722222</td>\n      <td>0.9</td>\n      <td>587.203947</td>\n      <td>8.539326</td>\n      <td>54</td>\n      <td>20</td>\n      <td>56</td>\n      <td>416</td>\n    </tr>\n  </tbody>\n</table>\n</div>"
     },
     "metadata": {},
     "execution_count": 16
    }
   ],
   "source": [
    "print(X_test.shape)\n",
    "X_test.head()"
   ]
  },
  {
   "cell_type": "code",
   "execution_count": null,
   "metadata": {},
   "outputs": [],
   "source": []
  }
 ]
}