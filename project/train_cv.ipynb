{
 "metadata": {
  "language_info": {
   "codemirror_mode": {
    "name": "ipython",
    "version": 3
   },
   "file_extension": ".py",
   "mimetype": "text/x-python",
   "name": "python",
   "nbconvert_exporter": "python",
   "pygments_lexer": "ipython3",
   "version": "3.7.6-final"
  },
  "orig_nbformat": 2,
  "kernelspec": {
   "name": "python3",
   "language": "python",
   "display_name": "Python 3"
  }
 },
 "nbformat": 4,
 "nbformat_minor": 2,
 "cells": [
  {
   "cell_type": "code",
   "execution_count": 5,
   "metadata": {},
   "outputs": [],
   "source": [
    "from dataloader import Dataloader\n",
    "import pandas as pd\n",
    "import os\n",
    "\n",
    "pd.options.mode.chained_assignment = None  # default='warn'"
   ]
  },
  {
   "cell_type": "code",
   "execution_count": 6,
   "metadata": {},
   "outputs": [],
   "source": [
    "# Load Data\n",
    "path = os.getcwd() + \"/../data/\"\n",
    "\n",
    "# load data which creates baskets and coupons\n",
    "data = Dataloader(path)"
   ]
  },
  {
   "cell_type": "code",
   "execution_count": 7,
   "metadata": {},
   "outputs": [],
   "source": [
    "# train-test-split\n",
    "data.train_test_split()"
   ]
  },
  {
   "cell_type": "code",
   "execution_count": 8,
   "metadata": {},
   "outputs": [],
   "source": [
    "# data.create_category_table() \n",
    "data.add_categories()"
   ]
  },
  {
   "cell_type": "code",
   "execution_count": 9,
   "metadata": {},
   "outputs": [],
   "source": [
    "data.create_feature_dict()"
   ]
  },
  {
   "cell_type": "code",
   "execution_count": 10,
   "metadata": {},
   "outputs": [],
   "source": [
    "X_train, y_train, X_test, y_test = data.make_featured_data()"
   ]
  },
  {
   "cell_type": "code",
   "execution_count": 11,
   "metadata": {},
   "outputs": [
    {
     "name": "stdout",
     "output_type": "stream",
     "text": [
      "(2225000, 20)\n"
     ]
    },
    {
     "data": {
      "text/plain": "  shopper product  price category  discount coupon  original_price  \\\n0       0       0  688.0       23       0.0     No             688   \n1       1       0  688.0       23       0.0     No             688   \n2       2       0  688.0       23       0.0     No             688   \n3       3       0  688.0       23       0.0     No             688   \n4       4       0  688.0       23       0.0     No             688   \n\n   total_count_of_product  reordered_product  category_count  \\\n0                       0                0.0               0   \n1                       6                1.0               7   \n2                       0                0.0               0   \n3                       0                0.0               0   \n4                       0                0.0               0   \n\n   reordered_category coupon_in_same_category  ratio_of_reordered_products  \\\n0                 0.0                      No                     0.722222   \n1                 1.0                      No                     0.830986   \n2                 0.0                      No                     0.700000   \n3                 0.0                      No                     0.714286   \n4                 0.0                      No                     0.764706   \n\n   ratio_of_reordered_categories  average_price_per_shopper  \\\n0                       0.950000                 587.203947   \n1                       1.000000                 584.065350   \n2                       0.863636                 571.918919   \n3                       1.000000                 561.846361   \n4                       0.888889                 583.750455   \n\n   average_basket_size  unique_products_per_shopper  \\\n0             8.539326                           54   \n1             7.393258                           71   \n2             5.820225                           60   \n3             8.337079                           91   \n4             6.168539                           34   \n\n   unique_categories_per_shopper  weeks_since_prior_product_order  \\\n0                             20                                1   \n1                             22                                1   \n2                             22                                1   \n3                             24                                1   \n4                             18                                1   \n\n   weeks_since_prior_category_order  \n0                                 1  \n1                                 1  \n2                                 1  \n3                                 1  \n4                                 1  ",
      "text/html": "<div>\n<style scoped>\n    .dataframe tbody tr th:only-of-type {\n        vertical-align: middle;\n    }\n\n    .dataframe tbody tr th {\n        vertical-align: top;\n    }\n\n    .dataframe thead th {\n        text-align: right;\n    }\n</style>\n<table border=\"1\" class=\"dataframe\">\n  <thead>\n    <tr style=\"text-align: right;\">\n      <th></th>\n      <th>shopper</th>\n      <th>product</th>\n      <th>price</th>\n      <th>category</th>\n      <th>discount</th>\n      <th>coupon</th>\n      <th>original_price</th>\n      <th>total_count_of_product</th>\n      <th>reordered_product</th>\n      <th>category_count</th>\n      <th>reordered_category</th>\n      <th>coupon_in_same_category</th>\n      <th>ratio_of_reordered_products</th>\n      <th>ratio_of_reordered_categories</th>\n      <th>average_price_per_shopper</th>\n      <th>average_basket_size</th>\n      <th>unique_products_per_shopper</th>\n      <th>unique_categories_per_shopper</th>\n      <th>weeks_since_prior_product_order</th>\n      <th>weeks_since_prior_category_order</th>\n    </tr>\n  </thead>\n  <tbody>\n    <tr>\n      <th>0</th>\n      <td>0</td>\n      <td>0</td>\n      <td>688.0</td>\n      <td>23</td>\n      <td>0.0</td>\n      <td>No</td>\n      <td>688</td>\n      <td>0</td>\n      <td>0.0</td>\n      <td>0</td>\n      <td>0.0</td>\n      <td>No</td>\n      <td>0.722222</td>\n      <td>0.950000</td>\n      <td>587.203947</td>\n      <td>8.539326</td>\n      <td>54</td>\n      <td>20</td>\n      <td>1</td>\n      <td>1</td>\n    </tr>\n    <tr>\n      <th>1</th>\n      <td>1</td>\n      <td>0</td>\n      <td>688.0</td>\n      <td>23</td>\n      <td>0.0</td>\n      <td>No</td>\n      <td>688</td>\n      <td>6</td>\n      <td>1.0</td>\n      <td>7</td>\n      <td>1.0</td>\n      <td>No</td>\n      <td>0.830986</td>\n      <td>1.000000</td>\n      <td>584.065350</td>\n      <td>7.393258</td>\n      <td>71</td>\n      <td>22</td>\n      <td>1</td>\n      <td>1</td>\n    </tr>\n    <tr>\n      <th>2</th>\n      <td>2</td>\n      <td>0</td>\n      <td>688.0</td>\n      <td>23</td>\n      <td>0.0</td>\n      <td>No</td>\n      <td>688</td>\n      <td>0</td>\n      <td>0.0</td>\n      <td>0</td>\n      <td>0.0</td>\n      <td>No</td>\n      <td>0.700000</td>\n      <td>0.863636</td>\n      <td>571.918919</td>\n      <td>5.820225</td>\n      <td>60</td>\n      <td>22</td>\n      <td>1</td>\n      <td>1</td>\n    </tr>\n    <tr>\n      <th>3</th>\n      <td>3</td>\n      <td>0</td>\n      <td>688.0</td>\n      <td>23</td>\n      <td>0.0</td>\n      <td>No</td>\n      <td>688</td>\n      <td>0</td>\n      <td>0.0</td>\n      <td>0</td>\n      <td>0.0</td>\n      <td>No</td>\n      <td>0.714286</td>\n      <td>1.000000</td>\n      <td>561.846361</td>\n      <td>8.337079</td>\n      <td>91</td>\n      <td>24</td>\n      <td>1</td>\n      <td>1</td>\n    </tr>\n    <tr>\n      <th>4</th>\n      <td>4</td>\n      <td>0</td>\n      <td>688.0</td>\n      <td>23</td>\n      <td>0.0</td>\n      <td>No</td>\n      <td>688</td>\n      <td>0</td>\n      <td>0.0</td>\n      <td>0</td>\n      <td>0.0</td>\n      <td>No</td>\n      <td>0.764706</td>\n      <td>0.888889</td>\n      <td>583.750455</td>\n      <td>6.168539</td>\n      <td>34</td>\n      <td>18</td>\n      <td>1</td>\n      <td>1</td>\n    </tr>\n  </tbody>\n</table>\n</div>"
     },
     "execution_count": 11,
     "metadata": {},
     "output_type": "execute_result"
    }
   ],
   "source": [
    "print(X_train.shape)\n",
    "X_train.head()"
   ]
  },
  {
   "cell_type": "code",
   "execution_count": 12,
   "metadata": {},
   "outputs": [
    {
     "name": "stdout",
     "output_type": "stream",
     "text": [
      "(25000, 20)\n"
     ]
    },
    {
     "data": {
      "text/plain": "  shopper product  price category  discount coupon  original_price  \\\n0       0       0  688.0       23       0.0     No             688   \n1       0      58  713.0       23       0.0     No             713   \n2       0     150  503.0       23       0.0     No             503   \n3       0     151  496.0       23       0.0     No             496   \n4       0     153  501.0       23       0.0     No             501   \n\n   total_count_of_product  reordered_product  category_count  \\\n0                       0                0.0               0   \n1                       0                0.0               0   \n2                       0                0.0               0   \n3                       0                0.0               0   \n4                       0                0.0               0   \n\n   reordered_category coupon_in_same_category  ratio_of_reordered_products  \\\n0                 0.0                      No                     0.722222   \n1                 0.0                      No                     0.722222   \n2                 0.0                      No                     0.722222   \n3                 0.0                      No                     0.722222   \n4                 0.0                      No                     0.722222   \n\n   ratio_of_reordered_categories  average_price_per_shopper  \\\n0                           0.95                 587.203947   \n1                           0.95                 587.203947   \n2                           0.95                 587.203947   \n3                           0.95                 587.203947   \n4                           0.95                 587.203947   \n\n   average_basket_size  unique_products_per_shopper  \\\n0             8.539326                           54   \n1             8.539326                           54   \n2             8.539326                           54   \n3             8.539326                           54   \n4             8.539326                           54   \n\n   unique_categories_per_shopper  weeks_since_prior_product_order  \\\n0                             20                               90   \n1                             20                               90   \n2                             20                               90   \n3                             20                               90   \n4                             20                               90   \n\n   weeks_since_prior_category_order  \n0                               446  \n1                               446  \n2                               446  \n3                               446  \n4                               446  ",
      "text/html": "<div>\n<style scoped>\n    .dataframe tbody tr th:only-of-type {\n        vertical-align: middle;\n    }\n\n    .dataframe tbody tr th {\n        vertical-align: top;\n    }\n\n    .dataframe thead th {\n        text-align: right;\n    }\n</style>\n<table border=\"1\" class=\"dataframe\">\n  <thead>\n    <tr style=\"text-align: right;\">\n      <th></th>\n      <th>shopper</th>\n      <th>product</th>\n      <th>price</th>\n      <th>category</th>\n      <th>discount</th>\n      <th>coupon</th>\n      <th>original_price</th>\n      <th>total_count_of_product</th>\n      <th>reordered_product</th>\n      <th>category_count</th>\n      <th>reordered_category</th>\n      <th>coupon_in_same_category</th>\n      <th>ratio_of_reordered_products</th>\n      <th>ratio_of_reordered_categories</th>\n      <th>average_price_per_shopper</th>\n      <th>average_basket_size</th>\n      <th>unique_products_per_shopper</th>\n      <th>unique_categories_per_shopper</th>\n      <th>weeks_since_prior_product_order</th>\n      <th>weeks_since_prior_category_order</th>\n    </tr>\n  </thead>\n  <tbody>\n    <tr>\n      <th>0</th>\n      <td>0</td>\n      <td>0</td>\n      <td>688.0</td>\n      <td>23</td>\n      <td>0.0</td>\n      <td>No</td>\n      <td>688</td>\n      <td>0</td>\n      <td>0.0</td>\n      <td>0</td>\n      <td>0.0</td>\n      <td>No</td>\n      <td>0.722222</td>\n      <td>0.95</td>\n      <td>587.203947</td>\n      <td>8.539326</td>\n      <td>54</td>\n      <td>20</td>\n      <td>90</td>\n      <td>446</td>\n    </tr>\n    <tr>\n      <th>1</th>\n      <td>0</td>\n      <td>58</td>\n      <td>713.0</td>\n      <td>23</td>\n      <td>0.0</td>\n      <td>No</td>\n      <td>713</td>\n      <td>0</td>\n      <td>0.0</td>\n      <td>0</td>\n      <td>0.0</td>\n      <td>No</td>\n      <td>0.722222</td>\n      <td>0.95</td>\n      <td>587.203947</td>\n      <td>8.539326</td>\n      <td>54</td>\n      <td>20</td>\n      <td>90</td>\n      <td>446</td>\n    </tr>\n    <tr>\n      <th>2</th>\n      <td>0</td>\n      <td>150</td>\n      <td>503.0</td>\n      <td>23</td>\n      <td>0.0</td>\n      <td>No</td>\n      <td>503</td>\n      <td>0</td>\n      <td>0.0</td>\n      <td>0</td>\n      <td>0.0</td>\n      <td>No</td>\n      <td>0.722222</td>\n      <td>0.95</td>\n      <td>587.203947</td>\n      <td>8.539326</td>\n      <td>54</td>\n      <td>20</td>\n      <td>90</td>\n      <td>446</td>\n    </tr>\n    <tr>\n      <th>3</th>\n      <td>0</td>\n      <td>151</td>\n      <td>496.0</td>\n      <td>23</td>\n      <td>0.0</td>\n      <td>No</td>\n      <td>496</td>\n      <td>0</td>\n      <td>0.0</td>\n      <td>0</td>\n      <td>0.0</td>\n      <td>No</td>\n      <td>0.722222</td>\n      <td>0.95</td>\n      <td>587.203947</td>\n      <td>8.539326</td>\n      <td>54</td>\n      <td>20</td>\n      <td>90</td>\n      <td>446</td>\n    </tr>\n    <tr>\n      <th>4</th>\n      <td>0</td>\n      <td>153</td>\n      <td>501.0</td>\n      <td>23</td>\n      <td>0.0</td>\n      <td>No</td>\n      <td>501</td>\n      <td>0</td>\n      <td>0.0</td>\n      <td>0</td>\n      <td>0.0</td>\n      <td>No</td>\n      <td>0.722222</td>\n      <td>0.95</td>\n      <td>587.203947</td>\n      <td>8.539326</td>\n      <td>54</td>\n      <td>20</td>\n      <td>90</td>\n      <td>446</td>\n    </tr>\n  </tbody>\n</table>\n</div>"
     },
     "execution_count": 12,
     "metadata": {},
     "output_type": "execute_result"
    }
   ],
   "source": [
    "print(X_test.shape)\n",
    "X_test.head()"
   ]
  },
  {
   "cell_type": "code",
   "execution_count": null,
   "metadata": {},
   "outputs": [],
   "source": []
  }
 ]
}