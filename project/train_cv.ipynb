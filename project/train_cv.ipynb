{
 "cells": [
  {
   "cell_type": "markdown",
   "metadata": {
    "colab_type": "text",
    "id": "view-in-github"
   },
   "source": [
    "<a href=\"https://colab.research.google.com/github/uhdang/mlim_group_3_final_assignment/blob/main/project/train_cv.ipynb\" target=\"_parent\"><img src=\"https://colab.research.google.com/assets/colab-badge.svg\" alt=\"Open In Colab\"/></a>"
   ]
  },
  {
   "cell_type": "markdown",
   "metadata": {
    "id": "GZmdD9ENz1rI"
   },
   "source": [
    "TODO:\n",
    "\n",
    "- Downsample training set (reduce method to delete irrelevant rows)\n",
    "- maybe PCA()"
   ]
  },
  {
   "cell_type": "markdown",
   "metadata": {
    "id": "jaaoayvlsm9G"
   },
   "source": [
    "# Google Colab Runtime\n",
    "Run if using Google Colab"
   ]
  },
  {
   "cell_type": "code",
   "execution_count": 1,
   "metadata": {
    "colab": {
     "base_uri": "https://localhost:8080/"
    },
    "id": "86i45kEfms5D",
    "outputId": "763b3965-8780-4417-bbd3-888ac171634c"
   },
   "outputs": [],
   "source": [
    "# # # import pandas as pd\n",
    "# # # \n",
    "# # import numpy as np# \n",
    "# # \n",
    "# import o# s# \n",
    "# \n",
    "# from google.colab import dri# v# e# \n",
    "# \n",
    "# import # s# y# s#\n",
    "# drive.mount('/content/dri# v# e# '# )\n",
    "# sys.path.append('/content/drive/My Drive/My Dri# v# e# '# )\n",
    "#\n",
    "# from dataloader import Dat# a# l# o# ader\n",
    "# # L# o# a# d#  Data\n",
    "# path = \"/content/drive/MyDrive/My Drive/\""
   ]
  },
  {
   "cell_type": "markdown",
   "metadata": {
    "id": "psMpyT8ssu6E"
   },
   "source": [
    "# Local Runtime\n",
    "Run if using notebook locally"
   ]
  },
  {
   "cell_type": "code",
   "execution_count": 1,
   "metadata": {
    "id": "XgbVDmxCmYc_"
   },
   "outputs": [],
   "source": [
    "import pandas as pd\n",
    "import os\n",
    "import optuna.integration.lightgbm as lightgb\n",
    "import pickle\n",
    "import sklearn\n",
    "\n",
    "from sklearn.metrics import roc_auc_score\n",
    "from sklearn.utils import resample\n",
    "from tqdm import tqdm\n",
    "\n",
    "pd.options.mode.chained_assignment = None  # default='warn'\n",
    "\n",
    "from dataloader import Dataloader\n",
    "from dataloader import create_combined_dict\n",
    "\n",
    "\n",
    "# Load Data\n",
    "path = os.getcwd() + \"/../data/\""
   ]
  },
  {
   "cell_type": "markdown",
   "metadata": {
    "id": "STbPksO71J4p"
   },
   "source": [
    "# Load Data"
   ]
  },
  {
   "cell_type": "code",
   "execution_count": 3,
   "metadata": {
    "id": "d1xFPV6hneM7"
   },
   "outputs": [],
   "source": [
    "# load data which creates baskets and coupons\n",
    "data = Dataloader(path)"
   ]
  },
  {
   "cell_type": "code",
   "execution_count": 4,
   "metadata": {
    "id": "gWGa7Or_npeD"
   },
   "outputs": [],
   "source": [
    "# Create Categories before CV as they don't change and consume time otherwise\n",
    "data.create_category_table(10000)"
   ]
  },
  {
   "cell_type": "code",
   "execution_count": 5,
   "metadata": {
    "id": "O3VhVltOnwRD"
   },
   "outputs": [],
   "source": [
    "%%capture\n",
    "weeks = [86, 87, 88, 89]\n",
    "shopper_list = list(range(2000))\n",
    "shopper_chunks = [shopper_list[i:i + 100] for i in range(0, len(shopper_list), 100)]\n",
    "\n",
    "cv_dict = {\n",
    "    'X_train': list(),\n",
    "    'y_train': list(),\n",
    "    'X_test': list(),\n",
    "    'y_test': list()\n",
    "}"
   ]
  },
  {
   "cell_type": "code",
   "execution_count": 6,
   "metadata": {
    "collapsed": false,
    "jupyter": {
     "outputs_hidden": false
    },
    "pycharm": {
     "name": "#%%\n"
    }
   },
   "outputs": [
    {
     "name": "stderr",
     "output_type": "stream",
     "text": [
      "100%|██████████| 20/20 [45:12<00:00, 135.60s/it]\n",
      "100%|██████████| 20/20 [46:07<00:00, 138.35s/it]\n",
      "100%|██████████| 20/20 [49:53<00:00, 149.69s/it] \n",
      "100%|██████████| 20/20 [49:15<00:00, 147.78s/it]\n"
     ]
    },
    {
     "name": "stdout",
     "output_type": "stream",
     "text": [
      "week: 86\n",
      "week: 87\n",
      "week: 88\n",
      "week: 89\n"
     ]
    }
   ],
   "source": [
    "for i, week in enumerate(weeks):\n",
    "  print(f\"week: {week}\")\n",
    "\n",
    "  X_train_list = list()\n",
    "  y_train_list = list()\n",
    "  X_test_list = list()\n",
    "  y_test_list = list()\n",
    "\n",
    "  for idx, shopper in enumerate(tqdm(shopper_chunks)):\n",
    "      # print(f\"shopper_chunk index: {idx}\")\n",
    "\n",
    "      # train-test-split\n",
    "      data.train_test_split(week, shopper)\n",
    "\n",
    "      # data add categories\n",
    "      data.add_categories()\n",
    "\n",
    "      # create features\n",
    "      data.create_feature_dict()\n",
    "\n",
    "      # combine everything\n",
    "      if i == 0:\n",
    "          X_train, y_train, X_test, y_test = data.make_featured_data()\n",
    "          X_train_list.append(X_train)\n",
    "          y_train_list.append(y_train)\n",
    "          del X_train, y_train\n",
    "      else:\n",
    "          _, _, X_test, y_test = data.make_featured_data()\n",
    "\n",
    "      X_test_list.append(X_test)\n",
    "      y_test_list.append(y_test)\n",
    "      del X_test, y_test\n",
    "\n",
    "  cv_dict = create_combined_dict(X_train_list, y_train_list, X_test_list, y_test_list, cv_dict)"
   ]
  },
  {
   "cell_type": "code",
   "execution_count": 8,
   "metadata": {
    "collapsed": false,
    "jupyter": {
     "outputs_hidden": false
    },
    "pycharm": {
     "name": "#%%\n"
    }
   },
   "outputs": [],
   "source": [
    "with open('cv_dict.pickle', 'wb') as handle:\n",
    "    pickle.dump(cv_dict, handle, protocol=pickle.HIGHEST_PROTOCOL)"
   ]
  },
  {
   "cell_type": "code",
   "execution_count": 37,
   "outputs": [
    {
     "name": "stderr",
     "output_type": "stream",
     "text": [
      "feature_fraction, val_score: inf:   0%|          | 0/7 [40:06<?, ?it/s]\n"
     ]
    }
   ],
   "source": [
    "with open('dataloader.pickle', 'wb') as handle:\n",
    "    pickle.dump(data, handle, protocol=pickle.HIGHEST_PROTOCOL)"
   ],
   "metadata": {
    "collapsed": false,
    "pycharm": {
     "name": "#%%\n"
    }
   }
  },
  {
   "cell_type": "markdown",
   "metadata": {
    "id": "Ts4lbT47sQdO",
    "pycharm": {
     "name": "#%% md\n",
     "is_executing": true
    }
   },
   "source": [
    "# Hyperparameter Tuning"
   ]
  },
  {
   "cell_type": "code",
   "execution_count": 10,
   "metadata": {
    "id": "hAJ0GTc_sep6"
   },
   "outputs": [],
   "source": [
    "# %%capture\n",
    "# !pip install optuna"
   ]
  },
  {
   "cell_type": "code",
   "execution_count": 2,
   "outputs": [],
   "source": [
    "# Load Data From Pickle\n",
    "\n",
    "with open(os.getcwd() + \"/../data/pickle/cv_dict_01.pickle\", 'rb') as f:\n",
    "  cv_dict =  pickle.load(f)"
   ],
   "metadata": {
    "collapsed": false,
    "pycharm": {
     "name": "#%%\n"
    }
   }
  },
  {
   "cell_type": "code",
   "execution_count": 7,
   "outputs": [
    {
     "data": {
      "text/plain": "'0.24.1'"
     },
     "execution_count": 7,
     "metadata": {},
     "output_type": "execute_result"
    }
   ],
   "source": [
    "sklearn.__version__"
   ],
   "metadata": {
    "collapsed": false,
    "pycharm": {
     "name": "#%%\n"
    }
   }
  },
  {
   "cell_type": "code",
   "execution_count": 3,
   "outputs": [],
   "source": [
    "def downsample(df, y):\n",
    "  df_target_coupon = df.loc[(y==1) | (df['coupon']=='Yes')]\n",
    "  y_target_coupon = y.loc[(y==1) | (df['coupon']=='Yes')]\n",
    "  df_down = df.loc[(y==0) & (df['coupon']=='No')]\n",
    "  y_down = y.loc[(y==0) & (df[\"coupon\"]==\"No\")]\n",
    "  df_down, y_down = resample(\n",
    "      df_down,\n",
    "      y_down,\n",
    "      replace=False,\n",
    "      n_samples=df_target_coupon.shape[0],\n",
    "      stratify=df_down['shopper']\n",
    "  )\n",
    "  df_all = pd.concat([df_target_coupon, df_down], ignore_index=True)\n",
    "  y_all = pd.concat([y_target_coupon, y_down], ignore_index=True)\n",
    "\n",
    "  return df_all, y_all"
   ],
   "metadata": {
    "collapsed": false,
    "pycharm": {
     "name": "#%%\n"
    }
   }
  },
  {
   "cell_type": "code",
   "execution_count": 4,
   "outputs": [],
   "source": [
    "dtrain = lightgb.Dataset(cv_dict['X_train'][0], label=cv_dict['y_train'][0])\n",
    "X_test0, y_test0 = downsample(cv_dict['X_test'][0], cv_dict['y_test'][0])\n",
    "dval0 = lightgb.Dataset(X_test0, label=y_test0)\n",
    "X_test1, y_test1 = downsample(cv_dict['X_test'][1], cv_dict['y_test'][1])\n",
    "dval1 = lightgb.Dataset(X_test1, label=y_test1)\n",
    "X_test2, y_test2 = downsample(cv_dict['X_test'][2], cv_dict['y_test'][2])\n",
    "dval2 = lightgb.Dataset(X_test2, label=y_test2)\n",
    "X_test3, y_test3 = downsample(cv_dict['X_test'][3], cv_dict['y_test'][3])\n",
    "dval3 = lightgb.Dataset(X_test3, label=y_test3)"
   ],
   "metadata": {
    "collapsed": false,
    "pycharm": {
     "name": "#%%\n"
    }
   }
  },
  {
   "cell_type": "code",
   "execution_count": 6,
   "outputs": [
    {
     "name": "stderr",
     "output_type": "stream",
     "text": [
      "\u001B[32m[I 2021-03-20 22:54:44,548]\u001B[0m A new study created in memory with name: no-name-8b1fe5f3-3cb6-4547-b686-50556ed40fc4\u001B[0m\n",
      "\n",
      "  0%|          | 0/7 [00:00<?, ?it/s]\u001B[A\n",
      "feature_fraction, val_score: inf:   0%|          | 0/7 [00:00<?, ?it/s]\u001B[AC:\\Users\\uh_da\\anaconda3\\envs\\hu-mlim\\lib\\site-packages\\lightgbm\\basic.py:1554: UserWarning: categorical_feature in Dataset is overridden.\n",
      "New categorical_feature is ['category', 'coupon', 'coupon_in_same_category', 'product', 'shopper']\n",
      "  warnings.warn('categorical_feature in Dataset is overridden.\\n'\n",
      "\u001B[33m[W 2021-03-20 22:55:40,965]\u001B[0m Trial 0 failed because of the following error: ValueError('Series.dtypes must be int, float or bool')\n",
      "Traceback (most recent call last):\n",
      "  File \"C:\\Users\\uh_da\\anaconda3\\envs\\hu-mlim\\lib\\site-packages\\optuna\\_optimize.py\", line 217, in _run_trial\n",
      "    value_or_values = func(trial)\n",
      "  File \"C:\\Users\\uh_da\\anaconda3\\envs\\hu-mlim\\lib\\site-packages\\optuna\\integration\\_lightgbm_tuner\\optimize.py\", line 249, in __call__\n",
      "    booster = lgb.train(self.lgbm_params, train_set, **kwargs)\n",
      "  File \"C:\\Users\\uh_da\\anaconda3\\envs\\hu-mlim\\lib\\site-packages\\lightgbm\\engine.py\", line 231, in train\n",
      "    booster = Booster(params=params, train_set=train_set)\n",
      "  File \"C:\\Users\\uh_da\\anaconda3\\envs\\hu-mlim\\lib\\site-packages\\lightgbm\\basic.py\", line 2053, in __init__\n",
      "    train_set.construct()\n",
      "  File \"C:\\Users\\uh_da\\anaconda3\\envs\\hu-mlim\\lib\\site-packages\\lightgbm\\basic.py\", line 1321, in construct\n",
      "    self._lazy_init(self.data, label=self.label,\n",
      "  File \"C:\\Users\\uh_da\\anaconda3\\envs\\hu-mlim\\lib\\site-packages\\lightgbm\\basic.py\", line 1135, in _lazy_init\n",
      "    self.set_label(label)\n",
      "  File \"C:\\Users\\uh_da\\anaconda3\\envs\\hu-mlim\\lib\\site-packages\\lightgbm\\basic.py\", line 1650, in set_label\n",
      "    label = list_to_1d_numpy(_label_from_pandas(label), name='label')\n",
      "  File \"C:\\Users\\uh_da\\anaconda3\\envs\\hu-mlim\\lib\\site-packages\\lightgbm\\basic.py\", line 90, in list_to_1d_numpy\n",
      "    raise ValueError('Series.dtypes must be int, float or bool')\n",
      "ValueError: Series.dtypes must be int, float or bool\u001B[0m\n"
     ]
    },
    {
     "ename": "ValueError",
     "evalue": "Series.dtypes must be int, float or bool",
     "output_type": "error",
     "traceback": [
      "\u001B[1;31m---------------------------------------------------------------------------\u001B[0m",
      "\u001B[1;31mValueError\u001B[0m                                Traceback (most recent call last)",
      "\u001B[1;32m<ipython-input-6-af0605b1a7ff>\u001B[0m in \u001B[0;36m<module>\u001B[1;34m\u001B[0m\n\u001B[0;32m      6\u001B[0m }\n\u001B[0;32m      7\u001B[0m \u001B[1;33m\u001B[0m\u001B[0m\n\u001B[1;32m----> 8\u001B[1;33m lgb_clf = lightgb.train(\n\u001B[0m\u001B[0;32m      9\u001B[0m     \u001B[0mparams\u001B[0m\u001B[1;33m,\u001B[0m\u001B[1;33m\u001B[0m\u001B[1;33m\u001B[0m\u001B[0m\n\u001B[0;32m     10\u001B[0m     \u001B[0mdtrain\u001B[0m\u001B[1;33m,\u001B[0m\u001B[1;33m\u001B[0m\u001B[1;33m\u001B[0m\u001B[0m\n",
      "\u001B[1;32m~\\anaconda3\\envs\\hu-mlim\\lib\\site-packages\\optuna\\integration\\_lightgbm_tuner\\__init__.py\u001B[0m in \u001B[0;36mtrain\u001B[1;34m(*args, **kwargs)\u001B[0m\n\u001B[0;32m     33\u001B[0m \u001B[1;33m\u001B[0m\u001B[0m\n\u001B[0;32m     34\u001B[0m     \u001B[0mauto_booster\u001B[0m \u001B[1;33m=\u001B[0m \u001B[0mLightGBMTuner\u001B[0m\u001B[1;33m(\u001B[0m\u001B[1;33m*\u001B[0m\u001B[0margs\u001B[0m\u001B[1;33m,\u001B[0m \u001B[1;33m**\u001B[0m\u001B[0mkwargs\u001B[0m\u001B[1;33m)\u001B[0m\u001B[1;33m\u001B[0m\u001B[1;33m\u001B[0m\u001B[0m\n\u001B[1;32m---> 35\u001B[1;33m     \u001B[0mauto_booster\u001B[0m\u001B[1;33m.\u001B[0m\u001B[0mrun\u001B[0m\u001B[1;33m(\u001B[0m\u001B[1;33m)\u001B[0m\u001B[1;33m\u001B[0m\u001B[1;33m\u001B[0m\u001B[0m\n\u001B[0m\u001B[0;32m     36\u001B[0m     \u001B[1;32mreturn\u001B[0m \u001B[0mauto_booster\u001B[0m\u001B[1;33m.\u001B[0m\u001B[0mget_best_booster\u001B[0m\u001B[1;33m(\u001B[0m\u001B[1;33m)\u001B[0m\u001B[1;33m\u001B[0m\u001B[1;33m\u001B[0m\u001B[0m\n",
      "\u001B[1;32m~\\anaconda3\\envs\\hu-mlim\\lib\\site-packages\\optuna\\integration\\_lightgbm_tuner\\optimize.py\u001B[0m in \u001B[0;36mrun\u001B[1;34m(self)\u001B[0m\n\u001B[0;32m    541\u001B[0m         \u001B[0mself\u001B[0m\u001B[1;33m.\u001B[0m\u001B[0msample_train_set\u001B[0m\u001B[1;33m(\u001B[0m\u001B[1;33m)\u001B[0m\u001B[1;33m\u001B[0m\u001B[1;33m\u001B[0m\u001B[0m\n\u001B[0;32m    542\u001B[0m \u001B[1;33m\u001B[0m\u001B[0m\n\u001B[1;32m--> 543\u001B[1;33m         \u001B[0mself\u001B[0m\u001B[1;33m.\u001B[0m\u001B[0mtune_feature_fraction\u001B[0m\u001B[1;33m(\u001B[0m\u001B[1;33m)\u001B[0m\u001B[1;33m\u001B[0m\u001B[1;33m\u001B[0m\u001B[0m\n\u001B[0m\u001B[0;32m    544\u001B[0m         \u001B[0mself\u001B[0m\u001B[1;33m.\u001B[0m\u001B[0mtune_num_leaves\u001B[0m\u001B[1;33m(\u001B[0m\u001B[1;33m)\u001B[0m\u001B[1;33m\u001B[0m\u001B[1;33m\u001B[0m\u001B[0m\n\u001B[0;32m    545\u001B[0m         \u001B[0mself\u001B[0m\u001B[1;33m.\u001B[0m\u001B[0mtune_bagging\u001B[0m\u001B[1;33m(\u001B[0m\u001B[1;33m)\u001B[0m\u001B[1;33m\u001B[0m\u001B[1;33m\u001B[0m\u001B[0m\n",
      "\u001B[1;32m~\\anaconda3\\envs\\hu-mlim\\lib\\site-packages\\optuna\\integration\\_lightgbm_tuner\\optimize.py\u001B[0m in \u001B[0;36mtune_feature_fraction\u001B[1;34m(self, n_trials)\u001B[0m\n\u001B[0;32m    566\u001B[0m \u001B[1;33m\u001B[0m\u001B[0m\n\u001B[0;32m    567\u001B[0m         \u001B[0msampler\u001B[0m \u001B[1;33m=\u001B[0m \u001B[0moptuna\u001B[0m\u001B[1;33m.\u001B[0m\u001B[0msamplers\u001B[0m\u001B[1;33m.\u001B[0m\u001B[0mGridSampler\u001B[0m\u001B[1;33m(\u001B[0m\u001B[1;33m{\u001B[0m\u001B[0mparam_name\u001B[0m\u001B[1;33m:\u001B[0m \u001B[0mparam_values\u001B[0m\u001B[1;33m}\u001B[0m\u001B[1;33m)\u001B[0m\u001B[1;33m\u001B[0m\u001B[1;33m\u001B[0m\u001B[0m\n\u001B[1;32m--> 568\u001B[1;33m         \u001B[0mself\u001B[0m\u001B[1;33m.\u001B[0m\u001B[0m_tune_params\u001B[0m\u001B[1;33m(\u001B[0m\u001B[1;33m[\u001B[0m\u001B[0mparam_name\u001B[0m\u001B[1;33m]\u001B[0m\u001B[1;33m,\u001B[0m \u001B[0mlen\u001B[0m\u001B[1;33m(\u001B[0m\u001B[0mparam_values\u001B[0m\u001B[1;33m)\u001B[0m\u001B[1;33m,\u001B[0m \u001B[0msampler\u001B[0m\u001B[1;33m,\u001B[0m \u001B[1;34m\"feature_fraction\"\u001B[0m\u001B[1;33m)\u001B[0m\u001B[1;33m\u001B[0m\u001B[1;33m\u001B[0m\u001B[0m\n\u001B[0m\u001B[0;32m    569\u001B[0m \u001B[1;33m\u001B[0m\u001B[0m\n\u001B[0;32m    570\u001B[0m     \u001B[1;32mdef\u001B[0m \u001B[0mtune_num_leaves\u001B[0m\u001B[1;33m(\u001B[0m\u001B[0mself\u001B[0m\u001B[1;33m,\u001B[0m \u001B[0mn_trials\u001B[0m\u001B[1;33m:\u001B[0m \u001B[0mint\u001B[0m \u001B[1;33m=\u001B[0m \u001B[1;36m20\u001B[0m\u001B[1;33m)\u001B[0m \u001B[1;33m->\u001B[0m \u001B[1;32mNone\u001B[0m\u001B[1;33m:\u001B[0m\u001B[1;33m\u001B[0m\u001B[1;33m\u001B[0m\u001B[0m\n",
      "\u001B[1;32m~\\anaconda3\\envs\\hu-mlim\\lib\\site-packages\\optuna\\integration\\_lightgbm_tuner\\optimize.py\u001B[0m in \u001B[0;36m_tune_params\u001B[1;34m(self, target_param_names, n_trials, sampler, step_name)\u001B[0m\n\u001B[0;32m    641\u001B[0m             \u001B[0m_timeout\u001B[0m \u001B[1;33m=\u001B[0m \u001B[1;32mNone\u001B[0m\u001B[1;33m\u001B[0m\u001B[1;33m\u001B[0m\u001B[0m\n\u001B[0;32m    642\u001B[0m         \u001B[1;32mif\u001B[0m \u001B[0m_n_trials\u001B[0m \u001B[1;33m>\u001B[0m \u001B[1;36m0\u001B[0m\u001B[1;33m:\u001B[0m\u001B[1;33m\u001B[0m\u001B[1;33m\u001B[0m\u001B[0m\n\u001B[1;32m--> 643\u001B[1;33m             study.optimize(\n\u001B[0m\u001B[0;32m    644\u001B[0m                 \u001B[0mobjective\u001B[0m\u001B[1;33m,\u001B[0m\u001B[1;33m\u001B[0m\u001B[1;33m\u001B[0m\u001B[0m\n\u001B[0;32m    645\u001B[0m                 \u001B[0mn_trials\u001B[0m\u001B[1;33m=\u001B[0m\u001B[0m_n_trials\u001B[0m\u001B[1;33m,\u001B[0m\u001B[1;33m\u001B[0m\u001B[1;33m\u001B[0m\u001B[0m\n",
      "\u001B[1;32m~\\anaconda3\\envs\\hu-mlim\\lib\\site-packages\\optuna\\study.py\u001B[0m in \u001B[0;36moptimize\u001B[1;34m(self, func, n_trials, timeout, n_jobs, catch, callbacks, gc_after_trial, show_progress_bar)\u001B[0m\n\u001B[0;32m    383\u001B[0m                 \u001B[0mIf\u001B[0m \u001B[0mnested\u001B[0m \u001B[0minvocation\u001B[0m \u001B[0mof\u001B[0m \u001B[0mthis\u001B[0m \u001B[0mmethod\u001B[0m \u001B[0moccurs\u001B[0m\u001B[1;33m.\u001B[0m\u001B[1;33m\u001B[0m\u001B[1;33m\u001B[0m\u001B[0m\n\u001B[0;32m    384\u001B[0m         \"\"\"\n\u001B[1;32m--> 385\u001B[1;33m         _optimize(\n\u001B[0m\u001B[0;32m    386\u001B[0m             \u001B[0mstudy\u001B[0m\u001B[1;33m=\u001B[0m\u001B[0mself\u001B[0m\u001B[1;33m,\u001B[0m\u001B[1;33m\u001B[0m\u001B[1;33m\u001B[0m\u001B[0m\n\u001B[0;32m    387\u001B[0m             \u001B[0mfunc\u001B[0m\u001B[1;33m=\u001B[0m\u001B[0mfunc\u001B[0m\u001B[1;33m,\u001B[0m\u001B[1;33m\u001B[0m\u001B[1;33m\u001B[0m\u001B[0m\n",
      "\u001B[1;32m~\\anaconda3\\envs\\hu-mlim\\lib\\site-packages\\optuna\\_optimize.py\u001B[0m in \u001B[0;36m_optimize\u001B[1;34m(study, func, n_trials, timeout, n_jobs, catch, callbacks, gc_after_trial, show_progress_bar)\u001B[0m\n\u001B[0;32m     64\u001B[0m     \u001B[1;32mtry\u001B[0m\u001B[1;33m:\u001B[0m\u001B[1;33m\u001B[0m\u001B[1;33m\u001B[0m\u001B[0m\n\u001B[0;32m     65\u001B[0m         \u001B[1;32mif\u001B[0m \u001B[0mn_jobs\u001B[0m \u001B[1;33m==\u001B[0m \u001B[1;36m1\u001B[0m\u001B[1;33m:\u001B[0m\u001B[1;33m\u001B[0m\u001B[1;33m\u001B[0m\u001B[0m\n\u001B[1;32m---> 66\u001B[1;33m             _optimize_sequential(\n\u001B[0m\u001B[0;32m     67\u001B[0m                 \u001B[0mstudy\u001B[0m\u001B[1;33m,\u001B[0m\u001B[1;33m\u001B[0m\u001B[1;33m\u001B[0m\u001B[0m\n\u001B[0;32m     68\u001B[0m                 \u001B[0mfunc\u001B[0m\u001B[1;33m,\u001B[0m\u001B[1;33m\u001B[0m\u001B[1;33m\u001B[0m\u001B[0m\n",
      "\u001B[1;32m~\\anaconda3\\envs\\hu-mlim\\lib\\site-packages\\optuna\\_optimize.py\u001B[0m in \u001B[0;36m_optimize_sequential\u001B[1;34m(study, func, n_trials, timeout, catch, callbacks, gc_after_trial, reseed_sampler_rng, time_start, progress_bar)\u001B[0m\n\u001B[0;32m    161\u001B[0m \u001B[1;33m\u001B[0m\u001B[0m\n\u001B[0;32m    162\u001B[0m         \u001B[1;32mtry\u001B[0m\u001B[1;33m:\u001B[0m\u001B[1;33m\u001B[0m\u001B[1;33m\u001B[0m\u001B[0m\n\u001B[1;32m--> 163\u001B[1;33m             \u001B[0mtrial\u001B[0m \u001B[1;33m=\u001B[0m \u001B[0m_run_trial\u001B[0m\u001B[1;33m(\u001B[0m\u001B[0mstudy\u001B[0m\u001B[1;33m,\u001B[0m \u001B[0mfunc\u001B[0m\u001B[1;33m,\u001B[0m \u001B[0mcatch\u001B[0m\u001B[1;33m)\u001B[0m\u001B[1;33m\u001B[0m\u001B[1;33m\u001B[0m\u001B[0m\n\u001B[0m\u001B[0;32m    164\u001B[0m         \u001B[1;32mexcept\u001B[0m \u001B[0mException\u001B[0m\u001B[1;33m:\u001B[0m\u001B[1;33m\u001B[0m\u001B[1;33m\u001B[0m\u001B[0m\n\u001B[0;32m    165\u001B[0m             \u001B[1;32mraise\u001B[0m\u001B[1;33m\u001B[0m\u001B[1;33m\u001B[0m\u001B[0m\n",
      "\u001B[1;32m~\\anaconda3\\envs\\hu-mlim\\lib\\site-packages\\optuna\\_optimize.py\u001B[0m in \u001B[0;36m_run_trial\u001B[1;34m(study, func, catch)\u001B[0m\n\u001B[0;32m    266\u001B[0m \u001B[1;33m\u001B[0m\u001B[0m\n\u001B[0;32m    267\u001B[0m     \u001B[1;32mif\u001B[0m \u001B[0mstate\u001B[0m \u001B[1;33m==\u001B[0m \u001B[0mTrialState\u001B[0m\u001B[1;33m.\u001B[0m\u001B[0mFAIL\u001B[0m \u001B[1;32mand\u001B[0m \u001B[0mfunc_err\u001B[0m \u001B[1;32mis\u001B[0m \u001B[1;32mnot\u001B[0m \u001B[1;32mNone\u001B[0m \u001B[1;32mand\u001B[0m \u001B[1;32mnot\u001B[0m \u001B[0misinstance\u001B[0m\u001B[1;33m(\u001B[0m\u001B[0mfunc_err\u001B[0m\u001B[1;33m,\u001B[0m \u001B[0mcatch\u001B[0m\u001B[1;33m)\u001B[0m\u001B[1;33m:\u001B[0m\u001B[1;33m\u001B[0m\u001B[1;33m\u001B[0m\u001B[0m\n\u001B[1;32m--> 268\u001B[1;33m         \u001B[1;32mraise\u001B[0m \u001B[0mfunc_err\u001B[0m\u001B[1;33m\u001B[0m\u001B[1;33m\u001B[0m\u001B[0m\n\u001B[0m\u001B[0;32m    269\u001B[0m     \u001B[1;32mreturn\u001B[0m \u001B[0mtrial\u001B[0m\u001B[1;33m\u001B[0m\u001B[1;33m\u001B[0m\u001B[0m\n\u001B[0;32m    270\u001B[0m \u001B[1;33m\u001B[0m\u001B[0m\n",
      "\u001B[1;32m~\\anaconda3\\envs\\hu-mlim\\lib\\site-packages\\optuna\\_optimize.py\u001B[0m in \u001B[0;36m_run_trial\u001B[1;34m(study, func, catch)\u001B[0m\n\u001B[0;32m    215\u001B[0m \u001B[1;33m\u001B[0m\u001B[0m\n\u001B[0;32m    216\u001B[0m     \u001B[1;32mtry\u001B[0m\u001B[1;33m:\u001B[0m\u001B[1;33m\u001B[0m\u001B[1;33m\u001B[0m\u001B[0m\n\u001B[1;32m--> 217\u001B[1;33m         \u001B[0mvalue_or_values\u001B[0m \u001B[1;33m=\u001B[0m \u001B[0mfunc\u001B[0m\u001B[1;33m(\u001B[0m\u001B[0mtrial\u001B[0m\u001B[1;33m)\u001B[0m\u001B[1;33m\u001B[0m\u001B[1;33m\u001B[0m\u001B[0m\n\u001B[0m\u001B[0;32m    218\u001B[0m     \u001B[1;32mexcept\u001B[0m \u001B[0mexceptions\u001B[0m\u001B[1;33m.\u001B[0m\u001B[0mTrialPruned\u001B[0m \u001B[1;32mas\u001B[0m \u001B[0me\u001B[0m\u001B[1;33m:\u001B[0m\u001B[1;33m\u001B[0m\u001B[1;33m\u001B[0m\u001B[0m\n\u001B[0;32m    219\u001B[0m         \u001B[1;31m# TODO(mamu): Handle multi-objective cases.\u001B[0m\u001B[1;33m\u001B[0m\u001B[1;33m\u001B[0m\u001B[1;33m\u001B[0m\u001B[0m\n",
      "\u001B[1;32m~\\anaconda3\\envs\\hu-mlim\\lib\\site-packages\\optuna\\integration\\_lightgbm_tuner\\optimize.py\u001B[0m in \u001B[0;36m__call__\u001B[1;34m(self, trial)\u001B[0m\n\u001B[0;32m    247\u001B[0m         \u001B[0mkwargs\u001B[0m \u001B[1;33m=\u001B[0m \u001B[0mcopy\u001B[0m\u001B[1;33m.\u001B[0m\u001B[0mcopy\u001B[0m\u001B[1;33m(\u001B[0m\u001B[0mself\u001B[0m\u001B[1;33m.\u001B[0m\u001B[0mlgbm_kwargs\u001B[0m\u001B[1;33m)\u001B[0m\u001B[1;33m\u001B[0m\u001B[1;33m\u001B[0m\u001B[0m\n\u001B[0;32m    248\u001B[0m         \u001B[0mkwargs\u001B[0m\u001B[1;33m[\u001B[0m\u001B[1;34m\"valid_sets\"\u001B[0m\u001B[1;33m]\u001B[0m \u001B[1;33m=\u001B[0m \u001B[0mself\u001B[0m\u001B[1;33m.\u001B[0m\u001B[0m_copy_valid_sets\u001B[0m\u001B[1;33m(\u001B[0m\u001B[0mkwargs\u001B[0m\u001B[1;33m[\u001B[0m\u001B[1;34m\"valid_sets\"\u001B[0m\u001B[1;33m]\u001B[0m\u001B[1;33m)\u001B[0m\u001B[1;33m\u001B[0m\u001B[1;33m\u001B[0m\u001B[0m\n\u001B[1;32m--> 249\u001B[1;33m         \u001B[0mbooster\u001B[0m \u001B[1;33m=\u001B[0m \u001B[0mlgb\u001B[0m\u001B[1;33m.\u001B[0m\u001B[0mtrain\u001B[0m\u001B[1;33m(\u001B[0m\u001B[0mself\u001B[0m\u001B[1;33m.\u001B[0m\u001B[0mlgbm_params\u001B[0m\u001B[1;33m,\u001B[0m \u001B[0mtrain_set\u001B[0m\u001B[1;33m,\u001B[0m \u001B[1;33m**\u001B[0m\u001B[0mkwargs\u001B[0m\u001B[1;33m)\u001B[0m\u001B[1;33m\u001B[0m\u001B[1;33m\u001B[0m\u001B[0m\n\u001B[0m\u001B[0;32m    250\u001B[0m \u001B[1;33m\u001B[0m\u001B[0m\n\u001B[0;32m    251\u001B[0m         \u001B[0mval_score\u001B[0m \u001B[1;33m=\u001B[0m \u001B[0mself\u001B[0m\u001B[1;33m.\u001B[0m\u001B[0m_get_booster_best_score\u001B[0m\u001B[1;33m(\u001B[0m\u001B[0mbooster\u001B[0m\u001B[1;33m)\u001B[0m\u001B[1;33m\u001B[0m\u001B[1;33m\u001B[0m\u001B[0m\n",
      "\u001B[1;32m~\\anaconda3\\envs\\hu-mlim\\lib\\site-packages\\lightgbm\\engine.py\u001B[0m in \u001B[0;36mtrain\u001B[1;34m(params, train_set, num_boost_round, valid_sets, valid_names, fobj, feval, init_model, feature_name, categorical_feature, early_stopping_rounds, evals_result, verbose_eval, learning_rates, keep_training_booster, callbacks)\u001B[0m\n\u001B[0;32m    229\u001B[0m     \u001B[1;31m# construct booster\u001B[0m\u001B[1;33m\u001B[0m\u001B[1;33m\u001B[0m\u001B[1;33m\u001B[0m\u001B[0m\n\u001B[0;32m    230\u001B[0m     \u001B[1;32mtry\u001B[0m\u001B[1;33m:\u001B[0m\u001B[1;33m\u001B[0m\u001B[1;33m\u001B[0m\u001B[0m\n\u001B[1;32m--> 231\u001B[1;33m         \u001B[0mbooster\u001B[0m \u001B[1;33m=\u001B[0m \u001B[0mBooster\u001B[0m\u001B[1;33m(\u001B[0m\u001B[0mparams\u001B[0m\u001B[1;33m=\u001B[0m\u001B[0mparams\u001B[0m\u001B[1;33m,\u001B[0m \u001B[0mtrain_set\u001B[0m\u001B[1;33m=\u001B[0m\u001B[0mtrain_set\u001B[0m\u001B[1;33m)\u001B[0m\u001B[1;33m\u001B[0m\u001B[1;33m\u001B[0m\u001B[0m\n\u001B[0m\u001B[0;32m    232\u001B[0m         \u001B[1;32mif\u001B[0m \u001B[0mis_valid_contain_train\u001B[0m\u001B[1;33m:\u001B[0m\u001B[1;33m\u001B[0m\u001B[1;33m\u001B[0m\u001B[0m\n\u001B[0;32m    233\u001B[0m             \u001B[0mbooster\u001B[0m\u001B[1;33m.\u001B[0m\u001B[0mset_train_data_name\u001B[0m\u001B[1;33m(\u001B[0m\u001B[0mtrain_data_name\u001B[0m\u001B[1;33m)\u001B[0m\u001B[1;33m\u001B[0m\u001B[1;33m\u001B[0m\u001B[0m\n",
      "\u001B[1;32m~\\anaconda3\\envs\\hu-mlim\\lib\\site-packages\\lightgbm\\basic.py\u001B[0m in \u001B[0;36m__init__\u001B[1;34m(self, params, train_set, model_file, model_str, silent)\u001B[0m\n\u001B[0;32m   2051\u001B[0m                     \u001B[1;32mbreak\u001B[0m\u001B[1;33m\u001B[0m\u001B[1;33m\u001B[0m\u001B[0m\n\u001B[0;32m   2052\u001B[0m             \u001B[1;31m# construct booster object\u001B[0m\u001B[1;33m\u001B[0m\u001B[1;33m\u001B[0m\u001B[1;33m\u001B[0m\u001B[0m\n\u001B[1;32m-> 2053\u001B[1;33m             \u001B[0mtrain_set\u001B[0m\u001B[1;33m.\u001B[0m\u001B[0mconstruct\u001B[0m\u001B[1;33m(\u001B[0m\u001B[1;33m)\u001B[0m\u001B[1;33m\u001B[0m\u001B[1;33m\u001B[0m\u001B[0m\n\u001B[0m\u001B[0;32m   2054\u001B[0m             \u001B[1;31m# copy the parameters from train_set\u001B[0m\u001B[1;33m\u001B[0m\u001B[1;33m\u001B[0m\u001B[1;33m\u001B[0m\u001B[0m\n\u001B[0;32m   2055\u001B[0m             \u001B[0mparams\u001B[0m\u001B[1;33m.\u001B[0m\u001B[0mupdate\u001B[0m\u001B[1;33m(\u001B[0m\u001B[0mtrain_set\u001B[0m\u001B[1;33m.\u001B[0m\u001B[0mget_params\u001B[0m\u001B[1;33m(\u001B[0m\u001B[1;33m)\u001B[0m\u001B[1;33m)\u001B[0m\u001B[1;33m\u001B[0m\u001B[1;33m\u001B[0m\u001B[0m\n",
      "\u001B[1;32m~\\anaconda3\\envs\\hu-mlim\\lib\\site-packages\\lightgbm\\basic.py\u001B[0m in \u001B[0;36mconstruct\u001B[1;34m(self)\u001B[0m\n\u001B[0;32m   1319\u001B[0m             \u001B[1;32melse\u001B[0m\u001B[1;33m:\u001B[0m\u001B[1;33m\u001B[0m\u001B[1;33m\u001B[0m\u001B[0m\n\u001B[0;32m   1320\u001B[0m                 \u001B[1;31m# create train\u001B[0m\u001B[1;33m\u001B[0m\u001B[1;33m\u001B[0m\u001B[1;33m\u001B[0m\u001B[0m\n\u001B[1;32m-> 1321\u001B[1;33m                 self._lazy_init(self.data, label=self.label,\n\u001B[0m\u001B[0;32m   1322\u001B[0m                                 \u001B[0mweight\u001B[0m\u001B[1;33m=\u001B[0m\u001B[0mself\u001B[0m\u001B[1;33m.\u001B[0m\u001B[0mweight\u001B[0m\u001B[1;33m,\u001B[0m \u001B[0mgroup\u001B[0m\u001B[1;33m=\u001B[0m\u001B[0mself\u001B[0m\u001B[1;33m.\u001B[0m\u001B[0mgroup\u001B[0m\u001B[1;33m,\u001B[0m\u001B[1;33m\u001B[0m\u001B[1;33m\u001B[0m\u001B[0m\n\u001B[0;32m   1323\u001B[0m                                 \u001B[0minit_score\u001B[0m\u001B[1;33m=\u001B[0m\u001B[0mself\u001B[0m\u001B[1;33m.\u001B[0m\u001B[0minit_score\u001B[0m\u001B[1;33m,\u001B[0m \u001B[0mpredictor\u001B[0m\u001B[1;33m=\u001B[0m\u001B[0mself\u001B[0m\u001B[1;33m.\u001B[0m\u001B[0m_predictor\u001B[0m\u001B[1;33m,\u001B[0m\u001B[1;33m\u001B[0m\u001B[1;33m\u001B[0m\u001B[0m\n",
      "\u001B[1;32m~\\anaconda3\\envs\\hu-mlim\\lib\\site-packages\\lightgbm\\basic.py\u001B[0m in \u001B[0;36m_lazy_init\u001B[1;34m(self, data, label, reference, weight, group, init_score, predictor, silent, feature_name, categorical_feature, params)\u001B[0m\n\u001B[0;32m   1133\u001B[0m                 \u001B[1;32mraise\u001B[0m \u001B[0mTypeError\u001B[0m\u001B[1;33m(\u001B[0m\u001B[1;34m'Cannot initialize Dataset from {}'\u001B[0m\u001B[1;33m.\u001B[0m\u001B[0mformat\u001B[0m\u001B[1;33m(\u001B[0m\u001B[0mtype\u001B[0m\u001B[1;33m(\u001B[0m\u001B[0mdata\u001B[0m\u001B[1;33m)\u001B[0m\u001B[1;33m.\u001B[0m\u001B[0m__name__\u001B[0m\u001B[1;33m)\u001B[0m\u001B[1;33m)\u001B[0m\u001B[1;33m\u001B[0m\u001B[1;33m\u001B[0m\u001B[0m\n\u001B[0;32m   1134\u001B[0m         \u001B[1;32mif\u001B[0m \u001B[0mlabel\u001B[0m \u001B[1;32mis\u001B[0m \u001B[1;32mnot\u001B[0m \u001B[1;32mNone\u001B[0m\u001B[1;33m:\u001B[0m\u001B[1;33m\u001B[0m\u001B[1;33m\u001B[0m\u001B[0m\n\u001B[1;32m-> 1135\u001B[1;33m             \u001B[0mself\u001B[0m\u001B[1;33m.\u001B[0m\u001B[0mset_label\u001B[0m\u001B[1;33m(\u001B[0m\u001B[0mlabel\u001B[0m\u001B[1;33m)\u001B[0m\u001B[1;33m\u001B[0m\u001B[1;33m\u001B[0m\u001B[0m\n\u001B[0m\u001B[0;32m   1136\u001B[0m         \u001B[1;32mif\u001B[0m \u001B[0mself\u001B[0m\u001B[1;33m.\u001B[0m\u001B[0mget_label\u001B[0m\u001B[1;33m(\u001B[0m\u001B[1;33m)\u001B[0m \u001B[1;32mis\u001B[0m \u001B[1;32mNone\u001B[0m\u001B[1;33m:\u001B[0m\u001B[1;33m\u001B[0m\u001B[1;33m\u001B[0m\u001B[0m\n\u001B[0;32m   1137\u001B[0m             \u001B[1;32mraise\u001B[0m \u001B[0mValueError\u001B[0m\u001B[1;33m(\u001B[0m\u001B[1;34m\"Label should not be None\"\u001B[0m\u001B[1;33m)\u001B[0m\u001B[1;33m\u001B[0m\u001B[1;33m\u001B[0m\u001B[0m\n",
      "\u001B[1;32m~\\anaconda3\\envs\\hu-mlim\\lib\\site-packages\\lightgbm\\basic.py\u001B[0m in \u001B[0;36mset_label\u001B[1;34m(self, label)\u001B[0m\n\u001B[0;32m   1648\u001B[0m         \u001B[0mself\u001B[0m\u001B[1;33m.\u001B[0m\u001B[0mlabel\u001B[0m \u001B[1;33m=\u001B[0m \u001B[0mlabel\u001B[0m\u001B[1;33m\u001B[0m\u001B[1;33m\u001B[0m\u001B[0m\n\u001B[0;32m   1649\u001B[0m         \u001B[1;32mif\u001B[0m \u001B[0mself\u001B[0m\u001B[1;33m.\u001B[0m\u001B[0mhandle\u001B[0m \u001B[1;32mis\u001B[0m \u001B[1;32mnot\u001B[0m \u001B[1;32mNone\u001B[0m\u001B[1;33m:\u001B[0m\u001B[1;33m\u001B[0m\u001B[1;33m\u001B[0m\u001B[0m\n\u001B[1;32m-> 1650\u001B[1;33m             \u001B[0mlabel\u001B[0m \u001B[1;33m=\u001B[0m \u001B[0mlist_to_1d_numpy\u001B[0m\u001B[1;33m(\u001B[0m\u001B[0m_label_from_pandas\u001B[0m\u001B[1;33m(\u001B[0m\u001B[0mlabel\u001B[0m\u001B[1;33m)\u001B[0m\u001B[1;33m,\u001B[0m \u001B[0mname\u001B[0m\u001B[1;33m=\u001B[0m\u001B[1;34m'label'\u001B[0m\u001B[1;33m)\u001B[0m\u001B[1;33m\u001B[0m\u001B[1;33m\u001B[0m\u001B[0m\n\u001B[0m\u001B[0;32m   1651\u001B[0m             \u001B[0mself\u001B[0m\u001B[1;33m.\u001B[0m\u001B[0mset_field\u001B[0m\u001B[1;33m(\u001B[0m\u001B[1;34m'label'\u001B[0m\u001B[1;33m,\u001B[0m \u001B[0mlabel\u001B[0m\u001B[1;33m)\u001B[0m\u001B[1;33m\u001B[0m\u001B[1;33m\u001B[0m\u001B[0m\n\u001B[0;32m   1652\u001B[0m             \u001B[0mself\u001B[0m\u001B[1;33m.\u001B[0m\u001B[0mlabel\u001B[0m \u001B[1;33m=\u001B[0m \u001B[0mself\u001B[0m\u001B[1;33m.\u001B[0m\u001B[0mget_field\u001B[0m\u001B[1;33m(\u001B[0m\u001B[1;34m'label'\u001B[0m\u001B[1;33m)\u001B[0m  \u001B[1;31m# original values can be modified at cpp side\u001B[0m\u001B[1;33m\u001B[0m\u001B[1;33m\u001B[0m\u001B[0m\n",
      "\u001B[1;32m~\\anaconda3\\envs\\hu-mlim\\lib\\site-packages\\lightgbm\\basic.py\u001B[0m in \u001B[0;36mlist_to_1d_numpy\u001B[1;34m(data, dtype, name)\u001B[0m\n\u001B[0;32m     88\u001B[0m     \u001B[1;32melif\u001B[0m \u001B[0misinstance\u001B[0m\u001B[1;33m(\u001B[0m\u001B[0mdata\u001B[0m\u001B[1;33m,\u001B[0m \u001B[0mSeries\u001B[0m\u001B[1;33m)\u001B[0m\u001B[1;33m:\u001B[0m\u001B[1;33m\u001B[0m\u001B[1;33m\u001B[0m\u001B[0m\n\u001B[0;32m     89\u001B[0m         \u001B[1;32mif\u001B[0m \u001B[0m_get_bad_pandas_dtypes\u001B[0m\u001B[1;33m(\u001B[0m\u001B[1;33m[\u001B[0m\u001B[0mdata\u001B[0m\u001B[1;33m.\u001B[0m\u001B[0mdtypes\u001B[0m\u001B[1;33m]\u001B[0m\u001B[1;33m)\u001B[0m\u001B[1;33m:\u001B[0m\u001B[1;33m\u001B[0m\u001B[1;33m\u001B[0m\u001B[0m\n\u001B[1;32m---> 90\u001B[1;33m             \u001B[1;32mraise\u001B[0m \u001B[0mValueError\u001B[0m\u001B[1;33m(\u001B[0m\u001B[1;34m'Series.dtypes must be int, float or bool'\u001B[0m\u001B[1;33m)\u001B[0m\u001B[1;33m\u001B[0m\u001B[1;33m\u001B[0m\u001B[0m\n\u001B[0m\u001B[0;32m     91\u001B[0m         \u001B[1;32mreturn\u001B[0m \u001B[0mnp\u001B[0m\u001B[1;33m.\u001B[0m\u001B[0marray\u001B[0m\u001B[1;33m(\u001B[0m\u001B[0mdata\u001B[0m\u001B[1;33m,\u001B[0m \u001B[0mdtype\u001B[0m\u001B[1;33m=\u001B[0m\u001B[0mdtype\u001B[0m\u001B[1;33m,\u001B[0m \u001B[0mcopy\u001B[0m\u001B[1;33m=\u001B[0m\u001B[1;32mFalse\u001B[0m\u001B[1;33m)\u001B[0m  \u001B[1;31m# SparseArray should be supported as well\u001B[0m\u001B[1;33m\u001B[0m\u001B[1;33m\u001B[0m\u001B[0m\n\u001B[0;32m     92\u001B[0m     \u001B[1;32melse\u001B[0m\u001B[1;33m:\u001B[0m\u001B[1;33m\u001B[0m\u001B[1;33m\u001B[0m\u001B[0m\n",
      "\u001B[1;31mValueError\u001B[0m: Series.dtypes must be int, float or bool"
     ]
    }
   ],
   "source": [
    "\n",
    "params = {\n",
    "    \"objective\": \"binary\",\n",
    "    \"metric\": \"binary_logloss\",\n",
    "    \"verbosity\": -1,\n",
    "    \"boosting_type\": \"gbdt\",\n",
    "}\n",
    "\n",
    "lgb_clf = lightgb.train(\n",
    "    params,\n",
    "    dtrain,\n",
    "    categorical_feature=['shopper', 'product', 'category', 'coupon', 'coupon_in_same_category'],\n",
    "    valid_sets=[dval0, dval1, dval2],\n",
    "    verbose_eval=100,\n",
    "    early_stopping_rounds=100\n",
    ")"
   ],
   "metadata": {
    "collapsed": false,
    "pycharm": {
     "name": "#%%\n"
    }
   }
  },
  {
   "cell_type": "code",
   "execution_count": null,
   "outputs": [],
   "source": [
    "prediction = lgb_clf.predict_proba(cv_dict['X_test'][3], num_iteration=lgb_clf.best_iteration)[:,1]"
   ],
   "metadata": {
    "collapsed": false,
    "pycharm": {
     "name": "#%%\n"
    }
   }
  },
  {
   "cell_type": "code",
   "execution_count": null,
   "outputs": [],
   "source": [
    "AUC = roc_auc_score(\n",
    "    y_true = cv_dict['y_test'][3],\n",
    "    y_score = prediction\n",
    ")"
   ],
   "metadata": {
    "collapsed": false,
    "pycharm": {
     "name": "#%%\n"
    }
   }
  },
  {
   "cell_type": "code",
   "execution_count": null,
   "outputs": [],
   "source": [
    "best_params = lgb_clf.params\n",
    "print(\"Best params:\", best_params)\n",
    "print(\"  Accuracy = {}\".format(AUC))\n",
    "print(\"  Params: \")\n",
    "for key, value in best_params.items():\n",
    "    print(\"    {}: {}\".format(key, value))"
   ],
   "metadata": {
    "collapsed": false,
    "pycharm": {
     "name": "#%%\n"
    }
   }
  },
  {
   "cell_type": "markdown",
   "metadata": {
    "id": "uKWx32kLAPxQ"
   },
   "source": [
    "# Prediction and Revenue Optimization"
   ]
  },
  {
   "cell_type": "markdown",
   "metadata": {
    "id": "BwuSYI3m_K1h"
   },
   "source": [
    "# Playground"
   ]
  },
  {
   "cell_type": "code",
   "execution_count": null,
   "metadata": {
    "id": "xE6VKvuovPGo"
   },
   "outputs": [],
   "source": [
    "# train-test-split\r\n",
    "data.train_test_split(89, list(range(50)))\r\n",
    "\r\n",
    "# data add categories \r\n",
    "data.add_categories()\r\n",
    "data.create_feature_dict()\r\n",
    "X_train = data._make_full_table(data.baskets_train, data.coupons_train)\r\n",
    "X_test = data._make_full_table(data.baskets_test, data.coupons_test)\r\n",
    "\r\n",
    "X_train = data._merge_features(X_train, data.feature_dict)\r\n",
    "X_test = data._merge_features(X_test, data.feature_dict)"
   ]
  },
  {
   "cell_type": "code",
   "execution_count": 6,
   "metadata": {
    "colab": {
     "base_uri": "https://localhost:8080/",
     "height": 224
    },
    "id": "5PoslMy6HYUS",
    "outputId": "ec401ccf-1898-406f-e6bd-51e1898ee125"
   },
   "outputs": [
    {
     "data": {
      "text/html": [
       "<div>\n",
       "<style scoped>\n",
       "    .dataframe tbody tr th:only-of-type {\n",
       "        vertical-align: middle;\n",
       "    }\n",
       "\n",
       "    .dataframe tbody tr th {\n",
       "        vertical-align: top;\n",
       "    }\n",
       "\n",
       "    .dataframe thead th {\n",
       "        text-align: right;\n",
       "    }\n",
       "</style>\n",
       "<table border=\"1\" class=\"dataframe\">\n",
       "  <thead>\n",
       "    <tr style=\"text-align: right;\">\n",
       "      <th></th>\n",
       "      <th>week</th>\n",
       "      <th>shopper</th>\n",
       "      <th>product</th>\n",
       "      <th>price</th>\n",
       "      <th>target</th>\n",
       "      <th>category</th>\n",
       "      <th>discount</th>\n",
       "      <th>coupon</th>\n",
       "      <th>original_price</th>\n",
       "      <th>ratio_product_count</th>\n",
       "      <th>ratio_category_count</th>\n",
       "      <th>reordered_product</th>\n",
       "      <th>reordered_category</th>\n",
       "      <th>coupon_in_same_category</th>\n",
       "      <th>ratio_of_reordered_products</th>\n",
       "      <th>ratio_of_reordered_categories</th>\n",
       "      <th>average_price_per_shopper</th>\n",
       "      <th>average_basket_size</th>\n",
       "      <th>unique_products_per_shopper</th>\n",
       "      <th>unique_categories_per_shopper</th>\n",
       "    </tr>\n",
       "  </thead>\n",
       "  <tbody>\n",
       "    <tr>\n",
       "      <th>0</th>\n",
       "      <td>0</td>\n",
       "      <td>0</td>\n",
       "      <td>0</td>\n",
       "      <td>688.0</td>\n",
       "      <td>0.0</td>\n",
       "      <td>12</td>\n",
       "      <td>0.0</td>\n",
       "      <td>No</td>\n",
       "      <td>688</td>\n",
       "      <td>0.000000</td>\n",
       "      <td>0.089888</td>\n",
       "      <td>0.0</td>\n",
       "      <td>1.0</td>\n",
       "      <td>Yes</td>\n",
       "      <td>0.722222</td>\n",
       "      <td>0.960000</td>\n",
       "      <td>587.203947</td>\n",
       "      <td>8.539326</td>\n",
       "      <td>54</td>\n",
       "      <td>25</td>\n",
       "    </tr>\n",
       "    <tr>\n",
       "      <th>1</th>\n",
       "      <td>0</td>\n",
       "      <td>1</td>\n",
       "      <td>0</td>\n",
       "      <td>688.0</td>\n",
       "      <td>0.0</td>\n",
       "      <td>12</td>\n",
       "      <td>0.0</td>\n",
       "      <td>No</td>\n",
       "      <td>688</td>\n",
       "      <td>0.067416</td>\n",
       "      <td>0.314607</td>\n",
       "      <td>1.0</td>\n",
       "      <td>1.0</td>\n",
       "      <td>Yes</td>\n",
       "      <td>0.830986</td>\n",
       "      <td>1.000000</td>\n",
       "      <td>584.065350</td>\n",
       "      <td>7.393258</td>\n",
       "      <td>71</td>\n",
       "      <td>24</td>\n",
       "    </tr>\n",
       "    <tr>\n",
       "      <th>2</th>\n",
       "      <td>0</td>\n",
       "      <td>2</td>\n",
       "      <td>0</td>\n",
       "      <td>688.0</td>\n",
       "      <td>0.0</td>\n",
       "      <td>12</td>\n",
       "      <td>0.0</td>\n",
       "      <td>No</td>\n",
       "      <td>688</td>\n",
       "      <td>0.000000</td>\n",
       "      <td>0.595506</td>\n",
       "      <td>0.0</td>\n",
       "      <td>1.0</td>\n",
       "      <td>No</td>\n",
       "      <td>0.700000</td>\n",
       "      <td>0.954545</td>\n",
       "      <td>571.918919</td>\n",
       "      <td>5.820225</td>\n",
       "      <td>60</td>\n",
       "      <td>22</td>\n",
       "    </tr>\n",
       "    <tr>\n",
       "      <th>3</th>\n",
       "      <td>0</td>\n",
       "      <td>3</td>\n",
       "      <td>0</td>\n",
       "      <td>688.0</td>\n",
       "      <td>0.0</td>\n",
       "      <td>12</td>\n",
       "      <td>0.0</td>\n",
       "      <td>No</td>\n",
       "      <td>688</td>\n",
       "      <td>0.000000</td>\n",
       "      <td>0.415730</td>\n",
       "      <td>0.0</td>\n",
       "      <td>1.0</td>\n",
       "      <td>No</td>\n",
       "      <td>0.714286</td>\n",
       "      <td>1.000000</td>\n",
       "      <td>561.846361</td>\n",
       "      <td>8.337079</td>\n",
       "      <td>91</td>\n",
       "      <td>24</td>\n",
       "    </tr>\n",
       "    <tr>\n",
       "      <th>4</th>\n",
       "      <td>0</td>\n",
       "      <td>4</td>\n",
       "      <td>0</td>\n",
       "      <td>688.0</td>\n",
       "      <td>0.0</td>\n",
       "      <td>12</td>\n",
       "      <td>0.0</td>\n",
       "      <td>No</td>\n",
       "      <td>688</td>\n",
       "      <td>0.000000</td>\n",
       "      <td>0.089888</td>\n",
       "      <td>0.0</td>\n",
       "      <td>1.0</td>\n",
       "      <td>No</td>\n",
       "      <td>0.764706</td>\n",
       "      <td>1.000000</td>\n",
       "      <td>583.750455</td>\n",
       "      <td>6.168539</td>\n",
       "      <td>34</td>\n",
       "      <td>20</td>\n",
       "    </tr>\n",
       "  </tbody>\n",
       "</table>\n",
       "</div>"
      ],
      "text/plain": [
       "   week shopper  ... unique_products_per_shopper  unique_categories_per_shopper\n",
       "0     0       0  ...                          54                             25\n",
       "1     0       1  ...                          71                             24\n",
       "2     0       2  ...                          60                             22\n",
       "3     0       3  ...                          91                             24\n",
       "4     0       4  ...                          34                             20\n",
       "\n",
       "[5 rows x 20 columns]"
      ]
     },
     "execution_count": 6,
     "metadata": {
      "tags": []
     },
     "output_type": "execute_result"
    }
   ],
   "source": [
    "X_train.head()"
   ]
  }
 ],
 "metadata": {
  "colab": {
   "authorship_tag": "ABX9TyNdd93i2fDj+19JCuE+Coj4",
   "collapsed_sections": [
    "psMpyT8ssu6E"
   ],
   "include_colab_link": true,
   "mount_file_id": "1n9Y-hoyoG6YpbLwHbiRKopbA4L2d2GAq",
   "name": "train_cv.ipynb",
   "provenance": [],
   "toc_visible": true
  },
  "kernelspec": {
   "display_name": "Python 3",
   "language": "python",
   "name": "python3"
  },
  "language_info": {
   "codemirror_mode": {
    "name": "ipython",
    "version": 3
   },
   "file_extension": ".py",
   "mimetype": "text/x-python",
   "name": "python",
   "nbconvert_exporter": "python",
   "pygments_lexer": "ipython3",
   "version": "3.8.8"
  }
 },
 "nbformat": 4,
 "nbformat_minor": 4
}