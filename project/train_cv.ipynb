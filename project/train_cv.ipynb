{
<<<<<<< HEAD
 "cells": [
  {
   "cell_type": "code",
   "execution_count": 1,
   "metadata": {},
   "outputs": [],
   "source": [
    "from dataloader import Dataloader\n",
    "import pandas as pd\n",
    "import os\n",
    "\n",
    "pd.options.mode.chained_assignment = None  # default='warn'\n"
   ]
  },
  {
   "cell_type": "code",
   "execution_count": 2,
   "metadata": {},
   "outputs": [],
   "source": [
    "# Load Data\n",
    "path = os.getcwd() + \"/../data/\"\n",
    "\n",
    "# load data which creates baskets and coupons\n",
    "data = Dataloader(path)"
   ]
  },
  {
   "cell_type": "code",
   "execution_count": 3,
   "metadata": {},
   "outputs": [],
   "source": [
    "# Create Categories before CV as they don't change and consume time otherwise\n",
    "data.create_category_table(2000)"
   ]
  },
  {
   "cell_type": "code",
   "execution_count": 4,
   "metadata": {
    "collapsed": true,
    "jupyter": {
     "outputs_hidden": true
    }
   },
   "outputs": [],
   "source": [
    "# weeks = [87, 88, 89]\n",
    "weeks = [89]\n",
    "# shopper_list = list(range(2000))\n",
    "# shopper_chunks = [shopper_list[i:i + 100] for i in range(0, len(shopper_list), 100)]\n",
    "shopper_chunks = [list(range(100))]\n",
    "\n",
    "for week in weeks:\n",
    "    for shopper in shopper_chunks:\n",
    "        # train-test-split\n",
    "        data.train_test_split(week, shopper)\n",
    "\n",
    "        # data add categories \n",
    "        data.add_categories()\n",
    "\n",
    "        # create features\n",
    "        data.create_feature_dict()\n",
    "\n",
    "        # combine everything\n",
    "        X_train, y_train, X_test, y_test = data.make_featured_data()"
   ]
  },
  {
   "cell_type": "code",
   "execution_count": 5,
   "outputs": [
    {
     "data": {
      "text/plain": "  shopper product  price category  discount coupon  original_price  \\\n0       0       0  688.0       23       0.0     No             688   \n1       1       0  688.0       23       0.0     No             688   \n2       2       0  688.0       23       0.0     No             688   \n3       3       0  688.0       23       0.0     No             688   \n4       4       0  688.0       23       0.0     No             688   \n\n   total_count_of_product  reordered_product  category_count  ...  (23,)  \\\n0                       0                0.0               8  ...    1.0   \n1                       6                1.0              28  ...    1.0   \n2                       0                0.0              53  ...    0.0   \n3                       0                0.0              37  ...    0.0   \n4                       0                0.0               8  ...    0.0   \n\n  (24,)  ratio_of_reordered_products  ratio_of_reordered_categories  \\\n0   0.0                     0.722222                       0.960000   \n1   0.0                     0.830986                       1.000000   \n2   0.0                     0.700000                       0.954545   \n3   1.0                     0.714286                       1.000000   \n4   0.0                     0.764706                       1.000000   \n\n   average_price_per_shopper  average_basket_size  \\\n0                 587.203947             8.539326   \n1                 584.065350             7.393258   \n2                 571.918919             5.820225   \n3                 561.846361             8.337079   \n4                 583.750455             6.168539   \n\n   unique_products_per_shopper  unique_categories_per_shopper  \\\n0                           54                             25   \n1                           71                             24   \n2                           60                             22   \n3                           91                             24   \n4                           34                             20   \n\n   weeks_since_prior_product_order  weeks_since_prior_category_order  \n0                                1                                 1  \n1                                1                                 1  \n2                                1                                 1  \n3                                1                                 1  \n4                                1                                 1  \n\n[5 rows x 46 columns]",
      "text/html": "<div>\n<style scoped>\n    .dataframe tbody tr th:only-of-type {\n        vertical-align: middle;\n    }\n\n    .dataframe tbody tr th {\n        vertical-align: top;\n    }\n\n    .dataframe thead th {\n        text-align: right;\n    }\n</style>\n<table border=\"1\" class=\"dataframe\">\n  <thead>\n    <tr style=\"text-align: right;\">\n      <th></th>\n      <th>shopper</th>\n      <th>product</th>\n      <th>price</th>\n      <th>category</th>\n      <th>discount</th>\n      <th>coupon</th>\n      <th>original_price</th>\n      <th>total_count_of_product</th>\n      <th>reordered_product</th>\n      <th>category_count</th>\n      <th>...</th>\n      <th>(23,)</th>\n      <th>(24,)</th>\n      <th>ratio_of_reordered_products</th>\n      <th>ratio_of_reordered_categories</th>\n      <th>average_price_per_shopper</th>\n      <th>average_basket_size</th>\n      <th>unique_products_per_shopper</th>\n      <th>unique_categories_per_shopper</th>\n      <th>weeks_since_prior_product_order</th>\n      <th>weeks_since_prior_category_order</th>\n    </tr>\n  </thead>\n  <tbody>\n    <tr>\n      <th>0</th>\n      <td>0</td>\n      <td>0</td>\n      <td>688.0</td>\n      <td>23</td>\n      <td>0.0</td>\n      <td>No</td>\n      <td>688</td>\n      <td>0</td>\n      <td>0.0</td>\n      <td>8</td>\n      <td>...</td>\n      <td>1.0</td>\n      <td>0.0</td>\n      <td>0.722222</td>\n      <td>0.960000</td>\n      <td>587.203947</td>\n      <td>8.539326</td>\n      <td>54</td>\n      <td>25</td>\n      <td>1</td>\n      <td>1</td>\n    </tr>\n    <tr>\n      <th>1</th>\n      <td>1</td>\n      <td>0</td>\n      <td>688.0</td>\n      <td>23</td>\n      <td>0.0</td>\n      <td>No</td>\n      <td>688</td>\n      <td>6</td>\n      <td>1.0</td>\n      <td>28</td>\n      <td>...</td>\n      <td>1.0</td>\n      <td>0.0</td>\n      <td>0.830986</td>\n      <td>1.000000</td>\n      <td>584.065350</td>\n      <td>7.393258</td>\n      <td>71</td>\n      <td>24</td>\n      <td>1</td>\n      <td>1</td>\n    </tr>\n    <tr>\n      <th>2</th>\n      <td>2</td>\n      <td>0</td>\n      <td>688.0</td>\n      <td>23</td>\n      <td>0.0</td>\n      <td>No</td>\n      <td>688</td>\n      <td>0</td>\n      <td>0.0</td>\n      <td>53</td>\n      <td>...</td>\n      <td>0.0</td>\n      <td>0.0</td>\n      <td>0.700000</td>\n      <td>0.954545</td>\n      <td>571.918919</td>\n      <td>5.820225</td>\n      <td>60</td>\n      <td>22</td>\n      <td>1</td>\n      <td>1</td>\n    </tr>\n    <tr>\n      <th>3</th>\n      <td>3</td>\n      <td>0</td>\n      <td>688.0</td>\n      <td>23</td>\n      <td>0.0</td>\n      <td>No</td>\n      <td>688</td>\n      <td>0</td>\n      <td>0.0</td>\n      <td>37</td>\n      <td>...</td>\n      <td>0.0</td>\n      <td>1.0</td>\n      <td>0.714286</td>\n      <td>1.000000</td>\n      <td>561.846361</td>\n      <td>8.337079</td>\n      <td>91</td>\n      <td>24</td>\n      <td>1</td>\n      <td>1</td>\n    </tr>\n    <tr>\n      <th>4</th>\n      <td>4</td>\n      <td>0</td>\n      <td>688.0</td>\n      <td>23</td>\n      <td>0.0</td>\n      <td>No</td>\n      <td>688</td>\n      <td>0</td>\n      <td>0.0</td>\n      <td>8</td>\n      <td>...</td>\n      <td>0.0</td>\n      <td>0.0</td>\n      <td>0.764706</td>\n      <td>1.000000</td>\n      <td>583.750455</td>\n      <td>6.168539</td>\n      <td>34</td>\n      <td>20</td>\n      <td>1</td>\n      <td>1</td>\n    </tr>\n  </tbody>\n</table>\n<p>5 rows × 46 columns</p>\n</div>"
     },
     "execution_count": 5,
     "metadata": {},
     "output_type": "execute_result"
    }
   ],
   "source": [
    "X_train.head()"
   ],
   "metadata": {
    "collapsed": false,
    "pycharm": {
     "name": "#%%\n"
    }
   }
  },
  {
   "cell_type": "code",
   "execution_count": null,
   "outputs": [],
   "source": [],
   "metadata": {
    "collapsed": false,
    "pycharm": {
     "name": "#%%\n"
    }
   }
  },
  {
   "cell_type": "code",
   "execution_count": null,
   "outputs": [],
   "source": [
    "# # Too large to port all\n",
    "# X_train.head(100000).to_excel(\"X_train.xlsx\")\n",
    "# X_train.head(10000).to_excel(\"X_train.xlsx\")"
   ],
   "metadata": {
    "collapsed": false,
    "pycharm": {
     "name": "#%%\n"
    }
   }
  },
  {
   "cell_type": "code",
   "execution_count": null,
   "outputs": [],
   "source": [],
   "metadata": {
    "collapsed": false,
    "pycharm": {
     "name": "#%%\n"
    }
   }
  }
 ],
 "metadata": {
  "kernelspec": {
   "display_name": "Python 3",
   "language": "python",
   "name": "python3"
  },
  "language_info": {
   "codemirror_mode": {
    "name": "ipython",
    "version": 3
   },
   "file_extension": ".py",
   "mimetype": "text/x-python",
   "name": "python",
   "nbconvert_exporter": "python",
   "pygments_lexer": "ipython3",
   "version": "3.7.6"
  }
 },
 "nbformat": 4,
 "nbformat_minor": 4
=======
  "nbformat": 4,
  "nbformat_minor": 0,
  "metadata": {
    "colab": {
      "name": "train_cv.ipynb",
      "provenance": [],
      "collapsed_sections": [
        "psMpyT8ssu6E"
      ],
      "toc_visible": true,
      "mount_file_id": "1n9Y-hoyoG6YpbLwHbiRKopbA4L2d2GAq",
      "authorship_tag": "ABX9TyNdd93i2fDj+19JCuE+Coj4",
      "include_colab_link": true
    },
    "kernelspec": {
      "name": "python3",
      "display_name": "Python 3"
    }
  },
  "cells": [
    {
      "cell_type": "markdown",
      "metadata": {
        "id": "view-in-github",
        "colab_type": "text"
      },
      "source": [
        "<a href=\"https://colab.research.google.com/github/uhdang/mlim_group_3_final_assignment/blob/moving_window/project/train_cv.ipynb\" target=\"_parent\"><img src=\"https://colab.research.google.com/assets/colab-badge.svg\" alt=\"Open In Colab\"/></a>"
      ]
    },
    {
      "cell_type": "markdown",
      "metadata": {
        "id": "GZmdD9ENz1rI"
      },
      "source": [
        "TODO:\r\n",
        "\r\n",
        "- Downsample training set (reduce method to delete irrelevant rows)\r\n",
        "- maybe PCA()"
      ]
    },
    {
      "cell_type": "markdown",
      "metadata": {
        "id": "jaaoayvlsm9G"
      },
      "source": [
        "# Google Colab Runtime\r\n",
        "Run if using Google Colab"
      ]
    },
    {
      "cell_type": "code",
      "metadata": {
        "colab": {
          "base_uri": "https://localhost:8080/"
        },
        "id": "86i45kEfms5D",
        "outputId": "763b3965-8780-4417-bbd3-888ac171634c"
      },
      "source": [
        "import pandas as pd\r\n",
        "import numpy as np\r\n",
        "import os\r\n",
        "from google.colab import drive\r\n",
        "import sys\r\n",
        "drive.mount('/content/drive')\r\n",
        "sys.path.append('/content/drive/My Drive/My Drive')\r\n",
        "\r\n",
        "from dataloader import Dataloader\r\n",
        "# Load Data\r\n",
        "path = \"/content/drive/MyDrive/My Drive/\""
      ],
      "execution_count": 1,
      "outputs": [
        {
          "output_type": "stream",
          "text": [
            "Drive already mounted at /content/drive; to attempt to forcibly remount, call drive.mount(\"/content/drive\", force_remount=True).\n"
          ],
          "name": "stdout"
        }
      ]
    },
    {
      "cell_type": "markdown",
      "metadata": {
        "id": "psMpyT8ssu6E"
      },
      "source": [
        "# Local Runtime\r\n",
        "Run if using notebook locally"
      ]
    },
    {
      "cell_type": "code",
      "metadata": {
        "id": "XgbVDmxCmYc_"
      },
      "source": [
        "import pandas as pd\r\n",
        "import os\r\n",
        "from dataloader import Dataloader\r\n",
        "\r\n",
        "# Load Data\r\n",
        "path = os.getcwd() + \"/../data/\""
      ],
      "execution_count": 2,
      "outputs": []
    },
    {
      "cell_type": "markdown",
      "metadata": {
        "id": "STbPksO71J4p"
      },
      "source": [
        "# Load Data"
      ]
    },
    {
      "cell_type": "code",
      "metadata": {
        "id": "d1xFPV6hneM7"
      },
      "source": [
        "# load data which creates baskets and coupons\r\n",
        "data = Dataloader(path)"
      ],
      "execution_count": 2,
      "outputs": []
    },
    {
      "cell_type": "code",
      "metadata": {
        "id": "gWGa7Or_npeD"
      },
      "source": [
        "# Create Categories before CV as they don't change and consume time otherwiser\r\n",
        "data.create_category_table(1000)"
      ],
      "execution_count": 3,
      "outputs": []
    },
    {
      "cell_type": "code",
      "metadata": {
        "id": "O3VhVltOnwRD"
      },
      "source": [
        "%%capture\r\n",
        "# weeks = [86, 87, 88]\r\n",
        "weeks = [88, 89]\r\n",
        "# shopper_list = list(range(2000))\r\n",
        "# shopper_chunks = [shopper_list[i:i + 100] for i in range(0, len(shopper_list), 100)]\r\n",
        "shopper_chunks = [list(range(10)), list(range(10,20))]\r\n",
        "\r\n",
        "cv_dict = {\r\n",
        "    'X_train': list(),\r\n",
        "    'y_train': list(),\r\n",
        "    'X_test': list(),\r\n",
        "    'y_test': list()\r\n",
        "}\r\n",
        "\r\n",
        "for week in weeks:\r\n",
        "\r\n",
        "  X_train_list = list()\r\n",
        "  y_train_list = list()\r\n",
        "  X_test_list = list()\r\n",
        "  y_test_list = list()\r\n",
        "\r\n",
        "  for shopper in shopper_chunks:\r\n",
        "      # train-test-split\r\n",
        "      data.train_test_split(week, shopper)\r\n",
        "\r\n",
        "      # data add categories \r\n",
        "      data.add_categories()\r\n",
        "\r\n",
        "      # create features\r\n",
        "      data.create_feature_dict()\r\n",
        "\r\n",
        "      # combine everything\r\n",
        "      X_train, y_train, X_test, y_test = data.make_featured_data()\r\n",
        "\r\n",
        "      X_train_list.append(X_train)\r\n",
        "      y_train_list.append(y_train)\r\n",
        "      X_test_list.append(X_test)\r\n",
        "      y_test_list.append(y_test)\r\n",
        "    \r\n",
        "  cv_dict['X_train'].append(pd.concat(X_train_list, ignore_index=True))\r\n",
        "  cv_dict['y_train'].append(pd.concat(y_train_list, ignore_index=True))\r\n",
        "  cv_dict['X_test'].append(pd.concat(X_test_list, ignore_index=True))\r\n",
        "  cv_dict['y_test'].append(pd.concat(y_test_list, ignore_index=True))\r\n",
        "  del X_train, y_train, X_test, y_test"
      ],
      "execution_count": 4,
      "outputs": []
    },
    {
      "cell_type": "code",
      "metadata": {
        "id": "ZB4BCjo8e1dA"
      },
      "source": [
        "# # Save object for faster load\r\n",
        "# import pickle\r\n",
        "# with open('test.pkl', 'wb') as output:\r\n",
        "#   pickle.dump(data, output, -1)"
      ],
      "execution_count": 5,
      "outputs": []
    },
    {
      "cell_type": "markdown",
      "metadata": {
        "id": "Ts4lbT47sQdO"
      },
      "source": [
        "# Hyperparameter Tuning"
      ]
    },
    {
      "cell_type": "code",
      "metadata": {
        "id": "hAJ0GTc_sep6"
      },
      "source": [
        "%%capture\r\n",
        "!pip install optuna"
      ],
      "execution_count": 7,
      "outputs": []
    },
    {
      "cell_type": "code",
      "metadata": {
        "id": "Ec8x9RMFsP_K"
      },
      "source": [
        "import optuna\r\n",
        "from lightgbm.sklearn import LGBMClassifier\r\n",
        "from sklearn.metrics import roc_auc_score"
      ],
      "execution_count": 8,
      "outputs": []
    },
    {
      "cell_type": "code",
      "metadata": {
        "id": "k8FPHWMlsfO1"
      },
      "source": [
        "# 1. Define an objective function to be maximized.\r\n",
        "class Objective(object):\r\n",
        "  def __init__(self, data):\r\n",
        "    self.data = data\r\n",
        "  def __call__(self, trial):\r\n",
        "    # 2. Suggest values for the hyperparameters using a trial object.\r\n",
        "    params = {\r\n",
        "        # 'objective': 'binary',\r\n",
        "        # 'metric': 'binary_logloss',\r\n",
        "        # 'verbosity': -1,\r\n",
        "        # 'boosting_type': 'gbdt',\r\n",
        "        # 'lambda_l1': trial.suggest_loguniform('lambda_l1', 1e-8, 10.0),\r\n",
        "        # 'lambda_l2': trial.suggest_loguniform('lambda_l2', 1e-8, 10.0),\r\n",
        "        # 'num_leaves': trial.suggest_int('num_leaves', 2, 256),\r\n",
        "        # 'feature_fraction': trial.suggest_uniform('feature_fraction', 0.4, 1.0),\r\n",
        "        # 'bagging_fraction': trial.suggest_uniform('bagging_fraction', 0.4, 1.0),\r\n",
        "        # 'bagging_freq': trial.suggest_int('bagging_freq', 1, 7),\r\n",
        "        'min_child_samples': trial.suggest_int('min_child_samples', 5, 100)\r\n",
        "    }\r\n",
        "\r\n",
        "    lgb_clf = LGBMClassifier(**params)\r\n",
        "    auc_dict = {}\r\n",
        "    folds = len(self.data['X_train'])\r\n",
        "\r\n",
        "    for fold in range(folds):\r\n",
        "      lgb_clf.fit(\r\n",
        "          X = self.data['X_train'][fold], \r\n",
        "          y = self.data['y_train'][fold]\r\n",
        "      )\r\n",
        "      auc_score = roc_auc_score(\r\n",
        "          y_true = self.data['y_test'][fold],\r\n",
        "          y_score = lgb_clf.predict_proba(self.data['X_test'][fold])[:,1]\r\n",
        "      )\r\n",
        "      auc_dict[f'Fold {str(fold)}'] = auc_score\r\n",
        "\r\n",
        "    accuracy = sum(auc_dict.values()) / len(auc_dict.values())\r\n",
        "\r\n",
        "    return accuracy    "
      ],
      "execution_count": 9,
      "outputs": []
    },
    {
      "cell_type": "code",
      "metadata": {
        "colab": {
          "base_uri": "https://localhost:8080/"
        },
        "id": "uOYfB8uN0yHZ",
        "outputId": "7d9f7080-b167-4312-a9b9-533e4eca0f7e"
      },
      "source": [
        "# 3. Create a study object and optimize the objective function.\r\n",
        "\r\n",
        "# Load the dataset in advance for reusing it each trial execution.\r\n",
        "objective = Objective(cv_dict)\r\n",
        "study = optuna.create_study(direction='maximize')\r\n",
        "study.optimize(objective, n_trials=2)"
      ],
      "execution_count": 12,
      "outputs": [
        {
          "output_type": "stream",
          "text": [
            "\u001b[32m[I 2021-03-18 20:22:19,213]\u001b[0m A new study created in memory with name: no-name-93f45318-8e1b-4824-afa1-1da842bdf9a5\u001b[0m\n",
            "\u001b[32m[I 2021-03-18 20:23:18,060]\u001b[0m Trial 0 finished with value: 0.9439790932029444 and parameters: {'min_child_samples': 25}. Best is trial 0 with value: 0.9439790932029444.\u001b[0m\n",
            "\u001b[32m[I 2021-03-18 20:24:15,686]\u001b[0m Trial 1 finished with value: 0.9459737152065653 and parameters: {'min_child_samples': 40}. Best is trial 1 with value: 0.9459737152065653.\u001b[0m\n"
          ],
          "name": "stderr"
        }
      ]
    },
    {
      "cell_type": "markdown",
      "metadata": {
        "id": "uKWx32kLAPxQ"
      },
      "source": [
        "# Prediction and Revenue Optimization"
      ]
    },
    {
      "cell_type": "code",
      "metadata": {
        "id": "RgFFXYj7ATbA"
      },
      "source": [
        ""
      ],
      "execution_count": null,
      "outputs": []
    },
    {
      "cell_type": "markdown",
      "metadata": {
        "id": "BwuSYI3m_K1h"
      },
      "source": [
        "# Playground"
      ]
    },
    {
      "cell_type": "code",
      "metadata": {
        "id": "xE6VKvuovPGo"
      },
      "source": [
        "# train-test-split\r\n",
        "data.train_test_split(89, list(range(50)))\r\n",
        "\r\n",
        "# data add categories \r\n",
        "data.add_categories()\r\n",
        "data.create_feature_dict()\r\n",
        "X_train = data._make_full_table(data.baskets_train, data.coupons_train)\r\n",
        "X_test = data._make_full_table(data.baskets_test, data.coupons_test)\r\n",
        "\r\n",
        "X_train = data._merge_features(X_train, data.feature_dict)\r\n",
        "X_test = data._merge_features(X_test, data.feature_dict)"
      ],
      "execution_count": null,
      "outputs": []
    },
    {
      "cell_type": "code",
      "metadata": {
        "colab": {
          "base_uri": "https://localhost:8080/",
          "height": 224
        },
        "id": "5PoslMy6HYUS",
        "outputId": "ec401ccf-1898-406f-e6bd-51e1898ee125"
      },
      "source": [
        "X_train.head()"
      ],
      "execution_count": 6,
      "outputs": [
        {
          "output_type": "execute_result",
          "data": {
            "text/html": [
              "<div>\n",
              "<style scoped>\n",
              "    .dataframe tbody tr th:only-of-type {\n",
              "        vertical-align: middle;\n",
              "    }\n",
              "\n",
              "    .dataframe tbody tr th {\n",
              "        vertical-align: top;\n",
              "    }\n",
              "\n",
              "    .dataframe thead th {\n",
              "        text-align: right;\n",
              "    }\n",
              "</style>\n",
              "<table border=\"1\" class=\"dataframe\">\n",
              "  <thead>\n",
              "    <tr style=\"text-align: right;\">\n",
              "      <th></th>\n",
              "      <th>week</th>\n",
              "      <th>shopper</th>\n",
              "      <th>product</th>\n",
              "      <th>price</th>\n",
              "      <th>target</th>\n",
              "      <th>category</th>\n",
              "      <th>discount</th>\n",
              "      <th>coupon</th>\n",
              "      <th>original_price</th>\n",
              "      <th>ratio_product_count</th>\n",
              "      <th>ratio_category_count</th>\n",
              "      <th>reordered_product</th>\n",
              "      <th>reordered_category</th>\n",
              "      <th>coupon_in_same_category</th>\n",
              "      <th>ratio_of_reordered_products</th>\n",
              "      <th>ratio_of_reordered_categories</th>\n",
              "      <th>average_price_per_shopper</th>\n",
              "      <th>average_basket_size</th>\n",
              "      <th>unique_products_per_shopper</th>\n",
              "      <th>unique_categories_per_shopper</th>\n",
              "    </tr>\n",
              "  </thead>\n",
              "  <tbody>\n",
              "    <tr>\n",
              "      <th>0</th>\n",
              "      <td>0</td>\n",
              "      <td>0</td>\n",
              "      <td>0</td>\n",
              "      <td>688.0</td>\n",
              "      <td>0.0</td>\n",
              "      <td>12</td>\n",
              "      <td>0.0</td>\n",
              "      <td>No</td>\n",
              "      <td>688</td>\n",
              "      <td>0.000000</td>\n",
              "      <td>0.089888</td>\n",
              "      <td>0.0</td>\n",
              "      <td>1.0</td>\n",
              "      <td>Yes</td>\n",
              "      <td>0.722222</td>\n",
              "      <td>0.960000</td>\n",
              "      <td>587.203947</td>\n",
              "      <td>8.539326</td>\n",
              "      <td>54</td>\n",
              "      <td>25</td>\n",
              "    </tr>\n",
              "    <tr>\n",
              "      <th>1</th>\n",
              "      <td>0</td>\n",
              "      <td>1</td>\n",
              "      <td>0</td>\n",
              "      <td>688.0</td>\n",
              "      <td>0.0</td>\n",
              "      <td>12</td>\n",
              "      <td>0.0</td>\n",
              "      <td>No</td>\n",
              "      <td>688</td>\n",
              "      <td>0.067416</td>\n",
              "      <td>0.314607</td>\n",
              "      <td>1.0</td>\n",
              "      <td>1.0</td>\n",
              "      <td>Yes</td>\n",
              "      <td>0.830986</td>\n",
              "      <td>1.000000</td>\n",
              "      <td>584.065350</td>\n",
              "      <td>7.393258</td>\n",
              "      <td>71</td>\n",
              "      <td>24</td>\n",
              "    </tr>\n",
              "    <tr>\n",
              "      <th>2</th>\n",
              "      <td>0</td>\n",
              "      <td>2</td>\n",
              "      <td>0</td>\n",
              "      <td>688.0</td>\n",
              "      <td>0.0</td>\n",
              "      <td>12</td>\n",
              "      <td>0.0</td>\n",
              "      <td>No</td>\n",
              "      <td>688</td>\n",
              "      <td>0.000000</td>\n",
              "      <td>0.595506</td>\n",
              "      <td>0.0</td>\n",
              "      <td>1.0</td>\n",
              "      <td>No</td>\n",
              "      <td>0.700000</td>\n",
              "      <td>0.954545</td>\n",
              "      <td>571.918919</td>\n",
              "      <td>5.820225</td>\n",
              "      <td>60</td>\n",
              "      <td>22</td>\n",
              "    </tr>\n",
              "    <tr>\n",
              "      <th>3</th>\n",
              "      <td>0</td>\n",
              "      <td>3</td>\n",
              "      <td>0</td>\n",
              "      <td>688.0</td>\n",
              "      <td>0.0</td>\n",
              "      <td>12</td>\n",
              "      <td>0.0</td>\n",
              "      <td>No</td>\n",
              "      <td>688</td>\n",
              "      <td>0.000000</td>\n",
              "      <td>0.415730</td>\n",
              "      <td>0.0</td>\n",
              "      <td>1.0</td>\n",
              "      <td>No</td>\n",
              "      <td>0.714286</td>\n",
              "      <td>1.000000</td>\n",
              "      <td>561.846361</td>\n",
              "      <td>8.337079</td>\n",
              "      <td>91</td>\n",
              "      <td>24</td>\n",
              "    </tr>\n",
              "    <tr>\n",
              "      <th>4</th>\n",
              "      <td>0</td>\n",
              "      <td>4</td>\n",
              "      <td>0</td>\n",
              "      <td>688.0</td>\n",
              "      <td>0.0</td>\n",
              "      <td>12</td>\n",
              "      <td>0.0</td>\n",
              "      <td>No</td>\n",
              "      <td>688</td>\n",
              "      <td>0.000000</td>\n",
              "      <td>0.089888</td>\n",
              "      <td>0.0</td>\n",
              "      <td>1.0</td>\n",
              "      <td>No</td>\n",
              "      <td>0.764706</td>\n",
              "      <td>1.000000</td>\n",
              "      <td>583.750455</td>\n",
              "      <td>6.168539</td>\n",
              "      <td>34</td>\n",
              "      <td>20</td>\n",
              "    </tr>\n",
              "  </tbody>\n",
              "</table>\n",
              "</div>"
            ],
            "text/plain": [
              "   week shopper  ... unique_products_per_shopper  unique_categories_per_shopper\n",
              "0     0       0  ...                          54                             25\n",
              "1     0       1  ...                          71                             24\n",
              "2     0       2  ...                          60                             22\n",
              "3     0       3  ...                          91                             24\n",
              "4     0       4  ...                          34                             20\n",
              "\n",
              "[5 rows x 20 columns]"
            ]
          },
          "metadata": {
            "tags": []
          },
          "execution_count": 6
        }
      ]
    }
  ]
>>>>>>> ece1e34879c98e80ca6f825e05677d8f495227d7
}