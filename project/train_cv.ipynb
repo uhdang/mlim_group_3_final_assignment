{
 "cells": [
  {
   "cell_type": "markdown",
   "metadata": {
    "colab_type": "text",
    "id": "view-in-github"
   },
   "source": [
    "<a href=\"https://colab.research.google.com/github/uhdang/mlim_group_3_final_assignment/blob/main/project/train_cv.ipynb\" target=\"_parent\"><img src=\"https://colab.research.google.com/assets/colab-badge.svg\" alt=\"Open In Colab\"/></a>"
   ]
  },
  {
   "cell_type": "markdown",
   "metadata": {
    "id": "GZmdD9ENz1rI"
   },
   "source": [
    "TODO:\n",
    "\n",
    "- Downsample training set (reduce method to delete irrelevant rows)\n",
    "- maybe PCA()"
   ]
  },
  {
   "cell_type": "markdown",
   "metadata": {
    "id": "jaaoayvlsm9G"
   },
   "source": [
    "# Google Colab Runtime\n",
    "Run if using Google Colab"
   ]
  },
  {
   "cell_type": "code",
   "execution_count": 1,
   "metadata": {
    "colab": {
     "base_uri": "https://localhost:8080/"
    },
    "id": "86i45kEfms5D",
    "outputId": "763b3965-8780-4417-bbd3-888ac171634c"
   },
   "outputs": [],
   "source": [
    "# # # import pandas as pd\n",
    "# # # \n",
    "# # import numpy as np# \n",
    "# # \n",
    "# import o# s# \n",
    "# \n",
    "# from google.colab import dri# v# e# \n",
    "# \n",
    "# import # s# y# s#\n",
    "# drive.mount('/content/dri# v# e# '# )\n",
    "# sys.path.append('/content/drive/My Drive/My Dri# v# e# '# )\n",
    "#\n",
    "# from dataloader import Dat# a# l# o# ader\n",
    "# # L# o# a# d#  Data\n",
    "# path = \"/content/drive/MyDrive/My Drive/\""
   ]
  },
  {
   "cell_type": "markdown",
   "metadata": {
    "id": "psMpyT8ssu6E"
   },
   "source": [
    "# Local Runtime\n",
    "Run if using notebook locally"
   ]
  },
  {
   "cell_type": "code",
   "execution_count": 24,
   "metadata": {
    "id": "XgbVDmxCmYc_"
   },
   "outputs": [],
   "source": [
    "import pandas as pd\n",
    "import os\n",
    "from tqdm import tqdm\n",
    "\n",
    "pd.options.mode.chained_assignment = None  # default='warn'\n",
    "\n",
    "from dataloader import Dataloader\n",
    "from dataloader import create_combined_dict\n",
    "\n",
    "# Load Data\n",
    "path = os.getcwd() + \"/../data/\""
   ]
  },
  {
   "cell_type": "markdown",
   "metadata": {
    "id": "STbPksO71J4p"
   },
   "source": [
    "# Load Data"
   ]
  },
  {
   "cell_type": "code",
   "execution_count": 25,
   "metadata": {
    "id": "d1xFPV6hneM7"
   },
   "outputs": [],
   "source": [
    "# load data which creates baskets and coupons\n",
    "data = Dataloader(path)"
   ]
  },
  {
   "cell_type": "code",
   "execution_count": 26,
   "metadata": {
    "id": "gWGa7Or_npeD"
   },
   "outputs": [],
   "source": [
    "# Create Categories before CV as they don't change and consume time otherwise\n",
    "data.create_category_table(10000)"
   ]
  },
  {
   "cell_type": "code",
   "execution_count": 27,
   "metadata": {
    "id": "O3VhVltOnwRD"
   },
   "outputs": [],
   "source": [
    "%%capture\n",
    "weeks = [86, 87, 88, 89]\n",
    "shopper_list = list(range(2000))\n",
    "shopper_chunks = [shopper_list[i:i + 100] for i in range(0, len(shopper_list), 100)]\n",
    "\n",
    "cv_dict = {\n",
    "    'X_train': list(),\n",
    "    'y_train': list(),\n",
    "    'X_test': list(),\n",
    "    'y_test': list()\n",
    "}"
   ]
  },
  {
   "cell_type": "code",
   "execution_count": null,
   "metadata": {
    "collapsed": false,
    "jupyter": {
     "outputs_hidden": false
    },
    "pycharm": {
     "name": "#%%\n",
     "is_executing": true
    }
   },
   "outputs": [
    {
     "name": "stderr",
     "output_type": "stream",
     "text": [
      " 20%|██        | 4/20 [08:07<32:33, 122.06s/it]"
     ]
    },
    {
     "name": "stdout",
     "output_type": "stream",
     "text": [
      "week: 86\n"
     ]
    }
   ],
   "source": [
    "for i, week in enumerate(weeks):\n",
    "  print(f\"week: {week}\")\n",
    "\n",
    "  X_train_list = list()\n",
    "  y_train_list = list()\n",
    "  X_test_list = list()\n",
    "  y_test_list = list()\n",
    "\n",
    "  for idx, shopper in enumerate(tqdm(shopper_chunks)):\n",
    "      # print(f\"shopper_chunk index: {idx}\")\n",
    "\n",
    "      # train-test-split\n",
    "      data.train_test_split(week, shopper)\n",
    "\n",
    "      # data add categories\n",
    "      data.add_categories()\n",
    "\n",
    "      # create features\n",
    "      data.create_feature_dict()\n",
    "\n",
    "      # combine everything\n",
    "      if i == 0:\n",
    "          X_train, y_train, X_test, y_test = data.make_featured_data()\n",
    "          X_train_list.append(X_train)\n",
    "          y_train_list.append(y_train)\n",
    "          del X_train, y_train\n",
    "      else:\n",
    "          _, _, X_test, y_test = data.make_featured_data()\n",
    "\n",
    "      X_test_list.append(X_test)\n",
    "      y_test_list.append(y_test)\n",
    "      del X_test, y_test\n",
    "\n",
    "  cv_dict = create_combined_dict(X_train_list, y_train_list, X_test_list, y_test_list, cv_dict)"
   ]
  },
  {
   "cell_type": "code",
   "execution_count": null,
   "outputs": [],
   "source": [
    "cv_dict[\"X_train\"][0][\"shopper\"]"
   ],
   "metadata": {
    "collapsed": false,
    "pycharm": {
     "name": "#%%\n",
     "is_executing": true
    }
   }
  },
  {
   "cell_type": "code",
   "execution_count": null,
   "metadata": {
    "collapsed": false,
    "jupyter": {
     "outputs_hidden": false
    },
    "pycharm": {
     "name": "#%%\n",
     "is_executing": true
    }
   },
   "outputs": [],
   "source": [
    "import pickle\n",
    "\n",
    "with open('cv_dict.pickle', 'wb') as handle:\n",
    "    pickle.dump(cv_dict, handle, protocol=pickle.HIGHEST_PROTOCOL)"
   ]
  },
  {
   "cell_type": "markdown",
   "metadata": {
    "id": "Ts4lbT47sQdO",
    "pycharm": {
     "name": "#%% md\n",
     "is_executing": true
    }
   },
   "source": [
    "# Hyperparameter Tuning"
   ]
  },
  {
   "cell_type": "code",
   "execution_count": 7,
   "metadata": {
    "id": "hAJ0GTc_sep6"
   },
   "outputs": [],
   "source": [
    "%%capture\n",
    "!pip install optuna"
   ]
  },
  {
   "cell_type": "code",
   "execution_count": null,
   "outputs": [],
   "source": [
    "import optuna\n",
    "import optuna.integration.lightgbm as lgb\n",
    "from sklearn.metrics import roc_auc_score\n",
    "\n",
    "dtrain = lgb.Dataset(cv_dict['X_train'][0], label=cv_dict['y_train'][0])\n",
    "dval0 = lgb.Dataset(cv_dict['X_test'][0], label=cv_dict['y_test'][0])\n",
    "dval1 = lgb.Dataset(cv_dict['X_test'][1], label=cv_dict['y_test'][1])\n",
    "dval2 = lgb.Dataset(cv_dict['X_test'][2], label=cv_dict['y_test'][2])\n",
    "dval3 = lgb.Dataset(cv_dict['X_test'][3], label=cv_dict['y_test'][3])\n",
    "\n",
    "params = {\n",
    "    \"objective\": \"binary\",\n",
    "    \"metric\": \"binary_logloss\",\n",
    "    \"verbosity\": -1,\n",
    "    \"boosting_type\": \"gbdt\",\n",
    "}\n",
    "\n",
    "lgb_clf = lgb.train(\n",
    "    params,\n",
    "    dtrain,\n",
    "    valid_sets=[dval0, dval1, dval2, dval3],\n",
    "    verbose_eval=100,\n",
    "    early_stopping_rounds=100\n",
    ")\n",
    "\n",
    "prediction = lgb_clf.predict_proba(cv_dict['X_test'][3], num_iteration=lgb_clf.best_iteration)[:,1]\n",
    "AUC = roc_auc_score(\n",
    "    y_true = cv_dict['y_test'][3],\n",
    "    y_score = prediction\n",
    ")\n",
    "\n",
    "\n",
    "best_params = lgb_clf.params\n",
    "print(\"Best params:\", best_params)\n",
    "print(\"  Accuracy = {}\".format(AUC))\n",
    "print(\"  Params: \")\n",
    "for key, value in best_params.items():\n",
    "    print(\"    {}: {}\".format(key, value))"
   ],
   "metadata": {
    "collapsed": false,
    "pycharm": {
     "name": "#%%\n"
    }
   }
  },
  {
   "cell_type": "code",
   "execution_count": null,
   "outputs": [],
   "source": [],
   "metadata": {
    "collapsed": false,
    "pycharm": {
     "name": "#%%\n"
    }
   }
  },
  {
   "cell_type": "markdown",
   "metadata": {
    "id": "uKWx32kLAPxQ"
   },
   "source": [
    "# Prediction and Revenue Optimization"
   ]
  },
  {
   "cell_type": "code",
   "execution_count": null,
   "metadata": {
    "id": "RgFFXYj7ATbA"
   },
   "outputs": [],
   "source": []
  },
  {
   "cell_type": "markdown",
   "metadata": {
    "id": "BwuSYI3m_K1h"
   },
   "source": [
    "# Playground"
   ]
  },
  {
   "cell_type": "code",
   "execution_count": null,
   "metadata": {
    "id": "xE6VKvuovPGo"
   },
   "outputs": [],
   "source": [
    "# train-test-split\r\n",
    "data.train_test_split(89, list(range(50)))\r\n",
    "\r\n",
    "# data add categories \r\n",
    "data.add_categories()\r\n",
    "data.create_feature_dict()\r\n",
    "X_train = data._make_full_table(data.baskets_train, data.coupons_train)\r\n",
    "X_test = data._make_full_table(data.baskets_test, data.coupons_test)\r\n",
    "\r\n",
    "X_train = data._merge_features(X_train, data.feature_dict)\r\n",
    "X_test = data._merge_features(X_test, data.feature_dict)"
   ]
  },
  {
   "cell_type": "code",
   "execution_count": 6,
   "metadata": {
    "colab": {
     "base_uri": "https://localhost:8080/",
     "height": 224
    },
    "id": "5PoslMy6HYUS",
    "outputId": "ec401ccf-1898-406f-e6bd-51e1898ee125"
   },
   "outputs": [
    {
     "data": {
      "text/html": [
       "<div>\n",
       "<style scoped>\n",
       "    .dataframe tbody tr th:only-of-type {\n",
       "        vertical-align: middle;\n",
       "    }\n",
       "\n",
       "    .dataframe tbody tr th {\n",
       "        vertical-align: top;\n",
       "    }\n",
       "\n",
       "    .dataframe thead th {\n",
       "        text-align: right;\n",
       "    }\n",
       "</style>\n",
       "<table border=\"1\" class=\"dataframe\">\n",
       "  <thead>\n",
       "    <tr style=\"text-align: right;\">\n",
       "      <th></th>\n",
       "      <th>week</th>\n",
       "      <th>shopper</th>\n",
       "      <th>product</th>\n",
       "      <th>price</th>\n",
       "      <th>target</th>\n",
       "      <th>category</th>\n",
       "      <th>discount</th>\n",
       "      <th>coupon</th>\n",
       "      <th>original_price</th>\n",
       "      <th>ratio_product_count</th>\n",
       "      <th>ratio_category_count</th>\n",
       "      <th>reordered_product</th>\n",
       "      <th>reordered_category</th>\n",
       "      <th>coupon_in_same_category</th>\n",
       "      <th>ratio_of_reordered_products</th>\n",
       "      <th>ratio_of_reordered_categories</th>\n",
       "      <th>average_price_per_shopper</th>\n",
       "      <th>average_basket_size</th>\n",
       "      <th>unique_products_per_shopper</th>\n",
       "      <th>unique_categories_per_shopper</th>\n",
       "    </tr>\n",
       "  </thead>\n",
       "  <tbody>\n",
       "    <tr>\n",
       "      <th>0</th>\n",
       "      <td>0</td>\n",
       "      <td>0</td>\n",
       "      <td>0</td>\n",
       "      <td>688.0</td>\n",
       "      <td>0.0</td>\n",
       "      <td>12</td>\n",
       "      <td>0.0</td>\n",
       "      <td>No</td>\n",
       "      <td>688</td>\n",
       "      <td>0.000000</td>\n",
       "      <td>0.089888</td>\n",
       "      <td>0.0</td>\n",
       "      <td>1.0</td>\n",
       "      <td>Yes</td>\n",
       "      <td>0.722222</td>\n",
       "      <td>0.960000</td>\n",
       "      <td>587.203947</td>\n",
       "      <td>8.539326</td>\n",
       "      <td>54</td>\n",
       "      <td>25</td>\n",
       "    </tr>\n",
       "    <tr>\n",
       "      <th>1</th>\n",
       "      <td>0</td>\n",
       "      <td>1</td>\n",
       "      <td>0</td>\n",
       "      <td>688.0</td>\n",
       "      <td>0.0</td>\n",
       "      <td>12</td>\n",
       "      <td>0.0</td>\n",
       "      <td>No</td>\n",
       "      <td>688</td>\n",
       "      <td>0.067416</td>\n",
       "      <td>0.314607</td>\n",
       "      <td>1.0</td>\n",
       "      <td>1.0</td>\n",
       "      <td>Yes</td>\n",
       "      <td>0.830986</td>\n",
       "      <td>1.000000</td>\n",
       "      <td>584.065350</td>\n",
       "      <td>7.393258</td>\n",
       "      <td>71</td>\n",
       "      <td>24</td>\n",
       "    </tr>\n",
       "    <tr>\n",
       "      <th>2</th>\n",
       "      <td>0</td>\n",
       "      <td>2</td>\n",
       "      <td>0</td>\n",
       "      <td>688.0</td>\n",
       "      <td>0.0</td>\n",
       "      <td>12</td>\n",
       "      <td>0.0</td>\n",
       "      <td>No</td>\n",
       "      <td>688</td>\n",
       "      <td>0.000000</td>\n",
       "      <td>0.595506</td>\n",
       "      <td>0.0</td>\n",
       "      <td>1.0</td>\n",
       "      <td>No</td>\n",
       "      <td>0.700000</td>\n",
       "      <td>0.954545</td>\n",
       "      <td>571.918919</td>\n",
       "      <td>5.820225</td>\n",
       "      <td>60</td>\n",
       "      <td>22</td>\n",
       "    </tr>\n",
       "    <tr>\n",
       "      <th>3</th>\n",
       "      <td>0</td>\n",
       "      <td>3</td>\n",
       "      <td>0</td>\n",
       "      <td>688.0</td>\n",
       "      <td>0.0</td>\n",
       "      <td>12</td>\n",
       "      <td>0.0</td>\n",
       "      <td>No</td>\n",
       "      <td>688</td>\n",
       "      <td>0.000000</td>\n",
       "      <td>0.415730</td>\n",
       "      <td>0.0</td>\n",
       "      <td>1.0</td>\n",
       "      <td>No</td>\n",
       "      <td>0.714286</td>\n",
       "      <td>1.000000</td>\n",
       "      <td>561.846361</td>\n",
       "      <td>8.337079</td>\n",
       "      <td>91</td>\n",
       "      <td>24</td>\n",
       "    </tr>\n",
       "    <tr>\n",
       "      <th>4</th>\n",
       "      <td>0</td>\n",
       "      <td>4</td>\n",
       "      <td>0</td>\n",
       "      <td>688.0</td>\n",
       "      <td>0.0</td>\n",
       "      <td>12</td>\n",
       "      <td>0.0</td>\n",
       "      <td>No</td>\n",
       "      <td>688</td>\n",
       "      <td>0.000000</td>\n",
       "      <td>0.089888</td>\n",
       "      <td>0.0</td>\n",
       "      <td>1.0</td>\n",
       "      <td>No</td>\n",
       "      <td>0.764706</td>\n",
       "      <td>1.000000</td>\n",
       "      <td>583.750455</td>\n",
       "      <td>6.168539</td>\n",
       "      <td>34</td>\n",
       "      <td>20</td>\n",
       "    </tr>\n",
       "  </tbody>\n",
       "</table>\n",
       "</div>"
      ],
      "text/plain": [
       "   week shopper  ... unique_products_per_shopper  unique_categories_per_shopper\n",
       "0     0       0  ...                          54                             25\n",
       "1     0       1  ...                          71                             24\n",
       "2     0       2  ...                          60                             22\n",
       "3     0       3  ...                          91                             24\n",
       "4     0       4  ...                          34                             20\n",
       "\n",
       "[5 rows x 20 columns]"
      ]
     },
     "execution_count": 6,
     "metadata": {
      "tags": []
     },
     "output_type": "execute_result"
    }
   ],
   "source": [
    "X_train.head()"
   ]
  }
 ],
 "metadata": {
  "colab": {
   "authorship_tag": "ABX9TyNdd93i2fDj+19JCuE+Coj4",
   "collapsed_sections": [
    "psMpyT8ssu6E"
   ],
   "include_colab_link": true,
   "mount_file_id": "1n9Y-hoyoG6YpbLwHbiRKopbA4L2d2GAq",
   "name": "train_cv.ipynb",
   "provenance": [],
   "toc_visible": true
  },
  "kernelspec": {
   "display_name": "Python 3",
   "language": "python",
   "name": "python3"
  },
  "language_info": {
   "codemirror_mode": {
    "name": "ipython",
    "version": 3
   },
   "file_extension": ".py",
   "mimetype": "text/x-python",
   "name": "python",
   "nbconvert_exporter": "python",
   "pygments_lexer": "ipython3",
   "version": "3.8.8"
  }
 },
 "nbformat": 4,
 "nbformat_minor": 4
}