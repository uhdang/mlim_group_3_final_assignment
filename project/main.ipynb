{
 "cells": [
  {
   "cell_type": "markdown",
   "metadata": {},
   "source": [
    "# Setup"
   ]
  },
  {
   "cell_type": "code",
   "execution_count": 1,
   "metadata": {},
   "outputs": [],
   "source": [
    "import os\n",
    "\n",
    "from Db import DataBase\n",
    "from Category import Category\n",
    "from Feature import Feature\n",
    "\n",
    "import pandas as pd\n",
    "import numpy as np\n",
    "\n",
    "from Trainset import Trainset\n",
    "from Testset import Testset\n",
    "from Trainer import Trainer"
   ]
  },
  {
   "cell_type": "markdown",
   "metadata": {},
   "source": [
    "# Load Data"
   ]
  },
  {
   "cell_type": "code",
   "execution_count": 2,
   "metadata": {},
   "outputs": [],
   "source": [
    "# Load Data\n",
    "file_path = os.getcwd() + \"/../data/\"\n",
    "dbase = DataBase(file_path)"
   ]
  },
  {
   "cell_type": "markdown",
   "metadata": {},
   "source": [
    "# Data Preprocessing"
   ]
  },
  {
   "cell_type": "code",
   "execution_count": 3,
   "metadata": {},
   "outputs": [],
   "source": [
    "baskets_data, coupons_data = dbase.load_basket_coupon_data()"
   ]
  },
  {
   "cell_type": "code",
   "execution_count": 4,
   "metadata": {},
   "outputs": [
    {
     "name": "stderr",
     "output_type": "stream",
     "text": [
      "F:\\OneDrive - HU\\OneDrive - Humboldt-Universitaet zu Berlin, CMS\\Studium\\Machine Learning in Marketing\\mlim_group_3_final_assignment\\mlim_group_3_final_assignment\\project\\Db.py:36: SettingWithCopyWarning: \n",
      "A value is trying to be set on a copy of a slice from a DataFrame.\n",
      "Try using .loc[row_indexer,col_indexer] = value instead\n",
      "\n",
      "See the caveats in the documentation: https://pandas.pydata.org/pandas-docs/stable/user_guide/indexing.html#returning-a-view-versus-a-copy\n",
      "  baskets_train[column] = baskets_train[column].cat.remove_unused_categories()\n",
      "F:\\OneDrive - HU\\OneDrive - Humboldt-Universitaet zu Berlin, CMS\\Studium\\Machine Learning in Marketing\\mlim_group_3_final_assignment\\mlim_group_3_final_assignment\\project\\Db.py:37: SettingWithCopyWarning: \n",
      "A value is trying to be set on a copy of a slice from a DataFrame.\n",
      "Try using .loc[row_indexer,col_indexer] = value instead\n",
      "\n",
      "See the caveats in the documentation: https://pandas.pydata.org/pandas-docs/stable/user_guide/indexing.html#returning-a-view-versus-a-copy\n",
      "  baskets_test[column] = baskets_test[column].cat.remove_unused_categories()\n",
      "F:\\OneDrive - HU\\OneDrive - Humboldt-Universitaet zu Berlin, CMS\\Studium\\Machine Learning in Marketing\\mlim_group_3_final_assignment\\mlim_group_3_final_assignment\\project\\Db.py:38: SettingWithCopyWarning: \n",
      "A value is trying to be set on a copy of a slice from a DataFrame.\n",
      "Try using .loc[row_indexer,col_indexer] = value instead\n",
      "\n",
      "See the caveats in the documentation: https://pandas.pydata.org/pandas-docs/stable/user_guide/indexing.html#returning-a-view-versus-a-copy\n",
      "  coupons_train[column] = coupons_train[column].cat.remove_unused_categories()\n",
      "F:\\OneDrive - HU\\OneDrive - Humboldt-Universitaet zu Berlin, CMS\\Studium\\Machine Learning in Marketing\\mlim_group_3_final_assignment\\mlim_group_3_final_assignment\\project\\Db.py:39: SettingWithCopyWarning: \n",
      "A value is trying to be set on a copy of a slice from a DataFrame.\n",
      "Try using .loc[row_indexer,col_indexer] = value instead\n",
      "\n",
      "See the caveats in the documentation: https://pandas.pydata.org/pandas-docs/stable/user_guide/indexing.html#returning-a-view-versus-a-copy\n",
      "  coupons_test[column] = coupons_test[column].cat.remove_unused_categories()\n"
     ]
    }
   ],
   "source": [
    "# orignal_price\n",
    "original_price = dbase.original_price(baskets_data)\n",
    "\n",
    "# Product Category Table\n",
    "catClass = Category(baskets_data)\n",
    "prods_cat_table = catClass.generate_product_category_table()\n",
    "\n",
    "baskets_train, baskets_test, coupons_train, coupons_test = dbase.split_data(baskets_data, coupons_data)"
   ]
  },
  {
   "cell_type": "code",
   "execution_count": 5,
   "metadata": {},
   "outputs": [],
   "source": [
    "baskets_train, baskets_test, coupons_train, coupons_test = dbase.generate_split_data_with_category(prods_cat_table, baskets_train, baskets_test, coupons_train, coupons_test)"
   ]
  },
  {
   "cell_type": "code",
   "execution_count": 6,
   "metadata": {},
   "outputs": [
    {
     "name": "stdout",
     "output_type": "stream",
     "text": [
      "(250, 2)\n"
     ]
    }
   ],
   "source": [
    "print(prods_cat_table.shape)\n",
    "# prods_cat_table.tail(60)"
   ]
  },
  {
   "cell_type": "code",
   "execution_count": 7,
   "metadata": {},
   "outputs": [
    {
     "name": "stdout",
     "output_type": "stream",
     "text": [
      "   week shopper  product  price  target category\n",
      "0    89       0       67    637       1        8\n",
      "1    89       0       71    629       1       20\n",
      "   week shopper product  discount category\n",
      "0     0       0      35        35        1\n",
      "1     0       0     193        40        4\n",
      "   week shopper  product  discount category\n",
      "0    89       0      131        30        0\n",
      "1    89       0       16        25       16\n"
     ]
    }
   ],
   "source": [
    "print(baskets_test.head(2))\n",
    "print(coupons_train.head(2))\n",
    "print(coupons_test.head(2))"
   ]
  },
  {
   "cell_type": "markdown",
   "metadata": {},
   "source": [
    "# Feature Engineering"
   ]
  },
  {
   "cell_type": "code",
   "execution_count": 8,
   "metadata": {},
   "outputs": [
    {
     "name": "stdout",
     "output_type": "stream",
     "text": [
      "feature engineering begin\n"
     ]
    }
   ],
   "source": [
    "# Define feat\n",
    "print(\"feature engineering begin\")\n",
    "feat = Feature(baskets_train, coupons_train)"
   ]
  },
  {
   "cell_type": "code",
   "execution_count": 9,
   "metadata": {},
   "outputs": [],
   "source": [
    "total_count_of_product = feat.total_count_of_product()\n",
    "reordered_category = (baskets_train.groupby(['shopper']).category.value_counts()>1).astype(int)\n",
    "reordered_product = feat.reordered_product()\n",
    "category_count = feat.category_count()\n",
    "reordered_category = feat.reordered_category()\n",
    "coupon_in_same_category = feat.coupon_in_same_category()\n",
    "average_price_per_shopper = feat.average_price_per_shopper()\n",
    "average_basket_size = feat.average_basket_size()\n",
    "unique_products_per_shopper = feat.unique_products_per_shopper()\n",
    "unique_categories_per_shopper = feat.unique_categories_per_shopper()\n",
    "ratio_of_reordered_products_per_shopper = feat.ratio_of_reordered_products_per_shopper()\n",
    "ratio_of_reordered_categories_per_shopper = feat.ratio_of_reordered_categories_per_shopper()"
   ]
  },
  {
   "cell_type": "code",
   "execution_count": 10,
   "metadata": {},
   "outputs": [],
   "source": [
    "reordered_product = reordered_product.to_frame('reordered_product').reset_index()\n",
    "reordered_category = reordered_category.to_frame('reordered_category').reset_index()\n",
    "unique_products_per_shopper = unique_products_per_shopper.to_frame('unique_products_per_shopper').reset_index()\n",
    "unique_categories_per_shopper = unique_categories_per_shopper.to_frame('unique_categories_per_shopper').reset_index()"
   ]
  },
  {
   "cell_type": "code",
   "execution_count": 11,
   "metadata": {},
   "outputs": [
    {
     "name": "stdout",
     "output_type": "stream",
     "text": [
      "feature engineering finished\n"
     ]
    }
   ],
   "source": [
    "print(\"feature engineering finished\")"
   ]
  },
  {
   "cell_type": "code",
   "execution_count": null,
   "metadata": {},
   "outputs": [],
   "source": []
  },
  {
   "cell_type": "markdown",
   "metadata": {},
   "source": [
    "# Training Set"
   ]
  },
  {
   "cell_type": "code",
   "execution_count": 12,
   "metadata": {},
   "outputs": [],
   "source": [
    "# Train Table\n",
    "train_t = Trainset(baskets_train, coupons_train, original_price)"
   ]
  },
  {
   "cell_type": "code",
   "execution_count": 13,
   "metadata": {},
   "outputs": [],
   "source": [
    "full_df_train = train_t.generate_full_df_train()"
   ]
  },
  {
   "cell_type": "code",
   "execution_count": 14,
   "metadata": {},
   "outputs": [
    {
     "name": "stdout",
     "output_type": "stream",
     "text": [
      "----- featureless training set -----\n",
      "   week shopper product  price  target category  discount coupon\n",
      "0     0       0       0    NaN     NaN       15       NaN    NaN\n",
      "1     0       1       0    NaN     NaN       15       NaN    NaN\n"
     ]
    }
   ],
   "source": [
    "## featureless_training_set\n",
    "num_weeks = 88\n",
    "num_shoppers = 100\n",
    "\n",
    "df1 = pd.DataFrame({'key': np.ones(num_weeks), 'week': list(range(num_weeks))})\n",
    "df2 = pd.DataFrame({'key': np.ones(num_shoppers), 'shopper': list(range(num_shoppers))})\n",
    "df3 = pd.DataFrame({'key': np.ones(250), 'product': list(range(250))})\n",
    "\n",
    "featureless_training_set = (pd\n",
    "    .merge(df1, df2, on='key')\n",
    "    .merge(df3, on='key')\n",
    "    .merge(prods_cat_table, on='product')\n",
    "    .merge(full_df_train, on=['week', 'shopper', 'product', 'category'], how='left')[full_df_train.columns]\n",
    "    )\n",
    "\n",
    "print(\"----- featureless training set -----\")\n",
    "print(featureless_training_set.head(2))"
   ]
  },
  {
   "cell_type": "code",
   "execution_count": 15,
   "metadata": {},
   "outputs": [
    {
     "name": "stdout",
     "output_type": "stream",
     "text": [
      "===== training_set =====\n",
      "   week shopper product  price  target category  discount coupon  \\\n",
      "0     0       0       0  688.0     0.0       15       0.0     No   \n",
      "1     0       1       0  688.0     0.0       15       0.0     No   \n",
      "\n",
      "   original_price  total_count_of_product  reordered_product  category_count  \\\n",
      "0             688                       0                0.0               8   \n",
      "1             688                       6                1.0              28   \n",
      "\n",
      "   reordered_category coupon_in_same_category  average_price_per_shopper  \\\n",
      "0                 1.0                     Yes                 587.203947   \n",
      "1                 1.0                     Yes                 584.065350   \n",
      "\n",
      "   average_basket_size  unique_products_per_shopper  \\\n",
      "0             8.539326                           54   \n",
      "1             7.393258                           71   \n",
      "\n",
      "   unique_categories_per_shopper  weeks_since_prior_product_order  \\\n",
      "0                             24                                1   \n",
      "1                             23                                1   \n",
      "\n",
      "   weeks_since_prior_category_order  \n",
      "0                                 1  \n",
      "1                                 1  \n"
     ]
    }
   ],
   "source": [
    "## Generate training set\n",
    "training_set = train_t.populate_features(\n",
    "    featureless_training_set,\n",
    "    original_price,\n",
    "    total_count_of_product,\n",
    "    reordered_product,\n",
    "    category_count,\n",
    "    reordered_category,\n",
    "    coupon_in_same_category,\n",
    "    average_price_per_shopper,\n",
    "    average_basket_size,\n",
    "    unique_products_per_shopper,\n",
    "    unique_categories_per_shopper\n",
    "#     ratio_of_reordered_products_per_shopper,\n",
    "#     ratio_of_reordered_categories_per_shopper,\n",
    ")\n",
    "print(\"===== training_set =====\")\n",
    "print(training_set.head(2))"
   ]
  },
  {
   "cell_type": "code",
   "execution_count": 16,
   "metadata": {},
   "outputs": [
    {
     "name": "stdout",
     "output_type": "stream",
     "text": [
      "  shopper product  price category  discount coupon  original_price  \\\n",
      "0       0       0  688.0       15       0.0     No             688   \n",
      "1       1       0  688.0       15       0.0     No             688   \n",
      "\n",
      "   total_count_of_product  reordered_product  category_count  \\\n",
      "0                       0                0.0               8   \n",
      "1                       6                1.0              28   \n",
      "\n",
      "   reordered_category coupon_in_same_category  average_price_per_shopper  \\\n",
      "0                 1.0                     Yes                 587.203947   \n",
      "1                 1.0                     Yes                 584.065350   \n",
      "\n",
      "   average_basket_size  unique_products_per_shopper  \\\n",
      "0             8.539326                           54   \n",
      "1             7.393258                           71   \n",
      "\n",
      "   unique_categories_per_shopper  weeks_since_prior_product_order  \\\n",
      "0                             24                                1   \n",
      "1                             23                                1   \n",
      "\n",
      "   weeks_since_prior_category_order  \n",
      "0                                 1  \n",
      "1                                 1  \n",
      "0    0.0\n",
      "1    0.0\n",
      "Name: target, dtype: float64\n"
     ]
    }
   ],
   "source": [
    "# X_train, y_train\n",
    "X_train, y_train = train_t.split_trainingset_to_X_train_and_y_train(training_set)\n",
    "print(X_train.head(2))\n",
    "print(y_train.head(2))"
   ]
  },
  {
   "cell_type": "markdown",
   "metadata": {},
   "source": [
    "# Testing Set"
   ]
  },
  {
   "cell_type": "code",
   "execution_count": 17,
   "metadata": {},
   "outputs": [],
   "source": [
    "# testing table\n",
    "test_t = Testset(baskets_test, coupons_test)"
   ]
  },
  {
   "cell_type": "code",
   "execution_count": 18,
   "metadata": {},
   "outputs": [],
   "source": [
    "# full_df_test\n",
    "full_df_test = test_t.generate_full_df_test()"
   ]
  },
  {
   "cell_type": "code",
   "execution_count": 19,
   "metadata": {},
   "outputs": [],
   "source": [
    "# Generate testing set\n",
    "testing_set = test_t.generate_training_set(\n",
    "    prods_cat_table,\n",
    "    original_price,\n",
    "    total_count_of_product,\n",
    "    reordered_product,\n",
    "    category_count,\n",
    "    reordered_category,\n",
    "    coupon_in_same_category,\n",
    "    average_price_per_shopper,\n",
    "    average_basket_size,\n",
    "    unique_products_per_shopper,\n",
    "    unique_categories_per_shopper,\n",
    "    training_set\n",
    "#     ratio_of_reordered_products_per_shopper,\n",
    "#     ratio_of_reordered_categories_per_shopper,\n",
    ")"
   ]
  },
  {
   "cell_type": "code",
   "execution_count": 20,
   "metadata": {},
   "outputs": [
    {
     "name": "stdout",
     "output_type": "stream",
     "text": [
      "  shopper product  price category  discount coupon  original_price  \\\n",
      "0       0       0  688.0       15       0.0     No             688   \n",
      "1       0       1  560.0       15       0.0     No             560   \n",
      "\n",
      "   total_count_of_product  reordered_product  category_count  \\\n",
      "0                       0                0.0               8   \n",
      "1                       0                0.0               8   \n",
      "\n",
      "   reordered_category coupon_in_same_category  average_price_per_shopper  \\\n",
      "0                 1.0                      No                 587.203947   \n",
      "1                 1.0                      No                 587.203947   \n",
      "\n",
      "   average_basket_size  unique_products_per_shopper  \\\n",
      "0             8.539326                           54   \n",
      "1             8.539326                           54   \n",
      "\n",
      "   unique_categories_per_shopper  weeks_since_prior_product_order  \\\n",
      "0                             24                               89   \n",
      "1                             24                               89   \n",
      "\n",
      "   weeks_since_prior_category_order  \n",
      "0                               458  \n",
      "1                               458  \n",
      "0    0.0\n",
      "1    0.0\n",
      "Name: target, dtype: float64\n"
     ]
    }
   ],
   "source": [
    "X_test, y_test = test_t.split_testingset_to_X_test_and_y_test(testing_set)\n",
    "print(X_test.head(2))\n",
    "print(y_test.head(2))"
   ]
  },
  {
   "cell_type": "markdown",
   "metadata": {},
   "source": [
    "# Trainer"
   ]
  },
  {
   "cell_type": "code",
   "execution_count": 21,
   "metadata": {},
   "outputs": [],
   "source": [
    "trainer = Trainer(X_train, y_train, X_test, y_test)"
   ]
  },
  {
   "cell_type": "code",
   "execution_count": 22,
   "metadata": {},
   "outputs": [
    {
     "name": "stderr",
     "output_type": "stream",
     "text": [
      "E:\\Anaconda3\\lib\\site-packages\\lightgbm\\basic.py:1551: UserWarning: Using categorical_feature in Dataset.\n",
      "  warnings.warn('Using categorical_feature in Dataset.')\n"
     ]
    }
   ],
   "source": [
    "model = trainer.fit_model()"
   ]
  },
  {
   "cell_type": "code",
   "execution_count": null,
   "metadata": {},
   "outputs": [],
   "source": []
  }
 ],
 "metadata": {
  "kernelspec": {
   "display_name": "Python 3",
   "language": "python",
   "name": "python3"
  },
  "language_info": {
   "codemirror_mode": {
    "name": "ipython",
    "version": 3
   },
   "file_extension": ".py",
   "mimetype": "text/x-python",
   "name": "python",
   "nbconvert_exporter": "python",
   "pygments_lexer": "ipython3",
   "version": "3.7.6"
  },
  "toc-autonumbering": true
 },
 "nbformat": 4,
 "nbformat_minor": 4
}
