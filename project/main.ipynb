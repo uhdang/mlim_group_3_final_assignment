{
 "cells": [
  {
   "cell_type": "code",
   "execution_count": 3,
   "metadata": {},
   "outputs": [],
   "source": [
    "from db.Db import DataBase\n",
    "from data_preprocessing.Category import Category\n",
    "from datasets.Trainset import Trainset\n",
    "import os"
   ]
  },
  {
   "cell_type": "code",
   "execution_count": 8,
   "metadata": {},
   "outputs": [],
   "source": [
    "# Load Data\n",
    "file_path = os.getcwd() + \"/../data/\"\n",
    "dbase = DataBase(file_path)"
   ]
  },
  {
   "cell_type": "code",
   "execution_count": 9,
   "metadata": {},
   "outputs": [],
   "source": [
    "# orignal_price\n",
    "original_price = dbase.original_price()\n",
    "\n",
    "# baskets data\n",
    "baskets_data = dbase.load_basket_data()"
   ]
  },
  {
   "cell_type": "code",
   "execution_count": null,
   "metadata": {},
   "outputs": [],
   "source": [
    "# Product Category Table\n",
    "catClass = Category(baskets_data)\n",
    "prods_cat_table = catClass.generate_product_category_table()"
   ]
  },
  {
   "cell_type": "code",
   "execution_count": 10,
   "metadata": {},
   "outputs": [
    {
     "name": "stdout",
     "output_type": "stream",
     "text": [
      "   week shopper product  price  target category\n",
      "0     0       0      71    629       1        0\n",
      "1     0       0      91    605       1       14\n",
      "   week shopper product  price  target category\n",
      "0    89       0      67    637       1       12\n",
      "1    89       0      71    629       1        0\n",
      "   week shopper product  discount category\n",
      "0     0       0      35        35       20\n",
      "1     0       0     193        40       15\n",
      "   week shopper product  discount category\n",
      "0    89       0     131        30        2\n",
      "1    89       0      16        25       23\n"
     ]
    }
   ],
   "source": [
    "# Split Data\n",
    "baskets_train, baskets_test, coupons_train, coupons_test = dbase.generate_split_data_with_category(prods_cat_table)\n",
    "\n",
    "print(baskets_train.head(2))\n",
    "print(baskets_test.head(2))\n",
    "print(coupons_train.head(2))\n",
    "print(coupons_test.head(2))"
   ]
  },
  {
   "cell_type": "code",
   "execution_count": null,
   "metadata": {},
   "outputs": [],
   "source": [
    "# Train Table\n",
    "train_t = Trainset(baskets_train, coupons_train, original_price)\n",
    "X_train, y_train = train_t.split_to_X_train_and_y_train(prods_cat_table)\n",
    "print(X_train.head(2))\n",
    "print(y_train.head(2))"
   ]
  },
  {
   "cell_type": "code",
   "execution_count": null,
   "metadata": {},
   "outputs": [],
   "source": []
  }
 ],
 "metadata": {
  "kernelspec": {
   "display_name": "Python 3",
   "language": "python",
   "name": "python3"
  },
  "language_info": {
   "codemirror_mode": {
    "name": "ipython",
    "version": 3
   },
   "file_extension": ".py",
   "mimetype": "text/x-python",
   "name": "python",
   "nbconvert_exporter": "python",
   "pygments_lexer": "ipython3",
   "version": "3.8.3"
  }
 },
 "nbformat": 4,
 "nbformat_minor": 4
}
